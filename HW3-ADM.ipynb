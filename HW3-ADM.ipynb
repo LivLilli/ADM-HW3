{
 "cells": [
  {
   "cell_type": "code",
   "execution_count": 2,
   "metadata": {},
   "outputs": [
    {
     "name": "stdout",
     "output_type": "stream",
     "text": [
      "[nltk_data] Downloading package stopwords to\n",
      "[nltk_data]     C:\\Users\\GP_HP\\AppData\\Roaming\\nltk_data...\n",
      "[nltk_data]   Package stopwords is already up-to-date!\n",
      "[nltk_data] Downloading package punkt to\n",
      "[nltk_data]     C:\\Users\\GP_HP\\AppData\\Roaming\\nltk_data...\n",
      "[nltk_data]   Package punkt is already up-to-date!\n"
     ]
    },
    {
     "data": {
      "text/plain": [
       "True"
      ]
     },
     "execution_count": 2,
     "metadata": {},
     "output_type": "execute_result"
    }
   ],
   "source": [
    "import pandas\n",
    "import csv\n",
    "from pandas.core.frame import DataFrame\n",
    "from nltk.tokenize import sent_tokenize, word_tokenize\n",
    "from nltk.stem import PorterStemmer\n",
    "from nltk.corpus import stopwords\n",
    "import nltk\n",
    "nltk.download('stopwords')\n",
    "import string\n",
    "import nltk\n",
    "nltk.download('punkt')\n",
    "\n"
   ]
  },
  {
   "cell_type": "code",
   "execution_count": null,
   "metadata": {},
   "outputs": [],
   "source": [
    "rentals_file = pandas.read_csv((\"Airbnb_Texas_Rentals.csv\"), sep =\",\", delimiter= None, header = \"infer\", \n",
    "                               names = None, index_col = None,encoding=\"ISO-8859-1\" , usecols = None)\n",
    "\n",
    "rentals_file.head()"
   ]
  },
  {
   "cell_type": "code",
   "execution_count": 2,
   "metadata": {},
   "outputs": [],
   "source": [
    "#creating tsv files\n",
    "i = 0\n",
    "for r in range(len(rentals_file)):\n",
    "    record = rentals_file.loc[[r]]\n",
    "    name = \"doc_\" + str(i) +\".tsv\"\n",
    "    record.to_csv(path_or_buf = name, sep='\\t')\n",
    "    \n",
    "    i += 1"
   ]
  },
  {
   "cell_type": "code",
   "execution_count": 38,
   "metadata": {},
   "outputs": [],
   "source": [
    "#reading one of these files\n",
    "d = pandas.read_csv((\"doc_0.tsv\"), sep =\"\\t\")"
   ]
  },
  {
   "cell_type": "code",
   "execution_count": 3,
   "metadata": {},
   "outputs": [],
   "source": [
    "#function to read the tsv file\n",
    "def read(file_name):\n",
    "    pandas.read_csv(file_name, sep =\"\\t\", delimiter= None, header = \"infer\", names = None, index_col = None, usecols = None,\n",
    "                       encoding=\"ISO-8859-1\")"
   ]
  },
  {
   "cell_type": "code",
   "execution_count": 4,
   "metadata": {},
   "outputs": [],
   "source": [
    "for i in range(len(rentals_file)):\n",
    "    name = \"doc_\" + str(i) +\".tsv\"\n",
    "    read(name)"
   ]
  },
  {
   "cell_type": "code",
   "execution_count": 39,
   "metadata": {},
   "outputs": [
    {
     "name": "stdout",
     "output_type": "stream",
     "text": [
      "0    2 Private rooms/bathroom 10min from IAH airport\n",
      "Name: title, dtype: object\n",
      "['2', 'Private', 'rooms/bathroom', '10min', 'IAH', 'airport', ':', ',', ':']\n",
      "['2', 'Private', 'rooms/bathroom', '10min', 'IAH', 'airport']\n",
      "0    ['2', 'Private', 'rooms/bathroom', '10min', 'I...\n",
      "Name: title, dtype: object\n"
     ]
    }
   ],
   "source": [
    "from nltk.tokenize import sent_tokenize, word_tokenize\n",
    " \n",
    "print(d['title'])    \n",
    "\n",
    "stopwo = set(stopwords.words('english'))\n",
    "other_stop = set(['0','Name', 'title', 'dtype', 'object'])\n",
    "\n",
    "stop = stopwo.union(other_stop)\n",
    "words = word_tokenize(str(d['title']))\n",
    "wordsFiltered = []\n",
    "\n",
    "for w in words:\n",
    "    if w not in stop:\n",
    "        wordsFiltered.append(w)\n",
    "print(wordsFiltered)\n",
    "\n",
    "no_punct = []\n",
    "punct = set(string.punctuation)\n",
    "for w in wordsFiltered:\n",
    "    if w not in punct:\n",
    "        no_punct.append(w)\n",
    "\n",
    "d['title'] = str(no_punct)\n",
    "\n",
    "print(no_punct)\n",
    "\n",
    "print(d['title'])          \n",
    "    \n"
   ]
  },
  {
   "cell_type": "code",
   "execution_count": 42,
   "metadata": {},
   "outputs": [
    {
     "data": {
      "text/html": [
       "<div>\n",
       "<style scoped>\n",
       "    .dataframe tbody tr th:only-of-type {\n",
       "        vertical-align: middle;\n",
       "    }\n",
       "\n",
       "    .dataframe tbody tr th {\n",
       "        vertical-align: top;\n",
       "    }\n",
       "\n",
       "    .dataframe thead th {\n",
       "        text-align: right;\n",
       "    }\n",
       "</style>\n",
       "<table border=\"1\" class=\"dataframe\">\n",
       "  <thead>\n",
       "    <tr style=\"text-align: right;\">\n",
       "      <th></th>\n",
       "      <th>Unnamed: 0</th>\n",
       "      <th>Unnamed: 0.1</th>\n",
       "      <th>average_rate_per_night</th>\n",
       "      <th>bedrooms_count</th>\n",
       "      <th>city</th>\n",
       "      <th>date_of_listing</th>\n",
       "      <th>description</th>\n",
       "      <th>latitude</th>\n",
       "      <th>longitude</th>\n",
       "      <th>title</th>\n",
       "      <th>url</th>\n",
       "    </tr>\n",
       "  </thead>\n",
       "  <tbody>\n",
       "    <tr>\n",
       "      <th>0</th>\n",
       "      <td>0</td>\n",
       "      <td>1</td>\n",
       "      <td>$27</td>\n",
       "      <td>2</td>\n",
       "      <td>Humble</td>\n",
       "      <td>May 2016</td>\n",
       "      <td>Welcome to stay in private room with queen bed...</td>\n",
       "      <td>30.020138</td>\n",
       "      <td>-95.293996</td>\n",
       "      <td>['2', 'Private', 'rooms/bathroom', '10min', 'I...</td>\n",
       "      <td>https://www.airbnb.com/rooms/18520444?location...</td>\n",
       "    </tr>\n",
       "  </tbody>\n",
       "</table>\n",
       "</div>"
      ],
      "text/plain": [
       "   Unnamed: 0  Unnamed: 0.1 average_rate_per_night  bedrooms_count    city  \\\n",
       "0           0             1                    $27               2  Humble   \n",
       "\n",
       "  date_of_listing                                        description  \\\n",
       "0        May 2016  Welcome to stay in private room with queen bed...   \n",
       "\n",
       "    latitude  longitude                                              title  \\\n",
       "0  30.020138 -95.293996  ['2', 'Private', 'rooms/bathroom', '10min', 'I...   \n",
       "\n",
       "                                                 url  \n",
       "0  https://www.airbnb.com/rooms/18520444?location...  "
      ]
     },
     "execution_count": 42,
     "metadata": {},
     "output_type": "execute_result"
    }
   ],
   "source": [
    "#colnames = list(d.head(0))\n",
    "\n",
    "d.head()\n",
    "\n",
    "\n"
   ]
  }
 ],
 "metadata": {
  "kernelspec": {
   "display_name": "Python 3",
   "language": "python",
   "name": "python3"
  },
  "language_info": {
   "codemirror_mode": {
    "name": "ipython",
    "version": 3
   },
   "file_extension": ".py",
   "mimetype": "text/x-python",
   "name": "python",
   "nbconvert_exporter": "python",
   "pygments_lexer": "ipython3",
   "version": "3.6.4"
  }
 },
 "nbformat": 4,
 "nbformat_minor": 2
}
