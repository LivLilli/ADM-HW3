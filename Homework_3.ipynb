{
 "cells": [
  {
   "cell_type": "markdown",
   "metadata": {},
   "source": [
    "# Homework 3 - Find the perfect place to stay in Texas!"
   ]
  },
  {
   "cell_type": "markdown",
   "metadata": {},
   "source": [
    "## Group 31 :  Livia Lilli, Edoardo Gallo, Amirhossein Rajabi Shizari \n",
    "\n"
   ]
  },
  {
   "cell_type": "markdown",
   "metadata": {},
   "source": [
    "The following are all the libraries that we need. So let's import them!"
   ]
  },
  {
   "cell_type": "code",
   "execution_count": 1,
   "metadata": {},
   "outputs": [
    {
     "name": "stdout",
     "output_type": "stream",
     "text": [
      "[nltk_data] Downloading package stopwords to\n",
      "[nltk_data]     /Users/livialilli/nltk_data...\n",
      "[nltk_data]   Package stopwords is already up-to-date!\n"
     ]
    }
   ],
   "source": [
    "import pandas\n",
    "import csv\n",
    "from pandas.core.frame import DataFrame\n",
    "from nltk.tokenize import sent_tokenize, word_tokenize\n",
    "from nltk.stem import PorterStemmer\n",
    "from nltk.corpus import stopwords\n",
    "import nltk\n",
    "nltk.download('stopwords')\n",
    "import string\n",
    "import numpy as np\n",
    "import math\n",
    "import sklearn\n",
    "from IPython.display import display, HTML\n",
    "from scipy import spatial\n",
    "import json\n",
    "import heapq\n",
    "import folium\n",
    "from geopy import distance"
   ]
  },
  {
   "cell_type": "code",
   "execution_count": 2,
   "metadata": {},
   "outputs": [
    {
     "name": "stdout",
     "output_type": "stream",
     "text": [
      "[nltk_data] Downloading package punkt to\n",
      "[nltk_data]     /Users/livialilli/nltk_data...\n",
      "[nltk_data]   Package punkt is already up-to-date!\n"
     ]
    },
    {
     "data": {
      "text/plain": [
       "True"
      ]
     },
     "execution_count": 2,
     "metadata": {},
     "output_type": "execute_result"
    }
   ],
   "source": [
    "import nltk\n",
    "nltk.download('punkt')"
   ]
  },
  {
   "cell_type": "markdown",
   "metadata": {},
   "source": [
    "# Step 1: Data"
   ]
  },
  {
   "cell_type": "markdown",
   "metadata": {},
   "source": [
    "For this step, we just download the data!"
   ]
  },
  {
   "cell_type": "code",
   "execution_count": 3,
   "metadata": {},
   "outputs": [],
   "source": [
    "rentals_file = pandas.read_csv((\"files/Airbnb_Texas_Rentals.csv\"), sep =\",\", delimiter= None, header = \"infer\", names = None, index_col = None,\n",
    "                       encoding=\"ISO-8859-1\")"
   ]
  },
  {
   "cell_type": "code",
   "execution_count": 4,
   "metadata": {},
   "outputs": [
    {
     "data": {
      "text/html": [
       "<div>\n",
       "<style scoped>\n",
       "    .dataframe tbody tr th:only-of-type {\n",
       "        vertical-align: middle;\n",
       "    }\n",
       "\n",
       "    .dataframe tbody tr th {\n",
       "        vertical-align: top;\n",
       "    }\n",
       "\n",
       "    .dataframe thead th {\n",
       "        text-align: right;\n",
       "    }\n",
       "</style>\n",
       "<table border=\"1\" class=\"dataframe\">\n",
       "  <thead>\n",
       "    <tr style=\"text-align: right;\">\n",
       "      <th></th>\n",
       "      <th>Unnamed: 0</th>\n",
       "      <th>average_rate_per_night</th>\n",
       "      <th>bedrooms_count</th>\n",
       "      <th>city</th>\n",
       "      <th>date_of_listing</th>\n",
       "      <th>description</th>\n",
       "      <th>latitude</th>\n",
       "      <th>longitude</th>\n",
       "      <th>title</th>\n",
       "      <th>url</th>\n",
       "    </tr>\n",
       "  </thead>\n",
       "  <tbody>\n",
       "    <tr>\n",
       "      <th>0</th>\n",
       "      <td>1</td>\n",
       "      <td>$27</td>\n",
       "      <td>2</td>\n",
       "      <td>Humble</td>\n",
       "      <td>May 2016</td>\n",
       "      <td>Welcome to stay in private room with queen bed...</td>\n",
       "      <td>30.020138</td>\n",
       "      <td>-95.293996</td>\n",
       "      <td>2 Private rooms/bathroom 10min from IAH airport</td>\n",
       "      <td>https://www.airbnb.com/rooms/18520444?location...</td>\n",
       "    </tr>\n",
       "    <tr>\n",
       "      <th>1</th>\n",
       "      <td>2</td>\n",
       "      <td>$149</td>\n",
       "      <td>4</td>\n",
       "      <td>San Antonio</td>\n",
       "      <td>November 2010</td>\n",
       "      <td>Stylish, fully remodeled home in upscale NW â...</td>\n",
       "      <td>29.503068</td>\n",
       "      <td>-98.447688</td>\n",
       "      <td>Unique Location! Alamo Heights - Designer Insp...</td>\n",
       "      <td>https://www.airbnb.com/rooms/17481455?location...</td>\n",
       "    </tr>\n",
       "    <tr>\n",
       "      <th>2</th>\n",
       "      <td>3</td>\n",
       "      <td>$59</td>\n",
       "      <td>1</td>\n",
       "      <td>Houston</td>\n",
       "      <td>January 2017</td>\n",
       "      <td>'River house on island close to the city' \\nA ...</td>\n",
       "      <td>29.829352</td>\n",
       "      <td>-95.081549</td>\n",
       "      <td>River house near the city</td>\n",
       "      <td>https://www.airbnb.com/rooms/16926307?location...</td>\n",
       "    </tr>\n",
       "  </tbody>\n",
       "</table>\n",
       "</div>"
      ],
      "text/plain": [
       "   Unnamed: 0 average_rate_per_night bedrooms_count         city  \\\n",
       "0           1                    $27              2       Humble   \n",
       "1           2                   $149              4  San Antonio   \n",
       "2           3                    $59              1      Houston   \n",
       "\n",
       "  date_of_listing                                        description  \\\n",
       "0        May 2016  Welcome to stay in private room with queen bed...   \n",
       "1   November 2010  Stylish, fully remodeled home in upscale NW â...   \n",
       "2    January 2017  'River house on island close to the city' \\nA ...   \n",
       "\n",
       "    latitude  longitude                                              title  \\\n",
       "0  30.020138 -95.293996    2 Private rooms/bathroom 10min from IAH airport   \n",
       "1  29.503068 -98.447688  Unique Location! Alamo Heights - Designer Insp...   \n",
       "2  29.829352 -95.081549                          River house near the city   \n",
       "\n",
       "                                                 url  \n",
       "0  https://www.airbnb.com/rooms/18520444?location...  \n",
       "1  https://www.airbnb.com/rooms/17481455?location...  \n",
       "2  https://www.airbnb.com/rooms/16926307?location...  "
      ]
     },
     "execution_count": 4,
     "metadata": {},
     "output_type": "execute_result"
    }
   ],
   "source": [
    "rentals_file.head(3)"
   ]
  },
  {
   "cell_type": "markdown",
   "metadata": {},
   "source": [
    "# Step 2: Create documents"
   ]
  },
  {
   "cell_type": "markdown",
   "metadata": {},
   "source": [
    "We create a .tsv file for each record of the dataset.\n",
    "\n",
    "Then we store the documents in a directory with inside one file per house review. You should name each file as <b><i>doc_i.tsv</i></b> where <b>i</b> is the dataframe index the document."
   ]
  },
  {
   "cell_type": "code",
   "execution_count": 5,
   "metadata": {
    "collapsed": true
   },
   "outputs": [
    {
     "ename": "KeyboardInterrupt",
     "evalue": "",
     "output_type": "error",
     "traceback": [
      "\u001b[0;31m---------------------------------------------------------------------------\u001b[0m",
      "\u001b[0;31mKeyboardInterrupt\u001b[0m                         Traceback (most recent call last)",
      "\u001b[0;32m<ipython-input-5-89cdb20c78ae>\u001b[0m in \u001b[0;36m<module>\u001b[0;34m()\u001b[0m\n\u001b[1;32m      4\u001b[0m     \u001b[0mrecord\u001b[0m \u001b[0;34m=\u001b[0m \u001b[0mrentals_file\u001b[0m\u001b[0;34m.\u001b[0m\u001b[0mloc\u001b[0m\u001b[0;34m[\u001b[0m\u001b[0;34m[\u001b[0m\u001b[0mr\u001b[0m\u001b[0;34m]\u001b[0m\u001b[0;34m]\u001b[0m\u001b[0;34m\u001b[0m\u001b[0m\n\u001b[1;32m      5\u001b[0m     \u001b[0mname\u001b[0m \u001b[0;34m=\u001b[0m \u001b[0;34m\"doc_\"\u001b[0m \u001b[0;34m+\u001b[0m \u001b[0mstr\u001b[0m\u001b[0;34m(\u001b[0m\u001b[0mi\u001b[0m\u001b[0;34m)\u001b[0m \u001b[0;34m+\u001b[0m\u001b[0;34m\".tsv\"\u001b[0m\u001b[0;34m\u001b[0m\u001b[0m\n\u001b[0;32m----> 6\u001b[0;31m     \u001b[0mrecord\u001b[0m\u001b[0;34m.\u001b[0m\u001b[0mto_csv\u001b[0m\u001b[0;34m(\u001b[0m\u001b[0mpath_or_buf\u001b[0m \u001b[0;34m=\u001b[0m \u001b[0mname\u001b[0m\u001b[0;34m,\u001b[0m \u001b[0msep\u001b[0m\u001b[0;34m=\u001b[0m\u001b[0;34m'\\t'\u001b[0m\u001b[0;34m)\u001b[0m\u001b[0;34m\u001b[0m\u001b[0m\n\u001b[0m\u001b[1;32m      7\u001b[0m \u001b[0;34m\u001b[0m\u001b[0m\n\u001b[1;32m      8\u001b[0m     \u001b[0mi\u001b[0m \u001b[0;34m+=\u001b[0m \u001b[0;36m1\u001b[0m\u001b[0;34m\u001b[0m\u001b[0m\n",
      "\u001b[0;32m/anaconda3/lib/python3.6/site-packages/pandas/core/frame.py\u001b[0m in \u001b[0;36mto_csv\u001b[0;34m(self, path_or_buf, sep, na_rep, float_format, columns, header, index, index_label, mode, encoding, compression, quoting, quotechar, line_terminator, chunksize, tupleize_cols, date_format, doublequote, escapechar, decimal)\u001b[0m\n\u001b[1;32m   1743\u001b[0m                                  \u001b[0mdoublequote\u001b[0m\u001b[0;34m=\u001b[0m\u001b[0mdoublequote\u001b[0m\u001b[0;34m,\u001b[0m\u001b[0;34m\u001b[0m\u001b[0m\n\u001b[1;32m   1744\u001b[0m                                  escapechar=escapechar, decimal=decimal)\n\u001b[0;32m-> 1745\u001b[0;31m         \u001b[0mformatter\u001b[0m\u001b[0;34m.\u001b[0m\u001b[0msave\u001b[0m\u001b[0;34m(\u001b[0m\u001b[0;34m)\u001b[0m\u001b[0;34m\u001b[0m\u001b[0m\n\u001b[0m\u001b[1;32m   1746\u001b[0m \u001b[0;34m\u001b[0m\u001b[0m\n\u001b[1;32m   1747\u001b[0m         \u001b[0;32mif\u001b[0m \u001b[0mpath_or_buf\u001b[0m \u001b[0;32mis\u001b[0m \u001b[0;32mNone\u001b[0m\u001b[0;34m:\u001b[0m\u001b[0;34m\u001b[0m\u001b[0m\n",
      "\u001b[0;32m/anaconda3/lib/python3.6/site-packages/pandas/io/formats/csvs.py\u001b[0m in \u001b[0;36msave\u001b[0;34m(self)\u001b[0m\n\u001b[1;32m    134\u001b[0m             f, handles = _get_handle(self.path_or_buf, self.mode,\n\u001b[1;32m    135\u001b[0m                                      \u001b[0mencoding\u001b[0m\u001b[0;34m=\u001b[0m\u001b[0mencoding\u001b[0m\u001b[0;34m,\u001b[0m\u001b[0;34m\u001b[0m\u001b[0m\n\u001b[0;32m--> 136\u001b[0;31m                                      compression=None)\n\u001b[0m\u001b[1;32m    137\u001b[0m             \u001b[0mclose\u001b[0m \u001b[0;34m=\u001b[0m \u001b[0;32mTrue\u001b[0m \u001b[0;32mif\u001b[0m \u001b[0mself\u001b[0m\u001b[0;34m.\u001b[0m\u001b[0mcompression\u001b[0m \u001b[0;32mis\u001b[0m \u001b[0;32mNone\u001b[0m \u001b[0;32melse\u001b[0m \u001b[0;32mFalse\u001b[0m\u001b[0;34m\u001b[0m\u001b[0m\n\u001b[1;32m    138\u001b[0m \u001b[0;34m\u001b[0m\u001b[0m\n",
      "\u001b[0;32m/anaconda3/lib/python3.6/site-packages/pandas/io/common.py\u001b[0m in \u001b[0;36m_get_handle\u001b[0;34m(path_or_buf, mode, encoding, compression, memory_map, is_text)\u001b[0m\n\u001b[1;32m    324\u001b[0m     \"\"\"\n\u001b[1;32m    325\u001b[0m     \u001b[0;32mtry\u001b[0m\u001b[0;34m:\u001b[0m\u001b[0;34m\u001b[0m\u001b[0m\n\u001b[0;32m--> 326\u001b[0;31m         \u001b[0;32mfrom\u001b[0m \u001b[0ms3fs\u001b[0m \u001b[0;32mimport\u001b[0m \u001b[0mS3File\u001b[0m\u001b[0;34m\u001b[0m\u001b[0m\n\u001b[0m\u001b[1;32m    327\u001b[0m         \u001b[0mneed_text_wrapping\u001b[0m \u001b[0;34m=\u001b[0m \u001b[0;34m(\u001b[0m\u001b[0mBytesIO\u001b[0m\u001b[0;34m,\u001b[0m \u001b[0mS3File\u001b[0m\u001b[0;34m)\u001b[0m\u001b[0;34m\u001b[0m\u001b[0m\n\u001b[1;32m    328\u001b[0m     \u001b[0;32mexcept\u001b[0m \u001b[0mImportError\u001b[0m\u001b[0;34m:\u001b[0m\u001b[0;34m\u001b[0m\u001b[0m\n",
      "\u001b[0;32m/anaconda3/lib/python3.6/importlib/_bootstrap.py\u001b[0m in \u001b[0;36m_find_and_load\u001b[0;34m(name, import_)\u001b[0m\n",
      "\u001b[0;32m/anaconda3/lib/python3.6/importlib/_bootstrap.py\u001b[0m in \u001b[0;36m_find_and_load_unlocked\u001b[0;34m(name, import_)\u001b[0m\n",
      "\u001b[0;32m/anaconda3/lib/python3.6/importlib/_bootstrap.py\u001b[0m in \u001b[0;36m_find_spec\u001b[0;34m(name, path, target)\u001b[0m\n",
      "\u001b[0;32m/anaconda3/lib/python3.6/importlib/_bootstrap_external.py\u001b[0m in \u001b[0;36mfind_spec\u001b[0;34m(cls, fullname, path, target)\u001b[0m\n",
      "\u001b[0;32m/anaconda3/lib/python3.6/importlib/_bootstrap_external.py\u001b[0m in \u001b[0;36m_get_spec\u001b[0;34m(cls, fullname, path, target)\u001b[0m\n",
      "\u001b[0;32m/anaconda3/lib/python3.6/importlib/_bootstrap_external.py\u001b[0m in \u001b[0;36mfind_spec\u001b[0;34m(self, fullname, target)\u001b[0m\n",
      "\u001b[0;32m/anaconda3/lib/python3.6/importlib/_bootstrap_external.py\u001b[0m in \u001b[0;36m_fill_cache\u001b[0;34m(self)\u001b[0m\n",
      "\u001b[0;32m/anaconda3/lib/python3.6/importlib/_bootstrap_external.py\u001b[0m in \u001b[0;36m<setcomp>\u001b[0;34m(.0)\u001b[0m\n",
      "\u001b[0;31mKeyboardInterrupt\u001b[0m: "
     ]
    }
   ],
   "source": [
    "#creating tsv files\n",
    "i = 0\n",
    "for r in range(len(rentals_file)):\n",
    "    record = rentals_file.loc[[r]]\n",
    "    name = \"files/doc_\" + str(i) +\".tsv\"\n",
    "    record.to_csv(path_or_buf = name, sep='\\t')\n",
    "    \n",
    "    i += 1\n",
    "    "
   ]
  },
  {
   "cell_type": "markdown",
   "metadata": {},
   "source": [
    "We create a function to read the tsv file: it will be really usefull in future, so that we won't have to write everytime the same code.\n"
   ]
  },
  {
   "cell_type": "code",
   "execution_count": 5,
   "metadata": {},
   "outputs": [],
   "source": [
    "#function to read the tsv file\n",
    "def read(file_name):\n",
    "    read_file = pandas.read_csv(file_name, sep =\"\\t\", delimiter= None, header = \"infer\", names = None, index_col = None, usecols = None,\n",
    "                       encoding=\"ISO-8859-1\")\n",
    "    return read_file\n",
    "    "
   ]
  },
  {
   "cell_type": "code",
   "execution_count": 6,
   "metadata": {},
   "outputs": [],
   "source": [
    "col_names = [\"average_rate_per_night\",\"bedrooms_count\", \"city\", \"date_of_listing\", \"description\", \"latitude\", \"longitude\",\"title\",\"url\"]"
   ]
  },
  {
   "cell_type": "markdown",
   "metadata": {},
   "source": [
    "# Step 3: Search Engine"
   ]
  },
  {
   "cell_type": "markdown",
   "metadata": {},
   "source": [
    "## Preprocessing"
   ]
  },
  {
   "cell_type": "markdown",
   "metadata": {},
   "source": [
    "Now, we want to create two different Search Engines that, given as input a <b>query</b>, return the houses that match the query.\n",
    "\n",
    "As a first common step, we must <b>preprocess</b> the documents by\n",
    "\n",
    "* Removing stopwords\n",
    "* Removing punctuation\n",
    "* Stemming\n",
    "* Anything else we think it's needed\n",
    "\n",
    "So, we create our functions:\n",
    "\n",
    "#### stopWords\n",
    "\n",
    "This function takes as input a dataframe column and returns a list with all the words not contained in the stopwords set.\n",
    "\n",
    "#### punctuation\n",
    "\n",
    "This function takes as input a list (we suppose is the list returned by the stopWords function) and it returns another list with just the elements of the input which are not in the punctuation set.\n",
    "\n",
    "#### stemming\n",
    "\n",
    "This function has got as input a list (we suppose is the list returned by the stopWords function) and it returns an other list with all the words where the <i>stemming</i> was applied.\n",
    "\n",
    "#### all_col\n",
    "\n",
    "Finally there is this function that applies all the preproccessing functions. It infact takes as input a read file and for every column of the file it applies all the precedent functions. \n",
    "\n",
    "But pay attention! As we can see from the read file, there are many new line characters \"\\n\" which, maybe for a mistake, have been written attached to other words, so that the the punctuation function could not find them. \n",
    "For this reason we have to remove them before that it's too late! We do this with a easy replace string method.\n",
    "\n",
    "The all_col function returnes a dictionary where, for every column name (key), we have all the correspondent cleaned text in form of a list.\n"
   ]
  },
  {
   "cell_type": "code",
   "execution_count": 7,
   "metadata": {},
   "outputs": [],
   "source": [
    "def stopWords(column_file):\n",
    "    \n",
    "    stopWords = set(stopwords.words('english'))\n",
    "    words = word_tokenize(str(column_file))\n",
    "    wordsFiltered = []\n",
    "\n",
    "    for w in words:\n",
    "        if w not in stopWords:\n",
    "            wordsFiltered.append(w)\n",
    "    return wordsFiltered\n",
    "    "
   ]
  },
  {
   "cell_type": "code",
   "execution_count": 8,
   "metadata": {},
   "outputs": [],
   "source": [
    "def punctuation(list):\n",
    "    exclude = set(string.punctuation)\n",
    "    for el in list:\n",
    "        if el in exclude:\n",
    "            list.remove(el)\n",
    "    return list"
   ]
  },
  {
   "cell_type": "code",
   "execution_count": 9,
   "metadata": {},
   "outputs": [],
   "source": [
    "def stemming(list):\n",
    "    ps = PorterStemmer()\n",
    "    output = []\n",
    "    for word in list:\n",
    "        stem_word = ps.stem(word)\n",
    "        output.append(stem_word)\n",
    "    return output\n",
    "#it returns a list (of the current column) with all the stem-words\n"
   ]
  },
  {
   "cell_type": "code",
   "execution_count": 10,
   "metadata": {},
   "outputs": [],
   "source": [
    "#On ALL the COLUMNS\n",
    "#applyng stopWords,punctuation and stemming functions for every column of the dataframe\n",
    "#it returns a dictionary, where keys are the columns names, and for every key there is the list of cleaned words.\n",
    "def all_col(read_file):\n",
    "    dic = {}\n",
    "    for name in col_names:\n",
    "        s = str(read_file[name][0]).replace(\"\\\\n\", \" \")\n",
    "        l = stopWords(s)\n",
    "        l = punctuation(l)\n",
    "        result = stemming(l)\n",
    "        dic[name] = result\n",
    "        #print(result)\n",
    "    return dic"
   ]
  },
  {
   "cell_type": "markdown",
   "metadata": {},
   "source": [
    "## 3.1 Conjunctive query"
   ]
  },
  {
   "cell_type": "markdown",
   "metadata": {},
   "source": [
    "At this moment, we narrow out interest on the <b>description</b> and <b>title</b> of each document. \n",
    "\n",
    "It means that the first <b>Search Engine</b> will evaluate queries with respect to the aforementioned information.\n",
    "\n",
    "For this reason we create a function to filter, everytime we need, the columns we need. In particular it takes as input a dictionary (we suppose that it is the one returned by the <b>all_col</b> function) and it returns an other one with just the keys we need (description and title). "
   ]
  },
  {
   "cell_type": "code",
   "execution_count": 11,
   "metadata": {},
   "outputs": [],
   "source": [
    "#we have to consider just description and title columns\n",
    "\n",
    "\n",
    "def filter_keys(dictionary):\n",
    "    keys = [\"description\", \"title\"]\n",
    "    return {x: dictionary[x] for x in dictionary if x in keys}\n",
    "\n"
   ]
  },
  {
   "cell_type": "markdown",
   "metadata": {},
   "source": [
    "### 3.1.1 Create your index"
   ]
  },
  {
   "cell_type": "markdown",
   "metadata": {},
   "source": [
    "We create some dictionaries that will be usefull to our <b>Search Engine</b>.\n",
    "\n",
    "#### vocabulary\n",
    "\n",
    "For our goal we decide to create a dictionary called <b> vocabulary</b> where for each word, is given a list of all documents that contain that word.\n",
    "\n",
    "Because of the long processing time, we save it on a json file, so that in the future we can just open the file without running the code again.\n",
    "\n",
    "#### indexing\n",
    "\n",
    "Then we create another dictionary. At this time we have as keys the words and as values an <b>ID term</b>, assigned to each word.\n",
    "\n",
    "#### file_voc\n",
    "\n",
    "We also have the inverse: this dictionary contains infact the Id terms as keys, and the correspondent words as values.\n",
    "\n"
   ]
  },
  {
   "cell_type": "code",
   "execution_count": 11,
   "metadata": {},
   "outputs": [],
   "source": [
    "#in future we can move this two blocks of code in an othe file, and upload them when we need\n",
    "#for now, for convention we leave them here"
   ]
  },
  {
   "cell_type": "code",
   "execution_count": 12,
   "metadata": {},
   "outputs": [],
   "source": [
    "#for every tsv file, I apply the preprocess, I filter the columns that I need, and then I build the vocabulary\n",
    "vocabulary = {}\n",
    "for i in range(len(rentals_file)):\n",
    "    name = \"files/doc_\" + str(i) +\".tsv\"\n",
    "    df = read(name)\n",
    "    clean_d = all_col(df)\n",
    "    filtered_d = filter_keys(clean_d)\n",
    "    values = filtered_d.values()\n",
    "    for l in values:\n",
    "        for el in l:\n",
    "            if el not in vocabulary.keys():\n",
    "                vocabulary[el] = [name]\n",
    "            else:\n",
    "                vocabulary[el].append(name)\n",
    "    \n",
    "    \n",
    "#it has got as keys the words, as values all the docs where words are in \n",
    "    "
   ]
  },
  {
   "cell_type": "code",
   "execution_count": 13,
   "metadata": {},
   "outputs": [],
   "source": [
    "jv = json.dumps(vocabulary)\n",
    "f0 = open(\"myVoc.json\",\"w\")\n",
    "f0.write(jv)\n",
    "f0.close()"
   ]
  },
  {
   "cell_type": "code",
   "execution_count": 12,
   "metadata": {},
   "outputs": [],
   "source": [
    "with open(\"myVoc.json\") as f0:\n",
    "    vocabulary = json.load(f0)"
   ]
  },
  {
   "cell_type": "code",
   "execution_count": 13,
   "metadata": {},
   "outputs": [],
   "source": [
    "#index assignment\n",
    "#for every key-word, we have the index\n",
    "keys = vocabulary.keys()\n",
    "list_keys = list(keys)\n",
    "indexing = {}\n",
    "for i in range(len(list_keys)):\n",
    "    term = \"term_id_\" + str(i)\n",
    "    \n",
    "    indexing[list_keys[i]] = term"
   ]
  },
  {
   "cell_type": "code",
   "execution_count": 14,
   "metadata": {},
   "outputs": [],
   "source": [
    "file_voc = {}\n",
    "\n",
    "for i in range(len(list_keys)):\n",
    "    term = \"term_id_\" + str(i)\n",
    "    \n",
    "    file_voc[term] = list_keys[i]\n",
    "\n",
    "#it has as keys the id terms, as values, the corrispondent words"
   ]
  },
  {
   "cell_type": "code",
   "execution_count": 15,
   "metadata": {},
   "outputs": [],
   "source": [
    "file_voc_keys = list(file_voc.keys())"
   ]
  },
  {
   "cell_type": "markdown",
   "metadata": {},
   "source": [
    "#### Inverted Index"
   ]
  },
  {
   "cell_type": "markdown",
   "metadata": {},
   "source": [
    "... But the most important dictionary we need is the <i>Inverted Index</i>.\n",
    "\n",
    " It will be a dictionary of this format:\n",
    "\n",
    "`{term_id_1:[document_1, document_2, document_4], term_id_2:[document_1, document_3, document_5, document_6], ...}`\n",
    "\n",
    "Also in this case we need to save the dictionary on a json file to avoid to run always this part of code, that takes long time.\n"
   ]
  },
  {
   "cell_type": "code",
   "execution_count": 18,
   "metadata": {},
   "outputs": [],
   "source": [
    "#SAVE ON OTHER FILE\n",
    "#this has as keys the term id, as values the docs where id's word is in\n",
    "inv_index = {}\n",
    "for i in range(len(file_voc_keys)):\n",
    "    new_key = file_voc_keys[i]\n",
    "    old_key = file_voc[new_key]\n",
    "    inv_index[new_key] = vocabulary[old_key]"
   ]
  },
  {
   "cell_type": "code",
   "execution_count": 19,
   "metadata": {},
   "outputs": [],
   "source": [
    "j = json.dumps(inv_index)\n",
    "f = open(\"vocabulary.json\",\"w\")\n",
    "f.write(j)\n",
    "f.close()"
   ]
  },
  {
   "cell_type": "code",
   "execution_count": 16,
   "metadata": {},
   "outputs": [],
   "source": [
    "with open(\"vocabulary.json\") as fh:\n",
    "    inv_index = json.load(fh)"
   ]
  },
  {
   "cell_type": "markdown",
   "metadata": {},
   "source": [
    "### 3.1.2 Execute the query"
   ]
  },
  {
   "cell_type": "markdown",
   "metadata": {},
   "source": [
    "Given a query, that we let the user enter, the Search Engine is supposed to return a list of documents.\n",
    "\n",
    "<b> What documents do we want?</b>\n",
    "\n",
    "Since we are dealing with <b>conjunctive queries (AND)</b>, each of the returned documents should contain <b>all the words in the query</b>.\n",
    "\n",
    "The final output of the query must return, if present, the following information for each of the selected documents:\n",
    "\n",
    "* Title\n",
    "* Description\n",
    "* City\n",
    "* Url\n",
    "\n",
    "\n",
    "So, to make our Search Query, we le the user enter a query. Our first goal is to \"clean\" it with preprocessing.\n",
    "\n",
    "The second goal is to be sure that all the words of the (preprocessed) query are contained in our vocabulary. Infact if a word is not in our vocabulary, it means that there can be documents that contain <b>all</b> the words of the query! \n",
    "\n",
    "Then we create a dictionary called <b>docs_query</b> where for every word (considered with its ID term), it gives a list of all the docs which contain it.\n",
    "So making an <b>intersection</b> of all these lists of documents, we find the ones in common among all the query's words.\n",
    "\n",
    "What does it mean?\n",
    "\n",
    "The result of the intersection is a set with all the documents that contains <b>ALL</b> the words of the query.\n",
    "The very last goal is to display the files returned by the search engine, with just the columns required above.\n"
   ]
  },
  {
   "cell_type": "code",
   "execution_count": 17,
   "metadata": {},
   "outputs": [],
   "source": [
    "def user_query():\n",
    "    query = input()\n",
    "    query = stopWords(query)\n",
    "    query = punctuation(query)\n",
    "    query = stemming(query)\n",
    "    return query"
   ]
  },
  {
   "cell_type": "code",
   "execution_count": 24,
   "metadata": {},
   "outputs": [
    {
     "name": "stdout",
     "output_type": "stream",
     "text": [
      "with garden and near to the airport\n",
      "['garden', 'near', 'airport']\n"
     ]
    }
   ],
   "source": [
    "query = user_query()\n",
    "\n",
    "f = True\n",
    "count = 0\n",
    "while f:\n",
    "    for word in query:\n",
    "        if word not in vocabulary.keys():\n",
    "            count = count\n",
    "            query = user_query()\n",
    "        else:\n",
    "            count += 1\n",
    "        \n",
    "    if count == len(query):\n",
    "        f = False\n",
    "        \n",
    " \n",
    "\n",
    "print(query)"
   ]
  },
  {
   "cell_type": "code",
   "execution_count": 25,
   "metadata": {},
   "outputs": [],
   "source": [
    "docs_query = {}\n",
    "for word in query:\n",
    "    index = indexing[word]\n",
    "    docs_query[index] = inv_index[index]\n",
    "    \n",
    "    "
   ]
  },
  {
   "cell_type": "code",
   "execution_count": 26,
   "metadata": {},
   "outputs": [],
   "source": [
    "v = docs_query.values()"
   ]
  },
  {
   "cell_type": "code",
   "execution_count": 27,
   "metadata": {},
   "outputs": [],
   "source": [
    "v = list(v)"
   ]
  },
  {
   "cell_type": "code",
   "execution_count": 28,
   "metadata": {},
   "outputs": [],
   "source": [
    "intersection = set(v[0]).intersection(*v)"
   ]
  },
  {
   "cell_type": "code",
   "execution_count": 29,
   "metadata": {},
   "outputs": [
    {
     "data": {
      "text/html": [
       "<style  type=\"text/css\" >\n",
       "</style>  \n",
       "<table id=\"T_2f9f2bba_f011_11e8_9ecc_4e00dd994601\" > \n",
       "<thead>    <tr> \n",
       "        <th class=\"blank level0\" ></th> \n",
       "        <th class=\"col_heading level0 col0\" >title</th> \n",
       "        <th class=\"col_heading level0 col1\" >description</th> \n",
       "        <th class=\"col_heading level0 col2\" >city</th> \n",
       "        <th class=\"col_heading level0 col3\" >url</th> \n",
       "    </tr></thead> \n",
       "<tbody>    <tr> \n",
       "        <th id=\"T_2f9f2bba_f011_11e8_9ecc_4e00dd994601level0_row0\" class=\"row_heading level0 row0\" >0</th> \n",
       "        <td id=\"T_2f9f2bba_f011_11e8_9ecc_4e00dd994601row0_col0\" class=\"data row0 col0\" >Peaceful garage apt. close in!</td> \n",
       "        <td id=\"T_2f9f2bba_f011_11e8_9ecc_4e00dd994601row0_col1\" class=\"data row0 col1\" >Quiet street, neat neighborhood near bus/train service to downtown, hospitals, conventions, sports. Equidistant to both airports. \\nView onto tranquil garden area. Full kitchen and basic cable.\\n\\nThe light rail is 1/2 block from the apartment, 3 minute walk. \\n We are at the LINDALE PARK stop.\\nSee this link for a map of the lines, present and proposed: \\n</td> \n",
       "        <td id=\"T_2f9f2bba_f011_11e8_9ecc_4e00dd994601row0_col2\" class=\"data row0 col2\" >Houston</td> \n",
       "        <td id=\"T_2f9f2bba_f011_11e8_9ecc_4e00dd994601row0_col3\" class=\"data row0 col3\" >https://www.airbnb.com/rooms/5781472?location=Atascocita%2C%20TX</td> \n",
       "    </tr></tbody> \n",
       "</table> "
      ],
      "text/plain": [
       "<pandas.io.formats.style.Styler at 0x1a2254e8d0>"
      ]
     },
     "metadata": {},
     "output_type": "display_data"
    },
    {
     "data": {
      "text/html": [
       "<style  type=\"text/css\" >\n",
       "</style>  \n",
       "<table id=\"T_2fa57c22_f011_11e8_a75d_4e00dd994601\" > \n",
       "<thead>    <tr> \n",
       "        <th class=\"blank level0\" ></th> \n",
       "        <th class=\"col_heading level0 col0\" >title</th> \n",
       "        <th class=\"col_heading level0 col1\" >description</th> \n",
       "        <th class=\"col_heading level0 col2\" >city</th> \n",
       "        <th class=\"col_heading level0 col3\" >url</th> \n",
       "    </tr></thead> \n",
       "<tbody>    <tr> \n",
       "        <th id=\"T_2fa57c22_f011_11e8_a75d_4e00dd994601level0_row0\" class=\"row_heading level0 row0\" >0</th> \n",
       "        <td id=\"T_2fa57c22_f011_11e8_a75d_4e00dd994601row0_col0\" class=\"data row0 col0\" >Family Home near Austin Airport</td> \n",
       "        <td id=\"T_2fa57c22_f011_11e8_a75d_4e00dd994601row0_col1\" class=\"data row0 col1\" >Spacious home with wood floors, and fire place. Kitchen has full available appliances and living area has recliner, LED TV, local channels, &amp; Wifi all over the house. Master bedroom has King size bed, double sink, separate shower and a garden tub.</td> \n",
       "        <td id=\"T_2fa57c22_f011_11e8_a75d_4e00dd994601row0_col2\" class=\"data row0 col2\" >Austin</td> \n",
       "        <td id=\"T_2fa57c22_f011_11e8_a75d_4e00dd994601row0_col3\" class=\"data row0 col3\" >https://www.airbnb.com/rooms/8191636?location=Cedar%20Creek%2C%20TX</td> \n",
       "    </tr></tbody> \n",
       "</table> "
      ],
      "text/plain": [
       "<pandas.io.formats.style.Styler at 0x1a22c35940>"
      ]
     },
     "metadata": {},
     "output_type": "display_data"
    },
    {
     "data": {
      "text/html": [
       "<style  type=\"text/css\" >\n",
       "</style>  \n",
       "<table id=\"T_2fa6622c_f011_11e8_b972_4e00dd994601\" > \n",
       "<thead>    <tr> \n",
       "        <th class=\"blank level0\" ></th> \n",
       "        <th class=\"col_heading level0 col0\" >title</th> \n",
       "        <th class=\"col_heading level0 col1\" >description</th> \n",
       "        <th class=\"col_heading level0 col2\" >city</th> \n",
       "        <th class=\"col_heading level0 col3\" >url</th> \n",
       "    </tr></thead> \n",
       "<tbody>    <tr> \n",
       "        <th id=\"T_2fa6622c_f011_11e8_b972_4e00dd994601level0_row0\" class=\"row_heading level0 row0\" >0</th> \n",
       "        <td id=\"T_2fa6622c_f011_11e8_b972_4e00dd994601row0_col0\" class=\"data row0 col0\" >1000 sq ft 1bed 1ba near DFW airport/Six Flags</td> \n",
       "        <td id=\"T_2fa6622c_f011_11e8_b972_4e00dd994601row0_col1\" class=\"data row0 col1\" >Depending on your type of stay, I can accommodate for what you are needing. Its on the third floor with only stair access, garden tub, and upgraded appliances. Super close to Six Flags, DFW Airport, and 30mins from Downtown Dallas</td> \n",
       "        <td id=\"T_2fa6622c_f011_11e8_b972_4e00dd994601row0_col2\" class=\"data row0 col2\" >Grand Prairie</td> \n",
       "        <td id=\"T_2fa6622c_f011_11e8_b972_4e00dd994601row0_col3\" class=\"data row0 col3\" >https://www.airbnb.com/rooms/19214169?location=Cedar%20Hill%2C%20TX</td> \n",
       "    </tr></tbody> \n",
       "</table> "
      ],
      "text/plain": [
       "<pandas.io.formats.style.Styler at 0x1a22c35320>"
      ]
     },
     "metadata": {},
     "output_type": "display_data"
    },
    {
     "data": {
      "text/html": [
       "<style  type=\"text/css\" >\n",
       "</style>  \n",
       "<table id=\"T_2fa8e858_f011_11e8_8d1d_4e00dd994601\" > \n",
       "<thead>    <tr> \n",
       "        <th class=\"blank level0\" ></th> \n",
       "        <th class=\"col_heading level0 col0\" >title</th> \n",
       "        <th class=\"col_heading level0 col1\" >description</th> \n",
       "        <th class=\"col_heading level0 col2\" >city</th> \n",
       "        <th class=\"col_heading level0 col3\" >url</th> \n",
       "    </tr></thead> \n",
       "<tbody>    <tr> \n",
       "        <th id=\"T_2fa8e858_f011_11e8_8d1d_4e00dd994601level0_row0\" class=\"row_heading level0 row0\" >0</th> \n",
       "        <td id=\"T_2fa8e858_f011_11e8_8d1d_4e00dd994601row0_col0\" class=\"data row0 col0\" >BREATHE DEEPLY A Cozy Austin Cabin</td> \n",
       "        <td id=\"T_2fa8e858_f011_11e8_8d1d_4e00dd994601row0_col1\" class=\"data row0 col1\" >A stone throw south of the Austin City Limits, this cabin is situated in 2.5 wooded acres. Luxurious and quiet. It is inhabited by deer, raccoon, rabbits, owls, lizards and butterflies. There is an old stone well filled by an aquifer (legend states the well was built by Ben McCullough; the civil war hero). A large back yard is used for walks, bonfires and golfing/batting balls. Lounge in the dappled sun on the patio near a running pond surrounded with gardens. Prepare a leisurely bar-b-que. Talk late into the night by the fire pit. \\n\\nThis 100+ yr old cabin has been revived and furnished with love. Time seems to stop while soaking in the deep old claw tub filled with endless hot spring water . Drifting to sleep, become aware of crackling in the wood burning stove, a train whistle and the trickling pond. Breakfast choices are street tacos or waffles...with pecans? \\n\\nIts possible you'll be tempted to stay all day. However, the center of Austin or San Marcos, with music, swimming, fishing and kayaking are just 15-25 minutes from this retreat. \\nSound like a fit for you? More info:\\nCircuit of the Americas is 18 miles through country roads. It is possible to attend this event and never enter Austin. A toll road will deliver you from the airport to the cabin and the event without the Austin traffic. Also close and south is an after race restaurant popular with race participants. \\n\\nNote for SXSW and other major events: Consider being in the crowds day and night then retreating by the fire at your quiet abode just 15 minutes south from all the ruckus of Central Austin. Invite your friends to hang with you and perhaps make your own music. Guests under 21 welcomed. \\n\\n\\nIncluded in price:\\nheating with wood burner &amp;/or electric heater. Host can prep the fire. Firewood complementary AC for the summer/fall plus ceiling fan\\nNO TV\\nwireless internet - fast\\nwasher/dryer available\\nclaw tub with shower\\nkitchen equipped with small refrigerator, toaster oven, small microwave, coffee maker\\nlarge BBQ pit available\\nof course all towels, quality cotton sheets, feathered quilt, pillows, utensils, dishes, cups, coffee, teas and toiletries are ready for you cleaning when requested. \\nup to 3 parking spaces\\n3 fire pits to lounge by\\nprivate patio\\n\\nExtra charges:\\ntransportation: Round trip transportation to the airport or elsewhere offered by host\\npublic bus stop 3 miles from the cabin, it is easy to grab a ride to the bus stop from the host- no charge.\\nweekend reservations are a minimum of 2 nights. If you can only stay 1 night, please ask about an exception so that I can attempt to make it work.\\n\\nGuest have exclusive access to the patio. You are welcome to wander all the grounds with the exception of course, of the private residence.\\nComing soon: a sauna is being converted into a cedar silo sauna.\\nFormula 1 rate includes stocked local wines and beer. Toll road to F1 is less that 2 miles from the cabin and provides a direct shot to the venue, without having to deal with Austin traffic. \\nWEDDING PACKAGE: Evening before and night of wedding. This facilitates hosting out of town guests the night before and the day of. (note weekends are a two night minimum. this generally is not practical for the newly weds.) However, the events prior to the big event serves as an informal staging area and a place for your guests who need a meet up, changing and rest area prior to the wedding. Before the bride and groom return from the wedding, host will tidy the cabin and light a fire and candles for their special arrival.\\n\\nI interact with guests as much as they want. Usually, an initial orientation to the cabin and grounds, then texting for the morning \\</td> \n",
       "        <td id=\"T_2fa8e858_f011_11e8_8d1d_4e00dd994601row0_col2\" class=\"data row0 col2\" >Manchaca</td> \n",
       "        <td id=\"T_2fa8e858_f011_11e8_8d1d_4e00dd994601row0_col3\" class=\"data row0 col3\" >https://www.airbnb.com/rooms/728502?location=Buda%2C%20TX</td> \n",
       "    </tr></tbody> \n",
       "</table> "
      ],
      "text/plain": [
       "<pandas.io.formats.style.Styler at 0x1a2254e668>"
      ]
     },
     "metadata": {},
     "output_type": "display_data"
    },
    {
     "data": {
      "text/html": [
       "<style  type=\"text/css\" >\n",
       "</style>  \n",
       "<table id=\"T_2faacfba_f011_11e8_94f5_4e00dd994601\" > \n",
       "<thead>    <tr> \n",
       "        <th class=\"blank level0\" ></th> \n",
       "        <th class=\"col_heading level0 col0\" >title</th> \n",
       "        <th class=\"col_heading level0 col1\" >description</th> \n",
       "        <th class=\"col_heading level0 col2\" >city</th> \n",
       "        <th class=\"col_heading level0 col3\" >url</th> \n",
       "    </tr></thead> \n",
       "<tbody>    <tr> \n",
       "        <th id=\"T_2faacfba_f011_11e8_94f5_4e00dd994601level0_row0\" class=\"row_heading level0 row0\" >0</th> \n",
       "        <td id=\"T_2faacfba_f011_11e8_94f5_4e00dd994601row0_col0\" class=\"data row0 col0\" >Peaceful home near airport & downtown</td> \n",
       "        <td id=\"T_2faacfba_f011_11e8_94f5_4e00dd994601row0_col1\" class=\"data row0 col1\" >Our home is filled with warmth from lots of natural light. The original wood floors and earthy decor create a peaceful environment for anyone. We have a big backyard &amp; garden that is very kid and pet friendly as well as many toys to share in our boys room. The house is 5 minutes away from the airport as well as 10 minutes away from downtown. We are in the middle of San Antonio which is a great location for accessing all types of fun.</td> \n",
       "        <td id=\"T_2faacfba_f011_11e8_94f5_4e00dd994601row0_col2\" class=\"data row0 col2\" >San Antonio</td> \n",
       "        <td id=\"T_2faacfba_f011_11e8_94f5_4e00dd994601row0_col3\" class=\"data row0 col3\" >https://www.airbnb.com/rooms/19014109?location=Converse%2C%20TX</td> \n",
       "    </tr></tbody> \n",
       "</table> "
      ],
      "text/plain": [
       "<pandas.io.formats.style.Styler at 0x1a22c356d8>"
      ]
     },
     "metadata": {},
     "output_type": "display_data"
    },
    {
     "data": {
      "text/html": [
       "<style  type=\"text/css\" >\n",
       "</style>  \n",
       "<table id=\"T_2fac7392_f011_11e8_93e8_4e00dd994601\" > \n",
       "<thead>    <tr> \n",
       "        <th class=\"blank level0\" ></th> \n",
       "        <th class=\"col_heading level0 col0\" >title</th> \n",
       "        <th class=\"col_heading level0 col1\" >description</th> \n",
       "        <th class=\"col_heading level0 col2\" >city</th> \n",
       "        <th class=\"col_heading level0 col3\" >url</th> \n",
       "    </tr></thead> \n",
       "<tbody>    <tr> \n",
       "        <th id=\"T_2fac7392_f011_11e8_93e8_4e00dd994601level0_row0\" class=\"row_heading level0 row0\" >0</th> \n",
       "        <td id=\"T_2fac7392_f011_11e8_93e8_4e00dd994601row0_col0\" class=\"data row0 col0\" >Master Suite Gem Dallas ~ home access</td> \n",
       "        <td id=\"T_2fac7392_f011_11e8_93e8_4e00dd994601row0_col1\" class=\"data row0 col1\" >Master Suite w/bath, walkin closet, cafe table. 3 mi.from White Rock Lake, 4 mi.from Dallas Arboretum &amp; Botanical Gardens w/Concerts, close to Casa Linda restaurants, shops &amp; movies, many things 2 do. Downtown (9 mi). Elite Northpark mall and Galleria mall near by: 6/8 miles away.\\nAirprt: DFW/LOVE. Ask about airport rides!!\\nAmenities: laundry room, kitchen &amp; backyard oasis!!</td> \n",
       "        <td id=\"T_2fac7392_f011_11e8_93e8_4e00dd994601row0_col2\" class=\"data row0 col2\" >Dallas</td> \n",
       "        <td id=\"T_2fac7392_f011_11e8_93e8_4e00dd994601row0_col3\" class=\"data row0 col3\" >https://www.airbnb.com/rooms/11010416?location=Balch%20Springs%2C%20TX</td> \n",
       "    </tr></tbody> \n",
       "</table> "
      ],
      "text/plain": [
       "<pandas.io.formats.style.Styler at 0x1a22c357f0>"
      ]
     },
     "metadata": {},
     "output_type": "display_data"
    },
    {
     "data": {
      "text/html": [
       "<style  type=\"text/css\" >\n",
       "</style>  \n",
       "<table id=\"T_2fae13fa_f011_11e8_a541_4e00dd994601\" > \n",
       "<thead>    <tr> \n",
       "        <th class=\"blank level0\" ></th> \n",
       "        <th class=\"col_heading level0 col0\" >title</th> \n",
       "        <th class=\"col_heading level0 col1\" >description</th> \n",
       "        <th class=\"col_heading level0 col2\" >city</th> \n",
       "        <th class=\"col_heading level0 col3\" >url</th> \n",
       "    </tr></thead> \n",
       "<tbody>    <tr> \n",
       "        <th id=\"T_2fae13fa_f011_11e8_a541_4e00dd994601level0_row0\" class=\"row_heading level0 row0\" >0</th> \n",
       "        <td id=\"T_2fae13fa_f011_11e8_a541_4e00dd994601row0_col0\" class=\"data row0 col0\" >Home near Galveston Beach and other attractions</td> \n",
       "        <td id=\"T_2fae13fa_f011_11e8_a541_4e00dd994601row0_col1\" class=\"data row0 col1\" >Nice 4 Bedroom 2 Bath home in a great location close to freeways. \\n5 min to Tanger Outlet Mall\\n15 min from Galveston Beach/Schlitterbahn/Moody Gardens / Texas City Dike\\n18 minutes to NASA\\n23 min Kema Boardwalk\\n35 min Houston Hobby Airport\\n50 min to Houston (Minute Maid Park, NRG Stadium, Zoo and Musems\\n60 min to George Bush Intercontinel Airport</td> \n",
       "        <td id=\"T_2fae13fa_f011_11e8_a541_4e00dd994601row0_col2\" class=\"data row0 col2\" >Texas City</td> \n",
       "        <td id=\"T_2fae13fa_f011_11e8_a541_4e00dd994601row0_col3\" class=\"data row0 col3\" >https://www.airbnb.com/rooms/18076465?location=Bayou%20Vista%2C%20TX</td> \n",
       "    </tr></tbody> \n",
       "</table> "
      ],
      "text/plain": [
       "<pandas.io.formats.style.Styler at 0x1a22c44320>"
      ]
     },
     "metadata": {},
     "output_type": "display_data"
    },
    {
     "data": {
      "text/html": [
       "<style  type=\"text/css\" >\n",
       "</style>  \n",
       "<table id=\"T_2faeea6e_f011_11e8_825a_4e00dd994601\" > \n",
       "<thead>    <tr> \n",
       "        <th class=\"blank level0\" ></th> \n",
       "        <th class=\"col_heading level0 col0\" >title</th> \n",
       "        <th class=\"col_heading level0 col1\" >description</th> \n",
       "        <th class=\"col_heading level0 col2\" >city</th> \n",
       "        <th class=\"col_heading level0 col3\" >url</th> \n",
       "    </tr></thead> \n",
       "<tbody>    <tr> \n",
       "        <th id=\"T_2faeea6e_f011_11e8_825a_4e00dd994601level0_row0\" class=\"row_heading level0 row0\" >0</th> \n",
       "        <td id=\"T_2faeea6e_f011_11e8_825a_4e00dd994601row0_col0\" class=\"data row0 col0\" >BREATHE DEEPLY A Cozy Austin Cabin</td> \n",
       "        <td id=\"T_2faeea6e_f011_11e8_825a_4e00dd994601row0_col1\" class=\"data row0 col1\" >A stone throw south of the Austin City Limits, this cabin is situated in 2.5 wooded acres. Luxurious and quiet. It is inhabited by deer, raccoon, rabbits, owls, lizards and butterflies. There is an old stone well filled by an aquifer (legend states the well was built by Ben McCullough; the civil war hero). A large back yard is used for walks, bonfires and golfing/batting balls. Lounge in the dappled sun on the patio near a running pond surrounded with gardens. Prepare a leisurely bar-b-que. Talk late into the night by the fire pit. \\n\\nThis 100+ yr old cabin has been revived and furnished with love. Time seems to stop while soaking in the deep old claw tub filled with endless hot spring water . Drifting to sleep, become aware of crackling in the wood burning stove, a train whistle and the trickling pond. Breakfast choices are street tacos or waffles...with pecans? \\n\\nIts possible you'll be tempted to stay all day. However, the center of Austin or San Marcos, with music, swimming, fishing and kayaking are just 15-25 minutes from this retreat. \\nSound like a fit for you? More info:\\nCircuit of the Americas is 18 miles through country roads. It is possible to attend this event and never enter Austin. A toll road will deliver you from the airport to the cabin and the event without the Austin traffic. Also close and south is an after race restaurant popular with race participants. \\n\\nNote for SXSW and other major events: Consider being in the crowds day and night then retreating by the fire at your quiet abode just 15 minutes south from all the ruckus of Central Austin. Invite your friends to hang with you and perhaps make your own music. Guests under 21 welcomed. \\n\\n\\nIncluded in price:\\nheating with wood burner &amp;/or electric heater. Host can prep the fire. Firewood complementary AC for the summer/fall plus ceiling fan\\nNO TV\\nwireless internet - fast\\nwasher/dryer available\\nclaw tub with shower\\nkitchen equipped with small refrigerator, toaster oven, small microwave, coffee maker\\nlarge BBQ pit available\\nof course all towels, quality cotton sheets, feathered quilt, pillows, utensils, dishes, cups, coffee, teas and toiletries are ready for you cleaning when requested. \\nup to 3 parking spaces\\n3 fire pits to lounge by\\nprivate patio\\n\\nExtra charges:\\ntransportation: Round trip transportation to the airport or elsewhere offered by host\\npublic bus stop 3 miles from the cabin, it is easy to grab a ride to the bus stop from the host- no charge.\\nweekend reservations are a minimum of 2 nights. If you can only stay 1 night, please ask about an exception so that I can attempt to make it work.\\n\\nGuest have exclusive access to the patio. You are welcome to wander all the grounds with the exception of course, of the private residence.\\nComing soon: a sauna is being converted into a cedar silo sauna.\\nFormula 1 rate includes stocked local wines and beer. Toll road to F1 is less that 2 miles from the cabin and provides a direct shot to the venue, without having to deal with Austin traffic. \\nWEDDING PACKAGE: Evening before and night of wedding. This facilitates hosting out of town guests the night before and the day of. (note weekends are a two night minimum. this generally is not practical for the newly weds.) However, the events prior to the big event serves as an informal staging area and a place for your guests who need a meet up, changing and rest area prior to the wedding. Before the bride and groom return from the wedding, host will tidy the cabin and light a fire and candles for their special arrival.\\n\\nI interact with guests as much as they want. Usually, an initial orientation to the cabin and grounds, then texting for the morning \\</td> \n",
       "        <td id=\"T_2faeea6e_f011_11e8_825a_4e00dd994601row0_col2\" class=\"data row0 col2\" >Manchaca</td> \n",
       "        <td id=\"T_2faeea6e_f011_11e8_825a_4e00dd994601row0_col3\" class=\"data row0 col3\" >https://www.airbnb.com/rooms/728502?location=Colorado%20River%2C%20TX</td> \n",
       "    </tr></tbody> \n",
       "</table> "
      ],
      "text/plain": [
       "<pandas.io.formats.style.Styler at 0x1a22c44748>"
      ]
     },
     "metadata": {},
     "output_type": "display_data"
    },
    {
     "data": {
      "text/html": [
       "<style  type=\"text/css\" >\n",
       "</style>  \n",
       "<table id=\"T_2fb00b9c_f011_11e8_a451_4e00dd994601\" > \n",
       "<thead>    <tr> \n",
       "        <th class=\"blank level0\" ></th> \n",
       "        <th class=\"col_heading level0 col0\" >title</th> \n",
       "        <th class=\"col_heading level0 col1\" >description</th> \n",
       "        <th class=\"col_heading level0 col2\" >city</th> \n",
       "        <th class=\"col_heading level0 col3\" >url</th> \n",
       "    </tr></thead> \n",
       "<tbody>    <tr> \n",
       "        <th id=\"T_2fb00b9c_f011_11e8_a451_4e00dd994601level0_row0\" class=\"row_heading level0 row0\" >0</th> \n",
       "        <td id=\"T_2fb00b9c_f011_11e8_a451_4e00dd994601row0_col0\" class=\"data row0 col0\" >Master Suite Gem Dallas ~ home access</td> \n",
       "        <td id=\"T_2fb00b9c_f011_11e8_a451_4e00dd994601row0_col1\" class=\"data row0 col1\" >Master Suite w/bath, walkin closet, cafe table. 3 mi.from White Rock Lake, 4 mi.from Dallas Arboretum &amp; Botanical Gardens w/Concerts, close to Casa Linda restaurants, shops &amp; movies, many things 2 do. Downtown (9 mi). Elite Northpark mall and Galleria mall near by: 6/8 miles away.\\nAirprt: DFW/LOVE. Ask about airport rides!!\\nAmenities: laundry room, kitchen &amp; backyard oasis!!</td> \n",
       "        <td id=\"T_2fb00b9c_f011_11e8_a451_4e00dd994601row0_col2\" class=\"data row0 col2\" >Dallas</td> \n",
       "        <td id=\"T_2fb00b9c_f011_11e8_a451_4e00dd994601row0_col3\" class=\"data row0 col3\" >https://www.airbnb.com/rooms/11010416?location=Arlington%2C%20TX</td> \n",
       "    </tr></tbody> \n",
       "</table> "
      ],
      "text/plain": [
       "<pandas.io.formats.style.Styler at 0x1a22c44ba8>"
      ]
     },
     "metadata": {},
     "output_type": "display_data"
    },
    {
     "data": {
      "text/html": [
       "<style  type=\"text/css\" >\n",
       "</style>  \n",
       "<table id=\"T_2fb0e440_f011_11e8_9b30_4e00dd994601\" > \n",
       "<thead>    <tr> \n",
       "        <th class=\"blank level0\" ></th> \n",
       "        <th class=\"col_heading level0 col0\" >title</th> \n",
       "        <th class=\"col_heading level0 col1\" >description</th> \n",
       "        <th class=\"col_heading level0 col2\" >city</th> \n",
       "        <th class=\"col_heading level0 col3\" >url</th> \n",
       "    </tr></thead> \n",
       "<tbody>    <tr> \n",
       "        <th id=\"T_2fb0e440_f011_11e8_9b30_4e00dd994601level0_row0\" class=\"row_heading level0 row0\" >0</th> \n",
       "        <td id=\"T_2fb0e440_f011_11e8_9b30_4e00dd994601row0_col0\" class=\"data row0 col0\" >Family Home near Austin Airport</td> \n",
       "        <td id=\"T_2fb0e440_f011_11e8_9b30_4e00dd994601row0_col1\" class=\"data row0 col1\" >Spacious home with wood floors, and fire place. Kitchen has full available appliances and living area has recliner, LED TV, local channels, &amp; Wifi all over the house. Master bedroom has King size bed, double sink, separate shower and a garden tub.</td> \n",
       "        <td id=\"T_2fb0e440_f011_11e8_9b30_4e00dd994601row0_col2\" class=\"data row0 col2\" >Austin</td> \n",
       "        <td id=\"T_2fb0e440_f011_11e8_9b30_4e00dd994601row0_col3\" class=\"data row0 col3\" >https://www.airbnb.com/rooms/8191636?location=Bastrop%20County%2C%20TX</td> \n",
       "    </tr></tbody> \n",
       "</table> "
      ],
      "text/plain": [
       "<pandas.io.formats.style.Styler at 0x1a22c44fd0>"
      ]
     },
     "metadata": {},
     "output_type": "display_data"
    },
    {
     "data": {
      "text/html": [
       "<style  type=\"text/css\" >\n",
       "</style>  \n",
       "<table id=\"T_2fb1a7e8_f011_11e8_b4d7_4e00dd994601\" > \n",
       "<thead>    <tr> \n",
       "        <th class=\"blank level0\" ></th> \n",
       "        <th class=\"col_heading level0 col0\" >title</th> \n",
       "        <th class=\"col_heading level0 col1\" >description</th> \n",
       "        <th class=\"col_heading level0 col2\" >city</th> \n",
       "        <th class=\"col_heading level0 col3\" >url</th> \n",
       "    </tr></thead> \n",
       "<tbody>    <tr> \n",
       "        <th id=\"T_2fb1a7e8_f011_11e8_b4d7_4e00dd994601level0_row0\" class=\"row_heading level0 row0\" >0</th> \n",
       "        <td id=\"T_2fb1a7e8_f011_11e8_b4d7_4e00dd994601row0_col0\" class=\"data row0 col0\" >1000 sq ft 1bed 1ba near DFW airport/Six Flags</td> \n",
       "        <td id=\"T_2fb1a7e8_f011_11e8_b4d7_4e00dd994601row0_col1\" class=\"data row0 col1\" >Depending on your type of stay, I can accommodate for what you are needing. Its on the third floor with only stair access, garden tub, and upgraded appliances. Super close to Six Flags, DFW Airport, and 30mins from Downtown Dallas</td> \n",
       "        <td id=\"T_2fb1a7e8_f011_11e8_b4d7_4e00dd994601row0_col2\" class=\"data row0 col2\" >Grand Prairie</td> \n",
       "        <td id=\"T_2fb1a7e8_f011_11e8_b4d7_4e00dd994601row0_col3\" class=\"data row0 col3\" >https://www.airbnb.com/rooms/19214169?location=Bedford%2C%20TX</td> \n",
       "    </tr></tbody> \n",
       "</table> "
      ],
      "text/plain": [
       "<pandas.io.formats.style.Styler at 0x1a22c44d30>"
      ]
     },
     "metadata": {},
     "output_type": "display_data"
    },
    {
     "data": {
      "text/html": [
       "<style  type=\"text/css\" >\n",
       "</style>  \n",
       "<table id=\"T_2fb2b252_f011_11e8_9dd9_4e00dd994601\" > \n",
       "<thead>    <tr> \n",
       "        <th class=\"blank level0\" ></th> \n",
       "        <th class=\"col_heading level0 col0\" >title</th> \n",
       "        <th class=\"col_heading level0 col1\" >description</th> \n",
       "        <th class=\"col_heading level0 col2\" >city</th> \n",
       "        <th class=\"col_heading level0 col3\" >url</th> \n",
       "    </tr></thead> \n",
       "<tbody>    <tr> \n",
       "        <th id=\"T_2fb2b252_f011_11e8_9dd9_4e00dd994601level0_row0\" class=\"row_heading level0 row0\" >0</th> \n",
       "        <td id=\"T_2fb2b252_f011_11e8_9dd9_4e00dd994601row0_col0\" class=\"data row0 col0\" >R & M Roadhouse</td> \n",
       "        <td id=\"T_2fb2b252_f011_11e8_9dd9_4e00dd994601row0_col1\" class=\"data row0 col1\" >Center point is conveniently located near: the Alamo, San Antonio River Walk; Schlitterbahn Waterpark; John Newcombe Tennis Ranch; historic Fredericksburg for local wines and the National Museum of the Pacific War; Camp Verde historic post office and general store; Coming King Sculpture prayer garden. \\n\\nNightlife: Live music at Gruene Hall, the oldest dance hall in Texas; Live music and dining at John T. Floore Country Store in Helotes, Tx.\\n\\nOne hour to San Antonio International Airport.</td> \n",
       "        <td id=\"T_2fb2b252_f011_11e8_9dd9_4e00dd994601row0_col2\" class=\"data row0 col2\" >Center Point</td> \n",
       "        <td id=\"T_2fb2b252_f011_11e8_9dd9_4e00dd994601row0_col3\" class=\"data row0 col3\" >https://www.airbnb.com/rooms/15966243?location=Center%20Point%2C%20TX</td> \n",
       "    </tr></tbody> \n",
       "</table> "
      ],
      "text/plain": [
       "<pandas.io.formats.style.Styler at 0x1a22c446d8>"
      ]
     },
     "metadata": {},
     "output_type": "display_data"
    },
    {
     "data": {
      "text/html": [
       "<style  type=\"text/css\" >\n",
       "</style>  \n",
       "<table id=\"T_2fb497c0_f011_11e8_a95b_4e00dd994601\" > \n",
       "<thead>    <tr> \n",
       "        <th class=\"blank level0\" ></th> \n",
       "        <th class=\"col_heading level0 col0\" >title</th> \n",
       "        <th class=\"col_heading level0 col1\" >description</th> \n",
       "        <th class=\"col_heading level0 col2\" >city</th> \n",
       "        <th class=\"col_heading level0 col3\" >url</th> \n",
       "    </tr></thead> \n",
       "<tbody>    <tr> \n",
       "        <th id=\"T_2fb497c0_f011_11e8_a95b_4e00dd994601level0_row0\" class=\"row_heading level0 row0\" >0</th> \n",
       "        <td id=\"T_2fb497c0_f011_11e8_a95b_4e00dd994601row0_col0\" class=\"data row0 col0\" >Spacious two bedroom apt @ 360North</td> \n",
       "        <td id=\"T_2fb497c0_f011_11e8_a95b_4e00dd994601row0_col1\" class=\"data row0 col1\" >Clean &amp; Comfortable two bedroom apt is great for your stay in Grand Prairie, Tx! Located only 20 minutes from downtown Dallas. This unit features high vaulted ceilings, new steel appliances, &amp; more available for use by my guests. My apartment is about 15 minutes from DFW airport &amp; The Parks Mall in Arlington. About 5 minutes away from Six Flags over Texas, AT&amp;T stadium, Globe Life stadium (Texas Rangers) and Restaurants such as BJ's, TGI Fridays, Olive Garden etc. I don't have a private parking spot, but there is always plenty of open spaces near my apt.</td> \n",
       "        <td id=\"T_2fb497c0_f011_11e8_a95b_4e00dd994601row0_col2\" class=\"data row0 col2\" >Grand Prairie</td> \n",
       "        <td id=\"T_2fb497c0_f011_11e8_a95b_4e00dd994601row0_col3\" class=\"data row0 col3\" >https://www.airbnb.com/rooms/17655499?location=Cedar%20Hill%2C%20TX</td> \n",
       "    </tr></tbody> \n",
       "</table> "
      ],
      "text/plain": [
       "<pandas.io.formats.style.Styler at 0x1a22c44588>"
      ]
     },
     "metadata": {},
     "output_type": "display_data"
    },
    {
     "data": {
      "text/html": [
       "<style  type=\"text/css\" >\n",
       "</style>  \n",
       "<table id=\"T_2fb581b4_f011_11e8_9938_4e00dd994601\" > \n",
       "<thead>    <tr> \n",
       "        <th class=\"blank level0\" ></th> \n",
       "        <th class=\"col_heading level0 col0\" >title</th> \n",
       "        <th class=\"col_heading level0 col1\" >description</th> \n",
       "        <th class=\"col_heading level0 col2\" >city</th> \n",
       "        <th class=\"col_heading level0 col3\" >url</th> \n",
       "    </tr></thead> \n",
       "<tbody>    <tr> \n",
       "        <th id=\"T_2fb581b4_f011_11e8_9938_4e00dd994601level0_row0\" class=\"row_heading level0 row0\" >0</th> \n",
       "        <td id=\"T_2fb581b4_f011_11e8_9938_4e00dd994601row0_col0\" class=\"data row0 col0\" >SURROUND YOURSELF WITH CHARM</td> \n",
       "        <td id=\"T_2fb581b4_f011_11e8_9938_4e00dd994601row0_col1\" class=\"data row0 col1\" >Clean &amp; Comfortable two bedroom apt is great for your stay in Grand Prairie, TX! Located only 15 minutes from downtown Dallas. My apartment is about 10 minutes from DFW airport &amp; The Parks Mall in Arlington. About 15 minutes away from Six Flags over Texas, AT&amp;T stadium, Globe Life stadium (Texas Rangers) and Restaurants such as BJ's, TGI Fridays, Olive Garden etc. I don't have a private parking spot, but there is always plenty of open spaces near my apt.</td> \n",
       "        <td id=\"T_2fb581b4_f011_11e8_9938_4e00dd994601row0_col2\" class=\"data row0 col2\" >Grand Prairie</td> \n",
       "        <td id=\"T_2fb581b4_f011_11e8_9938_4e00dd994601row0_col3\" class=\"data row0 col3\" >https://www.airbnb.com/rooms/18807470?location=Cedar%20Hill%2C%20TX</td> \n",
       "    </tr></tbody> \n",
       "</table> "
      ],
      "text/plain": [
       "<pandas.io.formats.style.Styler at 0x1a22a056a0>"
      ]
     },
     "metadata": {},
     "output_type": "display_data"
    }
   ],
   "source": [
    "for file in intersection:\n",
    "    file = read(file)\n",
    "    \n",
    "    result = file[[\"title\",\"description\",\"city\",\"url\"]]\n",
    "    display(result.style)\n",
    "    #print(result.to_html())"
   ]
  },
  {
   "cell_type": "markdown",
   "metadata": {},
   "source": [
    "## 3.2 Conjunctive query & Ranking score"
   ]
  },
  {
   "cell_type": "markdown",
   "metadata": {},
   "source": [
    "In the new Search Engine, given a query, we want to get the <b>top-k</b> (the choice of k it's up to us!) documents related to the query. In particular:\n",
    "\n",
    "* We have to find all the documents that contains all the words in the query (<b>as before...</b>).\n",
    "    \n",
    "* We sort them by their <b>similarity</b> with the query.\n",
    "\n",
    "* The search engine returns in output <b>k</b> documents, or all the documents with non-zero similarity with the query when the results are less than k. We must use a <b>heap data structure</b> (you can use Python libraries) for maintaining the top-k documents.\n",
    "\n",
    "To solve this task, we need <b>tfIdf score</b>, and the <b>Cosine similarity</b>. \n",
    "\n"
   ]
  },
  {
   "cell_type": "markdown",
   "metadata": {},
   "source": [
    "### 3.2.1 Inverted index"
   ]
  },
  {
   "cell_type": "markdown",
   "metadata": {},
   "source": [
    "Our second Inverted Index must be of this format:\n",
    "\n",
    "`\n",
    "{\n",
    "term_id_1:[(document1, tfIdf_{term,document1}), (document2, tfIdf_{term,document2}), (document4, tfIdf_{term,document4}), ...],\n",
    "term_id_2:[(document1, tfIdf_{term,document1}), (document3, tfIdf_{term,document3}), (document5, tfIdf_{term,document5}), (document6, tfIdf_{term,document6}), ...],\n",
    "...}\n",
    "`\n",
    "\n",
    "\n",
    "Let's save also here the dictionary on a separated document!\n",
    "\n",
    "\n",
    "Practically, for each word we want the list of documents in which it is contained in, and the relative tfIdf score.\n",
    "The tfIdf values are invariant with respect to the query, for this reason we can precalculate them!\n"
   ]
  },
  {
   "cell_type": "markdown",
   "metadata": {},
   "source": [
    "At first, let's make an introduction to our scores!\n",
    "\n",
    "#### An introduction to TF-IDF\n",
    "\n",
    "<b>TF-IDF</b> stands for <i>“Term Frequency — Inverse Data Frequency”</i>. \n",
    "\n",
    "At first, we let's see what this term means mathematically.\n",
    "\n",
    "<b>Term Frequency</b> (tf): it gives us the frequency of the <i>i</i>-word in each <i>j</i>-document. It is the ratio of number of times the word appears in a document compared to the total number of words in that document. \n",
    "It <b>increases</b> as the number of occurrences of that word within the document increases. \n",
    "<b>Each document has its own TF</b>.\n",
    "    \n",
    "$$ tf_{i,j} = \\frac{n_{i,j}}{\\sum_{i}{n_{i,j}}} $$\n",
    "\n",
    "Where:\n",
    "* $n_{i,j}$ = number of times the <i>i</i>-word appears in <i>j</i>-document;\n",
    "* $\\sum_{i}{n_{i,j}}$ = total of words in the <i>j</i>-document.\n",
    "\n",
    "\n",
    "\n",
    "<b>Inverse Data Frequency</b> (idf): it is used to compute the weight of words across all documents. \n",
    "The words that occur <b>rarely</b> in the corpus have a <b>high</b> IDF score. \n",
    "It is given by the equation below.\n",
    " $$ idf_i = \\lg{\\frac{N}{df_{i}}} $$\n",
    " \n",
    "Where \n",
    "* N = total of documents;\n",
    "* $df_i$ = number documents containing <i>i</i>-word.\n",
    "\n",
    "\n",
    "Combining these two we come up with the <b>TF-IDF score</b>:\n",
    "\n",
    "$$ TF-IDF_{i,j} = TF_{i,j} * IDF_i $$\n",
    "\n"
   ]
  },
  {
   "cell_type": "code",
   "execution_count": 24,
   "metadata": {},
   "outputs": [],
   "source": [
    "N = len(rentals_file)"
   ]
  },
  {
   "cell_type": "code",
   "execution_count": 26,
   "metadata": {},
   "outputs": [],
   "source": [
    "inv_index2 = {}\n",
    "for i in range(N):\n",
    "    name_d = \"files/doc_\" + str(i) +\".tsv\"\n",
    "    dataframe = read(name_d)\n",
    "    clean_df = all_col(dataframe) #pulisce e restituisce diz: ad ogni colonna, lista di parole\n",
    "    filtered_df = filter_keys(clean_df) \n",
    "    values = list(filtered_df.values()) #this is a list of two values list (one for title, one for description)\n",
    "    doc_words = values[0] + values[1]\n",
    "    distinct_words = set(doc_words)\n",
    "    for word in distinct_words:\n",
    "        freq_word = doc_words.count(word)\n",
    "        TF = freq_word/ float(len(doc_words))\n",
    "        IDF = math.log((float(N)) / len(vocabulary[word]))\n",
    "        TFIDF = TF * IDF\n",
    "        index = indexing[word]\n",
    "        if index not in inv_index2.keys():\n",
    "            inv_index2[index] = [(name_d, TFIDF)]\n",
    "        else:\n",
    "            inv_index2[index].append((name_d, TFIDF))"
   ]
  },
  {
   "cell_type": "code",
   "execution_count": 27,
   "metadata": {},
   "outputs": [],
   "source": [
    "js2 = json.dumps(inv_index2)\n",
    "f2 = open(\"vocabulary2.json\",\"w\", encoding = \"utf-8\")\n",
    "f2.write(js2)\n",
    "f2.close()"
   ]
  },
  {
   "cell_type": "code",
   "execution_count": 25,
   "metadata": {},
   "outputs": [],
   "source": [
    "with open(\"vocabulary2.json\",\"r\", encoding = \"utf-8\") as f2:\n",
    "    inv_index2 = json.load(f2)"
   ]
  },
  {
   "cell_type": "markdown",
   "metadata": {},
   "source": [
    "### 3.2.2 Execute the query"
   ]
  },
  {
   "cell_type": "code",
   "execution_count": 35,
   "metadata": {},
   "outputs": [
    {
     "name": "stdout",
     "output_type": "stream",
     "text": [
      "with garden and netflix\n",
      "['garden', 'netflix']\n"
     ]
    }
   ],
   "source": [
    "query = user_query()\n",
    "\n",
    "f = True\n",
    "count = 0\n",
    "while f:\n",
    "    for word in query:\n",
    "        if word not in vocabulary.keys():\n",
    "            count = count\n",
    "            query = user_query()\n",
    "        else:\n",
    "            count += 1\n",
    "        \n",
    "    if count == len(query):\n",
    "        f = False\n",
    "        \n",
    " \n",
    "\n",
    "print(query)\n",
    "\n",
    "\n",
    "\n",
    "\n",
    "\n",
    "\n"
   ]
  },
  {
   "cell_type": "code",
   "execution_count": 36,
   "metadata": {},
   "outputs": [],
   "source": [
    "TF_query = {}\n",
    "for word in query:\n",
    "    freq_word = query.count(word) \n",
    "    TF = freq_word/ float(len(query))\n",
    "    TF_query[word] = TF\n"
   ]
  },
  {
   "cell_type": "code",
   "execution_count": 37,
   "metadata": {},
   "outputs": [],
   "source": [
    "TF_arr = np.asarray(list(TF_query.values()))"
   ]
  },
  {
   "cell_type": "code",
   "execution_count": 38,
   "metadata": {},
   "outputs": [],
   "source": [
    "#key = word, value = idf\n",
    "dicIDF = {}\n",
    "for word in query:\n",
    "    l = vocabulary.get(word)\n",
    "    l = set(l)\n",
    "    n_docs = len(l)\n",
    "    if n_docs > 0:\n",
    "        idf = math.log((float(N)) / n_docs)\n",
    "    else:\n",
    "        idf = 0\n",
    "    dicIDF[word] = idf"
   ]
  },
  {
   "cell_type": "code",
   "execution_count": 39,
   "metadata": {},
   "outputs": [],
   "source": [
    "IDF_arr = np.asarray(list(dicIDF.values()))"
   ]
  },
  {
   "cell_type": "code",
   "execution_count": 40,
   "metadata": {},
   "outputs": [],
   "source": [
    "TFIDF_query = TF_arr * IDF_arr"
   ]
  },
  {
   "cell_type": "code",
   "execution_count": 41,
   "metadata": {},
   "outputs": [],
   "source": [
    "#for every id, I search for the list of its docs\n",
    "#so I build a list of lists , every list has docs of a query word.\n",
    "#doc_score for every doc, gives a list of TFIDF values\n",
    "all_docs = []\n",
    "doc_score = {}\n",
    "for word in query:\n",
    "    index = indexing[word]\n",
    "    l_tupl = list(inv_index2[index]) #lista delle tuple corrispondenti ad index\n",
    "    l_docs = []\n",
    "    for i in range(len(l_tupl)):\n",
    "        l_docs.append(l_tupl[i][0])\n",
    "        d = l_tupl[i][0]\n",
    "        if d not in doc_score:\n",
    "            doc_score[d] = [l_tupl[i][1]]\n",
    "        else:\n",
    "            doc_score[d].append(l_tupl[i][1])\n",
    "    all_docs.append(l_docs)"
   ]
  },
  {
   "cell_type": "code",
   "execution_count": 42,
   "metadata": {},
   "outputs": [],
   "source": [
    "intersection = set(all_docs[0]).intersection(*all_docs)\n",
    "#this are all docs in common among the query words\n",
    "#this means that they have TFID values != 0"
   ]
  },
  {
   "cell_type": "code",
   "execution_count": 43,
   "metadata": {},
   "outputs": [
    {
     "data": {
      "text/plain": [
       "{'files/doc_5454.tsv'}"
      ]
     },
     "execution_count": 43,
     "metadata": {},
     "output_type": "execute_result"
    }
   ],
   "source": [
    "intersection"
   ]
  },
  {
   "cell_type": "code",
   "execution_count": 44,
   "metadata": {},
   "outputs": [],
   "source": [
    "#for every doc of intersection, I have the list of the three TFIDF\n",
    "ds = {}\n",
    "for doc in intersection:\n",
    "    l_score = doc_score[doc]\n",
    "    ds[doc] = l_score"
   ]
  },
  {
   "cell_type": "code",
   "execution_count": 45,
   "metadata": {},
   "outputs": [],
   "source": [
    "#dict cos: for every doc of intersection, I compute its cosine sim with the query in terms of TFIDF\n",
    "#then I create a dic where for every doc I have the value of cos sim\n",
    "cos_d = {}\n",
    "for el in ds:\n",
    "    \n",
    "    wanted = np.asarray(list(ds[el]))\n",
    "    \n",
    "    cos = 1 - spatial.distance.cosine(wanted, TFIDF_query)\n",
    "    cos_d[el] = cos\n",
    "        "
   ]
  },
  {
   "cell_type": "code",
   "execution_count": 46,
   "metadata": {},
   "outputs": [],
   "source": [
    "heap = []\n",
    "for el in cos_d:\n",
    "    t = [el, cos_d[el]]\n",
    "    heapq.heappush(heap, t)\n",
    "\n",
    "\n",
    "\n"
   ]
  },
  {
   "cell_type": "code",
   "execution_count": 47,
   "metadata": {},
   "outputs": [
    {
     "data": {
      "text/plain": [
       "[['files/doc_5454.tsv', 0.9534807107342951]]"
      ]
     },
     "execution_count": 47,
     "metadata": {},
     "output_type": "execute_result"
    }
   ],
   "source": [
    "heap"
   ]
  },
  {
   "cell_type": "code",
   "execution_count": 48,
   "metadata": {},
   "outputs": [],
   "source": [
    "first_k = heapq.nlargest(3, heap)"
   ]
  },
  {
   "cell_type": "code",
   "execution_count": 49,
   "metadata": {},
   "outputs": [
    {
     "data": {
      "text/plain": [
       "[['files/doc_5454.tsv', 0.9534807107342951]]"
      ]
     },
     "execution_count": 49,
     "metadata": {},
     "output_type": "execute_result"
    }
   ],
   "source": [
    "first_k"
   ]
  },
  {
   "cell_type": "code",
   "execution_count": 50,
   "metadata": {},
   "outputs": [
    {
     "name": "stdout",
     "output_type": "stream",
     "text": [
      "files/doc_5454.tsv\n",
      "0.9534807107342951\n"
     ]
    }
   ],
   "source": [
    "for tup in first_k:\n",
    "    print(tup[0])\n",
    "    print(cos_d[tup[0]])"
   ]
  },
  {
   "cell_type": "code",
   "execution_count": 51,
   "metadata": {},
   "outputs": [
    {
     "data": {
      "text/html": [
       "<style  type=\"text/css\" >\n",
       "</style>  \n",
       "<table id=\"T_862bf6c2_eff1_11e8_897a_4e00dd994601\" > \n",
       "<thead>    <tr> \n",
       "        <th class=\"blank level0\" ></th> \n",
       "        <th class=\"col_heading level0 col0\" >title</th> \n",
       "        <th class=\"col_heading level0 col1\" >description</th> \n",
       "        <th class=\"col_heading level0 col2\" >city</th> \n",
       "        <th class=\"col_heading level0 col3\" >url</th> \n",
       "        <th class=\"col_heading level0 col4\" >similarity score</th> \n",
       "    </tr></thead> \n",
       "<tbody>    <tr> \n",
       "        <th id=\"T_862bf6c2_eff1_11e8_897a_4e00dd994601level0_row0\" class=\"row_heading level0 row0\" >0</th> \n",
       "        <td id=\"T_862bf6c2_eff1_11e8_897a_4e00dd994601row0_col0\" class=\"data row0 col0\" >2 blocks to Rainey! Walk downtown!</td> \n",
       "        <td id=\"T_862bf6c2_eff1_11e8_897a_4e00dd994601row0_col1\" class=\"data row0 col1\" >HOLIDAYS, LOCAL EVENTS, HIGH DEMAND WEEKENDS, DATES WITH LOW AVAILABILITY MAY BE SUBJECT TO HIGHER RATES, NIGHT MINIMUMS, AND/OR HIGHER FEES. AVAILABILITY SHOWN ON THIS CALENDAR'S WEBSITE IS NOT ALWAYS 100% ACCURATE. IT IS ALWAYS BEST TO INQUIRE WITH THE HOST/MANAGER/HOMEOWNER TO VERIFY AVAILABILTY AND A SPECIFIC QUOTE FOR YOUR STAY. QUOTES MAY DIFFER FROM THE BASE RATES, BASE FEES, NIGHT MINIMUMS AND/OR QUOTES PROVIDED BY THIS WEBSITE AND/OR DISPLAYED ON CALENDAR\\n\\nPLEASE READ ALL HOUSE RULES AVAILABLE ON WEBSITE AND/OR PROVIDED BEFORE BOOKING. ALL GUESTS ON RESERVATION MUST UNDERSTAND AND FOLLOW ALL RULES.\\n\\nTaylor House is in a residential neighborhood and all Guests will need to acknowledge they agree to respect my neighbors and the surrounding community to be accepted. Noise levels will be closely monitored. PARTIES ARE NOT ALLOWED. See below for more information.\\n\\nWelcome to my home! I look forward to hosting you!\\n\\nThis is the perfect vacation rental home in downtown Austin! I strive to provide Guests with the perfect home base with all the creature comforts, in the perfect location for exploring what Austin has to offer. I have lived in Austin my entire life and I want to help make your trip one-of-a-kind! IÃ¢ÂÂm available for suggestions of trendy new hot spots, and unique, only in Austin activities!\\n\\nYour perfect stay in the perfect location for the perfect vacation!\\n\\nA must stay! 2 blocks from the Rainey Street entertainment district! This area is the go-to spot for the Austin young professional nightlife scene. A short walk anywhere else downtown, including the convention center. The East 6th Street entertainment district is blocks away. Walk 2 blocks to Lady Bird Lake. Walk/Run/Bike the scenic Hike and Bike Trail or Kayak/Paddle Board on the lake as the sun sets. Kayak/Paddle Board/Small sailing and paddle boat rentals available blocks away. Walking distance to 6th Street, Congress, Paramount Theater, restaurants, bars, music venues, Texas Longhorn tailgating, DKR stadium, museums, a public pool, grocery store, coffee shops, comedy shows, improv shows, movie theaters (Alamo Ritz and Violet Crown), breweries (Hops &amp; Grain), theater, art galleries, and other nightlife. The perfect location for the vacationer who wants to walk to everything unique that Austin has to offer. The home has tons of upgrades. Real wood floors. Large master bedroom with big bathroom. Modern kitchen with granite counters and stainless steel appliances. High ceilings. Huge granite island. The perfect fenced in yard for hanging out/re-cooperation. Ping pong table, a cornhole set, a washer set, tons of patio chairs, a Weber grill and tons of games are also included.\\n\\nEverything you need! (More about the home)\\n\\n-The home is very well maintained and very clean. \\n-Tons of windows to let in light for a very open feel. \\n-1st floor: Big fully furnished living room with a LED TV. Amazon Fire Stick with streaming Netflix subscription and other Apple TV content. There is an antenna that picks up the major networks and some other channels, but this is not guaranteed. There is no cable TV. Great place to recoup while watching some Netflix or grabbing a provided local magazine to find out more about what Austin has to offer. A large granite counter with several stools divides the kitchen and living area. Perfect for meal preparation, dining, a game of cards or just socializing. A state of the art kitchen complete with stainless steel appliances, gas stove, refrigerator/freezer, garbage disposal, dishwasher, microwave, toaster, blender, and coffee maker. Large surfaces for cooking and serving. All needed basic cooking ware and dining ware provided. Stained concrete flooring throughout. Large one half bath.\\n-2nd floor: Master bedroom with private large bathroom. It has a double vanity and a large garden tub/shower. Some soap, shower gel, shampoo and conditioner typically provided. Hair dryer provided. Wood flooring on the stairs and landing. Energy efficient, front-loading Washer/Dryer. \\n-3rd floor: All wood flooring. 2nd bedroom. Deck overlooking the neighborhood and the downtown skyline. Deck has plenty of seating and a table. \\n-Yard: The perfect yard with privacy fence for rest, relaxation and socializing. Corhole set, washer set, tons of chairs, ping pong table, and a Weber grill.\\n-Big front patio with chairs.\\n-Central Energy Efficient HVAC. \\n-1 parking spot on the lot with plenty of free street parking. Please do not park in front of neighboring homes.\\n-High speed WIFI. \\n-Fresh towels provided. \\n-Cards and tons of games. \\n-Fresh coffee. \\n-BBQ tools. (Bring your own charcoal, lighter fluid and matches)\\n-Hair Dryer. \\n-Laundry detergent, softener and bleach provided for on-site laundry. \\n-Iron and ironing board. \\n\\nEasy to Find!\\n\\nArriving by car: 4 blocks off of Cesar Chavez. Very easy to find with plenty of parking in the area.\\n\\nArriving by plane: Capitol Metro Bus Route '100-AIRPORT FLYER' drop offs downtown. 15 minute cab ride from the airport. Remember, Austin cabs only take 4 persons at one time. Uber/Lyft/Car2go all available in Austin.\\n\\n*15% LOCAL AND STATE TAXES ARE TYPICALLY INCLUDED IN THE ONLINE QUOTE .\\n\\nAustin City Code - Chapt Ã¢ÂÂ Ã¢ÂÂExcept as otherwise provided in this section, not more than six unrelated adult may reside in a dwelling unit.Ã¢ÂÂ (Ordinance No. ). THIS APPLIES TO ALL SHORT TERM/VACATION RENTALS IN AUSTIN. Please inquire further if you have any questions or concerns.\\n\\n***Furnishings and amenities will be furnished as described whenever possible. In the event that an item is damaged/broken/lost/consumed the Host will restock as soon as possible. All items in description/pictures are not guaranteed.***\\n\\nLet me help you have the perfect vacation! Thank you for looking! Have a great day!\\n\\nOL #</td> \n",
       "        <td id=\"T_862bf6c2_eff1_11e8_897a_4e00dd994601row0_col2\" class=\"data row0 col2\" >Austin</td> \n",
       "        <td id=\"T_862bf6c2_eff1_11e8_897a_4e00dd994601row0_col3\" class=\"data row0 col3\" >https://www.airbnb.com/rooms/1250575?location=Colorado%20River%2C%20TX</td> \n",
       "        <td id=\"T_862bf6c2_eff1_11e8_897a_4e00dd994601row0_col4\" class=\"data row0 col4\" >0.953481</td> \n",
       "    </tr></tbody> \n",
       "</table> "
      ],
      "text/plain": [
       "<pandas.io.formats.style.Styler at 0x1a29c99860>"
      ]
     },
     "metadata": {},
     "output_type": "display_data"
    }
   ],
   "source": [
    "for tupla in first_k:\n",
    "    name_doc = tupla[0] \n",
    "    document = read(name_doc)\n",
    "    document[\"similarity score\"] = [cos_d[name_doc]]\n",
    "    document = document[[\"title\",\"description\",\"city\",\"url\", \"similarity score\"]]\n",
    "    display(document.style)\n",
    "    \n",
    "    "
   ]
  },
  {
   "cell_type": "markdown",
   "metadata": {},
   "source": [
    "# Step 4: Define a new score!    (?)"
   ]
  },
  {
   "cell_type": "markdown",
   "metadata": {},
   "source": [
    "### Prices"
   ]
  },
  {
   "cell_type": "code",
   "execution_count": 62,
   "metadata": {},
   "outputs": [
    {
     "name": "stdout",
     "output_type": "stream",
     "text": [
      "Insert min avarage-rate: 50 \n",
      "Insert max avarage-rate: 120\n"
     ]
    }
   ],
   "source": [
    "min_input = input(\"Insert min avarage-rate: \")\n",
    "max_input = input(\"Insert max avarage-rate: \")\n",
    "\n",
    "\n",
    "\n",
    "\n",
    "\n",
    "min_input = stopWords(min_input)\n",
    "max_input = stopWords(max_input)\n",
    "\n",
    "\n",
    "min_input = punctuation(min_input)\n",
    "max_input = punctuation(max_input)\n",
    "\n",
    "\n",
    "\n",
    "\n",
    "\n",
    "min_input = stemming(min_input)\n",
    "max_input = stemming(max_input)\n",
    "\n",
    "\n",
    "\n",
    "\n"
   ]
  },
  {
   "cell_type": "code",
   "execution_count": 63,
   "metadata": {},
   "outputs": [
    {
     "name": "stdout",
     "output_type": "stream",
     "text": [
      "['50'] ['120']\n"
     ]
    }
   ],
   "source": [
    "print(min_input, max_input)"
   ]
  },
  {
   "cell_type": "code",
   "execution_count": 64,
   "metadata": {},
   "outputs": [
    {
     "data": {
      "text/plain": [
       "['50', '120']"
      ]
     },
     "execution_count": 64,
     "metadata": {},
     "output_type": "execute_result"
    }
   ],
   "source": [
    "request = [min_input[0], max_input[0]]\n",
    "request"
   ]
  },
  {
   "cell_type": "code",
   "execution_count": 65,
   "metadata": {},
   "outputs": [
    {
     "data": {
      "text/plain": [
       "50.0"
      ]
     },
     "execution_count": 65,
     "metadata": {},
     "output_type": "execute_result"
    }
   ],
   "source": [
    "float(request[0])"
   ]
  },
  {
   "cell_type": "code",
   "execution_count": 77,
   "metadata": {},
   "outputs": [],
   "source": [
    "d = read(d)"
   ]
  },
  {
   "cell_type": "code",
   "execution_count": 80,
   "metadata": {},
   "outputs": [
    {
     "data": {
      "text/plain": [
       "{'average_rate_per_night': ['150'],\n",
       " 'bedrooms_count': ['1'],\n",
       " 'city': ['corpu'],\n",
       " 'date_of_listing': ['octob'],\n",
       " 'description': ['profess'],\n",
       " 'latitude': ['27.600363829481'],\n",
       " 'longitude': ['-97.21563909697399'],\n",
       " 'title': ['luxuri'],\n",
       " 'url': ['http']}"
      ]
     },
     "execution_count": 80,
     "metadata": {},
     "output_type": "execute_result"
    }
   ],
   "source": [
    "d = all_col(d)\n",
    "d"
   ]
  },
  {
   "cell_type": "code",
   "execution_count": 84,
   "metadata": {},
   "outputs": [
    {
     "data": {
      "text/plain": [
       "'150'"
      ]
     },
     "execution_count": 84,
     "metadata": {},
     "output_type": "execute_result"
    }
   ],
   "source": [
    "d[\"average_rate_per_night\"][0]"
   ]
  },
  {
   "cell_type": "code",
   "execution_count": 85,
   "metadata": {},
   "outputs": [],
   "source": [
    "#key = price in the interval wanted by user, value = list of docs\n",
    "our_docs = {}\n",
    "for i in range(N):\n",
    "    name_d = \"files/doc_\" + str(i) +\".tsv\"\n",
    "    dataframe = read(name_d)\n",
    "    clean_df = all_col(dataframe)\n",
    "    price = clean_df[\"average_rate_per_night\"][0]\n",
    "    if float(price) >= float(request[0]) and float(price) <= float(request[1]):\n",
    "        if price not in our_docs:\n",
    "            our_docs[price] = [name_d]\n",
    "        else:\n",
    "            our_docs[price].append(name_d)\n",
    "    else:\n",
    "        pass"
   ]
  },
  {
   "cell_type": "code",
   "execution_count": 67,
   "metadata": {},
   "outputs": [],
   "source": [
    "our = json.dumps(our_docs)\n",
    "f3 = open(\"ourDocs.json\",\"w\")\n",
    "f3.write(our)\n",
    "f3.close()"
   ]
  },
  {
   "cell_type": "code",
   "execution_count": 68,
   "metadata": {},
   "outputs": [],
   "source": [
    "with open(\"ourDocs.json\") as f3:\n",
    "    our_docs = json.load(f3)"
   ]
  },
  {
   "cell_type": "code",
   "execution_count": 136,
   "metadata": {},
   "outputs": [],
   "source": [
    "#prezzo:dist da min range\n",
    "\n",
    "distances= {}\n",
    "for p in our_docs.keys():\n",
    "    dist = abs(float(p)-float(request[0]))\n",
    "    distances[p] = dist"
   ]
  },
  {
   "cell_type": "code",
   "execution_count": 137,
   "metadata": {},
   "outputs": [],
   "source": [
    "#doc: price's distance\n",
    "\n",
    "dd= {}\n",
    "for p in our_docs.keys():\n",
    "    docs = our_docs[p] #list of docs\n",
    "    for d in docs:\n",
    "        dd[d] = distances[p]\n",
    "        \n",
    "        \n"
   ]
  },
  {
   "cell_type": "code",
   "execution_count": 138,
   "metadata": {},
   "outputs": [],
   "source": [
    "heap1 = []\n",
    "for document in dd:\n",
    "    ll = [document, dd[document]]\n",
    "    heapq.heappush(heap1, ll)\n",
    "\n"
   ]
  },
  {
   "cell_type": "code",
   "execution_count": 139,
   "metadata": {},
   "outputs": [],
   "source": [
    "first_n = heapq.nsmallest(10, heap1)"
   ]
  },
  {
   "cell_type": "code",
   "execution_count": 140,
   "metadata": {},
   "outputs": [
    {
     "data": {
      "text/plain": [
       "[['files/doc_10.tsv', 15.0],\n",
       " ['files/doc_100.tsv', 49.0],\n",
       " ['files/doc_10000.tsv', 49.0],\n",
       " ['files/doc_10001.tsv', 0.0],\n",
       " ['files/doc_10002.tsv', 29.0],\n",
       " ['files/doc_10007.tsv', 49.0],\n",
       " ['files/doc_10010.tsv', 49.0],\n",
       " ['files/doc_10012.tsv', 40.0],\n",
       " ['files/doc_1002.tsv', 40.0],\n",
       " ['files/doc_10021.tsv', 0.0]]"
      ]
     },
     "execution_count": 140,
     "metadata": {},
     "output_type": "execute_result"
    }
   ],
   "source": [
    "first_n"
   ]
  },
  {
   "cell_type": "code",
   "execution_count": 141,
   "metadata": {},
   "outputs": [],
   "source": [
    "#this are the first lowest ones choosen by the heap algorithm"
   ]
  },
  {
   "cell_type": "code",
   "execution_count": 142,
   "metadata": {},
   "outputs": [
    {
     "data": {
      "text/html": [
       "<style  type=\"text/css\" >\n",
       "</style>  \n",
       "<table id=\"T_828798d0_eff8_11e8_a7e1_4e00dd994601\" > \n",
       "<thead>    <tr> \n",
       "        <th class=\"blank level0\" ></th> \n",
       "        <th class=\"col_heading level0 col0\" >title</th> \n",
       "        <th class=\"col_heading level0 col1\" >description</th> \n",
       "        <th class=\"col_heading level0 col2\" >city</th> \n",
       "        <th class=\"col_heading level0 col3\" >url</th> \n",
       "    </tr></thead> \n",
       "<tbody>    <tr> \n",
       "        <th id=\"T_828798d0_eff8_11e8_a7e1_4e00dd994601level0_row0\" class=\"row_heading level0 row0\" >0</th> \n",
       "        <td id=\"T_828798d0_eff8_11e8_a7e1_4e00dd994601row0_col0\" class=\"data row0 col0\" >Cozy 1 bedroom/bathroom with pool</td> \n",
       "        <td id=\"T_828798d0_eff8_11e8_a7e1_4e00dd994601row0_col1\" class=\"data row0 col1\" >My cool and comfortable bedroom apartment feels like home. It comfortably fits 2 people and centrally located on a quiet street. Enjoy a gourmet kitchen and easy access to all major highways.</td> \n",
       "        <td id=\"T_828798d0_eff8_11e8_a7e1_4e00dd994601row0_col2\" class=\"data row0 col2\" >Irving</td> \n",
       "        <td id=\"T_828798d0_eff8_11e8_a7e1_4e00dd994601row0_col3\" class=\"data row0 col3\" >https://www.airbnb.com/rooms/7276294?location=Colleyville%2C%20TX</td> \n",
       "    </tr></tbody> \n",
       "</table> "
      ],
      "text/plain": [
       "<pandas.io.formats.style.Styler at 0x1a11339e48>"
      ]
     },
     "metadata": {},
     "output_type": "display_data"
    },
    {
     "data": {
      "text/html": [
       "<style  type=\"text/css\" >\n",
       "</style>  \n",
       "<table id=\"T_828869a4_eff8_11e8_9df6_4e00dd994601\" > \n",
       "<thead>    <tr> \n",
       "        <th class=\"blank level0\" ></th> \n",
       "        <th class=\"col_heading level0 col0\" >title</th> \n",
       "        <th class=\"col_heading level0 col1\" >description</th> \n",
       "        <th class=\"col_heading level0 col2\" >city</th> \n",
       "        <th class=\"col_heading level0 col3\" >url</th> \n",
       "    </tr></thead> \n",
       "<tbody>    <tr> \n",
       "        <th id=\"T_828869a4_eff8_11e8_9df6_4e00dd994601level0_row0\" class=\"row_heading level0 row0\" >0</th> \n",
       "        <td id=\"T_828869a4_eff8_11e8_9df6_4e00dd994601row0_col0\" class=\"data row0 col0\" >Room at the Lake</td> \n",
       "        <td id=\"T_828869a4_eff8_11e8_9df6_4e00dd994601row0_col1\" class=\"data row0 col1\" >Room at the Lake, whether your just traveling through and need a room for your stay or looking for a weekend get-a-way at the Lake. Just a short Stroll through the Countryside at Cedar Creek Lake.</td> \n",
       "        <td id=\"T_828869a4_eff8_11e8_9df6_4e00dd994601row0_col2\" class=\"data row0 col2\" >Mabank</td> \n",
       "        <td id=\"T_828869a4_eff8_11e8_9df6_4e00dd994601row0_col3\" class=\"data row0 col3\" >https://www.airbnb.com/rooms/15370783?location=Cedar%20Creek%20Reservoir%2C%20TX</td> \n",
       "    </tr></tbody> \n",
       "</table> "
      ],
      "text/plain": [
       "<pandas.io.formats.style.Styler at 0x1a112e00f0>"
      ]
     },
     "metadata": {},
     "output_type": "display_data"
    },
    {
     "data": {
      "text/html": [
       "<style  type=\"text/css\" >\n",
       "</style>  \n",
       "<table id=\"T_82893886_eff8_11e8_b6f3_4e00dd994601\" > \n",
       "<thead>    <tr> \n",
       "        <th class=\"blank level0\" ></th> \n",
       "        <th class=\"col_heading level0 col0\" >title</th> \n",
       "        <th class=\"col_heading level0 col1\" >description</th> \n",
       "        <th class=\"col_heading level0 col2\" >city</th> \n",
       "        <th class=\"col_heading level0 col3\" >url</th> \n",
       "    </tr></thead> \n",
       "<tbody>    <tr> \n",
       "        <th id=\"T_82893886_eff8_11e8_b6f3_4e00dd994601level0_row0\" class=\"row_heading level0 row0\" >0</th> \n",
       "        <td id=\"T_82893886_eff8_11e8_b6f3_4e00dd994601row0_col0\" class=\"data row0 col0\" >*Zen private studio in the heart of South Austin*</td> \n",
       "        <td id=\"T_82893886_eff8_11e8_b6f3_4e00dd994601row0_col1\" class=\"data row0 col1\" >The peaceful private backyard studio is close to everything - downtown, Lady Bird Lake, South Congress, Barton Springs, Zilker Park, Auditorium Shores, Palmer Auditorium, minutes from East Austin. YouÃ¢ÂÂll love the place because of the unique space. Tucked under sprawling Southern Live Oaks trees it has incredible light, a lush queen-sized bed, comfy fold-out leather sofa bed. My place is ideal for couples, solo adventurers, business travelers, families (with kids), and it's pet friendly.</td> \n",
       "        <td id=\"T_82893886_eff8_11e8_b6f3_4e00dd994601row0_col2\" class=\"data row0 col2\" >Austin</td> \n",
       "        <td id=\"T_82893886_eff8_11e8_b6f3_4e00dd994601row0_col3\" class=\"data row0 col3\" >https://www.airbnb.com/rooms/16157135?location=Brazos%20River%2C%20TX</td> \n",
       "    </tr></tbody> \n",
       "</table> "
      ],
      "text/plain": [
       "<pandas.io.formats.style.Styler at 0x1a11382e48>"
      ]
     },
     "metadata": {},
     "output_type": "display_data"
    },
    {
     "data": {
      "text/html": [
       "<style  type=\"text/css\" >\n",
       "</style>  \n",
       "<table id=\"T_828a0f18_eff8_11e8_b28f_4e00dd994601\" > \n",
       "<thead>    <tr> \n",
       "        <th class=\"blank level0\" ></th> \n",
       "        <th class=\"col_heading level0 col0\" >title</th> \n",
       "        <th class=\"col_heading level0 col1\" >description</th> \n",
       "        <th class=\"col_heading level0 col2\" >city</th> \n",
       "        <th class=\"col_heading level0 col3\" >url</th> \n",
       "    </tr></thead> \n",
       "<tbody>    <tr> \n",
       "        <th id=\"T_828a0f18_eff8_11e8_b28f_4e00dd994601level0_row0\" class=\"row_heading level0 row0\" >0</th> \n",
       "        <td id=\"T_828a0f18_eff8_11e8_b28f_4e00dd994601row0_col0\" class=\"data row0 col0\" >Private Room near Fiesta Texas</td> \n",
       "        <td id=\"T_828a0f18_eff8_11e8_b28f_4e00dd994601row0_col1\" class=\"data row0 col1\" >Lovely quiet neighborhood just outside San Antonio in Helotes only 10 minutes away from Fiesta Texas &amp; UTSA, and 15 minute to Sea World. Two full bathrooms available for use. You're welcome to use the kitchen, deck, TV room, and washer &amp; dryer.</td> \n",
       "        <td id=\"T_828a0f18_eff8_11e8_b28f_4e00dd994601row0_col2\" class=\"data row0 col2\" >Helotes</td> \n",
       "        <td id=\"T_828a0f18_eff8_11e8_b28f_4e00dd994601row0_col3\" class=\"data row0 col3\" >https://www.airbnb.com/rooms/6360252?location=Boerne%2C%20TX</td> \n",
       "    </tr></tbody> \n",
       "</table> "
      ],
      "text/plain": [
       "<pandas.io.formats.style.Styler at 0x1a1138e5f8>"
      ]
     },
     "metadata": {},
     "output_type": "display_data"
    },
    {
     "data": {
      "text/html": [
       "<style  type=\"text/css\" >\n",
       "</style>  \n",
       "<table id=\"T_828aec24_eff8_11e8_b88f_4e00dd994601\" > \n",
       "<thead>    <tr> \n",
       "        <th class=\"blank level0\" ></th> \n",
       "        <th class=\"col_heading level0 col0\" >title</th> \n",
       "        <th class=\"col_heading level0 col1\" >description</th> \n",
       "        <th class=\"col_heading level0 col2\" >city</th> \n",
       "        <th class=\"col_heading level0 col3\" >url</th> \n",
       "    </tr></thead> \n",
       "<tbody>    <tr> \n",
       "        <th id=\"T_828aec24_eff8_11e8_b88f_4e00dd994601level0_row0\" class=\"row_heading level0 row0\" >0</th> \n",
       "        <td id=\"T_828aec24_eff8_11e8_b88f_4e00dd994601row0_col0\" class=\"data row0 col0\" >Good Vibe Vineyards Retreat</td> \n",
       "        <td id=\"T_828aec24_eff8_11e8_b88f_4e00dd994601row0_col1\" class=\"data row0 col1\" >GVV Retreat is located in the heart of downtown San Saba. Enjoy the view of the town and beyond from one of our two spacious balconies while sipping a nice glass of your favorite wine from the two outstanding wineries located across the street.</td> \n",
       "        <td id=\"T_828aec24_eff8_11e8_b88f_4e00dd994601row0_col2\" class=\"data row0 col2\" >San Saba</td> \n",
       "        <td id=\"T_828aec24_eff8_11e8_b88f_4e00dd994601row0_col3\" class=\"data row0 col3\" >https://www.airbnb.com/rooms/10381801?location=Brady%2C%20TX</td> \n",
       "    </tr></tbody> \n",
       "</table> "
      ],
      "text/plain": [
       "<pandas.io.formats.style.Styler at 0x1a1138e550>"
      ]
     },
     "metadata": {},
     "output_type": "display_data"
    },
    {
     "data": {
      "text/html": [
       "<style  type=\"text/css\" >\n",
       "</style>  \n",
       "<table id=\"T_828c52ba_eff8_11e8_980d_4e00dd994601\" > \n",
       "<thead>    <tr> \n",
       "        <th class=\"blank level0\" ></th> \n",
       "        <th class=\"col_heading level0 col0\" >title</th> \n",
       "        <th class=\"col_heading level0 col1\" >description</th> \n",
       "        <th class=\"col_heading level0 col2\" >city</th> \n",
       "        <th class=\"col_heading level0 col3\" >url</th> \n",
       "    </tr></thead> \n",
       "<tbody>    <tr> \n",
       "        <th id=\"T_828c52ba_eff8_11e8_980d_4e00dd994601level0_row0\" class=\"row_heading level0 row0\" >0</th> \n",
       "        <td id=\"T_828c52ba_eff8_11e8_980d_4e00dd994601row0_col0\" class=\"data row0 col0\" >Dignowity Hill Backyard Bungalow</td> \n",
       "        <td id=\"T_828c52ba_eff8_11e8_980d_4e00dd994601row0_col1\" class=\"data row0 col1\" >My place is close to parks, eats and drinks. Walking distance to Lockwood park,The Pearl, Dignowity meats, Panchos and Gringos, Tucker's Kozy Korner, Alamo Brewery and Burleson Yard Beergarden.\\n\\n5-10 minute bike-ride to the Alamo, Hemisfair park, Historic Market square, Southtown and more.. YouÃ¢ÂÂll love my place because of the location, the outdoor space, and privacy of a small bungalow in walking distance of the city. My place is good for couples, solo adventurers, and business travel.</td> \n",
       "        <td id=\"T_828c52ba_eff8_11e8_980d_4e00dd994601row0_col2\" class=\"data row0 col2\" >San Antonio</td> \n",
       "        <td id=\"T_828c52ba_eff8_11e8_980d_4e00dd994601row0_col3\" class=\"data row0 col3\" >https://www.airbnb.com/rooms/13435858?location=Bulverde%2C%20TX</td> \n",
       "    </tr></tbody> \n",
       "</table> "
      ],
      "text/plain": [
       "<pandas.io.formats.style.Styler at 0x1a1138e278>"
      ]
     },
     "metadata": {},
     "output_type": "display_data"
    },
    {
     "data": {
      "text/html": [
       "<style  type=\"text/css\" >\n",
       "</style>  \n",
       "<table id=\"T_828d60a8_eff8_11e8_b93d_4e00dd994601\" > \n",
       "<thead>    <tr> \n",
       "        <th class=\"blank level0\" ></th> \n",
       "        <th class=\"col_heading level0 col0\" >title</th> \n",
       "        <th class=\"col_heading level0 col1\" >description</th> \n",
       "        <th class=\"col_heading level0 col2\" >city</th> \n",
       "        <th class=\"col_heading level0 col3\" >url</th> \n",
       "    </tr></thead> \n",
       "<tbody>    <tr> \n",
       "        <th id=\"T_828d60a8_eff8_11e8_b93d_4e00dd994601level0_row0\" class=\"row_heading level0 row0\" >0</th> \n",
       "        <td id=\"T_828d60a8_eff8_11e8_b93d_4e00dd994601row0_col0\" class=\"data row0 col0\" >Comfy NW Austin Suburb Apt near Metro Rail to Aus</td> \n",
       "        <td id=\"T_828d60a8_eff8_11e8_b93d_4e00dd994601row0_col1\" class=\"data row0 col1\" >This apartment is: \\n* Just outside NW Austin city limits in Cedar Park\\n* Convenient to all things Austin\\n* Minutes from Lake Travis\\n* Located a few minutes from the Austin Metro Rail\\n* In an area where Uber and Lyft are available! \\n* Walking distance to local parks, restaurants and dining\\n* Down the street from one of the area's largest malls\\n* A popular place because of location \\n* Good for couples, solo adventurers, and business travelers\\n* FREE WIFI</td> \n",
       "        <td id=\"T_828d60a8_eff8_11e8_b93d_4e00dd994601row0_col2\" class=\"data row0 col2\" >Cedar Park</td> \n",
       "        <td id=\"T_828d60a8_eff8_11e8_b93d_4e00dd994601row0_col3\" class=\"data row0 col3\" >https://www.airbnb.com/rooms/13153903?location=Bertram%2C%20TX</td> \n",
       "    </tr></tbody> \n",
       "</table> "
      ],
      "text/plain": [
       "<pandas.io.formats.style.Styler at 0x1a1138eeb8>"
      ]
     },
     "metadata": {},
     "output_type": "display_data"
    },
    {
     "data": {
      "text/html": [
       "<style  type=\"text/css\" >\n",
       "</style>  \n",
       "<table id=\"T_828e4608_eff8_11e8_b78e_4e00dd994601\" > \n",
       "<thead>    <tr> \n",
       "        <th class=\"blank level0\" ></th> \n",
       "        <th class=\"col_heading level0 col0\" >title</th> \n",
       "        <th class=\"col_heading level0 col1\" >description</th> \n",
       "        <th class=\"col_heading level0 col2\" >city</th> \n",
       "        <th class=\"col_heading level0 col3\" >url</th> \n",
       "    </tr></thead> \n",
       "<tbody>    <tr> \n",
       "        <th id=\"T_828e4608_eff8_11e8_b78e_4e00dd994601level0_row0\" class=\"row_heading level0 row0\" >0</th> \n",
       "        <td id=\"T_828e4608_eff8_11e8_b78e_4e00dd994601row0_col0\" class=\"data row0 col0\" > Mi Casita Hideaway </td> \n",
       "        <td id=\"T_828e4608_eff8_11e8_b78e_4e00dd994601row0_col1\" class=\"data row0 col1\" >FREE-STANDING BEDROOM SUITE WITH SEPARATE ENTRANCE. Experience Tuscan flavor peace &amp; quiet centrally located between San Antonio and Austin; at The Bandit Golf Club on the banks of the Guadalupe River. Only minutes to marvelous food and live entertainment in Gruene; family fun at Schlitterbaun water park; river floating; Outlet Malls; wineries, and San Antonio and Austin.</td> \n",
       "        <td id=\"T_828e4608_eff8_11e8_b78e_4e00dd994601row0_col2\" class=\"data row0 col2\" >New Braunfels</td> \n",
       "        <td id=\"T_828e4608_eff8_11e8_b78e_4e00dd994601row0_col3\" class=\"data row0 col3\" >https://www.airbnb.com/rooms/1124535?location=Brazos%20River%2C%20TX</td> \n",
       "    </tr></tbody> \n",
       "</table> "
      ],
      "text/plain": [
       "<pandas.io.formats.style.Styler at 0x1a1138e828>"
      ]
     },
     "metadata": {},
     "output_type": "display_data"
    },
    {
     "data": {
      "text/html": [
       "<style  type=\"text/css\" >\n",
       "</style>  \n",
       "<table id=\"T_828f16f0_eff8_11e8_8212_4e00dd994601\" > \n",
       "<thead>    <tr> \n",
       "        <th class=\"blank level0\" ></th> \n",
       "        <th class=\"col_heading level0 col0\" >title</th> \n",
       "        <th class=\"col_heading level0 col1\" >description</th> \n",
       "        <th class=\"col_heading level0 col2\" >city</th> \n",
       "        <th class=\"col_heading level0 col3\" >url</th> \n",
       "    </tr></thead> \n",
       "<tbody>    <tr> \n",
       "        <th id=\"T_828f16f0_eff8_11e8_8212_4e00dd994601level0_row0\" class=\"row_heading level0 row0\" >0</th> \n",
       "        <td id=\"T_828f16f0_eff8_11e8_8212_4e00dd994601row0_col0\" class=\"data row0 col0\" >Comfy guest house close to it all!</td> \n",
       "        <td id=\"T_828f16f0_eff8_11e8_8212_4e00dd994601row0_col1\" class=\"data row0 col1\" >Get everywhere in 5 minutes- TCU, cultural district, medical district, downtown, west 7th.</td> \n",
       "        <td id=\"T_828f16f0_eff8_11e8_8212_4e00dd994601row0_col2\" class=\"data row0 col2\" >Fort Worth</td> \n",
       "        <td id=\"T_828f16f0_eff8_11e8_8212_4e00dd994601row0_col3\" class=\"data row0 col3\" >https://www.airbnb.com/rooms/751987?location=Benbrook%2C%20TX</td> \n",
       "    </tr></tbody> \n",
       "</table> "
      ],
      "text/plain": [
       "<pandas.io.formats.style.Styler at 0x1a11314d30>"
      ]
     },
     "metadata": {},
     "output_type": "display_data"
    },
    {
     "data": {
      "text/html": [
       "<style  type=\"text/css\" >\n",
       "</style>  \n",
       "<table id=\"T_82908a4c_eff8_11e8_ad96_4e00dd994601\" > \n",
       "<thead>    <tr> \n",
       "        <th class=\"blank level0\" ></th> \n",
       "        <th class=\"col_heading level0 col0\" >title</th> \n",
       "        <th class=\"col_heading level0 col1\" >description</th> \n",
       "        <th class=\"col_heading level0 col2\" >city</th> \n",
       "        <th class=\"col_heading level0 col3\" >url</th> \n",
       "    </tr></thead> \n",
       "<tbody>    <tr> \n",
       "        <th id=\"T_82908a4c_eff8_11e8_ad96_4e00dd994601level0_row0\" class=\"row_heading level0 row0\" >0</th> \n",
       "        <td id=\"T_82908a4c_eff8_11e8_ad96_4e00dd994601row0_col0\" class=\"data row0 col0\" >Fish Pond</td> \n",
       "        <td id=\"T_82908a4c_eff8_11e8_ad96_4e00dd994601row0_col1\" class=\"data row0 col1\" >It's a house!!!!</td> \n",
       "        <td id=\"T_82908a4c_eff8_11e8_ad96_4e00dd994601row0_col2\" class=\"data row0 col2\" >Harker Heights</td> \n",
       "        <td id=\"T_82908a4c_eff8_11e8_ad96_4e00dd994601row0_col3\" class=\"data row0 col3\" >https://www.airbnb.com/rooms/17847394?location=Bell%20County%2C%20TX</td> \n",
       "    </tr></tbody> \n",
       "</table> "
      ],
      "text/plain": [
       "<pandas.io.formats.style.Styler at 0x1a11382ef0>"
      ]
     },
     "metadata": {},
     "output_type": "display_data"
    }
   ],
   "source": [
    "for l in first_n:\n",
    "    d = l[0]\n",
    "    d = read(d)\n",
    "    d = d[[\"title\",\"description\",\"city\",\"url\"]]\n",
    "    display(d.style)\n",
    "    \n",
    "    "
   ]
  },
  {
   "cell_type": "markdown",
   "metadata": {},
   "source": [
    "### Coordinates"
   ]
  },
  {
   "cell_type": "code",
   "execution_count": 10,
   "metadata": {},
   "outputs": [
    {
     "name": "stdout",
     "output_type": "stream",
     "text": [
      "Enter latitude:30.020138\n",
      "Enter longitude:-95.293996\n",
      "Enter radius in km:100\n"
     ]
    }
   ],
   "source": [
    "latitude=float(input('Enter latitude:'))\n",
    "longitude=float(input('Enter longitude:'))\n",
    "r=float(input('Enter radius in km:'))\n",
    "coord=[latitude, longitude]\n"
   ]
  },
  {
   "cell_type": "code",
   "execution_count": 11,
   "metadata": {},
   "outputs": [
    {
     "data": {
      "text/plain": [
       "[30.020138, -95.293996]"
      ]
     },
     "execution_count": 11,
     "metadata": {},
     "output_type": "execute_result"
    }
   ],
   "source": [
    "coord"
   ]
  },
  {
   "cell_type": "code",
   "execution_count": 13,
   "metadata": {},
   "outputs": [
    {
     "data": {
      "text/plain": [
       "100.0"
      ]
     },
     "execution_count": 13,
     "metadata": {},
     "output_type": "execute_result"
    }
   ],
   "source": [
    "r\n"
   ]
  },
  {
   "cell_type": "code",
   "execution_count": 14,
   "metadata": {},
   "outputs": [],
   "source": [
    "df4 = rentals_file.filter(items = ['latitude','longitude'])"
   ]
  },
  {
   "cell_type": "code",
   "execution_count": 34,
   "metadata": {},
   "outputs": [],
   "source": [
    "#doc:dist from input coord\n",
    "llc = {}\n",
    "for i in range(len(df4)):\n",
    "    docu = \"files/doc_\" + str(i) +\".tsv\"\n",
    "    try:\n",
    "        \n",
    "        all_coord = [df4.latitude[i], df4.longitude[i]]\n",
    "        dis = distance.distance(coord, all_coord).kilometers #we want km values\n",
    "        if dis < r:\n",
    "            llc[docu] = dis\n",
    "    except:\n",
    "        pass\n"
   ]
  },
  {
   "cell_type": "code",
   "execution_count": 35,
   "metadata": {},
   "outputs": [
    {
     "data": {
      "text/plain": [
       "[['files/doc_0.tsv', 8.883104225691304e-06],\n",
       " ['files/doc_10032.tsv', 34.51318632926681],\n",
       " ['files/doc_1006.tsv', 58.554857565262544],\n",
       " ['files/doc_10077.tsv', 39.564766552630175],\n",
       " ['files/doc_1281.tsv', 94.39667699272606],\n",
       " ['files/doc_1430.tsv', 58.90400133293887],\n",
       " ['files/doc_1007.tsv', 35.48269175297866],\n",
       " ['files/doc_10078.tsv', 37.508753636586945],\n",
       " ['files/doc_1148.tsv', 32.058987075944536],\n",
       " ['files/doc_1283.tsv', 94.07468351979479],\n",
       " ['files/doc_1359.tsv', 66.16160626551425],\n",
       " ['files/doc_1431.tsv', 65.79534435585958],\n",
       " ['files/doc_1530.tsv', 30.1956491111698],\n",
       " ['files/doc_1610.tsv', 30.317901524341327],\n",
       " ['files/doc_1008.tsv', 93.24841593599811],\n",
       " ['files/doc_10079.tsv', 37.93680786829855],\n",
       " ['files/doc_1075.tsv', 62.846657831941634],\n",
       " ['files/doc_1154.tsv', 68.88836639572379],\n",
       " ['files/doc_1239.tsv', 60.188197237830686],\n",
       " ['files/doc_1285.tsv', 29.629246185517623],\n",
       " ['files/doc_1325.tsv', 29.320329999008592],\n",
       " ['files/doc_1360.tsv', 54.88562290295608],\n",
       " ['files/doc_1389.tsv', 68.62050653425756],\n",
       " ['files/doc_1432.tsv', 28.63795529994385],\n",
       " ['files/doc_1476.tsv', 30.9183376497153],\n",
       " ['files/doc_1531.tsv', 26.69684881272628],\n",
       " ['files/doc_1564.tsv', 94.09757966366239],\n",
       " ['files/doc_1611.tsv', 5.628827552582622],\n",
       " ['files/doc_1645.tsv', 59.277538945937515],\n",
       " ['files/doc_1012.tsv', 57.23889027711029],\n",
       " ['files/doc_1013.tsv', 61.34321830177334],\n",
       " ['files/doc_10101.tsv', 86.18226327338421],\n",
       " ['files/doc_1045.tsv', 50.21777563249767],\n",
       " ['files/doc_1079.tsv', 29.59161199932826],\n",
       " ['files/doc_1096.tsv', 55.752783067668865],\n",
       " ['files/doc_116.tsv', 86.02209495791799],\n",
       " ['files/doc_1180.tsv', 55.02560965129092],\n",
       " ['files/doc_124.tsv', 32.647986090334506],\n",
       " ['files/doc_1260.tsv', 61.69877951103973],\n",
       " ['files/doc_1286.tsv', 40.17632190424274],\n",
       " ['files/doc_1299.tsv', 69.42007655724778],\n",
       " ['files/doc_1326.tsv', 27.124525615016804],\n",
       " ['files/doc_1336.tsv', 28.66025627605354],\n",
       " ['files/doc_1361.tsv', 30.811038087197073],\n",
       " ['files/doc_1373.tsv', 90.1743319586104],\n",
       " ['files/doc_1392.tsv', 89.56274258889758],\n",
       " ['files/doc_1406.tsv', 57.64601823100018],\n",
       " ['files/doc_1435.tsv', 96.69443239750827],\n",
       " ['files/doc_1449.tsv', 56.98031816009911],\n",
       " ['files/doc_1477.tsv', 94.15115180634355],\n",
       " ['files/doc_1502.tsv', 40.998792063378225],\n",
       " ['files/doc_1534.tsv', 95.02292881065341],\n",
       " ['files/doc_1546.tsv', 29.080898319529172],\n",
       " ['files/doc_1566.tsv', 93.25467564626646],\n",
       " ['files/doc_1585.tsv', 62.45972527883418],\n",
       " ['files/doc_1616.tsv', 29.94159205412473],\n",
       " ['files/doc_1631.tsv', 56.71324889638092],\n",
       " ['files/doc_1646.tsv', 28.141085693433794],\n",
       " ['files/doc_1666.tsv', 26.183428214262936],\n",
       " ['files/doc_1677.tsv', 28.57229323803464],\n",
       " ['files/doc_164.tsv', 59.28814930109731],\n",
       " ['files/doc_1020.tsv', 33.603512846308284],\n",
       " ['files/doc_1025.tsv', 90.81340174289015],\n",
       " ['files/doc_10154.tsv', 72.2791973886565],\n",
       " ['files/doc_1041.tsv', 11.723084921235003],\n",
       " ['files/doc_1050.tsv', 56.81383731502042],\n",
       " ['files/doc_1056.tsv', 55.4878108442024],\n",
       " ['files/doc_1080.tsv', 96.15636495619633],\n",
       " ['files/doc_1089.tsv', 50.679578458514484],\n",
       " ['files/doc_1099.tsv', 31.463021020230027],\n",
       " ['files/doc_1136.tsv', 30.986737313015908],\n",
       " ['files/doc_1162.tsv', 32.38625008806981],\n",
       " ['files/doc_1165.tsv', 36.62001258239075],\n",
       " ['files/doc_1190.tsv', 93.25525998812653],\n",
       " ['files/doc_1207.tsv', 46.05068599743497],\n",
       " ['files/doc_1249.tsv', 42.47967768947965],\n",
       " ['files/doc_1253.tsv', 37.57440071566175],\n",
       " ['files/doc_1261.tsv', 33.60936111240333],\n",
       " ['files/doc_1267.tsv', 68.59555523446551],\n",
       " ['files/doc_135.tsv', 21.267241927015075],\n",
       " ['files/doc_1287.tsv', 25.187435815100397],\n",
       " ['files/doc_1301.tsv', 13.719392828539203],\n",
       " ['files/doc_1309.tsv', 34.22035061659908],\n",
       " ['files/doc_1327.tsv', 33.05347463089536],\n",
       " ['files/doc_1332.tsv', 55.904329390351215],\n",
       " ['files/doc_1337.tsv', 37.62644250749843],\n",
       " ['files/doc_1349.tsv', 33.39208866094142],\n",
       " ['files/doc_1362.tsv', 58.37525851944441],\n",
       " ['files/doc_1364.tsv', 57.739819498824595],\n",
       " ['files/doc_1374.tsv', 29.561304318456955],\n",
       " ['files/doc_1381.tsv', 95.03826164834568],\n",
       " ['files/doc_1393.tsv', 93.03965214469547],\n",
       " ['files/doc_1398.tsv', 95.44368887272147],\n",
       " ['files/doc_1408.tsv', 59.068838286966574],\n",
       " ['files/doc_1425.tsv', 95.37685686324582],\n",
       " ['files/doc_15366.tsv', 58.552640822326104],\n",
       " ['files/doc_1437.tsv', 31.519804441127466],\n",
       " ['files/doc_1450.tsv', 92.99140881687723],\n",
       " ['files/doc_1462.tsv', 93.68185672580364],\n",
       " ['files/doc_1479.tsv', 37.51023387135731],\n",
       " ['files/doc_1485.tsv', 94.11881090785353],\n",
       " ['files/doc_1504.tsv', 61.65538438824331],\n",
       " ['files/doc_1516.tsv', 59.51042703936798],\n",
       " ['files/doc_1539.tsv', 26.14696850562555],\n",
       " ['files/doc_1540.tsv', 95.00662963991884],\n",
       " ['files/doc_1547.tsv', 29.59161199932826],\n",
       " ['files/doc_1555.tsv', 10.40279265677973],\n",
       " ['files/doc_1567.tsv', 36.693818663740714],\n",
       " ['files/doc_1577.tsv', 31.964428938918303],\n",
       " ['files/doc_1587.tsv', 28.57229323803464],\n",
       " ['files/doc_1595.tsv', 61.08169417485266],\n",
       " ['files/doc_1622.tsv', 60.62943430351713],\n",
       " ['files/doc_1625.tsv', 31.625615372294362],\n",
       " ['files/doc_1633.tsv', 8.536479848759832],\n",
       " ['files/doc_1636.tsv', 54.86148551521607],\n",
       " ['files/doc_1647.tsv', 51.469967316604134],\n",
       " ['files/doc_1650.tsv', 24.47417237233364],\n",
       " ['files/doc_1667.tsv', 94.42862955390493],\n",
       " ['files/doc_1672.tsv', 78.59579541069519],\n",
       " ['files/doc_1680.tsv', 37.027110368659905],\n",
       " ['files/doc_1686.tsv', 26.947545292499306],\n",
       " ['files/doc_1697.tsv', 31.505879907370094],\n",
       " ['files/doc_1704.tsv', 26.241648705439943],\n",
       " ['files/doc_1712.tsv', 59.11118381833194],\n",
       " ['files/doc_1022.tsv', 43.99446193219046],\n",
       " ['files/doc_1026.tsv', 29.463208940228352],\n",
       " ['files/doc_1027.tsv', 86.22655148605618],\n",
       " ['files/doc_1032.tsv', 33.15151336360248],\n",
       " ['files/doc_10196.tsv', 41.17027107404121],\n",
       " ['files/doc_10551.tsv', 33.58275415062149],\n",
       " ['files/doc_1043.tsv', 30.9183376497153],\n",
       " ['files/doc_11234.tsv', 37.478150566705935],\n",
       " ['files/doc_1051.tsv', 39.40157411917556],\n",
       " ['files/doc_1061.tsv', 38.02383361360579],\n",
       " ['files/doc_1063.tsv', 31.30309547097757],\n",
       " ['files/doc_11677.tsv', 39.43336948838688],\n",
       " ['files/doc_1082.tsv', 36.99796911031908],\n",
       " ['files/doc_1091.tsv', 57.64601823100018],\n",
       " ['files/doc_1092.tsv', 34.68576797044707],\n",
       " ['files/doc_12601.tsv', 26.800003470760696],\n",
       " ['files/doc_1101.tsv', 34.07178182110651],\n",
       " ['files/doc_1140.tsv', 38.04096710530383],\n",
       " ['files/doc_1141.tsv', 57.60253619564098],\n",
       " ['files/doc_13030.tsv', 64.82220817501715],\n",
       " ['files/doc_1163.tsv', 28.579681767453582],\n",
       " ['files/doc_1170.tsv', 31.845851668004222],\n",
       " ['files/doc_1173.tsv', 39.43156029186543],\n",
       " ['files/doc_13210.tsv', 26.67975336479018],\n",
       " ['files/doc_1200.tsv', 30.96512302776332],\n",
       " ['files/doc_1228.tsv', 17.32689859712129],\n",
       " ['files/doc_1236.tsv', 70.2113806441605],\n",
       " ['files/doc_13427.tsv', 28.367686599819155],\n",
       " ['files/doc_1250.tsv', 93.6208160979821],\n",
       " ['files/doc_1255.tsv', 64.43178711727758],\n",
       " ['files/doc_1257.tsv', 27.565595876155005],\n",
       " ['files/doc_134.tsv', 7.359801362237066],\n",
       " ['files/doc_1262.tsv', 94.3304791569492],\n",
       " ['files/doc_1268.tsv', 23.38570668261286],\n",
       " ['files/doc_1276.tsv', 24.522570471422387],\n",
       " ['files/doc_13771.tsv', 36.742307035195374],\n",
       " ['files/doc_137.tsv', 96.2885782928629],\n",
       " ['files/doc_1290.tsv', 68.34776210271566],\n",
       " ['files/doc_1293.tsv', 57.847596691622755],\n",
       " ['files/doc_13927.tsv', 51.080482491139776],\n",
       " ['files/doc_1303.tsv', 35.284184133705715],\n",
       " ['files/doc_1314.tsv', 95.29565037128823],\n",
       " ['files/doc_1315.tsv', 35.986086822633624],\n",
       " ['files/doc_14118.tsv', 27.017298475220052],\n",
       " ['files/doc_1329.tsv', 24.242132893967128],\n",
       " ['files/doc_1333.tsv', 45.85060226638629],\n",
       " ['files/doc_1334.tsv', 59.14734386053916],\n",
       " ['files/doc_14286.tsv', 88.92126641679998],\n",
       " ['files/doc_1341.tsv', 58.206974500014184],\n",
       " ['files/doc_1350.tsv', 59.34489708080212],\n",
       " ['files/doc_1355.tsv', 24.276774562307967],\n",
       " ['files/doc_14488.tsv', 39.977465868829135],\n",
       " ['files/doc_14555.tsv', 22.927286294421112],\n",
       " ['files/doc_1368.tsv', 94.51677372540289],\n",
       " ['files/doc_1370.tsv', 49.8108171695094],\n",
       " ['files/doc_14750.tsv', 93.29275706224664],\n",
       " ['files/doc_1375.tsv', 93.81438630908971],\n",
       " ['files/doc_1385.tsv', 14.186916446479842],\n",
       " ['files/doc_1386.tsv', 64.71518563054877],\n",
       " ['files/doc_14950.tsv', 12.093056708603267],\n",
       " ['files/doc_1396.tsv', 49.2642995483229],\n",
       " ['files/doc_1400.tsv', 57.62467255093403],\n",
       " ['files/doc_1404.tsv', 30.603632657240027],\n",
       " ['files/doc_15158.tsv', 26.623594736446595],\n",
       " ['files/doc_1420.tsv', 27.035154299458817],\n",
       " ['files/doc_1426.tsv', 15.233694068010003],\n",
       " ['files/doc_1428.tsv', 10.251254292854824],\n",
       " ['files/doc_15370.tsv', 95.00112755307465],\n",
       " ['files/doc_15406.tsv', 96.7684716335018],\n",
       " ['files/doc_1439.tsv', 54.926296687400125],\n",
       " ['files/doc_1441.tsv', 24.336495338752894],\n",
       " ['files/doc_15552.tsv', 27.047479629773836],\n",
       " ['files/doc_1451.tsv', 26.738568000908575],\n",
       " ['files/doc_1464.tsv', 35.1818412296209],\n",
       " ['files/doc_1466.tsv', 64.41548824365648],\n",
       " ['files/doc_15736.tsv', 45.145207653340385],\n",
       " ['files/doc_1481.tsv', 61.52024759474333],\n",
       " ['files/doc_1486.tsv', 59.08003998629047],\n",
       " ['files/doc_1499.tsv', 96.98523151481821],\n",
       " ['files/doc_15972.tsv', 23.941987239506005],\n",
       " ['files/doc_1506.tsv', 58.07037354531867],\n",
       " ['files/doc_1517.tsv', 93.91320381652265],\n",
       " ['files/doc_1520.tsv', 14.124364622400316],\n",
       " ['files/doc_16208.tsv', 30.325184344106383],\n",
       " ['files/doc_16273.tsv', 59.0052209897806],\n",
       " ['files/doc_1542.tsv', 51.02852625254354],\n",
       " ['files/doc_1543.tsv', 51.51152706192529],\n",
       " ['files/doc_16497.tsv', 32.3952372728607],\n",
       " ['files/doc_1548.tsv', 68.47391862773759],\n",
       " ['files/doc_1556.tsv', 11.67686978270849],\n",
       " ['files/doc_1560.tsv', 93.36476274724444],\n",
       " ['files/doc_16762.tsv', 36.602679973406694],\n",
       " ['files/doc_1573.tsv', 93.64557841023131],\n",
       " ['files/doc_1581.tsv', 26.33048324224586],\n",
       " ['files/doc_1582.tsv', 46.686691960284456],\n",
       " ['files/doc_17040.tsv', 36.77754422870318],\n",
       " ['files/doc_1588.tsv', 56.85938126631888],\n",
       " ['files/doc_1598.tsv', 59.70629914748243],\n",
       " ['files/doc_1602.tsv', 95.37537546433248],\n",
       " ['files/doc_17268.tsv', 95.05270672517123],\n",
       " ['files/doc_17330.tsv', 58.95592662453223],\n",
       " ['files/doc_1626.tsv', 64.02627512138685],\n",
       " ['files/doc_1629.tsv', 55.880408586221726],\n",
       " ['files/doc_17510.tsv', 27.323792036198785],\n",
       " ['files/doc_1634.tsv', 64.34091160588174],\n",
       " ['files/doc_1637.tsv', 58.552640822326104],\n",
       " ['files/doc_1641.tsv', 77.81024709556735],\n",
       " ['files/doc_17799.tsv', 31.536504100585862],\n",
       " ['files/doc_1649.tsv', 30.54271693463655],\n",
       " ['files/doc_1657.tsv', 96.6309151485328],\n",
       " ['files/doc_1658.tsv', 64.70490645918711],\n",
       " ['files/doc_18085.tsv', 55.34433374953078],\n",
       " ['files/doc_1669.tsv', 57.23871972464422],\n",
       " ['files/doc_1673.tsv', 96.8393628803546],\n",
       " ['files/doc_1675.tsv', 31.285813708470435],\n",
       " ['files/doc_4303.tsv', 3.592257833068649],\n",
       " ['files/doc_1681.tsv', 60.621179001502874],\n",
       " ['files/doc_1690.tsv', 50.62061897664185],\n",
       " ['files/doc_1692.tsv', 31.51140130347185],\n",
       " ['files/doc_1699.tsv', 56.428543020436095],\n",
       " ['files/doc_1700.tsv', 34.94743506838103],\n",
       " ['files/doc_1706.tsv', 46.53180534903268],\n",
       " ['files/doc_1708.tsv', 56.54565451931184],\n",
       " ['files/doc_1715.tsv', 33.26214384440916],\n",
       " ['files/doc_1718.tsv', 29.012860411711674],\n",
       " ['files/doc_1720.tsv', 57.10045591765274],\n",
       " ['files/doc_1024.tsv', 59.12105493762874],\n",
       " ['files/doc_1729.tsv', 56.02444308525204],\n",
       " ['files/doc_1734.tsv', 59.24277451877426],\n",
       " ['files/doc_1740.tsv', 33.397474676912594],\n",
       " ['files/doc_1028.tsv', 36.70969321681956],\n",
       " ['files/doc_1757.tsv', 44.038922961096624],\n",
       " ['files/doc_1033.tsv', 31.141479612316505],\n",
       " ['files/doc_10223.tsv', 42.59987234575736],\n",
       " ['files/doc_10408.tsv', 43.74750818462885],\n",
       " ['files/doc_10632.tsv', 31.031016307481078],\n",
       " ['files/doc_10805.tsv', 37.23154816515813],\n",
       " ['files/doc_10963.tsv', 36.100790199776576],\n",
       " ['files/doc_1044.tsv', 53.23054483397805],\n",
       " ['files/doc_11237.tsv', 76.05844558084524],\n",
       " ['files/doc_11330.tsv', 45.51049501671582],\n",
       " ['files/doc_11376.tsv', 35.727054153182095],\n",
       " ['files/doc_1055.tsv', 58.057133038657824],\n",
       " ['files/doc_11490.tsv', 39.589748016756204],\n",
       " ['files/doc_11539.tsv', 39.303536179205935],\n",
       " ['files/doc_11593.tsv', 36.93582665808654],\n",
       " ['files/doc_1065.tsv', 31.54789419843694],\n",
       " ['files/doc_11681.tsv', 37.92776978241841],\n",
       " ['files/doc_11739.tsv', 38.5491284131569],\n",
       " ['files/doc_11792.tsv', 93.3193688387748],\n",
       " ['files/doc_11977.tsv', 61.34321830177334],\n",
       " ['files/doc_12074.tsv', 27.89836680581819],\n",
       " ['files/doc_12423.tsv', 90.6767953957845],\n",
       " ['files/doc_12473.tsv', 32.830900006139224],\n",
       " ['files/doc_1094.tsv', 88.92126641679998],\n",
       " ['files/doc_12616.tsv', 31.12251586764227],\n",
       " ['files/doc_12705.tsv', 28.221186255259347],\n",
       " ['files/doc_12819.tsv', 34.978053382069426],\n",
       " ['files/doc_1118.tsv', 31.192289895928127],\n",
       " ['files/doc_12929.tsv', 59.17796803645575],\n",
       " ['files/doc_12961.tsv', 8.975914415788921],\n",
       " ['files/doc_12996.tsv', 52.74569966140507],\n",
       " ['files/doc_1142.tsv', 91.27112182258814],\n",
       " ['files/doc_13034.tsv', 70.51521828273953],\n",
       " ['files/doc_13060.tsv', 52.711469494356244],\n",
       " ['files/doc_13078.tsv', 31.54855565508505],\n",
       " ['files/doc_121.tsv', 36.3865446780298],\n",
       " ['files/doc_13118.tsv', 57.30403575115461],\n",
       " ['files/doc_13147.tsv', 61.08057303122967],\n",
       " ['files/doc_13168.tsv', 94.94649618516813],\n",
       " ['files/doc_1177.tsv', 35.948969656327165],\n",
       " ['files/doc_13212.tsv', 59.24607570411268],\n",
       " ['files/doc_13236.tsv', 63.095549416948586],\n",
       " ['files/doc_13264.tsv', 37.98778475191673],\n",
       " ['files/doc_1203.tsv', 31.09332447853692],\n",
       " ['files/doc_13330.tsv', 32.38310470332895],\n",
       " ['files/doc_13347.tsv', 29.840197242838446],\n",
       " ['files/doc_13370.tsv', 31.22635027374486],\n",
       " ['files/doc_1238.tsv', 95.56670328586662],\n",
       " ['files/doc_13431.tsv', 32.372229357541755],\n",
       " ['files/doc_13467.tsv', 30.39689591512089],\n",
       " ['files/doc_13485.tsv', 45.14988583396638],\n",
       " ['files/doc_1251.tsv', 72.2791973886565],\n",
       " ['files/doc_13517.tsv', 34.22224931702773],\n",
       " ['files/doc_13543.tsv', 91.24754118957084],\n",
       " ['files/doc_13561.tsv', 24.121237663231923],\n",
       " ['files/doc_1259.tsv', 59.12105493762874],\n",
       " ['files/doc_13600.tsv', 37.51023387135731],\n",
       " ['files/doc_13615.tsv', 88.98375008606823],\n",
       " ['files/doc_13637.tsv', 39.578663017997826],\n",
       " ['files/doc_1263.tsv', 19.844548044025892],\n",
       " ['files/doc_13688.tsv', 43.58203499831707],\n",
       " ['files/doc_13710.tsv', 58.044164553953046],\n",
       " ['files/doc_13733.tsv', 46.6977892621272],\n",
       " ['files/doc_1279.tsv', 59.53706280872092],\n",
       " ['files/doc_13776.tsv', 31.192289895928127],\n",
       " ['files/doc_13798.tsv', 31.60372433104866],\n",
       " ['files/doc_13810.tsv', 30.356753281245076],\n",
       " ['files/doc_13830.tsv', 49.2642995483229],\n",
       " ['files/doc_13852.tsv', 38.286641441621],\n",
       " ['files/doc_13868.tsv', 63.604920354092364],\n",
       " ['files/doc_13889.tsv', 38.4265717402202],\n",
       " ['files/doc_1296.tsv', 92.67930115175297],\n",
       " ['files/doc_13930.tsv', 26.24372348667236],\n",
       " ['files/doc_13952.tsv', 29.629246185517623],\n",
       " ['files/doc_13972.tsv', 94.15073327472463],\n",
       " ['files/doc_1304.tsv', 70.37686828016183],\n",
       " ['files/doc_14023.tsv', 26.607316341770943],\n",
       " ['files/doc_14047.tsv', 69.19098183461523],\n",
       " ['files/doc_14069.tsv', 30.33298108242433],\n",
       " ['files/doc_1318.tsv', 94.34212986232538],\n",
       " ['files/doc_14122.tsv', 54.8622888788276],\n",
       " ['files/doc_14145.tsv', 75.06096839388024],\n",
       " ['files/doc_14161.tsv', 60.719676531487615],\n",
       " ['files/doc_14188.tsv', 52.17886522876647],\n",
       " ['files/doc_14210.tsv', 88.99145059602529],\n",
       " ['files/doc_14227.tsv', 36.251104565918254],\n",
       " ['files/doc_14248.tsv', 62.30929215226184],\n",
       " ['files/doc_1335.tsv', 44.96903617109817],\n",
       " ['files/doc_14290.tsv', 41.90004953406575],\n",
       " ['files/doc_14306.tsv', 78.90236905132102],\n",
       " ['files/doc_14337.tsv', 29.759693612572587],\n",
       " ['files/doc_1344.tsv', 57.106168322860974],\n",
       " ['files/doc_14384.tsv', 38.27620019476263],\n",
       " ['files/doc_14407.tsv', 58.76046108378232],\n",
       " ['files/doc_14433.tsv', 89.31158428281215],\n",
       " ['files/doc_1356.tsv', 1.7382444730519144],\n",
       " ['files/doc_14489.tsv', 41.249206228925146],\n",
       " ['files/doc_14524.tsv', 37.62644250749843],\n",
       " ['files/doc_14558.tsv', 37.17419277300631],\n",
       " ['files/doc_14582.tsv', 25.11356583418048],\n",
       " ['files/doc_14610.tsv', 32.71167827110434],\n",
       " ['files/doc_14638.tsv', 62.1556487390628],\n",
       " ['files/doc_14669.tsv', 94.32593657257455],\n",
       " ['files/doc_1372.tsv', 52.78394613427675],\n",
       " ['files/doc_14752.tsv', 6.946662478265285],\n",
       " ['files/doc_14776.tsv', 57.17935195590121],\n",
       " ['files/doc_14809.tsv', 36.372799228082386],\n",
       " ['files/doc_1376.tsv', 57.15024627588432],\n",
       " ['files/doc_14858.tsv', 28.440254589095666],\n",
       " ['files/doc_14888.tsv', 96.32114208599828],\n",
       " ['files/doc_14909.tsv', 94.60020182990819],\n",
       " ['files/doc_1388.tsv', 27.73162478172759],\n",
       " ['files/doc_14951.tsv', 34.669308732908846],\n",
       " ['files/doc_14993.tsv', 31.484482186060625],\n",
       " ['files/doc_15021.tsv', 94.99391077530821],\n",
       " ['files/doc_15042.tsv', 93.89017166369354],\n",
       " ['files/doc_15079.tsv', 31.3136940729895],\n",
       " ['files/doc_15101.tsv', 94.35241914643707],\n",
       " ['files/doc_15130.tsv', 27.371715694202972],\n",
       " ['files/doc_1405.tsv', 94.2593988182891],\n",
       " ['files/doc_15161.tsv', 31.325627223823258],\n",
       " ['files/doc_15191.tsv', 42.680101734384195],\n",
       " ['files/doc_15213.tsv', 60.75789223000493],\n",
       " ['files/doc_1421.tsv', 14.186916446479842],\n",
       " ['files/doc_15256.tsv', 56.0036719511687],\n",
       " ['files/doc_15281.tsv', 64.34091160588174],\n",
       " ['files/doc_15319.tsv', 29.75952890079618],\n",
       " ['files/doc_1429.tsv', 28.162411594883302],\n",
       " ['files/doc_15372.tsv', 55.20689111152724],\n",
       " ['files/doc_15382.tsv', 49.97891118789845],\n",
       " ['files/doc_15410.tsv', 33.53858327583738],\n",
       " ['files/doc_15435.tsv', 44.08356774163533],\n",
       " ['files/doc_15460.tsv', 31.60372433104866],\n",
       " ['files/doc_15474.tsv', 89.88346231635916],\n",
       " ['files/doc_15497.tsv', 95.02149491487414],\n",
       " ['files/doc_1444.tsv', 28.372857253054498],\n",
       " ['files/doc_15553.tsv', 26.8778338688683],\n",
       " ['files/doc_15569.tsv', 61.08529031027754],\n",
       " ['files/doc_15596.tsv', 11.138566429579013],\n",
       " ['files/doc_1455.tsv', 57.63748639227351],\n",
       " ['files/doc_15636.tsv', 46.53440391825713],\n",
       " ['files/doc_15647.tsv', 50.3874869749125],\n",
       " ['files/doc_15683.tsv', 30.54185689546856],\n",
       " ['files/doc_1469.tsv', 31.30309547097757],\n",
       " ['files/doc_15744.tsv', 92.86682893740121],\n",
       " ['files/doc_15776.tsv', 55.996392588622236],\n",
       " ['files/doc_15807.tsv', 29.309921408086193],\n",
       " ['files/doc_15828.tsv', 31.0502478289454],\n",
       " ['files/doc_15859.tsv', 90.84133844537156],\n",
       " ['files/doc_15897.tsv', 55.41247795184761],\n",
       " ['files/doc_15916.tsv', 51.61108566746905],\n",
       " ['files/doc_1500.tsv', 55.71043267444898],\n",
       " ['files/doc_15974.tsv', 40.4755848126709],\n",
       " ['files/doc_16008.tsv', 60.68451255804803],\n",
       " ['files/doc_16038.tsv', 55.796848819290844],\n",
       " ['files/doc_1513.tsv', 70.2113806441605],\n",
       " ['files/doc_16087.tsv', 52.000631232335344],\n",
       " ['files/doc_16131.tsv', 41.14434475442925],\n",
       " ['files/doc_16157.tsv', 32.67488688865889],\n",
       " ['files/doc_1527.tsv', 67.59071696622891],\n",
       " ['files/doc_16209.tsv', 24.459240156099607],\n",
       " ['files/doc_16236.tsv', 45.02587627738444],\n",
       " ['files/doc_16283.tsv', 93.0101137299578],\n",
       " ['files/doc_16306.tsv', 28.485188991063154],\n",
       " ['files/doc_16350.tsv', 36.152858059228095],\n",
       " ['files/doc_16382.tsv', 59.24607570411268],\n",
       " ['files/doc_16431.tsv', 34.381382855476275],\n",
       " ['files/doc_1545.tsv', 30.929674306067433],\n",
       " ['files/doc_16502.tsv', 50.03644122266679],\n",
       " ['files/doc_16539.tsv', 94.26713062981183],\n",
       " ['files/doc_16568.tsv', 31.031016307481078],\n",
       " ['files/doc_1551.tsv', 93.66672029529109],\n",
       " ['files/doc_16621.tsv', 31.44824510446763],\n",
       " ['files/doc_16642.tsv', 22.943311272045825],\n",
       " ['files/doc_16674.tsv', 94.58335748193201],\n",
       " ['files/doc_1562.tsv', 60.91010107803234],\n",
       " ['files/doc_16765.tsv', 31.54855565508505],\n",
       " ['files/doc_16797.tsv', 31.625615372294362],\n",
       " ['files/doc_16814.tsv', 43.95951208299562],\n",
       " ['files/doc_16868.tsv', 33.38603279519871],\n",
       " ['files/doc_16915.tsv', 27.942793939204254],\n",
       " ['files/doc_16959.tsv', 69.90272664026875],\n",
       " ['files/doc_16988.tsv', 31.463021020230027],\n",
       " ['files/doc_1583.tsv', 41.89796472439097],\n",
       " ['files/doc_17041.tsv', 56.762329474389574],\n",
       " ['files/doc_17068.tsv', 33.397474676912594],\n",
       " ['files/doc_17095.tsv', 29.794496547887515],\n",
       " ['files/doc_1594.tsv', 26.782566578820756],\n",
       " ['files/doc_17158.tsv', 9.677858418957381],\n",
       " ['files/doc_17187.tsv', 94.31431092863538],\n",
       " ['files/doc_17210.tsv', 27.704283221313798],\n",
       " ['files/doc_1603.tsv', 55.504364400815085],\n",
       " ['files/doc_17269.tsv', 93.32465714615186],\n",
       " ['files/doc_17295.tsv', 94.18133863654356],\n",
       " ['files/doc_17334.tsv', 29.794496547887515],\n",
       " ['files/doc_17357.tsv', 30.618043301707925],\n",
       " ['files/doc_17390.tsv', 59.17796803645575],\n",
       " ['files/doc_17408.tsv', 32.008086262440635],\n",
       " ['files/doc_17437.tsv', 10.206071276281941],\n",
       " ['files/doc_1630.tsv', 54.30975422957056],\n",
       " ['files/doc_17511.tsv', 31.904824081491018],\n",
       " ['files/doc_17540.tsv', 94.46207183934845],\n",
       " ['files/doc_17569.tsv', 96.78701783688012],\n",
       " ['files/doc_1635.tsv', 62.44102354584648],\n",
       " ['files/doc_17636.tsv', 57.92168198103346],\n",
       " ['files/doc_17678.tsv', 62.21011830002992],\n",
       " ['files/doc_17705.tsv', 34.19548692392924],\n",
       " ['files/doc_1644.tsv', 65.88163371892644],\n",
       " ['files/doc_17814.tsv', 13.212128456239672],\n",
       " ['files/doc_17840.tsv', 24.9757815716864],\n",
       " ['files/doc_17874.tsv', 51.080482491139776],\n",
       " ['files/doc_17911.tsv', 26.970964779768966],\n",
       " ['files/doc_17940.tsv', 35.31563009648226],\n",
       " ['files/doc_17991.tsv', 88.95883830567082],\n",
       " ['files/doc_18024.tsv', 58.943421518385215],\n",
       " ['files/doc_1663.tsv', 30.075624392916946],\n",
       " ['files/doc_18097.tsv', 90.14612897837583],\n",
       " ['files/doc_18117.tsv', 43.69612714344293],\n",
       " ['files/doc_18178.tsv', 91.21438745043368],\n",
       " ['files/doc_1671.tsv', 32.988172693274834],\n",
       " ['files/doc_4265.tsv', 29.127297135486753],\n",
       " ['files/doc_4275.tsv', 10.975551209708952],\n",
       " ['files/doc_4291.tsv', 27.006483579304383],\n",
       " ['files/doc_1676.tsv', 40.036377130755035],\n",
       " ['files/doc_4304.tsv', 60.68451255804803],\n",
       " ['files/doc_4310.tsv', 47.20786397816709],\n",
       " ['files/doc_4318.tsv', 53.53163370077988],\n",
       " ['files/doc_1682.tsv', 38.20255508426751],\n",
       " ['files/doc_4337.tsv', 29.63698047447002],\n",
       " ['files/doc_4347.tsv', 44.28723171692029],\n",
       " ['files/doc_4357.tsv', 46.184016788540404],\n",
       " ['files/doc_1695.tsv', 96.82420276645556],\n",
       " ['files/doc_4369.tsv', 57.63748639227351],\n",
       " ['files/doc_235.tsv', 62.07355420107095],\n",
       " ['files/doc_4389.tsv', 50.09445551650274],\n",
       " ['files/doc_1703.tsv', 94.43513711171249],\n",
       " ['files/doc_4410.tsv', 49.402969430343255],\n",
       " ['files/doc_219.tsv', 62.63060883137043],\n",
       " ['files/doc_234.tsv', 55.650600854398974],\n",
       " ['files/doc_1709.tsv', 27.797816808153527],\n",
       " ['files/doc_4481.tsv', 14.100669609904365],\n",
       " ['files/doc_236.tsv', 93.16549985478578],\n",
       " ['files/doc_4494.tsv', 54.11366778137528],\n",
       " ['files/doc_1719.tsv', 62.48743795198311],\n",
       " ['files/doc_4503.tsv', 79.80190053504684],\n",
       " ['files/doc_1721.tsv', 35.66556731506111],\n",
       " ['files/doc_1723.tsv', 60.516149983566976],\n",
       " ['files/doc_1725.tsv', 39.57861970790274],\n",
       " ['files/doc_4532.tsv', 24.14997296914753],\n",
       " ['files/doc_1732.tsv', 25.920702281749413],\n",
       " ['files/doc_238.tsv', 30.573240802874352],\n",
       " ['files/doc_1736.tsv', 62.44102354584648],\n",
       " ['files/doc_4575.tsv', 50.201198160981704],\n",
       " ['files/doc_1742.tsv', 39.048735392848414],\n",
       " ['files/doc_1751.tsv', 95.94188039060428],\n",
       " ['files/doc_1752.tsv', 95.13389265722019],\n",
       " ['files/doc_4631.tsv', 55.7550491326793],\n",
       " ['files/doc_244.tsv', 60.03899257350412],\n",
       " ['files/doc_1761.tsv', 57.63748639227351],\n",
       " ['files/doc_1037.tsv', 36.980520471898544],\n",
       " ['files/doc_10248.tsv', 70.51521828273953],\n",
       " ['files/doc_10263.tsv', 29.294465794979825],\n",
       " ['files/doc_10414.tsv', 35.5360925355222],\n",
       " ['files/doc_10427.tsv', 63.934805046647526],\n",
       " ['files/doc_10716.tsv', 90.32340812806763],\n",
       " ['files/doc_10731.tsv', 86.40216886507504],\n",
       " ['files/doc_10830.tsv', 30.729432240204847],\n",
       " ['files/doc_10916.tsv', 33.53741670846925],\n",
       " ['files/doc_10977.tsv', 40.636964033524514],\n",
       " ['files/doc_11014.tsv', 33.49754922349917],\n",
       " ['files/doc_11114.tsv', 33.15151336360248],\n",
       " ['files/doc_11158.tsv', 35.67512912020177],\n",
       " ['files/doc_11244.tsv', 90.84328703936661],\n",
       " ['files/doc_11274.tsv', 93.25283866447889],\n",
       " ['files/doc_11344.tsv', 34.51384966233133],\n",
       " ['files/doc_11360.tsv', 34.440213597897134],\n",
       " ['files/doc_11378.tsv', 90.06818695118086],\n",
       " ['files/doc_11400.tsv', 40.21165082784209],\n",
       " ['files/doc_11415.tsv', 43.630910727545384],\n",
       " ['files/doc_11472.tsv', 38.70724384388377],\n",
       " ['files/doc_11494.tsv', 36.045680926643115],\n",
       " ['files/doc_11501.tsv', 39.73525930771828],\n",
       " ['files/doc_11543.tsv', 90.14472216672067],\n",
       " ['files/doc_11565.tsv', 38.18129364516778],\n",
       " ['files/doc_11601.tsv', 41.68672006980677],\n",
       " ['files/doc_11620.tsv', 38.82598721886429],\n",
       " ['files/doc_11627.tsv', 32.451394562803195],\n",
       " ['files/doc_11637.tsv', 46.05068599743497],\n",
       " ['files/doc_11691.tsv', 39.97511692028263],\n",
       " ['files/doc_11704.tsv', 31.907677857436177],\n",
       " ['files/doc_11742.tsv', 90.4874381187923],\n",
       " ['files/doc_11767.tsv', 31.51140130347185],\n",
       " ['files/doc_11833.tsv', 63.45186787715865],\n",
       " ['files/doc_11867.tsv', 30.25189357193898],\n",
       " ['files/doc_11981.tsv', 39.35655043377359],\n",
       " ['files/doc_12020.tsv', 35.93133779333949],\n",
       " ['files/doc_12116.tsv', 31.256983811708082],\n",
       " ['files/doc_12176.tsv', 31.317698373642504],\n",
       " ['files/doc_12441.tsv', 93.37687623248188],\n",
       " ['files/doc_12461.tsv', 37.36740971470274],\n",
       " ['files/doc_12474.tsv', 36.78138931244344],\n",
       " ['files/doc_12531.tsv', 36.91322780416626],\n",
       " ['files/doc_12560.tsv', 93.8452617546251],\n",
       " ['files/doc_12581.tsv', 32.01985398588674],\n",
       " ['files/doc_12632.tsv', 89.02940891652786],\n",
       " ['files/doc_12655.tsv', 31.137693415569988],\n",
       " ['files/doc_12756.tsv', 63.39229445749757],\n",
       " ['files/doc_12804.tsv', 39.40524576700303],\n",
       " ['files/doc_12821.tsv', 36.892075500957965],\n",
       " ['files/doc_12865.tsv', 38.77659075668692],\n",
       " ['files/doc_12901.tsv', 70.30246995630739],\n",
       " ['files/doc_12917.tsv', 71.59505054285243],\n",
       " ['files/doc_12936.tsv', 30.501521099530944],\n",
       " ['files/doc_12944.tsv', 31.137693415569988],\n",
       " ['files/doc_12962.tsv', 30.64532267696049],\n",
       " ['files/doc_12978.tsv', 52.41509550047962],\n",
       " ['files/doc_12999.tsv', 55.59899841544867],\n",
       " ['files/doc_13002.tsv', 29.35732491893613],\n",
       " ['files/doc_13009.tsv', 52.238514203289505],\n",
       " ['files/doc_13016.tsv', 54.17059698584313],\n",
       " ['files/doc_13043.tsv', 95.22062757417874],\n",
       " ['files/doc_13046.tsv', 53.0013521787152],\n",
       " ['files/doc_13061.tsv', 57.69629921571854],\n",
       " ['files/doc_13066.tsv', 50.679578458514484],\n",
       " ['files/doc_13081.tsv', 65.89637572515466],\n",
       " ['files/doc_13088.tsv', 58.28662928701538],\n",
       " ['files/doc_13099.tsv', 32.372229357541755],\n",
       " ['files/doc_13109.tsv', 56.762329474389574],\n",
       " ['files/doc_13119.tsv', 63.72186038497242],\n",
       " ['files/doc_13140.tsv', 13.82861450839175],\n",
       " ['files/doc_13150.tsv', 59.06013790523463],\n",
       " ['files/doc_13160.tsv', 32.227195008237835],\n",
       " ['files/doc_13169.tsv', 52.02325434521273],\n",
       " ['files/doc_13174.tsv', 89.64269826754939],\n",
       " ['files/doc_13183.tsv', 26.24372348667236],\n",
       " ['files/doc_13203.tsv', 56.270837465170445],\n",
       " ['files/doc_13216.tsv', 69.59061974824243],\n",
       " ['files/doc_13221.tsv', 28.372857253054498],\n",
       " ['files/doc_13239.tsv', 96.89522181351812],\n",
       " ['files/doc_13251.tsv', 94.13813518291764],\n",
       " ['files/doc_13267.tsv', 31.29689571237898],\n",
       " ['files/doc_13294.tsv', 13.484585651808144],\n",
       " ['files/doc_13304.tsv', 6.90148187000931],\n",
       " ['files/doc_13316.tsv', 32.417359944631244],\n",
       " ['files/doc_13331.tsv', 59.12300888881105],\n",
       " ['files/doc_13340.tsv', 68.47391862773759],\n",
       " ['files/doc_13353.tsv', 52.83501984435194],\n",
       " ['files/doc_13361.tsv', 31.51140130347185],\n",
       " ['files/doc_13375.tsv', 28.43531066810937],\n",
       " ['files/doc_13382.tsv', 47.528389938446765],\n",
       " ['files/doc_13396.tsv', 43.516121337949116],\n",
       " ['files/doc_13416.tsv', 57.67070968856466],\n",
       " ['files/doc_13436.tsv', 72.10591607729312],\n",
       " ['files/doc_13443.tsv', 96.67941345494656],\n",
       " ['files/doc_13470.tsv', 47.47522410203307],\n",
       " ['files/doc_13476.tsv', 48.08937974521612],\n",
       " ['files/doc_13489.tsv', 50.505429778344826],\n",
       " ['files/doc_13494.tsv', 26.183428214262936],\n",
       " ['files/doc_13503.tsv', 43.535253053982984],\n",
       " ['files/doc_13512.tsv', 54.44571668484771],\n",
       " ['files/doc_13522.tsv', 59.204685119694894],\n",
       " ['files/doc_13531.tsv', 61.96421591469],\n",
       " ['files/doc_13547.tsv', 29.81581672306644],\n",
       " ['files/doc_13556.tsv', 41.89796472439097],\n",
       " ['files/doc_13562.tsv', 29.84187284323458],\n",
       " ['files/doc_13569.tsv', 57.76245348594505],\n",
       " ['files/doc_13583.tsv', 26.922775745793906],\n",
       " ['files/doc_13590.tsv', 31.904824081491018],\n",
       " ['files/doc_13605.tsv', 31.418426911766606],\n",
       " ['files/doc_13609.tsv', 31.888408768286553],\n",
       " ['files/doc_13616.tsv', 31.845851668004222],\n",
       " ['files/doc_13624.tsv', 58.158925156511046],\n",
       " ['files/doc_13640.tsv', 58.692673505973985],\n",
       " ['files/doc_13647.tsv', 64.65977656870434],\n",
       " ['files/doc_13665.tsv', 93.79612198517306],\n",
       " ['files/doc_13673.tsv', 29.33410395997837],\n",
       " ['files/doc_13689.tsv', 30.416117053292517],\n",
       " ['files/doc_13697.tsv', 93.83102070201868],\n",
       " ['files/doc_13713.tsv', 38.27620019476263],\n",
       " ['files/doc_13720.tsv', 95.47967608757287],\n",
       " ['files/doc_13737.tsv', 25.704622656447814],\n",
       " ['files/doc_13742.tsv', 29.84187284323458],\n",
       " ['files/doc_13752.tsv', 54.764793592765415],\n",
       " ['files/doc_13763.tsv', 53.43127135144264],\n",
       " ['files/doc_13778.tsv', 30.932793030765417],\n",
       " ['files/doc_13790.tsv', 29.33410395997837],\n",
       " ['files/doc_13799.tsv', 64.41548824365648],\n",
       " ['files/doc_13804.tsv', 53.99781385758515],\n",
       " ['files/doc_13811.tsv', 90.09888439260627],\n",
       " ['files/doc_13817.tsv', 55.34433374953078],\n",
       " ['files/doc_13838.tsv', 31.519804441127466],\n",
       " ['files/doc_13842.tsv', 69.99764707964255],\n",
       " ['files/doc_13857.tsv', 53.797021789030886],\n",
       " ['files/doc_13861.tsv', 37.51023387135731],\n",
       " ['files/doc_13873.tsv', 95.02056333005078],\n",
       " ['files/doc_13880.tsv', 57.6689095483736],\n",
       " ['files/doc_13893.tsv', 60.49332236494996],\n",
       " ['files/doc_13897.tsv', 4.059007644881916],\n",
       " ['files/doc_13903.tsv', 62.593214660078324],\n",
       " ['files/doc_13910.tsv', 60.551652095468604],\n",
       " ['files/doc_13934.tsv', 95.81376153502816],\n",
       " ['files/doc_13938.tsv', 59.42183880542081],\n",
       " ['files/doc_13958.tsv', 31.141479612316505],\n",
       " ['files/doc_13965.tsv', 45.28451218879021],\n",
       " ['files/doc_13974.tsv', 53.655675099920046],\n",
       " ['files/doc_13981.tsv', 95.05955255954495],\n",
       " ['files/doc_13991.tsv', 56.91673337430886],\n",
       " ['files/doc_14002.tsv', 30.948275343237572],\n",
       " ['files/doc_14027.tsv', 59.53706280872092],\n",
       " ['files/doc_14041.tsv', 60.91010107803234],\n",
       " ['files/doc_14049.tsv', 95.243752147748],\n",
       " ['files/doc_14061.tsv', 34.467696799460946],\n",
       " ['files/doc_14071.tsv', 32.38625008806981],\n",
       " ['files/doc_14083.tsv', 28.384517487409095],\n",
       " ['files/doc_14092.tsv', 76.37366142874397],\n",
       " ['files/doc_14096.tsv', 29.853672345967304],\n",
       " ['files/doc_14130.tsv', 37.65799577513562],\n",
       " ['files/doc_14136.tsv', 94.37697925036716],\n",
       " ['files/doc_14146.tsv', 31.26222191268323],\n",
       " ['files/doc_14153.tsv', 42.78477907284898],\n",
       " ['files/doc_14162.tsv', 27.84383417315545],\n",
       " ['files/doc_14173.tsv', 89.90938838122989],\n",
       " ['files/doc_14193.tsv', 57.52452695834573],\n",
       " ['files/doc_14201.tsv', 93.98481935094792],\n",
       " ['files/doc_14212.tsv', 91.212684920572],\n",
       " ['files/doc_14219.tsv', 33.19605756383888],\n",
       " ['files/doc_14230.tsv', 37.16849253177366],\n",
       " ['files/doc_14236.tsv', 58.240836979579356],\n",
       " ['files/doc_14257.tsv', 51.77688721717651],\n",
       " ['files/doc_14262.tsv', 57.23889027711029],\n",
       " ['files/doc_14268.tsv', 52.875216072756736],\n",
       " ['files/doc_14275.tsv', 40.998792063378225],\n",
       " ['files/doc_14291.tsv', 36.02642955074895],\n",
       " ['files/doc_14298.tsv', 31.484942841523573],\n",
       " ['files/doc_14313.tsv', 45.32659479950798],\n",
       " ['files/doc_14331.tsv', 59.23419393924122],\n",
       " ['files/doc_14338.tsv', 55.948504984162945],\n",
       " ['files/doc_14343.tsv', 89.70315846672331],\n",
       " ['files/doc_14352.tsv', 48.498130095316355],\n",
       " ['files/doc_14371.tsv', 94.38582971229144],\n",
       " ['files/doc_14385.tsv', 26.693869235243326],\n",
       " ['files/doc_14396.tsv', 32.142759489505245],\n",
       " ['files/doc_14409.tsv', 28.427329911585392],\n",
       " ['files/doc_14420.tsv', 93.96173395606488],\n",
       " ['files/doc_14440.tsv', 62.15820205990589],\n",
       " ['files/doc_14455.tsv', 26.879297506511577],\n",
       " ['files/doc_14472.tsv', 56.91673337430886],\n",
       " ['files/doc_14483.tsv', 67.59071696622891],\n",
       " ['files/doc_14490.tsv', 32.05797373215194],\n",
       " ['files/doc_14492.tsv', 37.92776978241841],\n",
       " ['files/doc_14528.tsv', 58.37525851944441],\n",
       " ['files/doc_14542.tsv', 69.90272664026875],\n",
       " ['files/doc_14562.tsv', 67.9807030673945],\n",
       " ['files/doc_14572.tsv', 70.84734899163881],\n",
       " ['files/doc_14584.tsv', 60.91010107803234],\n",
       " ['files/doc_14593.tsv', 58.97138227639598],\n",
       " ['files/doc_14614.tsv', 30.554992202511162],\n",
       " ['files/doc_14631.tsv', 56.74848724482324],\n",
       " ['files/doc_14643.tsv', 49.20277944494709],\n",
       " ['files/doc_14651.tsv', 16.164382074971584],\n",
       " ['files/doc_14670.tsv', 30.541727550275542],\n",
       " ['files/doc_14678.tsv', 10.868023787803802],\n",
       " ['files/doc_14691.tsv', 60.32741199508008],\n",
       " ['files/doc_14719.tsv', 56.789998731755745],\n",
       " ['files/doc_14753.tsv', 87.31516033133666],\n",
       " ['files/doc_14764.tsv', 38.19329303703241],\n",
       " ['files/doc_14786.tsv', 58.709277711996336],\n",
       " ['files/doc_14797.tsv', 27.565595876155005],\n",
       " ['files/doc_14810.tsv', 95.14631483767656],\n",
       " ['files/doc_14820.tsv', 69.49244609173951],\n",
       " ['files/doc_14842.tsv', 34.28232342280053],\n",
       " ['files/doc_14850.tsv', 60.49560484655661],\n",
       " ['files/doc_14867.tsv', 33.33362421568905],\n",
       " ['files/doc_14881.tsv', 32.918434122054336],\n",
       " ['files/doc_14889.tsv', 70.14501015944752],\n",
       " ['files/doc_14901.tsv', 32.917147604567575],\n",
       " ['files/doc_14910.tsv', 70.27152670624695],\n",
       " ['files/doc_14917.tsv', 33.601670930134624],\n",
       " ['files/doc_14924.tsv', 93.25283866447889],\n",
       " ['files/doc_14936.tsv', 90.24648994980988],\n",
       " ['files/doc_14953.tsv', 95.12692265320503],\n",
       " ['files/doc_14961.tsv', 94.93481928996822],\n",
       " ['files/doc_14996.tsv', 57.10673503006494],\n",
       " ['files/doc_15007.tsv', 12.222232993829328],\n",
       " ['files/doc_15024.tsv', 11.193882496842075],\n",
       " ['files/doc_15031.tsv', 34.198703139829426],\n",
       " ['files/doc_15050.tsv', 36.87747493365679],\n",
       " ['files/doc_15061.tsv', 24.47417237233364],\n",
       " ['files/doc_15080.tsv', 88.83511856691341],\n",
       " ['files/doc_15090.tsv', 60.719676531487615],\n",
       " ['files/doc_15103.tsv', 34.669308732908846],\n",
       " ['files/doc_15117.tsv', 57.22665528267872],\n",
       " ['files/doc_15133.tsv', 30.356753281245076],\n",
       " ['files/doc_15137.tsv', 95.42229096043272],\n",
       " ['files/doc_15143.tsv', 31.855523878114305],\n",
       " ['files/doc_15150.tsv', 93.9830610820182],\n",
       " ['files/doc_15163.tsv', 29.807362892435616],\n",
       " ['files/doc_15175.tsv', 30.462839871699963],\n",
       " ['files/doc_15192.tsv', 95.85725680039495],\n",
       " ['files/doc_15202.tsv', 95.47967608757287],\n",
       " ['files/doc_15214.tsv', 60.561371074658446],\n",
       " ['files/doc_15223.tsv', 44.96903617109817],\n",
       " ['files/doc_15229.tsv', 30.541727550275542],\n",
       " ['files/doc_15244.tsv', 57.5709245614131],\n",
       " ['files/doc_15257.tsv', 9.677858418957381],\n",
       " ['files/doc_15268.tsv', 39.92233547013696],\n",
       " ['files/doc_15286.tsv', 57.22665528267872],\n",
       " ['files/doc_15311.tsv', 31.82879960812426],\n",
       " ['files/doc_15320.tsv', 31.25021839440284],\n",
       " ['files/doc_15328.tsv', 58.554857565262544],\n",
       " ['files/doc_15345.tsv', 61.52024759474333],\n",
       " ['files/doc_15355.tsv', 29.559640808271446],\n",
       " ['files/doc_15375.tsv', 56.59655054577564],\n",
       " ['files/doc_15378.tsv', 57.25799779991316],\n",
       " ['files/doc_15384.tsv', 56.940431675773304],\n",
       " ['files/doc_15389.tsv', 17.414369518602413],\n",
       " ['files/doc_15412.tsv', 97.47939916332676],\n",
       " ['files/doc_15427.tsv', 55.504364400815085],\n",
       " ['files/doc_15437.tsv', 36.64718529469294],\n",
       " ['files/doc_15453.tsv', 28.586258850494414],\n",
       " ['files/doc_15465.tsv', 57.63748639227351],\n",
       " ['files/doc_15468.tsv', 29.840197242838446],\n",
       " ['files/doc_15479.tsv', 43.95951208299562],\n",
       " ['files/doc_15489.tsv', 32.647986090334506],\n",
       " ['files/doc_15498.tsv', 35.11902225348033],\n",
       " ['files/doc_15508.tsv', 4.059007644881916],\n",
       " ['files/doc_15514.tsv', 59.265165144889096],\n",
       " ['files/doc_15535.tsv', 91.79110957294726],\n",
       " ['files/doc_15554.tsv', 58.71359106167976],\n",
       " ['files/doc_15564.tsv', 60.551652095468604],\n",
       " ['files/doc_15574.tsv', 94.82084264089058],\n",
       " ['files/doc_15582.tsv', 59.261998139702904],\n",
       " ['files/doc_15599.tsv', 30.33298108242433],\n",
       " ['files/doc_15609.tsv', 94.27359357572081],\n",
       " ['files/doc_15619.tsv', 57.12031021375684],\n",
       " ['files/doc_15628.tsv', 94.4272783495359],\n",
       " ['files/doc_15637.tsv', 34.467696799460946],\n",
       " ['files/doc_15641.tsv', 94.94436629245773],\n",
       " ['files/doc_15652.tsv', 94.05829004694483],\n",
       " ['files/doc_15670.tsv', 25.208051750877093],\n",
       " ['files/doc_15686.tsv', 93.16667211158696],\n",
       " ['files/doc_15698.tsv', 58.04956677921048],\n",
       " ['files/doc_15710.tsv', 53.842230256139686],\n",
       " ['files/doc_15723.tsv', 56.59992837814789],\n",
       " ['files/doc_15747.tsv', 32.058987075944536],\n",
       " ['files/doc_15768.tsv', 59.338144861227754],\n",
       " ['files/doc_15778.tsv', 53.531462033206445],\n",
       " ['files/doc_15794.tsv', 54.587421693349874],\n",
       " ['files/doc_15808.tsv', 29.371135392205332],\n",
       " ['files/doc_15812.tsv', 56.73096247127224],\n",
       " ['files/doc_15832.tsv', 30.340404567098588],\n",
       " ['files/doc_15845.tsv', 58.58803528436896],\n",
       " ['files/doc_15876.tsv', 59.41155939205629],\n",
       " ['files/doc_15884.tsv', 94.97133892258049],\n",
       " ['files/doc_15898.tsv', 59.06013790523463],\n",
       " ['files/doc_15907.tsv', 26.609004430623802],\n",
       " ['files/doc_15917.tsv', 94.09380698856953],\n",
       " ['files/doc_15926.tsv', 26.867982334847376],\n",
       " ['files/doc_15938.tsv', 26.776654100192385],\n",
       " ['files/doc_15952.tsv', 57.23889027711029],\n",
       " ['files/doc_15982.tsv', 59.35294396245978],\n",
       " ['files/doc_15996.tsv', 57.36436448063938],\n",
       " ['files/doc_16010.tsv', 41.97670216278913],\n",
       " ['files/doc_16017.tsv', 33.60936111240333],\n",
       " ['files/doc_16044.tsv', 62.07355420107095],\n",
       " ['files/doc_16055.tsv', 94.55176432236637],\n",
       " ['files/doc_16063.tsv', 26.607934930850195],\n",
       " ['files/doc_16072.tsv', 70.14501015944752],\n",
       " ['files/doc_16104.tsv', 94.62545979595839],\n",
       " ['files/doc_16112.tsv', 94.22966045051078],\n",
       " ['files/doc_16132.tsv', 50.99497719547053],\n",
       " ['files/doc_16150.tsv', 40.751320075487286],\n",
       " ['files/doc_16160.tsv', 95.18578561561488],\n",
       " ['files/doc_16170.tsv', 94.3692196083416],\n",
       " ['files/doc_16180.tsv', 94.29710287831332],\n",
       " ['files/doc_16195.tsv', 62.43648631734837],\n",
       " ['files/doc_16216.tsv', 94.52577911912779],\n",
       " ['files/doc_16221.tsv', 56.891977933754056],\n",
       " ['files/doc_16238.tsv', 94.19538101763585],\n",
       " ['files/doc_16256.tsv', 31.75401514970415],\n",
       " ['files/doc_16290.tsv', 33.12542826753344],\n",
       " ['files/doc_16295.tsv', 28.89544680941392],\n",
       " ['files/doc_16307.tsv', 93.57828920272317],\n",
       " ['files/doc_16328.tsv', 66.7927016555414],\n",
       " ['files/doc_16357.tsv', 72.10591607729312],\n",
       " ['files/doc_16370.tsv', 33.53858327583738],\n",
       " ['files/doc_16392.tsv', 58.120008479643644],\n",
       " ['files/doc_16412.tsv', 60.551652095468604],\n",
       " ['files/doc_16432.tsv', 15.342566376156658],\n",
       " ['files/doc_16451.tsv', 27.382372028496025],\n",
       " ['files/doc_16457.tsv', 57.134859207511035],\n",
       " ['files/doc_16473.tsv', 55.154312855956256],\n",
       " ['files/doc_16505.tsv', 29.309921408086193],\n",
       " ['files/doc_16513.tsv', 90.84328703936661],\n",
       " ['files/doc_16540.tsv', 45.14988583396638],\n",
       " ['files/doc_16552.tsv', 38.973660626019964],\n",
       " ['files/doc_16569.tsv', 59.853581323352806],\n",
       " ['files/doc_16580.tsv', 59.24277451877426],\n",
       " ['files/doc_16591.tsv', 29.99950119891533],\n",
       " ['files/doc_16606.tsv', 60.375637203026805],\n",
       " ['files/doc_16625.tsv', 28.967918677528672],\n",
       " ['files/doc_16630.tsv', 27.477715152784608],\n",
       " ['files/doc_16643.tsv', 90.42163428811878],\n",
       " ['files/doc_16659.tsv', 37.23154816515813],\n",
       " ['files/doc_16678.tsv', 93.38731869557549],\n",
       " ['files/doc_16708.tsv', 24.252874695435573],\n",
       " ['files/doc_16719.tsv', 30.497671597199083],\n",
       " ['files/doc_16746.tsv', 30.416887352827096],\n",
       " ['files/doc_16774.tsv', 38.82598721886429],\n",
       " ['files/doc_16783.tsv', 31.78085331789782],\n",
       " ['files/doc_16798.tsv', 93.76379012802826],\n",
       " ['files/doc_16806.tsv', 32.85351355040861],\n",
       " ['files/doc_16816.tsv', 33.59061769214925],\n",
       " ['files/doc_16831.tsv', 90.81066487254586],\n",
       " ['files/doc_16874.tsv', 61.89941360078098],\n",
       " ['files/doc_16902.tsv', 27.554376540036966],\n",
       " ['files/doc_16916.tsv', 60.52355648696584],\n",
       " ['files/doc_16932.tsv', 32.38310470332895],\n",
       " ['files/doc_16973.tsv', 26.672270502107434],\n",
       " ['files/doc_16979.tsv', 45.1073471358751],\n",
       " ['files/doc_16994.tsv', 32.921871664026206],\n",
       " ['files/doc_17006.tsv', 94.84079087902543],\n",
       " ['files/doc_17016.tsv', 31.63044979826387],\n",
       " ['files/doc_17028.tsv', 94.87569152310735],\n",
       " ['files/doc_17049.tsv', 31.12251586764227],\n",
       " ['files/doc_17052.tsv', 29.012860411711674],\n",
       " ['files/doc_17075.tsv', 34.60008238835283],\n",
       " ['files/doc_17081.tsv', 89.2681007085221],\n",
       " ['files/doc_17099.tsv', 59.37357684497518],\n",
       " ['files/doc_17109.tsv', 31.505879907370094],\n",
       " ['files/doc_17129.tsv', 43.18644575444058],\n",
       " ['files/doc_17138.tsv', 96.66029741575181],\n",
       " ['files/doc_17159.tsv', 93.20109652293912],\n",
       " ['files/doc_17171.tsv', 27.05863609503013],\n",
       " ['files/doc_17194.tsv', 31.285813708470435],\n",
       " ['files/doc_17200.tsv', 24.731819253191013],\n",
       " ['files/doc_17211.tsv', 88.14958107581602],\n",
       " ['files/doc_17223.tsv', 95.99492713497386],\n",
       " ['files/doc_17240.tsv', 14.100669609904365],\n",
       " ['files/doc_17253.tsv', 58.48391588548279],\n",
       " ['files/doc_17274.tsv', 31.153520472967177],\n",
       " ['files/doc_17282.tsv', 53.615755431475606],\n",
       " ['files/doc_17307.tsv', 30.501521099530944],\n",
       " ['files/doc_17314.tsv', 57.74307399743241],\n",
       " ['files/doc_17336.tsv', 27.323792036198785],\n",
       " ['files/doc_17339.tsv', 33.05347463089536],\n",
       " ['files/doc_17358.tsv', 65.04438107058026],\n",
       " ['files/doc_17371.tsv', 29.561304318456955],\n",
       " ['files/doc_17392.tsv', 32.12997560587533],\n",
       " ['files/doc_17397.tsv', 26.585262114864815],\n",
       " ['files/doc_17410.tsv', 94.33620555264551],\n",
       " ['files/doc_17423.tsv', 94.57359671255963],\n",
       " ['files/doc_17439.tsv', 61.08529031027754],\n",
       " ['files/doc_17452.tsv', 93.20590457844474],\n",
       " ['files/doc_17461.tsv', 30.927610469065034],\n",
       " ['files/doc_17472.tsv', 58.64054058078533],\n",
       " ['files/doc_17518.tsv', 28.29485035134833],\n",
       " ['files/doc_17530.tsv', 47.47522410203307],\n",
       " ['files/doc_17542.tsv', 33.27139550058797],\n",
       " ['files/doc_17548.tsv', 28.63795529994385],\n",
       " ['files/doc_17573.tsv', 3.592257833068649],\n",
       " ['files/doc_17591.tsv', 94.95999748424585],\n",
       " ['files/doc_17608.tsv', 60.49560484655661],\n",
       " ['files/doc_17617.tsv', 31.535233871897102],\n",
       " ['files/doc_17640.tsv', 29.840197242838446],\n",
       " ['files/doc_17659.tsv', 94.9185395815369],\n",
       " ['files/doc_17681.tsv', 32.333863417639776],\n",
       " ['files/doc_17697.tsv', 93.19918574373678],\n",
       " ['files/doc_17710.tsv', 30.340491870080406],\n",
       " ['files/doc_17729.tsv', 16.261616536869095],\n",
       " ['files/doc_17751.tsv', 29.97808714488732],\n",
       " ['files/doc_17770.tsv', 59.44871190266317],\n",
       " ['files/doc_17818.tsv', 34.94743506838103],\n",
       " ['files/doc_17825.tsv', 96.72862533905102],\n",
       " ['files/doc_17842.tsv', 38.20255508426751],\n",
       " ['files/doc_17853.tsv', 92.79531950045141],\n",
       " ['files/doc_17876.tsv', 13.907252327793914],\n",
       " ['files/doc_17881.tsv', 69.42007655724778],\n",
       " ['files/doc_17913.tsv', 12.110883951234408],\n",
       " ['files/doc_17922.tsv', 43.516121337949116],\n",
       " ['files/doc_17951.tsv', 31.54789419843694],\n",
       " ['files/doc_17968.tsv', 59.384194816820404],\n",
       " ['files/doc_17993.tsv', 86.25700766197757],\n",
       " ['files/doc_18004.tsv', 55.996392588622236],\n",
       " ['files/doc_18025.tsv', 25.964927613569216],\n",
       " ['files/doc_18036.tsv', 24.895389779330774],\n",
       " ['files/doc_18053.tsv', 94.02428783155874],\n",
       " ['files/doc_18068.tsv', 30.999529872700908],\n",
       " ['files/doc_18098.tsv', 95.08328411088839],\n",
       " ['files/doc_18104.tsv', 26.419775871189362],\n",
       " ['files/doc_18133.tsv', 57.263126343910365],\n",
       " ['files/doc_18166.tsv', 94.16354404336906],\n",
       " ['files/doc_18180.tsv', 13.234252894307613],\n",
       " ['files/doc_18201.tsv', 94.84414232706636],\n",
       " ['files/doc_18222.tsv', 29.891933284453177],\n",
       " ['files/doc_4261.tsv', 25.090679737704196],\n",
       " ['files/doc_7489.tsv', 37.384363704212134],\n",
       " ['files/doc_4267.tsv', 28.505290000865312],\n",
       " ['files/doc_517.tsv', 37.98735901563119],\n",
       " ['files/doc_4280.tsv', 96.26065380972011],\n",
       " ['files/doc_7514.tsv', 27.10270001080341],\n",
       " ['files/doc_4295.tsv', 13.01721091755083],\n",
       " ['files/doc_4299.tsv', 29.976764392838902],\n",
       " ['files/doc_4302.tsv', 32.558632576657544],\n",
       " ['files/doc_7541.tsv', 50.50202008376122],\n",
       " ['files/doc_521.tsv', 33.656046716198986],\n",
       " ['files/doc_7555.tsv', 25.547213538592835],\n",
       " ['files/doc_4317.tsv', 29.38062522179928],\n",
       " ['files/doc_7571.tsv', 56.839722530097994],\n",
       " ['files/doc_4325.tsv', 25.24396679018655],\n",
       " ['files/doc_4334.tsv', 25.43525469018448],\n",
       " ['files/doc_4335.tsv', 56.02444308525204],\n",
       " ['files/doc_7603.tsv', 35.00658551538377],\n",
       " ['files/doc_4340.tsv', 26.141460752875986],\n",
       " ['files/doc_522.tsv', 36.602679973406694],\n",
       " ['files/doc_4355.tsv', 33.53233777017009],\n",
       " ['files/doc_7627.tsv', 30.349715425370075],\n",
       " ['files/doc_4364.tsv', 23.977414313788795],\n",
       " ['files/doc_4365.tsv', 58.64054058078533],\n",
       " ['files/doc_4368.tsv', 30.675522957269703],\n",
       " ['files/doc_53.tsv', 1.3716352600739297],\n",
       " ['files/doc_4372.tsv', 52.15053985148989],\n",
       " ['files/doc_4380.tsv', 45.5910926772041],\n",
       " ['files/doc_4386.tsv', 27.639691788356654],\n",
       " ['files/doc_527.tsv', 45.8106919071916],\n",
       " ['files/doc_4393.tsv', 3.9639749748428534],\n",
       " ['files/doc_4397.tsv', 62.45972527883418],\n",
       " ['files/doc_4398.tsv', 53.97207848356604],\n",
       " ['files/doc_529.tsv', 37.70621669680234],\n",
       " ['files/doc_4415.tsv', 56.891977933754056],\n",
       " ['files/doc_4419.tsv', 49.20277944494709],\n",
       " ['files/doc_4428.tsv', 33.16642137390877],\n",
       " ['files/doc_4434.tsv', 33.23872176998528],\n",
       " ['files/doc_4436.tsv', 58.057133038657824],\n",
       " ['files/doc_4452.tsv', 57.36918442755583],\n",
       " ['files/doc_4463.tsv', 34.50601397015601],\n",
       " ['files/doc_8141.tsv', 34.066371898815994],\n",
       " ['files/doc_4488.tsv', 15.769842340305214],\n",
       " ['files/doc_4489.tsv', 73.45030595034531],\n",
       " ['files/doc_4491.tsv', 29.416120004425565],\n",
       " ['files/doc_532.tsv', 45.5646332399228],\n",
       " ['files/doc_4495.tsv', 51.30416557810159],\n",
       " ['files/doc_4496.tsv', 58.95592662453223],\n",
       " ['files/doc_4501.tsv', 34.43742071663256],\n",
       " ['files/doc_537.tsv', 32.30669196946454],\n",
       " ...]"
      ]
     },
     "execution_count": 35,
     "metadata": {},
     "output_type": "execute_result"
    }
   ],
   "source": [
    "heap2 = []\n",
    "for document in llc:\n",
    "    uu = [document, llc[document]]\n",
    "    heapq.heappush(heap2, uu)\n",
    "heap2\n"
   ]
  },
  {
   "cell_type": "code",
   "execution_count": 39,
   "metadata": {},
   "outputs": [
    {
     "data": {
      "text/plain": [
       "[['files/doc_0.tsv', 8.883104225691304e-06],\n",
       " ['files/doc_10032.tsv', 34.51318632926681],\n",
       " ['files/doc_1006.tsv', 58.554857565262544],\n",
       " ['files/doc_1007.tsv', 35.48269175297866],\n",
       " ['files/doc_10077.tsv', 39.564766552630175],\n",
       " ['files/doc_10078.tsv', 37.508753636586945],\n",
       " ['files/doc_10079.tsv', 37.93680786829855],\n",
       " ['files/doc_1008.tsv', 93.24841593599811],\n",
       " ['files/doc_10101.tsv', 86.18226327338421],\n",
       " ['files/doc_1012.tsv', 57.23889027711029]]"
      ]
     },
     "execution_count": 39,
     "metadata": {},
     "output_type": "execute_result"
    }
   ],
   "source": [
    "first_m = heapq.nsmallest(10, heap2)\n",
    "first_m"
   ]
  },
  {
   "cell_type": "code",
   "execution_count": 41,
   "metadata": {},
   "outputs": [
    {
     "data": {
      "text/html": [
       "<style  type=\"text/css\" >\n",
       "</style>  \n",
       "<table id=\"T_3d8ff54c_f005_11e8_a4d5_4e00dd994601\" > \n",
       "<thead>    <tr> \n",
       "        <th class=\"blank level0\" ></th> \n",
       "        <th class=\"col_heading level0 col0\" >title</th> \n",
       "        <th class=\"col_heading level0 col1\" >description</th> \n",
       "        <th class=\"col_heading level0 col2\" >city</th> \n",
       "        <th class=\"col_heading level0 col3\" >url</th> \n",
       "    </tr></thead> \n",
       "<tbody>    <tr> \n",
       "        <th id=\"T_3d8ff54c_f005_11e8_a4d5_4e00dd994601level0_row0\" class=\"row_heading level0 row0\" >0</th> \n",
       "        <td id=\"T_3d8ff54c_f005_11e8_a4d5_4e00dd994601row0_col0\" class=\"data row0 col0\" >2 Private rooms/bathroom 10min from IAH airport</td> \n",
       "        <td id=\"T_3d8ff54c_f005_11e8_a4d5_4e00dd994601row0_col1\" class=\"data row0 col1\" >Welcome to stay in private room with queen bed and detached private bathroom on the second floor. Another private bedroom with sofa bed is available for additional guests. 10$ for an additional guest.\\n10min from IAH airport\\nAirport pick-up/drop off is available for $10/trip.</td> \n",
       "        <td id=\"T_3d8ff54c_f005_11e8_a4d5_4e00dd994601row0_col2\" class=\"data row0 col2\" >Humble</td> \n",
       "        <td id=\"T_3d8ff54c_f005_11e8_a4d5_4e00dd994601row0_col3\" class=\"data row0 col3\" >https://www.airbnb.com/rooms/18520444?location=Cleveland%2C%20TX</td> \n",
       "    </tr></tbody> \n",
       "</table> "
      ],
      "text/plain": [
       "<pandas.io.formats.style.Styler at 0x110aca2e8>"
      ]
     },
     "metadata": {},
     "output_type": "display_data"
    },
    {
     "data": {
      "text/html": [
       "<style  type=\"text/css\" >\n",
       "</style>  \n",
       "<table id=\"T_3d955818_f005_11e8_91e7_4e00dd994601\" > \n",
       "<thead>    <tr> \n",
       "        <th class=\"blank level0\" ></th> \n",
       "        <th class=\"col_heading level0 col0\" >title</th> \n",
       "        <th class=\"col_heading level0 col1\" >description</th> \n",
       "        <th class=\"col_heading level0 col2\" >city</th> \n",
       "        <th class=\"col_heading level0 col3\" >url</th> \n",
       "    </tr></thead> \n",
       "<tbody>    <tr> \n",
       "        <th id=\"T_3d955818_f005_11e8_91e7_4e00dd994601level0_row0\" class=\"row_heading level0 row0\" >0</th> \n",
       "        <td id=\"T_3d955818_f005_11e8_91e7_4e00dd994601row0_col0\" class=\"data row0 col0\" >Luxurious High Rise Apartment by the Galleria</td> \n",
       "        <td id=\"T_3d955818_f005_11e8_91e7_4e00dd994601row0_col1\" class=\"data row0 col1\" >Galleria apartment with beautiful views of city. Walking distance to the Galleria Houston, plenty of shopping, and Whole Foods. High speed Internet TV cable, pool, 24/7 club house, fitness center. This room is about 1,000 SQ. FT.</td> \n",
       "        <td id=\"T_3d955818_f005_11e8_91e7_4e00dd994601row0_col2\" class=\"data row0 col2\" >Houston</td> \n",
       "        <td id=\"T_3d955818_f005_11e8_91e7_4e00dd994601row0_col3\" class=\"data row0 col3\" >https://www.airbnb.com/rooms/16933713?location=Bellaire%2C%20TX</td> \n",
       "    </tr></tbody> \n",
       "</table> "
      ],
      "text/plain": [
       "<pandas.io.formats.style.Styler at 0x112426e80>"
      ]
     },
     "metadata": {},
     "output_type": "display_data"
    },
    {
     "data": {
      "text/html": [
       "<style  type=\"text/css\" >\n",
       "</style>  \n",
       "<table id=\"T_3d96221e_f005_11e8_80b4_4e00dd994601\" > \n",
       "<thead>    <tr> \n",
       "        <th class=\"blank level0\" ></th> \n",
       "        <th class=\"col_heading level0 col0\" >title</th> \n",
       "        <th class=\"col_heading level0 col1\" >description</th> \n",
       "        <th class=\"col_heading level0 col2\" >city</th> \n",
       "        <th class=\"col_heading level0 col3\" >url</th> \n",
       "    </tr></thead> \n",
       "<tbody>    <tr> \n",
       "        <th id=\"T_3d96221e_f005_11e8_80b4_4e00dd994601level0_row0\" class=\"row_heading level0 row0\" >0</th> \n",
       "        <td id=\"T_3d96221e_f005_11e8_80b4_4e00dd994601row0_col0\" class=\"data row0 col0\" >33' of Freedom Sailboat</td> \n",
       "        <td id=\"T_3d96221e_f005_11e8_80b4_4e00dd994601row0_col1\" class=\"data row0 col1\" >This is best for one person or two people sleeping separate as the beds are singles. A fun antique store is close by, as well as good food- such as Skipper's and Joe's. All in all, a walkable area. The Johnson Space Center and the Space Center Houston Visitor's Center are about 15-20 minutes away, either way around Clear Lake.</td> \n",
       "        <td id=\"T_3d96221e_f005_11e8_80b4_4e00dd994601row0_col2\" class=\"data row0 col2\" >Kemah</td> \n",
       "        <td id=\"T_3d96221e_f005_11e8_80b4_4e00dd994601row0_col3\" class=\"data row0 col3\" >https://www.airbnb.com/rooms/18581948?location=Beach%20City%2C%20TX</td> \n",
       "    </tr></tbody> \n",
       "</table> "
      ],
      "text/plain": [
       "<pandas.io.formats.style.Styler at 0x11251a470>"
      ]
     },
     "metadata": {},
     "output_type": "display_data"
    },
    {
     "data": {
      "text/html": [
       "<style  type=\"text/css\" >\n",
       "</style>  \n",
       "<table id=\"T_3d970bf4_f005_11e8_a74c_4e00dd994601\" > \n",
       "<thead>    <tr> \n",
       "        <th class=\"blank level0\" ></th> \n",
       "        <th class=\"col_heading level0 col0\" >title</th> \n",
       "        <th class=\"col_heading level0 col1\" >description</th> \n",
       "        <th class=\"col_heading level0 col2\" >city</th> \n",
       "        <th class=\"col_heading level0 col3\" >url</th> \n",
       "    </tr></thead> \n",
       "<tbody>    <tr> \n",
       "        <th id=\"T_3d970bf4_f005_11e8_a74c_4e00dd994601level0_row0\" class=\"row_heading level0 row0\" >0</th> \n",
       "        <td id=\"T_3d970bf4_f005_11e8_a74c_4e00dd994601row0_col0\" class=\"data row0 col0\" >Look no further! MODERN, LUXURY 1 (URL HIDDEN)</td> \n",
       "        <td id=\"T_3d970bf4_f005_11e8_a74c_4e00dd994601row0_col1\" class=\"data row0 col1\" >Look no further! Your perfect stay in houston is a click away. Modern one bedroom apartment, brand NEW complex, clean, quiet, and let's talk about LOCATION (minutes from the galleria and easy access to the highway). You will not be disappointed. TV in the living room, comfortable mattress, WIFI, washer and dryer in the unit.</td> \n",
       "        <td id=\"T_3d970bf4_f005_11e8_a74c_4e00dd994601row0_col2\" class=\"data row0 col2\" >Houston</td> \n",
       "        <td id=\"T_3d970bf4_f005_11e8_a74c_4e00dd994601row0_col3\" class=\"data row0 col3\" >https://www.airbnb.com/rooms/18874368?location=Bellaire%2C%20TX</td> \n",
       "    </tr></tbody> \n",
       "</table> "
      ],
      "text/plain": [
       "<pandas.io.formats.style.Styler at 0x11251ab00>"
      ]
     },
     "metadata": {},
     "output_type": "display_data"
    },
    {
     "data": {
      "text/html": [
       "<style  type=\"text/css\" >\n",
       "</style>  \n",
       "<table id=\"T_3d97de94_f005_11e8_806b_4e00dd994601\" > \n",
       "<thead>    <tr> \n",
       "        <th class=\"blank level0\" ></th> \n",
       "        <th class=\"col_heading level0 col0\" >title</th> \n",
       "        <th class=\"col_heading level0 col1\" >description</th> \n",
       "        <th class=\"col_heading level0 col2\" >city</th> \n",
       "        <th class=\"col_heading level0 col3\" >url</th> \n",
       "    </tr></thead> \n",
       "<tbody>    <tr> \n",
       "        <th id=\"T_3d97de94_f005_11e8_806b_4e00dd994601level0_row0\" class=\"row_heading level0 row0\" >0</th> \n",
       "        <td id=\"T_3d97de94_f005_11e8_806b_4e00dd994601row0_col0\" class=\"data row0 col0\" >10 MIN WALK TO NRG: Private Room! Near Med Center</td> \n",
       "        <td id=\"T_3d97de94_f005_11e8_806b_4e00dd994601row0_col1\" class=\"data row0 col1\" >Located less than a mile from NRG Stadium, this gated community is perfect for attending events at the NRG! Park your car here for free with no worries (gated parking) and walk over to the stadium.\\n\\nWe are also a short drive or bus ride from the Texas Medical Center (2 miles)!\\n\\nYou'll have a private bedroom - with a TV and work desk, private walk-in closet, private 0.5 bathroom (sink and toilet), and full access to the shared bathroom (shower/bathtub) living room, kitchen, and patio.</td> \n",
       "        <td id=\"T_3d97de94_f005_11e8_806b_4e00dd994601row0_col2\" class=\"data row0 col2\" >Houston</td> \n",
       "        <td id=\"T_3d97de94_f005_11e8_806b_4e00dd994601row0_col3\" class=\"data row0 col3\" >https://www.airbnb.com/rooms/16649137?location=Bellaire%2C%20TX</td> \n",
       "    </tr></tbody> \n",
       "</table> "
      ],
      "text/plain": [
       "<pandas.io.formats.style.Styler at 0x11251af60>"
      ]
     },
     "metadata": {},
     "output_type": "display_data"
    },
    {
     "data": {
      "text/html": [
       "<style  type=\"text/css\" >\n",
       "</style>  \n",
       "<table id=\"T_3d98ae98_f005_11e8_8af2_4e00dd994601\" > \n",
       "<thead>    <tr> \n",
       "        <th class=\"blank level0\" ></th> \n",
       "        <th class=\"col_heading level0 col0\" >title</th> \n",
       "        <th class=\"col_heading level0 col1\" >description</th> \n",
       "        <th class=\"col_heading level0 col2\" >city</th> \n",
       "        <th class=\"col_heading level0 col3\" >url</th> \n",
       "    </tr></thead> \n",
       "<tbody>    <tr> \n",
       "        <th id=\"T_3d98ae98_f005_11e8_8af2_4e00dd994601level0_row0\" class=\"row_heading level0 row0\" >0</th> \n",
       "        <td id=\"T_3d98ae98_f005_11e8_8af2_4e00dd994601row0_col0\" class=\"data row0 col0\" >Luxury Medical Center NRG Stadium 615</td> \n",
       "        <td id=\"T_3d98ae98_f005_11e8_8af2_4e00dd994601row0_col1\" class=\"data row0 col1\" >Beautiful fully furnished 1 bed 1 bath centrally located in the heart of Houston. One mile from MD Anderson and NRG stadium. Close to museums, theaters and the zoo. Access to pool and weight room. Unlike others taxes are included in my price.</td> \n",
       "        <td id=\"T_3d98ae98_f005_11e8_8af2_4e00dd994601row0_col2\" class=\"data row0 col2\" >Houston</td> \n",
       "        <td id=\"T_3d98ae98_f005_11e8_8af2_4e00dd994601row0_col3\" class=\"data row0 col3\" >https://www.airbnb.com/rooms/8822609?location=Bellaire%2C%20TX</td> \n",
       "    </tr></tbody> \n",
       "</table> "
      ],
      "text/plain": [
       "<pandas.io.formats.style.Styler at 0x11251aa20>"
      ]
     },
     "metadata": {},
     "output_type": "display_data"
    },
    {
     "data": {
      "text/html": [
       "<style  type=\"text/css\" >\n",
       "</style>  \n",
       "<table id=\"T_3d998b90_f005_11e8_8a72_4e00dd994601\" > \n",
       "<thead>    <tr> \n",
       "        <th class=\"blank level0\" ></th> \n",
       "        <th class=\"col_heading level0 col0\" >title</th> \n",
       "        <th class=\"col_heading level0 col1\" >description</th> \n",
       "        <th class=\"col_heading level0 col2\" >city</th> \n",
       "        <th class=\"col_heading level0 col3\" >url</th> \n",
       "    </tr></thead> \n",
       "<tbody>    <tr> \n",
       "        <th id=\"T_3d998b90_f005_11e8_8a72_4e00dd994601level0_row0\" class=\"row_heading level0 row0\" >0</th> \n",
       "        <td id=\"T_3d998b90_f005_11e8_8a72_4e00dd994601row0_col0\" class=\"data row0 col0\" >$45 Comfortable Apartment</td> \n",
       "        <td id=\"T_3d998b90_f005_11e8_8a72_4e00dd994601row0_col1\" class=\"data row0 col1\" >Very comfortable and clean apartment. There are 6 pools on the entire property. There is a convenient store inside the premises, 20 ft. away from unit. The Galleria Mall of Houston is less than 10 mins away. Everything you need is surrounding this apt. Very convenient and quiet neighborhood.</td> \n",
       "        <td id=\"T_3d998b90_f005_11e8_8a72_4e00dd994601row0_col2\" class=\"data row0 col2\" >Houston</td> \n",
       "        <td id=\"T_3d998b90_f005_11e8_8a72_4e00dd994601row0_col3\" class=\"data row0 col3\" >https://www.airbnb.com/rooms/18823920?location=Bellaire%2C%20TX</td> \n",
       "    </tr></tbody> \n",
       "</table> "
      ],
      "text/plain": [
       "<pandas.io.formats.style.Styler at 0x11251a588>"
      ]
     },
     "metadata": {},
     "output_type": "display_data"
    },
    {
     "data": {
      "text/html": [
       "<style  type=\"text/css\" >\n",
       "</style>  \n",
       "<table id=\"T_3d9a7154_f005_11e8_a510_4e00dd994601\" > \n",
       "<thead>    <tr> \n",
       "        <th class=\"blank level0\" ></th> \n",
       "        <th class=\"col_heading level0 col0\" >title</th> \n",
       "        <th class=\"col_heading level0 col1\" >description</th> \n",
       "        <th class=\"col_heading level0 col2\" >city</th> \n",
       "        <th class=\"col_heading level0 col3\" >url</th> \n",
       "    </tr></thead> \n",
       "<tbody>    <tr> \n",
       "        <th id=\"T_3d9a7154_f005_11e8_a510_4e00dd994601level0_row0\" class=\"row_heading level0 row0\" >0</th> \n",
       "        <td id=\"T_3d9a7154_f005_11e8_a510_4e00dd994601row0_col0\" class=\"data row0 col0\" >The Stuttgart Room (Schaefer Haus)</td> \n",
       "        <td id=\"T_3d9a7154_f005_11e8_a510_4e00dd994601row0_col1\" class=\"data row0 col1\" >This is the Stuttgart Room of the Schaefer Haus. You will have a private balcony and bathroom. You have full access to the kitchen and parlor. All the restaurants, shops, and bars located in The Strand are only a five minute walk away.</td> \n",
       "        <td id=\"T_3d9a7154_f005_11e8_a510_4e00dd994601row0_col2\" class=\"data row0 col2\" >Galveston</td> \n",
       "        <td id=\"T_3d9a7154_f005_11e8_a510_4e00dd994601row0_col3\" class=\"data row0 col3\" >https://www.airbnb.com/rooms/16917205?location=Bayou%20Vista%2C%20TX</td> \n",
       "    </tr></tbody> \n",
       "</table> "
      ],
      "text/plain": [
       "<pandas.io.formats.style.Styler at 0x11251a198>"
      ]
     },
     "metadata": {},
     "output_type": "display_data"
    },
    {
     "data": {
      "text/html": [
       "<style  type=\"text/css\" >\n",
       "</style>  \n",
       "<table id=\"T_3d9b2824_f005_11e8_963f_4e00dd994601\" > \n",
       "<thead>    <tr> \n",
       "        <th class=\"blank level0\" ></th> \n",
       "        <th class=\"col_heading level0 col0\" >title</th> \n",
       "        <th class=\"col_heading level0 col1\" >description</th> \n",
       "        <th class=\"col_heading level0 col2\" >city</th> \n",
       "        <th class=\"col_heading level0 col3\" >url</th> \n",
       "    </tr></thead> \n",
       "<tbody>    <tr> \n",
       "        <th id=\"T_3d9b2824_f005_11e8_963f_4e00dd994601level0_row0\" class=\"row_heading level0 row0\" >0</th> \n",
       "        <td id=\"T_3d9b2824_f005_11e8_963f_4e00dd994601row0_col0\" class=\"data row0 col0\" >Ben's apartment C.</td> \n",
       "        <td id=\"T_3d9b2824_f005_11e8_963f_4e00dd994601row0_col1\" class=\"data row0 col1\" >One of three apartments located on private Canal facing intercoastal waterway nice front porch fishing area under structure parking for boat under apartment Great sunsets and 1/2 a mile from beachtruly a fisherman's paradise cross the canal to East Bay 30 minutes to gulf of Mexico</td> \n",
       "        <td id=\"T_3d9b2824_f005_11e8_963f_4e00dd994601row0_col2\" class=\"data row0 col2\" >Bolivar Peninsula</td> \n",
       "        <td id=\"T_3d9b2824_f005_11e8_963f_4e00dd994601row0_col3\" class=\"data row0 col3\" >https://www.airbnb.com/rooms/18839303?location=Bolivar%20Peninsula%2C%20TX</td> \n",
       "    </tr></tbody> \n",
       "</table> "
      ],
      "text/plain": [
       "<pandas.io.formats.style.Styler at 0x112426f98>"
      ]
     },
     "metadata": {},
     "output_type": "display_data"
    },
    {
     "data": {
      "text/html": [
       "<style  type=\"text/css\" >\n",
       "</style>  \n",
       "<table id=\"T_3d9be23a_f005_11e8_be71_4e00dd994601\" > \n",
       "<thead>    <tr> \n",
       "        <th class=\"blank level0\" ></th> \n",
       "        <th class=\"col_heading level0 col0\" >title</th> \n",
       "        <th class=\"col_heading level0 col1\" >description</th> \n",
       "        <th class=\"col_heading level0 col2\" >city</th> \n",
       "        <th class=\"col_heading level0 col3\" >url</th> \n",
       "    </tr></thead> \n",
       "<tbody>    <tr> \n",
       "        <th id=\"T_3d9be23a_f005_11e8_be71_4e00dd994601level0_row0\" class=\"row_heading level0 row0\" >0</th> \n",
       "        <td id=\"T_3d9be23a_f005_11e8_be71_4e00dd994601row0_col0\" class=\"data row0 col0\" >Resort Style Waterfront Super Bowl Rental</td> \n",
       "        <td id=\"T_3d9be23a_f005_11e8_be71_4e00dd994601row0_col1\" class=\"data row0 col1\" >Enjoy breathtaking sunsets while sitting poolside in the backyard of this gorgeous 5 bedroom 3.5 bathroom home with theatre room, study, and outdoor kitchen located on the Peninsula at Clear Lake. Make yourself at home while staying in Houston for Super Bowl LI. Take an Uber for a short commute to NRG. While in town visit the famous Kemah Boardwalk which offers exquisite fresh gulf seafood, amusement rides, exciting night life, and beautiful views of Galveston Bay!</td> \n",
       "        <td id=\"T_3d9be23a_f005_11e8_be71_4e00dd994601row0_col2\" class=\"data row0 col2\" >League City</td> \n",
       "        <td id=\"T_3d9be23a_f005_11e8_be71_4e00dd994601row0_col3\" class=\"data row0 col3\" >https://www.airbnb.com/rooms/16899678?location=Baytown%2C%20TX</td> \n",
       "    </tr></tbody> \n",
       "</table> "
      ],
      "text/plain": [
       "<pandas.io.formats.style.Styler at 0x110aca2e8>"
      ]
     },
     "metadata": {},
     "output_type": "display_data"
    }
   ],
   "source": [
    "for l in first_m:\n",
    "    d = l[0]\n",
    "    d = read(d)\n",
    "    d = d[[\"title\",\"description\",\"city\",\"url\"]]\n",
    "    display(d.style)"
   ]
  },
  {
   "cell_type": "code",
   "execution_count": null,
   "metadata": {},
   "outputs": [],
   "source": []
  },
  {
   "cell_type": "code",
   "execution_count": null,
   "metadata": {},
   "outputs": [],
   "source": []
  },
  {
   "cell_type": "code",
   "execution_count": null,
   "metadata": {},
   "outputs": [],
   "source": []
  },
  {
   "cell_type": "code",
   "execution_count": null,
   "metadata": {},
   "outputs": [],
   "source": []
  },
  {
   "cell_type": "code",
   "execution_count": null,
   "metadata": {},
   "outputs": [],
   "source": []
  },
  {
   "cell_type": "markdown",
   "metadata": {},
   "source": [
    "# Bonus Step: Make a nice visualization!"
   ]
  },
  {
   "cell_type": "code",
   "execution_count": 149,
   "metadata": {},
   "outputs": [
    {
     "name": "stdout",
     "output_type": "stream",
     "text": [
      "Enter latitude:28.503068\n",
      "Enter longitude:-99.447688\n",
      "Enter radius in km:100\n"
     ]
    }
   ],
   "source": [
    "latitude=float(input('Enter latitude:'))\n",
    "longitude=float(input('Enter longitude:'))\n",
    "radius=float(input('Enter radius in km:'))\n",
    "coord=[latitude, longitude]"
   ]
  },
  {
   "cell_type": "code",
   "execution_count": 172,
   "metadata": {},
   "outputs": [
    {
     "data": {
      "text/plain": [
       "[30.020138, -95.293996]"
      ]
     },
     "execution_count": 172,
     "metadata": {},
     "output_type": "execute_result"
    }
   ],
   "source": [
    "coord"
   ]
  },
  {
   "cell_type": "code",
   "execution_count": 173,
   "metadata": {},
   "outputs": [],
   "source": [
    "df_map = rentals_file.filter(items = ['latitude','longitude', 'url', 'average_rate_per_night'])"
   ]
  },
  {
   "cell_type": "code",
   "execution_count": 174,
   "metadata": {},
   "outputs": [
    {
     "data": {
      "text/html": [
       "<div>\n",
       "<style scoped>\n",
       "    .dataframe tbody tr th:only-of-type {\n",
       "        vertical-align: middle;\n",
       "    }\n",
       "\n",
       "    .dataframe tbody tr th {\n",
       "        vertical-align: top;\n",
       "    }\n",
       "\n",
       "    .dataframe thead th {\n",
       "        text-align: right;\n",
       "    }\n",
       "</style>\n",
       "<table border=\"1\" class=\"dataframe\">\n",
       "  <thead>\n",
       "    <tr style=\"text-align: right;\">\n",
       "      <th></th>\n",
       "      <th>latitude</th>\n",
       "      <th>longitude</th>\n",
       "      <th>url</th>\n",
       "      <th>average_rate_per_night</th>\n",
       "    </tr>\n",
       "  </thead>\n",
       "  <tbody>\n",
       "    <tr>\n",
       "      <th>0</th>\n",
       "      <td>30.020138</td>\n",
       "      <td>-95.293996</td>\n",
       "      <td>https://www.airbnb.com/rooms/18520444?location...</td>\n",
       "      <td>$27</td>\n",
       "    </tr>\n",
       "    <tr>\n",
       "      <th>1</th>\n",
       "      <td>29.503068</td>\n",
       "      <td>-98.447688</td>\n",
       "      <td>https://www.airbnb.com/rooms/17481455?location...</td>\n",
       "      <td>$149</td>\n",
       "    </tr>\n",
       "    <tr>\n",
       "      <th>2</th>\n",
       "      <td>29.829352</td>\n",
       "      <td>-95.081549</td>\n",
       "      <td>https://www.airbnb.com/rooms/16926307?location...</td>\n",
       "      <td>$59</td>\n",
       "    </tr>\n",
       "  </tbody>\n",
       "</table>\n",
       "</div>"
      ],
      "text/plain": [
       "    latitude  longitude                                                url  \\\n",
       "0  30.020138 -95.293996  https://www.airbnb.com/rooms/18520444?location...   \n",
       "1  29.503068 -98.447688  https://www.airbnb.com/rooms/17481455?location...   \n",
       "2  29.829352 -95.081549  https://www.airbnb.com/rooms/16926307?location...   \n",
       "\n",
       "  average_rate_per_night  \n",
       "0                    $27  \n",
       "1                   $149  \n",
       "2                    $59  "
      ]
     },
     "execution_count": 174,
     "metadata": {},
     "output_type": "execute_result"
    }
   ],
   "source": [
    "df_map.head(3)"
   ]
  },
  {
   "cell_type": "code",
   "execution_count": 175,
   "metadata": {},
   "outputs": [
    {
     "data": {
      "text/plain": [
       "30.0201379199512"
      ]
     },
     "execution_count": 175,
     "metadata": {},
     "output_type": "execute_result"
    }
   ],
   "source": [
    "df_map['latitude'][0]"
   ]
  },
  {
   "cell_type": "code",
   "execution_count": 176,
   "metadata": {},
   "outputs": [],
   "source": [
    "#there are NA values of coord in df, so we use try\n",
    "accomodations = []\n",
    "for i in range(len(rentals_file)):\n",
    "    try:\n",
    "        acc_coord = [df_map.latitude[i], df_map.longitude[i]]\n",
    "        dist = distance.distance(coord, acc_coord) #we want km values\n",
    "        if dist < radius:\n",
    "            accomodations.append(i)\n",
    "    except:\n",
    "        pass\n"
   ]
  },
  {
   "cell_type": "code",
   "execution_count": 179,
   "metadata": {},
   "outputs": [
    {
     "data": {
      "text/plain": [
       "[30.0201379199512, -95.29399600425128]"
      ]
     },
     "execution_count": 179,
     "metadata": {},
     "output_type": "execute_result"
    }
   ],
   "source": [
    "[df_map.latitude[0], df_map.longitude[0]]"
   ]
  },
  {
   "cell_type": "code",
   "execution_count": 156,
   "metadata": {},
   "outputs": [],
   "source": [
    "inside_r = df_map.iloc[accomodations]"
   ]
  },
  {
   "cell_type": "code",
   "execution_count": 159,
   "metadata": {},
   "outputs": [
    {
     "data": {
      "text/html": [
       "<div style=\"width:100%;\"><div style=\"position:relative;width:100%;height:0;padding-bottom:60%;\"><iframe src=\"data:text/html;charset=utf-8;base64,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\" style=\"position:absolute;width:100%;height:100%;left:0;top:0;border:none !important;\" allowfullscreen webkitallowfullscreen mozallowfullscreen></iframe></div></div>"
      ],
      "text/plain": [
       "<folium.folium.Map at 0x1a1c4f5a58>"
      ]
     },
     "execution_count": 159,
     "metadata": {},
     "output_type": "execute_result"
    }
   ],
   "source": [
    "m = folium.Map(location=coord, zoom_start=10, tiles = \"OpenStreetMap\")\n",
    "\n",
    "folium.Marker(\n",
    "    location=coord,\n",
    "    popup='Location',\n",
    "    icon=folium.Icon(color='blue')\n",
    ").add_to(m)\n",
    "\n",
    "folium.Circle( \n",
    "    location=coord,\n",
    "    radius=radius*1000,\n",
    "    color='#6a5acd',\n",
    "    fill=True,\n",
    "    fill_color='#7a6dd0'\n",
    ").add_to(m)\n",
    "\n",
    "for acc in inside_r.T: \n",
    "    house_coord = inside_r['latitude'][acc], inside_r['longitude'][acc] #house coord\n",
    "    folium.Marker(\n",
    "    location=house_coord,\n",
    "    \n",
    "\n",
    "    \n",
    "    popup=folium.Popup('<a href=' + inside_r['url'][acc] + '>'  + inside_r['average_rate_per_night'][acc] + ' </a>'), #airbnb page of house\n",
    "    icon = folium.Icon(color='darkpurple', icon='home')\n",
    ").add_to(m)\n",
    "   \n",
    "m.save(\"bonusMap.html\")\n",
    "\n",
    "m"
   ]
  },
  {
   "cell_type": "code",
   "execution_count": 158,
   "metadata": {},
   "outputs": [
    {
     "data": {
      "text/html": [
       "<div style=\"width:100%;\"><div style=\"position:relative;width:100%;height:0;padding-bottom:60%;\"><iframe src=\"data:text/html;charset=utf-8;base64,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\" style=\"position:absolute;width:100%;height:100%;left:0;top:0;border:none !important;\" allowfullscreen webkitallowfullscreen mozallowfullscreen></iframe></div></div>"
      ],
      "text/plain": [
       "<folium.folium.Map at 0x1a1a2c26d8>"
      ]
     },
     "execution_count": 158,
     "metadata": {},
     "output_type": "execute_result"
    }
   ],
   "source": []
  },
  {
   "cell_type": "code",
   "execution_count": null,
   "metadata": {},
   "outputs": [],
   "source": []
  }
 ],
 "metadata": {
  "kernelspec": {
   "display_name": "Python 3",
   "language": "python",
   "name": "python3"
  },
  "language_info": {
   "codemirror_mode": {
    "name": "ipython",
    "version": 3
   },
   "file_extension": ".py",
   "mimetype": "text/x-python",
   "name": "python",
   "nbconvert_exporter": "python",
   "pygments_lexer": "ipython3",
   "version": "3.6.5"
  }
 },
 "nbformat": 4,
 "nbformat_minor": 2
}
