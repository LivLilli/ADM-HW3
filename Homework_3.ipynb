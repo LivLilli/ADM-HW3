{
 "cells": [
  {
   "cell_type": "code",
   "execution_count": 1,
   "metadata": {},
   "outputs": [
    {
     "name": "stdout",
     "output_type": "stream",
     "text": [
      "[nltk_data] Downloading package stopwords to\n",
      "[nltk_data]     /Users/livialilli/nltk_data...\n",
      "[nltk_data]   Package stopwords is already up-to-date!\n"
     ]
    }
   ],
   "source": [
    "import pandas\n",
    "import csv\n",
    "from pandas.core.frame import DataFrame\n",
    "from nltk.tokenize import sent_tokenize, word_tokenize\n",
    "from nltk.stem import PorterStemmer\n",
    "from nltk.corpus import stopwords\n",
    "import nltk\n",
    "nltk.download('stopwords')\n",
    "import string\n",
    "\n"
   ]
  },
  {
   "cell_type": "code",
   "execution_count": 2,
   "metadata": {},
   "outputs": [
    {
     "name": "stdout",
     "output_type": "stream",
     "text": [
      "[nltk_data] Downloading package punkt to\n",
      "[nltk_data]     /Users/livialilli/nltk_data...\n",
      "[nltk_data]   Package punkt is already up-to-date!\n"
     ]
    },
    {
     "data": {
      "text/plain": [
       "True"
      ]
     },
     "execution_count": 2,
     "metadata": {},
     "output_type": "execute_result"
    }
   ],
   "source": [
    "import nltk\n",
    "nltk.download('punkt')"
   ]
  },
  {
   "cell_type": "markdown",
   "metadata": {},
   "source": [
    "# Step 1"
   ]
  },
  {
   "cell_type": "code",
   "execution_count": 3,
   "metadata": {},
   "outputs": [],
   "source": [
    "rentals_file = pandas.read_csv((\"files/Airbnb_Texas_Rentals.csv\"), sep =\",\", delimiter= None, header = \"infer\", names = None, index_col = None,\n",
    "                       encoding=\"ISO-8859-1\")"
   ]
  },
  {
   "cell_type": "code",
   "execution_count": 4,
   "metadata": {},
   "outputs": [
    {
     "data": {
      "text/html": [
       "<div>\n",
       "<style scoped>\n",
       "    .dataframe tbody tr th:only-of-type {\n",
       "        vertical-align: middle;\n",
       "    }\n",
       "\n",
       "    .dataframe tbody tr th {\n",
       "        vertical-align: top;\n",
       "    }\n",
       "\n",
       "    .dataframe thead th {\n",
       "        text-align: right;\n",
       "    }\n",
       "</style>\n",
       "<table border=\"1\" class=\"dataframe\">\n",
       "  <thead>\n",
       "    <tr style=\"text-align: right;\">\n",
       "      <th></th>\n",
       "      <th>Unnamed: 0</th>\n",
       "      <th>average_rate_per_night</th>\n",
       "      <th>bedrooms_count</th>\n",
       "      <th>city</th>\n",
       "      <th>date_of_listing</th>\n",
       "      <th>description</th>\n",
       "      <th>latitude</th>\n",
       "      <th>longitude</th>\n",
       "      <th>title</th>\n",
       "      <th>url</th>\n",
       "    </tr>\n",
       "  </thead>\n",
       "  <tbody>\n",
       "    <tr>\n",
       "      <th>0</th>\n",
       "      <td>1</td>\n",
       "      <td>$27</td>\n",
       "      <td>2</td>\n",
       "      <td>Humble</td>\n",
       "      <td>May 2016</td>\n",
       "      <td>Welcome to stay in private room with queen bed...</td>\n",
       "      <td>30.020138</td>\n",
       "      <td>-95.293996</td>\n",
       "      <td>2 Private rooms/bathroom 10min from IAH airport</td>\n",
       "      <td>https://www.airbnb.com/rooms/18520444?location...</td>\n",
       "    </tr>\n",
       "    <tr>\n",
       "      <th>1</th>\n",
       "      <td>2</td>\n",
       "      <td>$149</td>\n",
       "      <td>4</td>\n",
       "      <td>San Antonio</td>\n",
       "      <td>November 2010</td>\n",
       "      <td>Stylish, fully remodeled home in upscale NW â...</td>\n",
       "      <td>29.503068</td>\n",
       "      <td>-98.447688</td>\n",
       "      <td>Unique Location! Alamo Heights - Designer Insp...</td>\n",
       "      <td>https://www.airbnb.com/rooms/17481455?location...</td>\n",
       "    </tr>\n",
       "    <tr>\n",
       "      <th>2</th>\n",
       "      <td>3</td>\n",
       "      <td>$59</td>\n",
       "      <td>1</td>\n",
       "      <td>Houston</td>\n",
       "      <td>January 2017</td>\n",
       "      <td>'River house on island close to the city' \\nA ...</td>\n",
       "      <td>29.829352</td>\n",
       "      <td>-95.081549</td>\n",
       "      <td>River house near the city</td>\n",
       "      <td>https://www.airbnb.com/rooms/16926307?location...</td>\n",
       "    </tr>\n",
       "  </tbody>\n",
       "</table>\n",
       "</div>"
      ],
      "text/plain": [
       "   Unnamed: 0 average_rate_per_night bedrooms_count         city  \\\n",
       "0           1                    $27              2       Humble   \n",
       "1           2                   $149              4  San Antonio   \n",
       "2           3                    $59              1      Houston   \n",
       "\n",
       "  date_of_listing                                        description  \\\n",
       "0        May 2016  Welcome to stay in private room with queen bed...   \n",
       "1   November 2010  Stylish, fully remodeled home in upscale NW â...   \n",
       "2    January 2017  'River house on island close to the city' \\nA ...   \n",
       "\n",
       "    latitude  longitude                                              title  \\\n",
       "0  30.020138 -95.293996    2 Private rooms/bathroom 10min from IAH airport   \n",
       "1  29.503068 -98.447688  Unique Location! Alamo Heights - Designer Insp...   \n",
       "2  29.829352 -95.081549                          River house near the city   \n",
       "\n",
       "                                                 url  \n",
       "0  https://www.airbnb.com/rooms/18520444?location...  \n",
       "1  https://www.airbnb.com/rooms/17481455?location...  \n",
       "2  https://www.airbnb.com/rooms/16926307?location...  "
      ]
     },
     "execution_count": 4,
     "metadata": {},
     "output_type": "execute_result"
    }
   ],
   "source": [
    "rentals_file.head(3)"
   ]
  },
  {
   "cell_type": "markdown",
   "metadata": {},
   "source": [
    "# Step 2"
   ]
  },
  {
   "cell_type": "code",
   "execution_count": 5,
   "metadata": {
    "collapsed": true
   },
   "outputs": [
    {
     "ename": "KeyboardInterrupt",
     "evalue": "",
     "output_type": "error",
     "traceback": [
      "\u001b[0;31m---------------------------------------------------------------------------\u001b[0m",
      "\u001b[0;31mKeyboardInterrupt\u001b[0m                         Traceback (most recent call last)",
      "\u001b[0;32m<ipython-input-5-89cdb20c78ae>\u001b[0m in \u001b[0;36m<module>\u001b[0;34m()\u001b[0m\n\u001b[1;32m      4\u001b[0m     \u001b[0mrecord\u001b[0m \u001b[0;34m=\u001b[0m \u001b[0mrentals_file\u001b[0m\u001b[0;34m.\u001b[0m\u001b[0mloc\u001b[0m\u001b[0;34m[\u001b[0m\u001b[0;34m[\u001b[0m\u001b[0mr\u001b[0m\u001b[0;34m]\u001b[0m\u001b[0;34m]\u001b[0m\u001b[0;34m\u001b[0m\u001b[0m\n\u001b[1;32m      5\u001b[0m     \u001b[0mname\u001b[0m \u001b[0;34m=\u001b[0m \u001b[0;34m\"doc_\"\u001b[0m \u001b[0;34m+\u001b[0m \u001b[0mstr\u001b[0m\u001b[0;34m(\u001b[0m\u001b[0mi\u001b[0m\u001b[0;34m)\u001b[0m \u001b[0;34m+\u001b[0m\u001b[0;34m\".tsv\"\u001b[0m\u001b[0;34m\u001b[0m\u001b[0m\n\u001b[0;32m----> 6\u001b[0;31m     \u001b[0mrecord\u001b[0m\u001b[0;34m.\u001b[0m\u001b[0mto_csv\u001b[0m\u001b[0;34m(\u001b[0m\u001b[0mpath_or_buf\u001b[0m \u001b[0;34m=\u001b[0m \u001b[0mname\u001b[0m\u001b[0;34m,\u001b[0m \u001b[0msep\u001b[0m\u001b[0;34m=\u001b[0m\u001b[0;34m'\\t'\u001b[0m\u001b[0;34m)\u001b[0m\u001b[0;34m\u001b[0m\u001b[0m\n\u001b[0m\u001b[1;32m      7\u001b[0m \u001b[0;34m\u001b[0m\u001b[0m\n\u001b[1;32m      8\u001b[0m     \u001b[0mi\u001b[0m \u001b[0;34m+=\u001b[0m \u001b[0;36m1\u001b[0m\u001b[0;34m\u001b[0m\u001b[0m\n",
      "\u001b[0;32m/anaconda3/lib/python3.6/site-packages/pandas/core/frame.py\u001b[0m in \u001b[0;36mto_csv\u001b[0;34m(self, path_or_buf, sep, na_rep, float_format, columns, header, index, index_label, mode, encoding, compression, quoting, quotechar, line_terminator, chunksize, tupleize_cols, date_format, doublequote, escapechar, decimal)\u001b[0m\n\u001b[1;32m   1743\u001b[0m                                  \u001b[0mdoublequote\u001b[0m\u001b[0;34m=\u001b[0m\u001b[0mdoublequote\u001b[0m\u001b[0;34m,\u001b[0m\u001b[0;34m\u001b[0m\u001b[0m\n\u001b[1;32m   1744\u001b[0m                                  escapechar=escapechar, decimal=decimal)\n\u001b[0;32m-> 1745\u001b[0;31m         \u001b[0mformatter\u001b[0m\u001b[0;34m.\u001b[0m\u001b[0msave\u001b[0m\u001b[0;34m(\u001b[0m\u001b[0;34m)\u001b[0m\u001b[0;34m\u001b[0m\u001b[0m\n\u001b[0m\u001b[1;32m   1746\u001b[0m \u001b[0;34m\u001b[0m\u001b[0m\n\u001b[1;32m   1747\u001b[0m         \u001b[0;32mif\u001b[0m \u001b[0mpath_or_buf\u001b[0m \u001b[0;32mis\u001b[0m \u001b[0;32mNone\u001b[0m\u001b[0;34m:\u001b[0m\u001b[0;34m\u001b[0m\u001b[0m\n",
      "\u001b[0;32m/anaconda3/lib/python3.6/site-packages/pandas/io/formats/csvs.py\u001b[0m in \u001b[0;36msave\u001b[0;34m(self)\u001b[0m\n\u001b[1;32m    134\u001b[0m             f, handles = _get_handle(self.path_or_buf, self.mode,\n\u001b[1;32m    135\u001b[0m                                      \u001b[0mencoding\u001b[0m\u001b[0;34m=\u001b[0m\u001b[0mencoding\u001b[0m\u001b[0;34m,\u001b[0m\u001b[0;34m\u001b[0m\u001b[0m\n\u001b[0;32m--> 136\u001b[0;31m                                      compression=None)\n\u001b[0m\u001b[1;32m    137\u001b[0m             \u001b[0mclose\u001b[0m \u001b[0;34m=\u001b[0m \u001b[0;32mTrue\u001b[0m \u001b[0;32mif\u001b[0m \u001b[0mself\u001b[0m\u001b[0;34m.\u001b[0m\u001b[0mcompression\u001b[0m \u001b[0;32mis\u001b[0m \u001b[0;32mNone\u001b[0m \u001b[0;32melse\u001b[0m \u001b[0;32mFalse\u001b[0m\u001b[0;34m\u001b[0m\u001b[0m\n\u001b[1;32m    138\u001b[0m \u001b[0;34m\u001b[0m\u001b[0m\n",
      "\u001b[0;32m/anaconda3/lib/python3.6/site-packages/pandas/io/common.py\u001b[0m in \u001b[0;36m_get_handle\u001b[0;34m(path_or_buf, mode, encoding, compression, memory_map, is_text)\u001b[0m\n\u001b[1;32m    324\u001b[0m     \"\"\"\n\u001b[1;32m    325\u001b[0m     \u001b[0;32mtry\u001b[0m\u001b[0;34m:\u001b[0m\u001b[0;34m\u001b[0m\u001b[0m\n\u001b[0;32m--> 326\u001b[0;31m         \u001b[0;32mfrom\u001b[0m \u001b[0ms3fs\u001b[0m \u001b[0;32mimport\u001b[0m \u001b[0mS3File\u001b[0m\u001b[0;34m\u001b[0m\u001b[0m\n\u001b[0m\u001b[1;32m    327\u001b[0m         \u001b[0mneed_text_wrapping\u001b[0m \u001b[0;34m=\u001b[0m \u001b[0;34m(\u001b[0m\u001b[0mBytesIO\u001b[0m\u001b[0;34m,\u001b[0m \u001b[0mS3File\u001b[0m\u001b[0;34m)\u001b[0m\u001b[0;34m\u001b[0m\u001b[0m\n\u001b[1;32m    328\u001b[0m     \u001b[0;32mexcept\u001b[0m \u001b[0mImportError\u001b[0m\u001b[0;34m:\u001b[0m\u001b[0;34m\u001b[0m\u001b[0m\n",
      "\u001b[0;32m/anaconda3/lib/python3.6/importlib/_bootstrap.py\u001b[0m in \u001b[0;36m_find_and_load\u001b[0;34m(name, import_)\u001b[0m\n",
      "\u001b[0;32m/anaconda3/lib/python3.6/importlib/_bootstrap.py\u001b[0m in \u001b[0;36m_find_and_load_unlocked\u001b[0;34m(name, import_)\u001b[0m\n",
      "\u001b[0;32m/anaconda3/lib/python3.6/importlib/_bootstrap.py\u001b[0m in \u001b[0;36m_find_spec\u001b[0;34m(name, path, target)\u001b[0m\n",
      "\u001b[0;32m/anaconda3/lib/python3.6/importlib/_bootstrap_external.py\u001b[0m in \u001b[0;36mfind_spec\u001b[0;34m(cls, fullname, path, target)\u001b[0m\n",
      "\u001b[0;32m/anaconda3/lib/python3.6/importlib/_bootstrap_external.py\u001b[0m in \u001b[0;36m_get_spec\u001b[0;34m(cls, fullname, path, target)\u001b[0m\n",
      "\u001b[0;32m/anaconda3/lib/python3.6/importlib/_bootstrap_external.py\u001b[0m in \u001b[0;36mfind_spec\u001b[0;34m(self, fullname, target)\u001b[0m\n",
      "\u001b[0;32m/anaconda3/lib/python3.6/importlib/_bootstrap_external.py\u001b[0m in \u001b[0;36m_fill_cache\u001b[0;34m(self)\u001b[0m\n",
      "\u001b[0;31mKeyboardInterrupt\u001b[0m: "
     ]
    }
   ],
   "source": [
    "#creating tsv files\n",
    "i = 0\n",
    "for r in range(len(rentals_file)):\n",
    "    record = rentals_file.loc[[r]]\n",
    "    name = \"doc_\" + str(i) +\".tsv\"\n",
    "    record.to_csv(path_or_buf = name, sep='\\t')\n",
    "    \n",
    "    i += 1\n",
    "    "
   ]
  },
  {
   "cell_type": "code",
   "execution_count": 5,
   "metadata": {},
   "outputs": [],
   "source": [
    "#function to read the tsv file\n",
    "def read(file_name):\n",
    "    read_file = pandas.read_csv(file_name, sep =\"\\t\", delimiter= None, header = \"infer\", names = None, index_col = None, usecols = None,\n",
    "                       encoding=\"ISO-8859-1\")\n",
    "    return read_file\n",
    "    "
   ]
  },
  {
   "cell_type": "code",
   "execution_count": 6,
   "metadata": {},
   "outputs": [],
   "source": [
    "#for now I just consider one tsv file\n",
    "d = read(\"files/doc_0.tsv\")"
   ]
  },
  {
   "cell_type": "code",
   "execution_count": 7,
   "metadata": {},
   "outputs": [
    {
     "data": {
      "text/html": [
       "<div>\n",
       "<style scoped>\n",
       "    .dataframe tbody tr th:only-of-type {\n",
       "        vertical-align: middle;\n",
       "    }\n",
       "\n",
       "    .dataframe tbody tr th {\n",
       "        vertical-align: top;\n",
       "    }\n",
       "\n",
       "    .dataframe thead th {\n",
       "        text-align: right;\n",
       "    }\n",
       "</style>\n",
       "<table border=\"1\" class=\"dataframe\">\n",
       "  <thead>\n",
       "    <tr style=\"text-align: right;\">\n",
       "      <th></th>\n",
       "      <th>Unnamed: 0</th>\n",
       "      <th>Unnamed: 0.1</th>\n",
       "      <th>average_rate_per_night</th>\n",
       "      <th>bedrooms_count</th>\n",
       "      <th>city</th>\n",
       "      <th>date_of_listing</th>\n",
       "      <th>description</th>\n",
       "      <th>latitude</th>\n",
       "      <th>longitude</th>\n",
       "      <th>title</th>\n",
       "      <th>url</th>\n",
       "    </tr>\n",
       "  </thead>\n",
       "  <tbody>\n",
       "    <tr>\n",
       "      <th>0</th>\n",
       "      <td>0</td>\n",
       "      <td>1</td>\n",
       "      <td>$27</td>\n",
       "      <td>2</td>\n",
       "      <td>Humble</td>\n",
       "      <td>May 2016</td>\n",
       "      <td>Welcome to stay in private room with queen bed...</td>\n",
       "      <td>30.020138</td>\n",
       "      <td>-95.293996</td>\n",
       "      <td>2 Private rooms/bathroom 10min from IAH airport</td>\n",
       "      <td>https://www.airbnb.com/rooms/18520444?location...</td>\n",
       "    </tr>\n",
       "  </tbody>\n",
       "</table>\n",
       "</div>"
      ],
      "text/plain": [
       "   Unnamed: 0  Unnamed: 0.1 average_rate_per_night  bedrooms_count    city  \\\n",
       "0           0             1                    $27               2  Humble   \n",
       "\n",
       "  date_of_listing                                        description  \\\n",
       "0        May 2016  Welcome to stay in private room with queen bed...   \n",
       "\n",
       "    latitude  longitude                                            title  \\\n",
       "0  30.020138 -95.293996  2 Private rooms/bathroom 10min from IAH airport   \n",
       "\n",
       "                                                 url  \n",
       "0  https://www.airbnb.com/rooms/18520444?location...  "
      ]
     },
     "execution_count": 7,
     "metadata": {},
     "output_type": "execute_result"
    }
   ],
   "source": [
    "d"
   ]
  },
  {
   "cell_type": "code",
   "execution_count": 8,
   "metadata": {},
   "outputs": [
    {
     "data": {
      "text/plain": [
       "0    Welcome to stay in private room with queen bed...\n",
       "Name: description, dtype: object"
      ]
     },
     "execution_count": 8,
     "metadata": {},
     "output_type": "execute_result"
    }
   ],
   "source": [
    "d[\"description\"]"
   ]
  },
  {
   "cell_type": "code",
   "execution_count": 9,
   "metadata": {},
   "outputs": [],
   "source": [
    "s = d[\"description\"][0]"
   ]
  },
  {
   "cell_type": "code",
   "execution_count": 10,
   "metadata": {},
   "outputs": [
    {
     "data": {
      "text/plain": [
       "'Welcome to stay in private room with queen bed and detached private bathroom on the second floor. Another private bedroom with sofa bed is available for additional guests. 10$ for an additional guest.\\\\n10min from IAH airport\\\\nAirport pick-up/drop off is available for $10/trip.'"
      ]
     },
     "execution_count": 10,
     "metadata": {},
     "output_type": "execute_result"
    }
   ],
   "source": [
    "s"
   ]
  },
  {
   "cell_type": "code",
   "execution_count": 11,
   "metadata": {},
   "outputs": [],
   "source": [
    "col_names = [\"average_rate_per_night\",\"bedrooms_count\", \"city\", \"date_of_listing\", \"description\", \"latitude\", \"longitude\",\"title\",\"url\"]"
   ]
  },
  {
   "cell_type": "markdown",
   "metadata": {},
   "source": [
    "# Step 3"
   ]
  },
  {
   "cell_type": "markdown",
   "metadata": {},
   "source": [
    "## Preprocessing"
   ]
  },
  {
   "cell_type": "code",
   "execution_count": 12,
   "metadata": {},
   "outputs": [],
   "source": [
    "def stopWords(column_file):\n",
    "    \n",
    "    stopWords = set(stopwords.words('english'))\n",
    "    words = word_tokenize(str(column_file))\n",
    "    wordsFiltered = []\n",
    "\n",
    "    for w in words:\n",
    "        if w not in stopWords:\n",
    "            wordsFiltered.append(w)\n",
    "    return wordsFiltered\n",
    "    "
   ]
  },
  {
   "cell_type": "code",
   "execution_count": 13,
   "metadata": {},
   "outputs": [],
   "source": [
    "def punctuation(list):\n",
    "    exclude = set(string.punctuation)\n",
    "    for el in list:\n",
    "        if el in exclude:\n",
    "            list.remove(el)\n",
    "    return list"
   ]
  },
  {
   "cell_type": "code",
   "execution_count": 14,
   "metadata": {},
   "outputs": [],
   "source": [
    "def stemming(list):\n",
    "    ps = PorterStemmer()\n",
    "    output = []\n",
    "    for word in list:\n",
    "        stem_word = ps.stem(word)\n",
    "        output.append(stem_word)\n",
    "    return output\n",
    "#it returns a list (of the current column) with all the stem-words\n"
   ]
  },
  {
   "cell_type": "code",
   "execution_count": 15,
   "metadata": {},
   "outputs": [
    {
     "name": "stdout",
     "output_type": "stream",
     "text": [
      "['2', 'privat', 'rooms/bathroom', '10min', 'iah', 'airport']\n"
     ]
    }
   ],
   "source": [
    "#example of application\n",
    "s = stopWords(d[\"title\"][0])\n",
    "p = punctuation(s)\n",
    "print(stemming(p))"
   ]
  },
  {
   "cell_type": "code",
   "execution_count": 16,
   "metadata": {},
   "outputs": [],
   "source": [
    "#On ALL the COLUMNS\n",
    "#applyng stopWords,punctuation and stemming functions for every column of the dataframe\n",
    "#it returns a dictionary, where keys are the columns names, and for every key there is the list of cleaned words.\n",
    "def all_col(read_file):\n",
    "    dic = {}\n",
    "    for name in col_names:\n",
    "        s = str(read_file[name][0]).replace(\"\\\\n\", \" \")\n",
    "        l = stopWords(s)\n",
    "        l = punctuation(l)\n",
    "        result = stemming(l)\n",
    "        dic[name] = result\n",
    "        #print(result)\n",
    "    return dic"
   ]
  },
  {
   "cell_type": "code",
   "execution_count": 17,
   "metadata": {},
   "outputs": [
    {
     "name": "stdout",
     "output_type": "stream",
     "text": [
      "{'average_rate_per_night': ['27'], 'bedrooms_count': ['2'], 'city': ['humbl'], 'date_of_listing': ['may', '2016'], 'description': ['welcom', 'stay', 'privat', 'room', 'queen', 'bed', 'detach', 'privat', 'bathroom', 'second', 'floor', 'anoth', 'privat', 'bedroom', 'sofa', 'bed', 'avail', 'addit', 'guest', '10', 'addit', 'guest', '10min', 'iah', 'airport', 'airport', 'pick-up/drop', 'avail', '10/trip'], 'latitude': ['30.0201379199512'], 'longitude': ['-95.29399600425128'], 'title': ['2', 'privat', 'rooms/bathroom', '10min', 'iah', 'airport'], 'url': ['http', '//www.airbnb.com/rooms/18520444', 'location=cleveland', '2C', '20tx']}\n"
     ]
    }
   ],
   "source": [
    "print(all_col(d))\n"
   ]
  },
  {
   "cell_type": "markdown",
   "metadata": {},
   "source": [
    "## 3.1 Conjunctive query"
   ]
  },
  {
   "cell_type": "code",
   "execution_count": 18,
   "metadata": {},
   "outputs": [],
   "source": [
    "#we have to consider just description and title columns\n",
    "\n",
    "\n",
    "def filter_keys(dictionary):\n",
    "    keys = [\"description\", \"title\"]\n",
    "    return {x: dictionary[x] for x in dictionary if x in keys}\n",
    "\n"
   ]
  },
  {
   "cell_type": "markdown",
   "metadata": {},
   "source": [
    "### 3.1.1 Create your index"
   ]
  },
  {
   "cell_type": "code",
   "execution_count": 19,
   "metadata": {},
   "outputs": [],
   "source": [
    "#for every tsv file, I apply the preprocess, I filter the columns that I need, and then I build the vocabulary\n",
    "vocabulary = {}\n",
    "for i in range(len(rentals_file)):\n",
    "    name = \"files/doc_\" + str(i) +\".tsv\"\n",
    "    df = read(name)\n",
    "    clean_d = all_col(df)\n",
    "    filtered_d = filter_keys(clean_d)\n",
    "    values = filtered_d.values()\n",
    "    for l in values:\n",
    "        for el in l:\n",
    "            if el not in vocabulary.keys():\n",
    "                vocabulary[el] = [name]\n",
    "            else:\n",
    "                vocabulary[el].append(name)\n",
    "    \n",
    "    \n",
    "#it has got as keys the words, as values all the docs where words are in \n",
    "    "
   ]
  },
  {
   "cell_type": "code",
   "execution_count": 20,
   "metadata": {},
   "outputs": [],
   "source": [
    "keys = vocabulary.keys()\n",
    "list_keys = list(keys)\n",
    "file_voc = {}\n",
    "\n",
    "for i in range(len(list_keys)):\n",
    "    term = \"term_id_\" + str(i)\n",
    "    \n",
    "    file_voc[term] = list_keys[i]\n",
    "\n",
    "#it has as keys the id terms, as values, the corrispondent words"
   ]
  },
  {
   "cell_type": "code",
   "execution_count": 21,
   "metadata": {},
   "outputs": [],
   "source": [
    "file_voc_keys = list(file_voc.keys())"
   ]
  },
  {
   "cell_type": "code",
   "execution_count": 22,
   "metadata": {},
   "outputs": [],
   "source": [
    "#this as as keys the term id, as values the docs where id's word is in\n",
    "new = {}\n",
    "for i in range(len(file_voc_keys)):\n",
    "    new_key = file_voc_keys[i]\n",
    "    old_key = file_voc[new_key]\n",
    "    new[new_key] = vocabulary[old_key]"
   ]
  },
  {
   "cell_type": "markdown",
   "metadata": {},
   "source": [
    "### 3.1.2 Execute the query"
   ]
  },
  {
   "cell_type": "code",
   "execution_count": 64,
   "metadata": {},
   "outputs": [
    {
     "name": "stdout",
     "output_type": "stream",
     "text": [
      "welcome airport near\n"
     ]
    }
   ],
   "source": [
    "query = input()"
   ]
  },
  {
   "cell_type": "code",
   "execution_count": 65,
   "metadata": {},
   "outputs": [],
   "source": [
    "query = stopWords(query)"
   ]
  },
  {
   "cell_type": "code",
   "execution_count": 66,
   "metadata": {},
   "outputs": [],
   "source": [
    "query = punctuation(query)"
   ]
  },
  {
   "cell_type": "code",
   "execution_count": 67,
   "metadata": {},
   "outputs": [],
   "source": [
    "query = stemming(query)"
   ]
  },
  {
   "cell_type": "code",
   "execution_count": 68,
   "metadata": {},
   "outputs": [
    {
     "data": {
      "text/plain": [
       "['welcom', 'airport', 'near']"
      ]
     },
     "execution_count": 68,
     "metadata": {},
     "output_type": "execute_result"
    }
   ],
   "source": [
    "query"
   ]
  },
  {
   "cell_type": "code",
   "execution_count": 69,
   "metadata": {},
   "outputs": [],
   "source": [
    "docs = {}\n",
    "for word in query:\n",
    "    try:\n",
    "        l = vocabulary[word]\n",
    "        docs[word] = l\n",
    "    except:\n",
    "        pass"
   ]
  },
  {
   "cell_type": "code",
   "execution_count": 70,
   "metadata": {},
   "outputs": [
    {
     "name": "stdout",
     "output_type": "stream",
     "text": [
      "{'welcom': ['files/doc_0.tsv', 'files/doc_4.tsv', 'files/doc_22.tsv', 'files/doc_22.tsv', 'files/doc_50.tsv', 'files/doc_58.tsv', 'files/doc_58.tsv', 'files/doc_70.tsv', 'files/doc_70.tsv', 'files/doc_94.tsv', 'files/doc_104.tsv', 'files/doc_125.tsv', 'files/doc_146.tsv', 'files/doc_150.tsv', 'files/doc_196.tsv', 'files/doc_199.tsv', 'files/doc_200.tsv', 'files/doc_222.tsv', 'files/doc_236.tsv', 'files/doc_250.tsv', 'files/doc_275.tsv', 'files/doc_288.tsv', 'files/doc_296.tsv', 'files/doc_306.tsv', 'files/doc_332.tsv', 'files/doc_342.tsv', 'files/doc_346.tsv', 'files/doc_384.tsv', 'files/doc_404.tsv', 'files/doc_429.tsv', 'files/doc_435.tsv', 'files/doc_439.tsv', 'files/doc_443.tsv', 'files/doc_449.tsv', 'files/doc_463.tsv', 'files/doc_470.tsv', 'files/doc_474.tsv', 'files/doc_475.tsv', 'files/doc_500.tsv', 'files/doc_503.tsv', 'files/doc_504.tsv', 'files/doc_540.tsv', 'files/doc_549.tsv', 'files/doc_567.tsv', 'files/doc_589.tsv', 'files/doc_607.tsv', 'files/doc_610.tsv', 'files/doc_636.tsv', 'files/doc_670.tsv', 'files/doc_672.tsv', 'files/doc_708.tsv', 'files/doc_735.tsv', 'files/doc_743.tsv', 'files/doc_769.tsv', 'files/doc_770.tsv', 'files/doc_771.tsv', 'files/doc_792.tsv', 'files/doc_793.tsv', 'files/doc_812.tsv', 'files/doc_815.tsv', 'files/doc_816.tsv', 'files/doc_826.tsv', 'files/doc_851.tsv', 'files/doc_855.tsv', 'files/doc_862.tsv', 'files/doc_896.tsv', 'files/doc_908.tsv', 'files/doc_922.tsv', 'files/doc_926.tsv', 'files/doc_944.tsv', 'files/doc_951.tsv', 'files/doc_965.tsv', 'files/doc_976.tsv', 'files/doc_976.tsv', 'files/doc_1024.tsv', 'files/doc_1052.tsv', 'files/doc_1056.tsv', 'files/doc_1058.tsv', 'files/doc_1074.tsv', 'files/doc_1099.tsv', 'files/doc_1121.tsv', 'files/doc_1138.tsv', 'files/doc_1175.tsv', 'files/doc_1179.tsv', 'files/doc_1187.tsv', 'files/doc_1238.tsv', 'files/doc_1240.tsv', 'files/doc_1254.tsv', 'files/doc_1257.tsv', 'files/doc_1258.tsv', 'files/doc_1259.tsv', 'files/doc_1296.tsv', 'files/doc_1305.tsv', 'files/doc_1354.tsv', 'files/doc_1366.tsv', 'files/doc_1384.tsv', 'files/doc_1391.tsv', 'files/doc_1391.tsv', 'files/doc_1397.tsv', 'files/doc_1411.tsv', 'files/doc_1415.tsv', 'files/doc_1420.tsv', 'files/doc_1428.tsv', 'files/doc_1443.tsv', 'files/doc_1501.tsv', 'files/doc_1506.tsv', 'files/doc_1540.tsv', 'files/doc_1541.tsv', 'files/doc_1542.tsv', 'files/doc_1552.tsv', 'files/doc_1561.tsv', 'files/doc_1581.tsv', 'files/doc_1582.tsv', 'files/doc_1589.tsv', 'files/doc_1593.tsv', 'files/doc_1603.tsv', 'files/doc_1605.tsv', 'files/doc_1605.tsv', 'files/doc_1610.tsv', 'files/doc_1611.tsv', 'files/doc_1627.tsv', 'files/doc_1646.tsv', 'files/doc_1674.tsv', 'files/doc_1678.tsv', 'files/doc_1695.tsv', 'files/doc_1695.tsv', 'files/doc_1696.tsv', 'files/doc_1701.tsv', 'files/doc_1730.tsv', 'files/doc_1772.tsv', 'files/doc_1780.tsv', 'files/doc_1839.tsv', 'files/doc_1850.tsv', 'files/doc_1866.tsv', 'files/doc_1902.tsv', 'files/doc_1906.tsv', 'files/doc_1955.tsv', 'files/doc_1964.tsv', 'files/doc_1967.tsv', 'files/doc_1969.tsv', 'files/doc_1969.tsv', 'files/doc_1970.tsv', 'files/doc_1976.tsv', 'files/doc_1999.tsv', 'files/doc_2025.tsv', 'files/doc_2033.tsv', 'files/doc_2039.tsv', 'files/doc_2045.tsv', 'files/doc_2055.tsv', 'files/doc_2057.tsv', 'files/doc_2088.tsv', 'files/doc_2109.tsv', 'files/doc_2129.tsv', 'files/doc_2145.tsv', 'files/doc_2158.tsv', 'files/doc_2160.tsv', 'files/doc_2181.tsv', 'files/doc_2181.tsv', 'files/doc_2212.tsv', 'files/doc_2214.tsv', 'files/doc_2216.tsv', 'files/doc_2246.tsv', 'files/doc_2263.tsv', 'files/doc_2275.tsv', 'files/doc_2279.tsv', 'files/doc_2317.tsv', 'files/doc_2321.tsv', 'files/doc_2340.tsv', 'files/doc_2374.tsv', 'files/doc_2382.tsv', 'files/doc_2389.tsv', 'files/doc_2389.tsv', 'files/doc_2392.tsv', 'files/doc_2400.tsv', 'files/doc_2401.tsv', 'files/doc_2413.tsv', 'files/doc_2421.tsv', 'files/doc_2423.tsv', 'files/doc_2426.tsv', 'files/doc_2429.tsv', 'files/doc_2445.tsv', 'files/doc_2446.tsv', 'files/doc_2465.tsv', 'files/doc_2485.tsv', 'files/doc_2489.tsv', 'files/doc_2489.tsv', 'files/doc_2492.tsv', 'files/doc_2500.tsv', 'files/doc_2510.tsv', 'files/doc_2511.tsv', 'files/doc_2511.tsv', 'files/doc_2546.tsv', 'files/doc_2558.tsv', 'files/doc_2561.tsv', 'files/doc_2573.tsv', 'files/doc_2612.tsv', 'files/doc_2699.tsv', 'files/doc_2704.tsv', 'files/doc_2706.tsv', 'files/doc_2717.tsv', 'files/doc_2731.tsv', 'files/doc_2743.tsv', 'files/doc_2746.tsv', 'files/doc_2797.tsv', 'files/doc_2806.tsv', 'files/doc_2873.tsv', 'files/doc_2939.tsv', 'files/doc_2942.tsv', 'files/doc_2942.tsv', 'files/doc_2950.tsv', 'files/doc_2955.tsv', 'files/doc_2972.tsv', 'files/doc_2985.tsv', 'files/doc_3009.tsv', 'files/doc_3014.tsv', 'files/doc_3046.tsv', 'files/doc_3066.tsv', 'files/doc_3076.tsv', 'files/doc_3097.tsv', 'files/doc_3115.tsv', 'files/doc_3118.tsv', 'files/doc_3118.tsv', 'files/doc_3129.tsv', 'files/doc_3184.tsv', 'files/doc_3193.tsv', 'files/doc_3209.tsv', 'files/doc_3213.tsv', 'files/doc_3224.tsv', 'files/doc_3230.tsv', 'files/doc_3267.tsv', 'files/doc_3280.tsv', 'files/doc_3284.tsv', 'files/doc_3285.tsv', 'files/doc_3288.tsv', 'files/doc_3323.tsv', 'files/doc_3334.tsv', 'files/doc_3350.tsv', 'files/doc_3363.tsv', 'files/doc_3370.tsv', 'files/doc_3370.tsv', 'files/doc_3377.tsv', 'files/doc_3383.tsv', 'files/doc_3386.tsv', 'files/doc_3412.tsv', 'files/doc_3412.tsv', 'files/doc_3447.tsv', 'files/doc_3449.tsv', 'files/doc_3452.tsv', 'files/doc_3454.tsv', 'files/doc_3494.tsv', 'files/doc_3534.tsv', 'files/doc_3535.tsv', 'files/doc_3538.tsv', 'files/doc_3543.tsv', 'files/doc_3552.tsv', 'files/doc_3559.tsv', 'files/doc_3579.tsv', 'files/doc_3604.tsv', 'files/doc_3609.tsv', 'files/doc_3647.tsv', 'files/doc_3651.tsv', 'files/doc_3663.tsv', 'files/doc_3668.tsv', 'files/doc_3694.tsv', 'files/doc_3700.tsv', 'files/doc_3700.tsv', 'files/doc_3716.tsv', 'files/doc_3752.tsv', 'files/doc_3758.tsv', 'files/doc_3827.tsv', 'files/doc_3827.tsv', 'files/doc_3843.tsv', 'files/doc_3845.tsv', 'files/doc_3849.tsv', 'files/doc_3852.tsv', 'files/doc_3864.tsv', 'files/doc_3864.tsv', 'files/doc_3864.tsv', 'files/doc_3873.tsv', 'files/doc_3874.tsv', 'files/doc_3874.tsv', 'files/doc_3901.tsv', 'files/doc_3901.tsv', 'files/doc_3901.tsv', 'files/doc_3910.tsv', 'files/doc_3947.tsv', 'files/doc_3947.tsv', 'files/doc_3954.tsv', 'files/doc_3983.tsv', 'files/doc_3989.tsv', 'files/doc_3998.tsv', 'files/doc_4010.tsv', 'files/doc_4010.tsv', 'files/doc_4028.tsv', 'files/doc_4032.tsv', 'files/doc_4032.tsv', 'files/doc_4043.tsv', 'files/doc_4063.tsv', 'files/doc_4077.tsv', 'files/doc_4099.tsv', 'files/doc_4101.tsv', 'files/doc_4101.tsv', 'files/doc_4110.tsv', 'files/doc_4113.tsv', 'files/doc_4148.tsv', 'files/doc_4152.tsv', 'files/doc_4154.tsv', 'files/doc_4154.tsv', 'files/doc_4157.tsv', 'files/doc_4175.tsv', 'files/doc_4185.tsv', 'files/doc_4185.tsv', 'files/doc_4206.tsv', 'files/doc_4214.tsv', 'files/doc_4218.tsv', 'files/doc_4235.tsv', 'files/doc_4242.tsv', 'files/doc_4246.tsv', 'files/doc_4248.tsv', 'files/doc_4250.tsv', 'files/doc_4285.tsv', 'files/doc_4309.tsv', 'files/doc_4310.tsv', 'files/doc_4320.tsv', 'files/doc_4334.tsv', 'files/doc_4351.tsv', 'files/doc_4371.tsv', 'files/doc_4403.tsv', 'files/doc_4444.tsv', 'files/doc_4453.tsv', 'files/doc_4459.tsv', 'files/doc_4515.tsv', 'files/doc_4527.tsv', 'files/doc_4548.tsv', 'files/doc_4551.tsv', 'files/doc_4572.tsv', 'files/doc_4582.tsv', 'files/doc_4593.tsv', 'files/doc_4602.tsv', 'files/doc_4609.tsv', 'files/doc_4660.tsv', 'files/doc_4668.tsv', 'files/doc_4668.tsv', 'files/doc_4669.tsv', 'files/doc_4676.tsv', 'files/doc_4742.tsv', 'files/doc_4766.tsv', 'files/doc_4775.tsv', 'files/doc_4791.tsv', 'files/doc_4806.tsv', 'files/doc_4824.tsv', 'files/doc_4846.tsv', 'files/doc_4907.tsv', 'files/doc_4929.tsv', 'files/doc_4931.tsv', 'files/doc_4940.tsv', 'files/doc_4947.tsv', 'files/doc_4947.tsv', 'files/doc_4952.tsv', 'files/doc_4957.tsv', 'files/doc_4967.tsv', 'files/doc_5000.tsv', 'files/doc_5000.tsv', 'files/doc_5008.tsv', 'files/doc_5015.tsv', 'files/doc_5015.tsv', 'files/doc_5015.tsv', 'files/doc_5036.tsv', 'files/doc_5046.tsv', 'files/doc_5054.tsv', 'files/doc_5059.tsv', 'files/doc_5065.tsv', 'files/doc_5074.tsv', 'files/doc_5115.tsv', 'files/doc_5118.tsv', 'files/doc_5169.tsv', 'files/doc_5178.tsv', 'files/doc_5188.tsv', 'files/doc_5188.tsv', 'files/doc_5211.tsv', 'files/doc_5211.tsv', 'files/doc_5215.tsv', 'files/doc_5235.tsv', 'files/doc_5250.tsv', 'files/doc_5263.tsv', 'files/doc_5273.tsv', 'files/doc_5278.tsv', 'files/doc_5290.tsv', 'files/doc_5346.tsv', 'files/doc_5349.tsv', 'files/doc_5358.tsv', 'files/doc_5361.tsv', 'files/doc_5395.tsv', 'files/doc_5408.tsv', 'files/doc_5425.tsv', 'files/doc_5454.tsv', 'files/doc_5491.tsv', 'files/doc_5491.tsv', 'files/doc_5499.tsv', 'files/doc_5512.tsv', 'files/doc_5512.tsv', 'files/doc_5514.tsv', 'files/doc_5517.tsv', 'files/doc_5517.tsv', 'files/doc_5532.tsv', 'files/doc_5536.tsv', 'files/doc_5539.tsv', 'files/doc_5572.tsv', 'files/doc_5590.tsv', 'files/doc_5590.tsv', 'files/doc_5628.tsv', 'files/doc_5630.tsv', 'files/doc_5634.tsv', 'files/doc_5679.tsv', 'files/doc_5694.tsv', 'files/doc_5706.tsv', 'files/doc_5721.tsv', 'files/doc_5770.tsv', 'files/doc_5770.tsv', 'files/doc_5806.tsv', 'files/doc_5814.tsv', 'files/doc_5828.tsv', 'files/doc_5860.tsv', 'files/doc_5872.tsv', 'files/doc_5882.tsv', 'files/doc_5882.tsv', 'files/doc_5886.tsv', 'files/doc_5897.tsv', 'files/doc_5912.tsv', 'files/doc_5927.tsv', 'files/doc_5933.tsv', 'files/doc_5943.tsv', 'files/doc_5952.tsv', 'files/doc_5954.tsv', 'files/doc_5960.tsv', 'files/doc_5963.tsv', 'files/doc_5974.tsv', 'files/doc_6033.tsv', 'files/doc_6037.tsv', 'files/doc_6046.tsv', 'files/doc_6062.tsv', 'files/doc_6065.tsv', 'files/doc_6065.tsv', 'files/doc_6072.tsv', 'files/doc_6088.tsv', 'files/doc_6096.tsv', 'files/doc_6100.tsv', 'files/doc_6143.tsv', 'files/doc_6154.tsv', 'files/doc_6186.tsv', 'files/doc_6186.tsv', 'files/doc_6187.tsv', 'files/doc_6190.tsv', 'files/doc_6197.tsv', 'files/doc_6216.tsv', 'files/doc_6220.tsv', 'files/doc_6226.tsv', 'files/doc_6244.tsv', 'files/doc_6264.tsv', 'files/doc_6321.tsv', 'files/doc_6358.tsv', 'files/doc_6379.tsv', 'files/doc_6383.tsv', 'files/doc_6400.tsv', 'files/doc_6422.tsv', 'files/doc_6484.tsv', 'files/doc_6487.tsv', 'files/doc_6487.tsv', 'files/doc_6492.tsv', 'files/doc_6495.tsv', 'files/doc_6495.tsv', 'files/doc_6495.tsv', 'files/doc_6509.tsv', 'files/doc_6516.tsv', 'files/doc_6531.tsv', 'files/doc_6538.tsv', 'files/doc_6548.tsv', 'files/doc_6644.tsv', 'files/doc_6644.tsv', 'files/doc_6644.tsv', 'files/doc_6654.tsv', 'files/doc_6656.tsv', 'files/doc_6671.tsv', 'files/doc_6723.tsv', 'files/doc_6734.tsv', 'files/doc_6743.tsv', 'files/doc_6743.tsv', 'files/doc_6770.tsv', 'files/doc_6787.tsv', 'files/doc_6796.tsv', 'files/doc_6799.tsv', 'files/doc_6811.tsv', 'files/doc_6819.tsv', 'files/doc_6825.tsv', 'files/doc_6829.tsv', 'files/doc_6832.tsv', 'files/doc_6882.tsv', 'files/doc_6887.tsv', 'files/doc_6897.tsv', 'files/doc_6903.tsv', 'files/doc_6915.tsv', 'files/doc_6921.tsv', 'files/doc_6925.tsv', 'files/doc_6925.tsv', 'files/doc_6932.tsv', 'files/doc_6943.tsv', 'files/doc_6967.tsv', 'files/doc_6974.tsv', 'files/doc_6983.tsv', 'files/doc_7020.tsv', 'files/doc_7031.tsv', 'files/doc_7042.tsv', 'files/doc_7047.tsv', 'files/doc_7112.tsv', 'files/doc_7116.tsv', 'files/doc_7147.tsv', 'files/doc_7157.tsv', 'files/doc_7160.tsv', 'files/doc_7196.tsv', 'files/doc_7221.tsv', 'files/doc_7225.tsv', 'files/doc_7246.tsv', 'files/doc_7282.tsv', 'files/doc_7294.tsv', 'files/doc_7298.tsv', 'files/doc_7302.tsv', 'files/doc_7321.tsv', 'files/doc_7349.tsv', 'files/doc_7358.tsv', 'files/doc_7371.tsv', 'files/doc_7375.tsv', 'files/doc_7377.tsv', 'files/doc_7407.tsv', 'files/doc_7414.tsv', 'files/doc_7420.tsv', 'files/doc_7427.tsv', 'files/doc_7458.tsv', 'files/doc_7460.tsv', 'files/doc_7464.tsv', 'files/doc_7485.tsv', 'files/doc_7493.tsv', 'files/doc_7495.tsv', 'files/doc_7497.tsv', 'files/doc_7515.tsv', 'files/doc_7519.tsv', 'files/doc_7541.tsv', 'files/doc_7588.tsv', 'files/doc_7615.tsv', 'files/doc_7619.tsv', 'files/doc_7628.tsv', 'files/doc_7651.tsv', 'files/doc_7693.tsv', 'files/doc_7693.tsv', 'files/doc_7703.tsv', 'files/doc_7708.tsv', 'files/doc_7713.tsv', 'files/doc_7715.tsv', 'files/doc_7743.tsv', 'files/doc_7760.tsv', 'files/doc_7763.tsv', 'files/doc_7772.tsv', 'files/doc_7808.tsv', 'files/doc_7816.tsv', 'files/doc_7842.tsv', 'files/doc_7842.tsv', 'files/doc_7859.tsv', 'files/doc_7876.tsv', 'files/doc_7891.tsv', 'files/doc_7893.tsv', 'files/doc_7903.tsv', 'files/doc_7905.tsv', 'files/doc_7909.tsv', 'files/doc_7912.tsv', 'files/doc_7918.tsv', 'files/doc_7986.tsv', 'files/doc_7996.tsv', 'files/doc_8004.tsv', 'files/doc_8009.tsv', 'files/doc_8017.tsv', 'files/doc_8019.tsv', 'files/doc_8024.tsv', 'files/doc_8027.tsv', 'files/doc_8028.tsv', 'files/doc_8029.tsv', 'files/doc_8044.tsv', 'files/doc_8045.tsv', 'files/doc_8054.tsv', 'files/doc_8062.tsv', 'files/doc_8089.tsv', 'files/doc_8104.tsv', 'files/doc_8130.tsv', 'files/doc_8134.tsv', 'files/doc_8134.tsv', 'files/doc_8171.tsv', 'files/doc_8172.tsv', 'files/doc_8178.tsv', 'files/doc_8179.tsv', 'files/doc_8179.tsv', 'files/doc_8183.tsv', 'files/doc_8218.tsv', 'files/doc_8223.tsv', 'files/doc_8230.tsv', 'files/doc_8232.tsv', 'files/doc_8232.tsv', 'files/doc_8232.tsv', 'files/doc_8245.tsv', 'files/doc_8247.tsv', 'files/doc_8247.tsv', 'files/doc_8247.tsv', 'files/doc_8253.tsv', 'files/doc_8269.tsv', 'files/doc_8287.tsv', 'files/doc_8293.tsv', 'files/doc_8294.tsv', 'files/doc_8302.tsv', 'files/doc_8302.tsv', 'files/doc_8303.tsv', 'files/doc_8310.tsv', 'files/doc_8322.tsv', 'files/doc_8333.tsv', 'files/doc_8355.tsv', 'files/doc_8359.tsv', 'files/doc_8380.tsv', 'files/doc_8402.tsv', 'files/doc_8426.tsv', 'files/doc_8434.tsv', 'files/doc_8466.tsv', 'files/doc_8477.tsv', 'files/doc_8489.tsv', 'files/doc_8517.tsv', 'files/doc_8521.tsv', 'files/doc_8522.tsv', 'files/doc_8534.tsv', 'files/doc_8577.tsv', 'files/doc_8599.tsv', 'files/doc_8619.tsv', 'files/doc_8620.tsv', 'files/doc_8627.tsv', 'files/doc_8680.tsv', 'files/doc_8687.tsv', 'files/doc_8698.tsv', 'files/doc_8704.tsv', 'files/doc_8720.tsv', 'files/doc_8720.tsv', 'files/doc_8724.tsv', 'files/doc_8724.tsv', 'files/doc_8729.tsv', 'files/doc_8745.tsv', 'files/doc_8752.tsv', 'files/doc_8780.tsv', 'files/doc_8805.tsv', 'files/doc_8820.tsv', 'files/doc_8831.tsv', 'files/doc_8834.tsv', 'files/doc_8838.tsv', 'files/doc_8840.tsv', 'files/doc_8841.tsv', 'files/doc_8854.tsv', 'files/doc_8886.tsv', 'files/doc_8890.tsv', 'files/doc_8905.tsv', 'files/doc_8909.tsv', 'files/doc_8911.tsv', 'files/doc_8918.tsv', 'files/doc_8973.tsv', 'files/doc_8999.tsv', 'files/doc_9035.tsv', 'files/doc_9036.tsv', 'files/doc_9044.tsv', 'files/doc_9066.tsv', 'files/doc_9098.tsv', 'files/doc_9106.tsv', 'files/doc_9108.tsv', 'files/doc_9128.tsv', 'files/doc_9194.tsv', 'files/doc_9220.tsv', 'files/doc_9232.tsv', 'files/doc_9259.tsv', 'files/doc_9261.tsv', 'files/doc_9261.tsv', 'files/doc_9262.tsv', 'files/doc_9290.tsv', 'files/doc_9314.tsv', 'files/doc_9320.tsv', 'files/doc_9324.tsv', 'files/doc_9335.tsv', 'files/doc_9354.tsv', 'files/doc_9369.tsv', 'files/doc_9382.tsv', 'files/doc_9383.tsv', 'files/doc_9395.tsv', 'files/doc_9398.tsv', 'files/doc_9405.tsv', 'files/doc_9435.tsv', 'files/doc_9464.tsv', 'files/doc_9464.tsv', 'files/doc_9477.tsv', 'files/doc_9481.tsv', 'files/doc_9499.tsv', 'files/doc_9531.tsv', 'files/doc_9532.tsv', 'files/doc_9607.tsv', 'files/doc_9608.tsv', 'files/doc_9634.tsv', 'files/doc_9663.tsv', 'files/doc_9680.tsv', 'files/doc_9685.tsv', 'files/doc_9695.tsv', 'files/doc_9729.tsv', 'files/doc_9747.tsv', 'files/doc_9761.tsv', 'files/doc_9780.tsv', 'files/doc_9786.tsv', 'files/doc_9791.tsv', 'files/doc_9799.tsv', 'files/doc_9806.tsv', 'files/doc_9810.tsv', 'files/doc_9820.tsv', 'files/doc_9820.tsv', 'files/doc_9849.tsv', 'files/doc_9853.tsv', 'files/doc_9885.tsv', 'files/doc_9890.tsv', 'files/doc_9892.tsv', 'files/doc_9910.tsv', 'files/doc_9928.tsv', 'files/doc_9943.tsv', 'files/doc_9971.tsv', 'files/doc_9973.tsv', 'files/doc_9974.tsv', 'files/doc_9981.tsv', 'files/doc_9981.tsv', 'files/doc_9996.tsv', 'files/doc_10001.tsv', 'files/doc_10003.tsv', 'files/doc_10029.tsv', 'files/doc_10029.tsv', 'files/doc_10064.tsv', 'files/doc_10094.tsv', 'files/doc_10100.tsv', 'files/doc_10126.tsv', 'files/doc_10128.tsv', 'files/doc_10139.tsv', 'files/doc_10157.tsv', 'files/doc_10180.tsv', 'files/doc_10188.tsv', 'files/doc_10230.tsv', 'files/doc_10250.tsv', 'files/doc_10274.tsv', 'files/doc_10274.tsv', 'files/doc_10277.tsv', 'files/doc_10285.tsv', 'files/doc_10291.tsv', 'files/doc_10315.tsv', 'files/doc_10320.tsv', 'files/doc_10340.tsv', 'files/doc_10347.tsv', 'files/doc_10347.tsv', 'files/doc_10352.tsv', 'files/doc_10390.tsv', 'files/doc_10393.tsv', 'files/doc_10401.tsv', 'files/doc_10421.tsv', 'files/doc_10427.tsv', 'files/doc_10434.tsv', 'files/doc_10439.tsv', 'files/doc_10456.tsv', 'files/doc_10459.tsv', 'files/doc_10472.tsv', 'files/doc_10480.tsv', 'files/doc_10500.tsv', 'files/doc_10503.tsv', 'files/doc_10524.tsv', 'files/doc_10525.tsv', 'files/doc_10532.tsv', 'files/doc_10555.tsv', 'files/doc_10563.tsv', 'files/doc_10574.tsv', 'files/doc_10586.tsv', 'files/doc_10586.tsv', 'files/doc_10589.tsv', 'files/doc_10598.tsv', 'files/doc_10616.tsv', 'files/doc_10618.tsv', 'files/doc_10618.tsv', 'files/doc_10621.tsv', 'files/doc_10635.tsv', 'files/doc_10636.tsv', 'files/doc_10637.tsv', 'files/doc_10674.tsv', 'files/doc_10707.tsv', 'files/doc_10728.tsv', 'files/doc_10742.tsv', 'files/doc_10748.tsv', 'files/doc_10756.tsv', 'files/doc_10760.tsv', 'files/doc_10760.tsv', 'files/doc_10783.tsv', 'files/doc_10788.tsv', 'files/doc_10819.tsv', 'files/doc_10824.tsv', 'files/doc_10839.tsv', 'files/doc_10844.tsv', 'files/doc_10881.tsv', 'files/doc_10882.tsv', 'files/doc_10904.tsv', 'files/doc_10925.tsv', 'files/doc_10932.tsv', 'files/doc_10943.tsv', 'files/doc_10956.tsv', 'files/doc_10963.tsv', 'files/doc_10969.tsv', 'files/doc_10999.tsv', 'files/doc_11009.tsv', 'files/doc_11022.tsv', 'files/doc_11034.tsv', 'files/doc_11104.tsv', 'files/doc_11137.tsv', 'files/doc_11182.tsv', 'files/doc_11240.tsv', 'files/doc_11250.tsv', 'files/doc_11265.tsv', 'files/doc_11304.tsv', 'files/doc_11304.tsv', 'files/doc_11322.tsv', 'files/doc_11324.tsv', 'files/doc_11339.tsv', 'files/doc_11356.tsv', 'files/doc_11394.tsv', 'files/doc_11443.tsv', 'files/doc_11445.tsv', 'files/doc_11450.tsv', 'files/doc_11450.tsv', 'files/doc_11473.tsv', 'files/doc_11516.tsv', 'files/doc_11550.tsv', 'files/doc_11553.tsv', 'files/doc_11556.tsv', 'files/doc_11585.tsv', 'files/doc_11590.tsv', 'files/doc_11616.tsv', 'files/doc_11621.tsv', 'files/doc_11629.tsv', 'files/doc_11646.tsv', 'files/doc_11700.tsv', 'files/doc_11754.tsv', 'files/doc_11795.tsv', 'files/doc_11803.tsv', 'files/doc_11889.tsv', 'files/doc_11917.tsv', 'files/doc_11933.tsv', 'files/doc_11947.tsv', 'files/doc_11947.tsv', 'files/doc_12002.tsv', 'files/doc_12023.tsv', 'files/doc_12035.tsv', 'files/doc_12054.tsv', 'files/doc_12059.tsv', 'files/doc_12073.tsv', 'files/doc_12137.tsv', 'files/doc_12151.tsv', 'files/doc_12170.tsv', 'files/doc_12171.tsv', 'files/doc_12191.tsv', 'files/doc_12192.tsv', 'files/doc_12192.tsv', 'files/doc_12198.tsv', 'files/doc_12216.tsv', 'files/doc_12227.tsv', 'files/doc_12229.tsv', 'files/doc_12243.tsv', 'files/doc_12264.tsv', 'files/doc_12307.tsv', 'files/doc_12319.tsv', 'files/doc_12335.tsv', 'files/doc_12342.tsv', 'files/doc_12354.tsv', 'files/doc_12355.tsv', 'files/doc_12383.tsv', 'files/doc_12383.tsv', 'files/doc_12388.tsv', 'files/doc_12404.tsv', 'files/doc_12406.tsv', 'files/doc_12409.tsv', 'files/doc_12410.tsv', 'files/doc_12412.tsv', 'files/doc_12414.tsv', 'files/doc_12422.tsv', 'files/doc_12424.tsv', 'files/doc_12439.tsv', 'files/doc_12457.tsv', 'files/doc_12462.tsv', 'files/doc_12493.tsv', 'files/doc_12547.tsv', 'files/doc_12551.tsv', 'files/doc_12571.tsv', 'files/doc_12578.tsv', 'files/doc_12586.tsv', 'files/doc_12593.tsv', 'files/doc_12634.tsv', 'files/doc_12648.tsv', 'files/doc_12672.tsv', 'files/doc_12735.tsv', 'files/doc_12775.tsv', 'files/doc_12794.tsv', 'files/doc_12814.tsv', 'files/doc_12818.tsv', 'files/doc_12824.tsv', 'files/doc_12832.tsv', 'files/doc_12844.tsv', 'files/doc_12945.tsv', 'files/doc_12949.tsv', 'files/doc_12951.tsv', 'files/doc_12953.tsv', 'files/doc_12961.tsv', 'files/doc_12965.tsv', 'files/doc_12983.tsv', 'files/doc_12985.tsv', 'files/doc_12987.tsv', 'files/doc_12999.tsv', 'files/doc_13004.tsv', 'files/doc_13029.tsv', 'files/doc_13030.tsv', 'files/doc_13033.tsv', 'files/doc_13040.tsv', 'files/doc_13054.tsv', 'files/doc_13093.tsv', 'files/doc_13101.tsv', 'files/doc_13114.tsv', 'files/doc_13132.tsv', 'files/doc_13144.tsv', 'files/doc_13179.tsv', 'files/doc_13208.tsv', 'files/doc_13225.tsv', 'files/doc_13242.tsv', 'files/doc_13245.tsv', 'files/doc_13245.tsv', 'files/doc_13246.tsv', 'files/doc_13334.tsv', 'files/doc_13348.tsv', 'files/doc_13353.tsv', 'files/doc_13372.tsv', 'files/doc_13372.tsv', 'files/doc_13380.tsv', 'files/doc_13448.tsv', 'files/doc_13463.tsv', 'files/doc_13477.tsv', 'files/doc_13485.tsv', 'files/doc_13489.tsv', 'files/doc_13511.tsv', 'files/doc_13529.tsv', 'files/doc_13623.tsv', 'files/doc_13665.tsv', 'files/doc_13703.tsv', 'files/doc_13703.tsv', 'files/doc_13704.tsv', 'files/doc_13704.tsv', 'files/doc_13723.tsv', 'files/doc_13736.tsv', 'files/doc_13752.tsv', 'files/doc_13763.tsv', 'files/doc_13808.tsv', 'files/doc_13821.tsv', 'files/doc_13825.tsv', 'files/doc_13828.tsv', 'files/doc_13860.tsv', 'files/doc_13863.tsv', 'files/doc_13923.tsv', 'files/doc_13936.tsv', 'files/doc_13942.tsv', 'files/doc_13949.tsv', 'files/doc_13990.tsv', 'files/doc_14009.tsv', 'files/doc_14020.tsv', 'files/doc_14025.tsv', 'files/doc_14026.tsv', 'files/doc_14034.tsv', 'files/doc_14039.tsv', 'files/doc_14120.tsv', 'files/doc_14132.tsv', 'files/doc_14140.tsv', 'files/doc_14164.tsv', 'files/doc_14164.tsv', 'files/doc_14166.tsv', 'files/doc_14174.tsv', 'files/doc_14177.tsv', 'files/doc_14188.tsv', 'files/doc_14225.tsv', 'files/doc_14246.tsv', 'files/doc_14249.tsv', 'files/doc_14254.tsv', 'files/doc_14270.tsv', 'files/doc_14284.tsv', 'files/doc_14291.tsv', 'files/doc_14294.tsv', 'files/doc_14302.tsv', 'files/doc_14317.tsv', 'files/doc_14319.tsv', 'files/doc_14322.tsv', 'files/doc_14328.tsv', 'files/doc_14340.tsv', 'files/doc_14461.tsv', 'files/doc_14461.tsv', 'files/doc_14461.tsv', 'files/doc_14462.tsv', 'files/doc_14463.tsv', 'files/doc_14463.tsv', 'files/doc_14467.tsv', 'files/doc_14499.tsv', 'files/doc_14510.tsv', 'files/doc_14525.tsv', 'files/doc_14598.tsv', 'files/doc_14658.tsv', 'files/doc_14677.tsv', 'files/doc_14698.tsv', 'files/doc_14740.tsv', 'files/doc_14745.tsv', 'files/doc_14761.tsv', 'files/doc_14777.tsv', 'files/doc_14780.tsv', 'files/doc_14784.tsv', 'files/doc_14794.tsv', 'files/doc_14797.tsv', 'files/doc_14822.tsv', 'files/doc_14856.tsv', 'files/doc_14859.tsv', 'files/doc_14862.tsv', 'files/doc_14865.tsv', 'files/doc_14879.tsv', 'files/doc_14895.tsv', 'files/doc_14909.tsv', 'files/doc_14944.tsv', 'files/doc_14954.tsv', 'files/doc_14956.tsv', 'files/doc_14976.tsv', 'files/doc_15031.tsv', 'files/doc_15032.tsv', 'files/doc_15044.tsv', 'files/doc_15044.tsv', 'files/doc_15044.tsv', 'files/doc_15063.tsv', 'files/doc_15093.tsv', 'files/doc_15121.tsv', 'files/doc_15122.tsv', 'files/doc_15138.tsv', 'files/doc_15164.tsv', 'files/doc_15171.tsv', 'files/doc_15218.tsv', 'files/doc_15232.tsv', 'files/doc_15243.tsv', 'files/doc_15266.tsv', 'files/doc_15285.tsv', 'files/doc_15295.tsv', 'files/doc_15301.tsv', 'files/doc_15307.tsv', 'files/doc_15307.tsv', 'files/doc_15330.tsv', 'files/doc_15344.tsv', 'files/doc_15355.tsv', 'files/doc_15370.tsv', 'files/doc_15374.tsv', 'files/doc_15377.tsv', 'files/doc_15427.tsv', 'files/doc_15449.tsv', 'files/doc_15517.tsv', 'files/doc_15535.tsv', 'files/doc_15536.tsv', 'files/doc_15537.tsv', 'files/doc_15537.tsv', 'files/doc_15545.tsv', 'files/doc_15579.tsv', 'files/doc_15594.tsv', 'files/doc_15630.tsv', 'files/doc_15680.tsv', 'files/doc_15687.tsv', 'files/doc_15696.tsv', 'files/doc_15711.tsv', 'files/doc_15748.tsv', 'files/doc_15758.tsv', 'files/doc_15760.tsv', 'files/doc_15785.tsv', 'files/doc_15791.tsv', 'files/doc_15866.tsv', 'files/doc_15883.tsv', 'files/doc_15888.tsv', 'files/doc_15908.tsv', 'files/doc_15927.tsv', 'files/doc_15942.tsv', 'files/doc_15947.tsv', 'files/doc_15969.tsv', 'files/doc_15969.tsv', 'files/doc_15977.tsv', 'files/doc_15984.tsv', 'files/doc_16035.tsv', 'files/doc_16058.tsv', 'files/doc_16068.tsv', 'files/doc_16070.tsv', 'files/doc_16081.tsv', 'files/doc_16090.tsv', 'files/doc_16093.tsv', 'files/doc_16109.tsv', 'files/doc_16111.tsv', 'files/doc_16118.tsv', 'files/doc_16125.tsv', 'files/doc_16137.tsv', 'files/doc_16149.tsv', 'files/doc_16161.tsv', 'files/doc_16173.tsv', 'files/doc_16207.tsv', 'files/doc_16229.tsv', 'files/doc_16232.tsv', 'files/doc_16237.tsv', 'files/doc_16242.tsv', 'files/doc_16330.tsv', 'files/doc_16330.tsv', 'files/doc_16361.tsv', 'files/doc_16361.tsv', 'files/doc_16365.tsv', 'files/doc_16396.tsv', 'files/doc_16416.tsv', 'files/doc_16420.tsv', 'files/doc_16438.tsv', 'files/doc_16452.tsv', 'files/doc_16457.tsv', 'files/doc_16481.tsv', 'files/doc_16491.tsv', 'files/doc_16492.tsv', 'files/doc_16508.tsv', 'files/doc_16509.tsv', 'files/doc_16519.tsv', 'files/doc_16528.tsv', 'files/doc_16534.tsv', 'files/doc_16540.tsv', 'files/doc_16544.tsv', 'files/doc_16553.tsv', 'files/doc_16566.tsv', 'files/doc_16583.tsv', 'files/doc_16597.tsv', 'files/doc_16599.tsv', 'files/doc_16604.tsv', 'files/doc_16641.tsv', 'files/doc_16661.tsv', 'files/doc_16672.tsv', 'files/doc_16672.tsv', 'files/doc_16708.tsv', 'files/doc_16720.tsv', 'files/doc_16740.tsv', 'files/doc_16769.tsv', 'files/doc_16771.tsv', 'files/doc_16771.tsv', 'files/doc_16815.tsv', 'files/doc_16818.tsv', 'files/doc_16827.tsv', 'files/doc_16828.tsv', 'files/doc_16832.tsv', 'files/doc_16835.tsv', 'files/doc_16865.tsv', 'files/doc_16900.tsv', 'files/doc_16925.tsv', 'files/doc_16949.tsv', 'files/doc_16960.tsv', 'files/doc_16964.tsv', 'files/doc_16977.tsv', 'files/doc_16988.tsv', 'files/doc_17035.tsv', 'files/doc_17038.tsv', 'files/doc_17063.tsv', 'files/doc_17087.tsv', 'files/doc_17101.tsv', 'files/doc_17104.tsv', 'files/doc_17115.tsv', 'files/doc_17117.tsv', 'files/doc_17130.tsv', 'files/doc_17140.tsv', 'files/doc_17140.tsv', 'files/doc_17144.tsv', 'files/doc_17150.tsv', 'files/doc_17156.tsv', 'files/doc_17178.tsv', 'files/doc_17181.tsv', 'files/doc_17189.tsv', 'files/doc_17195.tsv', 'files/doc_17249.tsv', 'files/doc_17254.tsv', 'files/doc_17286.tsv', 'files/doc_17293.tsv', 'files/doc_17302.tsv', 'files/doc_17356.tsv', 'files/doc_17369.tsv', 'files/doc_17383.tsv', 'files/doc_17392.tsv', 'files/doc_17411.tsv', 'files/doc_17432.tsv', 'files/doc_17437.tsv', 'files/doc_17437.tsv', 'files/doc_17470.tsv', 'files/doc_17478.tsv', 'files/doc_17493.tsv', 'files/doc_17520.tsv', 'files/doc_17536.tsv', 'files/doc_17558.tsv', 'files/doc_17564.tsv', 'files/doc_17576.tsv', 'files/doc_17598.tsv', 'files/doc_17598.tsv', 'files/doc_17599.tsv', 'files/doc_17632.tsv', 'files/doc_17650.tsv', 'files/doc_17665.tsv', 'files/doc_17691.tsv', 'files/doc_17705.tsv', 'files/doc_17719.tsv', 'files/doc_17723.tsv', 'files/doc_17751.tsv', 'files/doc_17778.tsv', 'files/doc_17784.tsv', 'files/doc_17786.tsv', 'files/doc_17786.tsv', 'files/doc_17787.tsv', 'files/doc_17801.tsv', 'files/doc_17829.tsv', 'files/doc_17857.tsv', 'files/doc_17861.tsv', 'files/doc_17884.tsv', 'files/doc_17913.tsv', 'files/doc_17919.tsv', 'files/doc_17931.tsv', 'files/doc_17940.tsv', 'files/doc_17957.tsv', 'files/doc_17970.tsv', 'files/doc_17986.tsv', 'files/doc_17994.tsv', 'files/doc_18025.tsv', 'files/doc_18034.tsv', 'files/doc_18036.tsv', 'files/doc_18038.tsv', 'files/doc_18069.tsv', 'files/doc_18088.tsv', 'files/doc_18111.tsv', 'files/doc_18115.tsv', 'files/doc_18118.tsv', 'files/doc_18138.tsv', 'files/doc_18139.tsv', 'files/doc_18150.tsv', 'files/doc_18179.tsv', 'files/doc_18181.tsv', 'files/doc_18215.tsv', 'files/doc_18251.tsv'], 'airport': ['files/doc_0.tsv', 'files/doc_0.tsv', 'files/doc_0.tsv', 'files/doc_1.tsv', 'files/doc_6.tsv', 'files/doc_11.tsv', 'files/doc_11.tsv', 'files/doc_40.tsv', 'files/doc_44.tsv', 'files/doc_51.tsv', 'files/doc_53.tsv', 'files/doc_54.tsv', 'files/doc_66.tsv', 'files/doc_71.tsv', 'files/doc_71.tsv', 'files/doc_71.tsv', 'files/doc_75.tsv', 'files/doc_75.tsv', 'files/doc_79.tsv', 'files/doc_83.tsv', 'files/doc_83.tsv', 'files/doc_85.tsv', 'files/doc_87.tsv', 'files/doc_91.tsv', 'files/doc_94.tsv', 'files/doc_96.tsv', 'files/doc_113.tsv', 'files/doc_121.tsv', 'files/doc_129.tsv', 'files/doc_131.tsv', 'files/doc_131.tsv', 'files/doc_134.tsv', 'files/doc_143.tsv', 'files/doc_146.tsv', 'files/doc_147.tsv', 'files/doc_148.tsv', 'files/doc_155.tsv', 'files/doc_160.tsv', 'files/doc_175.tsv', 'files/doc_180.tsv', 'files/doc_185.tsv', 'files/doc_200.tsv', 'files/doc_211.tsv', 'files/doc_211.tsv', 'files/doc_214.tsv', 'files/doc_246.tsv', 'files/doc_260.tsv', 'files/doc_262.tsv', 'files/doc_265.tsv', 'files/doc_269.tsv', 'files/doc_303.tsv', 'files/doc_323.tsv', 'files/doc_326.tsv', 'files/doc_357.tsv', 'files/doc_359.tsv', 'files/doc_366.tsv', 'files/doc_400.tsv', 'files/doc_400.tsv', 'files/doc_406.tsv', 'files/doc_407.tsv', 'files/doc_411.tsv', 'files/doc_411.tsv', 'files/doc_420.tsv', 'files/doc_425.tsv', 'files/doc_432.tsv', 'files/doc_432.tsv', 'files/doc_432.tsv', 'files/doc_435.tsv', 'files/doc_437.tsv', 'files/doc_441.tsv', 'files/doc_445.tsv', 'files/doc_453.tsv', 'files/doc_455.tsv', 'files/doc_459.tsv', 'files/doc_470.tsv', 'files/doc_484.tsv', 'files/doc_485.tsv', 'files/doc_485.tsv', 'files/doc_485.tsv', 'files/doc_496.tsv', 'files/doc_501.tsv', 'files/doc_502.tsv', 'files/doc_511.tsv', 'files/doc_511.tsv', 'files/doc_517.tsv', 'files/doc_542.tsv', 'files/doc_542.tsv', 'files/doc_571.tsv', 'files/doc_574.tsv', 'files/doc_575.tsv', 'files/doc_582.tsv', 'files/doc_582.tsv', 'files/doc_597.tsv', 'files/doc_619.tsv', 'files/doc_624.tsv', 'files/doc_627.tsv', 'files/doc_630.tsv', 'files/doc_630.tsv', 'files/doc_632.tsv', 'files/doc_635.tsv', 'files/doc_644.tsv', 'files/doc_647.tsv', 'files/doc_648.tsv', 'files/doc_682.tsv', 'files/doc_687.tsv', 'files/doc_687.tsv', 'files/doc_690.tsv', 'files/doc_695.tsv', 'files/doc_695.tsv', 'files/doc_699.tsv', 'files/doc_703.tsv', 'files/doc_703.tsv', 'files/doc_730.tsv', 'files/doc_740.tsv', 'files/doc_749.tsv', 'files/doc_753.tsv', 'files/doc_754.tsv', 'files/doc_766.tsv', 'files/doc_774.tsv', 'files/doc_782.tsv', 'files/doc_782.tsv', 'files/doc_801.tsv', 'files/doc_801.tsv', 'files/doc_816.tsv', 'files/doc_816.tsv', 'files/doc_826.tsv', 'files/doc_831.tsv', 'files/doc_832.tsv', 'files/doc_832.tsv', 'files/doc_832.tsv', 'files/doc_849.tsv', 'files/doc_849.tsv', 'files/doc_857.tsv', 'files/doc_858.tsv', 'files/doc_868.tsv', 'files/doc_897.tsv', 'files/doc_905.tsv', 'files/doc_926.tsv', 'files/doc_927.tsv', 'files/doc_945.tsv', 'files/doc_983.tsv', 'files/doc_983.tsv', 'files/doc_987.tsv', 'files/doc_988.tsv', 'files/doc_990.tsv', 'files/doc_990.tsv', 'files/doc_1029.tsv', 'files/doc_1035.tsv', 'files/doc_1039.tsv', 'files/doc_1039.tsv', 'files/doc_1041.tsv', 'files/doc_1041.tsv', 'files/doc_1076.tsv', 'files/doc_1076.tsv', 'files/doc_1078.tsv', 'files/doc_1083.tsv', 'files/doc_1090.tsv', 'files/doc_1110.tsv', 'files/doc_1117.tsv', 'files/doc_1121.tsv', 'files/doc_1126.tsv', 'files/doc_1131.tsv', 'files/doc_1135.tsv', 'files/doc_1155.tsv', 'files/doc_1158.tsv', 'files/doc_1158.tsv', 'files/doc_1166.tsv', 'files/doc_1168.tsv', 'files/doc_1186.tsv', 'files/doc_1186.tsv', 'files/doc_1191.tsv', 'files/doc_1202.tsv', 'files/doc_1207.tsv', 'files/doc_1244.tsv', 'files/doc_1244.tsv', 'files/doc_1291.tsv', 'files/doc_1313.tsv', 'files/doc_1313.tsv', 'files/doc_1324.tsv', 'files/doc_1329.tsv', 'files/doc_1356.tsv', 'files/doc_1356.tsv', 'files/doc_1357.tsv', 'files/doc_1374.tsv', 'files/doc_1374.tsv', 'files/doc_1378.tsv', 'files/doc_1384.tsv', 'files/doc_1385.tsv', 'files/doc_1402.tsv', 'files/doc_1413.tsv', 'files/doc_1416.tsv', 'files/doc_1418.tsv', 'files/doc_1421.tsv', 'files/doc_1422.tsv', 'files/doc_1422.tsv', 'files/doc_1428.tsv', 'files/doc_1429.tsv', 'files/doc_1440.tsv', 'files/doc_1454.tsv', 'files/doc_1494.tsv', 'files/doc_1510.tsv', 'files/doc_1524.tsv', 'files/doc_1528.tsv', 'files/doc_1528.tsv', 'files/doc_1538.tsv', 'files/doc_1553.tsv', 'files/doc_1555.tsv', 'files/doc_1555.tsv', 'files/doc_1582.tsv', 'files/doc_1586.tsv', 'files/doc_1586.tsv', 'files/doc_1587.tsv', 'files/doc_1626.tsv', 'files/doc_1633.tsv', 'files/doc_1638.tsv', 'files/doc_1639.tsv', 'files/doc_1652.tsv', 'files/doc_1654.tsv', 'files/doc_1666.tsv', 'files/doc_1677.tsv', 'files/doc_1688.tsv', 'files/doc_1706.tsv', 'files/doc_1706.tsv', 'files/doc_1710.tsv', 'files/doc_1714.tsv', 'files/doc_1717.tsv', 'files/doc_1723.tsv', 'files/doc_1726.tsv', 'files/doc_1728.tsv', 'files/doc_1730.tsv', 'files/doc_1762.tsv', 'files/doc_1768.tsv', 'files/doc_1771.tsv', 'files/doc_1771.tsv', 'files/doc_1773.tsv', 'files/doc_1780.tsv', 'files/doc_1802.tsv', 'files/doc_1803.tsv', 'files/doc_1806.tsv', 'files/doc_1808.tsv', 'files/doc_1810.tsv', 'files/doc_1838.tsv', 'files/doc_1850.tsv', 'files/doc_1863.tsv', 'files/doc_1864.tsv', 'files/doc_1865.tsv', 'files/doc_1869.tsv', 'files/doc_1869.tsv', 'files/doc_1870.tsv', 'files/doc_1879.tsv', 'files/doc_1879.tsv', 'files/doc_1879.tsv', 'files/doc_1921.tsv', 'files/doc_1952.tsv', 'files/doc_1956.tsv', 'files/doc_1957.tsv', 'files/doc_1958.tsv', 'files/doc_1962.tsv', 'files/doc_1969.tsv', 'files/doc_1981.tsv', 'files/doc_1981.tsv', 'files/doc_2004.tsv', 'files/doc_2005.tsv', 'files/doc_2005.tsv', 'files/doc_2011.tsv', 'files/doc_2017.tsv', 'files/doc_2025.tsv', 'files/doc_2037.tsv', 'files/doc_2037.tsv', 'files/doc_2038.tsv', 'files/doc_2045.tsv', 'files/doc_2047.tsv', 'files/doc_2049.tsv', 'files/doc_2072.tsv', 'files/doc_2090.tsv', 'files/doc_2106.tsv', 'files/doc_2108.tsv', 'files/doc_2116.tsv', 'files/doc_2116.tsv', 'files/doc_2122.tsv', 'files/doc_2122.tsv', 'files/doc_2125.tsv', 'files/doc_2131.tsv', 'files/doc_2144.tsv', 'files/doc_2150.tsv', 'files/doc_2191.tsv', 'files/doc_2195.tsv', 'files/doc_2201.tsv', 'files/doc_2209.tsv', 'files/doc_2209.tsv', 'files/doc_2210.tsv', 'files/doc_2222.tsv', 'files/doc_2244.tsv', 'files/doc_2279.tsv', 'files/doc_2289.tsv', 'files/doc_2302.tsv', 'files/doc_2302.tsv', 'files/doc_2314.tsv', 'files/doc_2320.tsv', 'files/doc_2324.tsv', 'files/doc_2349.tsv', 'files/doc_2371.tsv', 'files/doc_2393.tsv', 'files/doc_2408.tsv', 'files/doc_2414.tsv', 'files/doc_2414.tsv', 'files/doc_2414.tsv', 'files/doc_2422.tsv', 'files/doc_2422.tsv', 'files/doc_2423.tsv', 'files/doc_2431.tsv', 'files/doc_2431.tsv', 'files/doc_2437.tsv', 'files/doc_2459.tsv', 'files/doc_2460.tsv', 'files/doc_2462.tsv', 'files/doc_2471.tsv', 'files/doc_2471.tsv', 'files/doc_2476.tsv', 'files/doc_2485.tsv', 'files/doc_2485.tsv', 'files/doc_2499.tsv', 'files/doc_2507.tsv', 'files/doc_2511.tsv', 'files/doc_2520.tsv', 'files/doc_2528.tsv', 'files/doc_2543.tsv', 'files/doc_2557.tsv', 'files/doc_2561.tsv', 'files/doc_2565.tsv', 'files/doc_2570.tsv', 'files/doc_2580.tsv', 'files/doc_2593.tsv', 'files/doc_2601.tsv', 'files/doc_2621.tsv', 'files/doc_2623.tsv', 'files/doc_2628.tsv', 'files/doc_2633.tsv', 'files/doc_2633.tsv', 'files/doc_2642.tsv', 'files/doc_2651.tsv', 'files/doc_2658.tsv', 'files/doc_2670.tsv', 'files/doc_2671.tsv', 'files/doc_2674.tsv', 'files/doc_2682.tsv', 'files/doc_2682.tsv', 'files/doc_2682.tsv', 'files/doc_2685.tsv', 'files/doc_2690.tsv', 'files/doc_2691.tsv', 'files/doc_2691.tsv', 'files/doc_2702.tsv', 'files/doc_2706.tsv', 'files/doc_2707.tsv', 'files/doc_2707.tsv', 'files/doc_2708.tsv', 'files/doc_2729.tsv', 'files/doc_2736.tsv', 'files/doc_2737.tsv', 'files/doc_2742.tsv', 'files/doc_2748.tsv', 'files/doc_2755.tsv', 'files/doc_2755.tsv', 'files/doc_2756.tsv', 'files/doc_2772.tsv', 'files/doc_2780.tsv', 'files/doc_2791.tsv', 'files/doc_2792.tsv', 'files/doc_2796.tsv', 'files/doc_2796.tsv', 'files/doc_2803.tsv', 'files/doc_2805.tsv', 'files/doc_2808.tsv', 'files/doc_2808.tsv', 'files/doc_2821.tsv', 'files/doc_2823.tsv', 'files/doc_2827.tsv', 'files/doc_2830.tsv', 'files/doc_2830.tsv', 'files/doc_2832.tsv', 'files/doc_2832.tsv', 'files/doc_2832.tsv', 'files/doc_2833.tsv', 'files/doc_2839.tsv', 'files/doc_2845.tsv', 'files/doc_2852.tsv', 'files/doc_2859.tsv', 'files/doc_2865.tsv', 'files/doc_2871.tsv', 'files/doc_2884.tsv', 'files/doc_2886.tsv', 'files/doc_2887.tsv', 'files/doc_2887.tsv', 'files/doc_2897.tsv', 'files/doc_2898.tsv', 'files/doc_2906.tsv', 'files/doc_2909.tsv', 'files/doc_2911.tsv', 'files/doc_2911.tsv', 'files/doc_2912.tsv', 'files/doc_2918.tsv', 'files/doc_2927.tsv', 'files/doc_2940.tsv', 'files/doc_2950.tsv', 'files/doc_2950.tsv', 'files/doc_2955.tsv', 'files/doc_2955.tsv', 'files/doc_2958.tsv', 'files/doc_2958.tsv', 'files/doc_2959.tsv', 'files/doc_2960.tsv', 'files/doc_2960.tsv', 'files/doc_2964.tsv', 'files/doc_2964.tsv', 'files/doc_2971.tsv', 'files/doc_2982.tsv', 'files/doc_2992.tsv', 'files/doc_2992.tsv', 'files/doc_2993.tsv', 'files/doc_3021.tsv', 'files/doc_3022.tsv', 'files/doc_3023.tsv', 'files/doc_3027.tsv', 'files/doc_3031.tsv', 'files/doc_3039.tsv', 'files/doc_3045.tsv', 'files/doc_3050.tsv', 'files/doc_3052.tsv', 'files/doc_3060.tsv', 'files/doc_3068.tsv', 'files/doc_3072.tsv', 'files/doc_3074.tsv', 'files/doc_3077.tsv', 'files/doc_3087.tsv', 'files/doc_3090.tsv', 'files/doc_3097.tsv', 'files/doc_3120.tsv', 'files/doc_3124.tsv', 'files/doc_3159.tsv', 'files/doc_3177.tsv', 'files/doc_3217.tsv', 'files/doc_3219.tsv', 'files/doc_3228.tsv', 'files/doc_3231.tsv', 'files/doc_3232.tsv', 'files/doc_3240.tsv', 'files/doc_3246.tsv', 'files/doc_3249.tsv', 'files/doc_3252.tsv', 'files/doc_3253.tsv', 'files/doc_3259.tsv', 'files/doc_3260.tsv', 'files/doc_3260.tsv', 'files/doc_3261.tsv', 'files/doc_3266.tsv', 'files/doc_3269.tsv', 'files/doc_3285.tsv', 'files/doc_3285.tsv', 'files/doc_3295.tsv', 'files/doc_3297.tsv', 'files/doc_3304.tsv', 'files/doc_3304.tsv', 'files/doc_3314.tsv', 'files/doc_3323.tsv', 'files/doc_3324.tsv', 'files/doc_3337.tsv', 'files/doc_3337.tsv', 'files/doc_3351.tsv', 'files/doc_3353.tsv', 'files/doc_3358.tsv', 'files/doc_3360.tsv', 'files/doc_3366.tsv', 'files/doc_3387.tsv', 'files/doc_3391.tsv', 'files/doc_3397.tsv', 'files/doc_3400.tsv', 'files/doc_3405.tsv', 'files/doc_3407.tsv', 'files/doc_3407.tsv', 'files/doc_3412.tsv', 'files/doc_3428.tsv', 'files/doc_3430.tsv', 'files/doc_3437.tsv', 'files/doc_3446.tsv', 'files/doc_3448.tsv', 'files/doc_3448.tsv', 'files/doc_3453.tsv', 'files/doc_3454.tsv', 'files/doc_3457.tsv', 'files/doc_3460.tsv', 'files/doc_3462.tsv', 'files/doc_3466.tsv', 'files/doc_3466.tsv', 'files/doc_3471.tsv', 'files/doc_3476.tsv', 'files/doc_3477.tsv', 'files/doc_3479.tsv', 'files/doc_3481.tsv', 'files/doc_3484.tsv', 'files/doc_3484.tsv', 'files/doc_3487.tsv', 'files/doc_3491.tsv', 'files/doc_3491.tsv', 'files/doc_3492.tsv', 'files/doc_3492.tsv', 'files/doc_3493.tsv', 'files/doc_3511.tsv', 'files/doc_3514.tsv', 'files/doc_3517.tsv', 'files/doc_3517.tsv', 'files/doc_3517.tsv', 'files/doc_3520.tsv', 'files/doc_3521.tsv', 'files/doc_3523.tsv', 'files/doc_3524.tsv', 'files/doc_3528.tsv', 'files/doc_3529.tsv', 'files/doc_3536.tsv', 'files/doc_3538.tsv', 'files/doc_3538.tsv', 'files/doc_3542.tsv', 'files/doc_3549.tsv', 'files/doc_3549.tsv', 'files/doc_3549.tsv', 'files/doc_3553.tsv', 'files/doc_3557.tsv', 'files/doc_3557.tsv', 'files/doc_3559.tsv', 'files/doc_3561.tsv', 'files/doc_3561.tsv', 'files/doc_3563.tsv', 'files/doc_3563.tsv', 'files/doc_3567.tsv', 'files/doc_3569.tsv', 'files/doc_3571.tsv', 'files/doc_3575.tsv', 'files/doc_3578.tsv', 'files/doc_3584.tsv', 'files/doc_3584.tsv', 'files/doc_3587.tsv', 'files/doc_3592.tsv', 'files/doc_3593.tsv', 'files/doc_3595.tsv', 'files/doc_3601.tsv', 'files/doc_3601.tsv', 'files/doc_3604.tsv', 'files/doc_3614.tsv', 'files/doc_3617.tsv', 'files/doc_3617.tsv', 'files/doc_3620.tsv', 'files/doc_3625.tsv', 'files/doc_3632.tsv', 'files/doc_3634.tsv', 'files/doc_3636.tsv', 'files/doc_3642.tsv', 'files/doc_3654.tsv', 'files/doc_3656.tsv', 'files/doc_3656.tsv', 'files/doc_3658.tsv', 'files/doc_3658.tsv', 'files/doc_3668.tsv', 'files/doc_3675.tsv', 'files/doc_3675.tsv', 'files/doc_3676.tsv', 'files/doc_3677.tsv', 'files/doc_3678.tsv', 'files/doc_3679.tsv', 'files/doc_3695.tsv', 'files/doc_3699.tsv', 'files/doc_3699.tsv', 'files/doc_3701.tsv', 'files/doc_3720.tsv', 'files/doc_3722.tsv', 'files/doc_3723.tsv', 'files/doc_3725.tsv', 'files/doc_3741.tsv', 'files/doc_3741.tsv', 'files/doc_3753.tsv', 'files/doc_3754.tsv', 'files/doc_3767.tsv', 'files/doc_3773.tsv', 'files/doc_3781.tsv', 'files/doc_3786.tsv', 'files/doc_3796.tsv', 'files/doc_3797.tsv', 'files/doc_3797.tsv', 'files/doc_3817.tsv', 'files/doc_3819.tsv', 'files/doc_3820.tsv', 'files/doc_3824.tsv', 'files/doc_3829.tsv', 'files/doc_3829.tsv', 'files/doc_3831.tsv', 'files/doc_3831.tsv', 'files/doc_3831.tsv', 'files/doc_3832.tsv', 'files/doc_3840.tsv', 'files/doc_3849.tsv', 'files/doc_3852.tsv', 'files/doc_3852.tsv', 'files/doc_3853.tsv', 'files/doc_3854.tsv', 'files/doc_3854.tsv', 'files/doc_3855.tsv', 'files/doc_3857.tsv', 'files/doc_3857.tsv', 'files/doc_3857.tsv', 'files/doc_3860.tsv', 'files/doc_3864.tsv', 'files/doc_3874.tsv', 'files/doc_3874.tsv', 'files/doc_3874.tsv', 'files/doc_3874.tsv', 'files/doc_3875.tsv', 'files/doc_3882.tsv', 'files/doc_3888.tsv', 'files/doc_3890.tsv', 'files/doc_3897.tsv', 'files/doc_3898.tsv', 'files/doc_3900.tsv', 'files/doc_3901.tsv', 'files/doc_3908.tsv', 'files/doc_3915.tsv', 'files/doc_3919.tsv', 'files/doc_3919.tsv', 'files/doc_3935.tsv', 'files/doc_3941.tsv', 'files/doc_3942.tsv', 'files/doc_3943.tsv', 'files/doc_3945.tsv', 'files/doc_3947.tsv', 'files/doc_3947.tsv', 'files/doc_3949.tsv', 'files/doc_3952.tsv', 'files/doc_3953.tsv', 'files/doc_3957.tsv', 'files/doc_3960.tsv', 'files/doc_3960.tsv', 'files/doc_3962.tsv', 'files/doc_3966.tsv', 'files/doc_3966.tsv', 'files/doc_3972.tsv', 'files/doc_3975.tsv', 'files/doc_3975.tsv', 'files/doc_3978.tsv', 'files/doc_3978.tsv', 'files/doc_3983.tsv', 'files/doc_3994.tsv', 'files/doc_3996.tsv', 'files/doc_3996.tsv', 'files/doc_4005.tsv', 'files/doc_4019.tsv', 'files/doc_4025.tsv', 'files/doc_4031.tsv', 'files/doc_4032.tsv', 'files/doc_4033.tsv', 'files/doc_4035.tsv', 'files/doc_4039.tsv', 'files/doc_4039.tsv', 'files/doc_4039.tsv', 'files/doc_4044.tsv', 'files/doc_4045.tsv', 'files/doc_4047.tsv', 'files/doc_4047.tsv', 'files/doc_4054.tsv', 'files/doc_4058.tsv', 'files/doc_4059.tsv', 'files/doc_4059.tsv', 'files/doc_4064.tsv', 'files/doc_4070.tsv', 'files/doc_4070.tsv', 'files/doc_4072.tsv', 'files/doc_4081.tsv', 'files/doc_4081.tsv', 'files/doc_4085.tsv', 'files/doc_4088.tsv', 'files/doc_4088.tsv', 'files/doc_4091.tsv', 'files/doc_4091.tsv', 'files/doc_4101.tsv', 'files/doc_4101.tsv', 'files/doc_4101.tsv', 'files/doc_4101.tsv', 'files/doc_4103.tsv', 'files/doc_4104.tsv', 'files/doc_4107.tsv', 'files/doc_4107.tsv', 'files/doc_4113.tsv', 'files/doc_4113.tsv', 'files/doc_4118.tsv', 'files/doc_4120.tsv', 'files/doc_4120.tsv', 'files/doc_4123.tsv', 'files/doc_4124.tsv', 'files/doc_4126.tsv', 'files/doc_4129.tsv', 'files/doc_4130.tsv', 'files/doc_4139.tsv', 'files/doc_4139.tsv', 'files/doc_4142.tsv', 'files/doc_4143.tsv', 'files/doc_4145.tsv', 'files/doc_4146.tsv', 'files/doc_4149.tsv', 'files/doc_4154.tsv', 'files/doc_4154.tsv', 'files/doc_4154.tsv', 'files/doc_4154.tsv', 'files/doc_4156.tsv', 'files/doc_4156.tsv', 'files/doc_4157.tsv', 'files/doc_4169.tsv', 'files/doc_4169.tsv', 'files/doc_4169.tsv', 'files/doc_4170.tsv', 'files/doc_4171.tsv', 'files/doc_4171.tsv', 'files/doc_4189.tsv', 'files/doc_4189.tsv', 'files/doc_4191.tsv', 'files/doc_4194.tsv', 'files/doc_4196.tsv', 'files/doc_4204.tsv', 'files/doc_4206.tsv', 'files/doc_4209.tsv', 'files/doc_4210.tsv', 'files/doc_4210.tsv', 'files/doc_4210.tsv', 'files/doc_4221.tsv', 'files/doc_4251.tsv', 'files/doc_4252.tsv', 'files/doc_4255.tsv', 'files/doc_4258.tsv', 'files/doc_4264.tsv', 'files/doc_4269.tsv', 'files/doc_4269.tsv', 'files/doc_4272.tsv', 'files/doc_4274.tsv', 'files/doc_4275.tsv', 'files/doc_4277.tsv', 'files/doc_4295.tsv', 'files/doc_4297.tsv', 'files/doc_4303.tsv', 'files/doc_4304.tsv', 'files/doc_4309.tsv', 'files/doc_4309.tsv', 'files/doc_4326.tsv', 'files/doc_4326.tsv', 'files/doc_4342.tsv', 'files/doc_4343.tsv', 'files/doc_4346.tsv', 'files/doc_4350.tsv', 'files/doc_4359.tsv', 'files/doc_4359.tsv', 'files/doc_4370.tsv', 'files/doc_4375.tsv', 'files/doc_4376.tsv', 'files/doc_4376.tsv', 'files/doc_4383.tsv', 'files/doc_4384.tsv', 'files/doc_4386.tsv', 'files/doc_4388.tsv', 'files/doc_4393.tsv', 'files/doc_4396.tsv', 'files/doc_4409.tsv', 'files/doc_4411.tsv', 'files/doc_4412.tsv', 'files/doc_4421.tsv', 'files/doc_4421.tsv', 'files/doc_4421.tsv', 'files/doc_4433.tsv', 'files/doc_4441.tsv', 'files/doc_4456.tsv', 'files/doc_4469.tsv', 'files/doc_4469.tsv', 'files/doc_4477.tsv', 'files/doc_4477.tsv', 'files/doc_4490.tsv', 'files/doc_4490.tsv', 'files/doc_4493.tsv', 'files/doc_4512.tsv', 'files/doc_4513.tsv', 'files/doc_4515.tsv', 'files/doc_4534.tsv', 'files/doc_4556.tsv', 'files/doc_4577.tsv', 'files/doc_4591.tsv', 'files/doc_4603.tsv', 'files/doc_4603.tsv', 'files/doc_4607.tsv', 'files/doc_4607.tsv', 'files/doc_4609.tsv', 'files/doc_4626.tsv', 'files/doc_4633.tsv', 'files/doc_4635.tsv', 'files/doc_4635.tsv', 'files/doc_4648.tsv', 'files/doc_4662.tsv', 'files/doc_4669.tsv', 'files/doc_4669.tsv', 'files/doc_4676.tsv', 'files/doc_4676.tsv', 'files/doc_4682.tsv', 'files/doc_4691.tsv', 'files/doc_4700.tsv', 'files/doc_4709.tsv', 'files/doc_4709.tsv', 'files/doc_4713.tsv', 'files/doc_4714.tsv', 'files/doc_4717.tsv', 'files/doc_4717.tsv', 'files/doc_4721.tsv', 'files/doc_4721.tsv', 'files/doc_4738.tsv', 'files/doc_4745.tsv', 'files/doc_4745.tsv', 'files/doc_4756.tsv', 'files/doc_4760.tsv', 'files/doc_4777.tsv', 'files/doc_4777.tsv', 'files/doc_4778.tsv', 'files/doc_4778.tsv', 'files/doc_4781.tsv', 'files/doc_4782.tsv', 'files/doc_4788.tsv', 'files/doc_4797.tsv', 'files/doc_4797.tsv', 'files/doc_4802.tsv', 'files/doc_4821.tsv', 'files/doc_4823.tsv', 'files/doc_4824.tsv', 'files/doc_4827.tsv', 'files/doc_4857.tsv', 'files/doc_4864.tsv', 'files/doc_4864.tsv', 'files/doc_4882.tsv', 'files/doc_4882.tsv', 'files/doc_4882.tsv', 'files/doc_4888.tsv', 'files/doc_4891.tsv', 'files/doc_4900.tsv', 'files/doc_4906.tsv', 'files/doc_4907.tsv', 'files/doc_4907.tsv', 'files/doc_4908.tsv', 'files/doc_4908.tsv', 'files/doc_4939.tsv', 'files/doc_4939.tsv', 'files/doc_4945.tsv', 'files/doc_4947.tsv', 'files/doc_4947.tsv', 'files/doc_4947.tsv', 'files/doc_4947.tsv', 'files/doc_4954.tsv', 'files/doc_4965.tsv', 'files/doc_4980.tsv', 'files/doc_4980.tsv', 'files/doc_4983.tsv', 'files/doc_4983.tsv', 'files/doc_4992.tsv', 'files/doc_4993.tsv', 'files/doc_4998.tsv', 'files/doc_5007.tsv', 'files/doc_5009.tsv', 'files/doc_5011.tsv', 'files/doc_5015.tsv', 'files/doc_5019.tsv', 'files/doc_5022.tsv', 'files/doc_5022.tsv', 'files/doc_5024.tsv', 'files/doc_5026.tsv', 'files/doc_5026.tsv', 'files/doc_5031.tsv', 'files/doc_5033.tsv', 'files/doc_5036.tsv', 'files/doc_5039.tsv', 'files/doc_5056.tsv', 'files/doc_5058.tsv', 'files/doc_5063.tsv', 'files/doc_5063.tsv', 'files/doc_5076.tsv', 'files/doc_5077.tsv', 'files/doc_5077.tsv', 'files/doc_5093.tsv', 'files/doc_5093.tsv', 'files/doc_5100.tsv', 'files/doc_5106.tsv', 'files/doc_5109.tsv', 'files/doc_5119.tsv', 'files/doc_5125.tsv', 'files/doc_5125.tsv', 'files/doc_5139.tsv', 'files/doc_5140.tsv', 'files/doc_5147.tsv', 'files/doc_5147.tsv', 'files/doc_5152.tsv', 'files/doc_5154.tsv', 'files/doc_5159.tsv', 'files/doc_5159.tsv', 'files/doc_5160.tsv', 'files/doc_5169.tsv', 'files/doc_5169.tsv', 'files/doc_5181.tsv', 'files/doc_5188.tsv', 'files/doc_5188.tsv', 'files/doc_5188.tsv', 'files/doc_5188.tsv', 'files/doc_5202.tsv', 'files/doc_5202.tsv', 'files/doc_5206.tsv', 'files/doc_5210.tsv', 'files/doc_5216.tsv', 'files/doc_5221.tsv', 'files/doc_5224.tsv', 'files/doc_5239.tsv', 'files/doc_5243.tsv', 'files/doc_5243.tsv', 'files/doc_5256.tsv', 'files/doc_5270.tsv', 'files/doc_5280.tsv', 'files/doc_5281.tsv', 'files/doc_5300.tsv', 'files/doc_5300.tsv', 'files/doc_5300.tsv', 'files/doc_5301.tsv', 'files/doc_5314.tsv', 'files/doc_5314.tsv', 'files/doc_5317.tsv', 'files/doc_5337.tsv', 'files/doc_5347.tsv', 'files/doc_5353.tsv', 'files/doc_5353.tsv', 'files/doc_5355.tsv', 'files/doc_5358.tsv', 'files/doc_5361.tsv', 'files/doc_5376.tsv', 'files/doc_5392.tsv', 'files/doc_5419.tsv', 'files/doc_5427.tsv', 'files/doc_5427.tsv', 'files/doc_5449.tsv', 'files/doc_5454.tsv', 'files/doc_5464.tsv', 'files/doc_5464.tsv', 'files/doc_5469.tsv', 'files/doc_5480.tsv', 'files/doc_5480.tsv', 'files/doc_5491.tsv', 'files/doc_5491.tsv', 'files/doc_5491.tsv', 'files/doc_5491.tsv', 'files/doc_5499.tsv', 'files/doc_5501.tsv', 'files/doc_5502.tsv', 'files/doc_5503.tsv', 'files/doc_5504.tsv', 'files/doc_5504.tsv', 'files/doc_5507.tsv', 'files/doc_5518.tsv', 'files/doc_5519.tsv', 'files/doc_5531.tsv', 'files/doc_5534.tsv', 'files/doc_5535.tsv', 'files/doc_5535.tsv', 'files/doc_5546.tsv', 'files/doc_5547.tsv', 'files/doc_5552.tsv', 'files/doc_5555.tsv', 'files/doc_5556.tsv', 'files/doc_5563.tsv', 'files/doc_5563.tsv', 'files/doc_5566.tsv', 'files/doc_5574.tsv', 'files/doc_5574.tsv', 'files/doc_5578.tsv', 'files/doc_5583.tsv', 'files/doc_5596.tsv', 'files/doc_5600.tsv', 'files/doc_5604.tsv', 'files/doc_5604.tsv', 'files/doc_5621.tsv', 'files/doc_5625.tsv', 'files/doc_5633.tsv', 'files/doc_5634.tsv', 'files/doc_5637.tsv', 'files/doc_5658.tsv', 'files/doc_5687.tsv', 'files/doc_5698.tsv', 'files/doc_5702.tsv', 'files/doc_5702.tsv', 'files/doc_5704.tsv', 'files/doc_5709.tsv', 'files/doc_5712.tsv', 'files/doc_5714.tsv', 'files/doc_5718.tsv', 'files/doc_5718.tsv', 'files/doc_5719.tsv', 'files/doc_5719.tsv', 'files/doc_5731.tsv', 'files/doc_5740.tsv', 'files/doc_5740.tsv', 'files/doc_5740.tsv', 'files/doc_5744.tsv', 'files/doc_5744.tsv', 'files/doc_5752.tsv', 'files/doc_5752.tsv', 'files/doc_5752.tsv', 'files/doc_5766.tsv', 'files/doc_5783.tsv', 'files/doc_5783.tsv', 'files/doc_5785.tsv', 'files/doc_5786.tsv', 'files/doc_5788.tsv', 'files/doc_5795.tsv', 'files/doc_5812.tsv', 'files/doc_5814.tsv', 'files/doc_5828.tsv', 'files/doc_5844.tsv', 'files/doc_5865.tsv', 'files/doc_5873.tsv', 'files/doc_5896.tsv', 'files/doc_5903.tsv', 'files/doc_5903.tsv', 'files/doc_5905.tsv', 'files/doc_5911.tsv', 'files/doc_5911.tsv', 'files/doc_5916.tsv', 'files/doc_5918.tsv', 'files/doc_5919.tsv', 'files/doc_5934.tsv', 'files/doc_5934.tsv', 'files/doc_5936.tsv', 'files/doc_5939.tsv', 'files/doc_5951.tsv', 'files/doc_5953.tsv', 'files/doc_5954.tsv', 'files/doc_5956.tsv', 'files/doc_5957.tsv', 'files/doc_5966.tsv', 'files/doc_5969.tsv', 'files/doc_5970.tsv', 'files/doc_5971.tsv', 'files/doc_5976.tsv', 'files/doc_5980.tsv', 'files/doc_5985.tsv', 'files/doc_5985.tsv', 'files/doc_5986.tsv', 'files/doc_5986.tsv', 'files/doc_5986.tsv', 'files/doc_5999.tsv', 'files/doc_6002.tsv', 'files/doc_6008.tsv', 'files/doc_6012.tsv', 'files/doc_6022.tsv', 'files/doc_6026.tsv', 'files/doc_6026.tsv', 'files/doc_6029.tsv', 'files/doc_6031.tsv', 'files/doc_6037.tsv', 'files/doc_6043.tsv', 'files/doc_6049.tsv', 'files/doc_6064.tsv', 'files/doc_6072.tsv', 'files/doc_6077.tsv', 'files/doc_6086.tsv', 'files/doc_6087.tsv', 'files/doc_6087.tsv', 'files/doc_6093.tsv', 'files/doc_6104.tsv', 'files/doc_6110.tsv', 'files/doc_6112.tsv', 'files/doc_6124.tsv', 'files/doc_6128.tsv', 'files/doc_6133.tsv', 'files/doc_6134.tsv', 'files/doc_6134.tsv', 'files/doc_6138.tsv', 'files/doc_6139.tsv', 'files/doc_6141.tsv', 'files/doc_6141.tsv', 'files/doc_6154.tsv', 'files/doc_6155.tsv', 'files/doc_6168.tsv', 'files/doc_6168.tsv', 'files/doc_6169.tsv', 'files/doc_6173.tsv', 'files/doc_6177.tsv', 'files/doc_6182.tsv', 'files/doc_6189.tsv', 'files/doc_6193.tsv', 'files/doc_6197.tsv', 'files/doc_6203.tsv', 'files/doc_6206.tsv', 'files/doc_6216.tsv', 'files/doc_6236.tsv', 'files/doc_6244.tsv', 'files/doc_6249.tsv', 'files/doc_6251.tsv', 'files/doc_6263.tsv', 'files/doc_6281.tsv', 'files/doc_6288.tsv', 'files/doc_6301.tsv', 'files/doc_6309.tsv', 'files/doc_6315.tsv', 'files/doc_6324.tsv', 'files/doc_6331.tsv', 'files/doc_6332.tsv', 'files/doc_6341.tsv', 'files/doc_6341.tsv', 'files/doc_6343.tsv', 'files/doc_6345.tsv', 'files/doc_6345.tsv', 'files/doc_6345.tsv', 'files/doc_6353.tsv', 'files/doc_6367.tsv', 'files/doc_6392.tsv', 'files/doc_6393.tsv', 'files/doc_6399.tsv', 'files/doc_6419.tsv', 'files/doc_6421.tsv', 'files/doc_6424.tsv', 'files/doc_6434.tsv', 'files/doc_6444.tsv', 'files/doc_6449.tsv', 'files/doc_6465.tsv', 'files/doc_6467.tsv', 'files/doc_6472.tsv', 'files/doc_6472.tsv', 'files/doc_6473.tsv', 'files/doc_6477.tsv', 'files/doc_6483.tsv', 'files/doc_6483.tsv', 'files/doc_6492.tsv', 'files/doc_6493.tsv', 'files/doc_6493.tsv', 'files/doc_6495.tsv', 'files/doc_6496.tsv', 'files/doc_6496.tsv', 'files/doc_6499.tsv', 'files/doc_6499.tsv', 'files/doc_6517.tsv', 'files/doc_6518.tsv', 'files/doc_6533.tsv', 'files/doc_6539.tsv', 'files/doc_6540.tsv', 'files/doc_6547.tsv', 'files/doc_6547.tsv', 'files/doc_6554.tsv', 'files/doc_6554.tsv', 'files/doc_6555.tsv', 'files/doc_6556.tsv', 'files/doc_6557.tsv', 'files/doc_6557.tsv', 'files/doc_6562.tsv', 'files/doc_6565.tsv', 'files/doc_6572.tsv', 'files/doc_6576.tsv', 'files/doc_6587.tsv', 'files/doc_6589.tsv', 'files/doc_6592.tsv', 'files/doc_6596.tsv', 'files/doc_6606.tsv', 'files/doc_6610.tsv', 'files/doc_6610.tsv', 'files/doc_6622.tsv', 'files/doc_6638.tsv', 'files/doc_6639.tsv', 'files/doc_6641.tsv', 'files/doc_6642.tsv', 'files/doc_6644.tsv', 'files/doc_6676.tsv', 'files/doc_6685.tsv', 'files/doc_6693.tsv', 'files/doc_6702.tsv', 'files/doc_6708.tsv', 'files/doc_6710.tsv', 'files/doc_6711.tsv', 'files/doc_6714.tsv', 'files/doc_6714.tsv', 'files/doc_6719.tsv', 'files/doc_6723.tsv', 'files/doc_6725.tsv', 'files/doc_6733.tsv', 'files/doc_6735.tsv', 'files/doc_6738.tsv', 'files/doc_6743.tsv', 'files/doc_6758.tsv', 'files/doc_6787.tsv', 'files/doc_6789.tsv', 'files/doc_6790.tsv', 'files/doc_6792.tsv', 'files/doc_6792.tsv', 'files/doc_6809.tsv', 'files/doc_6811.tsv', 'files/doc_6825.tsv', 'files/doc_6834.tsv', 'files/doc_6835.tsv', 'files/doc_6835.tsv', 'files/doc_6835.tsv', 'files/doc_6841.tsv', 'files/doc_6841.tsv', 'files/doc_6841.tsv', 'files/doc_6854.tsv', 'files/doc_6857.tsv', 'files/doc_6862.tsv', 'files/doc_6873.tsv', 'files/doc_6879.tsv', 'files/doc_6888.tsv', 'files/doc_6888.tsv', 'files/doc_6893.tsv', 'files/doc_6898.tsv', 'files/doc_6909.tsv', 'files/doc_6914.tsv', 'files/doc_6919.tsv', 'files/doc_6920.tsv', 'files/doc_6920.tsv', 'files/doc_6938.tsv', 'files/doc_6940.tsv', 'files/doc_6953.tsv', 'files/doc_6954.tsv', 'files/doc_6954.tsv', 'files/doc_6958.tsv', 'files/doc_6971.tsv', 'files/doc_6981.tsv', 'files/doc_6984.tsv', 'files/doc_6985.tsv', 'files/doc_6985.tsv', 'files/doc_7001.tsv', 'files/doc_7029.tsv', 'files/doc_7036.tsv', 'files/doc_7047.tsv', 'files/doc_7056.tsv', 'files/doc_7068.tsv', 'files/doc_7076.tsv', 'files/doc_7076.tsv', 'files/doc_7088.tsv', 'files/doc_7088.tsv', 'files/doc_7098.tsv', 'files/doc_7124.tsv', 'files/doc_7142.tsv', 'files/doc_7143.tsv', 'files/doc_7150.tsv', 'files/doc_7157.tsv', 'files/doc_7168.tsv', 'files/doc_7179.tsv', 'files/doc_7179.tsv', 'files/doc_7183.tsv', 'files/doc_7203.tsv', 'files/doc_7216.tsv', 'files/doc_7227.tsv', 'files/doc_7234.tsv', 'files/doc_7245.tsv', 'files/doc_7250.tsv', 'files/doc_7251.tsv', 'files/doc_7259.tsv', 'files/doc_7265.tsv', 'files/doc_7265.tsv', 'files/doc_7265.tsv', 'files/doc_7291.tsv', 'files/doc_7307.tsv', 'files/doc_7307.tsv', 'files/doc_7309.tsv', 'files/doc_7317.tsv', 'files/doc_7317.tsv', 'files/doc_7319.tsv', 'files/doc_7319.tsv', 'files/doc_7321.tsv', 'files/doc_7327.tsv', 'files/doc_7327.tsv', 'files/doc_7337.tsv', 'files/doc_7340.tsv', 'files/doc_7341.tsv', 'files/doc_7342.tsv', 'files/doc_7342.tsv', 'files/doc_7351.tsv', 'files/doc_7375.tsv', 'files/doc_7388.tsv', 'files/doc_7390.tsv', 'files/doc_7396.tsv', 'files/doc_7396.tsv', 'files/doc_7454.tsv', 'files/doc_7458.tsv', 'files/doc_7462.tsv', 'files/doc_7488.tsv', 'files/doc_7491.tsv', 'files/doc_7492.tsv', 'files/doc_7524.tsv', 'files/doc_7524.tsv', 'files/doc_7531.tsv', 'files/doc_7532.tsv', 'files/doc_7532.tsv', 'files/doc_7552.tsv', 'files/doc_7560.tsv', 'files/doc_7591.tsv', 'files/doc_7628.tsv', 'files/doc_7636.tsv', 'files/doc_7636.tsv', 'files/doc_7646.tsv', 'files/doc_7656.tsv', 'files/doc_7670.tsv', 'files/doc_7689.tsv', 'files/doc_7698.tsv', 'files/doc_7721.tsv', 'files/doc_7721.tsv', 'files/doc_7726.tsv', 'files/doc_7733.tsv', 'files/doc_7733.tsv', 'files/doc_7735.tsv', 'files/doc_7737.tsv', 'files/doc_7744.tsv', 'files/doc_7744.tsv', 'files/doc_7747.tsv', 'files/doc_7747.tsv', 'files/doc_7747.tsv', 'files/doc_7751.tsv', 'files/doc_7760.tsv', 'files/doc_7765.tsv', 'files/doc_7769.tsv', 'files/doc_7775.tsv', 'files/doc_7775.tsv', 'files/doc_7785.tsv', 'files/doc_7819.tsv', 'files/doc_7821.tsv', 'files/doc_7821.tsv', 'files/doc_7821.tsv', 'files/doc_7824.tsv', 'files/doc_7824.tsv', 'files/doc_7825.tsv', 'files/doc_7839.tsv', 'files/doc_7848.tsv', 'files/doc_7850.tsv', 'files/doc_7854.tsv', 'files/doc_7854.tsv', 'files/doc_7874.tsv', 'files/doc_7883.tsv', 'files/doc_7908.tsv', 'files/doc_7924.tsv', 'files/doc_7924.tsv', 'files/doc_7933.tsv', 'files/doc_7933.tsv', 'files/doc_7933.tsv', 'files/doc_7934.tsv', 'files/doc_7938.tsv', 'files/doc_7954.tsv', 'files/doc_7954.tsv', 'files/doc_7955.tsv', 'files/doc_7957.tsv', 'files/doc_7966.tsv', 'files/doc_7969.tsv', 'files/doc_7971.tsv', 'files/doc_7972.tsv', 'files/doc_7980.tsv', 'files/doc_8005.tsv', 'files/doc_8009.tsv', 'files/doc_8010.tsv', 'files/doc_8010.tsv', 'files/doc_8010.tsv', 'files/doc_8017.tsv', 'files/doc_8017.tsv', 'files/doc_8026.tsv', 'files/doc_8057.tsv', 'files/doc_8057.tsv', 'files/doc_8059.tsv', 'files/doc_8090.tsv', 'files/doc_8106.tsv', 'files/doc_8109.tsv', 'files/doc_8109.tsv', 'files/doc_8118.tsv', 'files/doc_8120.tsv', 'files/doc_8127.tsv', 'files/doc_8129.tsv', 'files/doc_8132.tsv', 'files/doc_8134.tsv', 'files/doc_8134.tsv', 'files/doc_8134.tsv', 'files/doc_8134.tsv', 'files/doc_8135.tsv', 'files/doc_8141.tsv', 'files/doc_8158.tsv', 'files/doc_8161.tsv', 'files/doc_8168.tsv', 'files/doc_8172.tsv', 'files/doc_8174.tsv', 'files/doc_8175.tsv', 'files/doc_8175.tsv', 'files/doc_8175.tsv', 'files/doc_8179.tsv', 'files/doc_8203.tsv', 'files/doc_8205.tsv', 'files/doc_8220.tsv', 'files/doc_8227.tsv', 'files/doc_8236.tsv', 'files/doc_8236.tsv', 'files/doc_8240.tsv', 'files/doc_8249.tsv', 'files/doc_8253.tsv', 'files/doc_8259.tsv', 'files/doc_8291.tsv', 'files/doc_8293.tsv', 'files/doc_8296.tsv', 'files/doc_8296.tsv', 'files/doc_8302.tsv', 'files/doc_8309.tsv', 'files/doc_8312.tsv', 'files/doc_8356.tsv', 'files/doc_8399.tsv', 'files/doc_8431.tsv', 'files/doc_8431.tsv', 'files/doc_8437.tsv', 'files/doc_8449.tsv', 'files/doc_8459.tsv', 'files/doc_8468.tsv', 'files/doc_8480.tsv', 'files/doc_8497.tsv', 'files/doc_8529.tsv', 'files/doc_8567.tsv', 'files/doc_8570.tsv', 'files/doc_8570.tsv', 'files/doc_8570.tsv', 'files/doc_8575.tsv', 'files/doc_8583.tsv', 'files/doc_8618.tsv', 'files/doc_8618.tsv', 'files/doc_8635.tsv', 'files/doc_8636.tsv', 'files/doc_8636.tsv', 'files/doc_8640.tsv', 'files/doc_8655.tsv', 'files/doc_8663.tsv', 'files/doc_8663.tsv', 'files/doc_8669.tsv', 'files/doc_8696.tsv', 'files/doc_8710.tsv', 'files/doc_8735.tsv', 'files/doc_8736.tsv', 'files/doc_8737.tsv', 'files/doc_8740.tsv', 'files/doc_8751.tsv', 'files/doc_8751.tsv', 'files/doc_8751.tsv', 'files/doc_8754.tsv', 'files/doc_8760.tsv', 'files/doc_8782.tsv', 'files/doc_8793.tsv', 'files/doc_8820.tsv', 'files/doc_8828.tsv', 'files/doc_8840.tsv', 'files/doc_8842.tsv', 'files/doc_8843.tsv', 'files/doc_8845.tsv', 'files/doc_8853.tsv', 'files/doc_8874.tsv', 'files/doc_8875.tsv', 'files/doc_8877.tsv', 'files/doc_8877.tsv', 'files/doc_8879.tsv', 'files/doc_8883.tsv', 'files/doc_8884.tsv', 'files/doc_8891.tsv', 'files/doc_8896.tsv', 'files/doc_8897.tsv', 'files/doc_8898.tsv', 'files/doc_8898.tsv', 'files/doc_8905.tsv', 'files/doc_8905.tsv', 'files/doc_8917.tsv', 'files/doc_8935.tsv', 'files/doc_8991.tsv', 'files/doc_8991.tsv', 'files/doc_9006.tsv', 'files/doc_9010.tsv', 'files/doc_9017.tsv', 'files/doc_9024.tsv', 'files/doc_9045.tsv', 'files/doc_9060.tsv', 'files/doc_9063.tsv', 'files/doc_9063.tsv', 'files/doc_9086.tsv', 'files/doc_9086.tsv', 'files/doc_9086.tsv', 'files/doc_9086.tsv', 'files/doc_9090.tsv', 'files/doc_9161.tsv', 'files/doc_9164.tsv', 'files/doc_9168.tsv', 'files/doc_9172.tsv', 'files/doc_9224.tsv', 'files/doc_9224.tsv', 'files/doc_9227.tsv', 'files/doc_9247.tsv', 'files/doc_9260.tsv', 'files/doc_9261.tsv', 'files/doc_9261.tsv', 'files/doc_9280.tsv', 'files/doc_9290.tsv', 'files/doc_9294.tsv', 'files/doc_9299.tsv', 'files/doc_9321.tsv', 'files/doc_9325.tsv', 'files/doc_9325.tsv', 'files/doc_9348.tsv', 'files/doc_9379.tsv', 'files/doc_9382.tsv', 'files/doc_9397.tsv', 'files/doc_9398.tsv', 'files/doc_9398.tsv', 'files/doc_9408.tsv', 'files/doc_9410.tsv', 'files/doc_9433.tsv', 'files/doc_9439.tsv', 'files/doc_9457.tsv', 'files/doc_9532.tsv', 'files/doc_9541.tsv', 'files/doc_9548.tsv', 'files/doc_9550.tsv', 'files/doc_9580.tsv', 'files/doc_9586.tsv', 'files/doc_9586.tsv', 'files/doc_9606.tsv', 'files/doc_9614.tsv', 'files/doc_9629.tsv', 'files/doc_9632.tsv', 'files/doc_9640.tsv', 'files/doc_9652.tsv', 'files/doc_9675.tsv', 'files/doc_9694.tsv', 'files/doc_9728.tsv', 'files/doc_9728.tsv', 'files/doc_9746.tsv', 'files/doc_9749.tsv', 'files/doc_9749.tsv', 'files/doc_9753.tsv', 'files/doc_9754.tsv', 'files/doc_9766.tsv', 'files/doc_9780.tsv', 'files/doc_9787.tsv', 'files/doc_9837.tsv', 'files/doc_9881.tsv', 'files/doc_9947.tsv', 'files/doc_9952.tsv', 'files/doc_9986.tsv', 'files/doc_9993.tsv', 'files/doc_10011.tsv', 'files/doc_10019.tsv', 'files/doc_10019.tsv', 'files/doc_10028.tsv', 'files/doc_10034.tsv', 'files/doc_10051.tsv', 'files/doc_10055.tsv', 'files/doc_10074.tsv', 'files/doc_10120.tsv', 'files/doc_10132.tsv', 'files/doc_10136.tsv', 'files/doc_10153.tsv', 'files/doc_10172.tsv', 'files/doc_10207.tsv', 'files/doc_10244.tsv', 'files/doc_10248.tsv', 'files/doc_10254.tsv', 'files/doc_10254.tsv', 'files/doc_10280.tsv', 'files/doc_10291.tsv', 'files/doc_10295.tsv', 'files/doc_10315.tsv', 'files/doc_10333.tsv', 'files/doc_10349.tsv', 'files/doc_10400.tsv', 'files/doc_10401.tsv', 'files/doc_10482.tsv', 'files/doc_10489.tsv', 'files/doc_10489.tsv', 'files/doc_10494.tsv', 'files/doc_10517.tsv', 'files/doc_10528.tsv', 'files/doc_10534.tsv', 'files/doc_10563.tsv', 'files/doc_10567.tsv', 'files/doc_10580.tsv', 'files/doc_10586.tsv', 'files/doc_10586.tsv', 'files/doc_10586.tsv', 'files/doc_10586.tsv', 'files/doc_10593.tsv', 'files/doc_10607.tsv', 'files/doc_10607.tsv', 'files/doc_10607.tsv', 'files/doc_10610.tsv', 'files/doc_10619.tsv', 'files/doc_10619.tsv', 'files/doc_10655.tsv', 'files/doc_10675.tsv', 'files/doc_10675.tsv', 'files/doc_10682.tsv', 'files/doc_10710.tsv', 'files/doc_10713.tsv', 'files/doc_10739.tsv', 'files/doc_10754.tsv', 'files/doc_10770.tsv', 'files/doc_10770.tsv', 'files/doc_10808.tsv', 'files/doc_10816.tsv', 'files/doc_10820.tsv', 'files/doc_10850.tsv', 'files/doc_10863.tsv', 'files/doc_10865.tsv', 'files/doc_10877.tsv', 'files/doc_10885.tsv', 'files/doc_10920.tsv', 'files/doc_10931.tsv', 'files/doc_10931.tsv', 'files/doc_10932.tsv', 'files/doc_10937.tsv', 'files/doc_10946.tsv', 'files/doc_10947.tsv', 'files/doc_10960.tsv', 'files/doc_10979.tsv', 'files/doc_10981.tsv', 'files/doc_11006.tsv', 'files/doc_11008.tsv', 'files/doc_11012.tsv', 'files/doc_11019.tsv', 'files/doc_11027.tsv', 'files/doc_11027.tsv', 'files/doc_11039.tsv', 'files/doc_11094.tsv', 'files/doc_11097.tsv', 'files/doc_11097.tsv', 'files/doc_11105.tsv', 'files/doc_11120.tsv', 'files/doc_11120.tsv', 'files/doc_11127.tsv', 'files/doc_11135.tsv', 'files/doc_11152.tsv', 'files/doc_11180.tsv', 'files/doc_11181.tsv', 'files/doc_11194.tsv', 'files/doc_11210.tsv', 'files/doc_11222.tsv', 'files/doc_11243.tsv', 'files/doc_11255.tsv', 'files/doc_11301.tsv', 'files/doc_11338.tsv', 'files/doc_11368.tsv', 'files/doc_11369.tsv', 'files/doc_11388.tsv', 'files/doc_11398.tsv', 'files/doc_11398.tsv', 'files/doc_11452.tsv', 'files/doc_11479.tsv', 'files/doc_11492.tsv', 'files/doc_11509.tsv', 'files/doc_11564.tsv', 'files/doc_11569.tsv', 'files/doc_11622.tsv', 'files/doc_11637.tsv', 'files/doc_11641.tsv', 'files/doc_11642.tsv', 'files/doc_11653.tsv', 'files/doc_11661.tsv', 'files/doc_11683.tsv', 'files/doc_11714.tsv', 'files/doc_11723.tsv', 'files/doc_11725.tsv', 'files/doc_11730.tsv', 'files/doc_11738.tsv', 'files/doc_11749.tsv', 'files/doc_11757.tsv', 'files/doc_11790.tsv', 'files/doc_11798.tsv', 'files/doc_11822.tsv', 'files/doc_11822.tsv', 'files/doc_11830.tsv', 'files/doc_11848.tsv', 'files/doc_11848.tsv', 'files/doc_11849.tsv', 'files/doc_11873.tsv', 'files/doc_11940.tsv', 'files/doc_11940.tsv', 'files/doc_11965.tsv', 'files/doc_11980.tsv', 'files/doc_11986.tsv', 'files/doc_11993.tsv', 'files/doc_12013.tsv', 'files/doc_12017.tsv', 'files/doc_12017.tsv', 'files/doc_12017.tsv', 'files/doc_12022.tsv', 'files/doc_12022.tsv', 'files/doc_12022.tsv', 'files/doc_12042.tsv', 'files/doc_12042.tsv', 'files/doc_12043.tsv', 'files/doc_12071.tsv', 'files/doc_12098.tsv', 'files/doc_12112.tsv', 'files/doc_12114.tsv', 'files/doc_12117.tsv', 'files/doc_12117.tsv', 'files/doc_12122.tsv', 'files/doc_12131.tsv', 'files/doc_12139.tsv', 'files/doc_12155.tsv', 'files/doc_12155.tsv', 'files/doc_12185.tsv', 'files/doc_12191.tsv', 'files/doc_12195.tsv', 'files/doc_12203.tsv', 'files/doc_12209.tsv', 'files/doc_12215.tsv', 'files/doc_12221.tsv', 'files/doc_12237.tsv', 'files/doc_12254.tsv', 'files/doc_12254.tsv', 'files/doc_12256.tsv', 'files/doc_12259.tsv', 'files/doc_12268.tsv', 'files/doc_12278.tsv', 'files/doc_12294.tsv', 'files/doc_12296.tsv', 'files/doc_12300.tsv', 'files/doc_12310.tsv', 'files/doc_12313.tsv', 'files/doc_12313.tsv', 'files/doc_12325.tsv', 'files/doc_12344.tsv', 'files/doc_12358.tsv', 'files/doc_12359.tsv', 'files/doc_12362.tsv', 'files/doc_12362.tsv', 'files/doc_12366.tsv', 'files/doc_12396.tsv', 'files/doc_12399.tsv', 'files/doc_12407.tsv', 'files/doc_12407.tsv', 'files/doc_12419.tsv', 'files/doc_12421.tsv', 'files/doc_12432.tsv', 'files/doc_12440.tsv', 'files/doc_12444.tsv', 'files/doc_12450.tsv', 'files/doc_12450.tsv', 'files/doc_12475.tsv', 'files/doc_12478.tsv', 'files/doc_12492.tsv', 'files/doc_12523.tsv', 'files/doc_12547.tsv', 'files/doc_12547.tsv', 'files/doc_12557.tsv', 'files/doc_12557.tsv', 'files/doc_12561.tsv', 'files/doc_12576.tsv', 'files/doc_12612.tsv', 'files/doc_12613.tsv', 'files/doc_12613.tsv', 'files/doc_12636.tsv', 'files/doc_12639.tsv', 'files/doc_12644.tsv', 'files/doc_12644.tsv', 'files/doc_12694.tsv', 'files/doc_12695.tsv', 'files/doc_12699.tsv', 'files/doc_12699.tsv', 'files/doc_12725.tsv', 'files/doc_12725.tsv', 'files/doc_12729.tsv', 'files/doc_12730.tsv', 'files/doc_12750.tsv', 'files/doc_12756.tsv', 'files/doc_12766.tsv', 'files/doc_12771.tsv', 'files/doc_12784.tsv', 'files/doc_12845.tsv', 'files/doc_12908.tsv', 'files/doc_12921.tsv', 'files/doc_12925.tsv', 'files/doc_12925.tsv', 'files/doc_12927.tsv', 'files/doc_12930.tsv', 'files/doc_12935.tsv', 'files/doc_12943.tsv', 'files/doc_12965.tsv', 'files/doc_12971.tsv', 'files/doc_12979.tsv', 'files/doc_12980.tsv', 'files/doc_12986.tsv', 'files/doc_12986.tsv', 'files/doc_12989.tsv', 'files/doc_12993.tsv', 'files/doc_12997.tsv', 'files/doc_13002.tsv', 'files/doc_13019.tsv', 'files/doc_13020.tsv', 'files/doc_13028.tsv', 'files/doc_13032.tsv', 'files/doc_13034.tsv', 'files/doc_13039.tsv', 'files/doc_13042.tsv', 'files/doc_13051.tsv', 'files/doc_13059.tsv', 'files/doc_13064.tsv', 'files/doc_13069.tsv', 'files/doc_13085.tsv', 'files/doc_13087.tsv', 'files/doc_13092.tsv', 'files/doc_13099.tsv', 'files/doc_13128.tsv', 'files/doc_13132.tsv', 'files/doc_13133.tsv', 'files/doc_13141.tsv', 'files/doc_13146.tsv', 'files/doc_13149.tsv', 'files/doc_13157.tsv', 'files/doc_13167.tsv', 'files/doc_13173.tsv', 'files/doc_13175.tsv', 'files/doc_13179.tsv', 'files/doc_13196.tsv', 'files/doc_13208.tsv', 'files/doc_13225.tsv', 'files/doc_13229.tsv', 'files/doc_13230.tsv', 'files/doc_13238.tsv', 'files/doc_13242.tsv', 'files/doc_13256.tsv', 'files/doc_13256.tsv', 'files/doc_13257.tsv', 'files/doc_13272.tsv', 'files/doc_13272.tsv', 'files/doc_13289.tsv', 'files/doc_13289.tsv', 'files/doc_13294.tsv', 'files/doc_13294.tsv', 'files/doc_13295.tsv', 'files/doc_13302.tsv', 'files/doc_13311.tsv', 'files/doc_13312.tsv', 'files/doc_13313.tsv', 'files/doc_13320.tsv', 'files/doc_13348.tsv', 'files/doc_13404.tsv', 'files/doc_13405.tsv', 'files/doc_13409.tsv', 'files/doc_13414.tsv', 'files/doc_13414.tsv', 'files/doc_13416.tsv', 'files/doc_13417.tsv', 'files/doc_13421.tsv', 'files/doc_13431.tsv', 'files/doc_13434.tsv', 'files/doc_13451.tsv', 'files/doc_13452.tsv', 'files/doc_13452.tsv', 'files/doc_13452.tsv', 'files/doc_13485.tsv', 'files/doc_13494.tsv', 'files/doc_13500.tsv', 'files/doc_13508.tsv', 'files/doc_13508.tsv', 'files/doc_13519.tsv', 'files/doc_13525.tsv', 'files/doc_13525.tsv', 'files/doc_13549.tsv', 'files/doc_13561.tsv', 'files/doc_13564.tsv', 'files/doc_13564.tsv', 'files/doc_13574.tsv', 'files/doc_13580.tsv', 'files/doc_13597.tsv', 'files/doc_13602.tsv', 'files/doc_13622.tsv', 'files/doc_13622.tsv', 'files/doc_13632.tsv', 'files/doc_13658.tsv', 'files/doc_13679.tsv', 'files/doc_13694.tsv', 'files/doc_13695.tsv', 'files/doc_13707.tsv', 'files/doc_13725.tsv', 'files/doc_13728.tsv', 'files/doc_13730.tsv', 'files/doc_13730.tsv', 'files/doc_13758.tsv', 'files/doc_13763.tsv', 'files/doc_13766.tsv', 'files/doc_13789.tsv', 'files/doc_13814.tsv', 'files/doc_13814.tsv', 'files/doc_13819.tsv', 'files/doc_13853.tsv', 'files/doc_13858.tsv', 'files/doc_13871.tsv', 'files/doc_13888.tsv', 'files/doc_13906.tsv', 'files/doc_13912.tsv', 'files/doc_13913.tsv', 'files/doc_13913.tsv', 'files/doc_13944.tsv', 'files/doc_13948.tsv', 'files/doc_13971.tsv', 'files/doc_13987.tsv', 'files/doc_13987.tsv', 'files/doc_13994.tsv', 'files/doc_14006.tsv', 'files/doc_14009.tsv', 'files/doc_14015.tsv', 'files/doc_14015.tsv', 'files/doc_14038.tsv', 'files/doc_14040.tsv', 'files/doc_14065.tsv', 'files/doc_14065.tsv', 'files/doc_14072.tsv', 'files/doc_14078.tsv', 'files/doc_14081.tsv', 'files/doc_14096.tsv', 'files/doc_14109.tsv', 'files/doc_14113.tsv', 'files/doc_14120.tsv', 'files/doc_14126.tsv', 'files/doc_14128.tsv', 'files/doc_14133.tsv', 'files/doc_14141.tsv', 'files/doc_14154.tsv', 'files/doc_14157.tsv', 'files/doc_14174.tsv', 'files/doc_14187.tsv', 'files/doc_14187.tsv', 'files/doc_14194.tsv', 'files/doc_14218.tsv', 'files/doc_14233.tsv', 'files/doc_14235.tsv', 'files/doc_14247.tsv', 'files/doc_14249.tsv', 'files/doc_14317.tsv', 'files/doc_14330.tsv', 'files/doc_14330.tsv', 'files/doc_14340.tsv', 'files/doc_14340.tsv', 'files/doc_14351.tsv', 'files/doc_14372.tsv', 'files/doc_14393.tsv', 'files/doc_14397.tsv', 'files/doc_14402.tsv', 'files/doc_14407.tsv', 'files/doc_14418.tsv', 'files/doc_14418.tsv', 'files/doc_14424.tsv', 'files/doc_14424.tsv', 'files/doc_14429.tsv', 'files/doc_14429.tsv', 'files/doc_14430.tsv', 'files/doc_14434.tsv', 'files/doc_14450.tsv', 'files/doc_14460.tsv', 'files/doc_14470.tsv', 'files/doc_14470.tsv', 'files/doc_14476.tsv', 'files/doc_14476.tsv', 'files/doc_14476.tsv', 'files/doc_14485.tsv', 'files/doc_14508.tsv', 'files/doc_14508.tsv', 'files/doc_14508.tsv', 'files/doc_14516.tsv', 'files/doc_14519.tsv', 'files/doc_14526.tsv', 'files/doc_14526.tsv', 'files/doc_14553.tsv', 'files/doc_14554.tsv', 'files/doc_14555.tsv', 'files/doc_14564.tsv', 'files/doc_14566.tsv', 'files/doc_14568.tsv', 'files/doc_14578.tsv', 'files/doc_14583.tsv', 'files/doc_14585.tsv', 'files/doc_14598.tsv', 'files/doc_14599.tsv', 'files/doc_14606.tsv', 'files/doc_14608.tsv', 'files/doc_14612.tsv', 'files/doc_14612.tsv', 'files/doc_14620.tsv', 'files/doc_14624.tsv', 'files/doc_14648.tsv', 'files/doc_14650.tsv', 'files/doc_14651.tsv', 'files/doc_14657.tsv', 'files/doc_14657.tsv', 'files/doc_14659.tsv', 'files/doc_14665.tsv', 'files/doc_14677.tsv', 'files/doc_14678.tsv', 'files/doc_14679.tsv', 'files/doc_14679.tsv', 'files/doc_14695.tsv', 'files/doc_14696.tsv', 'files/doc_14704.tsv', 'files/doc_14706.tsv', 'files/doc_14706.tsv', 'files/doc_14710.tsv', 'files/doc_14714.tsv', 'files/doc_14716.tsv', 'files/doc_14730.tsv', 'files/doc_14745.tsv', 'files/doc_14752.tsv', 'files/doc_14758.tsv', 'files/doc_14768.tsv', 'files/doc_14772.tsv', 'files/doc_14778.tsv', 'files/doc_14802.tsv', 'files/doc_14831.tsv', 'files/doc_14831.tsv', 'files/doc_14833.tsv', 'files/doc_14834.tsv', 'files/doc_14835.tsv', 'files/doc_14836.tsv', 'files/doc_14844.tsv', 'files/doc_14864.tsv', 'files/doc_14870.tsv', 'files/doc_14870.tsv', 'files/doc_14873.tsv', 'files/doc_14875.tsv', 'files/doc_14893.tsv', 'files/doc_14900.tsv', 'files/doc_14921.tsv', 'files/doc_14927.tsv', 'files/doc_14947.tsv', 'files/doc_14949.tsv', 'files/doc_14951.tsv', 'files/doc_14952.tsv', 'files/doc_14954.tsv', 'files/doc_14956.tsv', 'files/doc_14968.tsv', 'files/doc_14975.tsv', 'files/doc_14978.tsv', 'files/doc_14978.tsv', 'files/doc_14981.tsv', 'files/doc_14985.tsv', 'files/doc_15007.tsv', 'files/doc_15018.tsv', 'files/doc_15024.tsv', 'files/doc_15034.tsv', 'files/doc_15035.tsv', 'files/doc_15055.tsv', 'files/doc_15065.tsv', 'files/doc_15065.tsv', 'files/doc_15071.tsv', 'files/doc_15073.tsv', 'files/doc_15083.tsv', 'files/doc_15100.tsv', 'files/doc_15103.tsv', 'files/doc_15108.tsv', 'files/doc_15113.tsv', 'files/doc_15114.tsv', 'files/doc_15134.tsv', 'files/doc_15138.tsv', 'files/doc_15160.tsv', 'files/doc_15164.tsv', 'files/doc_15197.tsv', 'files/doc_15204.tsv', 'files/doc_15238.tsv', 'files/doc_15245.tsv', 'files/doc_15246.tsv', 'files/doc_15260.tsv', 'files/doc_15267.tsv', 'files/doc_15291.tsv', 'files/doc_15292.tsv', 'files/doc_15297.tsv', 'files/doc_15315.tsv', 'files/doc_15320.tsv', 'files/doc_15324.tsv', 'files/doc_15338.tsv', 'files/doc_15343.tsv', 'files/doc_15350.tsv', 'files/doc_15352.tsv', 'files/doc_15357.tsv', 'files/doc_15385.tsv', 'files/doc_15388.tsv', 'files/doc_15391.tsv', 'files/doc_15411.tsv', 'files/doc_15432.tsv', 'files/doc_15441.tsv', 'files/doc_15453.tsv', 'files/doc_15464.tsv', 'files/doc_15467.tsv', 'files/doc_15467.tsv', 'files/doc_15488.tsv', 'files/doc_15507.tsv', 'files/doc_15515.tsv', 'files/doc_15516.tsv', 'files/doc_15519.tsv', 'files/doc_15519.tsv', 'files/doc_15537.tsv', 'files/doc_15545.tsv', 'files/doc_15546.tsv', 'files/doc_15549.tsv', 'files/doc_15566.tsv', 'files/doc_15570.tsv', 'files/doc_15613.tsv', 'files/doc_15613.tsv', 'files/doc_15623.tsv', 'files/doc_15627.tsv', 'files/doc_15629.tsv', 'files/doc_15636.tsv', 'files/doc_15645.tsv', 'files/doc_15646.tsv', 'files/doc_15646.tsv', 'files/doc_15647.tsv', 'files/doc_15651.tsv', 'files/doc_15651.tsv', 'files/doc_15654.tsv', 'files/doc_15657.tsv', 'files/doc_15657.tsv', 'files/doc_15665.tsv', 'files/doc_15669.tsv', 'files/doc_15678.tsv', 'files/doc_15689.tsv', 'files/doc_15705.tsv', 'files/doc_15705.tsv', 'files/doc_15716.tsv', 'files/doc_15717.tsv', 'files/doc_15720.tsv', 'files/doc_15728.tsv', 'files/doc_15728.tsv', 'files/doc_15731.tsv', 'files/doc_15749.tsv', 'files/doc_15756.tsv', 'files/doc_15770.tsv', 'files/doc_15778.tsv', 'files/doc_15780.tsv', 'files/doc_15785.tsv', 'files/doc_15814.tsv', 'files/doc_15842.tsv', 'files/doc_15843.tsv', 'files/doc_15857.tsv', 'files/doc_15860.tsv', 'files/doc_15869.tsv', 'files/doc_15893.tsv', 'files/doc_15909.tsv', 'files/doc_15920.tsv', 'files/doc_15920.tsv', 'files/doc_15921.tsv', 'files/doc_15927.tsv', 'files/doc_15950.tsv', 'files/doc_15961.tsv', 'files/doc_15969.tsv', 'files/doc_15974.tsv', 'files/doc_15979.tsv', 'files/doc_15987.tsv', 'files/doc_15992.tsv', 'files/doc_16008.tsv', 'files/doc_16031.tsv', 'files/doc_16056.tsv', 'files/doc_16092.tsv', 'files/doc_16131.tsv', 'files/doc_16149.tsv', 'files/doc_16153.tsv', 'files/doc_16161.tsv', 'files/doc_16161.tsv', 'files/doc_16171.tsv', 'files/doc_16181.tsv', 'files/doc_16181.tsv', 'files/doc_16187.tsv', 'files/doc_16204.tsv', 'files/doc_16213.tsv', 'files/doc_16225.tsv', 'files/doc_16228.tsv', 'files/doc_16228.tsv', 'files/doc_16229.tsv', 'files/doc_16253.tsv', 'files/doc_16253.tsv', 'files/doc_16272.tsv', 'files/doc_16277.tsv', 'files/doc_16282.tsv', 'files/doc_16301.tsv', 'files/doc_16313.tsv', 'files/doc_16317.tsv', 'files/doc_16319.tsv', 'files/doc_16321.tsv', 'files/doc_16327.tsv', 'files/doc_16338.tsv', 'files/doc_16344.tsv', 'files/doc_16356.tsv', 'files/doc_16356.tsv', 'files/doc_16394.tsv', 'files/doc_16399.tsv', 'files/doc_16421.tsv', 'files/doc_16426.tsv', 'files/doc_16432.tsv', 'files/doc_16432.tsv', 'files/doc_16465.tsv', 'files/doc_16486.tsv', 'files/doc_16493.tsv', 'files/doc_16516.tsv', 'files/doc_16532.tsv', 'files/doc_16540.tsv', 'files/doc_16561.tsv', 'files/doc_16567.tsv', 'files/doc_16567.tsv', 'files/doc_16569.tsv', 'files/doc_16569.tsv', 'files/doc_16581.tsv', 'files/doc_16604.tsv', 'files/doc_16608.tsv', 'files/doc_16608.tsv', 'files/doc_16609.tsv', 'files/doc_16613.tsv', 'files/doc_16613.tsv', 'files/doc_16620.tsv', 'files/doc_16622.tsv', 'files/doc_16626.tsv', 'files/doc_16629.tsv', 'files/doc_16634.tsv', 'files/doc_16641.tsv', 'files/doc_16646.tsv', 'files/doc_16652.tsv', 'files/doc_16669.tsv', 'files/doc_16683.tsv', 'files/doc_16688.tsv', 'files/doc_16688.tsv', 'files/doc_16699.tsv', 'files/doc_16699.tsv', 'files/doc_16703.tsv', 'files/doc_16705.tsv', 'files/doc_16705.tsv', 'files/doc_16709.tsv', 'files/doc_16722.tsv', 'files/doc_16735.tsv', 'files/doc_16735.tsv', 'files/doc_16737.tsv', 'files/doc_16747.tsv', 'files/doc_16758.tsv', 'files/doc_16763.tsv', 'files/doc_16766.tsv', 'files/doc_16771.tsv', 'files/doc_16786.tsv', 'files/doc_16789.tsv', 'files/doc_16791.tsv', 'files/doc_16801.tsv', 'files/doc_16813.tsv', 'files/doc_16822.tsv', 'files/doc_16825.tsv', 'files/doc_16828.tsv', 'files/doc_16828.tsv', 'files/doc_16832.tsv', 'files/doc_16851.tsv', 'files/doc_16875.tsv', 'files/doc_16893.tsv', 'files/doc_16915.tsv', 'files/doc_16925.tsv', 'files/doc_16958.tsv', 'files/doc_16971.tsv', 'files/doc_16990.tsv', 'files/doc_16990.tsv', 'files/doc_17000.tsv', 'files/doc_17001.tsv', 'files/doc_17030.tsv', 'files/doc_17030.tsv', 'files/doc_17031.tsv', 'files/doc_17035.tsv', 'files/doc_17092.tsv', 'files/doc_17107.tsv', 'files/doc_17126.tsv', 'files/doc_17136.tsv', 'files/doc_17176.tsv', 'files/doc_17183.tsv', 'files/doc_17190.tsv', 'files/doc_17190.tsv', 'files/doc_17203.tsv', 'files/doc_17204.tsv', 'files/doc_17235.tsv', 'files/doc_17237.tsv', 'files/doc_17244.tsv', 'files/doc_17248.tsv', 'files/doc_17254.tsv', 'files/doc_17256.tsv', 'files/doc_17261.tsv', 'files/doc_17267.tsv', 'files/doc_17267.tsv', 'files/doc_17292.tsv', 'files/doc_17300.tsv', 'files/doc_17301.tsv', 'files/doc_17305.tsv', 'files/doc_17315.tsv', 'files/doc_17315.tsv', 'files/doc_17316.tsv', 'files/doc_17316.tsv', 'files/doc_17326.tsv', 'files/doc_17371.tsv', 'files/doc_17371.tsv', 'files/doc_17380.tsv', 'files/doc_17386.tsv', 'files/doc_17392.tsv', 'files/doc_17399.tsv', 'files/doc_17403.tsv', 'files/doc_17405.tsv', 'files/doc_17408.tsv', 'files/doc_17428.tsv', 'files/doc_17432.tsv', 'files/doc_17437.tsv', 'files/doc_17438.tsv', 'files/doc_17440.tsv', 'files/doc_17455.tsv', 'files/doc_17462.tsv', 'files/doc_17483.tsv', 'files/doc_17497.tsv', 'files/doc_17504.tsv', 'files/doc_17534.tsv', 'files/doc_17535.tsv', 'files/doc_17535.tsv', 'files/doc_17537.tsv', 'files/doc_17546.tsv', 'files/doc_17547.tsv', 'files/doc_17549.tsv', 'files/doc_17563.tsv', 'files/doc_17565.tsv', 'files/doc_17573.tsv', 'files/doc_17578.tsv', 'files/doc_17580.tsv', 'files/doc_17607.tsv', 'files/doc_17607.tsv', 'files/doc_17609.tsv', 'files/doc_17621.tsv', 'files/doc_17666.tsv', 'files/doc_17668.tsv', 'files/doc_17669.tsv', 'files/doc_17687.tsv', 'files/doc_17729.tsv', 'files/doc_17732.tsv', 'files/doc_17744.tsv', 'files/doc_17778.tsv', 'files/doc_17802.tsv', 'files/doc_17813.tsv', 'files/doc_17814.tsv', 'files/doc_17816.tsv', 'files/doc_17822.tsv', 'files/doc_17824.tsv', 'files/doc_17828.tsv', 'files/doc_17836.tsv', 'files/doc_17840.tsv', 'files/doc_17849.tsv', 'files/doc_17861.tsv', 'files/doc_17868.tsv', 'files/doc_17870.tsv', 'files/doc_17879.tsv', 'files/doc_17886.tsv', 'files/doc_17894.tsv', 'files/doc_17898.tsv', 'files/doc_17904.tsv', 'files/doc_17909.tsv', 'files/doc_17913.tsv', 'files/doc_17915.tsv', 'files/doc_17920.tsv', 'files/doc_17921.tsv', 'files/doc_17942.tsv', 'files/doc_17954.tsv', 'files/doc_17963.tsv', 'files/doc_17964.tsv', 'files/doc_17965.tsv', 'files/doc_17994.tsv', 'files/doc_17996.tsv', 'files/doc_17996.tsv', 'files/doc_18001.tsv', 'files/doc_18009.tsv', 'files/doc_18025.tsv', 'files/doc_18025.tsv', 'files/doc_18051.tsv', 'files/doc_18055.tsv', 'files/doc_18056.tsv', 'files/doc_18060.tsv', 'files/doc_18071.tsv', 'files/doc_18080.tsv', 'files/doc_18111.tsv', 'files/doc_18120.tsv', 'files/doc_18132.tsv', 'files/doc_18134.tsv', 'files/doc_18141.tsv', 'files/doc_18156.tsv', 'files/doc_18179.tsv', 'files/doc_18183.tsv', 'files/doc_18203.tsv', 'files/doc_18203.tsv', 'files/doc_18209.tsv', 'files/doc_18232.tsv', 'files/doc_18238.tsv', 'files/doc_18241.tsv', 'files/doc_18244.tsv', 'files/doc_18246.tsv', 'files/doc_18247.tsv', 'files/doc_18253.tsv'], 'near': ['files/doc_2.tsv', 'files/doc_16.tsv', 'files/doc_32.tsv', 'files/doc_46.tsv', 'files/doc_46.tsv', 'files/doc_51.tsv', 'files/doc_54.tsv', 'files/doc_54.tsv', 'files/doc_75.tsv', 'files/doc_83.tsv', 'files/doc_83.tsv', 'files/doc_85.tsv', 'files/doc_106.tsv', 'files/doc_124.tsv', 'files/doc_131.tsv', 'files/doc_131.tsv', 'files/doc_138.tsv', 'files/doc_138.tsv', 'files/doc_152.tsv', 'files/doc_160.tsv', 'files/doc_160.tsv', 'files/doc_174.tsv', 'files/doc_177.tsv', 'files/doc_186.tsv', 'files/doc_206.tsv', 'files/doc_207.tsv', 'files/doc_236.tsv', 'files/doc_247.tsv', 'files/doc_255.tsv', 'files/doc_255.tsv', 'files/doc_265.tsv', 'files/doc_286.tsv', 'files/doc_286.tsv', 'files/doc_290.tsv', 'files/doc_303.tsv', 'files/doc_316.tsv', 'files/doc_316.tsv', 'files/doc_316.tsv', 'files/doc_321.tsv', 'files/doc_329.tsv', 'files/doc_331.tsv', 'files/doc_339.tsv', 'files/doc_369.tsv', 'files/doc_382.tsv', 'files/doc_387.tsv', 'files/doc_388.tsv', 'files/doc_392.tsv', 'files/doc_398.tsv', 'files/doc_403.tsv', 'files/doc_407.tsv', 'files/doc_411.tsv', 'files/doc_428.tsv', 'files/doc_441.tsv', 'files/doc_451.tsv', 'files/doc_453.tsv', 'files/doc_458.tsv', 'files/doc_458.tsv', 'files/doc_472.tsv', 'files/doc_476.tsv', 'files/doc_485.tsv', 'files/doc_497.tsv', 'files/doc_507.tsv', 'files/doc_508.tsv', 'files/doc_511.tsv', 'files/doc_515.tsv', 'files/doc_519.tsv', 'files/doc_522.tsv', 'files/doc_523.tsv', 'files/doc_540.tsv', 'files/doc_547.tsv', 'files/doc_563.tsv', 'files/doc_569.tsv', 'files/doc_572.tsv', 'files/doc_578.tsv', 'files/doc_578.tsv', 'files/doc_583.tsv', 'files/doc_599.tsv', 'files/doc_612.tsv', 'files/doc_613.tsv', 'files/doc_615.tsv', 'files/doc_635.tsv', 'files/doc_643.tsv', 'files/doc_646.tsv', 'files/doc_647.tsv', 'files/doc_650.tsv', 'files/doc_650.tsv', 'files/doc_665.tsv', 'files/doc_670.tsv', 'files/doc_673.tsv', 'files/doc_690.tsv', 'files/doc_701.tsv', 'files/doc_703.tsv', 'files/doc_706.tsv', 'files/doc_718.tsv', 'files/doc_726.tsv', 'files/doc_746.tsv', 'files/doc_759.tsv', 'files/doc_759.tsv', 'files/doc_763.tsv', 'files/doc_767.tsv', 'files/doc_779.tsv', 'files/doc_790.tsv', 'files/doc_792.tsv', 'files/doc_806.tsv', 'files/doc_819.tsv', 'files/doc_827.tsv', 'files/doc_836.tsv', 'files/doc_842.tsv', 'files/doc_844.tsv', 'files/doc_855.tsv', 'files/doc_856.tsv', 'files/doc_858.tsv', 'files/doc_862.tsv', 'files/doc_867.tsv', 'files/doc_867.tsv', 'files/doc_882.tsv', 'files/doc_887.tsv', 'files/doc_888.tsv', 'files/doc_889.tsv', 'files/doc_896.tsv', 'files/doc_898.tsv', 'files/doc_910.tsv', 'files/doc_922.tsv', 'files/doc_925.tsv', 'files/doc_936.tsv', 'files/doc_947.tsv', 'files/doc_968.tsv', 'files/doc_986.tsv', 'files/doc_990.tsv', 'files/doc_1019.tsv', 'files/doc_1026.tsv', 'files/doc_1032.tsv', 'files/doc_1032.tsv', 'files/doc_1035.tsv', 'files/doc_1041.tsv', 'files/doc_1051.tsv', 'files/doc_1051.tsv', 'files/doc_1054.tsv', 'files/doc_1055.tsv', 'files/doc_1058.tsv', 'files/doc_1059.tsv', 'files/doc_1069.tsv', 'files/doc_1076.tsv', 'files/doc_1078.tsv', 'files/doc_1078.tsv', 'files/doc_1084.tsv', 'files/doc_1090.tsv', 'files/doc_1092.tsv', 'files/doc_1101.tsv', 'files/doc_1104.tsv', 'files/doc_1108.tsv', 'files/doc_1113.tsv', 'files/doc_1124.tsv', 'files/doc_1126.tsv', 'files/doc_1127.tsv', 'files/doc_1130.tsv', 'files/doc_1136.tsv', 'files/doc_1148.tsv', 'files/doc_1150.tsv', 'files/doc_1161.tsv', 'files/doc_1161.tsv', 'files/doc_1162.tsv', 'files/doc_1164.tsv', 'files/doc_1169.tsv', 'files/doc_1179.tsv', 'files/doc_1179.tsv', 'files/doc_1182.tsv', 'files/doc_1183.tsv', 'files/doc_1183.tsv', 'files/doc_1183.tsv', 'files/doc_1192.tsv', 'files/doc_1205.tsv', 'files/doc_1205.tsv', 'files/doc_1231.tsv', 'files/doc_1234.tsv', 'files/doc_1242.tsv', 'files/doc_1244.tsv', 'files/doc_1244.tsv', 'files/doc_1285.tsv', 'files/doc_1301.tsv', 'files/doc_1305.tsv', 'files/doc_1325.tsv', 'files/doc_1327.tsv', 'files/doc_1329.tsv', 'files/doc_1331.tsv', 'files/doc_1345.tsv', 'files/doc_1346.tsv', 'files/doc_1363.tsv', 'files/doc_1372.tsv', 'files/doc_1372.tsv', 'files/doc_1378.tsv', 'files/doc_1395.tsv', 'files/doc_1413.tsv', 'files/doc_1422.tsv', 'files/doc_1422.tsv', 'files/doc_1428.tsv', 'files/doc_1453.tsv', 'files/doc_1463.tsv', 'files/doc_1472.tsv', 'files/doc_1492.tsv', 'files/doc_1509.tsv', 'files/doc_1537.tsv', 'files/doc_1545.tsv', 'files/doc_1554.tsv', 'files/doc_1555.tsv', 'files/doc_1555.tsv', 'files/doc_1572.tsv', 'files/doc_1622.tsv', 'files/doc_1637.tsv', 'files/doc_1644.tsv', 'files/doc_1647.tsv', 'files/doc_1651.tsv', 'files/doc_1658.tsv', 'files/doc_1658.tsv', 'files/doc_1661.tsv', 'files/doc_1661.tsv', 'files/doc_1665.tsv', 'files/doc_1671.tsv', 'files/doc_1685.tsv', 'files/doc_1688.tsv', 'files/doc_1690.tsv', 'files/doc_1696.tsv', 'files/doc_1713.tsv', 'files/doc_1714.tsv', 'files/doc_1721.tsv', 'files/doc_1729.tsv', 'files/doc_1758.tsv', 'files/doc_1773.tsv', 'files/doc_1774.tsv', 'files/doc_1775.tsv', 'files/doc_1787.tsv', 'files/doc_1787.tsv', 'files/doc_1803.tsv', 'files/doc_1815.tsv', 'files/doc_1818.tsv', 'files/doc_1837.tsv', 'files/doc_1839.tsv', 'files/doc_1840.tsv', 'files/doc_1840.tsv', 'files/doc_1859.tsv', 'files/doc_1862.tsv', 'files/doc_1911.tsv', 'files/doc_1913.tsv', 'files/doc_1914.tsv', 'files/doc_1917.tsv', 'files/doc_1917.tsv', 'files/doc_1928.tsv', 'files/doc_1942.tsv', 'files/doc_1955.tsv', 'files/doc_1957.tsv', 'files/doc_1959.tsv', 'files/doc_1960.tsv', 'files/doc_1963.tsv', 'files/doc_1972.tsv', 'files/doc_1972.tsv', 'files/doc_2005.tsv', 'files/doc_2026.tsv', 'files/doc_2026.tsv', 'files/doc_2038.tsv', 'files/doc_2040.tsv', 'files/doc_2040.tsv', 'files/doc_2043.tsv', 'files/doc_2051.tsv', 'files/doc_2051.tsv', 'files/doc_2057.tsv', 'files/doc_2057.tsv', 'files/doc_2058.tsv', 'files/doc_2060.tsv', 'files/doc_2077.tsv', 'files/doc_2077.tsv', 'files/doc_2084.tsv', 'files/doc_2084.tsv', 'files/doc_2097.tsv', 'files/doc_2097.tsv', 'files/doc_2107.tsv', 'files/doc_2109.tsv', 'files/doc_2111.tsv', 'files/doc_2116.tsv', 'files/doc_2119.tsv', 'files/doc_2122.tsv', 'files/doc_2128.tsv', 'files/doc_2128.tsv', 'files/doc_2131.tsv', 'files/doc_2134.tsv', 'files/doc_2138.tsv', 'files/doc_2140.tsv', 'files/doc_2154.tsv', 'files/doc_2165.tsv', 'files/doc_2174.tsv', 'files/doc_2174.tsv', 'files/doc_2176.tsv', 'files/doc_2185.tsv', 'files/doc_2190.tsv', 'files/doc_2196.tsv', 'files/doc_2196.tsv', 'files/doc_2201.tsv', 'files/doc_2202.tsv', 'files/doc_2206.tsv', 'files/doc_2209.tsv', 'files/doc_2217.tsv', 'files/doc_2238.tsv', 'files/doc_2241.tsv', 'files/doc_2261.tsv', 'files/doc_2268.tsv', 'files/doc_2282.tsv', 'files/doc_2288.tsv', 'files/doc_2292.tsv', 'files/doc_2302.tsv', 'files/doc_2314.tsv', 'files/doc_2348.tsv', 'files/doc_2358.tsv', 'files/doc_2360.tsv', 'files/doc_2369.tsv', 'files/doc_2369.tsv', 'files/doc_2371.tsv', 'files/doc_2375.tsv', 'files/doc_2385.tsv', 'files/doc_2389.tsv', 'files/doc_2414.tsv', 'files/doc_2421.tsv', 'files/doc_2431.tsv', 'files/doc_2433.tsv', 'files/doc_2447.tsv', 'files/doc_2458.tsv', 'files/doc_2458.tsv', 'files/doc_2460.tsv', 'files/doc_2463.tsv', 'files/doc_2466.tsv', 'files/doc_2469.tsv', 'files/doc_2475.tsv', 'files/doc_2485.tsv', 'files/doc_2486.tsv', 'files/doc_2503.tsv', 'files/doc_2508.tsv', 'files/doc_2511.tsv', 'files/doc_2511.tsv', 'files/doc_2519.tsv', 'files/doc_2541.tsv', 'files/doc_2541.tsv', 'files/doc_2547.tsv', 'files/doc_2563.tsv', 'files/doc_2578.tsv', 'files/doc_2580.tsv', 'files/doc_2580.tsv', 'files/doc_2587.tsv', 'files/doc_2599.tsv', 'files/doc_2602.tsv', 'files/doc_2607.tsv', 'files/doc_2609.tsv', 'files/doc_2612.tsv', 'files/doc_2613.tsv', 'files/doc_2614.tsv', 'files/doc_2617.tsv', 'files/doc_2623.tsv', 'files/doc_2624.tsv', 'files/doc_2633.tsv', 'files/doc_2645.tsv', 'files/doc_2647.tsv', 'files/doc_2655.tsv', 'files/doc_2663.tsv', 'files/doc_2667.tsv', 'files/doc_2671.tsv', 'files/doc_2678.tsv', 'files/doc_2685.tsv', 'files/doc_2685.tsv', 'files/doc_2700.tsv', 'files/doc_2707.tsv', 'files/doc_2734.tsv', 'files/doc_2736.tsv', 'files/doc_2738.tsv', 'files/doc_2755.tsv', 'files/doc_2773.tsv', 'files/doc_2774.tsv', 'files/doc_2779.tsv', 'files/doc_2818.tsv', 'files/doc_2830.tsv', 'files/doc_2832.tsv', 'files/doc_2834.tsv', 'files/doc_2836.tsv', 'files/doc_2847.tsv', 'files/doc_2853.tsv', 'files/doc_2853.tsv', 'files/doc_2859.tsv', 'files/doc_2861.tsv', 'files/doc_2865.tsv', 'files/doc_2871.tsv', 'files/doc_2876.tsv', 'files/doc_2876.tsv', 'files/doc_2911.tsv', 'files/doc_2911.tsv', 'files/doc_2912.tsv', 'files/doc_2914.tsv', 'files/doc_2928.tsv', 'files/doc_2930.tsv', 'files/doc_2934.tsv', 'files/doc_2961.tsv', 'files/doc_2964.tsv', 'files/doc_2964.tsv', 'files/doc_2977.tsv', 'files/doc_2979.tsv', 'files/doc_2980.tsv', 'files/doc_2983.tsv', 'files/doc_2983.tsv', 'files/doc_2992.tsv', 'files/doc_3005.tsv', 'files/doc_3028.tsv', 'files/doc_3047.tsv', 'files/doc_3048.tsv', 'files/doc_3049.tsv', 'files/doc_3051.tsv', 'files/doc_3068.tsv', 'files/doc_3079.tsv', 'files/doc_3082.tsv', 'files/doc_3082.tsv', 'files/doc_3086.tsv', 'files/doc_3095.tsv', 'files/doc_3101.tsv', 'files/doc_3112.tsv', 'files/doc_3123.tsv', 'files/doc_3131.tsv', 'files/doc_3135.tsv', 'files/doc_3138.tsv', 'files/doc_3138.tsv', 'files/doc_3138.tsv', 'files/doc_3148.tsv', 'files/doc_3160.tsv', 'files/doc_3160.tsv', 'files/doc_3171.tsv', 'files/doc_3172.tsv', 'files/doc_3181.tsv', 'files/doc_3208.tsv', 'files/doc_3214.tsv', 'files/doc_3218.tsv', 'files/doc_3221.tsv', 'files/doc_3223.tsv', 'files/doc_3234.tsv', 'files/doc_3234.tsv', 'files/doc_3238.tsv', 'files/doc_3241.tsv', 'files/doc_3242.tsv', 'files/doc_3257.tsv', 'files/doc_3260.tsv', 'files/doc_3265.tsv', 'files/doc_3283.tsv', 'files/doc_3302.tsv', 'files/doc_3304.tsv', 'files/doc_3319.tsv', 'files/doc_3337.tsv', 'files/doc_3340.tsv', 'files/doc_3341.tsv', 'files/doc_3341.tsv', 'files/doc_3351.tsv', 'files/doc_3355.tsv', 'files/doc_3375.tsv', 'files/doc_3377.tsv', 'files/doc_3386.tsv', 'files/doc_3407.tsv', 'files/doc_3412.tsv', 'files/doc_3412.tsv', 'files/doc_3413.tsv', 'files/doc_3452.tsv', 'files/doc_3452.tsv', 'files/doc_3467.tsv', 'files/doc_3498.tsv', 'files/doc_3512.tsv', 'files/doc_3514.tsv', 'files/doc_3514.tsv', 'files/doc_3517.tsv', 'files/doc_3522.tsv', 'files/doc_3526.tsv', 'files/doc_3530.tsv', 'files/doc_3549.tsv', 'files/doc_3550.tsv', 'files/doc_3550.tsv', 'files/doc_3551.tsv', 'files/doc_3555.tsv', 'files/doc_3560.tsv', 'files/doc_3560.tsv', 'files/doc_3561.tsv', 'files/doc_3561.tsv', 'files/doc_3563.tsv', 'files/doc_3578.tsv', 'files/doc_3583.tsv', 'files/doc_3584.tsv', 'files/doc_3597.tsv', 'files/doc_3608.tsv', 'files/doc_3628.tsv', 'files/doc_3631.tsv', 'files/doc_3636.tsv', 'files/doc_3639.tsv', 'files/doc_3648.tsv', 'files/doc_3650.tsv', 'files/doc_3655.tsv', 'files/doc_3656.tsv', 'files/doc_3658.tsv', 'files/doc_3668.tsv', 'files/doc_3674.tsv', 'files/doc_3675.tsv', 'files/doc_3682.tsv', 'files/doc_3687.tsv', 'files/doc_3688.tsv', 'files/doc_3726.tsv', 'files/doc_3749.tsv', 'files/doc_3750.tsv', 'files/doc_3770.tsv', 'files/doc_3777.tsv', 'files/doc_3779.tsv', 'files/doc_3780.tsv', 'files/doc_3801.tsv', 'files/doc_3808.tsv', 'files/doc_3821.tsv', 'files/doc_3844.tsv', 'files/doc_3850.tsv', 'files/doc_3852.tsv', 'files/doc_3854.tsv', 'files/doc_3862.tsv', 'files/doc_3867.tsv', 'files/doc_3882.tsv', 'files/doc_3895.tsv', 'files/doc_3910.tsv', 'files/doc_3910.tsv', 'files/doc_3915.tsv', 'files/doc_3917.tsv', 'files/doc_3927.tsv', 'files/doc_3945.tsv', 'files/doc_3945.tsv', 'files/doc_3947.tsv', 'files/doc_3957.tsv', 'files/doc_3966.tsv', 'files/doc_3968.tsv', 'files/doc_3977.tsv', 'files/doc_3979.tsv', 'files/doc_3984.tsv', 'files/doc_3984.tsv', 'files/doc_3996.tsv', 'files/doc_3999.tsv', 'files/doc_4036.tsv', 'files/doc_4037.tsv', 'files/doc_4037.tsv', 'files/doc_4038.tsv', 'files/doc_4044.tsv', 'files/doc_4047.tsv', 'files/doc_4060.tsv', 'files/doc_4063.tsv', 'files/doc_4071.tsv', 'files/doc_4089.tsv', 'files/doc_4091.tsv', 'files/doc_4104.tsv', 'files/doc_4107.tsv', 'files/doc_4116.tsv', 'files/doc_4120.tsv', 'files/doc_4121.tsv', 'files/doc_4124.tsv', 'files/doc_4135.tsv', 'files/doc_4142.tsv', 'files/doc_4168.tsv', 'files/doc_4169.tsv', 'files/doc_4170.tsv', 'files/doc_4170.tsv', 'files/doc_4182.tsv', 'files/doc_4186.tsv', 'files/doc_4194.tsv', 'files/doc_4194.tsv', 'files/doc_4245.tsv', 'files/doc_4246.tsv', 'files/doc_4263.tsv', 'files/doc_4268.tsv', 'files/doc_4269.tsv', 'files/doc_4278.tsv', 'files/doc_4292.tsv', 'files/doc_4296.tsv', 'files/doc_4313.tsv', 'files/doc_4314.tsv', 'files/doc_4318.tsv', 'files/doc_4326.tsv', 'files/doc_4326.tsv', 'files/doc_4329.tsv', 'files/doc_4335.tsv', 'files/doc_4346.tsv', 'files/doc_4350.tsv', 'files/doc_4359.tsv', 'files/doc_4361.tsv', 'files/doc_4361.tsv', 'files/doc_4374.tsv', 'files/doc_4376.tsv', 'files/doc_4384.tsv', 'files/doc_4392.tsv', 'files/doc_4398.tsv', 'files/doc_4401.tsv', 'files/doc_4405.tsv', 'files/doc_4421.tsv', 'files/doc_4436.tsv', 'files/doc_4442.tsv', 'files/doc_4443.tsv', 'files/doc_4443.tsv', 'files/doc_4444.tsv', 'files/doc_4460.tsv', 'files/doc_4461.tsv', 'files/doc_4461.tsv', 'files/doc_4468.tsv', 'files/doc_4470.tsv', 'files/doc_4477.tsv', 'files/doc_4477.tsv', 'files/doc_4484.tsv', 'files/doc_4485.tsv', 'files/doc_4487.tsv', 'files/doc_4490.tsv', 'files/doc_4493.tsv', 'files/doc_4493.tsv', 'files/doc_4511.tsv', 'files/doc_4512.tsv', 'files/doc_4515.tsv', 'files/doc_4528.tsv', 'files/doc_4529.tsv', 'files/doc_4546.tsv', 'files/doc_4551.tsv', 'files/doc_4565.tsv', 'files/doc_4566.tsv', 'files/doc_4566.tsv', 'files/doc_4574.tsv', 'files/doc_4577.tsv', 'files/doc_4577.tsv', 'files/doc_4579.tsv', 'files/doc_4579.tsv', 'files/doc_4585.tsv', 'files/doc_4587.tsv', 'files/doc_4599.tsv', 'files/doc_4609.tsv', 'files/doc_4611.tsv', 'files/doc_4616.tsv', 'files/doc_4629.tsv', 'files/doc_4630.tsv', 'files/doc_4631.tsv', 'files/doc_4631.tsv', 'files/doc_4642.tsv', 'files/doc_4656.tsv', 'files/doc_4658.tsv', 'files/doc_4669.tsv', 'files/doc_4670.tsv', 'files/doc_4671.tsv', 'files/doc_4676.tsv', 'files/doc_4678.tsv', 'files/doc_4683.tsv', 'files/doc_4688.tsv', 'files/doc_4698.tsv', 'files/doc_4704.tsv', 'files/doc_4717.tsv', 'files/doc_4727.tsv', 'files/doc_4738.tsv', 'files/doc_4738.tsv', 'files/doc_4742.tsv', 'files/doc_4743.tsv', 'files/doc_4748.tsv', 'files/doc_4750.tsv', 'files/doc_4752.tsv', 'files/doc_4752.tsv', 'files/doc_4759.tsv', 'files/doc_4759.tsv', 'files/doc_4763.tsv', 'files/doc_4777.tsv', 'files/doc_4780.tsv', 'files/doc_4799.tsv', 'files/doc_4808.tsv', 'files/doc_4816.tsv', 'files/doc_4829.tsv', 'files/doc_4838.tsv', 'files/doc_4846.tsv', 'files/doc_4848.tsv', 'files/doc_4851.tsv', 'files/doc_4858.tsv', 'files/doc_4860.tsv', 'files/doc_4860.tsv', 'files/doc_4865.tsv', 'files/doc_4866.tsv', 'files/doc_4890.tsv', 'files/doc_4898.tsv', 'files/doc_4908.tsv', 'files/doc_4915.tsv', 'files/doc_4917.tsv', 'files/doc_4937.tsv', 'files/doc_4943.tsv', 'files/doc_4959.tsv', 'files/doc_4967.tsv', 'files/doc_4993.tsv', 'files/doc_5006.tsv', 'files/doc_5006.tsv', 'files/doc_5022.tsv', 'files/doc_5025.tsv', 'files/doc_5031.tsv', 'files/doc_5035.tsv', 'files/doc_5048.tsv', 'files/doc_5050.tsv', 'files/doc_5063.tsv', 'files/doc_5069.tsv', 'files/doc_5076.tsv', 'files/doc_5080.tsv', 'files/doc_5087.tsv', 'files/doc_5087.tsv', 'files/doc_5090.tsv', 'files/doc_5091.tsv', 'files/doc_5092.tsv', 'files/doc_5099.tsv', 'files/doc_5109.tsv', 'files/doc_5113.tsv', 'files/doc_5115.tsv', 'files/doc_5115.tsv', 'files/doc_5142.tsv', 'files/doc_5145.tsv', 'files/doc_5159.tsv', 'files/doc_5175.tsv', 'files/doc_5181.tsv', 'files/doc_5185.tsv', 'files/doc_5192.tsv', 'files/doc_5195.tsv', 'files/doc_5202.tsv', 'files/doc_5207.tsv', 'files/doc_5234.tsv', 'files/doc_5237.tsv', 'files/doc_5240.tsv', 'files/doc_5253.tsv', 'files/doc_5256.tsv', 'files/doc_5262.tsv', 'files/doc_5263.tsv', 'files/doc_5266.tsv', 'files/doc_5267.tsv', 'files/doc_5268.tsv', 'files/doc_5275.tsv', 'files/doc_5282.tsv', 'files/doc_5300.tsv', 'files/doc_5303.tsv', 'files/doc_5314.tsv', 'files/doc_5332.tsv', 'files/doc_5334.tsv', 'files/doc_5334.tsv', 'files/doc_5337.tsv', 'files/doc_5337.tsv', 'files/doc_5353.tsv', 'files/doc_5355.tsv', 'files/doc_5355.tsv', 'files/doc_5360.tsv', 'files/doc_5373.tsv', 'files/doc_5377.tsv', 'files/doc_5387.tsv', 'files/doc_5391.tsv', 'files/doc_5409.tsv', 'files/doc_5412.tsv', 'files/doc_5415.tsv', 'files/doc_5422.tsv', 'files/doc_5424.tsv', 'files/doc_5424.tsv', 'files/doc_5424.tsv', 'files/doc_5430.tsv', 'files/doc_5432.tsv', 'files/doc_5435.tsv', 'files/doc_5450.tsv', 'files/doc_5450.tsv', 'files/doc_5464.tsv', 'files/doc_5464.tsv', 'files/doc_5478.tsv', 'files/doc_5508.tsv', 'files/doc_5522.tsv', 'files/doc_5538.tsv', 'files/doc_5539.tsv', 'files/doc_5541.tsv', 'files/doc_5545.tsv', 'files/doc_5547.tsv', 'files/doc_5547.tsv', 'files/doc_5560.tsv', 'files/doc_5563.tsv', 'files/doc_5565.tsv', 'files/doc_5574.tsv', 'files/doc_5577.tsv', 'files/doc_5600.tsv', 'files/doc_5607.tsv', 'files/doc_5622.tsv', 'files/doc_5623.tsv', 'files/doc_5629.tsv', 'files/doc_5635.tsv', 'files/doc_5643.tsv', 'files/doc_5645.tsv', 'files/doc_5646.tsv', 'files/doc_5657.tsv', 'files/doc_5683.tsv', 'files/doc_5684.tsv', 'files/doc_5687.tsv', 'files/doc_5688.tsv', 'files/doc_5709.tsv', 'files/doc_5713.tsv', 'files/doc_5721.tsv', 'files/doc_5723.tsv', 'files/doc_5726.tsv', 'files/doc_5729.tsv', 'files/doc_5752.tsv', 'files/doc_5753.tsv', 'files/doc_5756.tsv', 'files/doc_5759.tsv', 'files/doc_5767.tsv', 'files/doc_5768.tsv', 'files/doc_5791.tsv', 'files/doc_5794.tsv', 'files/doc_5797.tsv', 'files/doc_5823.tsv', 'files/doc_5835.tsv', 'files/doc_5837.tsv', 'files/doc_5839.tsv', 'files/doc_5840.tsv', 'files/doc_5849.tsv', 'files/doc_5856.tsv', 'files/doc_5856.tsv', 'files/doc_5861.tsv', 'files/doc_5878.tsv', 'files/doc_5894.tsv', 'files/doc_5894.tsv', 'files/doc_5899.tsv', 'files/doc_5899.tsv', 'files/doc_5918.tsv', 'files/doc_5965.tsv', 'files/doc_5966.tsv', 'files/doc_5976.tsv', 'files/doc_5984.tsv', 'files/doc_5985.tsv', 'files/doc_5986.tsv', 'files/doc_5990.tsv', 'files/doc_5997.tsv', 'files/doc_5997.tsv', 'files/doc_6002.tsv', 'files/doc_6008.tsv', 'files/doc_6009.tsv', 'files/doc_6022.tsv', 'files/doc_6025.tsv', 'files/doc_6030.tsv', 'files/doc_6032.tsv', 'files/doc_6032.tsv', 'files/doc_6036.tsv', 'files/doc_6039.tsv', 'files/doc_6041.tsv', 'files/doc_6042.tsv', 'files/doc_6084.tsv', 'files/doc_6102.tsv', 'files/doc_6106.tsv', 'files/doc_6109.tsv', 'files/doc_6126.tsv', 'files/doc_6127.tsv', 'files/doc_6137.tsv', 'files/doc_6147.tsv', 'files/doc_6161.tsv', 'files/doc_6163.tsv', 'files/doc_6167.tsv', 'files/doc_6177.tsv', 'files/doc_6197.tsv', 'files/doc_6198.tsv', 'files/doc_6213.tsv', 'files/doc_6216.tsv', 'files/doc_6292.tsv', 'files/doc_6299.tsv', 'files/doc_6300.tsv', 'files/doc_6301.tsv', 'files/doc_6314.tsv', 'files/doc_6345.tsv', 'files/doc_6347.tsv', 'files/doc_6351.tsv', 'files/doc_6367.tsv', 'files/doc_6377.tsv', 'files/doc_6379.tsv', 'files/doc_6400.tsv', 'files/doc_6407.tsv', 'files/doc_6411.tsv', 'files/doc_6421.tsv', 'files/doc_6422.tsv', 'files/doc_6446.tsv', 'files/doc_6447.tsv', 'files/doc_6451.tsv', 'files/doc_6465.tsv', 'files/doc_6469.tsv', 'files/doc_6469.tsv', 'files/doc_6470.tsv', 'files/doc_6470.tsv', 'files/doc_6539.tsv', 'files/doc_6544.tsv', 'files/doc_6547.tsv', 'files/doc_6550.tsv', 'files/doc_6554.tsv', 'files/doc_6556.tsv', 'files/doc_6560.tsv', 'files/doc_6561.tsv', 'files/doc_6564.tsv', 'files/doc_6575.tsv', 'files/doc_6580.tsv', 'files/doc_6581.tsv', 'files/doc_6590.tsv', 'files/doc_6592.tsv', 'files/doc_6605.tsv', 'files/doc_6612.tsv', 'files/doc_6612.tsv', 'files/doc_6626.tsv', 'files/doc_6627.tsv', 'files/doc_6653.tsv', 'files/doc_6655.tsv', 'files/doc_6659.tsv', 'files/doc_6661.tsv', 'files/doc_6686.tsv', 'files/doc_6689.tsv', 'files/doc_6691.tsv', 'files/doc_6697.tsv', 'files/doc_6703.tsv', 'files/doc_6711.tsv', 'files/doc_6718.tsv', 'files/doc_6720.tsv', 'files/doc_6721.tsv', 'files/doc_6723.tsv', 'files/doc_6725.tsv', 'files/doc_6726.tsv', 'files/doc_6729.tsv', 'files/doc_6733.tsv', 'files/doc_6736.tsv', 'files/doc_6756.tsv', 'files/doc_6758.tsv', 'files/doc_6764.tsv', 'files/doc_6770.tsv', 'files/doc_6781.tsv', 'files/doc_6785.tsv', 'files/doc_6808.tsv', 'files/doc_6840.tsv', 'files/doc_6840.tsv', 'files/doc_6847.tsv', 'files/doc_6854.tsv', 'files/doc_6864.tsv', 'files/doc_6880.tsv', 'files/doc_6888.tsv', 'files/doc_6900.tsv', 'files/doc_6937.tsv', 'files/doc_6943.tsv', 'files/doc_6954.tsv', 'files/doc_6957.tsv', 'files/doc_6960.tsv', 'files/doc_6960.tsv', 'files/doc_6961.tsv', 'files/doc_6961.tsv', 'files/doc_6964.tsv', 'files/doc_6964.tsv', 'files/doc_6966.tsv', 'files/doc_6966.tsv', 'files/doc_6967.tsv', 'files/doc_6981.tsv', 'files/doc_6999.tsv', 'files/doc_6999.tsv', 'files/doc_7011.tsv', 'files/doc_7014.tsv', 'files/doc_7014.tsv', 'files/doc_7016.tsv', 'files/doc_7018.tsv', 'files/doc_7020.tsv', 'files/doc_7021.tsv', 'files/doc_7024.tsv', 'files/doc_7024.tsv', 'files/doc_7032.tsv', 'files/doc_7033.tsv', 'files/doc_7044.tsv', 'files/doc_7050.tsv', 'files/doc_7054.tsv', 'files/doc_7067.tsv', 'files/doc_7071.tsv', 'files/doc_7090.tsv', 'files/doc_7091.tsv', 'files/doc_7096.tsv', 'files/doc_7096.tsv', 'files/doc_7098.tsv', 'files/doc_7102.tsv', 'files/doc_7107.tsv', 'files/doc_7114.tsv', 'files/doc_7114.tsv', 'files/doc_7117.tsv', 'files/doc_7125.tsv', 'files/doc_7129.tsv', 'files/doc_7136.tsv', 'files/doc_7143.tsv', 'files/doc_7155.tsv', 'files/doc_7157.tsv', 'files/doc_7162.tsv', 'files/doc_7169.tsv', 'files/doc_7190.tsv', 'files/doc_7193.tsv', 'files/doc_7197.tsv', 'files/doc_7199.tsv', 'files/doc_7205.tsv', 'files/doc_7205.tsv', 'files/doc_7213.tsv', 'files/doc_7226.tsv', 'files/doc_7227.tsv', 'files/doc_7227.tsv', 'files/doc_7243.tsv', 'files/doc_7244.tsv', 'files/doc_7247.tsv', 'files/doc_7250.tsv', 'files/doc_7251.tsv', 'files/doc_7252.tsv', 'files/doc_7261.tsv', 'files/doc_7280.tsv', 'files/doc_7288.tsv', 'files/doc_7289.tsv', 'files/doc_7293.tsv', 'files/doc_7294.tsv', 'files/doc_7307.tsv', 'files/doc_7312.tsv', 'files/doc_7324.tsv', 'files/doc_7332.tsv', 'files/doc_7337.tsv', 'files/doc_7338.tsv', 'files/doc_7342.tsv', 'files/doc_7342.tsv', 'files/doc_7343.tsv', 'files/doc_7349.tsv', 'files/doc_7357.tsv', 'files/doc_7365.tsv', 'files/doc_7367.tsv', 'files/doc_7369.tsv', 'files/doc_7371.tsv', 'files/doc_7390.tsv', 'files/doc_7442.tsv', 'files/doc_7469.tsv', 'files/doc_7492.tsv', 'files/doc_7494.tsv', 'files/doc_7500.tsv', 'files/doc_7524.tsv', 'files/doc_7532.tsv', 'files/doc_7535.tsv', 'files/doc_7571.tsv', 'files/doc_7578.tsv', 'files/doc_7593.tsv', 'files/doc_7604.tsv', 'files/doc_7605.tsv', 'files/doc_7607.tsv', 'files/doc_7607.tsv', 'files/doc_7614.tsv', 'files/doc_7617.tsv', 'files/doc_7617.tsv', 'files/doc_7646.tsv', 'files/doc_7704.tsv', 'files/doc_7705.tsv', 'files/doc_7712.tsv', 'files/doc_7714.tsv', 'files/doc_7730.tsv', 'files/doc_7738.tsv', 'files/doc_7738.tsv', 'files/doc_7738.tsv', 'files/doc_7743.tsv', 'files/doc_7746.tsv', 'files/doc_7748.tsv', 'files/doc_7750.tsv', 'files/doc_7783.tsv', 'files/doc_7783.tsv', 'files/doc_7804.tsv', 'files/doc_7821.tsv', 'files/doc_7829.tsv', 'files/doc_7829.tsv', 'files/doc_7830.tsv', 'files/doc_7849.tsv', 'files/doc_7850.tsv', 'files/doc_7852.tsv', 'files/doc_7883.tsv', 'files/doc_7886.tsv', 'files/doc_7912.tsv', 'files/doc_7915.tsv', 'files/doc_7933.tsv', 'files/doc_7937.tsv', 'files/doc_7938.tsv', 'files/doc_7938.tsv', 'files/doc_7973.tsv', 'files/doc_7973.tsv', 'files/doc_7979.tsv', 'files/doc_7995.tsv', 'files/doc_8004.tsv', 'files/doc_8007.tsv', 'files/doc_8007.tsv', 'files/doc_8010.tsv', 'files/doc_8017.tsv', 'files/doc_8020.tsv', 'files/doc_8021.tsv', 'files/doc_8024.tsv', 'files/doc_8024.tsv', 'files/doc_8039.tsv', 'files/doc_8057.tsv', 'files/doc_8057.tsv', 'files/doc_8059.tsv', 'files/doc_8067.tsv', 'files/doc_8074.tsv', 'files/doc_8074.tsv', 'files/doc_8078.tsv', 'files/doc_8085.tsv', 'files/doc_8101.tsv', 'files/doc_8129.tsv', 'files/doc_8136.tsv', 'files/doc_8136.tsv', 'files/doc_8140.tsv', 'files/doc_8140.tsv', 'files/doc_8143.tsv', 'files/doc_8145.tsv', 'files/doc_8157.tsv', 'files/doc_8160.tsv', 'files/doc_8162.tsv', 'files/doc_8174.tsv', 'files/doc_8175.tsv', 'files/doc_8177.tsv', 'files/doc_8186.tsv', 'files/doc_8199.tsv', 'files/doc_8214.tsv', 'files/doc_8227.tsv', 'files/doc_8230.tsv', 'files/doc_8234.tsv', 'files/doc_8235.tsv', 'files/doc_8240.tsv', 'files/doc_8240.tsv', 'files/doc_8241.tsv', 'files/doc_8254.tsv', 'files/doc_8257.tsv', 'files/doc_8263.tsv', 'files/doc_8264.tsv', 'files/doc_8286.tsv', 'files/doc_8289.tsv', 'files/doc_8339.tsv', 'files/doc_8342.tsv', 'files/doc_8342.tsv', 'files/doc_8344.tsv', 'files/doc_8347.tsv', 'files/doc_8348.tsv', 'files/doc_8357.tsv', 'files/doc_8358.tsv', 'files/doc_8373.tsv', 'files/doc_8390.tsv', 'files/doc_8432.tsv', 'files/doc_8436.tsv', 'files/doc_8437.tsv', 'files/doc_8461.tsv', 'files/doc_8468.tsv', 'files/doc_8470.tsv', 'files/doc_8477.tsv', 'files/doc_8483.tsv', 'files/doc_8506.tsv', 'files/doc_8506.tsv', 'files/doc_8508.tsv', 'files/doc_8515.tsv', 'files/doc_8515.tsv', 'files/doc_8517.tsv', 'files/doc_8522.tsv', 'files/doc_8526.tsv', 'files/doc_8528.tsv', 'files/doc_8528.tsv', 'files/doc_8557.tsv', 'files/doc_8563.tsv', 'files/doc_8566.tsv', 'files/doc_8570.tsv', 'files/doc_8576.tsv', 'files/doc_8577.tsv', 'files/doc_8580.tsv', 'files/doc_8582.tsv', 'files/doc_8583.tsv', 'files/doc_8585.tsv', 'files/doc_8594.tsv', 'files/doc_8602.tsv', 'files/doc_8604.tsv', 'files/doc_8604.tsv', 'files/doc_8613.tsv', 'files/doc_8626.tsv', 'files/doc_8671.tsv', 'files/doc_8676.tsv', 'files/doc_8699.tsv', 'files/doc_8701.tsv', 'files/doc_8709.tsv', 'files/doc_8752.tsv', 'files/doc_8766.tsv', 'files/doc_8777.tsv', 'files/doc_8780.tsv', 'files/doc_8782.tsv', 'files/doc_8791.tsv', 'files/doc_8793.tsv', 'files/doc_8812.tsv', 'files/doc_8813.tsv', 'files/doc_8816.tsv', 'files/doc_8823.tsv', 'files/doc_8827.tsv', 'files/doc_8831.tsv', 'files/doc_8845.tsv', 'files/doc_8846.tsv', 'files/doc_8851.tsv', 'files/doc_8854.tsv', 'files/doc_8855.tsv', 'files/doc_8870.tsv', 'files/doc_8920.tsv', 'files/doc_8955.tsv', 'files/doc_8961.tsv', 'files/doc_8962.tsv', 'files/doc_8962.tsv', 'files/doc_8962.tsv', 'files/doc_8962.tsv', 'files/doc_8962.tsv', 'files/doc_8968.tsv', 'files/doc_8975.tsv', 'files/doc_8980.tsv', 'files/doc_8982.tsv', 'files/doc_8983.tsv', 'files/doc_8991.tsv', 'files/doc_9013.tsv', 'files/doc_9016.tsv', 'files/doc_9023.tsv', 'files/doc_9026.tsv', 'files/doc_9026.tsv', 'files/doc_9037.tsv', 'files/doc_9058.tsv', 'files/doc_9058.tsv', 'files/doc_9074.tsv', 'files/doc_9083.tsv', 'files/doc_9083.tsv', 'files/doc_9092.tsv', 'files/doc_9100.tsv', 'files/doc_9115.tsv', 'files/doc_9117.tsv', 'files/doc_9119.tsv', 'files/doc_9123.tsv', 'files/doc_9124.tsv', 'files/doc_9124.tsv', 'files/doc_9150.tsv', 'files/doc_9153.tsv', 'files/doc_9164.tsv', 'files/doc_9172.tsv', 'files/doc_9188.tsv', 'files/doc_9189.tsv', 'files/doc_9191.tsv', 'files/doc_9200.tsv', 'files/doc_9203.tsv', 'files/doc_9206.tsv', 'files/doc_9216.tsv', 'files/doc_9235.tsv', 'files/doc_9240.tsv', 'files/doc_9252.tsv', 'files/doc_9260.tsv', 'files/doc_9260.tsv', 'files/doc_9261.tsv', 'files/doc_9270.tsv', 'files/doc_9277.tsv', 'files/doc_9287.tsv', 'files/doc_9310.tsv', 'files/doc_9318.tsv', 'files/doc_9318.tsv', 'files/doc_9324.tsv', 'files/doc_9325.tsv', 'files/doc_9328.tsv', 'files/doc_9330.tsv', 'files/doc_9339.tsv', 'files/doc_9344.tsv', 'files/doc_9361.tsv', 'files/doc_9374.tsv', 'files/doc_9380.tsv', 'files/doc_9387.tsv', 'files/doc_9428.tsv', 'files/doc_9444.tsv', 'files/doc_9448.tsv', 'files/doc_9466.tsv', 'files/doc_9476.tsv', 'files/doc_9481.tsv', 'files/doc_9481.tsv', 'files/doc_9482.tsv', 'files/doc_9483.tsv', 'files/doc_9483.tsv', 'files/doc_9486.tsv', 'files/doc_9501.tsv', 'files/doc_9526.tsv', 'files/doc_9531.tsv', 'files/doc_9542.tsv', 'files/doc_9555.tsv', 'files/doc_9557.tsv', 'files/doc_9566.tsv', 'files/doc_9574.tsv', 'files/doc_9586.tsv', 'files/doc_9589.tsv', 'files/doc_9608.tsv', 'files/doc_9614.tsv', 'files/doc_9623.tsv', 'files/doc_9633.tsv', 'files/doc_9633.tsv', 'files/doc_9642.tsv', 'files/doc_9642.tsv', 'files/doc_9643.tsv', 'files/doc_9652.tsv', 'files/doc_9659.tsv', 'files/doc_9665.tsv', 'files/doc_9677.tsv', 'files/doc_9682.tsv', 'files/doc_9689.tsv', 'files/doc_9697.tsv', 'files/doc_9709.tsv', 'files/doc_9747.tsv', 'files/doc_9748.tsv', 'files/doc_9749.tsv', 'files/doc_9751.tsv', 'files/doc_9753.tsv', 'files/doc_9767.tsv', 'files/doc_9770.tsv', 'files/doc_9774.tsv', 'files/doc_9774.tsv', 'files/doc_9776.tsv', 'files/doc_9789.tsv', 'files/doc_9789.tsv', 'files/doc_9805.tsv', 'files/doc_9820.tsv', 'files/doc_9828.tsv', 'files/doc_9831.tsv', 'files/doc_9838.tsv', 'files/doc_9844.tsv', 'files/doc_9854.tsv', 'files/doc_9856.tsv', 'files/doc_9865.tsv', 'files/doc_9867.tsv', 'files/doc_9867.tsv', 'files/doc_9872.tsv', 'files/doc_9906.tsv', 'files/doc_9919.tsv', 'files/doc_9937.tsv', 'files/doc_9948.tsv', 'files/doc_9949.tsv', 'files/doc_9956.tsv', 'files/doc_9960.tsv', 'files/doc_9967.tsv', 'files/doc_9973.tsv', 'files/doc_9986.tsv', 'files/doc_9988.tsv', 'files/doc_9988.tsv', 'files/doc_9998.tsv', 'files/doc_10001.tsv', 'files/doc_10010.tsv', 'files/doc_10013.tsv', 'files/doc_10015.tsv', 'files/doc_10017.tsv', 'files/doc_10019.tsv', 'files/doc_10020.tsv', 'files/doc_10034.tsv', 'files/doc_10046.tsv', 'files/doc_10047.tsv', 'files/doc_10053.tsv', 'files/doc_10063.tsv', 'files/doc_10064.tsv', 'files/doc_10075.tsv', 'files/doc_10077.tsv', 'files/doc_10083.tsv', 'files/doc_10090.tsv', 'files/doc_10102.tsv', 'files/doc_10103.tsv', 'files/doc_10108.tsv', 'files/doc_10113.tsv', 'files/doc_10114.tsv', 'files/doc_10115.tsv', 'files/doc_10121.tsv', 'files/doc_10133.tsv', 'files/doc_10142.tsv', 'files/doc_10164.tsv', 'files/doc_10186.tsv', 'files/doc_10187.tsv', 'files/doc_10193.tsv', 'files/doc_10201.tsv', 'files/doc_10219.tsv', 'files/doc_10223.tsv', 'files/doc_10245.tsv', 'files/doc_10254.tsv', 'files/doc_10287.tsv', 'files/doc_10290.tsv', 'files/doc_10297.tsv', 'files/doc_10306.tsv', 'files/doc_10311.tsv', 'files/doc_10318.tsv', 'files/doc_10321.tsv', 'files/doc_10326.tsv', 'files/doc_10331.tsv', 'files/doc_10343.tsv', 'files/doc_10346.tsv', 'files/doc_10350.tsv', 'files/doc_10354.tsv', 'files/doc_10388.tsv', 'files/doc_10406.tsv', 'files/doc_10406.tsv', 'files/doc_10426.tsv', 'files/doc_10427.tsv', 'files/doc_10427.tsv', 'files/doc_10430.tsv', 'files/doc_10436.tsv', 'files/doc_10469.tsv', 'files/doc_10489.tsv', 'files/doc_10498.tsv', 'files/doc_10498.tsv', 'files/doc_10515.tsv', 'files/doc_10516.tsv', 'files/doc_10526.tsv', 'files/doc_10542.tsv', 'files/doc_10545.tsv', 'files/doc_10547.tsv', 'files/doc_10550.tsv', 'files/doc_10592.tsv', 'files/doc_10598.tsv', 'files/doc_10602.tsv', 'files/doc_10607.tsv', 'files/doc_10614.tsv', 'files/doc_10620.tsv', 'files/doc_10621.tsv', 'files/doc_10632.tsv', 'files/doc_10642.tsv', 'files/doc_10651.tsv', 'files/doc_10655.tsv', 'files/doc_10673.tsv', 'files/doc_10697.tsv', 'files/doc_10700.tsv', 'files/doc_10700.tsv', 'files/doc_10713.tsv', 'files/doc_10713.tsv', 'files/doc_10717.tsv', 'files/doc_10721.tsv', 'files/doc_10737.tsv', 'files/doc_10741.tsv', 'files/doc_10751.tsv', 'files/doc_10752.tsv', 'files/doc_10756.tsv', 'files/doc_10766.tsv', 'files/doc_10769.tsv', 'files/doc_10769.tsv', 'files/doc_10782.tsv', 'files/doc_10786.tsv', 'files/doc_10802.tsv', 'files/doc_10820.tsv', 'files/doc_10821.tsv', 'files/doc_10823.tsv', 'files/doc_10843.tsv', 'files/doc_10849.tsv', 'files/doc_10856.tsv', 'files/doc_10867.tsv', 'files/doc_10883.tsv', 'files/doc_10885.tsv', 'files/doc_10888.tsv', 'files/doc_10898.tsv', 'files/doc_10898.tsv', 'files/doc_10913.tsv', 'files/doc_10922.tsv', 'files/doc_10931.tsv', 'files/doc_10956.tsv', 'files/doc_10956.tsv', 'files/doc_10978.tsv', 'files/doc_11009.tsv', 'files/doc_11027.tsv', 'files/doc_11056.tsv', 'files/doc_11060.tsv', 'files/doc_11065.tsv', 'files/doc_11067.tsv', 'files/doc_11069.tsv', 'files/doc_11076.tsv', 'files/doc_11080.tsv', 'files/doc_11084.tsv', 'files/doc_11092.tsv', 'files/doc_11097.tsv', 'files/doc_11099.tsv', 'files/doc_11101.tsv', 'files/doc_11103.tsv', 'files/doc_11103.tsv', 'files/doc_11103.tsv', 'files/doc_11114.tsv', 'files/doc_11114.tsv', 'files/doc_11116.tsv', 'files/doc_11117.tsv', 'files/doc_11120.tsv', 'files/doc_11120.tsv', 'files/doc_11130.tsv', 'files/doc_11136.tsv', 'files/doc_11145.tsv', 'files/doc_11153.tsv', 'files/doc_11153.tsv', 'files/doc_11161.tsv', 'files/doc_11165.tsv', 'files/doc_11172.tsv', 'files/doc_11195.tsv', 'files/doc_11204.tsv', 'files/doc_11210.tsv', 'files/doc_11227.tsv', 'files/doc_11230.tsv', 'files/doc_11231.tsv', 'files/doc_11231.tsv', 'files/doc_11252.tsv', 'files/doc_11257.tsv', 'files/doc_11257.tsv', 'files/doc_11265.tsv', 'files/doc_11268.tsv', 'files/doc_11278.tsv', 'files/doc_11279.tsv', 'files/doc_11288.tsv', 'files/doc_11291.tsv', 'files/doc_11296.tsv', 'files/doc_11308.tsv', 'files/doc_11308.tsv', 'files/doc_11310.tsv', 'files/doc_11315.tsv', 'files/doc_11315.tsv', 'files/doc_11323.tsv', 'files/doc_11340.tsv', 'files/doc_11340.tsv', 'files/doc_11354.tsv', 'files/doc_11355.tsv', 'files/doc_11356.tsv', 'files/doc_11357.tsv', 'files/doc_11368.tsv', 'files/doc_11368.tsv', 'files/doc_11385.tsv', 'files/doc_11404.tsv', 'files/doc_11408.tsv', 'files/doc_11433.tsv', 'files/doc_11451.tsv', 'files/doc_11458.tsv', 'files/doc_11459.tsv', 'files/doc_11459.tsv', 'files/doc_11462.tsv', 'files/doc_11463.tsv', 'files/doc_11476.tsv', 'files/doc_11484.tsv', 'files/doc_11491.tsv', 'files/doc_11492.tsv', 'files/doc_11497.tsv', 'files/doc_11502.tsv', 'files/doc_11503.tsv', 'files/doc_11508.tsv', 'files/doc_11533.tsv', 'files/doc_11540.tsv', 'files/doc_11551.tsv', 'files/doc_11556.tsv', 'files/doc_11563.tsv', 'files/doc_11582.tsv', 'files/doc_11588.tsv', 'files/doc_11607.tsv', 'files/doc_11610.tsv', 'files/doc_11613.tsv', 'files/doc_11613.tsv', 'files/doc_11620.tsv', 'files/doc_11621.tsv', 'files/doc_11625.tsv', 'files/doc_11628.tsv', 'files/doc_11629.tsv', 'files/doc_11634.tsv', 'files/doc_11638.tsv', 'files/doc_11640.tsv', 'files/doc_11681.tsv', 'files/doc_11685.tsv', 'files/doc_11692.tsv', 'files/doc_11702.tsv', 'files/doc_11709.tsv', 'files/doc_11710.tsv', 'files/doc_11715.tsv', 'files/doc_11722.tsv', 'files/doc_11737.tsv', 'files/doc_11738.tsv', 'files/doc_11739.tsv', 'files/doc_11749.tsv', 'files/doc_11749.tsv', 'files/doc_11759.tsv', 'files/doc_11759.tsv', 'files/doc_11788.tsv', 'files/doc_11794.tsv', 'files/doc_11796.tsv', 'files/doc_11796.tsv', 'files/doc_11801.tsv', 'files/doc_11801.tsv', 'files/doc_11804.tsv', 'files/doc_11809.tsv', 'files/doc_11822.tsv', 'files/doc_11824.tsv', 'files/doc_11826.tsv', 'files/doc_11826.tsv', 'files/doc_11836.tsv', 'files/doc_11837.tsv', 'files/doc_11875.tsv', 'files/doc_11889.tsv', 'files/doc_11913.tsv', 'files/doc_11914.tsv', 'files/doc_11940.tsv', 'files/doc_11960.tsv', 'files/doc_11980.tsv', 'files/doc_11980.tsv', 'files/doc_11994.tsv', 'files/doc_11997.tsv', 'files/doc_11997.tsv', 'files/doc_12017.tsv', 'files/doc_12023.tsv', 'files/doc_12042.tsv', 'files/doc_12042.tsv', 'files/doc_12053.tsv', 'files/doc_12063.tsv', 'files/doc_12063.tsv', 'files/doc_12064.tsv', 'files/doc_12066.tsv', 'files/doc_12067.tsv', 'files/doc_12082.tsv', 'files/doc_12096.tsv', 'files/doc_12103.tsv', 'files/doc_12103.tsv', 'files/doc_12111.tsv', 'files/doc_12140.tsv', 'files/doc_12140.tsv', 'files/doc_12149.tsv', 'files/doc_12169.tsv', 'files/doc_12184.tsv', 'files/doc_12184.tsv', 'files/doc_12198.tsv', 'files/doc_12220.tsv', 'files/doc_12222.tsv', 'files/doc_12225.tsv', 'files/doc_12253.tsv', 'files/doc_12256.tsv', 'files/doc_12261.tsv', 'files/doc_12261.tsv', 'files/doc_12264.tsv', 'files/doc_12275.tsv', 'files/doc_12278.tsv', 'files/doc_12280.tsv', 'files/doc_12287.tsv', 'files/doc_12318.tsv', 'files/doc_12319.tsv', 'files/doc_12321.tsv', 'files/doc_12326.tsv', 'files/doc_12343.tsv', 'files/doc_12373.tsv', 'files/doc_12374.tsv', 'files/doc_12376.tsv', 'files/doc_12388.tsv', 'files/doc_12401.tsv', 'files/doc_12405.tsv', 'files/doc_12410.tsv', 'files/doc_12418.tsv', 'files/doc_12418.tsv', 'files/doc_12444.tsv', 'files/doc_12444.tsv', 'files/doc_12447.tsv', 'files/doc_12461.tsv', 'files/doc_12474.tsv', 'files/doc_12479.tsv', 'files/doc_12500.tsv', 'files/doc_12502.tsv', 'files/doc_12510.tsv', 'files/doc_12511.tsv', 'files/doc_12511.tsv', 'files/doc_12545.tsv', 'files/doc_12561.tsv', 'files/doc_12565.tsv', 'files/doc_12568.tsv', 'files/doc_12578.tsv', 'files/doc_12593.tsv', 'files/doc_12605.tsv', 'files/doc_12613.tsv', 'files/doc_12613.tsv', 'files/doc_12619.tsv', 'files/doc_12634.tsv', 'files/doc_12644.tsv', 'files/doc_12647.tsv', 'files/doc_12647.tsv', 'files/doc_12647.tsv', 'files/doc_12651.tsv', 'files/doc_12651.tsv', 'files/doc_12656.tsv', 'files/doc_12658.tsv', 'files/doc_12660.tsv', 'files/doc_12687.tsv', 'files/doc_12699.tsv', 'files/doc_12702.tsv', 'files/doc_12703.tsv', 'files/doc_12708.tsv', 'files/doc_12721.tsv', 'files/doc_12722.tsv', 'files/doc_12738.tsv', 'files/doc_12753.tsv', 'files/doc_12765.tsv', 'files/doc_12774.tsv', 'files/doc_12776.tsv', 'files/doc_12778.tsv', 'files/doc_12788.tsv', 'files/doc_12800.tsv', 'files/doc_12803.tsv', 'files/doc_12815.tsv', 'files/doc_12838.tsv', 'files/doc_12845.tsv', 'files/doc_12849.tsv', 'files/doc_12853.tsv', 'files/doc_12868.tsv', 'files/doc_12883.tsv', 'files/doc_12888.tsv', 'files/doc_12893.tsv', 'files/doc_12905.tsv', 'files/doc_12935.tsv', 'files/doc_12937.tsv', 'files/doc_12942.tsv', 'files/doc_12953.tsv', 'files/doc_12960.tsv', 'files/doc_12965.tsv', 'files/doc_12972.tsv', 'files/doc_12974.tsv', 'files/doc_12974.tsv', 'files/doc_12986.tsv', 'files/doc_12986.tsv', 'files/doc_13007.tsv', 'files/doc_13012.tsv', 'files/doc_13015.tsv', 'files/doc_13044.tsv', 'files/doc_13046.tsv', 'files/doc_13058.tsv', 'files/doc_13058.tsv', 'files/doc_13059.tsv', 'files/doc_13071.tsv', 'files/doc_13076.tsv', 'files/doc_13081.tsv', 'files/doc_13081.tsv', 'files/doc_13084.tsv', 'files/doc_13086.tsv', 'files/doc_13099.tsv', 'files/doc_13102.tsv', 'files/doc_13107.tsv', 'files/doc_13112.tsv', 'files/doc_13143.tsv', 'files/doc_13171.tsv', 'files/doc_13175.tsv', 'files/doc_13177.tsv', 'files/doc_13185.tsv', 'files/doc_13199.tsv', 'files/doc_13216.tsv', 'files/doc_13225.tsv', 'files/doc_13239.tsv', 'files/doc_13247.tsv', 'files/doc_13255.tsv', 'files/doc_13256.tsv', 'files/doc_13257.tsv', 'files/doc_13258.tsv', 'files/doc_13264.tsv', 'files/doc_13269.tsv', 'files/doc_13270.tsv', 'files/doc_13271.tsv', 'files/doc_13277.tsv', 'files/doc_13277.tsv', 'files/doc_13278.tsv', 'files/doc_13280.tsv', 'files/doc_13285.tsv', 'files/doc_13287.tsv', 'files/doc_13288.tsv', 'files/doc_13288.tsv', 'files/doc_13315.tsv', 'files/doc_13324.tsv', 'files/doc_13327.tsv', 'files/doc_13336.tsv', 'files/doc_13336.tsv', 'files/doc_13350.tsv', 'files/doc_13357.tsv', 'files/doc_13384.tsv', 'files/doc_13387.tsv', 'files/doc_13388.tsv', 'files/doc_13392.tsv', 'files/doc_13403.tsv', 'files/doc_13414.tsv', 'files/doc_13417.tsv', 'files/doc_13430.tsv', 'files/doc_13431.tsv', 'files/doc_13441.tsv', 'files/doc_13469.tsv', 'files/doc_13469.tsv', 'files/doc_13477.tsv', 'files/doc_13484.tsv', 'files/doc_13484.tsv', 'files/doc_13499.tsv', 'files/doc_13516.tsv', 'files/doc_13520.tsv', 'files/doc_13525.tsv', 'files/doc_13531.tsv', 'files/doc_13541.tsv', 'files/doc_13541.tsv', 'files/doc_13545.tsv', 'files/doc_13564.tsv', 'files/doc_13576.tsv', 'files/doc_13584.tsv', 'files/doc_13585.tsv', 'files/doc_13591.tsv', 'files/doc_13606.tsv', 'files/doc_13629.tsv', 'files/doc_13630.tsv', 'files/doc_13634.tsv', 'files/doc_13648.tsv', 'files/doc_13653.tsv', 'files/doc_13661.tsv', 'files/doc_13662.tsv', 'files/doc_13678.tsv', 'files/doc_13687.tsv', 'files/doc_13687.tsv', 'files/doc_13692.tsv', 'files/doc_13700.tsv', 'files/doc_13728.tsv', 'files/doc_13731.tsv', 'files/doc_13732.tsv', 'files/doc_13734.tsv', 'files/doc_13744.tsv', 'files/doc_13798.tsv', 'files/doc_13802.tsv', 'files/doc_13815.tsv', 'files/doc_13816.tsv', 'files/doc_13818.tsv', 'files/doc_13820.tsv', 'files/doc_13820.tsv', 'files/doc_13822.tsv', 'files/doc_13825.tsv', 'files/doc_13827.tsv', 'files/doc_13855.tsv', 'files/doc_13855.tsv', 'files/doc_13859.tsv', 'files/doc_13860.tsv', 'files/doc_13860.tsv', 'files/doc_13866.tsv', 'files/doc_13871.tsv', 'files/doc_13875.tsv', 'files/doc_13875.tsv', 'files/doc_13906.tsv', 'files/doc_13906.tsv', 'files/doc_13944.tsv', 'files/doc_13950.tsv', 'files/doc_13952.tsv', 'files/doc_13955.tsv', 'files/doc_13955.tsv', 'files/doc_13960.tsv', 'files/doc_13961.tsv', 'files/doc_13962.tsv', 'files/doc_13971.tsv', 'files/doc_13975.tsv', 'files/doc_13975.tsv', 'files/doc_13985.tsv', 'files/doc_13987.tsv', 'files/doc_13989.tsv', 'files/doc_14021.tsv', 'files/doc_14036.tsv', 'files/doc_14040.tsv', 'files/doc_14043.tsv', 'files/doc_14071.tsv', 'files/doc_14079.tsv', 'files/doc_14086.tsv', 'files/doc_14086.tsv', 'files/doc_14089.tsv', 'files/doc_14097.tsv', 'files/doc_14109.tsv', 'files/doc_14132.tsv', 'files/doc_14149.tsv', 'files/doc_14161.tsv', 'files/doc_14162.tsv', 'files/doc_14182.tsv', 'files/doc_14189.tsv', 'files/doc_14214.tsv', 'files/doc_14222.tsv', 'files/doc_14222.tsv', 'files/doc_14232.tsv', 'files/doc_14237.tsv', 'files/doc_14269.tsv', 'files/doc_14291.tsv', 'files/doc_14301.tsv', 'files/doc_14306.tsv', 'files/doc_14327.tsv', 'files/doc_14331.tsv', 'files/doc_14335.tsv', 'files/doc_14347.tsv', 'files/doc_14347.tsv', 'files/doc_14360.tsv', 'files/doc_14367.tsv', 'files/doc_14369.tsv', 'files/doc_14387.tsv', 'files/doc_14424.tsv', 'files/doc_14424.tsv', 'files/doc_14430.tsv', 'files/doc_14430.tsv', 'files/doc_14447.tsv', 'files/doc_14447.tsv', 'files/doc_14452.tsv', 'files/doc_14456.tsv', 'files/doc_14457.tsv', 'files/doc_14466.tsv', 'files/doc_14467.tsv', 'files/doc_14473.tsv', 'files/doc_14488.tsv', 'files/doc_14492.tsv', 'files/doc_14496.tsv', 'files/doc_14509.tsv', 'files/doc_14512.tsv', 'files/doc_14519.tsv', 'files/doc_14526.tsv', 'files/doc_14529.tsv', 'files/doc_14538.tsv', 'files/doc_14547.tsv', 'files/doc_14552.tsv', 'files/doc_14561.tsv', 'files/doc_14572.tsv', 'files/doc_14573.tsv', 'files/doc_14574.tsv', 'files/doc_14599.tsv', 'files/doc_14609.tsv', 'files/doc_14618.tsv', 'files/doc_14618.tsv', 'files/doc_14618.tsv', 'files/doc_14631.tsv', 'files/doc_14648.tsv', 'files/doc_14653.tsv', 'files/doc_14657.tsv', 'files/doc_14662.tsv', 'files/doc_14667.tsv', 'files/doc_14674.tsv', 'files/doc_14677.tsv', 'files/doc_14679.tsv', 'files/doc_14696.tsv', 'files/doc_14705.tsv', 'files/doc_14710.tsv', 'files/doc_14730.tsv', 'files/doc_14736.tsv', 'files/doc_14741.tsv', 'files/doc_14742.tsv', 'files/doc_14756.tsv', 'files/doc_14767.tsv', 'files/doc_14772.tsv', 'files/doc_14778.tsv', 'files/doc_14788.tsv', 'files/doc_14802.tsv', 'files/doc_14802.tsv', 'files/doc_14842.tsv', 'files/doc_14844.tsv', 'files/doc_14844.tsv', 'files/doc_14853.tsv', 'files/doc_14865.tsv', 'files/doc_14873.tsv', 'files/doc_14875.tsv', 'files/doc_14877.tsv', 'files/doc_14881.tsv', 'files/doc_14894.tsv', 'files/doc_14894.tsv', 'files/doc_14908.tsv', 'files/doc_14932.tsv', 'files/doc_14968.tsv', 'files/doc_14978.tsv', 'files/doc_14988.tsv', 'files/doc_14995.tsv', 'files/doc_14995.tsv', 'files/doc_14997.tsv', 'files/doc_15010.tsv', 'files/doc_15016.tsv', 'files/doc_15023.tsv', 'files/doc_15023.tsv', 'files/doc_15023.tsv', 'files/doc_15025.tsv', 'files/doc_15025.tsv', 'files/doc_15031.tsv', 'files/doc_15048.tsv', 'files/doc_15064.tsv', 'files/doc_15065.tsv', 'files/doc_15078.tsv', 'files/doc_15087.tsv', 'files/doc_15090.tsv', 'files/doc_15096.tsv', 'files/doc_15102.tsv', 'files/doc_15110.tsv', 'files/doc_15112.tsv', 'files/doc_15126.tsv', 'files/doc_15136.tsv', 'files/doc_15157.tsv', 'files/doc_15164.tsv', 'files/doc_15171.tsv', 'files/doc_15173.tsv', 'files/doc_15188.tsv', 'files/doc_15200.tsv', 'files/doc_15206.tsv', 'files/doc_15209.tsv', 'files/doc_15232.tsv', 'files/doc_15242.tsv', 'files/doc_15243.tsv', 'files/doc_15243.tsv', 'files/doc_15250.tsv', 'files/doc_15252.tsv', 'files/doc_15253.tsv', 'files/doc_15293.tsv', 'files/doc_15307.tsv', 'files/doc_15309.tsv', 'files/doc_15311.tsv', 'files/doc_15313.tsv', 'files/doc_15313.tsv', 'files/doc_15314.tsv', 'files/doc_15329.tsv', 'files/doc_15330.tsv', 'files/doc_15330.tsv', 'files/doc_15333.tsv', 'files/doc_15349.tsv', 'files/doc_15349.tsv', 'files/doc_15354.tsv', 'files/doc_15356.tsv', 'files/doc_15360.tsv', 'files/doc_15360.tsv', 'files/doc_15366.tsv', 'files/doc_15367.tsv', 'files/doc_15391.tsv', 'files/doc_15391.tsv', 'files/doc_15402.tsv', 'files/doc_15403.tsv', 'files/doc_15420.tsv', 'files/doc_15424.tsv', 'files/doc_15438.tsv', 'files/doc_15438.tsv', 'files/doc_15446.tsv', 'files/doc_15448.tsv', 'files/doc_15454.tsv', 'files/doc_15454.tsv', 'files/doc_15460.tsv', 'files/doc_15480.tsv', 'files/doc_15486.tsv', 'files/doc_15489.tsv', 'files/doc_15498.tsv', 'files/doc_15503.tsv', 'files/doc_15503.tsv', 'files/doc_15509.tsv', 'files/doc_15512.tsv', 'files/doc_15515.tsv', 'files/doc_15536.tsv', 'files/doc_15536.tsv', 'files/doc_15539.tsv', 'files/doc_15539.tsv', 'files/doc_15556.tsv', 'files/doc_15558.tsv', 'files/doc_15566.tsv', 'files/doc_15580.tsv', 'files/doc_15593.tsv', 'files/doc_15596.tsv', 'files/doc_15598.tsv', 'files/doc_15630.tsv', 'files/doc_15632.tsv', 'files/doc_15640.tsv', 'files/doc_15646.tsv', 'files/doc_15657.tsv', 'files/doc_15657.tsv', 'files/doc_15659.tsv', 'files/doc_15665.tsv', 'files/doc_15672.tsv', 'files/doc_15674.tsv', 'files/doc_15684.tsv', 'files/doc_15691.tsv', 'files/doc_15694.tsv', 'files/doc_15699.tsv', 'files/doc_15708.tsv', 'files/doc_15723.tsv', 'files/doc_15727.tsv', 'files/doc_15728.tsv', 'files/doc_15736.tsv', 'files/doc_15744.tsv', 'files/doc_15747.tsv', 'files/doc_15749.tsv', 'files/doc_15769.tsv', 'files/doc_15774.tsv', 'files/doc_15779.tsv', 'files/doc_15780.tsv', 'files/doc_15801.tsv', 'files/doc_15801.tsv', 'files/doc_15801.tsv', 'files/doc_15810.tsv', 'files/doc_15829.tsv', 'files/doc_15847.tsv', 'files/doc_15863.tsv', 'files/doc_15883.tsv', 'files/doc_15895.tsv', 'files/doc_15907.tsv', 'files/doc_15917.tsv', 'files/doc_15918.tsv', 'files/doc_15919.tsv', 'files/doc_15920.tsv', 'files/doc_15920.tsv', 'files/doc_15955.tsv', 'files/doc_15965.tsv', 'files/doc_15967.tsv', 'files/doc_15968.tsv', 'files/doc_15969.tsv', 'files/doc_15969.tsv', 'files/doc_15970.tsv', 'files/doc_15996.tsv', 'files/doc_15996.tsv', 'files/doc_16001.tsv', 'files/doc_16015.tsv', 'files/doc_16033.tsv', 'files/doc_16035.tsv', 'files/doc_16038.tsv', 'files/doc_16040.tsv', 'files/doc_16054.tsv', 'files/doc_16056.tsv', 'files/doc_16063.tsv', 'files/doc_16068.tsv', 'files/doc_16070.tsv', 'files/doc_16077.tsv', 'files/doc_16080.tsv', 'files/doc_16087.tsv', 'files/doc_16092.tsv', 'files/doc_16099.tsv', 'files/doc_16109.tsv', 'files/doc_16109.tsv', 'files/doc_16112.tsv', 'files/doc_16125.tsv', 'files/doc_16171.tsv', 'files/doc_16181.tsv', 'files/doc_16190.tsv', 'files/doc_16198.tsv', 'files/doc_16200.tsv', 'files/doc_16209.tsv', 'files/doc_16210.tsv', 'files/doc_16227.tsv', 'files/doc_16244.tsv', 'files/doc_16266.tsv', 'files/doc_16277.tsv', 'files/doc_16296.tsv', 'files/doc_16298.tsv', 'files/doc_16300.tsv', 'files/doc_16311.tsv', 'files/doc_16319.tsv', 'files/doc_16328.tsv', 'files/doc_16349.tsv', 'files/doc_16350.tsv', 'files/doc_16352.tsv', 'files/doc_16384.tsv', 'files/doc_16390.tsv', 'files/doc_16391.tsv', 'files/doc_16402.tsv', 'files/doc_16403.tsv', 'files/doc_16416.tsv', 'files/doc_16430.tsv', 'files/doc_16430.tsv', 'files/doc_16431.tsv', 'files/doc_16433.tsv', 'files/doc_16457.tsv', 'files/doc_16460.tsv', 'files/doc_16506.tsv', 'files/doc_16518.tsv', 'files/doc_16523.tsv', 'files/doc_16527.tsv', 'files/doc_16557.tsv', 'files/doc_16557.tsv', 'files/doc_16565.tsv', 'files/doc_16567.tsv', 'files/doc_16568.tsv', 'files/doc_16572.tsv', 'files/doc_16576.tsv', 'files/doc_16577.tsv', 'files/doc_16577.tsv', 'files/doc_16581.tsv', 'files/doc_16609.tsv', 'files/doc_16612.tsv', 'files/doc_16619.tsv', 'files/doc_16623.tsv', 'files/doc_16635.tsv', 'files/doc_16640.tsv', 'files/doc_16640.tsv', 'files/doc_16650.tsv', 'files/doc_16650.tsv', 'files/doc_16683.tsv', 'files/doc_16685.tsv', 'files/doc_16688.tsv', 'files/doc_16688.tsv', 'files/doc_16704.tsv', 'files/doc_16714.tsv', 'files/doc_16720.tsv', 'files/doc_16726.tsv', 'files/doc_16735.tsv', 'files/doc_16735.tsv', 'files/doc_16741.tsv', 'files/doc_16750.tsv', 'files/doc_16756.tsv', 'files/doc_16756.tsv', 'files/doc_16762.tsv', 'files/doc_16763.tsv', 'files/doc_16766.tsv', 'files/doc_16766.tsv', 'files/doc_16785.tsv', 'files/doc_16786.tsv', 'files/doc_16787.tsv', 'files/doc_16789.tsv', 'files/doc_16809.tsv', 'files/doc_16812.tsv', 'files/doc_16818.tsv', 'files/doc_16826.tsv', 'files/doc_16834.tsv', 'files/doc_16836.tsv', 'files/doc_16843.tsv', 'files/doc_16853.tsv', 'files/doc_16853.tsv', 'files/doc_16853.tsv', 'files/doc_16857.tsv', 'files/doc_16876.tsv', 'files/doc_16877.tsv', 'files/doc_16879.tsv', 'files/doc_16890.tsv', 'files/doc_16897.tsv', 'files/doc_16919.tsv', 'files/doc_16931.tsv', 'files/doc_16934.tsv', 'files/doc_16934.tsv', 'files/doc_16943.tsv', 'files/doc_16956.tsv', 'files/doc_16961.tsv', 'files/doc_16964.tsv', 'files/doc_16971.tsv', 'files/doc_16981.tsv', 'files/doc_16999.tsv', 'files/doc_17007.tsv', 'files/doc_17021.tsv', 'files/doc_17040.tsv', 'files/doc_17043.tsv', 'files/doc_17050.tsv', 'files/doc_17057.tsv', 'files/doc_17058.tsv', 'files/doc_17059.tsv', 'files/doc_17059.tsv', 'files/doc_17074.tsv', 'files/doc_17082.tsv', 'files/doc_17084.tsv', 'files/doc_17108.tsv', 'files/doc_17108.tsv', 'files/doc_17110.tsv', 'files/doc_17124.tsv', 'files/doc_17131.tsv', 'files/doc_17136.tsv', 'files/doc_17141.tsv', 'files/doc_17160.tsv', 'files/doc_17160.tsv', 'files/doc_17199.tsv', 'files/doc_17200.tsv', 'files/doc_17200.tsv', 'files/doc_17204.tsv', 'files/doc_17232.tsv', 'files/doc_17238.tsv', 'files/doc_17242.tsv', 'files/doc_17251.tsv', 'files/doc_17258.tsv', 'files/doc_17260.tsv', 'files/doc_17261.tsv', 'files/doc_17264.tsv', 'files/doc_17287.tsv', 'files/doc_17289.tsv', 'files/doc_17295.tsv', 'files/doc_17295.tsv', 'files/doc_17299.tsv', 'files/doc_17309.tsv', 'files/doc_17315.tsv', 'files/doc_17316.tsv', 'files/doc_17325.tsv', 'files/doc_17338.tsv', 'files/doc_17339.tsv', 'files/doc_17342.tsv', 'files/doc_17373.tsv', 'files/doc_17375.tsv', 'files/doc_17382.tsv', 'files/doc_17403.tsv', 'files/doc_17416.tsv', 'files/doc_17423.tsv', 'files/doc_17431.tsv', 'files/doc_17432.tsv', 'files/doc_17436.tsv', 'files/doc_17437.tsv', 'files/doc_17437.tsv', 'files/doc_17438.tsv', 'files/doc_17441.tsv', 'files/doc_17456.tsv', 'files/doc_17473.tsv', 'files/doc_17475.tsv', 'files/doc_17481.tsv', 'files/doc_17495.tsv', 'files/doc_17503.tsv', 'files/doc_17509.tsv', 'files/doc_17538.tsv', 'files/doc_17538.tsv', 'files/doc_17539.tsv', 'files/doc_17544.tsv', 'files/doc_17549.tsv', 'files/doc_17551.tsv', 'files/doc_17551.tsv', 'files/doc_17556.tsv', 'files/doc_17556.tsv', 'files/doc_17570.tsv', 'files/doc_17574.tsv', 'files/doc_17620.tsv', 'files/doc_17622.tsv', 'files/doc_17678.tsv', 'files/doc_17686.tsv', 'files/doc_17689.tsv', 'files/doc_17697.tsv', 'files/doc_17703.tsv', 'files/doc_17706.tsv', 'files/doc_17708.tsv', 'files/doc_17718.tsv', 'files/doc_17720.tsv', 'files/doc_17721.tsv', 'files/doc_17722.tsv', 'files/doc_17722.tsv', 'files/doc_17725.tsv', 'files/doc_17733.tsv', 'files/doc_17734.tsv', 'files/doc_17735.tsv', 'files/doc_17740.tsv', 'files/doc_17749.tsv', 'files/doc_17754.tsv', 'files/doc_17809.tsv', 'files/doc_17837.tsv', 'files/doc_17869.tsv', 'files/doc_17878.tsv', 'files/doc_17878.tsv', 'files/doc_17889.tsv', 'files/doc_17891.tsv', 'files/doc_17915.tsv', 'files/doc_17932.tsv', 'files/doc_17934.tsv', 'files/doc_17938.tsv', 'files/doc_17977.tsv', 'files/doc_17989.tsv', 'files/doc_17989.tsv', 'files/doc_17992.tsv', 'files/doc_18005.tsv', 'files/doc_18007.tsv', 'files/doc_18015.tsv', 'files/doc_18020.tsv', 'files/doc_18022.tsv', 'files/doc_18026.tsv', 'files/doc_18037.tsv', 'files/doc_18039.tsv', 'files/doc_18040.tsv', 'files/doc_18047.tsv', 'files/doc_18060.tsv', 'files/doc_18069.tsv', 'files/doc_18080.tsv', 'files/doc_18082.tsv', 'files/doc_18083.tsv', 'files/doc_18087.tsv', 'files/doc_18103.tsv', 'files/doc_18124.tsv', 'files/doc_18139.tsv', 'files/doc_18141.tsv', 'files/doc_18149.tsv', 'files/doc_18156.tsv', 'files/doc_18177.tsv', 'files/doc_18179.tsv', 'files/doc_18183.tsv', 'files/doc_18183.tsv', 'files/doc_18191.tsv', 'files/doc_18193.tsv', 'files/doc_18194.tsv', 'files/doc_18203.tsv', 'files/doc_18206.tsv', 'files/doc_18214.tsv', 'files/doc_18235.tsv', 'files/doc_18240.tsv', 'files/doc_18255.tsv']}\n"
     ]
    }
   ],
   "source": [
    "print(docs)"
   ]
  },
  {
   "cell_type": "code",
   "execution_count": 71,
   "metadata": {},
   "outputs": [],
   "source": [
    "v = docs.values()"
   ]
  },
  {
   "cell_type": "code",
   "execution_count": 72,
   "metadata": {},
   "outputs": [],
   "source": [
    "v = list(v)"
   ]
  },
  {
   "cell_type": "code",
   "execution_count": 73,
   "metadata": {},
   "outputs": [],
   "source": [
    "intersection = set(v[0]).intersection(*v)"
   ]
  },
  {
   "cell_type": "code",
   "execution_count": 74,
   "metadata": {},
   "outputs": [
    {
     "data": {
      "text/plain": [
       "{'files/doc_12965.tsv',\n",
       " 'files/doc_13225.tsv',\n",
       " 'files/doc_1428.tsv',\n",
       " 'files/doc_14677.tsv',\n",
       " 'files/doc_15164.tsv',\n",
       " 'files/doc_15969.tsv',\n",
       " 'files/doc_17432.tsv',\n",
       " 'files/doc_17437.tsv',\n",
       " 'files/doc_18179.tsv',\n",
       " 'files/doc_2485.tsv',\n",
       " 'files/doc_2511.tsv',\n",
       " 'files/doc_3412.tsv',\n",
       " 'files/doc_3668.tsv',\n",
       " 'files/doc_3852.tsv',\n",
       " 'files/doc_3947.tsv',\n",
       " 'files/doc_4515.tsv',\n",
       " 'files/doc_4609.tsv',\n",
       " 'files/doc_4669.tsv',\n",
       " 'files/doc_4676.tsv',\n",
       " 'files/doc_6197.tsv',\n",
       " 'files/doc_6216.tsv',\n",
       " 'files/doc_6723.tsv',\n",
       " 'files/doc_7157.tsv',\n",
       " 'files/doc_8017.tsv',\n",
       " 'files/doc_9261.tsv'}"
      ]
     },
     "execution_count": 74,
     "metadata": {},
     "output_type": "execute_result"
    }
   ],
   "source": [
    "intersection"
   ]
  },
  {
   "cell_type": "code",
   "execution_count": 75,
   "metadata": {},
   "outputs": [
    {
     "data": {
      "text/html": [
       "<style  type=\"text/css\" >\n",
       "</style>  \n",
       "<table id=\"T_89f6e686_e81c_11e8_91b1_f01898076315\" > \n",
       "<thead>    <tr> \n",
       "        <th class=\"blank level0\" ></th> \n",
       "        <th class=\"col_heading level0 col0\" >title</th> \n",
       "        <th class=\"col_heading level0 col1\" >description</th> \n",
       "        <th class=\"col_heading level0 col2\" >city</th> \n",
       "        <th class=\"col_heading level0 col3\" >url</th> \n",
       "    </tr></thead> \n",
       "<tbody>    <tr> \n",
       "        <th id=\"T_89f6e686_e81c_11e8_91b1_f01898076315level0_row0\" class=\"row_heading level0 row0\" >0</th> \n",
       "        <td id=\"T_89f6e686_e81c_11e8_91b1_f01898076315row0_col0\" class=\"data row0 col0\" >Room Of Fame # 2</td> \n",
       "        <td id=\"T_89f6e686_e81c_11e8_91b1_f01898076315row0_col1\" class=\"data row0 col1\" >Welcome to our place, We are close to DFW Airport (10 mins) and Love Field (25 mins) Irving has many fine restaurants and dining, family-friendly activities, and nightlife. Irving is traversed by numerous highways. The Airport Freeway, TX- 183, Interstate 635 , Highway 114 and the President George Bush Turnpike, The Las Colinas area is centered near the intersection of 114 and the Bush turnpike.</td> \n",
       "        <td id=\"T_89f6e686_e81c_11e8_91b1_f01898076315row0_col2\" class=\"data row0 col2\" >Irving</td> \n",
       "        <td id=\"T_89f6e686_e81c_11e8_91b1_f01898076315row0_col3\" class=\"data row0 col3\" >https://www.airbnb.com/rooms/17040842?location=Colleyville%2C%20TX</td> \n",
       "    </tr></tbody> \n",
       "</table> "
      ],
      "text/plain": [
       "<pandas.io.formats.style.Styler at 0x1a18421be0>"
      ]
     },
     "metadata": {},
     "output_type": "display_data"
    },
    {
     "data": {
      "text/html": [
       "<style  type=\"text/css\" >\n",
       "</style>  \n",
       "<table id=\"T_89fab32e_e81c_11e8_b225_f01898076315\" > \n",
       "<thead>    <tr> \n",
       "        <th class=\"blank level0\" ></th> \n",
       "        <th class=\"col_heading level0 col0\" >title</th> \n",
       "        <th class=\"col_heading level0 col1\" >description</th> \n",
       "        <th class=\"col_heading level0 col2\" >city</th> \n",
       "        <th class=\"col_heading level0 col3\" >url</th> \n",
       "    </tr></thead> \n",
       "<tbody>    <tr> \n",
       "        <th id=\"T_89fab32e_e81c_11e8_b225_f01898076315level0_row0\" class=\"row_heading level0 row0\" >0</th> \n",
       "        <td id=\"T_89fab32e_e81c_11e8_b225_f01898076315row0_col0\" class=\"data row0 col0\" >BDR and adjacent LVR Near Airport and Woodlands</td> \n",
       "        <td id=\"T_89fab32e_e81c_11e8_b225_f01898076315row0_col1\" class=\"data row0 col1\" >Welcome to my 2,700 sq. ft. house. You get a private Bedroom and Living Room. The living room is in the room next door upstairs with a couch, Big screen TV , computer desk, computer, refrigerator and microwave. YouÃ¢ÂÂll love my place because of the neighborhood, great restaurants close by, the comfy bed, the coziness, and the kitchen. My place is good for couples, solo adventurers, business travelers, and furry friends (pets). There is a huge covered patio in back. Free Internet and Netflix.</td> \n",
       "        <td id=\"T_89fab32e_e81c_11e8_b225_f01898076315row0_col2\" class=\"data row0 col2\" >Houston</td> \n",
       "        <td id=\"T_89fab32e_e81c_11e8_b225_f01898076315row0_col3\" class=\"data row0 col3\" >https://www.airbnb.com/rooms/13377678?location=Conroe%2C%20TX</td> \n",
       "    </tr></tbody> \n",
       "</table> "
      ],
      "text/plain": [
       "<pandas.io.formats.style.Styler at 0x1139acac8>"
      ]
     },
     "metadata": {},
     "output_type": "display_data"
    },
    {
     "data": {
      "text/html": [
       "<style  type=\"text/css\" >\n",
       "</style>  \n",
       "<table id=\"T_89fb804c_e81c_11e8_9155_f01898076315\" > \n",
       "<thead>    <tr> \n",
       "        <th class=\"blank level0\" ></th> \n",
       "        <th class=\"col_heading level0 col0\" >title</th> \n",
       "        <th class=\"col_heading level0 col1\" >description</th> \n",
       "        <th class=\"col_heading level0 col2\" >city</th> \n",
       "        <th class=\"col_heading level0 col3\" >url</th> \n",
       "    </tr></thead> \n",
       "<tbody>    <tr> \n",
       "        <th id=\"T_89fb804c_e81c_11e8_9155_f01898076315level0_row0\" class=\"row_heading level0 row0\" >0</th> \n",
       "        <td id=\"T_89fb804c_e81c_11e8_9155_f01898076315row0_col0\" class=\"data row0 col0\" >Private studio! \"The Ivy\" Queen Bed/Full Bath</td> \n",
       "        <td id=\"T_89fb804c_e81c_11e8_9155_f01898076315row0_col1\" class=\"data row0 col1\" >Howdy! Welcome to Richmond, Texas! \\nPrivate entrance, small studio. **Ask me where the key is!**\\n-WIFI/Small Flat Screen TV-9572 channels/Small Fridge/Microwave\\n-Full bathroom with shower/no bathtub.\\n-Relax, visit the ponds and green wooded areas, take a walk!\\n\\n-Distances:\\n*55 miles-Airport IAH Bush \\n*30 miles-Hobby Airport\\n*31 miles-Medical Center (Houston) &amp; The Galleria\\n*16 miles- SugarLand \\n*15 miles- Katy Mills Mall near I10 Freeway.</td> \n",
       "        <td id=\"T_89fb804c_e81c_11e8_9155_f01898076315row0_col2\" class=\"data row0 col2\" >Richmond</td> \n",
       "        <td id=\"T_89fb804c_e81c_11e8_9155_f01898076315row0_col3\" class=\"data row0 col3\" >https://www.airbnb.com/rooms/8327181?location=Beasley%2C%20TX</td> \n",
       "    </tr></tbody> \n",
       "</table> "
      ],
      "text/plain": [
       "<pandas.io.formats.style.Styler at 0x1a1a38e080>"
      ]
     },
     "metadata": {},
     "output_type": "display_data"
    },
    {
     "data": {
      "text/html": [
       "<style  type=\"text/css\" >\n",
       "</style>  \n",
       "<table id=\"T_89fc6a1e_e81c_11e8_ba47_f01898076315\" > \n",
       "<thead>    <tr> \n",
       "        <th class=\"blank level0\" ></th> \n",
       "        <th class=\"col_heading level0 col0\" >title</th> \n",
       "        <th class=\"col_heading level0 col1\" >description</th> \n",
       "        <th class=\"col_heading level0 col2\" >city</th> \n",
       "        <th class=\"col_heading level0 col3\" >url</th> \n",
       "    </tr></thead> \n",
       "<tbody>    <tr> \n",
       "        <th id=\"T_89fc6a1e_e81c_11e8_ba47_f01898076315level0_row0\" class=\"row_heading level0 row0\" >0</th> \n",
       "        <td id=\"T_89fc6a1e_e81c_11e8_ba47_f01898076315row0_col0\" class=\"data row0 col0\" >Near IAH...Dogs, coffee, and trails! (2)</td> \n",
       "        <td id=\"T_89fc6a1e_e81c_11e8_ba47_f01898076315row0_col1\" class=\"data row0 col1\" >Adventurers and those passing through welcome! My place is relaxed and the atmosphere is easygoing. Only 15-20 minutes from IAH. Happy to work out a pick up/drop off from airport. Dogs (and kids) are welcome to stay as well! They should list coffee under essentials but don't worry I've got you covered. \\n\\nHouse includes a backyard and near some trails, a neighborhood Walmart, and Starbucks. Easy access to 59 for exploring other areas of Houston.\\n\\n*Double listed for different availability</td> \n",
       "        <td id=\"T_89fc6a1e_e81c_11e8_ba47_f01898076315row0_col2\" class=\"data row0 col2\" >Humble</td> \n",
       "        <td id=\"T_89fc6a1e_e81c_11e8_ba47_f01898076315row0_col3\" class=\"data row0 col3\" >https://www.airbnb.com/rooms/16596486?location=Cleveland%2C%20TX</td> \n",
       "    </tr></tbody> \n",
       "</table> "
      ],
      "text/plain": [
       "<pandas.io.formats.style.Styler at 0x1a1a30a320>"
      ]
     },
     "metadata": {},
     "output_type": "display_data"
    },
    {
     "data": {
      "text/html": [
       "<style  type=\"text/css\" >\n",
       "</style>  \n",
       "<table id=\"T_89fd57e6_e81c_11e8_9123_f01898076315\" > \n",
       "<thead>    <tr> \n",
       "        <th class=\"blank level0\" ></th> \n",
       "        <th class=\"col_heading level0 col0\" >title</th> \n",
       "        <th class=\"col_heading level0 col1\" >description</th> \n",
       "        <th class=\"col_heading level0 col2\" >city</th> \n",
       "        <th class=\"col_heading level0 col3\" >url</th> \n",
       "    </tr></thead> \n",
       "<tbody>    <tr> \n",
       "        <th id=\"T_89fd57e6_e81c_11e8_9123_f01898076315level0_row0\" class=\"row_heading level0 row0\" >0</th> \n",
       "        <td id=\"T_89fd57e6_e81c_11e8_9123_f01898076315row0_col0\" class=\"data row0 col0\" >Urban-Style Loft in the Country</td> \n",
       "        <td id=\"T_89fd57e6_e81c_11e8_9123_f01898076315row0_col1\" class=\"data row0 col1\" >Guests feel welcome in our Loft! Urban-style apartment in the country and convenient to town; near Leonard, Blue Ridge; ~30 minutes to McKinney, Bonham, Sherman, Greenville: an hour to DFW Airport or Downtown Dallas. Or enjoy the country quiet as you stroll the meadows or relax in a porch rocker.\\n 650 sq. ft. apartment above detached garage has a separate parking space, leading through a gate to your own entrance. Large windows with blackout shades and pastoral ranch views.</td> \n",
       "        <td id=\"T_89fd57e6_e81c_11e8_9123_f01898076315row0_col2\" class=\"data row0 col2\" >Leonard</td> \n",
       "        <td id=\"T_89fd57e6_e81c_11e8_9123_f01898076315row0_col3\" class=\"data row0 col3\" >https://www.airbnb.com/rooms/18157456?location=Anna%2C%20TX</td> \n",
       "    </tr></tbody> \n",
       "</table> "
      ],
      "text/plain": [
       "<pandas.io.formats.style.Styler at 0x1a1a389518>"
      ]
     },
     "metadata": {},
     "output_type": "display_data"
    },
    {
     "data": {
      "text/html": [
       "<style  type=\"text/css\" >\n",
       "</style>  \n",
       "<table id=\"T_89fe72ca_e81c_11e8_813d_f01898076315\" > \n",
       "<thead>    <tr> \n",
       "        <th class=\"blank level0\" ></th> \n",
       "        <th class=\"col_heading level0 col0\" >title</th> \n",
       "        <th class=\"col_heading level0 col1\" >description</th> \n",
       "        <th class=\"col_heading level0 col2\" >city</th> \n",
       "        <th class=\"col_heading level0 col3\" >url</th> \n",
       "    </tr></thead> \n",
       "<tbody>    <tr> \n",
       "        <th id=\"T_89fe72ca_e81c_11e8_813d_f01898076315level0_row0\" class=\"row_heading level0 row0\" >0</th> \n",
       "        <td id=\"T_89fe72ca_e81c_11e8_813d_f01898076315row0_col0\" class=\"data row0 col0\" >Room of Fame</td> \n",
       "        <td id=\"T_89fe72ca_e81c_11e8_813d_f01898076315row0_col1\" class=\"data row0 col1\" >Welcome to our place, we are close to DFW Airport (10 mins) and Love Field (25 mins) Irving has many fine restaurants and dining, family-friendly activities, and nightlife. \\nIrving is traversed by numerous highways. The Airport Freeway, TX- 183, Interstate 635 , Highway 114 and the President George Bush Turnpike, The Las Colinas area is centered near the intersection of 114 and the George Bush turnpike</td> \n",
       "        <td id=\"T_89fe72ca_e81c_11e8_813d_f01898076315row0_col2\" class=\"data row0 col2\" >Irving</td> \n",
       "        <td id=\"T_89fe72ca_e81c_11e8_813d_f01898076315row0_col3\" class=\"data row0 col3\" >https://www.airbnb.com/rooms/17134344?location=Carrollton%2C%20TX</td> \n",
       "    </tr></tbody> \n",
       "</table> "
      ],
      "text/plain": [
       "<pandas.io.formats.style.Styler at 0x1a1a389ba8>"
      ]
     },
     "metadata": {},
     "output_type": "display_data"
    },
    {
     "data": {
      "text/html": [
       "<style  type=\"text/css\" >\n",
       "</style>  \n",
       "<table id=\"T_8a00287a_e81c_11e8_ba08_f01898076315\" > \n",
       "<thead>    <tr> \n",
       "        <th class=\"blank level0\" ></th> \n",
       "        <th class=\"col_heading level0 col0\" >title</th> \n",
       "        <th class=\"col_heading level0 col1\" >description</th> \n",
       "        <th class=\"col_heading level0 col2\" >city</th> \n",
       "        <th class=\"col_heading level0 col3\" >url</th> \n",
       "    </tr></thead> \n",
       "<tbody>    <tr> \n",
       "        <th id=\"T_8a00287a_e81c_11e8_ba08_f01898076315level0_row0\" class=\"row_heading level0 row0\" >0</th> \n",
       "        <td id=\"T_8a00287a_e81c_11e8_ba08_f01898076315row0_col0\" class=\"data row0 col0\" >Copper Cabin</td> \n",
       "        <td id=\"T_8a00287a_e81c_11e8_ba08_f01898076315row0_col1\" class=\"data row0 col1\" >Copper Cabin is a relaxing get away destination located 10 miles from the Abilene Airport and the Taylor County Expo Center off highway 36. Large front and back porches welcome you to all the comforts of home away from home. Wedding venues located near the Cabin include: The Grove, Denton Valley Farms, Staple 6, Tangled Hearts and Meadows at Creative. Denton Valley Backyard Restaurant is open Thursday thru Saturday evenings and Sunday for lunch. (Menu can be viewed on their page.)</td> \n",
       "        <td id=\"T_8a00287a_e81c_11e8_ba08_f01898076315row0_col2\" class=\"data row0 col2\" >Abilene</td> \n",
       "        <td id=\"T_8a00287a_e81c_11e8_ba08_f01898076315row0_col3\" class=\"data row0 col3\" >https://www.airbnb.com/rooms/17773872?location=Abilene%2C%20TX</td> \n",
       "    </tr></tbody> \n",
       "</table> "
      ],
      "text/plain": [
       "<pandas.io.formats.style.Styler at 0x1a1a3892b0>"
      ]
     },
     "metadata": {},
     "output_type": "display_data"
    },
    {
     "data": {
      "text/html": [
       "<style  type=\"text/css\" >\n",
       "</style>  \n",
       "<table id=\"T_8a012f10_e81c_11e8_9f33_f01898076315\" > \n",
       "<thead>    <tr> \n",
       "        <th class=\"blank level0\" ></th> \n",
       "        <th class=\"col_heading level0 col0\" >title</th> \n",
       "        <th class=\"col_heading level0 col1\" >description</th> \n",
       "        <th class=\"col_heading level0 col2\" >city</th> \n",
       "        <th class=\"col_heading level0 col3\" >url</th> \n",
       "    </tr></thead> \n",
       "<tbody>    <tr> \n",
       "        <th id=\"T_8a012f10_e81c_11e8_9f33_f01898076315level0_row0\" class=\"row_heading level0 row0\" >0</th> \n",
       "        <td id=\"T_8a012f10_e81c_11e8_9f33_f01898076315row0_col0\" class=\"data row0 col0\" >5* Quality Private Room available near IAH</td> \n",
       "        <td id=\"T_8a012f10_e81c_11e8_9f33_f01898076315row0_col1\" class=\"data row0 col1\" >My place is close to the airport. YouÃ¢ÂÂll love my place because of the neighborhood and space in the room.\\nFirst time Airbnb guests are always welcomed.\\nPLEASE NOTE: All guests MUST BE verified Airbnb members with a visible profile picture before booking.\\nMy home is NOT smoker friendly as I have asthma and cannot be around smoke.</td> \n",
       "        <td id=\"T_8a012f10_e81c_11e8_9f33_f01898076315row0_col2\" class=\"data row0 col2\" >Humble</td> \n",
       "        <td id=\"T_8a012f10_e81c_11e8_9f33_f01898076315row0_col3\" class=\"data row0 col3\" >https://www.airbnb.com/rooms/13847391?location=Cleveland%2C%20TX</td> \n",
       "    </tr></tbody> \n",
       "</table> "
      ],
      "text/plain": [
       "<pandas.io.formats.style.Styler at 0x1a1a3899e8>"
      ]
     },
     "metadata": {},
     "output_type": "display_data"
    },
    {
     "data": {
      "text/html": [
       "<style  type=\"text/css\" >\n",
       "</style>  \n",
       "<table id=\"T_8a020bec_e81c_11e8_a44d_f01898076315\" > \n",
       "<thead>    <tr> \n",
       "        <th class=\"blank level0\" ></th> \n",
       "        <th class=\"col_heading level0 col0\" >title</th> \n",
       "        <th class=\"col_heading level0 col1\" >description</th> \n",
       "        <th class=\"col_heading level0 col2\" >city</th> \n",
       "        <th class=\"col_heading level0 col3\" >url</th> \n",
       "    </tr></thead> \n",
       "<tbody>    <tr> \n",
       "        <th id=\"T_8a020bec_e81c_11e8_a44d_f01898076315level0_row0\" class=\"row_heading level0 row0\" >0</th> \n",
       "        <td id=\"T_8a020bec_e81c_11e8_a44d_f01898076315row0_col0\" class=\"data row0 col0\" >Private studio! \"The Ivy\" Queen Bed/Full Bath</td> \n",
       "        <td id=\"T_8a020bec_e81c_11e8_a44d_f01898076315row0_col1\" class=\"data row0 col1\" >Howdy! Welcome to Richmond, Texas! \\nPrivate entrance, small studio. **Ask me where the key is!**\\n-WIFI/Small Flat Screen TV-9572 channels/Small Fridge/Microwave\\n-Full bathroom with shower/no bathtub.\\n-Relax, visit the ponds and green wooded areas, take a walk!\\n\\n-Distances:\\n*55 miles-Airport IAH Bush \\n*30 miles-Hobby Airport\\n*31 miles-Medical Center (Houston) &amp; The Galleria\\n*16 miles- SugarLand \\n*15 miles- Katy Mills Mall near I10 Freeway.</td> \n",
       "        <td id=\"T_8a020bec_e81c_11e8_a44d_f01898076315row0_col2\" class=\"data row0 col2\" >Richmond</td> \n",
       "        <td id=\"T_8a020bec_e81c_11e8_a44d_f01898076315row0_col3\" class=\"data row0 col3\" >https://www.airbnb.com/rooms/8327181?location=Cinco%20Ranch%2C%20TX</td> \n",
       "    </tr></tbody> \n",
       "</table> "
      ],
      "text/plain": [
       "<pandas.io.formats.style.Styler at 0x1a1a389c50>"
      ]
     },
     "metadata": {},
     "output_type": "display_data"
    },
    {
     "data": {
      "text/html": [
       "<style  type=\"text/css\" >\n",
       "</style>  \n",
       "<table id=\"T_8a03109e_e81c_11e8_8f47_f01898076315\" > \n",
       "<thead>    <tr> \n",
       "        <th class=\"blank level0\" ></th> \n",
       "        <th class=\"col_heading level0 col0\" >title</th> \n",
       "        <th class=\"col_heading level0 col1\" >description</th> \n",
       "        <th class=\"col_heading level0 col2\" >city</th> \n",
       "        <th class=\"col_heading level0 col3\" >url</th> \n",
       "    </tr></thead> \n",
       "<tbody>    <tr> \n",
       "        <th id=\"T_8a03109e_e81c_11e8_8f47_f01898076315level0_row0\" class=\"row_heading level0 row0\" >0</th> \n",
       "        <td id=\"T_8a03109e_e81c_11e8_8f47_f01898076315row0_col0\" class=\"data row0 col0\" >Flying ~A~ Ranch </td> \n",
       "        <td id=\"T_8a03109e_e81c_11e8_8f47_f01898076315row0_col1\" class=\"data row0 col1\" >Fully Furnished \\n800sqft Bed Breakfast \\nNear Alliance Airport \\nTexas Motor Speedway\\nI-35 &amp; HWY 170\\nUnique Dinning / Shopping\\n3 acre Lot \\nGated community AirPark\\nGREAT SUNSETS / Views\\nFly-In Welcome \\nEasy Access to ALL DFW area!! \\nWi-Fi</td> \n",
       "        <td id=\"T_8a03109e_e81c_11e8_8f47_f01898076315row0_col2\" class=\"data row0 col2\" >Fort Worth</td> \n",
       "        <td id=\"T_8a03109e_e81c_11e8_8f47_f01898076315row0_col3\" class=\"data row0 col3\" >https://www.airbnb.com/rooms/3990995?location=Colleyville%2C%20TX</td> \n",
       "    </tr></tbody> \n",
       "</table> "
      ],
      "text/plain": [
       "<pandas.io.formats.style.Styler at 0x1a1a30a240>"
      ]
     },
     "metadata": {},
     "output_type": "display_data"
    },
    {
     "data": {
      "text/html": [
       "<style  type=\"text/css\" >\n",
       "</style>  \n",
       "<table id=\"T_8a03ef8c_e81c_11e8_b092_f01898076315\" > \n",
       "<thead>    <tr> \n",
       "        <th class=\"blank level0\" ></th> \n",
       "        <th class=\"col_heading level0 col0\" >title</th> \n",
       "        <th class=\"col_heading level0 col1\" >description</th> \n",
       "        <th class=\"col_heading level0 col2\" >city</th> \n",
       "        <th class=\"col_heading level0 col3\" >url</th> \n",
       "    </tr></thead> \n",
       "<tbody>    <tr> \n",
       "        <th id=\"T_8a03ef8c_e81c_11e8_b092_f01898076315level0_row0\" class=\"row_heading level0 row0\" >0</th> \n",
       "        <td id=\"T_8a03ef8c_e81c_11e8_b092_f01898076315row0_col0\" class=\"data row0 col0\" >Near IAH...Dogs, coffee, and trails!</td> \n",
       "        <td id=\"T_8a03ef8c_e81c_11e8_b092_f01898076315row0_col1\" class=\"data row0 col1\" >Adventurers and those passing through welcome! My place is relaxed and the atmosphere is easygoing. Only 15-20 minutes from IAH. Happy to work out a pick up/drop off from airport. Dogs (and kids) are welcome to stay as well! They should list coffee under essentials but don't worry I've got you covered. \\n\\nHouse includes a backyard and near some trails, a neighborhood Walmart, and Starbucks. Easy access to 59 for exploring other areas of Houston.\\n\\n*Double listed for different availability</td> \n",
       "        <td id=\"T_8a03ef8c_e81c_11e8_b092_f01898076315row0_col2\" class=\"data row0 col2\" >Humble</td> \n",
       "        <td id=\"T_8a03ef8c_e81c_11e8_b092_f01898076315row0_col3\" class=\"data row0 col3\" >https://www.airbnb.com/rooms/16427580?location=Atascocita%2C%20TX</td> \n",
       "    </tr></tbody> \n",
       "</table> "
      ],
      "text/plain": [
       "<pandas.io.formats.style.Styler at 0x11008f668>"
      ]
     },
     "metadata": {},
     "output_type": "display_data"
    },
    {
     "data": {
      "text/html": [
       "<style  type=\"text/css\" >\n",
       "</style>  \n",
       "<table id=\"T_8a04a492_e81c_11e8_a7a9_f01898076315\" > \n",
       "<thead>    <tr> \n",
       "        <th class=\"blank level0\" ></th> \n",
       "        <th class=\"col_heading level0 col0\" >title</th> \n",
       "        <th class=\"col_heading level0 col1\" >description</th> \n",
       "        <th class=\"col_heading level0 col2\" >city</th> \n",
       "        <th class=\"col_heading level0 col3\" >url</th> \n",
       "    </tr></thead> \n",
       "<tbody>    <tr> \n",
       "        <th id=\"T_8a04a492_e81c_11e8_a7a9_f01898076315level0_row0\" class=\"row_heading level0 row0\" >0</th> \n",
       "        <td id=\"T_8a04a492_e81c_11e8_a7a9_f01898076315row0_col0\" class=\"data row0 col0\" >BDR and adjacent LVR Near Airport and Woodlands</td> \n",
       "        <td id=\"T_8a04a492_e81c_11e8_a7a9_f01898076315row0_col1\" class=\"data row0 col1\" >Welcome to my 2,700 sq. ft. house. You get a private Bedroom and Living Room. The living room is in the room next door upstairs with a couch, Big screen TV , computer desk, computer, refrigerator and microwave. YouÃ¢ÂÂll love my place because of the neighborhood, great restaurants close by, the comfy bed, the coziness, and the kitchen. My place is good for couples, solo adventurers, business travelers, and furry friends (pets). There is a huge covered patio in back. Free Internet and Netflix.</td> \n",
       "        <td id=\"T_8a04a492_e81c_11e8_a7a9_f01898076315row0_col2\" class=\"data row0 col2\" >Houston</td> \n",
       "        <td id=\"T_8a04a492_e81c_11e8_a7a9_f01898076315row0_col3\" class=\"data row0 col3\" >https://www.airbnb.com/rooms/13377678?location=Atascocita%2C%20TX</td> \n",
       "    </tr></tbody> \n",
       "</table> "
      ],
      "text/plain": [
       "<pandas.io.formats.style.Styler at 0x1a1a38ee48>"
      ]
     },
     "metadata": {},
     "output_type": "display_data"
    },
    {
     "data": {
      "text/html": [
       "<style  type=\"text/css\" >\n",
       "</style>  \n",
       "<table id=\"T_8a05dfe2_e81c_11e8_8b47_f01898076315\" > \n",
       "<thead>    <tr> \n",
       "        <th class=\"blank level0\" ></th> \n",
       "        <th class=\"col_heading level0 col0\" >title</th> \n",
       "        <th class=\"col_heading level0 col1\" >description</th> \n",
       "        <th class=\"col_heading level0 col2\" >city</th> \n",
       "        <th class=\"col_heading level0 col3\" >url</th> \n",
       "    </tr></thead> \n",
       "<tbody>    <tr> \n",
       "        <th id=\"T_8a05dfe2_e81c_11e8_8b47_f01898076315level0_row0\" class=\"row_heading level0 row0\" >0</th> \n",
       "        <td id=\"T_8a05dfe2_e81c_11e8_8b47_f01898076315row0_col0\" class=\"data row0 col0\" >Copper Cabin</td> \n",
       "        <td id=\"T_8a05dfe2_e81c_11e8_8b47_f01898076315row0_col1\" class=\"data row0 col1\" >Copper Cabin is a relaxing get away destination located 10 miles from the Abilene Airport and the Taylor County Expo Center off highway 36. Large front and back porches welcome you to all the comforts of home away from home. Wedding venues located near the Cabin include: The Grove, Denton Valley Farms, Staple 6, Tangled Hearts and Meadows at Creative. Denton Valley Backyard Restaurant is open Thursday thru Saturday evenings and Sunday for lunch. (Menu can be viewed on their page.)</td> \n",
       "        <td id=\"T_8a05dfe2_e81c_11e8_8b47_f01898076315row0_col2\" class=\"data row0 col2\" >Abilene</td> \n",
       "        <td id=\"T_8a05dfe2_e81c_11e8_8b47_f01898076315row0_col3\" class=\"data row0 col3\" >https://www.airbnb.com/rooms/17773872?location=Cisco%2C%20TX</td> \n",
       "    </tr></tbody> \n",
       "</table> "
      ],
      "text/plain": [
       "<pandas.io.formats.style.Styler at 0x1a184210b8>"
      ]
     },
     "metadata": {},
     "output_type": "display_data"
    },
    {
     "data": {
      "text/html": [
       "<style  type=\"text/css\" >\n",
       "</style>  \n",
       "<table id=\"T_8a0740ba_e81c_11e8_bcff_f01898076315\" > \n",
       "<thead>    <tr> \n",
       "        <th class=\"blank level0\" ></th> \n",
       "        <th class=\"col_heading level0 col0\" >title</th> \n",
       "        <th class=\"col_heading level0 col1\" >description</th> \n",
       "        <th class=\"col_heading level0 col2\" >city</th> \n",
       "        <th class=\"col_heading level0 col3\" >url</th> \n",
       "    </tr></thead> \n",
       "<tbody>    <tr> \n",
       "        <th id=\"T_8a0740ba_e81c_11e8_bcff_f01898076315level0_row0\" class=\"row_heading level0 row0\" >0</th> \n",
       "        <td id=\"T_8a0740ba_e81c_11e8_bcff_f01898076315row0_col0\" class=\"data row0 col0\" >Your Stay Feels Like Home</td> \n",
       "        <td id=\"T_8a0740ba_e81c_11e8_bcff_f01898076315row0_col1\" class=\"data row0 col1\" >Welcome to our home! We are located near Golf Club of Houston, home of the Shell Houston Open, Tour 18 Golf Course, Walden on Lake Houston course, Bush International Airport, Duessun Park, Lifetime and 24HR Fitness centers, Movie Tavern and Deerbrook Mall. YouÃ¢ÂÂll love our place because of the location, the outdoors space, and the ambiance. Our place is good for couples, solo adventurers, business travelers, families (with kids), and big groups.</td> \n",
       "        <td id=\"T_8a0740ba_e81c_11e8_bcff_f01898076315row0_col2\" class=\"data row0 col2\" >Humble</td> \n",
       "        <td id=\"T_8a0740ba_e81c_11e8_bcff_f01898076315row0_col3\" class=\"data row0 col3\" >https://www.airbnb.com/rooms/17732344?location=Cleveland%2C%20TX</td> \n",
       "    </tr></tbody> \n",
       "</table> "
      ],
      "text/plain": [
       "<pandas.io.formats.style.Styler at 0x1a1a349898>"
      ]
     },
     "metadata": {},
     "output_type": "display_data"
    },
    {
     "data": {
      "text/html": [
       "<style  type=\"text/css\" >\n",
       "</style>  \n",
       "<table id=\"T_8a083a80_e81c_11e8_8af3_f01898076315\" > \n",
       "<thead>    <tr> \n",
       "        <th class=\"blank level0\" ></th> \n",
       "        <th class=\"col_heading level0 col0\" >title</th> \n",
       "        <th class=\"col_heading level0 col1\" >description</th> \n",
       "        <th class=\"col_heading level0 col2\" >city</th> \n",
       "        <th class=\"col_heading level0 col3\" >url</th> \n",
       "    </tr></thead> \n",
       "<tbody>    <tr> \n",
       "        <th id=\"T_8a083a80_e81c_11e8_8af3_f01898076315level0_row0\" class=\"row_heading level0 row0\" >0</th> \n",
       "        <td id=\"T_8a083a80_e81c_11e8_8af3_f01898076315row0_col0\" class=\"data row0 col0\" >5* Quality Private Room available near IAH</td> \n",
       "        <td id=\"T_8a083a80_e81c_11e8_8af3_f01898076315row0_col1\" class=\"data row0 col1\" >My place is close to the airport. YouÃ¢ÂÂll love my place because of the neighborhood and space in the room.\\nFirst time Airbnb guests are always welcomed.\\nPLEASE NOTE: All guests MUST BE verified Airbnb members with a visible profile picture before booking.\\nMy home is NOT smoker friendly as I have asthma and cannot be around smoke.</td> \n",
       "        <td id=\"T_8a083a80_e81c_11e8_8af3_f01898076315row0_col2\" class=\"data row0 col2\" >Humble</td> \n",
       "        <td id=\"T_8a083a80_e81c_11e8_8af3_f01898076315row0_col3\" class=\"data row0 col3\" >https://www.airbnb.com/rooms/13847391?location=Atascocita%2C%20TX</td> \n",
       "    </tr></tbody> \n",
       "</table> "
      ],
      "text/plain": [
       "<pandas.io.formats.style.Styler at 0x1a1a38eb38>"
      ]
     },
     "metadata": {},
     "output_type": "display_data"
    },
    {
     "data": {
      "text/html": [
       "<style  type=\"text/css\" >\n",
       "</style>  \n",
       "<table id=\"T_8a090690_e81c_11e8_a410_f01898076315\" > \n",
       "<thead>    <tr> \n",
       "        <th class=\"blank level0\" ></th> \n",
       "        <th class=\"col_heading level0 col0\" >title</th> \n",
       "        <th class=\"col_heading level0 col1\" >description</th> \n",
       "        <th class=\"col_heading level0 col2\" >city</th> \n",
       "        <th class=\"col_heading level0 col3\" >url</th> \n",
       "    </tr></thead> \n",
       "<tbody>    <tr> \n",
       "        <th id=\"T_8a090690_e81c_11e8_a410_f01898076315level0_row0\" class=\"row_heading level0 row0\" >0</th> \n",
       "        <td id=\"T_8a090690_e81c_11e8_a410_f01898076315row0_col0\" class=\"data row0 col0\" >BREATHE DEEPLY A Cozy Austin Cabin</td> \n",
       "        <td id=\"T_8a090690_e81c_11e8_a410_f01898076315row0_col1\" class=\"data row0 col1\" >A stone throw south of the Austin City Limits, this cabin is situated in 2.5 wooded acres. Luxurious and quiet. It is inhabited by deer, raccoon, rabbits, owls, lizards and butterflies. There is an old stone well filled by an aquifer (legend states the well was built by Ben McCullough; the civil war hero). A large back yard is used for walks, bonfires and golfing/batting balls. Lounge in the dappled sun on the patio near a running pond surrounded with gardens. Prepare a leisurely bar-b-que. Talk late into the night by the fire pit. \\n\\nThis 100+ yr old cabin has been revived and furnished with love. Time seems to stop while soaking in the deep old claw tub filled with endless hot spring water . Drifting to sleep, become aware of crackling in the wood burning stove, a train whistle and the trickling pond. Breakfast choices are street tacos or waffles...with pecans? \\n\\nIts possible you'll be tempted to stay all day. However, the center of Austin or San Marcos, with music, swimming, fishing and kayaking are just 15-25 minutes from this retreat. \\nSound like a fit for you? More info:\\nCircuit of the Americas is 18 miles through country roads. It is possible to attend this event and never enter Austin. A toll road will deliver you from the airport to the cabin and the event without the Austin traffic. Also close and south is an after race restaurant popular with race participants. \\n\\nNote for SXSW and other major events: Consider being in the crowds day and night then retreating by the fire at your quiet abode just 15 minutes south from all the ruckus of Central Austin. Invite your friends to hang with you and perhaps make your own music. Guests under 21 welcomed. \\n\\n\\nIncluded in price:\\nheating with wood burner &amp;/or electric heater. Host can prep the fire. Firewood complementary AC for the summer/fall plus ceiling fan\\nNO TV\\nwireless internet - fast\\nwasher/dryer available\\nclaw tub with shower\\nkitchen equipped with small refrigerator, toaster oven, small microwave, coffee maker\\nlarge BBQ pit available\\nof course all towels, quality cotton sheets, feathered quilt, pillows, utensils, dishes, cups, coffee, teas and toiletries are ready for you cleaning when requested. \\nup to 3 parking spaces\\n3 fire pits to lounge by\\nprivate patio\\n\\nExtra charges:\\ntransportation: Round trip transportation to the airport or elsewhere offered by host\\npublic bus stop 3 miles from the cabin, it is easy to grab a ride to the bus stop from the host- no charge.\\nweekend reservations are a minimum of 2 nights. If you can only stay 1 night, please ask about an exception so that I can attempt to make it work.\\n\\nGuest have exclusive access to the patio. You are welcome to wander all the grounds with the exception of course, of the private residence.\\nComing soon: a sauna is being converted into a cedar silo sauna.\\nFormula 1 rate includes stocked local wines and beer. Toll road to F1 is less that 2 miles from the cabin and provides a direct shot to the venue, without having to deal with Austin traffic. \\nWEDDING PACKAGE: Evening before and night of wedding. This facilitates hosting out of town guests the night before and the day of. (note weekends are a two night minimum. this generally is not practical for the newly weds.) However, the events prior to the big event serves as an informal staging area and a place for your guests who need a meet up, changing and rest area prior to the wedding. Before the bride and groom return from the wedding, host will tidy the cabin and light a fire and candles for their special arrival.\\n\\nI interact with guests as much as they want. Usually, an initial orientation to the cabin and grounds, then texting for the morning \\</td> \n",
       "        <td id=\"T_8a090690_e81c_11e8_a410_f01898076315row0_col2\" class=\"data row0 col2\" >Manchaca</td> \n",
       "        <td id=\"T_8a090690_e81c_11e8_a410_f01898076315row0_col3\" class=\"data row0 col3\" >https://www.airbnb.com/rooms/728502?location=Colorado%20River%2C%20TX</td> \n",
       "    </tr></tbody> \n",
       "</table> "
      ],
      "text/plain": [
       "<pandas.io.formats.style.Styler at 0x1a1a38e940>"
      ]
     },
     "metadata": {},
     "output_type": "display_data"
    },
    {
     "data": {
      "text/html": [
       "<style  type=\"text/css\" >\n",
       "</style>  \n",
       "<table id=\"T_8a09eb82_e81c_11e8_b596_f01898076315\" > \n",
       "<thead>    <tr> \n",
       "        <th class=\"blank level0\" ></th> \n",
       "        <th class=\"col_heading level0 col0\" >title</th> \n",
       "        <th class=\"col_heading level0 col1\" >description</th> \n",
       "        <th class=\"col_heading level0 col2\" >city</th> \n",
       "        <th class=\"col_heading level0 col3\" >url</th> \n",
       "    </tr></thead> \n",
       "<tbody>    <tr> \n",
       "        <th id=\"T_8a09eb82_e81c_11e8_b596_f01898076315level0_row0\" class=\"row_heading level0 row0\" >0</th> \n",
       "        <td id=\"T_8a09eb82_e81c_11e8_b596_f01898076315row0_col0\" class=\"data row0 col0\" >5 Star Quality Private RM & Bath Near IAH Airport</td> \n",
       "        <td id=\"T_8a09eb82_e81c_11e8_b596_f01898076315row0_col1\" class=\"data row0 col1\" >YouÃ¢ÂÂll love my place because of the neighborhood. My place is good for couples, families, &amp; solo adventurers. I provide clean, safe, &amp; comfortable accommodations.\\nFirst time Airbnb guests are always welcomed. Communication is essential.\\nPLEASE NOTE: All guests MUST BE ID verified Airbnb members with a visible profile picture before booking.\\nMy home is NOT smoker friendly as I have asthma and cannot be around smoke.</td> \n",
       "        <td id=\"T_8a09eb82_e81c_11e8_b596_f01898076315row0_col2\" class=\"data row0 col2\" >Humble</td> \n",
       "        <td id=\"T_8a09eb82_e81c_11e8_b596_f01898076315row0_col3\" class=\"data row0 col3\" >https://www.airbnb.com/rooms/4483842?location=Atascocita%2C%20TX</td> \n",
       "    </tr></tbody> \n",
       "</table> "
      ],
      "text/plain": [
       "<pandas.io.formats.style.Styler at 0x1a1a30a0b8>"
      ]
     },
     "metadata": {},
     "output_type": "display_data"
    },
    {
     "data": {
      "text/html": [
       "<style  type=\"text/css\" >\n",
       "</style>  \n",
       "<table id=\"T_8a0af4dc_e81c_11e8_bb12_f01898076315\" > \n",
       "<thead>    <tr> \n",
       "        <th class=\"blank level0\" ></th> \n",
       "        <th class=\"col_heading level0 col0\" >title</th> \n",
       "        <th class=\"col_heading level0 col1\" >description</th> \n",
       "        <th class=\"col_heading level0 col2\" >city</th> \n",
       "        <th class=\"col_heading level0 col3\" >url</th> \n",
       "    </tr></thead> \n",
       "<tbody>    <tr> \n",
       "        <th id=\"T_8a0af4dc_e81c_11e8_bb12_f01898076315level0_row0\" class=\"row_heading level0 row0\" >0</th> \n",
       "        <td id=\"T_8a0af4dc_e81c_11e8_bb12_f01898076315row0_col0\" class=\"data row0 col0\" >Room of Fame</td> \n",
       "        <td id=\"T_8a0af4dc_e81c_11e8_bb12_f01898076315row0_col1\" class=\"data row0 col1\" >Welcome to our place, we are close to DFW Airport (10 mins) and Love Field (25 mins) Irving has many fine restaurants and dining, family-friendly activities, and nightlife. \\nIrving is traversed by numerous highways. The Airport Freeway, TX- 183, Interstate 635 , Highway 114 and the President George Bush Turnpike, The Las Colinas area is centered near the intersection of 114 and the George Bush turnpike</td> \n",
       "        <td id=\"T_8a0af4dc_e81c_11e8_bb12_f01898076315row0_col2\" class=\"data row0 col2\" >Irving</td> \n",
       "        <td id=\"T_8a0af4dc_e81c_11e8_bb12_f01898076315row0_col3\" class=\"data row0 col3\" >https://www.airbnb.com/rooms/17134344?location=Coppell%2C%20TX</td> \n",
       "    </tr></tbody> \n",
       "</table> "
      ],
      "text/plain": [
       "<pandas.io.formats.style.Styler at 0x1a1a389c50>"
      ]
     },
     "metadata": {},
     "output_type": "display_data"
    },
    {
     "data": {
      "text/html": [
       "<style  type=\"text/css\" >\n",
       "</style>  \n",
       "<table id=\"T_8a0bc6e6_e81c_11e8_abfd_f01898076315\" > \n",
       "<thead>    <tr> \n",
       "        <th class=\"blank level0\" ></th> \n",
       "        <th class=\"col_heading level0 col0\" >title</th> \n",
       "        <th class=\"col_heading level0 col1\" >description</th> \n",
       "        <th class=\"col_heading level0 col2\" >city</th> \n",
       "        <th class=\"col_heading level0 col3\" >url</th> \n",
       "    </tr></thead> \n",
       "<tbody>    <tr> \n",
       "        <th id=\"T_8a0bc6e6_e81c_11e8_abfd_f01898076315level0_row0\" class=\"row_heading level0 row0\" >0</th> \n",
       "        <td id=\"T_8a0bc6e6_e81c_11e8_abfd_f01898076315row0_col0\" class=\"data row0 col0\" >Near IAH...Dogs, coffee, and trails! (2)</td> \n",
       "        <td id=\"T_8a0bc6e6_e81c_11e8_abfd_f01898076315row0_col1\" class=\"data row0 col1\" >Adventurers and those passing through welcome! My place is relaxed and the atmosphere is easygoing. Only 15-20 minutes from IAH. Happy to work out a pick up/drop off from airport. Dogs (and kids) are welcome to stay as well! They should list coffee under essentials but don't worry I've got you covered. \\n\\nHouse includes a backyard and near some trails, a neighborhood Walmart, and Starbucks. Easy access to 59 for exploring other areas of Houston.\\n\\n*Double listed for different availability</td> \n",
       "        <td id=\"T_8a0bc6e6_e81c_11e8_abfd_f01898076315row0_col2\" class=\"data row0 col2\" >Humble</td> \n",
       "        <td id=\"T_8a0bc6e6_e81c_11e8_abfd_f01898076315row0_col3\" class=\"data row0 col3\" >https://www.airbnb.com/rooms/16596486?location=Conroe%2C%20TX</td> \n",
       "    </tr></tbody> \n",
       "</table> "
      ],
      "text/plain": [
       "<pandas.io.formats.style.Styler at 0x1a1a389550>"
      ]
     },
     "metadata": {},
     "output_type": "display_data"
    },
    {
     "data": {
      "text/html": [
       "<style  type=\"text/css\" >\n",
       "</style>  \n",
       "<table id=\"T_8a0c93dc_e81c_11e8_bcca_f01898076315\" > \n",
       "<thead>    <tr> \n",
       "        <th class=\"blank level0\" ></th> \n",
       "        <th class=\"col_heading level0 col0\" >title</th> \n",
       "        <th class=\"col_heading level0 col1\" >description</th> \n",
       "        <th class=\"col_heading level0 col2\" >city</th> \n",
       "        <th class=\"col_heading level0 col3\" >url</th> \n",
       "    </tr></thead> \n",
       "<tbody>    <tr> \n",
       "        <th id=\"T_8a0c93dc_e81c_11e8_bcca_f01898076315level0_row0\" class=\"row_heading level0 row0\" >0</th> \n",
       "        <td id=\"T_8a0c93dc_e81c_11e8_bcca_f01898076315row0_col0\" class=\"data row0 col0\" >Room Of Fame # 2</td> \n",
       "        <td id=\"T_8a0c93dc_e81c_11e8_bcca_f01898076315row0_col1\" class=\"data row0 col1\" >Welcome to our place, We are close to DFW Airport (10 mins) and Love Field (25 mins) Irving has many fine restaurants and dining, family-friendly activities, and nightlife. Irving is traversed by numerous highways. The Airport Freeway, TX- 183, Interstate 635 , Highway 114 and the President George Bush Turnpike, The Las Colinas area is centered near the intersection of 114 and the Bush turnpike.</td> \n",
       "        <td id=\"T_8a0c93dc_e81c_11e8_bcca_f01898076315row0_col2\" class=\"data row0 col2\" >Irving</td> \n",
       "        <td id=\"T_8a0c93dc_e81c_11e8_bcca_f01898076315row0_col3\" class=\"data row0 col3\" >https://www.airbnb.com/rooms/17040842?location=Carrollton%2C%20TX</td> \n",
       "    </tr></tbody> \n",
       "</table> "
      ],
      "text/plain": [
       "<pandas.io.formats.style.Styler at 0x1a1a389e48>"
      ]
     },
     "metadata": {},
     "output_type": "display_data"
    },
    {
     "data": {
      "text/html": [
       "<style  type=\"text/css\" >\n",
       "</style>  \n",
       "<table id=\"T_8a0dd3c8_e81c_11e8_a879_f01898076315\" > \n",
       "<thead>    <tr> \n",
       "        <th class=\"blank level0\" ></th> \n",
       "        <th class=\"col_heading level0 col0\" >title</th> \n",
       "        <th class=\"col_heading level0 col1\" >description</th> \n",
       "        <th class=\"col_heading level0 col2\" >city</th> \n",
       "        <th class=\"col_heading level0 col3\" >url</th> \n",
       "    </tr></thead> \n",
       "<tbody>    <tr> \n",
       "        <th id=\"T_8a0dd3c8_e81c_11e8_a879_f01898076315level0_row0\" class=\"row_heading level0 row0\" >0</th> \n",
       "        <td id=\"T_8a0dd3c8_e81c_11e8_a879_f01898076315row0_col0\" class=\"data row0 col0\" >5 Star Quality Private RM & Bath Near IAH Airport</td> \n",
       "        <td id=\"T_8a0dd3c8_e81c_11e8_a879_f01898076315row0_col1\" class=\"data row0 col1\" >YouÃ¢ÂÂll love my place because of the neighborhood. My place is good for couples, families, &amp; solo adventurers. I provide clean, safe, &amp; comfortable accommodations.\\nFirst time Airbnb guests are always welcomed. Communication is essential.\\nPLEASE NOTE: All guests MUST BE ID verified Airbnb members with a visible profile picture before booking.\\nMy home is NOT smoker friendly as I have asthma and cannot be around smoke.</td> \n",
       "        <td id=\"T_8a0dd3c8_e81c_11e8_a879_f01898076315row0_col2\" class=\"data row0 col2\" >Humble</td> \n",
       "        <td id=\"T_8a0dd3c8_e81c_11e8_a879_f01898076315row0_col3\" class=\"data row0 col3\" >https://www.airbnb.com/rooms/4483842?location=Cleveland%2C%20TX</td> \n",
       "    </tr></tbody> \n",
       "</table> "
      ],
      "text/plain": [
       "<pandas.io.formats.style.Styler at 0x1a1a349a20>"
      ]
     },
     "metadata": {},
     "output_type": "display_data"
    },
    {
     "data": {
      "text/html": [
       "<style  type=\"text/css\" >\n",
       "</style>  \n",
       "<table id=\"T_8a0ed01e_e81c_11e8_a1b4_f01898076315\" > \n",
       "<thead>    <tr> \n",
       "        <th class=\"blank level0\" ></th> \n",
       "        <th class=\"col_heading level0 col0\" >title</th> \n",
       "        <th class=\"col_heading level0 col1\" >description</th> \n",
       "        <th class=\"col_heading level0 col2\" >city</th> \n",
       "        <th class=\"col_heading level0 col3\" >url</th> \n",
       "    </tr></thead> \n",
       "<tbody>    <tr> \n",
       "        <th id=\"T_8a0ed01e_e81c_11e8_a1b4_f01898076315level0_row0\" class=\"row_heading level0 row0\" >0</th> \n",
       "        <td id=\"T_8a0ed01e_e81c_11e8_a1b4_f01898076315row0_col0\" class=\"data row0 col0\" >Great Roanoke house near TMS and yummy dining</td> \n",
       "        <td id=\"T_8a0ed01e_e81c_11e8_a1b4_f01898076315row0_col1\" class=\"data row0 col1\" >Enjoy our open, comfy house and spacious backyard with covered patio, our open living area and coffee bar, and plenty of parking. Best of all is our great TV room! Kids and pet friendly. Looking forward to welcoming you soon! 3 miles to Tx Motor Speedway and 15 minutes to DFW airport. Walking distance to park/tennis/skate park and Hawaiian Falls Water Park. Roanoke designated by Tx Legislature as the \\</td> \n",
       "        <td id=\"T_8a0ed01e_e81c_11e8_a1b4_f01898076315row0_col2\" class=\"data row0 col2\" >Roanoke</td> \n",
       "        <td id=\"T_8a0ed01e_e81c_11e8_a1b4_f01898076315row0_col3\" class=\"data row0 col3\" >https://www.airbnb.com/rooms/17169242?location=Argyle%2C%20TX</td> \n",
       "    </tr></tbody> \n",
       "</table> "
      ],
      "text/plain": [
       "<pandas.io.formats.style.Styler at 0x1a1a349dd8>"
      ]
     },
     "metadata": {},
     "output_type": "display_data"
    },
    {
     "data": {
      "text/html": [
       "<style  type=\"text/css\" >\n",
       "</style>  \n",
       "<table id=\"T_8a0fb768_e81c_11e8_8bb9_f01898076315\" > \n",
       "<thead>    <tr> \n",
       "        <th class=\"blank level0\" ></th> \n",
       "        <th class=\"col_heading level0 col0\" >title</th> \n",
       "        <th class=\"col_heading level0 col1\" >description</th> \n",
       "        <th class=\"col_heading level0 col2\" >city</th> \n",
       "        <th class=\"col_heading level0 col3\" >url</th> \n",
       "    </tr></thead> \n",
       "<tbody>    <tr> \n",
       "        <th id=\"T_8a0fb768_e81c_11e8_8bb9_f01898076315level0_row0\" class=\"row_heading level0 row0\" >0</th> \n",
       "        <td id=\"T_8a0fb768_e81c_11e8_8bb9_f01898076315row0_col0\" class=\"data row0 col0\" >BREATHE DEEPLY A Cozy Austin Cabin</td> \n",
       "        <td id=\"T_8a0fb768_e81c_11e8_8bb9_f01898076315row0_col1\" class=\"data row0 col1\" >A stone throw south of the Austin City Limits, this cabin is situated in 2.5 wooded acres. Luxurious and quiet. It is inhabited by deer, raccoon, rabbits, owls, lizards and butterflies. There is an old stone well filled by an aquifer (legend states the well was built by Ben McCullough; the civil war hero). A large back yard is used for walks, bonfires and golfing/batting balls. Lounge in the dappled sun on the patio near a running pond surrounded with gardens. Prepare a leisurely bar-b-que. Talk late into the night by the fire pit. \\n\\nThis 100+ yr old cabin has been revived and furnished with love. Time seems to stop while soaking in the deep old claw tub filled with endless hot spring water . Drifting to sleep, become aware of crackling in the wood burning stove, a train whistle and the trickling pond. Breakfast choices are street tacos or waffles...with pecans? \\n\\nIts possible you'll be tempted to stay all day. However, the center of Austin or San Marcos, with music, swimming, fishing and kayaking are just 15-25 minutes from this retreat. \\nSound like a fit for you? More info:\\nCircuit of the Americas is 18 miles through country roads. It is possible to attend this event and never enter Austin. A toll road will deliver you from the airport to the cabin and the event without the Austin traffic. Also close and south is an after race restaurant popular with race participants. \\n\\nNote for SXSW and other major events: Consider being in the crowds day and night then retreating by the fire at your quiet abode just 15 minutes south from all the ruckus of Central Austin. Invite your friends to hang with you and perhaps make your own music. Guests under 21 welcomed. \\n\\n\\nIncluded in price:\\nheating with wood burner &amp;/or electric heater. Host can prep the fire. Firewood complementary AC for the summer/fall plus ceiling fan\\nNO TV\\nwireless internet - fast\\nwasher/dryer available\\nclaw tub with shower\\nkitchen equipped with small refrigerator, toaster oven, small microwave, coffee maker\\nlarge BBQ pit available\\nof course all towels, quality cotton sheets, feathered quilt, pillows, utensils, dishes, cups, coffee, teas and toiletries are ready for you cleaning when requested. \\nup to 3 parking spaces\\n3 fire pits to lounge by\\nprivate patio\\n\\nExtra charges:\\ntransportation: Round trip transportation to the airport or elsewhere offered by host\\npublic bus stop 3 miles from the cabin, it is easy to grab a ride to the bus stop from the host- no charge.\\nweekend reservations are a minimum of 2 nights. If you can only stay 1 night, please ask about an exception so that I can attempt to make it work.\\n\\nGuest have exclusive access to the patio. You are welcome to wander all the grounds with the exception of course, of the private residence.\\nComing soon: a sauna is being converted into a cedar silo sauna.\\nFormula 1 rate includes stocked local wines and beer. Toll road to F1 is less that 2 miles from the cabin and provides a direct shot to the venue, without having to deal with Austin traffic. \\nWEDDING PACKAGE: Evening before and night of wedding. This facilitates hosting out of town guests the night before and the day of. (note weekends are a two night minimum. this generally is not practical for the newly weds.) However, the events prior to the big event serves as an informal staging area and a place for your guests who need a meet up, changing and rest area prior to the wedding. Before the bride and groom return from the wedding, host will tidy the cabin and light a fire and candles for their special arrival.\\n\\nI interact with guests as much as they want. Usually, an initial orientation to the cabin and grounds, then texting for the morning \\</td> \n",
       "        <td id=\"T_8a0fb768_e81c_11e8_8bb9_f01898076315row0_col2\" class=\"data row0 col2\" >Manchaca</td> \n",
       "        <td id=\"T_8a0fb768_e81c_11e8_8bb9_f01898076315row0_col3\" class=\"data row0 col3\" >https://www.airbnb.com/rooms/728502?location=Buda%2C%20TX</td> \n",
       "    </tr></tbody> \n",
       "</table> "
      ],
      "text/plain": [
       "<pandas.io.formats.style.Styler at 0x1a1a3894a8>"
      ]
     },
     "metadata": {},
     "output_type": "display_data"
    },
    {
     "data": {
      "text/html": [
       "<style  type=\"text/css\" >\n",
       "</style>  \n",
       "<table id=\"T_8a107b14_e81c_11e8_9c23_f01898076315\" > \n",
       "<thead>    <tr> \n",
       "        <th class=\"blank level0\" ></th> \n",
       "        <th class=\"col_heading level0 col0\" >title</th> \n",
       "        <th class=\"col_heading level0 col1\" >description</th> \n",
       "        <th class=\"col_heading level0 col2\" >city</th> \n",
       "        <th class=\"col_heading level0 col3\" >url</th> \n",
       "    </tr></thead> \n",
       "<tbody>    <tr> \n",
       "        <th id=\"T_8a107b14_e81c_11e8_9c23_f01898076315level0_row0\" class=\"row_heading level0 row0\" >0</th> \n",
       "        <td id=\"T_8a107b14_e81c_11e8_9c23_f01898076315row0_col0\" class=\"data row0 col0\" >Room Of Fame # 2</td> \n",
       "        <td id=\"T_8a107b14_e81c_11e8_9c23_f01898076315row0_col1\" class=\"data row0 col1\" >Welcome to our place, We are close to DFW Airport (10 mins) and Love Field (25 mins) Irving has many fine restaurants and dining, family-friendly activities, and nightlife. Irving is traversed by numerous highways. The Airport Freeway, TX- 183, Interstate 635 , Highway 114 and the President George Bush Turnpike, The Las Colinas area is centered near the intersection of 114 and the Bush turnpike.</td> \n",
       "        <td id=\"T_8a107b14_e81c_11e8_9c23_f01898076315row0_col2\" class=\"data row0 col2\" >Irving</td> \n",
       "        <td id=\"T_8a107b14_e81c_11e8_9c23_f01898076315row0_col3\" class=\"data row0 col3\" >https://www.airbnb.com/rooms/17040842?location=Coppell%2C%20TX</td> \n",
       "    </tr></tbody> \n",
       "</table> "
      ],
      "text/plain": [
       "<pandas.io.formats.style.Styler at 0x1a1a389b70>"
      ]
     },
     "metadata": {},
     "output_type": "display_data"
    },
    {
     "data": {
      "text/html": [
       "<style  type=\"text/css\" >\n",
       "</style>  \n",
       "<table id=\"T_8a112dde_e81c_11e8_a9ac_f01898076315\" > \n",
       "<thead>    <tr> \n",
       "        <th class=\"blank level0\" ></th> \n",
       "        <th class=\"col_heading level0 col0\" >title</th> \n",
       "        <th class=\"col_heading level0 col1\" >description</th> \n",
       "        <th class=\"col_heading level0 col2\" >city</th> \n",
       "        <th class=\"col_heading level0 col3\" >url</th> \n",
       "    </tr></thead> \n",
       "<tbody>    <tr> \n",
       "        <th id=\"T_8a112dde_e81c_11e8_a9ac_f01898076315level0_row0\" class=\"row_heading level0 row0\" >0</th> \n",
       "        <td id=\"T_8a112dde_e81c_11e8_a9ac_f01898076315row0_col0\" class=\"data row0 col0\" >Near IAH...Dogs, coffee, and trails! (2)</td> \n",
       "        <td id=\"T_8a112dde_e81c_11e8_a9ac_f01898076315row0_col1\" class=\"data row0 col1\" >Adventurers and those passing through welcome! My place is relaxed and the atmosphere is easygoing. Only 15-20 minutes from IAH. Happy to work out a pick up/drop off from airport. Dogs (and kids) are welcome to stay as well! They should list coffee under essentials but don't worry I've got you covered. \\n\\nHouse includes a backyard and near some trails, a neighborhood Walmart, and Starbucks. Easy access to 59 for exploring other areas of Houston.\\n\\n*Double listed for different availability</td> \n",
       "        <td id=\"T_8a112dde_e81c_11e8_a9ac_f01898076315row0_col2\" class=\"data row0 col2\" >Humble</td> \n",
       "        <td id=\"T_8a112dde_e81c_11e8_a9ac_f01898076315row0_col3\" class=\"data row0 col3\" >https://www.airbnb.com/rooms/16596486?location=Atascocita%2C%20TX</td> \n",
       "    </tr></tbody> \n",
       "</table> "
      ],
      "text/plain": [
       "<pandas.io.formats.style.Styler at 0x1a1a389860>"
      ]
     },
     "metadata": {},
     "output_type": "display_data"
    }
   ],
   "source": [
    "from IPython.display import display, HTML\n",
    "\n",
    "for file in intersection:\n",
    "    file = read(file)\n",
    "    \n",
    "    result = file[[\"title\",\"description\",\"city\",\"url\"]]\n",
    "    display(result.style)\n",
    "    #print(result.to_html())"
   ]
  },
  {
   "cell_type": "markdown",
   "metadata": {},
   "source": [
    "## 3.2 Conjunctive query & Ranking score"
   ]
  },
  {
   "cell_type": "code",
   "execution_count": null,
   "metadata": {},
   "outputs": [],
   "source": []
  }
 ],
 "metadata": {
  "kernelspec": {
   "display_name": "Python 3",
   "language": "python",
   "name": "python3"
  },
  "language_info": {
   "codemirror_mode": {
    "name": "ipython",
    "version": 3
   },
   "file_extension": ".py",
   "mimetype": "text/x-python",
   "name": "python",
   "nbconvert_exporter": "python",
   "pygments_lexer": "ipython3",
   "version": "3.6.5"
  }
 },
 "nbformat": 4,
 "nbformat_minor": 2
}
