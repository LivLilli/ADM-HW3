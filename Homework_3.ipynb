{
 "cells": [
  {
   "cell_type": "code",
   "execution_count": 1,
   "metadata": {},
   "outputs": [
    {
     "name": "stdout",
     "output_type": "stream",
     "text": [
      "[nltk_data] Downloading package stopwords to\n",
      "[nltk_data]     /Users/livialilli/nltk_data...\n",
      "[nltk_data]   Package stopwords is already up-to-date!\n"
     ]
    }
   ],
   "source": [
    "import pandas\n",
    "import csv\n",
    "from pandas.core.frame import DataFrame\n",
    "from nltk.tokenize import sent_tokenize, word_tokenize\n",
    "from nltk.stem import PorterStemmer\n",
    "from nltk.corpus import stopwords\n",
    "import nltk\n",
    "nltk.download('stopwords')\n",
    "import string\n",
    "\n"
   ]
  },
  {
   "cell_type": "code",
   "execution_count": 2,
   "metadata": {},
   "outputs": [
    {
     "name": "stdout",
     "output_type": "stream",
     "text": [
      "[nltk_data] Downloading package punkt to\n",
      "[nltk_data]     /Users/livialilli/nltk_data...\n",
      "[nltk_data]   Package punkt is already up-to-date!\n"
     ]
    },
    {
     "data": {
      "text/plain": [
       "True"
      ]
     },
     "execution_count": 2,
     "metadata": {},
     "output_type": "execute_result"
    }
   ],
   "source": [
    "import nltk\n",
    "nltk.download('punkt')"
   ]
  },
  {
   "cell_type": "markdown",
   "metadata": {},
   "source": [
    "# Step 1"
   ]
  },
  {
   "cell_type": "code",
   "execution_count": 3,
   "metadata": {},
   "outputs": [],
   "source": [
    "rentals_file = pandas.read_csv((\"files/Airbnb_Texas_Rentals.csv\"), sep =\",\", delimiter= None, header = \"infer\", names = None, index_col = None,\n",
    "                       encoding=\"ISO-8859-1\")"
   ]
  },
  {
   "cell_type": "code",
   "execution_count": 4,
   "metadata": {},
   "outputs": [
    {
     "data": {
      "text/html": [
       "<div>\n",
       "<style scoped>\n",
       "    .dataframe tbody tr th:only-of-type {\n",
       "        vertical-align: middle;\n",
       "    }\n",
       "\n",
       "    .dataframe tbody tr th {\n",
       "        vertical-align: top;\n",
       "    }\n",
       "\n",
       "    .dataframe thead th {\n",
       "        text-align: right;\n",
       "    }\n",
       "</style>\n",
       "<table border=\"1\" class=\"dataframe\">\n",
       "  <thead>\n",
       "    <tr style=\"text-align: right;\">\n",
       "      <th></th>\n",
       "      <th>Unnamed: 0</th>\n",
       "      <th>average_rate_per_night</th>\n",
       "      <th>bedrooms_count</th>\n",
       "      <th>city</th>\n",
       "      <th>date_of_listing</th>\n",
       "      <th>description</th>\n",
       "      <th>latitude</th>\n",
       "      <th>longitude</th>\n",
       "      <th>title</th>\n",
       "      <th>url</th>\n",
       "    </tr>\n",
       "  </thead>\n",
       "  <tbody>\n",
       "    <tr>\n",
       "      <th>0</th>\n",
       "      <td>1</td>\n",
       "      <td>$27</td>\n",
       "      <td>2</td>\n",
       "      <td>Humble</td>\n",
       "      <td>May 2016</td>\n",
       "      <td>Welcome to stay in private room with queen bed...</td>\n",
       "      <td>30.020138</td>\n",
       "      <td>-95.293996</td>\n",
       "      <td>2 Private rooms/bathroom 10min from IAH airport</td>\n",
       "      <td>https://www.airbnb.com/rooms/18520444?location...</td>\n",
       "    </tr>\n",
       "    <tr>\n",
       "      <th>1</th>\n",
       "      <td>2</td>\n",
       "      <td>$149</td>\n",
       "      <td>4</td>\n",
       "      <td>San Antonio</td>\n",
       "      <td>November 2010</td>\n",
       "      <td>Stylish, fully remodeled home in upscale NW â...</td>\n",
       "      <td>29.503068</td>\n",
       "      <td>-98.447688</td>\n",
       "      <td>Unique Location! Alamo Heights - Designer Insp...</td>\n",
       "      <td>https://www.airbnb.com/rooms/17481455?location...</td>\n",
       "    </tr>\n",
       "    <tr>\n",
       "      <th>2</th>\n",
       "      <td>3</td>\n",
       "      <td>$59</td>\n",
       "      <td>1</td>\n",
       "      <td>Houston</td>\n",
       "      <td>January 2017</td>\n",
       "      <td>'River house on island close to the city' \\nA ...</td>\n",
       "      <td>29.829352</td>\n",
       "      <td>-95.081549</td>\n",
       "      <td>River house near the city</td>\n",
       "      <td>https://www.airbnb.com/rooms/16926307?location...</td>\n",
       "    </tr>\n",
       "  </tbody>\n",
       "</table>\n",
       "</div>"
      ],
      "text/plain": [
       "   Unnamed: 0 average_rate_per_night bedrooms_count         city  \\\n",
       "0           1                    $27              2       Humble   \n",
       "1           2                   $149              4  San Antonio   \n",
       "2           3                    $59              1      Houston   \n",
       "\n",
       "  date_of_listing                                        description  \\\n",
       "0        May 2016  Welcome to stay in private room with queen bed...   \n",
       "1   November 2010  Stylish, fully remodeled home in upscale NW â...   \n",
       "2    January 2017  'River house on island close to the city' \\nA ...   \n",
       "\n",
       "    latitude  longitude                                              title  \\\n",
       "0  30.020138 -95.293996    2 Private rooms/bathroom 10min from IAH airport   \n",
       "1  29.503068 -98.447688  Unique Location! Alamo Heights - Designer Insp...   \n",
       "2  29.829352 -95.081549                          River house near the city   \n",
       "\n",
       "                                                 url  \n",
       "0  https://www.airbnb.com/rooms/18520444?location...  \n",
       "1  https://www.airbnb.com/rooms/17481455?location...  \n",
       "2  https://www.airbnb.com/rooms/16926307?location...  "
      ]
     },
     "execution_count": 4,
     "metadata": {},
     "output_type": "execute_result"
    }
   ],
   "source": [
    "rentals_file.head(3)"
   ]
  },
  {
   "cell_type": "markdown",
   "metadata": {},
   "source": [
    "# Step 2"
   ]
  },
  {
   "cell_type": "code",
   "execution_count": 5,
   "metadata": {
    "collapsed": true
   },
   "outputs": [
    {
     "ename": "KeyboardInterrupt",
     "evalue": "",
     "output_type": "error",
     "traceback": [
      "\u001b[0;31m---------------------------------------------------------------------------\u001b[0m",
      "\u001b[0;31mKeyboardInterrupt\u001b[0m                         Traceback (most recent call last)",
      "\u001b[0;32m<ipython-input-5-89cdb20c78ae>\u001b[0m in \u001b[0;36m<module>\u001b[0;34m()\u001b[0m\n\u001b[1;32m      4\u001b[0m     \u001b[0mrecord\u001b[0m \u001b[0;34m=\u001b[0m \u001b[0mrentals_file\u001b[0m\u001b[0;34m.\u001b[0m\u001b[0mloc\u001b[0m\u001b[0;34m[\u001b[0m\u001b[0;34m[\u001b[0m\u001b[0mr\u001b[0m\u001b[0;34m]\u001b[0m\u001b[0;34m]\u001b[0m\u001b[0;34m\u001b[0m\u001b[0m\n\u001b[1;32m      5\u001b[0m     \u001b[0mname\u001b[0m \u001b[0;34m=\u001b[0m \u001b[0;34m\"doc_\"\u001b[0m \u001b[0;34m+\u001b[0m \u001b[0mstr\u001b[0m\u001b[0;34m(\u001b[0m\u001b[0mi\u001b[0m\u001b[0;34m)\u001b[0m \u001b[0;34m+\u001b[0m\u001b[0;34m\".tsv\"\u001b[0m\u001b[0;34m\u001b[0m\u001b[0m\n\u001b[0;32m----> 6\u001b[0;31m     \u001b[0mrecord\u001b[0m\u001b[0;34m.\u001b[0m\u001b[0mto_csv\u001b[0m\u001b[0;34m(\u001b[0m\u001b[0mpath_or_buf\u001b[0m \u001b[0;34m=\u001b[0m \u001b[0mname\u001b[0m\u001b[0;34m,\u001b[0m \u001b[0msep\u001b[0m\u001b[0;34m=\u001b[0m\u001b[0;34m'\\t'\u001b[0m\u001b[0;34m)\u001b[0m\u001b[0;34m\u001b[0m\u001b[0m\n\u001b[0m\u001b[1;32m      7\u001b[0m \u001b[0;34m\u001b[0m\u001b[0m\n\u001b[1;32m      8\u001b[0m     \u001b[0mi\u001b[0m \u001b[0;34m+=\u001b[0m \u001b[0;36m1\u001b[0m\u001b[0;34m\u001b[0m\u001b[0m\n",
      "\u001b[0;32m/anaconda3/lib/python3.6/site-packages/pandas/core/frame.py\u001b[0m in \u001b[0;36mto_csv\u001b[0;34m(self, path_or_buf, sep, na_rep, float_format, columns, header, index, index_label, mode, encoding, compression, quoting, quotechar, line_terminator, chunksize, tupleize_cols, date_format, doublequote, escapechar, decimal)\u001b[0m\n\u001b[1;32m   1743\u001b[0m                                  \u001b[0mdoublequote\u001b[0m\u001b[0;34m=\u001b[0m\u001b[0mdoublequote\u001b[0m\u001b[0;34m,\u001b[0m\u001b[0;34m\u001b[0m\u001b[0m\n\u001b[1;32m   1744\u001b[0m                                  escapechar=escapechar, decimal=decimal)\n\u001b[0;32m-> 1745\u001b[0;31m         \u001b[0mformatter\u001b[0m\u001b[0;34m.\u001b[0m\u001b[0msave\u001b[0m\u001b[0;34m(\u001b[0m\u001b[0;34m)\u001b[0m\u001b[0;34m\u001b[0m\u001b[0m\n\u001b[0m\u001b[1;32m   1746\u001b[0m \u001b[0;34m\u001b[0m\u001b[0m\n\u001b[1;32m   1747\u001b[0m         \u001b[0;32mif\u001b[0m \u001b[0mpath_or_buf\u001b[0m \u001b[0;32mis\u001b[0m \u001b[0;32mNone\u001b[0m\u001b[0;34m:\u001b[0m\u001b[0;34m\u001b[0m\u001b[0m\n",
      "\u001b[0;32m/anaconda3/lib/python3.6/site-packages/pandas/io/formats/csvs.py\u001b[0m in \u001b[0;36msave\u001b[0;34m(self)\u001b[0m\n\u001b[1;32m    134\u001b[0m             f, handles = _get_handle(self.path_or_buf, self.mode,\n\u001b[1;32m    135\u001b[0m                                      \u001b[0mencoding\u001b[0m\u001b[0;34m=\u001b[0m\u001b[0mencoding\u001b[0m\u001b[0;34m,\u001b[0m\u001b[0;34m\u001b[0m\u001b[0m\n\u001b[0;32m--> 136\u001b[0;31m                                      compression=None)\n\u001b[0m\u001b[1;32m    137\u001b[0m             \u001b[0mclose\u001b[0m \u001b[0;34m=\u001b[0m \u001b[0;32mTrue\u001b[0m \u001b[0;32mif\u001b[0m \u001b[0mself\u001b[0m\u001b[0;34m.\u001b[0m\u001b[0mcompression\u001b[0m \u001b[0;32mis\u001b[0m \u001b[0;32mNone\u001b[0m \u001b[0;32melse\u001b[0m \u001b[0;32mFalse\u001b[0m\u001b[0;34m\u001b[0m\u001b[0m\n\u001b[1;32m    138\u001b[0m \u001b[0;34m\u001b[0m\u001b[0m\n",
      "\u001b[0;32m/anaconda3/lib/python3.6/site-packages/pandas/io/common.py\u001b[0m in \u001b[0;36m_get_handle\u001b[0;34m(path_or_buf, mode, encoding, compression, memory_map, is_text)\u001b[0m\n\u001b[1;32m    324\u001b[0m     \"\"\"\n\u001b[1;32m    325\u001b[0m     \u001b[0;32mtry\u001b[0m\u001b[0;34m:\u001b[0m\u001b[0;34m\u001b[0m\u001b[0m\n\u001b[0;32m--> 326\u001b[0;31m         \u001b[0;32mfrom\u001b[0m \u001b[0ms3fs\u001b[0m \u001b[0;32mimport\u001b[0m \u001b[0mS3File\u001b[0m\u001b[0;34m\u001b[0m\u001b[0m\n\u001b[0m\u001b[1;32m    327\u001b[0m         \u001b[0mneed_text_wrapping\u001b[0m \u001b[0;34m=\u001b[0m \u001b[0;34m(\u001b[0m\u001b[0mBytesIO\u001b[0m\u001b[0;34m,\u001b[0m \u001b[0mS3File\u001b[0m\u001b[0;34m)\u001b[0m\u001b[0;34m\u001b[0m\u001b[0m\n\u001b[1;32m    328\u001b[0m     \u001b[0;32mexcept\u001b[0m \u001b[0mImportError\u001b[0m\u001b[0;34m:\u001b[0m\u001b[0;34m\u001b[0m\u001b[0m\n",
      "\u001b[0;32m/anaconda3/lib/python3.6/importlib/_bootstrap.py\u001b[0m in \u001b[0;36m_find_and_load\u001b[0;34m(name, import_)\u001b[0m\n",
      "\u001b[0;32m/anaconda3/lib/python3.6/importlib/_bootstrap.py\u001b[0m in \u001b[0;36m_find_and_load_unlocked\u001b[0;34m(name, import_)\u001b[0m\n",
      "\u001b[0;32m/anaconda3/lib/python3.6/importlib/_bootstrap.py\u001b[0m in \u001b[0;36m_find_spec\u001b[0;34m(name, path, target)\u001b[0m\n",
      "\u001b[0;32m/anaconda3/lib/python3.6/importlib/_bootstrap_external.py\u001b[0m in \u001b[0;36mfind_spec\u001b[0;34m(cls, fullname, path, target)\u001b[0m\n",
      "\u001b[0;32m/anaconda3/lib/python3.6/importlib/_bootstrap_external.py\u001b[0m in \u001b[0;36m_get_spec\u001b[0;34m(cls, fullname, path, target)\u001b[0m\n",
      "\u001b[0;32m/anaconda3/lib/python3.6/importlib/_bootstrap_external.py\u001b[0m in \u001b[0;36mfind_spec\u001b[0;34m(self, fullname, target)\u001b[0m\n",
      "\u001b[0;32m/anaconda3/lib/python3.6/importlib/_bootstrap_external.py\u001b[0m in \u001b[0;36m_fill_cache\u001b[0;34m(self)\u001b[0m\n",
      "\u001b[0;31mKeyboardInterrupt\u001b[0m: "
     ]
    }
   ],
   "source": [
    "#creating tsv files\n",
    "i = 0\n",
    "for r in range(len(rentals_file)):\n",
    "    record = rentals_file.loc[[r]]\n",
    "    name = \"doc_\" + str(i) +\".tsv\"\n",
    "    record.to_csv(path_or_buf = name, sep='\\t')\n",
    "    \n",
    "    i += 1\n",
    "    "
   ]
  },
  {
   "cell_type": "code",
   "execution_count": 5,
   "metadata": {},
   "outputs": [],
   "source": [
    "#function to read the tsv file\n",
    "def read(file_name):\n",
    "    read_file = pandas.read_csv(file_name, sep =\"\\t\", delimiter= None, header = \"infer\", names = None, index_col = None, usecols = None,\n",
    "                       encoding=\"ISO-8859-1\")\n",
    "    return read_file\n",
    "    "
   ]
  },
  {
   "cell_type": "code",
   "execution_count": 6,
   "metadata": {},
   "outputs": [],
   "source": [
    "#for now I just consider one tsv file\n",
    "d = read(\"files/doc_0.tsv\")"
   ]
  },
  {
   "cell_type": "code",
   "execution_count": 7,
   "metadata": {},
   "outputs": [
    {
     "data": {
      "text/html": [
       "<div>\n",
       "<style scoped>\n",
       "    .dataframe tbody tr th:only-of-type {\n",
       "        vertical-align: middle;\n",
       "    }\n",
       "\n",
       "    .dataframe tbody tr th {\n",
       "        vertical-align: top;\n",
       "    }\n",
       "\n",
       "    .dataframe thead th {\n",
       "        text-align: right;\n",
       "    }\n",
       "</style>\n",
       "<table border=\"1\" class=\"dataframe\">\n",
       "  <thead>\n",
       "    <tr style=\"text-align: right;\">\n",
       "      <th></th>\n",
       "      <th>Unnamed: 0</th>\n",
       "      <th>Unnamed: 0.1</th>\n",
       "      <th>average_rate_per_night</th>\n",
       "      <th>bedrooms_count</th>\n",
       "      <th>city</th>\n",
       "      <th>date_of_listing</th>\n",
       "      <th>description</th>\n",
       "      <th>latitude</th>\n",
       "      <th>longitude</th>\n",
       "      <th>title</th>\n",
       "      <th>url</th>\n",
       "    </tr>\n",
       "  </thead>\n",
       "  <tbody>\n",
       "    <tr>\n",
       "      <th>0</th>\n",
       "      <td>0</td>\n",
       "      <td>1</td>\n",
       "      <td>$27</td>\n",
       "      <td>2</td>\n",
       "      <td>Humble</td>\n",
       "      <td>May 2016</td>\n",
       "      <td>Welcome to stay in private room with queen bed...</td>\n",
       "      <td>30.020138</td>\n",
       "      <td>-95.293996</td>\n",
       "      <td>2 Private rooms/bathroom 10min from IAH airport</td>\n",
       "      <td>https://www.airbnb.com/rooms/18520444?location...</td>\n",
       "    </tr>\n",
       "  </tbody>\n",
       "</table>\n",
       "</div>"
      ],
      "text/plain": [
       "   Unnamed: 0  Unnamed: 0.1 average_rate_per_night  bedrooms_count    city  \\\n",
       "0           0             1                    $27               2  Humble   \n",
       "\n",
       "  date_of_listing                                        description  \\\n",
       "0        May 2016  Welcome to stay in private room with queen bed...   \n",
       "\n",
       "    latitude  longitude                                            title  \\\n",
       "0  30.020138 -95.293996  2 Private rooms/bathroom 10min from IAH airport   \n",
       "\n",
       "                                                 url  \n",
       "0  https://www.airbnb.com/rooms/18520444?location...  "
      ]
     },
     "execution_count": 7,
     "metadata": {},
     "output_type": "execute_result"
    }
   ],
   "source": [
    "d"
   ]
  },
  {
   "cell_type": "code",
   "execution_count": 8,
   "metadata": {},
   "outputs": [
    {
     "data": {
      "text/plain": [
       "0    Welcome to stay in private room with queen bed...\n",
       "Name: description, dtype: object"
      ]
     },
     "execution_count": 8,
     "metadata": {},
     "output_type": "execute_result"
    }
   ],
   "source": [
    "d[\"description\"]"
   ]
  },
  {
   "cell_type": "code",
   "execution_count": 9,
   "metadata": {},
   "outputs": [],
   "source": [
    "s = d[\"description\"][0]"
   ]
  },
  {
   "cell_type": "code",
   "execution_count": 10,
   "metadata": {},
   "outputs": [
    {
     "data": {
      "text/plain": [
       "'Welcome to stay in private room with queen bed and detached private bathroom on the second floor. Another private bedroom with sofa bed is available for additional guests. 10$ for an additional guest.\\\\n10min from IAH airport\\\\nAirport pick-up/drop off is available for $10/trip.'"
      ]
     },
     "execution_count": 10,
     "metadata": {},
     "output_type": "execute_result"
    }
   ],
   "source": [
    "s"
   ]
  },
  {
   "cell_type": "code",
   "execution_count": 11,
   "metadata": {},
   "outputs": [],
   "source": [
    "col_names = [\"average_rate_per_night\",\"bedrooms_count\", \"city\", \"date_of_listing\", \"description\", \"latitude\", \"longitude\",\"title\",\"url\"]"
   ]
  },
  {
   "cell_type": "markdown",
   "metadata": {},
   "source": [
    "# Step 3"
   ]
  },
  {
   "cell_type": "markdown",
   "metadata": {},
   "source": [
    "## Preprocessing"
   ]
  },
  {
   "cell_type": "code",
   "execution_count": 12,
   "metadata": {},
   "outputs": [],
   "source": [
    "def stopWords(column_file):\n",
    "    \n",
    "    stopWords = set(stopwords.words('english'))\n",
    "    words = word_tokenize(str(column_file))\n",
    "    wordsFiltered = []\n",
    "\n",
    "    for w in words:\n",
    "        if w not in stopWords:\n",
    "            wordsFiltered.append(w)\n",
    "    return wordsFiltered\n",
    "    "
   ]
  },
  {
   "cell_type": "code",
   "execution_count": 13,
   "metadata": {},
   "outputs": [],
   "source": [
    "def punctuation(list):\n",
    "    exclude = set(string.punctuation)\n",
    "    for el in list:\n",
    "        if el in exclude:\n",
    "            list.remove(el)\n",
    "    return list"
   ]
  },
  {
   "cell_type": "code",
   "execution_count": 14,
   "metadata": {},
   "outputs": [],
   "source": [
    "def stemming(list):\n",
    "    ps = PorterStemmer()\n",
    "    output = []\n",
    "    for word in list:\n",
    "        stem_word = ps.stem(word)\n",
    "        output.append(stem_word)\n",
    "    return output\n",
    "#it returns a list (of the current column) with all the stem-words\n"
   ]
  },
  {
   "cell_type": "code",
   "execution_count": 15,
   "metadata": {},
   "outputs": [
    {
     "name": "stdout",
     "output_type": "stream",
     "text": [
      "['2', 'privat', 'rooms/bathroom', '10min', 'iah', 'airport']\n"
     ]
    }
   ],
   "source": [
    "#example of application\n",
    "s = stopWords(d[\"title\"][0])\n",
    "p = punctuation(s)\n",
    "print(stemming(p))"
   ]
  },
  {
   "cell_type": "code",
   "execution_count": 16,
   "metadata": {},
   "outputs": [],
   "source": [
    "#On ALL the COLUMNS\n",
    "#applyng stopWords,punctuation and stemming functions for every column of the dataframe\n",
    "#it returns a dictionary, where keys are the columns names, and for every key there is the list of cleaned words.\n",
    "def all_col(read_file):\n",
    "    dic = {}\n",
    "    for name in col_names:\n",
    "        s = str(read_file[name][0]).replace(\"\\\\n\", \" \")\n",
    "        l = stopWords(s)\n",
    "        l = punctuation(l)\n",
    "        result = stemming(l)\n",
    "        dic[name] = result\n",
    "        #print(result)\n",
    "    return dic"
   ]
  },
  {
   "cell_type": "code",
   "execution_count": 17,
   "metadata": {},
   "outputs": [
    {
     "name": "stdout",
     "output_type": "stream",
     "text": [
      "{'average_rate_per_night': ['27'], 'bedrooms_count': ['2'], 'city': ['humbl'], 'date_of_listing': ['may', '2016'], 'description': ['welcom', 'stay', 'privat', 'room', 'queen', 'bed', 'detach', 'privat', 'bathroom', 'second', 'floor', 'anoth', 'privat', 'bedroom', 'sofa', 'bed', 'avail', 'addit', 'guest', '10', 'addit', 'guest', '10min', 'iah', 'airport', 'airport', 'pick-up/drop', 'avail', '10/trip'], 'latitude': ['30.0201379199512'], 'longitude': ['-95.29399600425128'], 'title': ['2', 'privat', 'rooms/bathroom', '10min', 'iah', 'airport'], 'url': ['http', '//www.airbnb.com/rooms/18520444', 'location=cleveland', '2C', '20tx']}\n"
     ]
    }
   ],
   "source": [
    "print(all_col(d))\n"
   ]
  },
  {
   "cell_type": "markdown",
   "metadata": {},
   "source": [
    "## 3.1 Conjunctive query"
   ]
  },
  {
   "cell_type": "code",
   "execution_count": 18,
   "metadata": {},
   "outputs": [],
   "source": [
    "#we have to consider just description and title columns\n",
    "\n",
    "\n",
    "def filter_keys(dictionary):\n",
    "    keys = [\"description\", \"title\"]\n",
    "    return {x: dictionary[x] for x in dictionary if x in keys}\n",
    "\n"
   ]
  },
  {
   "cell_type": "markdown",
   "metadata": {},
   "source": [
    "### 3.1.1 Create your index"
   ]
  },
  {
   "cell_type": "code",
   "execution_count": 58,
   "metadata": {},
   "outputs": [],
   "source": [
    "#for every tsv file, I apply the preprocess, I filter the columns that I need, and then I build the vocabulary\n",
    "vocabulary = {}\n",
    "for i in range(len(rentals_file)):\n",
    "    name = \"files/doc_\" + str(i) +\".tsv\"\n",
    "    df = read(name)\n",
    "    clean_d = all_col(df)\n",
    "    filtered_d = filter_keys(clean_d)\n",
    "    values = filtered_d.values()\n",
    "    for l in values:\n",
    "        for el in l:\n",
    "            if el not in vocabulary.keys():\n",
    "                vocabulary[el] = [name]\n",
    "            else:\n",
    "                vocabulary[el].append(name)\n",
    "    \n",
    "    \n",
    "#it has got as keys the words, as values all the docs where words are in \n",
    "    "
   ]
  },
  {
   "cell_type": "code",
   "execution_count": 59,
   "metadata": {},
   "outputs": [],
   "source": [
    "keys = vocabulary.keys()\n",
    "list_keys = list(keys)\n",
    "file_voc = {}\n",
    "\n",
    "for i in range(len(list_keys)):\n",
    "    term = \"term_id_\" + str(i)\n",
    "    \n",
    "    file_voc[term] = list_keys[i]\n",
    "\n",
    "#it has as keys the id terms, as values, the corrispondent words"
   ]
  },
  {
   "cell_type": "code",
   "execution_count": 61,
   "metadata": {},
   "outputs": [],
   "source": [
    "file_voc_keys = list(file_voc.keys())"
   ]
  },
  {
   "cell_type": "code",
   "execution_count": 63,
   "metadata": {},
   "outputs": [],
   "source": [
    "#this as as keys the term id, as values the docs where id's word is in\n",
    "new = {}\n",
    "for i in range(len(file_voc_keys)):\n",
    "    new_key = file_voc_keys[i]\n",
    "    old_key = file_voc[new_key]\n",
    "    new[new_key] = vocabulary[old_key]"
   ]
  },
  {
   "cell_type": "markdown",
   "metadata": {},
   "source": [
    "### 3.1.2 Execute the query"
   ]
  },
  {
   "cell_type": "code",
   "execution_count": 86,
   "metadata": {},
   "outputs": [
    {
     "name": "stdout",
     "output_type": "stream",
     "text": [
      "welcome world\n"
     ]
    }
   ],
   "source": [
    "query = input()"
   ]
  },
  {
   "cell_type": "code",
   "execution_count": 87,
   "metadata": {},
   "outputs": [],
   "source": [
    "query = stopWords(query)"
   ]
  },
  {
   "cell_type": "code",
   "execution_count": 88,
   "metadata": {},
   "outputs": [],
   "source": [
    "query = punctuation(query)"
   ]
  },
  {
   "cell_type": "code",
   "execution_count": 89,
   "metadata": {},
   "outputs": [],
   "source": [
    "query = stemming(query)"
   ]
  },
  {
   "cell_type": "code",
   "execution_count": 90,
   "metadata": {},
   "outputs": [
    {
     "data": {
      "text/plain": [
       "['welcom', 'world']"
      ]
     },
     "execution_count": 90,
     "metadata": {},
     "output_type": "execute_result"
    }
   ],
   "source": [
    "query"
   ]
  },
  {
   "cell_type": "code",
   "execution_count": 105,
   "metadata": {},
   "outputs": [],
   "source": [
    "docs = {}\n",
    "for word in query:\n",
    "    try:\n",
    "        l = vocabulary[word]\n",
    "        docs[word] = l\n",
    "    except:\n",
    "        pass"
   ]
  },
  {
   "cell_type": "code",
   "execution_count": 106,
   "metadata": {
    "collapsed": true
   },
   "outputs": [
    {
     "name": "stdout",
     "output_type": "stream",
     "text": [
      "{'welcom': ['files/doc_0.tsv', 'files/doc_4.tsv', 'files/doc_22.tsv', 'files/doc_22.tsv', 'files/doc_50.tsv', 'files/doc_58.tsv', 'files/doc_58.tsv', 'files/doc_70.tsv', 'files/doc_70.tsv', 'files/doc_94.tsv', 'files/doc_104.tsv', 'files/doc_125.tsv', 'files/doc_146.tsv', 'files/doc_150.tsv', 'files/doc_196.tsv', 'files/doc_199.tsv', 'files/doc_200.tsv', 'files/doc_222.tsv', 'files/doc_236.tsv', 'files/doc_250.tsv', 'files/doc_275.tsv', 'files/doc_288.tsv', 'files/doc_296.tsv', 'files/doc_306.tsv', 'files/doc_332.tsv', 'files/doc_342.tsv', 'files/doc_346.tsv', 'files/doc_384.tsv', 'files/doc_404.tsv', 'files/doc_429.tsv', 'files/doc_435.tsv', 'files/doc_439.tsv', 'files/doc_443.tsv', 'files/doc_449.tsv', 'files/doc_463.tsv', 'files/doc_470.tsv', 'files/doc_474.tsv', 'files/doc_475.tsv', 'files/doc_500.tsv', 'files/doc_503.tsv', 'files/doc_504.tsv', 'files/doc_540.tsv', 'files/doc_549.tsv', 'files/doc_567.tsv', 'files/doc_589.tsv', 'files/doc_607.tsv', 'files/doc_610.tsv', 'files/doc_636.tsv', 'files/doc_670.tsv', 'files/doc_672.tsv', 'files/doc_708.tsv', 'files/doc_735.tsv', 'files/doc_743.tsv', 'files/doc_769.tsv', 'files/doc_770.tsv', 'files/doc_771.tsv', 'files/doc_792.tsv', 'files/doc_793.tsv', 'files/doc_812.tsv', 'files/doc_815.tsv', 'files/doc_816.tsv', 'files/doc_826.tsv', 'files/doc_851.tsv', 'files/doc_855.tsv', 'files/doc_862.tsv', 'files/doc_896.tsv', 'files/doc_908.tsv', 'files/doc_922.tsv', 'files/doc_926.tsv', 'files/doc_944.tsv', 'files/doc_951.tsv', 'files/doc_965.tsv', 'files/doc_976.tsv', 'files/doc_976.tsv', 'files/doc_1024.tsv', 'files/doc_1052.tsv', 'files/doc_1056.tsv', 'files/doc_1058.tsv', 'files/doc_1074.tsv', 'files/doc_1099.tsv', 'files/doc_1121.tsv', 'files/doc_1138.tsv', 'files/doc_1175.tsv', 'files/doc_1179.tsv', 'files/doc_1187.tsv', 'files/doc_1238.tsv', 'files/doc_1240.tsv', 'files/doc_1254.tsv', 'files/doc_1257.tsv', 'files/doc_1258.tsv', 'files/doc_1259.tsv', 'files/doc_1296.tsv', 'files/doc_1305.tsv', 'files/doc_1354.tsv', 'files/doc_1366.tsv', 'files/doc_1384.tsv', 'files/doc_1391.tsv', 'files/doc_1391.tsv', 'files/doc_1397.tsv', 'files/doc_1411.tsv', 'files/doc_1415.tsv', 'files/doc_1420.tsv', 'files/doc_1428.tsv', 'files/doc_1443.tsv', 'files/doc_1501.tsv', 'files/doc_1506.tsv', 'files/doc_1540.tsv', 'files/doc_1541.tsv', 'files/doc_1542.tsv', 'files/doc_1552.tsv', 'files/doc_1561.tsv', 'files/doc_1581.tsv', 'files/doc_1582.tsv', 'files/doc_1589.tsv', 'files/doc_1593.tsv', 'files/doc_1603.tsv', 'files/doc_1605.tsv', 'files/doc_1605.tsv', 'files/doc_1610.tsv', 'files/doc_1611.tsv', 'files/doc_1627.tsv', 'files/doc_1646.tsv', 'files/doc_1674.tsv', 'files/doc_1678.tsv', 'files/doc_1695.tsv', 'files/doc_1695.tsv', 'files/doc_1696.tsv', 'files/doc_1701.tsv', 'files/doc_1730.tsv', 'files/doc_1772.tsv', 'files/doc_1780.tsv', 'files/doc_1839.tsv', 'files/doc_1850.tsv', 'files/doc_1866.tsv', 'files/doc_1902.tsv', 'files/doc_1906.tsv', 'files/doc_1955.tsv', 'files/doc_1964.tsv', 'files/doc_1967.tsv', 'files/doc_1969.tsv', 'files/doc_1969.tsv', 'files/doc_1970.tsv', 'files/doc_1976.tsv', 'files/doc_1999.tsv', 'files/doc_2025.tsv', 'files/doc_2033.tsv', 'files/doc_2039.tsv', 'files/doc_2045.tsv', 'files/doc_2055.tsv', 'files/doc_2057.tsv', 'files/doc_2088.tsv', 'files/doc_2109.tsv', 'files/doc_2129.tsv', 'files/doc_2145.tsv', 'files/doc_2158.tsv', 'files/doc_2160.tsv', 'files/doc_2181.tsv', 'files/doc_2181.tsv', 'files/doc_2212.tsv', 'files/doc_2214.tsv', 'files/doc_2216.tsv', 'files/doc_2246.tsv', 'files/doc_2263.tsv', 'files/doc_2275.tsv', 'files/doc_2279.tsv', 'files/doc_2317.tsv', 'files/doc_2321.tsv', 'files/doc_2340.tsv', 'files/doc_2374.tsv', 'files/doc_2382.tsv', 'files/doc_2389.tsv', 'files/doc_2389.tsv', 'files/doc_2392.tsv', 'files/doc_2400.tsv', 'files/doc_2401.tsv', 'files/doc_2413.tsv', 'files/doc_2421.tsv', 'files/doc_2423.tsv', 'files/doc_2426.tsv', 'files/doc_2429.tsv', 'files/doc_2445.tsv', 'files/doc_2446.tsv', 'files/doc_2465.tsv', 'files/doc_2485.tsv', 'files/doc_2489.tsv', 'files/doc_2489.tsv', 'files/doc_2492.tsv', 'files/doc_2500.tsv', 'files/doc_2510.tsv', 'files/doc_2511.tsv', 'files/doc_2511.tsv', 'files/doc_2546.tsv', 'files/doc_2558.tsv', 'files/doc_2561.tsv', 'files/doc_2573.tsv', 'files/doc_2612.tsv', 'files/doc_2699.tsv', 'files/doc_2704.tsv', 'files/doc_2706.tsv', 'files/doc_2717.tsv', 'files/doc_2731.tsv', 'files/doc_2743.tsv', 'files/doc_2746.tsv', 'files/doc_2797.tsv', 'files/doc_2806.tsv', 'files/doc_2873.tsv', 'files/doc_2939.tsv', 'files/doc_2942.tsv', 'files/doc_2942.tsv', 'files/doc_2950.tsv', 'files/doc_2955.tsv', 'files/doc_2972.tsv', 'files/doc_2985.tsv', 'files/doc_3009.tsv', 'files/doc_3014.tsv', 'files/doc_3046.tsv', 'files/doc_3066.tsv', 'files/doc_3076.tsv', 'files/doc_3097.tsv', 'files/doc_3115.tsv', 'files/doc_3118.tsv', 'files/doc_3118.tsv', 'files/doc_3129.tsv', 'files/doc_3184.tsv', 'files/doc_3193.tsv', 'files/doc_3209.tsv', 'files/doc_3213.tsv', 'files/doc_3224.tsv', 'files/doc_3230.tsv', 'files/doc_3267.tsv', 'files/doc_3280.tsv', 'files/doc_3284.tsv', 'files/doc_3285.tsv', 'files/doc_3288.tsv', 'files/doc_3323.tsv', 'files/doc_3334.tsv', 'files/doc_3350.tsv', 'files/doc_3363.tsv', 'files/doc_3370.tsv', 'files/doc_3370.tsv', 'files/doc_3377.tsv', 'files/doc_3383.tsv', 'files/doc_3386.tsv', 'files/doc_3412.tsv', 'files/doc_3412.tsv', 'files/doc_3447.tsv', 'files/doc_3449.tsv', 'files/doc_3452.tsv', 'files/doc_3454.tsv', 'files/doc_3494.tsv', 'files/doc_3534.tsv', 'files/doc_3535.tsv', 'files/doc_3538.tsv', 'files/doc_3543.tsv', 'files/doc_3552.tsv', 'files/doc_3559.tsv', 'files/doc_3579.tsv', 'files/doc_3604.tsv', 'files/doc_3609.tsv', 'files/doc_3647.tsv', 'files/doc_3651.tsv', 'files/doc_3663.tsv', 'files/doc_3668.tsv', 'files/doc_3694.tsv', 'files/doc_3700.tsv', 'files/doc_3700.tsv', 'files/doc_3716.tsv', 'files/doc_3752.tsv', 'files/doc_3758.tsv', 'files/doc_3827.tsv', 'files/doc_3827.tsv', 'files/doc_3843.tsv', 'files/doc_3845.tsv', 'files/doc_3849.tsv', 'files/doc_3852.tsv', 'files/doc_3864.tsv', 'files/doc_3864.tsv', 'files/doc_3864.tsv', 'files/doc_3873.tsv', 'files/doc_3874.tsv', 'files/doc_3874.tsv', 'files/doc_3901.tsv', 'files/doc_3901.tsv', 'files/doc_3901.tsv', 'files/doc_3910.tsv', 'files/doc_3947.tsv', 'files/doc_3947.tsv', 'files/doc_3954.tsv', 'files/doc_3983.tsv', 'files/doc_3989.tsv', 'files/doc_3998.tsv', 'files/doc_4010.tsv', 'files/doc_4010.tsv', 'files/doc_4028.tsv', 'files/doc_4032.tsv', 'files/doc_4032.tsv', 'files/doc_4043.tsv', 'files/doc_4063.tsv', 'files/doc_4077.tsv', 'files/doc_4099.tsv', 'files/doc_4101.tsv', 'files/doc_4101.tsv', 'files/doc_4110.tsv', 'files/doc_4113.tsv', 'files/doc_4148.tsv', 'files/doc_4152.tsv', 'files/doc_4154.tsv', 'files/doc_4154.tsv', 'files/doc_4157.tsv', 'files/doc_4175.tsv', 'files/doc_4185.tsv', 'files/doc_4185.tsv', 'files/doc_4206.tsv', 'files/doc_4214.tsv', 'files/doc_4218.tsv', 'files/doc_4235.tsv', 'files/doc_4242.tsv', 'files/doc_4246.tsv', 'files/doc_4248.tsv', 'files/doc_4250.tsv', 'files/doc_4285.tsv', 'files/doc_4309.tsv', 'files/doc_4310.tsv', 'files/doc_4320.tsv', 'files/doc_4334.tsv', 'files/doc_4351.tsv', 'files/doc_4371.tsv', 'files/doc_4403.tsv', 'files/doc_4444.tsv', 'files/doc_4453.tsv', 'files/doc_4459.tsv', 'files/doc_4515.tsv', 'files/doc_4527.tsv', 'files/doc_4548.tsv', 'files/doc_4551.tsv', 'files/doc_4572.tsv', 'files/doc_4582.tsv', 'files/doc_4593.tsv', 'files/doc_4602.tsv', 'files/doc_4609.tsv', 'files/doc_4660.tsv', 'files/doc_4668.tsv', 'files/doc_4668.tsv', 'files/doc_4669.tsv', 'files/doc_4676.tsv', 'files/doc_4742.tsv', 'files/doc_4766.tsv', 'files/doc_4775.tsv', 'files/doc_4791.tsv', 'files/doc_4806.tsv', 'files/doc_4824.tsv', 'files/doc_4846.tsv', 'files/doc_4907.tsv', 'files/doc_4929.tsv', 'files/doc_4931.tsv', 'files/doc_4940.tsv', 'files/doc_4947.tsv', 'files/doc_4947.tsv', 'files/doc_4952.tsv', 'files/doc_4957.tsv', 'files/doc_4967.tsv', 'files/doc_5000.tsv', 'files/doc_5000.tsv', 'files/doc_5008.tsv', 'files/doc_5015.tsv', 'files/doc_5015.tsv', 'files/doc_5015.tsv', 'files/doc_5036.tsv', 'files/doc_5046.tsv', 'files/doc_5054.tsv', 'files/doc_5059.tsv', 'files/doc_5065.tsv', 'files/doc_5074.tsv', 'files/doc_5115.tsv', 'files/doc_5118.tsv', 'files/doc_5169.tsv', 'files/doc_5178.tsv', 'files/doc_5188.tsv', 'files/doc_5188.tsv', 'files/doc_5211.tsv', 'files/doc_5211.tsv', 'files/doc_5215.tsv', 'files/doc_5235.tsv', 'files/doc_5250.tsv', 'files/doc_5263.tsv', 'files/doc_5273.tsv', 'files/doc_5278.tsv', 'files/doc_5290.tsv', 'files/doc_5346.tsv', 'files/doc_5349.tsv', 'files/doc_5358.tsv', 'files/doc_5361.tsv', 'files/doc_5395.tsv', 'files/doc_5408.tsv', 'files/doc_5425.tsv', 'files/doc_5454.tsv', 'files/doc_5491.tsv', 'files/doc_5491.tsv', 'files/doc_5499.tsv', 'files/doc_5512.tsv', 'files/doc_5512.tsv', 'files/doc_5514.tsv', 'files/doc_5517.tsv', 'files/doc_5517.tsv', 'files/doc_5532.tsv', 'files/doc_5536.tsv', 'files/doc_5539.tsv', 'files/doc_5572.tsv', 'files/doc_5590.tsv', 'files/doc_5590.tsv', 'files/doc_5628.tsv', 'files/doc_5630.tsv', 'files/doc_5634.tsv', 'files/doc_5679.tsv', 'files/doc_5694.tsv', 'files/doc_5706.tsv', 'files/doc_5721.tsv', 'files/doc_5770.tsv', 'files/doc_5770.tsv', 'files/doc_5806.tsv', 'files/doc_5814.tsv', 'files/doc_5828.tsv', 'files/doc_5860.tsv', 'files/doc_5872.tsv', 'files/doc_5882.tsv', 'files/doc_5882.tsv', 'files/doc_5886.tsv', 'files/doc_5897.tsv', 'files/doc_5912.tsv', 'files/doc_5927.tsv', 'files/doc_5933.tsv', 'files/doc_5943.tsv', 'files/doc_5952.tsv', 'files/doc_5954.tsv', 'files/doc_5960.tsv', 'files/doc_5963.tsv', 'files/doc_5974.tsv', 'files/doc_6033.tsv', 'files/doc_6037.tsv', 'files/doc_6046.tsv', 'files/doc_6062.tsv', 'files/doc_6065.tsv', 'files/doc_6065.tsv', 'files/doc_6072.tsv', 'files/doc_6088.tsv', 'files/doc_6096.tsv', 'files/doc_6100.tsv', 'files/doc_6143.tsv', 'files/doc_6154.tsv', 'files/doc_6186.tsv', 'files/doc_6186.tsv', 'files/doc_6187.tsv', 'files/doc_6190.tsv', 'files/doc_6197.tsv', 'files/doc_6216.tsv', 'files/doc_6220.tsv', 'files/doc_6226.tsv', 'files/doc_6244.tsv', 'files/doc_6264.tsv', 'files/doc_6321.tsv', 'files/doc_6358.tsv', 'files/doc_6379.tsv', 'files/doc_6383.tsv', 'files/doc_6400.tsv', 'files/doc_6422.tsv', 'files/doc_6484.tsv', 'files/doc_6487.tsv', 'files/doc_6487.tsv', 'files/doc_6492.tsv', 'files/doc_6495.tsv', 'files/doc_6495.tsv', 'files/doc_6495.tsv', 'files/doc_6509.tsv', 'files/doc_6516.tsv', 'files/doc_6531.tsv', 'files/doc_6538.tsv', 'files/doc_6548.tsv', 'files/doc_6644.tsv', 'files/doc_6644.tsv', 'files/doc_6644.tsv', 'files/doc_6654.tsv', 'files/doc_6656.tsv', 'files/doc_6671.tsv', 'files/doc_6723.tsv', 'files/doc_6734.tsv', 'files/doc_6743.tsv', 'files/doc_6743.tsv', 'files/doc_6770.tsv', 'files/doc_6787.tsv', 'files/doc_6796.tsv', 'files/doc_6799.tsv', 'files/doc_6811.tsv', 'files/doc_6819.tsv', 'files/doc_6825.tsv', 'files/doc_6829.tsv', 'files/doc_6832.tsv', 'files/doc_6882.tsv', 'files/doc_6887.tsv', 'files/doc_6897.tsv', 'files/doc_6903.tsv', 'files/doc_6915.tsv', 'files/doc_6921.tsv', 'files/doc_6925.tsv', 'files/doc_6925.tsv', 'files/doc_6932.tsv', 'files/doc_6943.tsv', 'files/doc_6967.tsv', 'files/doc_6974.tsv', 'files/doc_6983.tsv', 'files/doc_7020.tsv', 'files/doc_7031.tsv', 'files/doc_7042.tsv', 'files/doc_7047.tsv', 'files/doc_7112.tsv', 'files/doc_7116.tsv', 'files/doc_7147.tsv', 'files/doc_7157.tsv', 'files/doc_7160.tsv', 'files/doc_7196.tsv', 'files/doc_7221.tsv', 'files/doc_7225.tsv', 'files/doc_7246.tsv', 'files/doc_7282.tsv', 'files/doc_7294.tsv', 'files/doc_7298.tsv', 'files/doc_7302.tsv', 'files/doc_7321.tsv', 'files/doc_7349.tsv', 'files/doc_7358.tsv', 'files/doc_7371.tsv', 'files/doc_7375.tsv', 'files/doc_7377.tsv', 'files/doc_7407.tsv', 'files/doc_7414.tsv', 'files/doc_7420.tsv', 'files/doc_7427.tsv', 'files/doc_7458.tsv', 'files/doc_7460.tsv', 'files/doc_7464.tsv', 'files/doc_7485.tsv', 'files/doc_7493.tsv', 'files/doc_7495.tsv', 'files/doc_7497.tsv', 'files/doc_7515.tsv', 'files/doc_7519.tsv', 'files/doc_7541.tsv', 'files/doc_7588.tsv', 'files/doc_7615.tsv', 'files/doc_7619.tsv', 'files/doc_7628.tsv', 'files/doc_7651.tsv', 'files/doc_7693.tsv', 'files/doc_7693.tsv', 'files/doc_7703.tsv', 'files/doc_7708.tsv', 'files/doc_7713.tsv', 'files/doc_7715.tsv', 'files/doc_7743.tsv', 'files/doc_7760.tsv', 'files/doc_7763.tsv', 'files/doc_7772.tsv', 'files/doc_7808.tsv', 'files/doc_7816.tsv', 'files/doc_7842.tsv', 'files/doc_7842.tsv', 'files/doc_7859.tsv', 'files/doc_7876.tsv', 'files/doc_7891.tsv', 'files/doc_7893.tsv', 'files/doc_7903.tsv', 'files/doc_7905.tsv', 'files/doc_7909.tsv', 'files/doc_7912.tsv', 'files/doc_7918.tsv', 'files/doc_7986.tsv', 'files/doc_7996.tsv', 'files/doc_8004.tsv', 'files/doc_8009.tsv', 'files/doc_8017.tsv', 'files/doc_8019.tsv', 'files/doc_8024.tsv', 'files/doc_8027.tsv', 'files/doc_8028.tsv', 'files/doc_8029.tsv', 'files/doc_8044.tsv', 'files/doc_8045.tsv', 'files/doc_8054.tsv', 'files/doc_8062.tsv', 'files/doc_8089.tsv', 'files/doc_8104.tsv', 'files/doc_8130.tsv', 'files/doc_8134.tsv', 'files/doc_8134.tsv', 'files/doc_8171.tsv', 'files/doc_8172.tsv', 'files/doc_8178.tsv', 'files/doc_8179.tsv', 'files/doc_8179.tsv', 'files/doc_8183.tsv', 'files/doc_8218.tsv', 'files/doc_8223.tsv', 'files/doc_8230.tsv', 'files/doc_8232.tsv', 'files/doc_8232.tsv', 'files/doc_8232.tsv', 'files/doc_8245.tsv', 'files/doc_8247.tsv', 'files/doc_8247.tsv', 'files/doc_8247.tsv', 'files/doc_8253.tsv', 'files/doc_8269.tsv', 'files/doc_8287.tsv', 'files/doc_8293.tsv', 'files/doc_8294.tsv', 'files/doc_8302.tsv', 'files/doc_8302.tsv', 'files/doc_8303.tsv', 'files/doc_8310.tsv', 'files/doc_8322.tsv', 'files/doc_8333.tsv', 'files/doc_8355.tsv', 'files/doc_8359.tsv', 'files/doc_8380.tsv', 'files/doc_8402.tsv', 'files/doc_8426.tsv', 'files/doc_8434.tsv', 'files/doc_8466.tsv', 'files/doc_8477.tsv', 'files/doc_8489.tsv', 'files/doc_8517.tsv', 'files/doc_8521.tsv', 'files/doc_8522.tsv', 'files/doc_8534.tsv', 'files/doc_8577.tsv', 'files/doc_8599.tsv', 'files/doc_8619.tsv', 'files/doc_8620.tsv', 'files/doc_8627.tsv', 'files/doc_8680.tsv', 'files/doc_8687.tsv', 'files/doc_8698.tsv', 'files/doc_8704.tsv', 'files/doc_8720.tsv', 'files/doc_8720.tsv', 'files/doc_8724.tsv', 'files/doc_8724.tsv', 'files/doc_8729.tsv', 'files/doc_8745.tsv', 'files/doc_8752.tsv', 'files/doc_8780.tsv', 'files/doc_8805.tsv', 'files/doc_8820.tsv', 'files/doc_8831.tsv', 'files/doc_8834.tsv', 'files/doc_8838.tsv', 'files/doc_8840.tsv', 'files/doc_8841.tsv', 'files/doc_8854.tsv', 'files/doc_8886.tsv', 'files/doc_8890.tsv', 'files/doc_8905.tsv', 'files/doc_8909.tsv', 'files/doc_8911.tsv', 'files/doc_8918.tsv', 'files/doc_8973.tsv', 'files/doc_8999.tsv', 'files/doc_9035.tsv', 'files/doc_9036.tsv', 'files/doc_9044.tsv', 'files/doc_9066.tsv', 'files/doc_9098.tsv', 'files/doc_9106.tsv', 'files/doc_9108.tsv', 'files/doc_9128.tsv', 'files/doc_9194.tsv', 'files/doc_9220.tsv', 'files/doc_9232.tsv', 'files/doc_9259.tsv', 'files/doc_9261.tsv', 'files/doc_9261.tsv', 'files/doc_9262.tsv', 'files/doc_9290.tsv', 'files/doc_9314.tsv', 'files/doc_9320.tsv', 'files/doc_9324.tsv', 'files/doc_9335.tsv', 'files/doc_9354.tsv', 'files/doc_9369.tsv', 'files/doc_9382.tsv', 'files/doc_9383.tsv', 'files/doc_9395.tsv', 'files/doc_9398.tsv', 'files/doc_9405.tsv', 'files/doc_9435.tsv', 'files/doc_9464.tsv', 'files/doc_9464.tsv', 'files/doc_9477.tsv', 'files/doc_9481.tsv', 'files/doc_9499.tsv', 'files/doc_9531.tsv', 'files/doc_9532.tsv', 'files/doc_9607.tsv', 'files/doc_9608.tsv', 'files/doc_9634.tsv', 'files/doc_9663.tsv', 'files/doc_9680.tsv', 'files/doc_9685.tsv', 'files/doc_9695.tsv', 'files/doc_9729.tsv', 'files/doc_9747.tsv', 'files/doc_9761.tsv', 'files/doc_9780.tsv', 'files/doc_9786.tsv', 'files/doc_9791.tsv', 'files/doc_9799.tsv', 'files/doc_9806.tsv', 'files/doc_9810.tsv', 'files/doc_9820.tsv', 'files/doc_9820.tsv', 'files/doc_9849.tsv', 'files/doc_9853.tsv', 'files/doc_9885.tsv', 'files/doc_9890.tsv', 'files/doc_9892.tsv', 'files/doc_9910.tsv', 'files/doc_9928.tsv', 'files/doc_9943.tsv', 'files/doc_9971.tsv', 'files/doc_9973.tsv', 'files/doc_9974.tsv', 'files/doc_9981.tsv', 'files/doc_9981.tsv', 'files/doc_9996.tsv', 'files/doc_10001.tsv', 'files/doc_10003.tsv', 'files/doc_10029.tsv', 'files/doc_10029.tsv', 'files/doc_10064.tsv', 'files/doc_10094.tsv', 'files/doc_10100.tsv', 'files/doc_10126.tsv', 'files/doc_10128.tsv', 'files/doc_10139.tsv', 'files/doc_10157.tsv', 'files/doc_10180.tsv', 'files/doc_10188.tsv', 'files/doc_10230.tsv', 'files/doc_10250.tsv', 'files/doc_10274.tsv', 'files/doc_10274.tsv', 'files/doc_10277.tsv', 'files/doc_10285.tsv', 'files/doc_10291.tsv', 'files/doc_10315.tsv', 'files/doc_10320.tsv', 'files/doc_10340.tsv', 'files/doc_10347.tsv', 'files/doc_10347.tsv', 'files/doc_10352.tsv', 'files/doc_10390.tsv', 'files/doc_10393.tsv', 'files/doc_10401.tsv', 'files/doc_10421.tsv', 'files/doc_10427.tsv', 'files/doc_10434.tsv', 'files/doc_10439.tsv', 'files/doc_10456.tsv', 'files/doc_10459.tsv', 'files/doc_10472.tsv', 'files/doc_10480.tsv', 'files/doc_10500.tsv', 'files/doc_10503.tsv', 'files/doc_10524.tsv', 'files/doc_10525.tsv', 'files/doc_10532.tsv', 'files/doc_10555.tsv', 'files/doc_10563.tsv', 'files/doc_10574.tsv', 'files/doc_10586.tsv', 'files/doc_10586.tsv', 'files/doc_10589.tsv', 'files/doc_10598.tsv', 'files/doc_10616.tsv', 'files/doc_10618.tsv', 'files/doc_10618.tsv', 'files/doc_10621.tsv', 'files/doc_10635.tsv', 'files/doc_10636.tsv', 'files/doc_10637.tsv', 'files/doc_10674.tsv', 'files/doc_10707.tsv', 'files/doc_10728.tsv', 'files/doc_10742.tsv', 'files/doc_10748.tsv', 'files/doc_10756.tsv', 'files/doc_10760.tsv', 'files/doc_10760.tsv', 'files/doc_10783.tsv', 'files/doc_10788.tsv', 'files/doc_10819.tsv', 'files/doc_10824.tsv', 'files/doc_10839.tsv', 'files/doc_10844.tsv', 'files/doc_10881.tsv', 'files/doc_10882.tsv', 'files/doc_10904.tsv', 'files/doc_10925.tsv', 'files/doc_10932.tsv', 'files/doc_10943.tsv', 'files/doc_10956.tsv', 'files/doc_10963.tsv', 'files/doc_10969.tsv', 'files/doc_10999.tsv', 'files/doc_11009.tsv', 'files/doc_11022.tsv', 'files/doc_11034.tsv', 'files/doc_11104.tsv', 'files/doc_11137.tsv', 'files/doc_11182.tsv', 'files/doc_11240.tsv', 'files/doc_11250.tsv', 'files/doc_11265.tsv', 'files/doc_11304.tsv', 'files/doc_11304.tsv', 'files/doc_11322.tsv', 'files/doc_11324.tsv', 'files/doc_11339.tsv', 'files/doc_11356.tsv', 'files/doc_11394.tsv', 'files/doc_11443.tsv', 'files/doc_11445.tsv', 'files/doc_11450.tsv', 'files/doc_11450.tsv', 'files/doc_11473.tsv', 'files/doc_11516.tsv', 'files/doc_11550.tsv', 'files/doc_11553.tsv', 'files/doc_11556.tsv', 'files/doc_11585.tsv', 'files/doc_11590.tsv', 'files/doc_11616.tsv', 'files/doc_11621.tsv', 'files/doc_11629.tsv', 'files/doc_11646.tsv', 'files/doc_11700.tsv', 'files/doc_11754.tsv', 'files/doc_11795.tsv', 'files/doc_11803.tsv', 'files/doc_11889.tsv', 'files/doc_11917.tsv', 'files/doc_11933.tsv', 'files/doc_11947.tsv', 'files/doc_11947.tsv', 'files/doc_12002.tsv', 'files/doc_12023.tsv', 'files/doc_12035.tsv', 'files/doc_12054.tsv', 'files/doc_12059.tsv', 'files/doc_12073.tsv', 'files/doc_12137.tsv', 'files/doc_12151.tsv', 'files/doc_12170.tsv', 'files/doc_12171.tsv', 'files/doc_12191.tsv', 'files/doc_12192.tsv', 'files/doc_12192.tsv', 'files/doc_12198.tsv', 'files/doc_12216.tsv', 'files/doc_12227.tsv', 'files/doc_12229.tsv', 'files/doc_12243.tsv', 'files/doc_12264.tsv', 'files/doc_12307.tsv', 'files/doc_12319.tsv', 'files/doc_12335.tsv', 'files/doc_12342.tsv', 'files/doc_12354.tsv', 'files/doc_12355.tsv', 'files/doc_12383.tsv', 'files/doc_12383.tsv', 'files/doc_12388.tsv', 'files/doc_12404.tsv', 'files/doc_12406.tsv', 'files/doc_12409.tsv', 'files/doc_12410.tsv', 'files/doc_12412.tsv', 'files/doc_12414.tsv', 'files/doc_12422.tsv', 'files/doc_12424.tsv', 'files/doc_12439.tsv', 'files/doc_12457.tsv', 'files/doc_12462.tsv', 'files/doc_12493.tsv', 'files/doc_12547.tsv', 'files/doc_12551.tsv', 'files/doc_12571.tsv', 'files/doc_12578.tsv', 'files/doc_12586.tsv', 'files/doc_12593.tsv', 'files/doc_12634.tsv', 'files/doc_12648.tsv', 'files/doc_12672.tsv', 'files/doc_12735.tsv', 'files/doc_12775.tsv', 'files/doc_12794.tsv', 'files/doc_12814.tsv', 'files/doc_12818.tsv', 'files/doc_12824.tsv', 'files/doc_12832.tsv', 'files/doc_12844.tsv', 'files/doc_12945.tsv', 'files/doc_12949.tsv', 'files/doc_12951.tsv', 'files/doc_12953.tsv', 'files/doc_12961.tsv', 'files/doc_12965.tsv', 'files/doc_12983.tsv', 'files/doc_12985.tsv', 'files/doc_12987.tsv', 'files/doc_12999.tsv', 'files/doc_13004.tsv', 'files/doc_13029.tsv', 'files/doc_13030.tsv', 'files/doc_13033.tsv', 'files/doc_13040.tsv', 'files/doc_13054.tsv', 'files/doc_13093.tsv', 'files/doc_13101.tsv', 'files/doc_13114.tsv', 'files/doc_13132.tsv', 'files/doc_13144.tsv', 'files/doc_13179.tsv', 'files/doc_13208.tsv', 'files/doc_13225.tsv', 'files/doc_13242.tsv', 'files/doc_13245.tsv', 'files/doc_13245.tsv', 'files/doc_13246.tsv', 'files/doc_13334.tsv', 'files/doc_13348.tsv', 'files/doc_13353.tsv', 'files/doc_13372.tsv', 'files/doc_13372.tsv', 'files/doc_13380.tsv', 'files/doc_13448.tsv', 'files/doc_13463.tsv', 'files/doc_13477.tsv', 'files/doc_13485.tsv', 'files/doc_13489.tsv', 'files/doc_13511.tsv', 'files/doc_13529.tsv', 'files/doc_13623.tsv', 'files/doc_13665.tsv', 'files/doc_13703.tsv', 'files/doc_13703.tsv', 'files/doc_13704.tsv', 'files/doc_13704.tsv', 'files/doc_13723.tsv', 'files/doc_13736.tsv', 'files/doc_13752.tsv', 'files/doc_13763.tsv', 'files/doc_13808.tsv', 'files/doc_13821.tsv', 'files/doc_13825.tsv', 'files/doc_13828.tsv', 'files/doc_13860.tsv', 'files/doc_13863.tsv', 'files/doc_13923.tsv', 'files/doc_13936.tsv', 'files/doc_13942.tsv', 'files/doc_13949.tsv', 'files/doc_13990.tsv', 'files/doc_14009.tsv', 'files/doc_14020.tsv', 'files/doc_14025.tsv', 'files/doc_14026.tsv', 'files/doc_14034.tsv', 'files/doc_14039.tsv', 'files/doc_14120.tsv', 'files/doc_14132.tsv', 'files/doc_14140.tsv', 'files/doc_14164.tsv', 'files/doc_14164.tsv', 'files/doc_14166.tsv', 'files/doc_14174.tsv', 'files/doc_14177.tsv', 'files/doc_14188.tsv', 'files/doc_14225.tsv', 'files/doc_14246.tsv', 'files/doc_14249.tsv', 'files/doc_14254.tsv', 'files/doc_14270.tsv', 'files/doc_14284.tsv', 'files/doc_14291.tsv', 'files/doc_14294.tsv', 'files/doc_14302.tsv', 'files/doc_14317.tsv', 'files/doc_14319.tsv', 'files/doc_14322.tsv', 'files/doc_14328.tsv', 'files/doc_14340.tsv', 'files/doc_14461.tsv', 'files/doc_14461.tsv', 'files/doc_14461.tsv', 'files/doc_14462.tsv', 'files/doc_14463.tsv', 'files/doc_14463.tsv', 'files/doc_14467.tsv', 'files/doc_14499.tsv', 'files/doc_14510.tsv', 'files/doc_14525.tsv', 'files/doc_14598.tsv', 'files/doc_14658.tsv', 'files/doc_14677.tsv', 'files/doc_14698.tsv', 'files/doc_14740.tsv', 'files/doc_14745.tsv', 'files/doc_14761.tsv', 'files/doc_14777.tsv', 'files/doc_14780.tsv', 'files/doc_14784.tsv', 'files/doc_14794.tsv', 'files/doc_14797.tsv', 'files/doc_14822.tsv', 'files/doc_14856.tsv', 'files/doc_14859.tsv', 'files/doc_14862.tsv', 'files/doc_14865.tsv', 'files/doc_14879.tsv', 'files/doc_14895.tsv', 'files/doc_14909.tsv', 'files/doc_14944.tsv', 'files/doc_14954.tsv', 'files/doc_14956.tsv', 'files/doc_14976.tsv', 'files/doc_15031.tsv', 'files/doc_15032.tsv', 'files/doc_15044.tsv', 'files/doc_15044.tsv', 'files/doc_15044.tsv', 'files/doc_15063.tsv', 'files/doc_15093.tsv', 'files/doc_15121.tsv', 'files/doc_15122.tsv', 'files/doc_15138.tsv', 'files/doc_15164.tsv', 'files/doc_15171.tsv', 'files/doc_15218.tsv', 'files/doc_15232.tsv', 'files/doc_15243.tsv', 'files/doc_15266.tsv', 'files/doc_15285.tsv', 'files/doc_15295.tsv', 'files/doc_15301.tsv', 'files/doc_15307.tsv', 'files/doc_15307.tsv', 'files/doc_15330.tsv', 'files/doc_15344.tsv', 'files/doc_15355.tsv', 'files/doc_15370.tsv', 'files/doc_15374.tsv', 'files/doc_15377.tsv', 'files/doc_15427.tsv', 'files/doc_15449.tsv', 'files/doc_15517.tsv', 'files/doc_15535.tsv', 'files/doc_15536.tsv', 'files/doc_15537.tsv', 'files/doc_15537.tsv', 'files/doc_15545.tsv', 'files/doc_15579.tsv', 'files/doc_15594.tsv', 'files/doc_15630.tsv', 'files/doc_15680.tsv', 'files/doc_15687.tsv', 'files/doc_15696.tsv', 'files/doc_15711.tsv', 'files/doc_15748.tsv', 'files/doc_15758.tsv', 'files/doc_15760.tsv', 'files/doc_15785.tsv', 'files/doc_15791.tsv', 'files/doc_15866.tsv', 'files/doc_15883.tsv', 'files/doc_15888.tsv', 'files/doc_15908.tsv', 'files/doc_15927.tsv', 'files/doc_15942.tsv', 'files/doc_15947.tsv', 'files/doc_15969.tsv', 'files/doc_15969.tsv', 'files/doc_15977.tsv', 'files/doc_15984.tsv', 'files/doc_16035.tsv', 'files/doc_16058.tsv', 'files/doc_16068.tsv', 'files/doc_16070.tsv', 'files/doc_16081.tsv', 'files/doc_16090.tsv', 'files/doc_16093.tsv', 'files/doc_16109.tsv', 'files/doc_16111.tsv', 'files/doc_16118.tsv', 'files/doc_16125.tsv', 'files/doc_16137.tsv', 'files/doc_16149.tsv', 'files/doc_16161.tsv', 'files/doc_16173.tsv', 'files/doc_16207.tsv', 'files/doc_16229.tsv', 'files/doc_16232.tsv', 'files/doc_16237.tsv', 'files/doc_16242.tsv', 'files/doc_16330.tsv', 'files/doc_16330.tsv', 'files/doc_16361.tsv', 'files/doc_16361.tsv', 'files/doc_16365.tsv', 'files/doc_16396.tsv', 'files/doc_16416.tsv', 'files/doc_16420.tsv', 'files/doc_16438.tsv', 'files/doc_16452.tsv', 'files/doc_16457.tsv', 'files/doc_16481.tsv', 'files/doc_16491.tsv', 'files/doc_16492.tsv', 'files/doc_16508.tsv', 'files/doc_16509.tsv', 'files/doc_16519.tsv', 'files/doc_16528.tsv', 'files/doc_16534.tsv', 'files/doc_16540.tsv', 'files/doc_16544.tsv', 'files/doc_16553.tsv', 'files/doc_16566.tsv', 'files/doc_16583.tsv', 'files/doc_16597.tsv', 'files/doc_16599.tsv', 'files/doc_16604.tsv', 'files/doc_16641.tsv', 'files/doc_16661.tsv', 'files/doc_16672.tsv', 'files/doc_16672.tsv', 'files/doc_16708.tsv', 'files/doc_16720.tsv', 'files/doc_16740.tsv', 'files/doc_16769.tsv', 'files/doc_16771.tsv', 'files/doc_16771.tsv', 'files/doc_16815.tsv', 'files/doc_16818.tsv', 'files/doc_16827.tsv', 'files/doc_16828.tsv', 'files/doc_16832.tsv', 'files/doc_16835.tsv', 'files/doc_16865.tsv', 'files/doc_16900.tsv', 'files/doc_16925.tsv', 'files/doc_16949.tsv', 'files/doc_16960.tsv', 'files/doc_16964.tsv', 'files/doc_16977.tsv', 'files/doc_16988.tsv', 'files/doc_17035.tsv', 'files/doc_17038.tsv', 'files/doc_17063.tsv', 'files/doc_17087.tsv', 'files/doc_17101.tsv', 'files/doc_17104.tsv', 'files/doc_17115.tsv', 'files/doc_17117.tsv', 'files/doc_17130.tsv', 'files/doc_17140.tsv', 'files/doc_17140.tsv', 'files/doc_17144.tsv', 'files/doc_17150.tsv', 'files/doc_17156.tsv', 'files/doc_17178.tsv', 'files/doc_17181.tsv', 'files/doc_17189.tsv', 'files/doc_17195.tsv', 'files/doc_17249.tsv', 'files/doc_17254.tsv', 'files/doc_17286.tsv', 'files/doc_17293.tsv', 'files/doc_17302.tsv', 'files/doc_17356.tsv', 'files/doc_17369.tsv', 'files/doc_17383.tsv', 'files/doc_17392.tsv', 'files/doc_17411.tsv', 'files/doc_17432.tsv', 'files/doc_17437.tsv', 'files/doc_17437.tsv', 'files/doc_17470.tsv', 'files/doc_17478.tsv', 'files/doc_17493.tsv', 'files/doc_17520.tsv', 'files/doc_17536.tsv', 'files/doc_17558.tsv', 'files/doc_17564.tsv', 'files/doc_17576.tsv', 'files/doc_17598.tsv', 'files/doc_17598.tsv', 'files/doc_17599.tsv', 'files/doc_17632.tsv', 'files/doc_17650.tsv', 'files/doc_17665.tsv', 'files/doc_17691.tsv', 'files/doc_17705.tsv', 'files/doc_17719.tsv', 'files/doc_17723.tsv', 'files/doc_17751.tsv', 'files/doc_17778.tsv', 'files/doc_17784.tsv', 'files/doc_17786.tsv', 'files/doc_17786.tsv', 'files/doc_17787.tsv', 'files/doc_17801.tsv', 'files/doc_17829.tsv', 'files/doc_17857.tsv', 'files/doc_17861.tsv', 'files/doc_17884.tsv', 'files/doc_17913.tsv', 'files/doc_17919.tsv', 'files/doc_17931.tsv', 'files/doc_17940.tsv', 'files/doc_17957.tsv', 'files/doc_17970.tsv', 'files/doc_17986.tsv', 'files/doc_17994.tsv', 'files/doc_18025.tsv', 'files/doc_18034.tsv', 'files/doc_18036.tsv', 'files/doc_18038.tsv', 'files/doc_18069.tsv', 'files/doc_18088.tsv', 'files/doc_18111.tsv', 'files/doc_18115.tsv', 'files/doc_18118.tsv', 'files/doc_18138.tsv', 'files/doc_18139.tsv', 'files/doc_18150.tsv', 'files/doc_18179.tsv', 'files/doc_18181.tsv', 'files/doc_18215.tsv', 'files/doc_18251.tsv'], 'world': ['files/doc_25.tsv', 'files/doc_66.tsv', 'files/doc_107.tsv', 'files/doc_138.tsv', 'files/doc_138.tsv', 'files/doc_154.tsv', 'files/doc_166.tsv', 'files/doc_220.tsv', 'files/doc_229.tsv', 'files/doc_239.tsv', 'files/doc_239.tsv', 'files/doc_473.tsv', 'files/doc_496.tsv', 'files/doc_512.tsv', 'files/doc_666.tsv', 'files/doc_761.tsv', 'files/doc_850.tsv', 'files/doc_869.tsv', 'files/doc_895.tsv', 'files/doc_965.tsv', 'files/doc_1023.tsv', 'files/doc_1092.tsv', 'files/doc_1095.tsv', 'files/doc_1156.tsv', 'files/doc_1247.tsv', 'files/doc_1264.tsv', 'files/doc_1271.tsv', 'files/doc_1588.tsv', 'files/doc_1588.tsv', 'files/doc_1743.tsv', 'files/doc_1774.tsv', 'files/doc_1951.tsv', 'files/doc_2014.tsv', 'files/doc_2163.tsv', 'files/doc_2320.tsv', 'files/doc_2408.tsv', 'files/doc_2411.tsv', 'files/doc_2476.tsv', 'files/doc_2479.tsv', 'files/doc_2667.tsv', 'files/doc_2794.tsv', 'files/doc_2815.tsv', 'files/doc_2831.tsv', 'files/doc_2920.tsv', 'files/doc_2948.tsv', 'files/doc_2948.tsv', 'files/doc_2995.tsv', 'files/doc_3110.tsv', 'files/doc_3150.tsv', 'files/doc_3220.tsv', 'files/doc_3227.tsv', 'files/doc_3236.tsv', 'files/doc_3265.tsv', 'files/doc_3265.tsv', 'files/doc_3302.tsv', 'files/doc_3302.tsv', 'files/doc_3340.tsv', 'files/doc_3359.tsv', 'files/doc_3367.tsv', 'files/doc_3367.tsv', 'files/doc_3370.tsv', 'files/doc_3375.tsv', 'files/doc_3416.tsv', 'files/doc_3433.tsv', 'files/doc_3465.tsv', 'files/doc_3465.tsv', 'files/doc_3486.tsv', 'files/doc_3486.tsv', 'files/doc_3502.tsv', 'files/doc_3514.tsv', 'files/doc_3521.tsv', 'files/doc_3570.tsv', 'files/doc_3582.tsv', 'files/doc_3693.tsv', 'files/doc_3713.tsv', 'files/doc_3722.tsv', 'files/doc_3807.tsv', 'files/doc_3837.tsv', 'files/doc_3863.tsv', 'files/doc_3889.tsv', 'files/doc_3890.tsv', 'files/doc_3905.tsv', 'files/doc_3905.tsv', 'files/doc_3982.tsv', 'files/doc_4068.tsv', 'files/doc_4085.tsv', 'files/doc_4094.tsv', 'files/doc_4126.tsv', 'files/doc_4134.tsv', 'files/doc_4168.tsv', 'files/doc_4246.tsv', 'files/doc_4264.tsv', 'files/doc_4273.tsv', 'files/doc_4284.tsv', 'files/doc_4314.tsv', 'files/doc_4342.tsv', 'files/doc_4349.tsv', 'files/doc_4363.tsv', 'files/doc_4363.tsv', 'files/doc_4395.tsv', 'files/doc_4406.tsv', 'files/doc_4409.tsv', 'files/doc_4416.tsv', 'files/doc_4455.tsv', 'files/doc_4459.tsv', 'files/doc_4459.tsv', 'files/doc_4483.tsv', 'files/doc_4520.tsv', 'files/doc_4535.tsv', 'files/doc_4550.tsv', 'files/doc_4554.tsv', 'files/doc_4587.tsv', 'files/doc_4587.tsv', 'files/doc_4591.tsv', 'files/doc_4593.tsv', 'files/doc_4696.tsv', 'files/doc_4802.tsv', 'files/doc_4817.tsv', 'files/doc_4892.tsv', 'files/doc_5034.tsv', 'files/doc_5058.tsv', 'files/doc_5091.tsv', 'files/doc_5091.tsv', 'files/doc_5146.tsv', 'files/doc_5195.tsv', 'files/doc_5195.tsv', 'files/doc_5216.tsv', 'files/doc_5223.tsv', 'files/doc_5224.tsv', 'files/doc_5284.tsv', 'files/doc_5293.tsv', 'files/doc_5433.tsv', 'files/doc_5468.tsv', 'files/doc_5497.tsv', 'files/doc_5530.tsv', 'files/doc_5553.tsv', 'files/doc_5577.tsv', 'files/doc_5607.tsv', 'files/doc_5633.tsv', 'files/doc_5633.tsv', 'files/doc_5777.tsv', 'files/doc_5777.tsv', 'files/doc_5788.tsv', 'files/doc_5794.tsv', 'files/doc_5811.tsv', 'files/doc_5812.tsv', 'files/doc_5926.tsv', 'files/doc_5956.tsv', 'files/doc_5996.tsv', 'files/doc_6077.tsv', 'files/doc_6077.tsv', 'files/doc_6111.tsv', 'files/doc_6111.tsv', 'files/doc_6155.tsv', 'files/doc_6169.tsv', 'files/doc_6211.tsv', 'files/doc_6245.tsv', 'files/doc_6288.tsv', 'files/doc_6378.tsv', 'files/doc_6462.tsv', 'files/doc_6471.tsv', 'files/doc_6594.tsv', 'files/doc_6781.tsv', 'files/doc_6812.tsv', 'files/doc_6812.tsv', 'files/doc_6826.tsv', 'files/doc_6893.tsv', 'files/doc_7123.tsv', 'files/doc_7123.tsv', 'files/doc_7137.tsv', 'files/doc_7150.tsv', 'files/doc_7168.tsv', 'files/doc_7202.tsv', 'files/doc_7203.tsv', 'files/doc_7257.tsv', 'files/doc_7281.tsv', 'files/doc_7293.tsv', 'files/doc_7350.tsv', 'files/doc_7363.tsv', 'files/doc_7375.tsv', 'files/doc_7411.tsv', 'files/doc_7463.tsv', 'files/doc_7502.tsv', 'files/doc_7547.tsv', 'files/doc_7547.tsv', 'files/doc_7551.tsv', 'files/doc_7552.tsv', 'files/doc_7557.tsv', 'files/doc_7566.tsv', 'files/doc_7690.tsv', 'files/doc_7719.tsv', 'files/doc_7723.tsv', 'files/doc_7731.tsv', 'files/doc_7741.tsv', 'files/doc_7832.tsv', 'files/doc_7846.tsv', 'files/doc_7851.tsv', 'files/doc_7880.tsv', 'files/doc_7886.tsv', 'files/doc_7973.tsv', 'files/doc_7973.tsv', 'files/doc_8020.tsv', 'files/doc_8029.tsv', 'files/doc_8032.tsv', 'files/doc_8062.tsv', 'files/doc_8064.tsv', 'files/doc_8070.tsv', 'files/doc_8070.tsv', 'files/doc_8071.tsv', 'files/doc_8113.tsv', 'files/doc_8114.tsv', 'files/doc_8124.tsv', 'files/doc_8124.tsv', 'files/doc_8131.tsv', 'files/doc_8138.tsv', 'files/doc_8138.tsv', 'files/doc_8147.tsv', 'files/doc_8147.tsv', 'files/doc_8179.tsv', 'files/doc_8212.tsv', 'files/doc_8246.tsv', 'files/doc_8267.tsv', 'files/doc_8329.tsv', 'files/doc_8433.tsv', 'files/doc_8521.tsv', 'files/doc_8550.tsv', 'files/doc_8550.tsv', 'files/doc_8588.tsv', 'files/doc_8630.tsv', 'files/doc_8672.tsv', 'files/doc_8682.tsv', 'files/doc_8704.tsv', 'files/doc_8710.tsv', 'files/doc_8736.tsv', 'files/doc_8737.tsv', 'files/doc_8737.tsv', 'files/doc_8741.tsv', 'files/doc_8743.tsv', 'files/doc_8757.tsv', 'files/doc_8765.tsv', 'files/doc_8772.tsv', 'files/doc_8825.tsv', 'files/doc_8882.tsv', 'files/doc_8909.tsv', 'files/doc_8958.tsv', 'files/doc_9017.tsv', 'files/doc_9050.tsv', 'files/doc_9055.tsv', 'files/doc_9124.tsv', 'files/doc_9124.tsv', 'files/doc_9218.tsv', 'files/doc_9256.tsv', 'files/doc_9293.tsv', 'files/doc_9294.tsv', 'files/doc_9313.tsv', 'files/doc_9373.tsv', 'files/doc_9397.tsv', 'files/doc_9410.tsv', 'files/doc_9413.tsv', 'files/doc_9422.tsv', 'files/doc_9490.tsv', 'files/doc_9516.tsv', 'files/doc_9540.tsv', 'files/doc_9596.tsv', 'files/doc_9608.tsv', 'files/doc_9640.tsv', 'files/doc_9645.tsv', 'files/doc_9655.tsv', 'files/doc_9675.tsv', 'files/doc_9692.tsv', 'files/doc_9743.tsv', 'files/doc_9749.tsv', 'files/doc_9802.tsv', 'files/doc_9821.tsv', 'files/doc_9828.tsv', 'files/doc_9845.tsv', 'files/doc_9845.tsv', 'files/doc_9875.tsv', 'files/doc_9877.tsv', 'files/doc_9877.tsv', 'files/doc_9905.tsv', 'files/doc_9905.tsv', 'files/doc_9928.tsv', 'files/doc_9996.tsv', 'files/doc_10001.tsv', 'files/doc_10003.tsv', 'files/doc_10006.tsv', 'files/doc_10025.tsv', 'files/doc_10048.tsv', 'files/doc_10105.tsv', 'files/doc_10146.tsv', 'files/doc_10163.tsv', 'files/doc_10178.tsv', 'files/doc_10200.tsv', 'files/doc_10240.tsv', 'files/doc_10255.tsv', 'files/doc_10273.tsv', 'files/doc_10321.tsv', 'files/doc_10413.tsv', 'files/doc_10416.tsv', 'files/doc_10470.tsv', 'files/doc_10473.tsv', 'files/doc_10515.tsv', 'files/doc_10555.tsv', 'files/doc_10559.tsv', 'files/doc_10576.tsv', 'files/doc_10580.tsv', 'files/doc_10615.tsv', 'files/doc_10618.tsv', 'files/doc_10622.tsv', 'files/doc_10631.tsv', 'files/doc_10644.tsv', 'files/doc_10688.tsv', 'files/doc_10742.tsv', 'files/doc_10745.tsv', 'files/doc_10775.tsv', 'files/doc_10799.tsv', 'files/doc_10841.tsv', 'files/doc_10870.tsv', 'files/doc_10928.tsv', 'files/doc_10960.tsv', 'files/doc_11022.tsv', 'files/doc_11043.tsv', 'files/doc_11046.tsv', 'files/doc_11062.tsv', 'files/doc_11084.tsv', 'files/doc_11116.tsv', 'files/doc_11116.tsv', 'files/doc_11116.tsv', 'files/doc_11118.tsv', 'files/doc_11146.tsv', 'files/doc_11217.tsv', 'files/doc_11243.tsv', 'files/doc_11254.tsv', 'files/doc_11256.tsv', 'files/doc_11314.tsv', 'files/doc_11327.tsv', 'files/doc_11447.tsv', 'files/doc_11447.tsv', 'files/doc_11485.tsv', 'files/doc_11552.tsv', 'files/doc_11593.tsv', 'files/doc_11752.tsv', 'files/doc_11808.tsv', 'files/doc_11826.tsv', 'files/doc_11849.tsv', 'files/doc_11892.tsv', 'files/doc_11894.tsv', 'files/doc_11904.tsv', 'files/doc_11927.tsv', 'files/doc_11935.tsv', 'files/doc_11968.tsv', 'files/doc_11986.tsv', 'files/doc_11993.tsv', 'files/doc_11993.tsv', 'files/doc_12006.tsv', 'files/doc_12007.tsv', 'files/doc_12033.tsv', 'files/doc_12043.tsv', 'files/doc_12049.tsv', 'files/doc_12066.tsv', 'files/doc_12067.tsv', 'files/doc_12081.tsv', 'files/doc_12081.tsv', 'files/doc_12143.tsv', 'files/doc_12144.tsv', 'files/doc_12157.tsv', 'files/doc_12193.tsv', 'files/doc_12209.tsv', 'files/doc_12215.tsv', 'files/doc_12231.tsv', 'files/doc_12310.tsv', 'files/doc_12325.tsv', 'files/doc_12343.tsv', 'files/doc_12368.tsv', 'files/doc_12386.tsv', 'files/doc_12391.tsv', 'files/doc_12399.tsv', 'files/doc_12412.tsv', 'files/doc_12471.tsv', 'files/doc_12481.tsv', 'files/doc_12482.tsv', 'files/doc_12483.tsv', 'files/doc_12524.tsv', 'files/doc_12622.tsv', 'files/doc_12710.tsv', 'files/doc_12732.tsv', 'files/doc_12748.tsv', 'files/doc_12750.tsv', 'files/doc_13001.tsv', 'files/doc_13061.tsv', 'files/doc_13080.tsv', 'files/doc_13130.tsv', 'files/doc_13274.tsv', 'files/doc_13341.tsv', 'files/doc_13414.tsv', 'files/doc_13427.tsv', 'files/doc_13461.tsv', 'files/doc_13490.tsv', 'files/doc_13603.tsv', 'files/doc_13726.tsv', 'files/doc_13779.tsv', 'files/doc_13780.tsv', 'files/doc_13789.tsv', 'files/doc_13901.tsv', 'files/doc_13972.tsv', 'files/doc_14045.tsv', 'files/doc_14072.tsv', 'files/doc_14259.tsv', 'files/doc_14296.tsv', 'files/doc_14359.tsv', 'files/doc_14362.tsv', 'files/doc_14362.tsv', 'files/doc_14464.tsv', 'files/doc_14464.tsv', 'files/doc_14714.tsv', 'files/doc_14715.tsv', 'files/doc_14715.tsv', 'files/doc_14745.tsv', 'files/doc_14820.tsv', 'files/doc_14844.tsv', 'files/doc_14868.tsv', 'files/doc_15134.tsv', 'files/doc_15145.tsv', 'files/doc_15176.tsv', 'files/doc_15176.tsv', 'files/doc_15177.tsv', 'files/doc_15177.tsv', 'files/doc_15246.tsv', 'files/doc_15261.tsv', 'files/doc_15678.tsv', 'files/doc_15877.tsv', 'files/doc_15883.tsv', 'files/doc_15893.tsv', 'files/doc_15894.tsv', 'files/doc_16050.tsv', 'files/doc_16095.tsv', 'files/doc_16252.tsv', 'files/doc_16252.tsv', 'files/doc_16449.tsv', 'files/doc_16465.tsv', 'files/doc_16509.tsv', 'files/doc_16638.tsv', 'files/doc_16650.tsv', 'files/doc_16662.tsv', 'files/doc_16848.tsv', 'files/doc_17055.tsv', 'files/doc_17146.tsv', 'files/doc_17233.tsv', 'files/doc_17275.tsv', 'files/doc_17275.tsv', 'files/doc_17286.tsv', 'files/doc_17286.tsv', 'files/doc_17292.tsv', 'files/doc_17327.tsv', 'files/doc_17400.tsv', 'files/doc_17477.tsv', 'files/doc_17517.tsv', 'files/doc_17540.tsv', 'files/doc_17633.tsv', 'files/doc_17641.tsv', 'files/doc_17646.tsv', 'files/doc_17660.tsv', 'files/doc_17661.tsv', 'files/doc_17695.tsv', 'files/doc_17698.tsv', 'files/doc_17884.tsv', 'files/doc_17998.tsv', 'files/doc_18092.tsv', 'files/doc_18092.tsv', 'files/doc_18102.tsv', 'files/doc_18120.tsv', 'files/doc_18123.tsv', 'files/doc_18139.tsv', 'files/doc_18146.tsv', 'files/doc_18163.tsv', 'files/doc_18163.tsv', 'files/doc_18209.tsv']}\n"
     ]
    }
   ],
   "source": [
    "print(docs)"
   ]
  },
  {
   "cell_type": "code",
   "execution_count": 119,
   "metadata": {},
   "outputs": [],
   "source": [
    "v = docs.values()"
   ]
  },
  {
   "cell_type": "code",
   "execution_count": 124,
   "metadata": {},
   "outputs": [],
   "source": [
    "v = list(v)"
   ]
  },
  {
   "cell_type": "code",
   "execution_count": 126,
   "metadata": {},
   "outputs": [],
   "source": [
    "intersection = set(v[0]).intersection(*v)"
   ]
  },
  {
   "cell_type": "code",
   "execution_count": 145,
   "metadata": {},
   "outputs": [
    {
     "data": {
      "text/html": [
       "<style  type=\"text/css\" >\n",
       "</style>  \n",
       "<table id=\"T_17dc62c6_e81a_11e8_938b_f01898076315\" > \n",
       "<thead>    <tr> \n",
       "        <th class=\"blank level0\" ></th> \n",
       "        <th class=\"col_heading level0 col0\" >title</th> \n",
       "        <th class=\"col_heading level0 col1\" >description</th> \n",
       "        <th class=\"col_heading level0 col2\" >city</th> \n",
       "        <th class=\"col_heading level0 col3\" >url</th> \n",
       "    </tr></thead> \n",
       "<tbody>    <tr> \n",
       "        <th id=\"T_17dc62c6_e81a_11e8_938b_f01898076315level0_row0\" class=\"row_heading level0 row0\" >0</th> \n",
       "        <td id=\"T_17dc62c6_e81a_11e8_938b_f01898076315row0_col0\" class=\"data row0 col0\" >Kick Back Cabin- Country Townhome</td> \n",
       "        <td id=\"T_17dc62c6_e81a_11e8_938b_f01898076315row0_col1\" class=\"data row0 col1\" >THE PERFECT GETAWAY SPOT! Why? It's the closest vacation rental within walking distance to the World Famous Market Days. Private, fenced in yard (pets welcome) surrounded by beautiful oak trees. BBQ, chiminea, and S'more fixins!! :)</td> \n",
       "        <td id=\"T_17dc62c6_e81a_11e8_938b_f01898076315row0_col2\" class=\"data row0 col2\" >Wimberley</td> \n",
       "        <td id=\"T_17dc62c6_e81a_11e8_938b_f01898076315row0_col3\" class=\"data row0 col3\" >https://www.airbnb.com/rooms/8833656?location=Colorado%20River%2C%20TX</td> \n",
       "    </tr></tbody> \n",
       "</table> "
      ],
      "text/plain": [
       "<pandas.io.formats.style.Styler at 0x1a0bd34ac8>"
      ]
     },
     "metadata": {},
     "output_type": "display_data"
    },
    {
     "data": {
      "text/html": [
       "<style  type=\"text/css\" >\n",
       "</style>  \n",
       "<table id=\"T_17ededa2_e81a_11e8_868b_f01898076315\" > \n",
       "<thead>    <tr> \n",
       "        <th class=\"blank level0\" ></th> \n",
       "        <th class=\"col_heading level0 col0\" >title</th> \n",
       "        <th class=\"col_heading level0 col1\" >description</th> \n",
       "        <th class=\"col_heading level0 col2\" >city</th> \n",
       "        <th class=\"col_heading level0 col3\" >url</th> \n",
       "    </tr></thead> \n",
       "<tbody>    <tr> \n",
       "        <th id=\"T_17ededa2_e81a_11e8_868b_f01898076315level0_row0\" class=\"row_heading level0 row0\" >0</th> \n",
       "        <td id=\"T_17ededa2_e81a_11e8_868b_f01898076315row0_col0\" class=\"data row0 col0\" >Perfect home for work, play, or BMT graduation</td> \n",
       "        <td id=\"T_17ededa2_e81a_11e8_868b_f01898076315row0_col1\" class=\"data row0 col1\" >Welcome to San Antonio where you will stay at this beautiful retreat. Filled with natural light, modern, open space, and a wonderful outdoor entertaining area. Located 6 miles from Sea World, 11 miles from Lackland AFB, and only 14 miles to downtown SA. This home is perfect for business, vacation, Basic Military Training (BMT) graduation where you can spend much derserved time with your new Airman. Looking forward to seeing you!</td> \n",
       "        <td id=\"T_17ededa2_e81a_11e8_868b_f01898076315row0_col2\" class=\"data row0 col2\" >San Antonio</td> \n",
       "        <td id=\"T_17ededa2_e81a_11e8_868b_f01898076315row0_col3\" class=\"data row0 col3\" >https://www.airbnb.com/rooms/16154135?location=Bulverde%2C%20TX</td> \n",
       "    </tr></tbody> \n",
       "</table> "
      ],
      "text/plain": [
       "<pandas.io.formats.style.Styler at 0x105ef9b38>"
      ]
     },
     "metadata": {},
     "output_type": "display_data"
    },
    {
     "data": {
      "text/html": [
       "<style  type=\"text/css\" >\n",
       "</style>  \n",
       "<table id=\"T_17eebdcc_e81a_11e8_b6fc_f01898076315\" > \n",
       "<thead>    <tr> \n",
       "        <th class=\"blank level0\" ></th> \n",
       "        <th class=\"col_heading level0 col0\" >title</th> \n",
       "        <th class=\"col_heading level0 col1\" >description</th> \n",
       "        <th class=\"col_heading level0 col2\" >city</th> \n",
       "        <th class=\"col_heading level0 col3\" >url</th> \n",
       "    </tr></thead> \n",
       "<tbody>    <tr> \n",
       "        <th id=\"T_17eebdcc_e81a_11e8_b6fc_f01898076315level0_row0\" class=\"row_heading level0 row0\" >0</th> \n",
       "        <td id=\"T_17eebdcc_e81a_11e8_b6fc_f01898076315row0_col0\" class=\"data row0 col0\" >LOOK NO FURTHER! This IS YOUR BMT Destination!</td> \n",
       "        <td id=\"T_17eebdcc_e81a_11e8_b6fc_f01898076315row0_col1\" class=\"data row0 col1\" >Welcome to San Antonio! When you stay with us, you are minutes from Lackland AFB, Sea World, shopping, dining, entertainment, downtown San Antonio &amp; the famous River Walk. The home has an open floor plan, ample seating &amp; a large master bedroom with garden tub. A deck in the backyard is a great place to relax. DVD PLAYER, SMART TV, Wii with kid friendly games.</td> \n",
       "        <td id=\"T_17eebdcc_e81a_11e8_b6fc_f01898076315row0_col2\" class=\"data row0 col2\" >San Antonio</td> \n",
       "        <td id=\"T_17eebdcc_e81a_11e8_b6fc_f01898076315row0_col3\" class=\"data row0 col3\" >https://www.airbnb.com/rooms/18491165?location=Castroville%2C%20TX</td> \n",
       "    </tr></tbody> \n",
       "</table> "
      ],
      "text/plain": [
       "<pandas.io.formats.style.Styler at 0x105ee6160>"
      ]
     },
     "metadata": {},
     "output_type": "display_data"
    },
    {
     "data": {
      "text/html": [
       "<style  type=\"text/css\" >\n",
       "</style>  \n",
       "<table id=\"T_17ef93be_e81a_11e8_9569_f01898076315\" > \n",
       "<thead>    <tr> \n",
       "        <th class=\"blank level0\" ></th> \n",
       "        <th class=\"col_heading level0 col0\" >title</th> \n",
       "        <th class=\"col_heading level0 col1\" >description</th> \n",
       "        <th class=\"col_heading level0 col2\" >city</th> \n",
       "        <th class=\"col_heading level0 col3\" >url</th> \n",
       "    </tr></thead> \n",
       "<tbody>    <tr> \n",
       "        <th id=\"T_17ef93be_e81a_11e8_9569_f01898076315level0_row0\" class=\"row_heading level0 row0\" >0</th> \n",
       "        <td id=\"T_17ef93be_e81a_11e8_9569_f01898076315row0_col0\" class=\"data row0 col0\" >COMFORTABLE, QUIET & PRIVATE HOME CENTRAL LOCATION</td> \n",
       "        <td id=\"T_17ef93be_e81a_11e8_9569_f01898076315row0_col1\" class=\"data row0 col1\" >1 upstairs bedroom with 2 twin beds. Private bathroom next to bedroom. Free WiFi. Quiet neighborhood close to airport, River Walk, downtown, the Alamo, museums, the Zoo, shopping, Fiesta Texas, Sea World and great restaurants. We warmly welcome you with morning coffee/tea. Feel free to use the well-equipped kitchen and laundry facilities. Relax on the patio. This is your home-away-from home!! Your privacy is our priority. You will be comfortable here!</td> \n",
       "        <td id=\"T_17ef93be_e81a_11e8_9569_f01898076315row0_col2\" class=\"data row0 col2\" >San Antonio</td> \n",
       "        <td id=\"T_17ef93be_e81a_11e8_9569_f01898076315row0_col3\" class=\"data row0 col3\" >https://www.airbnb.com/rooms/17668828?location=Alamo%20Heights%2C%20TX</td> \n",
       "    </tr></tbody> \n",
       "</table> "
      ],
      "text/plain": [
       "<pandas.io.formats.style.Styler at 0x1a0ef22278>"
      ]
     },
     "metadata": {},
     "output_type": "display_data"
    },
    {
     "data": {
      "text/html": [
       "<style  type=\"text/css\" >\n",
       "</style>  \n",
       "<table id=\"T_17f053da_e81a_11e8_aa90_f01898076315\" > \n",
       "<thead>    <tr> \n",
       "        <th class=\"blank level0\" ></th> \n",
       "        <th class=\"col_heading level0 col0\" >title</th> \n",
       "        <th class=\"col_heading level0 col1\" >description</th> \n",
       "        <th class=\"col_heading level0 col2\" >city</th> \n",
       "        <th class=\"col_heading level0 col3\" >url</th> \n",
       "    </tr></thead> \n",
       "<tbody>    <tr> \n",
       "        <th id=\"T_17f053da_e81a_11e8_aa90_f01898076315level0_row0\" class=\"row_heading level0 row0\" >0</th> \n",
       "        <td id=\"T_17f053da_e81a_11e8_aa90_f01898076315row0_col0\" class=\"data row0 col0\" >Silvia & Luiso \"home sweet home\"</td> \n",
       "        <td id=\"T_17f053da_e81a_11e8_aa90_f01898076315row0_col1\" class=\"data row0 col1\" >2 Bedroom and 1 bathroom, One queen bed on each Bedroom(perfect for a family of 4 due to we only have 1 full bathroom).small children's are welcome!!!!!!!!\\n\\nSAFE And CLEAN !!!!!!! brand new quiet family home nice bathroom between rooms and large closets. T.V.(Both rooms) cable and roku ( gets Netflix,Hulu,etc.) . \\n\\nFREE WI-FI !!!!!!!!\\n\\n\\nNOT A PARTY HOUSE . \\n\\nAll races ,religions,nationalities WELCOMED!!!!!!. \\n\\nNO PETS . NO EXTRA PERSON ALLOWED.\\n\\nOk to use microwave,Keurig coffe maker,assigned area in fridge ( store your leftovers from restaurants ). Our house is located in LACKLAND A.F.B. AREA (7.5 miles ,approx 20 min) 3 miles from 410 interstate loop a,Hwy 90 and Loop 1604.\\n\\nAPPROXIMATE DISTANCES FROM OUR HOUSE TO : SAT !! San Antonio Intl, airport(18 Miles- 26 Min.) Sea world (5.2 Miles - 15 Min.), Downtown River walk ( 15 Miles - 27 Min.), Fiesta Texas Six Flags ( 21 Miles- 29 Min.) Medical center San Antonio (14 Miles-24 Min),The Shops at LA CANTERA (22 Miles- 32 Min.),North Star Mall ( 16 Miles-24 Min.),IngramPark Mall (7.4 Miles-15Min.),San Marcos Outlets(55 Miles-60Min.), Austin !Texas (91 Miles-1hr 32 min).\\n\\n\\nFREE COFFEE,TEA,APPLES,BANANAS,FRUIT BARS,BOTTLED WATER.\\n\\n\\nclose to HEB and Walmart (grocery stores ), Walgreens and CVS ( pharmacy) ,Gas stations( Valero,texaco,she'll etc).)IHOP and many Restaurants.\\nThis house great for vacationers because not a party house !!!!! It's quiet for sleeping day or night.\\n\\nGUEST ACCESS\\nfor the price per night you have access to 2 Bedrooms and 1 full Bathroom for up to 4 people maximum ( No extra people allowed) 2 persons per Bedroom with queen size bed each ( located up stairs , next to the family room ) , kitchen and dinning room and driveway (one car only).</td> \n",
       "        <td id=\"T_17f053da_e81a_11e8_aa90_f01898076315row0_col2\" class=\"data row0 col2\" >San Antonio</td> \n",
       "        <td id=\"T_17f053da_e81a_11e8_aa90_f01898076315row0_col3\" class=\"data row0 col3\" >https://www.airbnb.com/rooms/18999165?location=Castroville%2C%20TX</td> \n",
       "    </tr></tbody> \n",
       "</table> "
      ],
      "text/plain": [
       "<pandas.io.formats.style.Styler at 0x1a0ef22be0>"
      ]
     },
     "metadata": {},
     "output_type": "display_data"
    },
    {
     "data": {
      "text/html": [
       "<style  type=\"text/css\" >\n",
       "</style>  \n",
       "<table id=\"T_17f120a8_e81a_11e8_bfbd_f01898076315\" > \n",
       "<thead>    <tr> \n",
       "        <th class=\"blank level0\" ></th> \n",
       "        <th class=\"col_heading level0 col0\" >title</th> \n",
       "        <th class=\"col_heading level0 col1\" >description</th> \n",
       "        <th class=\"col_heading level0 col2\" >city</th> \n",
       "        <th class=\"col_heading level0 col3\" >url</th> \n",
       "    </tr></thead> \n",
       "<tbody>    <tr> \n",
       "        <th id=\"T_17f120a8_e81a_11e8_bfbd_f01898076315level0_row0\" class=\"row_heading level0 row0\" >0</th> \n",
       "        <td id=\"T_17f120a8_e81a_11e8_bfbd_f01898076315row0_col0\" class=\"data row0 col0\" >Historic Redbird Guest House</td> \n",
       "        <td id=\"T_17f120a8_e81a_11e8_bfbd_f01898076315row0_col1\" class=\"data row0 col1\" >Welcome to the historic Redbird Guest House! This charming 600 sq ft private guest house is part of a beautiful 20 acre private ranch at the edge of San Antonio and a gateway to the Texas Hill Country. \\nNearby attractions are the town of Castroville, Sea World, Lackland AFB, and Medina Lake. \\nYou have access to the private pool, hiking trails, as well as your own private outdoor fire pit and picnic area. Enjoy feeding the horses and s'mores by the fire as you relax and get away from it all!</td> \n",
       "        <td id=\"T_17f120a8_e81a_11e8_bfbd_f01898076315row0_col2\" class=\"data row0 col2\" >San Antonio</td> \n",
       "        <td id=\"T_17f120a8_e81a_11e8_bfbd_f01898076315row0_col3\" class=\"data row0 col3\" >https://www.airbnb.com/rooms/18472139?location=Castroville%2C%20TX</td> \n",
       "    </tr></tbody> \n",
       "</table> "
      ],
      "text/plain": [
       "<pandas.io.formats.style.Styler at 0x1a0ee66320>"
      ]
     },
     "metadata": {},
     "output_type": "display_data"
    },
    {
     "data": {
      "text/html": [
       "<style  type=\"text/css\" >\n",
       "</style>  \n",
       "<table id=\"T_17f2078c_e81a_11e8_ad0d_f01898076315\" > \n",
       "<thead>    <tr> \n",
       "        <th class=\"blank level0\" ></th> \n",
       "        <th class=\"col_heading level0 col0\" >title</th> \n",
       "        <th class=\"col_heading level0 col1\" >description</th> \n",
       "        <th class=\"col_heading level0 col2\" >city</th> \n",
       "        <th class=\"col_heading level0 col3\" >url</th> \n",
       "    </tr></thead> \n",
       "<tbody>    <tr> \n",
       "        <th id=\"T_17f2078c_e81a_11e8_ad0d_f01898076315level0_row0\" class=\"row_heading level0 row0\" >0</th> \n",
       "        <td id=\"T_17f2078c_e81a_11e8_ad0d_f01898076315row0_col0\" class=\"data row0 col0\" >Room #2 Comfy Cozy World Travel Room</td> \n",
       "        <td id=\"T_17f2078c_e81a_11e8_ad0d_f01898076315row0_col1\" class=\"data row0 col1\" >Welcome to The Comfy Cozy World Travel Room w/ the traveler in mind, feel very relaxed in Rm 2, geared towards business,vacation simply a visit to Texas a desk with a comfortable chair RM # 2 has plenty of sunlight and nice big windows and are very clean and well organized with you in mind. (PRIME LOCATION) 5-15 min. from shops and Staples office supplies, Entertainment, movies, banks, The Improv, AT&amp;T Stadium, Six Flags, UTA College &amp; freeways just to name a few.</td> \n",
       "        <td id=\"T_17f2078c_e81a_11e8_ad0d_f01898076315row0_col2\" class=\"data row0 col2\" >Arlington</td> \n",
       "        <td id=\"T_17f2078c_e81a_11e8_ad0d_f01898076315row0_col3\" class=\"data row0 col3\" >https://www.airbnb.com/rooms/17524945?location=Arlington%2C%20TX</td> \n",
       "    </tr></tbody> \n",
       "</table> "
      ],
      "text/plain": [
       "<pandas.io.formats.style.Styler at 0x1a0ef1da20>"
      ]
     },
     "metadata": {},
     "output_type": "display_data"
    },
    {
     "data": {
      "text/html": [
       "<style  type=\"text/css\" >\n",
       "</style>  \n",
       "<table id=\"T_17f2dd8a_e81a_11e8_a6c3_f01898076315\" > \n",
       "<thead>    <tr> \n",
       "        <th class=\"blank level0\" ></th> \n",
       "        <th class=\"col_heading level0 col0\" >title</th> \n",
       "        <th class=\"col_heading level0 col1\" >description</th> \n",
       "        <th class=\"col_heading level0 col2\" >city</th> \n",
       "        <th class=\"col_heading level0 col3\" >url</th> \n",
       "    </tr></thead> \n",
       "<tbody>    <tr> \n",
       "        <th id=\"T_17f2dd8a_e81a_11e8_a6c3_f01898076315level0_row0\" class=\"row_heading level0 row0\" >0</th> \n",
       "        <td id=\"T_17f2dd8a_e81a_11e8_a6c3_f01898076315row0_col0\" class=\"data row0 col0\" >Spacious & Private Lost Pines Loft close to Austin</td> \n",
       "        <td id=\"T_17f2dd8a_e81a_11e8_a6c3_f01898076315row0_col1\" class=\"data row0 col1\" >Our 635 sq. ft. private upstairs loft is welcoming, comfy &amp; spacious and is tucked away on a tranquil &amp; beautiful 5 acres above a detached garage completely separate from our home. You can enjoy with 2 private decks (one 3rd story that's great for star gazing!). Our neighborhood is literally next door the The Hyatt Lost Pines resort which is 5 minutes from our home. Close to Austin yet far enough away, enjoy the best of both worlds!</td> \n",
       "        <td id=\"T_17f2dd8a_e81a_11e8_a6c3_f01898076315row0_col2\" class=\"data row0 col2\" >Cedar Creek</td> \n",
       "        <td id=\"T_17f2dd8a_e81a_11e8_a6c3_f01898076315row0_col3\" class=\"data row0 col3\" >https://www.airbnb.com/rooms/2056359?location=Bastrop%20County%2C%20TX</td> \n",
       "    </tr></tbody> \n",
       "</table> "
      ],
      "text/plain": [
       "<pandas.io.formats.style.Styler at 0x1a0ee661d0>"
      ]
     },
     "metadata": {},
     "output_type": "display_data"
    },
    {
     "data": {
      "text/html": [
       "<style  type=\"text/css\" >\n",
       "</style>  \n",
       "<table id=\"T_17f44238_e81a_11e8_b8ba_f01898076315\" > \n",
       "<thead>    <tr> \n",
       "        <th class=\"blank level0\" ></th> \n",
       "        <th class=\"col_heading level0 col0\" >title</th> \n",
       "        <th class=\"col_heading level0 col1\" >description</th> \n",
       "        <th class=\"col_heading level0 col2\" >city</th> \n",
       "        <th class=\"col_heading level0 col3\" >url</th> \n",
       "    </tr></thead> \n",
       "<tbody>    <tr> \n",
       "        <th id=\"T_17f44238_e81a_11e8_b8ba_f01898076315level0_row0\" class=\"row_heading level0 row0\" >0</th> \n",
       "        <td id=\"T_17f44238_e81a_11e8_b8ba_f01898076315row0_col0\" class=\"data row0 col0\" >Spacious & Private Lost Pines Loft close to Austin</td> \n",
       "        <td id=\"T_17f44238_e81a_11e8_b8ba_f01898076315row0_col1\" class=\"data row0 col1\" >Our 635 sq. ft. private upstairs loft is welcoming, comfy &amp; spacious and is tucked away on a tranquil &amp; beautiful 5 acres above a detached garage completely separate from our home. You can enjoy with 2 private decks (one 3rd story that's great for star gazing!). Our neighborhood is literally next door the The Hyatt Lost Pines resort which is 5 minutes from our home. Close to Austin yet far enough away, enjoy the best of both worlds!</td> \n",
       "        <td id=\"T_17f44238_e81a_11e8_b8ba_f01898076315row0_col2\" class=\"data row0 col2\" >Cedar Creek</td> \n",
       "        <td id=\"T_17f44238_e81a_11e8_b8ba_f01898076315row0_col3\" class=\"data row0 col3\" >https://www.airbnb.com/rooms/2056359?location=Cedar%20Creek%2C%20TX</td> \n",
       "    </tr></tbody> \n",
       "</table> "
      ],
      "text/plain": [
       "<pandas.io.formats.style.Styler at 0x1a0ef224a8>"
      ]
     },
     "metadata": {},
     "output_type": "display_data"
    },
    {
     "data": {
      "text/html": [
       "<style  type=\"text/css\" >\n",
       "</style>  \n",
       "<table id=\"T_17f5d1c0_e81a_11e8_853b_f01898076315\" > \n",
       "<thead>    <tr> \n",
       "        <th class=\"blank level0\" ></th> \n",
       "        <th class=\"col_heading level0 col0\" >title</th> \n",
       "        <th class=\"col_heading level0 col1\" >description</th> \n",
       "        <th class=\"col_heading level0 col2\" >city</th> \n",
       "        <th class=\"col_heading level0 col3\" >url</th> \n",
       "    </tr></thead> \n",
       "<tbody>    <tr> \n",
       "        <th id=\"T_17f5d1c0_e81a_11e8_853b_f01898076315level0_row0\" class=\"row_heading level0 row0\" >0</th> \n",
       "        <td id=\"T_17f5d1c0_e81a_11e8_853b_f01898076315row0_col0\" class=\"data row0 col0\" >COMFORTABLE, QUIET & PRIVATE HOME CENTRAL LOCATION</td> \n",
       "        <td id=\"T_17f5d1c0_e81a_11e8_853b_f01898076315row0_col1\" class=\"data row0 col1\" >1 upstairs bedroom with 2 twin beds. Private bathroom next to bedroom. Free WiFi. Quiet neighborhood close to airport, River Walk, downtown, the Alamo, museums, the Zoo, shopping, Fiesta Texas, Sea World and great restaurants. We warmly welcome you with morning coffee/tea. Feel free to use the well-equipped kitchen and laundry facilities. Relax on the patio. This is your home-away-from home!! Your privacy is our priority. You will be comfortable here!</td> \n",
       "        <td id=\"T_17f5d1c0_e81a_11e8_853b_f01898076315row0_col2\" class=\"data row0 col2\" >San Antonio</td> \n",
       "        <td id=\"T_17f5d1c0_e81a_11e8_853b_f01898076315row0_col3\" class=\"data row0 col3\" >https://www.airbnb.com/rooms/17668828?location=Bulverde%2C%20TX</td> \n",
       "    </tr></tbody> \n",
       "</table> "
      ],
      "text/plain": [
       "<pandas.io.formats.style.Styler at 0x1a0b873cf8>"
      ]
     },
     "metadata": {},
     "output_type": "display_data"
    },
    {
     "data": {
      "text/html": [
       "<style  type=\"text/css\" >\n",
       "</style>  \n",
       "<table id=\"T_17f6d658_e81a_11e8_a4fa_f01898076315\" > \n",
       "<thead>    <tr> \n",
       "        <th class=\"blank level0\" ></th> \n",
       "        <th class=\"col_heading level0 col0\" >title</th> \n",
       "        <th class=\"col_heading level0 col1\" >description</th> \n",
       "        <th class=\"col_heading level0 col2\" >city</th> \n",
       "        <th class=\"col_heading level0 col3\" >url</th> \n",
       "    </tr></thead> \n",
       "<tbody>    <tr> \n",
       "        <th id=\"T_17f6d658_e81a_11e8_a4fa_f01898076315level0_row0\" class=\"row_heading level0 row0\" >0</th> \n",
       "        <td id=\"T_17f6d658_e81a_11e8_a4fa_f01898076315row0_col0\" class=\"data row0 col0\" >JT's</td> \n",
       "        <td id=\"T_17f6d658_e81a_11e8_a4fa_f01898076315row0_col1\" class=\"data row0 col1\" >Welcoming two story 4 bedroom house. Perfect for family get together. Enjoy the Texas sun and cool off in above ground pool with deck, patio, and barbecue area. Infant high chair, bouncy, travel crib, car seat, and more included. 13 minutes from Lackland Air Force Base and 18 minutes from sea world. Full kitchen filled with breakfast items and more. Reserve your dates now.</td> \n",
       "        <td id=\"T_17f6d658_e81a_11e8_a4fa_f01898076315row0_col2\" class=\"data row0 col2\" >San Antonio</td> \n",
       "        <td id=\"T_17f6d658_e81a_11e8_a4fa_f01898076315row0_col3\" class=\"data row0 col3\" >https://www.airbnb.com/rooms/18488312?location=Castroville%2C%20TX</td> \n",
       "    </tr></tbody> \n",
       "</table> "
      ],
      "text/plain": [
       "<pandas.io.formats.style.Styler at 0x1a0ef22a58>"
      ]
     },
     "metadata": {},
     "output_type": "display_data"
    },
    {
     "data": {
      "text/html": [
       "<style  type=\"text/css\" >\n",
       "</style>  \n",
       "<table id=\"T_17f7bf62_e81a_11e8_a85d_f01898076315\" > \n",
       "<thead>    <tr> \n",
       "        <th class=\"blank level0\" ></th> \n",
       "        <th class=\"col_heading level0 col0\" >title</th> \n",
       "        <th class=\"col_heading level0 col1\" >description</th> \n",
       "        <th class=\"col_heading level0 col2\" >city</th> \n",
       "        <th class=\"col_heading level0 col3\" >url</th> \n",
       "    </tr></thead> \n",
       "<tbody>    <tr> \n",
       "        <th id=\"T_17f7bf62_e81a_11e8_a85d_f01898076315level0_row0\" class=\"row_heading level0 row0\" >0</th> \n",
       "        <td id=\"T_17f7bf62_e81a_11e8_a85d_f01898076315row0_col0\" class=\"data row0 col0\" >Sea World/Lackland Charming,Clean,Comftorable Casa</td> \n",
       "        <td id=\"T_17f7bf62_e81a_11e8_a85d_f01898076315row0_col1\" class=\"data row0 col1\" >Our home is ideally for Sea World/Lackland AFB visitors but any other visitor is also welcome, its a comfy 2 story house with 3 bedrooms, 2.5 bathrooms, 2 living areas and entertainment set. The home has a large wooden deck with a BBQ Pit and Trampoline! Conveniently located 7 minutes from Sea world , 8 minutes from Lackland AFB, 20 minutes to The Rim and Six Flags, 20 minutes from Downtown San Antonio.</td> \n",
       "        <td id=\"T_17f7bf62_e81a_11e8_a85d_f01898076315row0_col2\" class=\"data row0 col2\" >San Antonio</td> \n",
       "        <td id=\"T_17f7bf62_e81a_11e8_a85d_f01898076315row0_col3\" class=\"data row0 col3\" >https://www.airbnb.com/rooms/18907830?location=Castroville%2C%20TX</td> \n",
       "    </tr></tbody> \n",
       "</table> "
      ],
      "text/plain": [
       "<pandas.io.formats.style.Styler at 0x1a0eeb2940>"
      ]
     },
     "metadata": {},
     "output_type": "display_data"
    },
    {
     "data": {
      "text/html": [
       "<style  type=\"text/css\" >\n",
       "</style>  \n",
       "<table id=\"T_17f85c58_e81a_11e8_bc45_f01898076315\" > \n",
       "<thead>    <tr> \n",
       "        <th class=\"blank level0\" ></th> \n",
       "        <th class=\"col_heading level0 col0\" >title</th> \n",
       "        <th class=\"col_heading level0 col1\" >description</th> \n",
       "        <th class=\"col_heading level0 col2\" >city</th> \n",
       "        <th class=\"col_heading level0 col3\" >url</th> \n",
       "    </tr></thead> \n",
       "<tbody>    <tr> \n",
       "        <th id=\"T_17f85c58_e81a_11e8_bc45_f01898076315level0_row0\" class=\"row_heading level0 row0\" >0</th> \n",
       "        <td id=\"T_17f85c58_e81a_11e8_bc45_f01898076315row0_col0\" class=\"data row0 col0\" >Private Room near Fiesta Texas</td> \n",
       "        <td id=\"T_17f85c58_e81a_11e8_bc45_f01898076315row0_col1\" class=\"data row0 col1\" >Lovely quiet neighborhood just outside San Antonio in Helotes only 10 minutes away from Fiesta Texas &amp; UTSA, and 15 minute to Sea World. Two full bathrooms available for use. You're welcome to use the kitchen, deck, TV room, and washer &amp; dryer.</td> \n",
       "        <td id=\"T_17f85c58_e81a_11e8_bc45_f01898076315row0_col2\" class=\"data row0 col2\" >Helotes</td> \n",
       "        <td id=\"T_17f85c58_e81a_11e8_bc45_f01898076315row0_col3\" class=\"data row0 col3\" >https://www.airbnb.com/rooms/6360252?location=Boerne%2C%20TX</td> \n",
       "    </tr></tbody> \n",
       "</table> "
      ],
      "text/plain": [
       "<pandas.io.formats.style.Styler at 0x1a0ef1d438>"
      ]
     },
     "metadata": {},
     "output_type": "display_data"
    },
    {
     "data": {
      "text/html": [
       "<style  type=\"text/css\" >\n",
       "</style>  \n",
       "<table id=\"T_17f952f0_e81a_11e8_9b18_f01898076315\" > \n",
       "<thead>    <tr> \n",
       "        <th class=\"blank level0\" ></th> \n",
       "        <th class=\"col_heading level0 col0\" >title</th> \n",
       "        <th class=\"col_heading level0 col1\" >description</th> \n",
       "        <th class=\"col_heading level0 col2\" >city</th> \n",
       "        <th class=\"col_heading level0 col3\" >url</th> \n",
       "    </tr></thead> \n",
       "<tbody>    <tr> \n",
       "        <th id=\"T_17f952f0_e81a_11e8_9b18_f01898076315level0_row0\" class=\"row_heading level0 row0\" >0</th> \n",
       "        <td id=\"T_17f952f0_e81a_11e8_9b18_f01898076315row0_col0\" class=\"data row0 col0\" >The Catfish Cabin on Lake Buchanan</td> \n",
       "        <td id=\"T_17f952f0_e81a_11e8_9b18_f01898076315row0_col1\" class=\"data row0 col1\" >Welcome to our lakeside cabin on Lake Buchanan in the beautiful Texas Hill Country where recreational and relaxing opportunities abound; We are three miles from the scenic trails and observatory at Canyon of the Eagles, six miles from world class mountain biking at Reveille Peak Ranch, and just down the road from the Vanishing Texas River Cruise. We have an on site boat ramp, and a loaner kayak is available.\\nThe wildflowers are blooming and we have the best sunsets in all of Texas, come visit!</td> \n",
       "        <td id=\"T_17f952f0_e81a_11e8_9b18_f01898076315row0_col2\" class=\"data row0 col2\" >Burnet</td> \n",
       "        <td id=\"T_17f952f0_e81a_11e8_9b18_f01898076315row0_col3\" class=\"data row0 col3\" >https://www.airbnb.com/rooms/17693527?location=Buchanan%20Dam%2C%20TX</td> \n",
       "    </tr></tbody> \n",
       "</table> "
      ],
      "text/plain": [
       "<pandas.io.formats.style.Styler at 0x1a0ef1dac8>"
      ]
     },
     "metadata": {},
     "output_type": "display_data"
    },
    {
     "data": {
      "text/html": [
       "<style  type=\"text/css\" >\n",
       "</style>  \n",
       "<table id=\"T_17fa98b8_e81a_11e8_a3b6_f01898076315\" > \n",
       "<thead>    <tr> \n",
       "        <th class=\"blank level0\" ></th> \n",
       "        <th class=\"col_heading level0 col0\" >title</th> \n",
       "        <th class=\"col_heading level0 col1\" >description</th> \n",
       "        <th class=\"col_heading level0 col2\" >city</th> \n",
       "        <th class=\"col_heading level0 col3\" >url</th> \n",
       "    </tr></thead> \n",
       "<tbody>    <tr> \n",
       "        <th id=\"T_17fa98b8_e81a_11e8_a3b6_f01898076315level0_row0\" class=\"row_heading level0 row0\" >0</th> \n",
       "        <td id=\"T_17fa98b8_e81a_11e8_a3b6_f01898076315row0_col0\" class=\"data row0 col0\" >Spacious & Private Lost Pines Loft close to Austin</td> \n",
       "        <td id=\"T_17fa98b8_e81a_11e8_a3b6_f01898076315row0_col1\" class=\"data row0 col1\" >Our 635 sq. ft. private upstairs loft is welcoming, comfy &amp; spacious and is tucked away on a tranquil &amp; beautiful 5 acres above a detached garage completely separate from our home. You can enjoy with 2 private decks (one 3rd story that's great for star gazing!). Our neighborhood is literally next door the The Hyatt Lost Pines resort which is 5 minutes from our home. Close to Austin yet far enough away, enjoy the best of both worlds!</td> \n",
       "        <td id=\"T_17fa98b8_e81a_11e8_a3b6_f01898076315row0_col2\" class=\"data row0 col2\" >Cedar Creek</td> \n",
       "        <td id=\"T_17fa98b8_e81a_11e8_a3b6_f01898076315row0_col3\" class=\"data row0 col3\" >https://www.airbnb.com/rooms/2056359?location=Bastrop%2C%20TX</td> \n",
       "    </tr></tbody> \n",
       "</table> "
      ],
      "text/plain": [
       "<pandas.io.formats.style.Styler at 0x1a0eeb2be0>"
      ]
     },
     "metadata": {},
     "output_type": "display_data"
    },
    {
     "data": {
      "text/html": [
       "<style  type=\"text/css\" >\n",
       "</style>  \n",
       "<table id=\"T_17fb4e18_e81a_11e8_a560_f01898076315\" > \n",
       "<thead>    <tr> \n",
       "        <th class=\"blank level0\" ></th> \n",
       "        <th class=\"col_heading level0 col0\" >title</th> \n",
       "        <th class=\"col_heading level0 col1\" >description</th> \n",
       "        <th class=\"col_heading level0 col2\" >city</th> \n",
       "        <th class=\"col_heading level0 col3\" >url</th> \n",
       "    </tr></thead> \n",
       "<tbody>    <tr> \n",
       "        <th id=\"T_17fb4e18_e81a_11e8_a560_f01898076315level0_row0\" class=\"row_heading level0 row0\" >0</th> \n",
       "        <td id=\"T_17fb4e18_e81a_11e8_a560_f01898076315row0_col0\" class=\"data row0 col0\" >Loft Space in Downtown Fort Worth</td> \n",
       "        <td id=\"T_17fb4e18_e81a_11e8_a560_f01898076315row0_col1\" class=\"data row0 col1\" >Loft is open concept with one bedroom private bath in 111 year old building from which one can walk to train station to Dallas (if one would one to go there ) just blocks from the vibrant night life of downtown Fort Worth, three blocks to water gardens and the convention center. Loft has my wine, book and art collection. A full cooks kitchen, wifi, cable, 7 foot claw foot soaking tub with European style faucet and shower hose. All one might need for a wonderful stay. Fort Worth has world class museums, music scene, and western culture. This is my home so you will be welcome here and have the full use of the loft with private entrance, indoor parking, bakery around the corner. This is just one block south of Downtown in the new warehouse district with many converted old building featuring lofts an extreme gym, photography, doggie daycare, and many artist studio spaces. Hip urban feel, kid friendly and safe. Urban market every Saturday with great art local produce, etc. Would like to get to know you a bit first. Look forward to hearing from you soon,</td> \n",
       "        <td id=\"T_17fb4e18_e81a_11e8_a560_f01898076315row0_col2\" class=\"data row0 col2\" >Fort Worth</td> \n",
       "        <td id=\"T_17fb4e18_e81a_11e8_a560_f01898076315row0_col3\" class=\"data row0 col3\" >https://www.airbnb.com/rooms/322055?location=Benbrook%2C%20TX</td> \n",
       "    </tr></tbody> \n",
       "</table> "
      ],
      "text/plain": [
       "<pandas.io.formats.style.Styler at 0x1a0c3f1400>"
      ]
     },
     "metadata": {},
     "output_type": "display_data"
    },
    {
     "data": {
      "text/html": [
       "<style  type=\"text/css\" >\n",
       "</style>  \n",
       "<table id=\"T_17fc1bfa_e81a_11e8_b11d_f01898076315\" > \n",
       "<thead>    <tr> \n",
       "        <th class=\"blank level0\" ></th> \n",
       "        <th class=\"col_heading level0 col0\" >title</th> \n",
       "        <th class=\"col_heading level0 col1\" >description</th> \n",
       "        <th class=\"col_heading level0 col2\" >city</th> \n",
       "        <th class=\"col_heading level0 col3\" >url</th> \n",
       "    </tr></thead> \n",
       "<tbody>    <tr> \n",
       "        <th id=\"T_17fc1bfa_e81a_11e8_b11d_f01898076315level0_row0\" class=\"row_heading level0 row0\" >0</th> \n",
       "        <td id=\"T_17fc1bfa_e81a_11e8_b11d_f01898076315row0_col0\" class=\"data row0 col0\" >The Catfish Cabin on Lake Buchanan</td> \n",
       "        <td id=\"T_17fc1bfa_e81a_11e8_b11d_f01898076315row0_col1\" class=\"data row0 col1\" >Welcome to our lakeside cabin on Lake Buchanan in the beautiful Texas Hill Country where recreational and relaxing opportunities abound; We are three miles from the scenic trails and observatory at Canyon of the Eagles, six miles from world class mountain biking at Reveille Peak Ranch, and just down the road from the Vanishing Texas River Cruise. We have an on site boat ramp, and a loaner kayak is available.\\nThe wildflowers are blooming and we have the best sunsets in all of Texas, come visit!</td> \n",
       "        <td id=\"T_17fc1bfa_e81a_11e8_b11d_f01898076315row0_col2\" class=\"data row0 col2\" >Burnet</td> \n",
       "        <td id=\"T_17fc1bfa_e81a_11e8_b11d_f01898076315row0_col3\" class=\"data row0 col3\" >https://www.airbnb.com/rooms/17693527?location=Bertram%2C%20TX</td> \n",
       "    </tr></tbody> \n",
       "</table> "
      ],
      "text/plain": [
       "<pandas.io.formats.style.Styler at 0x1a0ee66320>"
      ]
     },
     "metadata": {},
     "output_type": "display_data"
    },
    {
     "data": {
      "text/html": [
       "<style  type=\"text/css\" >\n",
       "</style>  \n",
       "<table id=\"T_17fcdc4a_e81a_11e8_9527_f01898076315\" > \n",
       "<thead>    <tr> \n",
       "        <th class=\"blank level0\" ></th> \n",
       "        <th class=\"col_heading level0 col0\" >title</th> \n",
       "        <th class=\"col_heading level0 col1\" >description</th> \n",
       "        <th class=\"col_heading level0 col2\" >city</th> \n",
       "        <th class=\"col_heading level0 col3\" >url</th> \n",
       "    </tr></thead> \n",
       "<tbody>    <tr> \n",
       "        <th id=\"T_17fcdc4a_e81a_11e8_9527_f01898076315level0_row0\" class=\"row_heading level0 row0\" >0</th> \n",
       "        <td id=\"T_17fcdc4a_e81a_11e8_9527_f01898076315row0_col0\" class=\"data row0 col0\" >Room #2 Comfy Cozy World Travel Room</td> \n",
       "        <td id=\"T_17fcdc4a_e81a_11e8_9527_f01898076315row0_col1\" class=\"data row0 col1\" >Welcome to The Comfy Cozy World Travel Room w/ the traveler in mind, feel very relaxed in Rm 2, geared towards business,vacation simply a visit to Texas a desk with a comfortable chair RM # 2 has plenty of sunlight and nice big windows and are very clean and well organized with you in mind. (PRIME LOCATION) 5-15 min. from shops and Staples office supplies, Entertainment, movies, banks, The Improv, AT&amp;T Stadium, Six Flags, UTA College &amp; freeways just to name a few.</td> \n",
       "        <td id=\"T_17fcdc4a_e81a_11e8_9527_f01898076315row0_col2\" class=\"data row0 col2\" >Arlington</td> \n",
       "        <td id=\"T_17fcdc4a_e81a_11e8_9527_f01898076315row0_col3\" class=\"data row0 col3\" >https://www.airbnb.com/rooms/17524945?location=Cedar%20Hill%2C%20TX</td> \n",
       "    </tr></tbody> \n",
       "</table> "
      ],
      "text/plain": [
       "<pandas.io.formats.style.Styler at 0x1a0ef22400>"
      ]
     },
     "metadata": {},
     "output_type": "display_data"
    },
    {
     "data": {
      "text/html": [
       "<style  type=\"text/css\" >\n",
       "</style>  \n",
       "<table id=\"T_17fdbd86_e81a_11e8_b92e_f01898076315\" > \n",
       "<thead>    <tr> \n",
       "        <th class=\"blank level0\" ></th> \n",
       "        <th class=\"col_heading level0 col0\" >title</th> \n",
       "        <th class=\"col_heading level0 col1\" >description</th> \n",
       "        <th class=\"col_heading level0 col2\" >city</th> \n",
       "        <th class=\"col_heading level0 col3\" >url</th> \n",
       "    </tr></thead> \n",
       "<tbody>    <tr> \n",
       "        <th id=\"T_17fdbd86_e81a_11e8_b92e_f01898076315level0_row0\" class=\"row_heading level0 row0\" >0</th> \n",
       "        <td id=\"T_17fdbd86_e81a_11e8_b92e_f01898076315row0_col0\" class=\"data row0 col0\" >NEW! 3/2.5 Farmhouse on 10-Acre Grove | Wimberley</td> \n",
       "        <td id=\"T_17fdbd86_e81a_11e8_b92e_f01898076315row0_col1\" class=\"data row0 col1\" >Welcome to Juniper Grove, a classic Wimberley farmhouse! Enjoy this wonderfully updated, 3/2.5 Hill Country retreat on 10 beautiful acres with dry creek Ã¢ÂÂ minutes from The Square but worlds away tucked in quiet privacy. With natural areas &amp; wildlife; local vineyards, breweries &amp; distilleries; &amp; a year-round calendar of events &amp; festivals, Wimberley remains central to all that is Texas Hill Country. Unwind, connect &amp; recharge! \\n\\nLeisure &amp; long-term travelers welcome at this pet-friendly retreat.</td> \n",
       "        <td id=\"T_17fdbd86_e81a_11e8_b92e_f01898076315row0_col2\" class=\"data row0 col2\" >Wimberley</td> \n",
       "        <td id=\"T_17fdbd86_e81a_11e8_b92e_f01898076315row0_col3\" class=\"data row0 col3\" >https://www.airbnb.com/rooms/18041329?location=Canyon%20Lake%2C%20TX</td> \n",
       "    </tr></tbody> \n",
       "</table> "
      ],
      "text/plain": [
       "<pandas.io.formats.style.Styler at 0x1a0ef22198>"
      ]
     },
     "metadata": {},
     "output_type": "display_data"
    },
    {
     "data": {
      "text/html": [
       "<style  type=\"text/css\" >\n",
       "</style>  \n",
       "<table id=\"T_17ff45ca_e81a_11e8_b601_f01898076315\" > \n",
       "<thead>    <tr> \n",
       "        <th class=\"blank level0\" ></th> \n",
       "        <th class=\"col_heading level0 col0\" >title</th> \n",
       "        <th class=\"col_heading level0 col1\" >description</th> \n",
       "        <th class=\"col_heading level0 col2\" >city</th> \n",
       "        <th class=\"col_heading level0 col3\" >url</th> \n",
       "    </tr></thead> \n",
       "<tbody>    <tr> \n",
       "        <th id=\"T_17ff45ca_e81a_11e8_b601_f01898076315level0_row0\" class=\"row_heading level0 row0\" >0</th> \n",
       "        <td id=\"T_17ff45ca_e81a_11e8_b601_f01898076315row0_col0\" class=\"data row0 col0\" >The Haven-Cozy & Private</td> \n",
       "        <td id=\"T_17ff45ca_e81a_11e8_b601_f01898076315row0_col1\" class=\"data row0 col1\" >The Haven is a cozy apartment with it's own courtyard. It has a full kitchen, with everything needed to enjoy meals at home. The living area has seating for four. The bathroom has a jetted tub and a full size washer and dryer. Well behaved pets are welcome. There's lot do do here, and we are 40 minutes from the Worlds Largest Casino, 20 minutes from Texas Motor Speedway, and about 45 minutes from Dallas or Fort Worth. Texas Woman's University and University of North Texas are very near.</td> \n",
       "        <td id=\"T_17ff45ca_e81a_11e8_b601_f01898076315row0_col2\" class=\"data row0 col2\" >Denton</td> \n",
       "        <td id=\"T_17ff45ca_e81a_11e8_b601_f01898076315row0_col3\" class=\"data row0 col3\" >https://www.airbnb.com/rooms/17960608?location=Aubrey%2C%20TX</td> \n",
       "    </tr></tbody> \n",
       "</table> "
      ],
      "text/plain": [
       "<pandas.io.formats.style.Styler at 0x1a0ef1d748>"
      ]
     },
     "metadata": {},
     "output_type": "display_data"
    },
    {
     "data": {
      "text/html": [
       "<style  type=\"text/css\" >\n",
       "</style>  \n",
       "<table id=\"T_1800ba7a_e81a_11e8_9546_f01898076315\" > \n",
       "<thead>    <tr> \n",
       "        <th class=\"blank level0\" ></th> \n",
       "        <th class=\"col_heading level0 col0\" >title</th> \n",
       "        <th class=\"col_heading level0 col1\" >description</th> \n",
       "        <th class=\"col_heading level0 col2\" >city</th> \n",
       "        <th class=\"col_heading level0 col3\" >url</th> \n",
       "    </tr></thead> \n",
       "<tbody>    <tr> \n",
       "        <th id=\"T_1800ba7a_e81a_11e8_9546_f01898076315level0_row0\" class=\"row_heading level0 row0\" >0</th> \n",
       "        <td id=\"T_1800ba7a_e81a_11e8_9546_f01898076315row0_col0\" class=\"data row0 col0\" >Loft Space in Downtown Fort Worth</td> \n",
       "        <td id=\"T_1800ba7a_e81a_11e8_9546_f01898076315row0_col1\" class=\"data row0 col1\" >Loft is open concept with one bedroom private bath in 111 year old building from which one can walk to train station to Dallas (if one would one to go there ) just blocks from the vibrant night life of downtown Fort Worth, three blocks to water gardens and the convention center. Loft has my wine, book and art collection. A full cooks kitchen, wifi, cable, 7 foot claw foot soaking tub with European style faucet and shower hose. All one might need for a wonderful stay. Fort Worth has world class museums, music scene, and western culture. This is my home so you will be welcome here and have the full use of the loft with private entrance, indoor parking, bakery around the corner. This is just one block south of Downtown in the new warehouse district with many converted old building featuring lofts an extreme gym, photography, doggie daycare, and many artist studio spaces. Hip urban feel, kid friendly and safe. Urban market every Saturday with great art local produce, etc. Would like to get to know you a bit first. Look forward to hearing from you soon,</td> \n",
       "        <td id=\"T_1800ba7a_e81a_11e8_9546_f01898076315row0_col2\" class=\"data row0 col2\" >Fort Worth</td> \n",
       "        <td id=\"T_1800ba7a_e81a_11e8_9546_f01898076315row0_col3\" class=\"data row0 col3\" >https://www.airbnb.com/rooms/322055?location=Burleson%2C%20TX</td> \n",
       "    </tr></tbody> \n",
       "</table> "
      ],
      "text/plain": [
       "<pandas.io.formats.style.Styler at 0x1a0ee4cf98>"
      ]
     },
     "metadata": {},
     "output_type": "display_data"
    },
    {
     "data": {
      "text/html": [
       "<style  type=\"text/css\" >\n",
       "</style>  \n",
       "<table id=\"T_1801cbf6_e81a_11e8_9487_f01898076315\" > \n",
       "<thead>    <tr> \n",
       "        <th class=\"blank level0\" ></th> \n",
       "        <th class=\"col_heading level0 col0\" >title</th> \n",
       "        <th class=\"col_heading level0 col1\" >description</th> \n",
       "        <th class=\"col_heading level0 col2\" >city</th> \n",
       "        <th class=\"col_heading level0 col3\" >url</th> \n",
       "    </tr></thead> \n",
       "<tbody>    <tr> \n",
       "        <th id=\"T_1801cbf6_e81a_11e8_9487_f01898076315level0_row0\" class=\"row_heading level0 row0\" >0</th> \n",
       "        <td id=\"T_1801cbf6_e81a_11e8_9487_f01898076315row0_col0\" class=\"data row0 col0\" >The Haven-Cozy & Private</td> \n",
       "        <td id=\"T_1801cbf6_e81a_11e8_9487_f01898076315row0_col1\" class=\"data row0 col1\" >The Haven is a cozy apartment with it's own courtyard. It has a full kitchen, with everything needed to enjoy meals at home. The living area has seating for four. The bathroom has a jetted tub and a full size washer and dryer. Well behaved pets are welcome. There's lot do do here, and we are 40 minutes from the Worlds Largest Casino, 20 minutes from Texas Motor Speedway, and about 45 minutes from Dallas or Fort Worth. Texas Woman's University and University of North Texas are very near.</td> \n",
       "        <td id=\"T_1801cbf6_e81a_11e8_9487_f01898076315row0_col2\" class=\"data row0 col2\" >Denton</td> \n",
       "        <td id=\"T_1801cbf6_e81a_11e8_9487_f01898076315row0_col3\" class=\"data row0 col3\" >https://www.airbnb.com/rooms/17960608?location=Corinth%2C%20TX</td> \n",
       "    </tr></tbody> \n",
       "</table> "
      ],
      "text/plain": [
       "<pandas.io.formats.style.Styler at 0x1a0ee4c860>"
      ]
     },
     "metadata": {},
     "output_type": "display_data"
    },
    {
     "data": {
      "text/html": [
       "<style  type=\"text/css\" >\n",
       "</style>  \n",
       "<table id=\"T_180279ca_e81a_11e8_b123_f01898076315\" > \n",
       "<thead>    <tr> \n",
       "        <th class=\"blank level0\" ></th> \n",
       "        <th class=\"col_heading level0 col0\" >title</th> \n",
       "        <th class=\"col_heading level0 col1\" >description</th> \n",
       "        <th class=\"col_heading level0 col2\" >city</th> \n",
       "        <th class=\"col_heading level0 col3\" >url</th> \n",
       "    </tr></thead> \n",
       "<tbody>    <tr> \n",
       "        <th id=\"T_180279ca_e81a_11e8_b123_f01898076315level0_row0\" class=\"row_heading level0 row0\" >0</th> \n",
       "        <td id=\"T_180279ca_e81a_11e8_b123_f01898076315row0_col0\" class=\"data row0 col0\" >The Catfish Cabin on Lake Buchanan</td> \n",
       "        <td id=\"T_180279ca_e81a_11e8_b123_f01898076315row0_col1\" class=\"data row0 col1\" >Welcome to our lakeside cabin on Lake Buchanan in the beautiful Texas Hill Country where recreational and relaxing opportunities abound; We are three miles from the scenic trails and observatory at Canyon of the Eagles, six miles from world class mountain biking at Reveille Peak Ranch, and just down the road from the Vanishing Texas River Cruise. We have an on site boat ramp, and a loaner kayak is available.\\nThe wildflowers are blooming and we have the best sunsets in all of Texas, come visit!</td> \n",
       "        <td id=\"T_180279ca_e81a_11e8_b123_f01898076315row0_col2\" class=\"data row0 col2\" >Burnet</td> \n",
       "        <td id=\"T_180279ca_e81a_11e8_b123_f01898076315row0_col3\" class=\"data row0 col3\" >https://www.airbnb.com/rooms/17693527?location=Burnet%2C%20TX</td> \n",
       "    </tr></tbody> \n",
       "</table> "
      ],
      "text/plain": [
       "<pandas.io.formats.style.Styler at 0x1a0ef22400>"
      ]
     },
     "metadata": {},
     "output_type": "display_data"
    },
    {
     "data": {
      "text/html": [
       "<style  type=\"text/css\" >\n",
       "</style>  \n",
       "<table id=\"T_18033fb8_e81a_11e8_bbf0_f01898076315\" > \n",
       "<thead>    <tr> \n",
       "        <th class=\"blank level0\" ></th> \n",
       "        <th class=\"col_heading level0 col0\" >title</th> \n",
       "        <th class=\"col_heading level0 col1\" >description</th> \n",
       "        <th class=\"col_heading level0 col2\" >city</th> \n",
       "        <th class=\"col_heading level0 col3\" >url</th> \n",
       "    </tr></thead> \n",
       "<tbody>    <tr> \n",
       "        <th id=\"T_18033fb8_e81a_11e8_bbf0_f01898076315level0_row0\" class=\"row_heading level0 row0\" >0</th> \n",
       "        <td id=\"T_18033fb8_e81a_11e8_bbf0_f01898076315row0_col0\" class=\"data row0 col0\" >The Haven-Cozy & Private</td> \n",
       "        <td id=\"T_18033fb8_e81a_11e8_bbf0_f01898076315row0_col1\" class=\"data row0 col1\" >The Haven is a cozy apartment with it's own courtyard. It has a full kitchen, with everything needed to enjoy meals at home. The living area has seating for four. The bathroom has a jetted tub and a full size washer and dryer. Well behaved pets are welcome. There's lot do do here, and we are 40 minutes from the Worlds Largest Casino, 20 minutes from Texas Motor Speedway, and about 45 minutes from Dallas or Fort Worth. Texas Woman's University and University of North Texas are very near.</td> \n",
       "        <td id=\"T_18033fb8_e81a_11e8_bbf0_f01898076315row0_col2\" class=\"data row0 col2\" >Denton</td> \n",
       "        <td id=\"T_18033fb8_e81a_11e8_bbf0_f01898076315row0_col3\" class=\"data row0 col3\" >https://www.airbnb.com/rooms/17960608?location=Argyle%2C%20TX</td> \n",
       "    </tr></tbody> \n",
       "</table> "
      ],
      "text/plain": [
       "<pandas.io.formats.style.Styler at 0x1a0ef22f98>"
      ]
     },
     "metadata": {},
     "output_type": "display_data"
    },
    {
     "data": {
      "text/html": [
       "<style  type=\"text/css\" >\n",
       "</style>  \n",
       "<table id=\"T_18044b10_e81a_11e8_9c75_f01898076315\" > \n",
       "<thead>    <tr> \n",
       "        <th class=\"blank level0\" ></th> \n",
       "        <th class=\"col_heading level0 col0\" >title</th> \n",
       "        <th class=\"col_heading level0 col1\" >description</th> \n",
       "        <th class=\"col_heading level0 col2\" >city</th> \n",
       "        <th class=\"col_heading level0 col3\" >url</th> \n",
       "    </tr></thead> \n",
       "<tbody>    <tr> \n",
       "        <th id=\"T_18044b10_e81a_11e8_9c75_f01898076315level0_row0\" class=\"row_heading level0 row0\" >0</th> \n",
       "        <td id=\"T_18044b10_e81a_11e8_9c75_f01898076315row0_col0\" class=\"data row0 col0\" >GALLERY on the Blanco in Wimberley</td> \n",
       "        <td id=\"T_18044b10_e81a_11e8_9c75_f01898076315row0_col1\" class=\"data row0 col1\" >Unique home, pristine setting, incredible community. Recently remodeled with special attention to the use of materials that are energy efficient, non toxic, and aesthetically pleasing. The focus on conservation is evident throughout with hand crafted counters of recycled glass and resin, reclaimed wood floors and trim, volcanic limestone and resin tub, and more. The incorporation of antiques in the cabinets, stained glass windows, and individually selected doors create a timeless appeal. The recycled theme is carried through to the art, with a stunning school of fish individually sculpted out of aluminum cans, and the custom furniture which includes a dining room table made from a 150 year old mission door. \\n\\nWhile there is much to appreciate in the interior construction, it's the view that captures you. The home sits on a limestone bluff directly over the river with water views from almost every room in the house. The water is deep enough to paddle board and is perfect for tubing when the river is flowing. You can rest your lounge chair in the shallow water on the banks and relax to the soothing sounds of the rapids when you're through with your swim. \\n\\nHard to imagine a place this serene can also be convenient, but the location is unbeatable. We're a mile from town, Blue Hole Regional Park, and Wimberley's renown outdoor theater, The Corral. Jacob's Well is just a few minutes away. Fiber Arts enthusiasts will love Old Oaks Ranch. Live music and is always available in town, at the Whitewater Ampitheater or other nearby locations. In addition to all there is to do here, Wimberley is the perfect location to stay while you plan day trips to outlying areas. Head out on a hill country wine or barbecue tour, visit Hamilton Pool, tube the Guadalupe in New Braunfels, take in Gruene and the oldest dance hall in Texas, tour LBJ's boyhood home in Johnson City, or spend the day at America's largest water park, Schlitterbahn. Wimberley is home to many artists and musicians and there are opportunities to attend a variety of shows year round. San Antonio is only an hour away with The Alamo, 6 Flags, the zoo and more, or head 45 minutes north to Austin, the Live Music Capitol of the World!\\n\\nThe well stocked kitchen with professional cookware, gas stove, and every imaginable appliance will delight any cook. The enormous master suite is divine with it's cathedral ceiling, inviting decor and a bathroom to rival any spa. The architecture features high ceilings throughout with a 30 foot ceiling in the living room wrapped in wood. \\n\\nThere are no carpets, drapes or indoor plants to aggravate allergies. However, pets are on the property.\\n\\nThere is a greenhouse with an aquaponic system. You're welcome to partake of the current selection of organic produce.\\n\\nWe love this community and will gladly help tailor your stay to include your interests. No doubt, you will be enchanted, too.\\n\\nThe Blanco River, fire pit, horseshoe pit, a few tubes for the river, and admission to any barn concerts if they coincide with your stay.\\n\\nAs much or as little as you prefer.\\n\\nThe location is EXTREMELY convenient but tranquil. We have the river behind the house and ranches across the street. The grocery store is 1.5 miles away, and the Coral Outdoor Theatre is just down the road. Flite Acres is truly one of the most desirable streets in Wimberley.\\n\\nThere is no public transit. But you can rent horses down the road!</td> \n",
       "        <td id=\"T_18044b10_e81a_11e8_9c75_f01898076315row0_col2\" class=\"data row0 col2\" >Wimberley</td> \n",
       "        <td id=\"T_18044b10_e81a_11e8_9c75_f01898076315row0_col3\" class=\"data row0 col3\" >https://www.airbnb.com/rooms/558177?location=Canyon%20Lake%2C%20TX</td> \n",
       "    </tr></tbody> \n",
       "</table> "
      ],
      "text/plain": [
       "<pandas.io.formats.style.Styler at 0x1a0ee660f0>"
      ]
     },
     "metadata": {},
     "output_type": "display_data"
    },
    {
     "data": {
      "text/html": [
       "<style  type=\"text/css\" >\n",
       "</style>  \n",
       "<table id=\"T_1804e6c6_e81a_11e8_85a4_f01898076315\" > \n",
       "<thead>    <tr> \n",
       "        <th class=\"blank level0\" ></th> \n",
       "        <th class=\"col_heading level0 col0\" >title</th> \n",
       "        <th class=\"col_heading level0 col1\" >description</th> \n",
       "        <th class=\"col_heading level0 col2\" >city</th> \n",
       "        <th class=\"col_heading level0 col3\" >url</th> \n",
       "    </tr></thead> \n",
       "<tbody>    <tr> \n",
       "        <th id=\"T_1804e6c6_e81a_11e8_85a4_f01898076315level0_row0\" class=\"row_heading level0 row0\" >0</th> \n",
       "        <td id=\"T_1804e6c6_e81a_11e8_85a4_f01898076315row0_col0\" class=\"data row0 col0\" >Huge!Luxurious! Family fun getaway near Sea World.</td> \n",
       "        <td id=\"T_1804e6c6_e81a_11e8_85a4_f01898076315row0_col1\" class=\"data row0 col1\" >Great location! Great space ! Welcome to our home , over 4,000sqft. Of things to do. Close to so many attractions, restraunts and shopping centers.\\nThis home has a king size bed in the master bedroom, 3 queen size beds in the 3 other bedrooms and Two air mattresses!</td> \n",
       "        <td id=\"T_1804e6c6_e81a_11e8_85a4_f01898076315row0_col2\" class=\"data row0 col2\" >San Antonio</td> \n",
       "        <td id=\"T_1804e6c6_e81a_11e8_85a4_f01898076315row0_col3\" class=\"data row0 col3\" >https://www.airbnb.com/rooms/17317540?location=Castroville%2C%20TX</td> \n",
       "    </tr></tbody> \n",
       "</table> "
      ],
      "text/plain": [
       "<pandas.io.formats.style.Styler at 0x1a0ef22748>"
      ]
     },
     "metadata": {},
     "output_type": "display_data"
    },
    {
     "data": {
      "text/html": [
       "<style  type=\"text/css\" >\n",
       "</style>  \n",
       "<table id=\"T_1805b8f6_e81a_11e8_a8b0_f01898076315\" > \n",
       "<thead>    <tr> \n",
       "        <th class=\"blank level0\" ></th> \n",
       "        <th class=\"col_heading level0 col0\" >title</th> \n",
       "        <th class=\"col_heading level0 col1\" >description</th> \n",
       "        <th class=\"col_heading level0 col2\" >city</th> \n",
       "        <th class=\"col_heading level0 col3\" >url</th> \n",
       "    </tr></thead> \n",
       "<tbody>    <tr> \n",
       "        <th id=\"T_1805b8f6_e81a_11e8_a8b0_f01898076315level0_row0\" class=\"row_heading level0 row0\" >0</th> \n",
       "        <td id=\"T_1805b8f6_e81a_11e8_a8b0_f01898076315row0_col0\" class=\"data row0 col0\" >Private Room & Bathroom in Quiet Neighborhood</td> \n",
       "        <td id=\"T_1805b8f6_e81a_11e8_a8b0_f01898076315row0_col1\" class=\"data row0 col1\" >I was a host a few years back. I really enjoyed hosting people from all over the world. I also have stayed in many other host's homes. I love the AirBnB experience! \\n\\nYou are welcome to wash some clothes, or use the iron if you need to. You also are welcome to cook and eat here. \\n \\nI travel a lot, but if I am home, I've always got coffee, herbal teas, and fresh organic food. If I have just made a fresh batch of organic spinach walnut pesto, I will share it with you!</td> \n",
       "        <td id=\"T_1805b8f6_e81a_11e8_a8b0_f01898076315row0_col2\" class=\"data row0 col2\" >Austin</td> \n",
       "        <td id=\"T_1805b8f6_e81a_11e8_a8b0_f01898076315row0_col3\" class=\"data row0 col3\" >https://www.airbnb.com/rooms/17678915?location=Cedar%20Park%2C%20TX</td> \n",
       "    </tr></tbody> \n",
       "</table> "
      ],
      "text/plain": [
       "<pandas.io.formats.style.Styler at 0x1a0ef1dd68>"
      ]
     },
     "metadata": {},
     "output_type": "display_data"
    },
    {
     "data": {
      "text/html": [
       "<style  type=\"text/css\" >\n",
       "</style>  \n",
       "<table id=\"T_18065338_e81a_11e8_b1e7_f01898076315\" > \n",
       "<thead>    <tr> \n",
       "        <th class=\"blank level0\" ></th> \n",
       "        <th class=\"col_heading level0 col0\" >title</th> \n",
       "        <th class=\"col_heading level0 col1\" >description</th> \n",
       "        <th class=\"col_heading level0 col2\" >city</th> \n",
       "        <th class=\"col_heading level0 col3\" >url</th> \n",
       "    </tr></thead> \n",
       "<tbody>    <tr> \n",
       "        <th id=\"T_18065338_e81a_11e8_b1e7_f01898076315level0_row0\" class=\"row_heading level0 row0\" >0</th> \n",
       "        <td id=\"T_18065338_e81a_11e8_b1e7_f01898076315row0_col0\" class=\"data row0 col0\" >Kick Back Cabin- Country Townhome</td> \n",
       "        <td id=\"T_18065338_e81a_11e8_b1e7_f01898076315row0_col1\" class=\"data row0 col1\" >THE PERFECT GETAWAY SPOT! Why? It's the closest vacation rental within walking distance to the World Famous Market Days. Private, fenced in yard (pets welcome) surrounded by beautiful oak trees. BBQ, chiminea, and S'more fixins!! :)</td> \n",
       "        <td id=\"T_18065338_e81a_11e8_b1e7_f01898076315row0_col2\" class=\"data row0 col2\" >Wimberley</td> \n",
       "        <td id=\"T_18065338_e81a_11e8_b1e7_f01898076315row0_col3\" class=\"data row0 col3\" >https://www.airbnb.com/rooms/8833656?location=Canyon%20Lake%2C%20TX</td> \n",
       "    </tr></tbody> \n",
       "</table> "
      ],
      "text/plain": [
       "<pandas.io.formats.style.Styler at 0x1a0ef1deb8>"
      ]
     },
     "metadata": {},
     "output_type": "display_data"
    }
   ],
   "source": [
    "from IPython.display import display, HTML\n",
    "\n",
    "for file in intersection:\n",
    "    file = read(file)\n",
    "    \n",
    "    result = file[[\"title\",\"description\",\"city\",\"url\"]]\n",
    "    display(result.style)\n",
    "    #print(result.to_html())"
   ]
  },
  {
   "cell_type": "markdown",
   "metadata": {},
   "source": [
    "## 3.2 Conjunctive query & Ranking score"
   ]
  },
  {
   "cell_type": "code",
   "execution_count": null,
   "metadata": {},
   "outputs": [],
   "source": []
  }
 ],
 "metadata": {
  "kernelspec": {
   "display_name": "Python 3",
   "language": "python",
   "name": "python3"
  },
  "language_info": {
   "codemirror_mode": {
    "name": "ipython",
    "version": 3
   },
   "file_extension": ".py",
   "mimetype": "text/x-python",
   "name": "python",
   "nbconvert_exporter": "python",
   "pygments_lexer": "ipython3",
   "version": "3.6.5"
  }
 },
 "nbformat": 4,
 "nbformat_minor": 2
}
