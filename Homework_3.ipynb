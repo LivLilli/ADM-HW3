{
 "cells": [
  {
   "cell_type": "code",
   "execution_count": 1,
   "metadata": {},
   "outputs": [
    {
     "name": "stdout",
     "output_type": "stream",
     "text": [
      "[nltk_data] Downloading package stopwords to\n",
      "[nltk_data]     /Users/livialilli/nltk_data...\n",
      "[nltk_data]   Package stopwords is already up-to-date!\n"
     ]
    }
   ],
   "source": [
    "import pandas\n",
    "import csv\n",
    "from pandas.core.frame import DataFrame\n",
    "from nltk.tokenize import sent_tokenize, word_tokenize\n",
    "from nltk.stem import PorterStemmer\n",
    "from nltk.corpus import stopwords\n",
    "import nltk\n",
    "nltk.download('stopwords')\n",
    "import string\n",
    "import numpy as np\n",
    "import math\n",
    "import sklearn\n",
    "from IPython.display import display, HTML"
   ]
  },
  {
   "cell_type": "code",
   "execution_count": 2,
   "metadata": {},
   "outputs": [
    {
     "name": "stdout",
     "output_type": "stream",
     "text": [
      "[nltk_data] Downloading package punkt to\n",
      "[nltk_data]     /Users/livialilli/nltk_data...\n",
      "[nltk_data]   Package punkt is already up-to-date!\n"
     ]
    },
    {
     "data": {
      "text/plain": [
       "True"
      ]
     },
     "execution_count": 2,
     "metadata": {},
     "output_type": "execute_result"
    }
   ],
   "source": [
    "import nltk\n",
    "nltk.download('punkt')"
   ]
  },
  {
   "cell_type": "markdown",
   "metadata": {},
   "source": [
    "# Step 1"
   ]
  },
  {
   "cell_type": "code",
   "execution_count": 3,
   "metadata": {},
   "outputs": [],
   "source": [
    "rentals_file = pandas.read_csv((\"files/Airbnb_Texas_Rentals.csv\"), sep =\",\", delimiter= None, header = \"infer\", names = None, index_col = None,\n",
    "                       encoding=\"ISO-8859-1\")"
   ]
  },
  {
   "cell_type": "code",
   "execution_count": 4,
   "metadata": {},
   "outputs": [
    {
     "data": {
      "text/html": [
       "<div>\n",
       "<style scoped>\n",
       "    .dataframe tbody tr th:only-of-type {\n",
       "        vertical-align: middle;\n",
       "    }\n",
       "\n",
       "    .dataframe tbody tr th {\n",
       "        vertical-align: top;\n",
       "    }\n",
       "\n",
       "    .dataframe thead th {\n",
       "        text-align: right;\n",
       "    }\n",
       "</style>\n",
       "<table border=\"1\" class=\"dataframe\">\n",
       "  <thead>\n",
       "    <tr style=\"text-align: right;\">\n",
       "      <th></th>\n",
       "      <th>Unnamed: 0</th>\n",
       "      <th>average_rate_per_night</th>\n",
       "      <th>bedrooms_count</th>\n",
       "      <th>city</th>\n",
       "      <th>date_of_listing</th>\n",
       "      <th>description</th>\n",
       "      <th>latitude</th>\n",
       "      <th>longitude</th>\n",
       "      <th>title</th>\n",
       "      <th>url</th>\n",
       "    </tr>\n",
       "  </thead>\n",
       "  <tbody>\n",
       "    <tr>\n",
       "      <th>0</th>\n",
       "      <td>1</td>\n",
       "      <td>$27</td>\n",
       "      <td>2</td>\n",
       "      <td>Humble</td>\n",
       "      <td>May 2016</td>\n",
       "      <td>Welcome to stay in private room with queen bed...</td>\n",
       "      <td>30.020138</td>\n",
       "      <td>-95.293996</td>\n",
       "      <td>2 Private rooms/bathroom 10min from IAH airport</td>\n",
       "      <td>https://www.airbnb.com/rooms/18520444?location...</td>\n",
       "    </tr>\n",
       "    <tr>\n",
       "      <th>1</th>\n",
       "      <td>2</td>\n",
       "      <td>$149</td>\n",
       "      <td>4</td>\n",
       "      <td>San Antonio</td>\n",
       "      <td>November 2010</td>\n",
       "      <td>Stylish, fully remodeled home in upscale NW â...</td>\n",
       "      <td>29.503068</td>\n",
       "      <td>-98.447688</td>\n",
       "      <td>Unique Location! Alamo Heights - Designer Insp...</td>\n",
       "      <td>https://www.airbnb.com/rooms/17481455?location...</td>\n",
       "    </tr>\n",
       "    <tr>\n",
       "      <th>2</th>\n",
       "      <td>3</td>\n",
       "      <td>$59</td>\n",
       "      <td>1</td>\n",
       "      <td>Houston</td>\n",
       "      <td>January 2017</td>\n",
       "      <td>'River house on island close to the city' \\nA ...</td>\n",
       "      <td>29.829352</td>\n",
       "      <td>-95.081549</td>\n",
       "      <td>River house near the city</td>\n",
       "      <td>https://www.airbnb.com/rooms/16926307?location...</td>\n",
       "    </tr>\n",
       "  </tbody>\n",
       "</table>\n",
       "</div>"
      ],
      "text/plain": [
       "   Unnamed: 0 average_rate_per_night bedrooms_count         city  \\\n",
       "0           1                    $27              2       Humble   \n",
       "1           2                   $149              4  San Antonio   \n",
       "2           3                    $59              1      Houston   \n",
       "\n",
       "  date_of_listing                                        description  \\\n",
       "0        May 2016  Welcome to stay in private room with queen bed...   \n",
       "1   November 2010  Stylish, fully remodeled home in upscale NW â...   \n",
       "2    January 2017  'River house on island close to the city' \\nA ...   \n",
       "\n",
       "    latitude  longitude                                              title  \\\n",
       "0  30.020138 -95.293996    2 Private rooms/bathroom 10min from IAH airport   \n",
       "1  29.503068 -98.447688  Unique Location! Alamo Heights - Designer Insp...   \n",
       "2  29.829352 -95.081549                          River house near the city   \n",
       "\n",
       "                                                 url  \n",
       "0  https://www.airbnb.com/rooms/18520444?location...  \n",
       "1  https://www.airbnb.com/rooms/17481455?location...  \n",
       "2  https://www.airbnb.com/rooms/16926307?location...  "
      ]
     },
     "execution_count": 4,
     "metadata": {},
     "output_type": "execute_result"
    }
   ],
   "source": [
    "rentals_file.head(3)"
   ]
  },
  {
   "cell_type": "markdown",
   "metadata": {},
   "source": [
    "# Step 2"
   ]
  },
  {
   "cell_type": "code",
   "execution_count": 5,
   "metadata": {
    "collapsed": true
   },
   "outputs": [
    {
     "ename": "KeyboardInterrupt",
     "evalue": "",
     "output_type": "error",
     "traceback": [
      "\u001b[0;31m---------------------------------------------------------------------------\u001b[0m",
      "\u001b[0;31mKeyboardInterrupt\u001b[0m                         Traceback (most recent call last)",
      "\u001b[0;32m<ipython-input-5-89cdb20c78ae>\u001b[0m in \u001b[0;36m<module>\u001b[0;34m()\u001b[0m\n\u001b[1;32m      4\u001b[0m     \u001b[0mrecord\u001b[0m \u001b[0;34m=\u001b[0m \u001b[0mrentals_file\u001b[0m\u001b[0;34m.\u001b[0m\u001b[0mloc\u001b[0m\u001b[0;34m[\u001b[0m\u001b[0;34m[\u001b[0m\u001b[0mr\u001b[0m\u001b[0;34m]\u001b[0m\u001b[0;34m]\u001b[0m\u001b[0;34m\u001b[0m\u001b[0m\n\u001b[1;32m      5\u001b[0m     \u001b[0mname\u001b[0m \u001b[0;34m=\u001b[0m \u001b[0;34m\"doc_\"\u001b[0m \u001b[0;34m+\u001b[0m \u001b[0mstr\u001b[0m\u001b[0;34m(\u001b[0m\u001b[0mi\u001b[0m\u001b[0;34m)\u001b[0m \u001b[0;34m+\u001b[0m\u001b[0;34m\".tsv\"\u001b[0m\u001b[0;34m\u001b[0m\u001b[0m\n\u001b[0;32m----> 6\u001b[0;31m     \u001b[0mrecord\u001b[0m\u001b[0;34m.\u001b[0m\u001b[0mto_csv\u001b[0m\u001b[0;34m(\u001b[0m\u001b[0mpath_or_buf\u001b[0m \u001b[0;34m=\u001b[0m \u001b[0mname\u001b[0m\u001b[0;34m,\u001b[0m \u001b[0msep\u001b[0m\u001b[0;34m=\u001b[0m\u001b[0;34m'\\t'\u001b[0m\u001b[0;34m)\u001b[0m\u001b[0;34m\u001b[0m\u001b[0m\n\u001b[0m\u001b[1;32m      7\u001b[0m \u001b[0;34m\u001b[0m\u001b[0m\n\u001b[1;32m      8\u001b[0m     \u001b[0mi\u001b[0m \u001b[0;34m+=\u001b[0m \u001b[0;36m1\u001b[0m\u001b[0;34m\u001b[0m\u001b[0m\n",
      "\u001b[0;32m/anaconda3/lib/python3.6/site-packages/pandas/core/frame.py\u001b[0m in \u001b[0;36mto_csv\u001b[0;34m(self, path_or_buf, sep, na_rep, float_format, columns, header, index, index_label, mode, encoding, compression, quoting, quotechar, line_terminator, chunksize, tupleize_cols, date_format, doublequote, escapechar, decimal)\u001b[0m\n\u001b[1;32m   1743\u001b[0m                                  \u001b[0mdoublequote\u001b[0m\u001b[0;34m=\u001b[0m\u001b[0mdoublequote\u001b[0m\u001b[0;34m,\u001b[0m\u001b[0;34m\u001b[0m\u001b[0m\n\u001b[1;32m   1744\u001b[0m                                  escapechar=escapechar, decimal=decimal)\n\u001b[0;32m-> 1745\u001b[0;31m         \u001b[0mformatter\u001b[0m\u001b[0;34m.\u001b[0m\u001b[0msave\u001b[0m\u001b[0;34m(\u001b[0m\u001b[0;34m)\u001b[0m\u001b[0;34m\u001b[0m\u001b[0m\n\u001b[0m\u001b[1;32m   1746\u001b[0m \u001b[0;34m\u001b[0m\u001b[0m\n\u001b[1;32m   1747\u001b[0m         \u001b[0;32mif\u001b[0m \u001b[0mpath_or_buf\u001b[0m \u001b[0;32mis\u001b[0m \u001b[0;32mNone\u001b[0m\u001b[0;34m:\u001b[0m\u001b[0;34m\u001b[0m\u001b[0m\n",
      "\u001b[0;32m/anaconda3/lib/python3.6/site-packages/pandas/io/formats/csvs.py\u001b[0m in \u001b[0;36msave\u001b[0;34m(self)\u001b[0m\n\u001b[1;32m    134\u001b[0m             f, handles = _get_handle(self.path_or_buf, self.mode,\n\u001b[1;32m    135\u001b[0m                                      \u001b[0mencoding\u001b[0m\u001b[0;34m=\u001b[0m\u001b[0mencoding\u001b[0m\u001b[0;34m,\u001b[0m\u001b[0;34m\u001b[0m\u001b[0m\n\u001b[0;32m--> 136\u001b[0;31m                                      compression=None)\n\u001b[0m\u001b[1;32m    137\u001b[0m             \u001b[0mclose\u001b[0m \u001b[0;34m=\u001b[0m \u001b[0;32mTrue\u001b[0m \u001b[0;32mif\u001b[0m \u001b[0mself\u001b[0m\u001b[0;34m.\u001b[0m\u001b[0mcompression\u001b[0m \u001b[0;32mis\u001b[0m \u001b[0;32mNone\u001b[0m \u001b[0;32melse\u001b[0m \u001b[0;32mFalse\u001b[0m\u001b[0;34m\u001b[0m\u001b[0m\n\u001b[1;32m    138\u001b[0m \u001b[0;34m\u001b[0m\u001b[0m\n",
      "\u001b[0;32m/anaconda3/lib/python3.6/site-packages/pandas/io/common.py\u001b[0m in \u001b[0;36m_get_handle\u001b[0;34m(path_or_buf, mode, encoding, compression, memory_map, is_text)\u001b[0m\n\u001b[1;32m    324\u001b[0m     \"\"\"\n\u001b[1;32m    325\u001b[0m     \u001b[0;32mtry\u001b[0m\u001b[0;34m:\u001b[0m\u001b[0;34m\u001b[0m\u001b[0m\n\u001b[0;32m--> 326\u001b[0;31m         \u001b[0;32mfrom\u001b[0m \u001b[0ms3fs\u001b[0m \u001b[0;32mimport\u001b[0m \u001b[0mS3File\u001b[0m\u001b[0;34m\u001b[0m\u001b[0m\n\u001b[0m\u001b[1;32m    327\u001b[0m         \u001b[0mneed_text_wrapping\u001b[0m \u001b[0;34m=\u001b[0m \u001b[0;34m(\u001b[0m\u001b[0mBytesIO\u001b[0m\u001b[0;34m,\u001b[0m \u001b[0mS3File\u001b[0m\u001b[0;34m)\u001b[0m\u001b[0;34m\u001b[0m\u001b[0m\n\u001b[1;32m    328\u001b[0m     \u001b[0;32mexcept\u001b[0m \u001b[0mImportError\u001b[0m\u001b[0;34m:\u001b[0m\u001b[0;34m\u001b[0m\u001b[0m\n",
      "\u001b[0;32m/anaconda3/lib/python3.6/importlib/_bootstrap.py\u001b[0m in \u001b[0;36m_find_and_load\u001b[0;34m(name, import_)\u001b[0m\n",
      "\u001b[0;32m/anaconda3/lib/python3.6/importlib/_bootstrap.py\u001b[0m in \u001b[0;36m_find_and_load_unlocked\u001b[0;34m(name, import_)\u001b[0m\n",
      "\u001b[0;32m/anaconda3/lib/python3.6/importlib/_bootstrap.py\u001b[0m in \u001b[0;36m_find_spec\u001b[0;34m(name, path, target)\u001b[0m\n",
      "\u001b[0;32m/anaconda3/lib/python3.6/importlib/_bootstrap_external.py\u001b[0m in \u001b[0;36mfind_spec\u001b[0;34m(cls, fullname, path, target)\u001b[0m\n",
      "\u001b[0;32m/anaconda3/lib/python3.6/importlib/_bootstrap_external.py\u001b[0m in \u001b[0;36m_get_spec\u001b[0;34m(cls, fullname, path, target)\u001b[0m\n",
      "\u001b[0;32m/anaconda3/lib/python3.6/importlib/_bootstrap_external.py\u001b[0m in \u001b[0;36mfind_spec\u001b[0;34m(self, fullname, target)\u001b[0m\n",
      "\u001b[0;32m/anaconda3/lib/python3.6/importlib/_bootstrap_external.py\u001b[0m in \u001b[0;36m_fill_cache\u001b[0;34m(self)\u001b[0m\n",
      "\u001b[0;31mKeyboardInterrupt\u001b[0m: "
     ]
    }
   ],
   "source": [
    "#creating tsv files\n",
    "i = 0\n",
    "for r in range(len(rentals_file)):\n",
    "    record = rentals_file.loc[[r]]\n",
    "    name = \"doc_\" + str(i) +\".tsv\"\n",
    "    record.to_csv(path_or_buf = name, sep='\\t')\n",
    "    \n",
    "    i += 1\n",
    "    "
   ]
  },
  {
   "cell_type": "code",
   "execution_count": 5,
   "metadata": {},
   "outputs": [],
   "source": [
    "#function to read the tsv file\n",
    "def read(file_name):\n",
    "    read_file = pandas.read_csv(file_name, sep =\"\\t\", delimiter= None, header = \"infer\", names = None, index_col = None, usecols = None,\n",
    "                       encoding=\"ISO-8859-1\")\n",
    "    return read_file\n",
    "    "
   ]
  },
  {
   "cell_type": "code",
   "execution_count": 6,
   "metadata": {},
   "outputs": [],
   "source": [
    "#for now I just consider one tsv file\n",
    "d = read(\"files/doc_0.tsv\")"
   ]
  },
  {
   "cell_type": "code",
   "execution_count": 7,
   "metadata": {},
   "outputs": [
    {
     "data": {
      "text/html": [
       "<div>\n",
       "<style scoped>\n",
       "    .dataframe tbody tr th:only-of-type {\n",
       "        vertical-align: middle;\n",
       "    }\n",
       "\n",
       "    .dataframe tbody tr th {\n",
       "        vertical-align: top;\n",
       "    }\n",
       "\n",
       "    .dataframe thead th {\n",
       "        text-align: right;\n",
       "    }\n",
       "</style>\n",
       "<table border=\"1\" class=\"dataframe\">\n",
       "  <thead>\n",
       "    <tr style=\"text-align: right;\">\n",
       "      <th></th>\n",
       "      <th>Unnamed: 0</th>\n",
       "      <th>Unnamed: 0.1</th>\n",
       "      <th>average_rate_per_night</th>\n",
       "      <th>bedrooms_count</th>\n",
       "      <th>city</th>\n",
       "      <th>date_of_listing</th>\n",
       "      <th>description</th>\n",
       "      <th>latitude</th>\n",
       "      <th>longitude</th>\n",
       "      <th>title</th>\n",
       "      <th>url</th>\n",
       "    </tr>\n",
       "  </thead>\n",
       "  <tbody>\n",
       "    <tr>\n",
       "      <th>0</th>\n",
       "      <td>0</td>\n",
       "      <td>1</td>\n",
       "      <td>$27</td>\n",
       "      <td>2</td>\n",
       "      <td>Humble</td>\n",
       "      <td>May 2016</td>\n",
       "      <td>Welcome to stay in private room with queen bed...</td>\n",
       "      <td>30.020138</td>\n",
       "      <td>-95.293996</td>\n",
       "      <td>2 Private rooms/bathroom 10min from IAH airport</td>\n",
       "      <td>https://www.airbnb.com/rooms/18520444?location...</td>\n",
       "    </tr>\n",
       "  </tbody>\n",
       "</table>\n",
       "</div>"
      ],
      "text/plain": [
       "   Unnamed: 0  Unnamed: 0.1 average_rate_per_night  bedrooms_count    city  \\\n",
       "0           0             1                    $27               2  Humble   \n",
       "\n",
       "  date_of_listing                                        description  \\\n",
       "0        May 2016  Welcome to stay in private room with queen bed...   \n",
       "\n",
       "    latitude  longitude                                            title  \\\n",
       "0  30.020138 -95.293996  2 Private rooms/bathroom 10min from IAH airport   \n",
       "\n",
       "                                                 url  \n",
       "0  https://www.airbnb.com/rooms/18520444?location...  "
      ]
     },
     "execution_count": 7,
     "metadata": {},
     "output_type": "execute_result"
    }
   ],
   "source": [
    "d"
   ]
  },
  {
   "cell_type": "code",
   "execution_count": 8,
   "metadata": {},
   "outputs": [
    {
     "data": {
      "text/html": [
       "<div>\n",
       "<style scoped>\n",
       "    .dataframe tbody tr th:only-of-type {\n",
       "        vertical-align: middle;\n",
       "    }\n",
       "\n",
       "    .dataframe tbody tr th {\n",
       "        vertical-align: top;\n",
       "    }\n",
       "\n",
       "    .dataframe thead th {\n",
       "        text-align: right;\n",
       "    }\n",
       "</style>\n",
       "<table border=\"1\" class=\"dataframe\">\n",
       "  <thead>\n",
       "    <tr style=\"text-align: right;\">\n",
       "      <th></th>\n",
       "      <th>title</th>\n",
       "      <th>description</th>\n",
       "    </tr>\n",
       "  </thead>\n",
       "  <tbody>\n",
       "    <tr>\n",
       "      <th>0</th>\n",
       "      <td>2 Private rooms/bathroom 10min from IAH airport</td>\n",
       "      <td>Welcome to stay in private room with queen bed...</td>\n",
       "    </tr>\n",
       "  </tbody>\n",
       "</table>\n",
       "</div>"
      ],
      "text/plain": [
       "                                             title  \\\n",
       "0  2 Private rooms/bathroom 10min from IAH airport   \n",
       "\n",
       "                                         description  \n",
       "0  Welcome to stay in private room with queen bed...  "
      ]
     },
     "execution_count": 8,
     "metadata": {},
     "output_type": "execute_result"
    }
   ],
   "source": [
    "d[[\"title\",\"description\"]]"
   ]
  },
  {
   "cell_type": "code",
   "execution_count": 9,
   "metadata": {},
   "outputs": [],
   "source": [
    "s = d[\"description\"][0]"
   ]
  },
  {
   "cell_type": "code",
   "execution_count": 10,
   "metadata": {},
   "outputs": [
    {
     "data": {
      "text/plain": [
       "'Welcome to stay in private room with queen bed and detached private bathroom on the second floor. Another private bedroom with sofa bed is available for additional guests. 10$ for an additional guest.\\\\n10min from IAH airport\\\\nAirport pick-up/drop off is available for $10/trip.'"
      ]
     },
     "execution_count": 10,
     "metadata": {},
     "output_type": "execute_result"
    }
   ],
   "source": [
    "s"
   ]
  },
  {
   "cell_type": "code",
   "execution_count": 11,
   "metadata": {},
   "outputs": [],
   "source": [
    "col_names = [\"average_rate_per_night\",\"bedrooms_count\", \"city\", \"date_of_listing\", \"description\", \"latitude\", \"longitude\",\"title\",\"url\"]"
   ]
  },
  {
   "cell_type": "markdown",
   "metadata": {},
   "source": [
    "# Step 3"
   ]
  },
  {
   "cell_type": "markdown",
   "metadata": {},
   "source": [
    "## Preprocessing"
   ]
  },
  {
   "cell_type": "code",
   "execution_count": 12,
   "metadata": {},
   "outputs": [],
   "source": [
    "def stopWords(column_file):\n",
    "    \n",
    "    stopWords = set(stopwords.words('english'))\n",
    "    words = word_tokenize(str(column_file))\n",
    "    wordsFiltered = []\n",
    "\n",
    "    for w in words:\n",
    "        if w not in stopWords:\n",
    "            wordsFiltered.append(w)\n",
    "    return wordsFiltered\n",
    "    "
   ]
  },
  {
   "cell_type": "code",
   "execution_count": 13,
   "metadata": {},
   "outputs": [],
   "source": [
    "def punctuation(list):\n",
    "    exclude = set(string.punctuation)\n",
    "    for el in list:\n",
    "        if el in exclude:\n",
    "            list.remove(el)\n",
    "    return list"
   ]
  },
  {
   "cell_type": "code",
   "execution_count": 14,
   "metadata": {},
   "outputs": [],
   "source": [
    "def stemming(list):\n",
    "    ps = PorterStemmer()\n",
    "    output = []\n",
    "    for word in list:\n",
    "        stem_word = ps.stem(word)\n",
    "        output.append(stem_word)\n",
    "    return output\n",
    "#it returns a list (of the current column) with all the stem-words\n"
   ]
  },
  {
   "cell_type": "code",
   "execution_count": 15,
   "metadata": {},
   "outputs": [
    {
     "name": "stdout",
     "output_type": "stream",
     "text": [
      "['2', 'privat', 'rooms/bathroom', '10min', 'iah', 'airport']\n"
     ]
    }
   ],
   "source": [
    "#example of application\n",
    "s = stopWords(d[\"title\"][0])\n",
    "p = punctuation(s)\n",
    "print(stemming(p))"
   ]
  },
  {
   "cell_type": "code",
   "execution_count": 16,
   "metadata": {},
   "outputs": [],
   "source": [
    "#On ALL the COLUMNS\n",
    "#applyng stopWords,punctuation and stemming functions for every column of the dataframe\n",
    "#it returns a dictionary, where keys are the columns names, and for every key there is the list of cleaned words.\n",
    "def all_col(read_file):\n",
    "    dic = {}\n",
    "    for name in col_names:\n",
    "        s = str(read_file[name][0]).replace(\"\\\\n\", \" \")\n",
    "        l = stopWords(s)\n",
    "        l = punctuation(l)\n",
    "        result = stemming(l)\n",
    "        dic[name] = result\n",
    "        #print(result)\n",
    "    return dic"
   ]
  },
  {
   "cell_type": "code",
   "execution_count": 17,
   "metadata": {},
   "outputs": [
    {
     "name": "stdout",
     "output_type": "stream",
     "text": [
      "{'average_rate_per_night': ['27'], 'bedrooms_count': ['2'], 'city': ['humbl'], 'date_of_listing': ['may', '2016'], 'description': ['welcom', 'stay', 'privat', 'room', 'queen', 'bed', 'detach', 'privat', 'bathroom', 'second', 'floor', 'anoth', 'privat', 'bedroom', 'sofa', 'bed', 'avail', 'addit', 'guest', '10', 'addit', 'guest', '10min', 'iah', 'airport', 'airport', 'pick-up/drop', 'avail', '10/trip'], 'latitude': ['30.0201379199512'], 'longitude': ['-95.29399600425128'], 'title': ['2', 'privat', 'rooms/bathroom', '10min', 'iah', 'airport'], 'url': ['http', '//www.airbnb.com/rooms/18520444', 'location=cleveland', '2C', '20tx']}\n"
     ]
    }
   ],
   "source": [
    "print(all_col(d))\n"
   ]
  },
  {
   "cell_type": "markdown",
   "metadata": {},
   "source": [
    "## 3.1 Conjunctive query"
   ]
  },
  {
   "cell_type": "code",
   "execution_count": 18,
   "metadata": {},
   "outputs": [],
   "source": [
    "#we have to consider just description and title columns\n",
    "\n",
    "\n",
    "def filter_keys(dictionary):\n",
    "    keys = [\"description\", \"title\"]\n",
    "    return {x: dictionary[x] for x in dictionary if x in keys}\n",
    "\n"
   ]
  },
  {
   "cell_type": "markdown",
   "metadata": {},
   "source": [
    "### 3.1.1 Create your index"
   ]
  },
  {
   "cell_type": "code",
   "execution_count": 19,
   "metadata": {},
   "outputs": [],
   "source": [
    "#in future we can move this two blocks of code in an othe file, and upload them when we need\n",
    "#for now, for convention we leave them here"
   ]
  },
  {
   "cell_type": "code",
   "execution_count": 20,
   "metadata": {},
   "outputs": [],
   "source": [
    "#for every tsv file, I apply the preprocess, I filter the columns that I need, and then I build the vocabulary\n",
    "vocabulary = {}\n",
    "for i in range(len(rentals_file)):\n",
    "    name = \"files/doc_\" + str(i) +\".tsv\"\n",
    "    df = read(name)\n",
    "    clean_d = all_col(df)\n",
    "    filtered_d = filter_keys(clean_d)\n",
    "    values = filtered_d.values()\n",
    "    for l in values:\n",
    "        for el in l:\n",
    "            if el not in vocabulary.keys():\n",
    "                vocabulary[el] = [name]\n",
    "            else:\n",
    "                vocabulary[el].append(name)\n",
    "    \n",
    "    \n",
    "#it has got as keys the words, as values all the docs where words are in \n",
    "    "
   ]
  },
  {
   "cell_type": "code",
   "execution_count": 21,
   "metadata": {},
   "outputs": [],
   "source": [
    "#index assignment\n",
    "#for every key-word, we have the index\n",
    "keys = vocabulary.keys()\n",
    "list_keys = list(keys)\n",
    "indexing = {}\n",
    "for i in range(len(list_keys)):\n",
    "    term = \"term_id_\" + str(i)\n",
    "    \n",
    "    indexing[list_keys[i]] = term"
   ]
  },
  {
   "cell_type": "code",
   "execution_count": 22,
   "metadata": {},
   "outputs": [],
   "source": [
    "file_voc = {}\n",
    "\n",
    "for i in range(len(list_keys)):\n",
    "    term = \"term_id_\" + str(i)\n",
    "    \n",
    "    file_voc[term] = list_keys[i]\n",
    "\n",
    "#it has as keys the id terms, as values, the corrispondent words"
   ]
  },
  {
   "cell_type": "code",
   "execution_count": 23,
   "metadata": {},
   "outputs": [],
   "source": [
    "file_voc_keys = list(file_voc.keys())"
   ]
  },
  {
   "cell_type": "markdown",
   "metadata": {},
   "source": [
    "#### Inverted Index"
   ]
  },
  {
   "cell_type": "code",
   "execution_count": 24,
   "metadata": {},
   "outputs": [],
   "source": [
    "#SAVE ON OTHER FILE\n",
    "#this has as keys the term id, as values the docs where id's word is in\n",
    "inv_index = {}\n",
    "for i in range(len(file_voc_keys)):\n",
    "    new_key = file_voc_keys[i]\n",
    "    old_key = file_voc[new_key]\n",
    "    inv_index[new_key] = vocabulary[old_key]"
   ]
  },
  {
   "cell_type": "code",
   "execution_count": 25,
   "metadata": {},
   "outputs": [],
   "source": [
    "#it's the same working on vocabulary or file_voc dictionary. The words in the first are picked just one time."
   ]
  },
  {
   "cell_type": "code",
   "execution_count": 26,
   "metadata": {},
   "outputs": [
    {
     "data": {
      "text/plain": [
       "18383"
      ]
     },
     "execution_count": 26,
     "metadata": {},
     "output_type": "execute_result"
    }
   ],
   "source": [
    "len(vocabulary.keys())"
   ]
  },
  {
   "cell_type": "code",
   "execution_count": 27,
   "metadata": {},
   "outputs": [
    {
     "data": {
      "text/plain": [
       "18383"
      ]
     },
     "execution_count": 27,
     "metadata": {},
     "output_type": "execute_result"
    }
   ],
   "source": [
    "len(file_voc.keys())"
   ]
  },
  {
   "cell_type": "markdown",
   "metadata": {},
   "source": [
    "### 3.1.2 Execute the query"
   ]
  },
  {
   "cell_type": "code",
   "execution_count": 28,
   "metadata": {},
   "outputs": [],
   "source": [
    "def user_query():\n",
    "    query = input()\n",
    "    query = stopWords(query)\n",
    "    query = punctuation(query)\n",
    "    query = stemming(query)\n",
    "    return query"
   ]
  },
  {
   "cell_type": "code",
   "execution_count": 29,
   "metadata": {},
   "outputs": [
    {
     "name": "stdout",
     "output_type": "stream",
     "text": [
      "near to the airport\n"
     ]
    }
   ],
   "source": [
    "query = user_query()"
   ]
  },
  {
   "cell_type": "code",
   "execution_count": 30,
   "metadata": {},
   "outputs": [
    {
     "data": {
      "text/plain": [
       "['near', 'airport']"
      ]
     },
     "execution_count": 30,
     "metadata": {},
     "output_type": "execute_result"
    }
   ],
   "source": [
    "query"
   ]
  },
  {
   "cell_type": "code",
   "execution_count": 31,
   "metadata": {},
   "outputs": [],
   "source": [
    "docs_query = {}\n",
    "for word in query:\n",
    "    try:\n",
    "        index = indexing[word]\n",
    "        docs_query[index] = inv_index[index]\n",
    "    except:\n",
    "        pass\n",
    "    "
   ]
  },
  {
   "cell_type": "code",
   "execution_count": 32,
   "metadata": {},
   "outputs": [],
   "source": [
    "v = docs_query.values()"
   ]
  },
  {
   "cell_type": "code",
   "execution_count": 33,
   "metadata": {},
   "outputs": [],
   "source": [
    "v = list(v)"
   ]
  },
  {
   "cell_type": "code",
   "execution_count": 34,
   "metadata": {},
   "outputs": [],
   "source": [
    "intersection = set(v[0]).intersection(*v)"
   ]
  },
  {
   "cell_type": "code",
   "execution_count": 35,
   "metadata": {},
   "outputs": [
    {
     "data": {
      "text/html": [
       "<style  type=\"text/css\" >\n",
       "</style>  \n",
       "<table id=\"T_05fb0464_e922_11e8_9333_f01898076315\" > \n",
       "<thead>    <tr> \n",
       "        <th class=\"blank level0\" ></th> \n",
       "        <th class=\"col_heading level0 col0\" >title</th> \n",
       "        <th class=\"col_heading level0 col1\" >description</th> \n",
       "        <th class=\"col_heading level0 col2\" >city</th> \n",
       "        <th class=\"col_heading level0 col3\" >url</th> \n",
       "    </tr></thead> \n",
       "<tbody>    <tr> \n",
       "        <th id=\"T_05fb0464_e922_11e8_9333_f01898076315level0_row0\" class=\"row_heading level0 row0\" >0</th> \n",
       "        <td id=\"T_05fb0464_e922_11e8_9333_f01898076315row0_col0\" class=\"data row0 col0\" >Los Colinas Townhome</td> \n",
       "        <td id=\"T_05fb0464_e922_11e8_9333_f01898076315row0_col1\" class=\"data row0 col1\" >Executive town home near the DFW Airport features soaring 20' ceilings in the living area, a fully equipped kitchen, gas fireplace, and fenced outdoor patio. Bedroom has private bath, walk-in closet and built-in desk. Free WiFi and AirPrint laser jet printer available. Quiet subdivision and outdoor parking for two cars. Near TPC Four Seasons, Los Colinas Country Club, and just 20 min away from Cowboys Stadium and downtown Dallas.</td> \n",
       "        <td id=\"T_05fb0464_e922_11e8_9333_f01898076315row0_col2\" class=\"data row0 col2\" >Irving</td> \n",
       "        <td id=\"T_05fb0464_e922_11e8_9333_f01898076315row0_col3\" class=\"data row0 col3\" >https://www.airbnb.com/rooms/18848915?location=Carrollton%2C%20TX</td> \n",
       "    </tr></tbody> \n",
       "</table> "
      ],
      "text/plain": [
       "<pandas.io.formats.style.Styler at 0x1a124a6a90>"
      ]
     },
     "metadata": {},
     "output_type": "display_data"
    },
    {
     "data": {
      "text/html": [
       "<style  type=\"text/css\" >\n",
       "</style>  \n",
       "<table id=\"T_05fe3e5e_e922_11e8_ae31_f01898076315\" > \n",
       "<thead>    <tr> \n",
       "        <th class=\"blank level0\" ></th> \n",
       "        <th class=\"col_heading level0 col0\" >title</th> \n",
       "        <th class=\"col_heading level0 col1\" >description</th> \n",
       "        <th class=\"col_heading level0 col2\" >city</th> \n",
       "        <th class=\"col_heading level0 col3\" >url</th> \n",
       "    </tr></thead> \n",
       "<tbody>    <tr> \n",
       "        <th id=\"T_05fe3e5e_e922_11e8_ae31_f01898076315level0_row0\" class=\"row_heading level0 row0\" >0</th> \n",
       "        <td id=\"T_05fe3e5e_e922_11e8_ae31_f01898076315row0_col0\" class=\"data row0 col0\" >Awesome Crashpad, Near DFW Airport</td> \n",
       "        <td id=\"T_05fe3e5e_e922_11e8_ae31_f01898076315row0_col1\" class=\"data row0 col1\" >Awesome Crashpad, 9 minutes to DFW airport, in well-established and friendly neighborhood! Amenities include high speed internet (50 Mbps), cable TV and maid service. Within close proximity of the residence is a grocery store and restaurants.</td> \n",
       "        <td id=\"T_05fe3e5e_e922_11e8_ae31_f01898076315row0_col2\" class=\"data row0 col2\" >Irving</td> \n",
       "        <td id=\"T_05fe3e5e_e922_11e8_ae31_f01898076315row0_col3\" class=\"data row0 col3\" >https://www.airbnb.com/rooms/12049069?location=Coppell%2C%20TX</td> \n",
       "    </tr></tbody> \n",
       "</table> "
      ],
      "text/plain": [
       "<pandas.io.formats.style.Styler at 0x10e002d68>"
      ]
     },
     "metadata": {},
     "output_type": "display_data"
    },
    {
     "data": {
      "text/html": [
       "<style  type=\"text/css\" >\n",
       "</style>  \n",
       "<table id=\"T_05ff3174_e922_11e8_911e_f01898076315\" > \n",
       "<thead>    <tr> \n",
       "        <th class=\"blank level0\" ></th> \n",
       "        <th class=\"col_heading level0 col0\" >title</th> \n",
       "        <th class=\"col_heading level0 col1\" >description</th> \n",
       "        <th class=\"col_heading level0 col2\" >city</th> \n",
       "        <th class=\"col_heading level0 col3\" >url</th> \n",
       "    </tr></thead> \n",
       "<tbody>    <tr> \n",
       "        <th id=\"T_05ff3174_e922_11e8_911e_f01898076315level0_row0\" class=\"row_heading level0 row0\" >0</th> \n",
       "        <td id=\"T_05ff3174_e922_11e8_911e_f01898076315row0_col0\" class=\"data row0 col0\" >COZY CONDO NEAR AIRPORT</td> \n",
       "        <td id=\"T_05ff3174_e922_11e8_911e_f01898076315row0_col1\" class=\"data row0 col1\" >SWIMMING POOLS AND HOT TUBS, CONVENIENTLY LOCATED, EASY ACCESS TO AIRPORT AND DOWNTOWN, OVER 1000 SQ FT, 2 GUEST SUITES, MODERN KITCHEN, DINING TABLE SEATS 6, WIFI AND CABLE.</td> \n",
       "        <td id=\"T_05ff3174_e922_11e8_911e_f01898076315row0_col2\" class=\"data row0 col2\" >San Antonio</td> \n",
       "        <td id=\"T_05ff3174_e922_11e8_911e_f01898076315row0_col3\" class=\"data row0 col3\" >https://www.airbnb.com/rooms/7292240?location=Alamo%20Heights%2C%20TX</td> \n",
       "    </tr></tbody> \n",
       "</table> "
      ],
      "text/plain": [
       "<pandas.io.formats.style.Styler at 0x1a14b48550>"
      ]
     },
     "metadata": {},
     "output_type": "display_data"
    },
    {
     "data": {
      "text/html": [
       "<style  type=\"text/css\" >\n",
       "</style>  \n",
       "<table id=\"T_06000574_e922_11e8_8d69_f01898076315\" > \n",
       "<thead>    <tr> \n",
       "        <th class=\"blank level0\" ></th> \n",
       "        <th class=\"col_heading level0 col0\" >title</th> \n",
       "        <th class=\"col_heading level0 col1\" >description</th> \n",
       "        <th class=\"col_heading level0 col2\" >city</th> \n",
       "        <th class=\"col_heading level0 col3\" >url</th> \n",
       "    </tr></thead> \n",
       "<tbody>    <tr> \n",
       "        <th id=\"T_06000574_e922_11e8_8d69_f01898076315level0_row0\" class=\"row_heading level0 row0\" >0</th> \n",
       "        <td id=\"T_06000574_e922_11e8_8d69_f01898076315row0_col0\" class=\"data row0 col0\" >Private Room w/Own Bathroom near Airport & Park</td> \n",
       "        <td id=\"T_06000574_e922_11e8_8d69_f01898076315row0_col1\" class=\"data row0 col1\" >The place is close to the Airport, really convenient for travelers. \\nMcAllister park is just around the corner. Perfect for someone that likes to walk &amp; run while enjoying the scenery. Park offers Bike Trails, Outdoor Fitness Areas &amp; Combined Large &amp; Small Dog Areas. \\n\\nYouÃ¢ÂÂll love my place because of the neighborhood; really quiet and relaxing.\\n\\nMy place is good for couples, solo adventurers, business travelers, and furry friends (pets).</td> \n",
       "        <td id=\"T_06000574_e922_11e8_8d69_f01898076315row0_col2\" class=\"data row0 col2\" >San Antonio</td> \n",
       "        <td id=\"T_06000574_e922_11e8_8d69_f01898076315row0_col3\" class=\"data row0 col3\" >https://www.airbnb.com/rooms/15327482?location=Converse%2C%20TX</td> \n",
       "    </tr></tbody> \n",
       "</table> "
      ],
      "text/plain": [
       "<pandas.io.formats.style.Styler at 0x1a14a8e160>"
      ]
     },
     "metadata": {},
     "output_type": "display_data"
    },
    {
     "data": {
      "text/html": [
       "<style  type=\"text/css\" >\n",
       "</style>  \n",
       "<table id=\"T_0600e4e2_e922_11e8_9d73_f01898076315\" > \n",
       "<thead>    <tr> \n",
       "        <th class=\"blank level0\" ></th> \n",
       "        <th class=\"col_heading level0 col0\" >title</th> \n",
       "        <th class=\"col_heading level0 col1\" >description</th> \n",
       "        <th class=\"col_heading level0 col2\" >city</th> \n",
       "        <th class=\"col_heading level0 col3\" >url</th> \n",
       "    </tr></thead> \n",
       "<tbody>    <tr> \n",
       "        <th id=\"T_0600e4e2_e922_11e8_9d73_f01898076315level0_row0\" class=\"row_heading level0 row0\" >0</th> \n",
       "        <td id=\"T_0600e4e2_e922_11e8_9d73_f01898076315row0_col0\" class=\"data row0 col0\" >Luxury Apartment Near SixFlags - Dominion</td> \n",
       "        <td id=\"T_0600e4e2_e922_11e8_9d73_f01898076315row0_col1\" class=\"data row0 col1\" >In the best location. Get the suburb feel, located just 2 minutes away from Six Flags, Shops at La Cantera, The Rim, UTSA. Just 15 minutes from the airport, and just 25 minutes from downtown.\\n\\nDisclaimer: Apartment pictures and location may slightly vary from actual apartment due to privacy reasons. We ensure the quality of apartment is the same as shown in the images.</td> \n",
       "        <td id=\"T_0600e4e2_e922_11e8_9d73_f01898076315row0_col2\" class=\"data row0 col2\" >San Antonio</td> \n",
       "        <td id=\"T_0600e4e2_e922_11e8_9d73_f01898076315row0_col3\" class=\"data row0 col3\" >https://www.airbnb.com/rooms/18821274?location=Bulverde%2C%20TX</td> \n",
       "    </tr></tbody> \n",
       "</table> "
      ],
      "text/plain": [
       "<pandas.io.formats.style.Styler at 0x1a14a8e5f8>"
      ]
     },
     "metadata": {},
     "output_type": "display_data"
    },
    {
     "data": {
      "text/html": [
       "<style  type=\"text/css\" >\n",
       "</style>  \n",
       "<table id=\"T_0601ecde_e922_11e8_be92_f01898076315\" > \n",
       "<thead>    <tr> \n",
       "        <th class=\"blank level0\" ></th> \n",
       "        <th class=\"col_heading level0 col0\" >title</th> \n",
       "        <th class=\"col_heading level0 col1\" >description</th> \n",
       "        <th class=\"col_heading level0 col2\" >city</th> \n",
       "        <th class=\"col_heading level0 col3\" >url</th> \n",
       "    </tr></thead> \n",
       "<tbody>    <tr> \n",
       "        <th id=\"T_0601ecde_e922_11e8_be92_f01898076315level0_row0\" class=\"row_heading level0 row0\" >0</th> \n",
       "        <td id=\"T_0601ecde_e922_11e8_be92_f01898076315row0_col0\" class=\"data row0 col0\" >Spacious Room Near Ft. Sam, Randolph and Airport.</td> \n",
       "        <td id=\"T_0601ecde_e922_11e8_be92_f01898076315row0_col1\" class=\"data row0 col1\" >Just north the busy street of Walzem and where you can find everything to include San Antonio's IN-N-OUT, this house is a brand new 3 bedroom, 2.5 bathroom in the perfect location. The inner 410 loop and I-35 junction is literally a straight shot west with easy access to both and only 5 miles from Randolph and 7 miles from Fort Sam Houston and 8 miles from the San Antonio Airport.</td> \n",
       "        <td id=\"T_0601ecde_e922_11e8_be92_f01898076315row0_col2\" class=\"data row0 col2\" >San Antonio</td> \n",
       "        <td id=\"T_0601ecde_e922_11e8_be92_f01898076315row0_col3\" class=\"data row0 col3\" >https://www.airbnb.com/rooms/16568668?location=Cibolo%2C%20TX</td> \n",
       "    </tr></tbody> \n",
       "</table> "
      ],
      "text/plain": [
       "<pandas.io.formats.style.Styler at 0x1a14a8ea90>"
      ]
     },
     "metadata": {},
     "output_type": "display_data"
    },
    {
     "data": {
      "text/html": [
       "<style  type=\"text/css\" >\n",
       "</style>  \n",
       "<table id=\"T_06036c62_e922_11e8_b960_f01898076315\" > \n",
       "<thead>    <tr> \n",
       "        <th class=\"blank level0\" ></th> \n",
       "        <th class=\"col_heading level0 col0\" >title</th> \n",
       "        <th class=\"col_heading level0 col1\" >description</th> \n",
       "        <th class=\"col_heading level0 col2\" >city</th> \n",
       "        <th class=\"col_heading level0 col3\" >url</th> \n",
       "    </tr></thead> \n",
       "<tbody>    <tr> \n",
       "        <th id=\"T_06036c62_e922_11e8_b960_f01898076315level0_row0\" class=\"row_heading level0 row0\" >0</th> \n",
       "        <td id=\"T_06036c62_e922_11e8_b960_f01898076315row0_col0\" class=\"data row0 col0\" >Couch in Euless, TX near DFW Airport</td> \n",
       "        <td id=\"T_06036c62_e922_11e8_b960_f01898076315row0_col1\" class=\"data row0 col1\" >My place is close to parks and restaurants and dining. YouÃ¢ÂÂll love my place because of the neighborhood. My place is good for solo adventurers and business travelers.\\n\\nYou will share the townhome with 2 males in their 30's. They occupy 1 bedroom each. You get the couch downstairs. You get access to anything in the house but the 2 bedrooms.</td> \n",
       "        <td id=\"T_06036c62_e922_11e8_b960_f01898076315row0_col2\" class=\"data row0 col2\" >Euless</td> \n",
       "        <td id=\"T_06036c62_e922_11e8_b960_f01898076315row0_col3\" class=\"data row0 col3\" >https://www.airbnb.com/rooms/15284513?location=Bedford%2C%20TX</td> \n",
       "    </tr></tbody> \n",
       "</table> "
      ],
      "text/plain": [
       "<pandas.io.formats.style.Styler at 0x1a148b9c50>"
      ]
     },
     "metadata": {},
     "output_type": "display_data"
    },
    {
     "data": {
      "text/html": [
       "<style  type=\"text/css\" >\n",
       "</style>  \n",
       "<table id=\"T_0604401a_e922_11e8_b741_f01898076315\" > \n",
       "<thead>    <tr> \n",
       "        <th class=\"blank level0\" ></th> \n",
       "        <th class=\"col_heading level0 col0\" >title</th> \n",
       "        <th class=\"col_heading level0 col1\" >description</th> \n",
       "        <th class=\"col_heading level0 col2\" >city</th> \n",
       "        <th class=\"col_heading level0 col3\" >url</th> \n",
       "    </tr></thead> \n",
       "<tbody>    <tr> \n",
       "        <th id=\"T_0604401a_e922_11e8_b741_f01898076315level0_row0\" class=\"row_heading level0 row0\" >0</th> \n",
       "        <td id=\"T_0604401a_e922_11e8_b741_f01898076315row0_col0\" class=\"data row0 col0\" >Comfy Room in Bastrop near Austin!</td> \n",
       "        <td id=\"T_0604401a_e922_11e8_b741_f01898076315row0_col1\" class=\"data row0 col1\" >Our guest room has a new queen size mattress with a comfy latex topper! A private guest bathroom is just outside the bedroom. We live in a quiet neighborhood and have 2 indoor/outdoor cats and one small very friendly dog (Jack Russell). Continental breakfast included! Less than 30' to the airport! 40' to downtown Austin!</td> \n",
       "        <td id=\"T_0604401a_e922_11e8_b741_f01898076315row0_col2\" class=\"data row0 col2\" >Bastrop</td> \n",
       "        <td id=\"T_0604401a_e922_11e8_b741_f01898076315row0_col3\" class=\"data row0 col3\" >https://www.airbnb.com/rooms/3932126?location=Bastrop%20County%2C%20TX</td> \n",
       "    </tr></tbody> \n",
       "</table> "
      ],
      "text/plain": [
       "<pandas.io.formats.style.Styler at 0x1a14a8e2b0>"
      ]
     },
     "metadata": {},
     "output_type": "display_data"
    },
    {
     "data": {
      "text/html": [
       "<style  type=\"text/css\" >\n",
       "</style>  \n",
       "<table id=\"T_06052162_e922_11e8_97d7_f01898076315\" > \n",
       "<thead>    <tr> \n",
       "        <th class=\"blank level0\" ></th> \n",
       "        <th class=\"col_heading level0 col0\" >title</th> \n",
       "        <th class=\"col_heading level0 col1\" >description</th> \n",
       "        <th class=\"col_heading level0 col2\" >city</th> \n",
       "        <th class=\"col_heading level0 col3\" >url</th> \n",
       "    </tr></thead> \n",
       "<tbody>    <tr> \n",
       "        <th id=\"T_06052162_e922_11e8_97d7_f01898076315level0_row0\" class=\"row_heading level0 row0\" >0</th> \n",
       "        <td id=\"T_06052162_e922_11e8_97d7_f01898076315row0_col0\" class=\"data row0 col0\" >COZY. BY. DESIGN, City Studio</td> \n",
       "        <td id=\"T_06052162_e922_11e8_97d7_f01898076315row0_col1\" class=\"data row0 col1\" >Sweet Location! Near fabulous shopping and restaurants. Only 7 miles to Downtown. Trendy Studio Apartment with access to our community pool &amp; gym. Direct access to public transportation. Easy commute to airport. Central location. Don't have the dates you need? Check out: https://www.airbnb.com/rooms/12274983</td> \n",
       "        <td id=\"T_06052162_e922_11e8_97d7_f01898076315row0_col2\" class=\"data row0 col2\" >Dallas</td> \n",
       "        <td id=\"T_06052162_e922_11e8_97d7_f01898076315row0_col3\" class=\"data row0 col3\" >https://www.airbnb.com/rooms/13659593?location=Coppell%2C%20TX</td> \n",
       "    </tr></tbody> \n",
       "</table> "
      ],
      "text/plain": [
       "<pandas.io.formats.style.Styler at 0x1a14a8e4a8>"
      ]
     },
     "metadata": {},
     "output_type": "display_data"
    },
    {
     "data": {
      "text/html": [
       "<style  type=\"text/css\" >\n",
       "</style>  \n",
       "<table id=\"T_06066f52_e922_11e8_88bd_f01898076315\" > \n",
       "<thead>    <tr> \n",
       "        <th class=\"blank level0\" ></th> \n",
       "        <th class=\"col_heading level0 col0\" >title</th> \n",
       "        <th class=\"col_heading level0 col1\" >description</th> \n",
       "        <th class=\"col_heading level0 col2\" >city</th> \n",
       "        <th class=\"col_heading level0 col3\" >url</th> \n",
       "    </tr></thead> \n",
       "<tbody>    <tr> \n",
       "        <th id=\"T_06066f52_e922_11e8_88bd_f01898076315level0_row0\" class=\"row_heading level0 row0\" >0</th> \n",
       "        <td id=\"T_06066f52_e922_11e8_88bd_f01898076315row0_col0\" class=\"data row0 col0\" >Brand New Home In Gated Community Near The Lake</td> \n",
       "        <td id=\"T_06066f52_e922_11e8_88bd_f01898076315row0_col1\" class=\"data row0 col1\" >YouÃ¢ÂÂll love our newly built home in a gated community, tucked away and walking distance from Lake Lewisville. It is conveniently located just miles away from Toyota Stadium, The Star, The Shops at Legacy (shopping &amp; dining), and just a 30min drive from both DFW &amp; Love Field Airports.\\n\\nIn addition to being gated; our home has a full security system.\\n\\nThe community pool is also available during the summer season.\\n\\nGreat for couples, solo adventurers, business travelers, and families (with kids).</td> \n",
       "        <td id=\"T_06066f52_e922_11e8_88bd_f01898076315row0_col2\" class=\"data row0 col2\" >Frisco</td> \n",
       "        <td id=\"T_06066f52_e922_11e8_88bd_f01898076315row0_col3\" class=\"data row0 col3\" >https://www.airbnb.com/rooms/17765765?location=Celina%2C%20TX</td> \n",
       "    </tr></tbody> \n",
       "</table> "
      ],
      "text/plain": [
       "<pandas.io.formats.style.Styler at 0x10a5c09b0>"
      ]
     },
     "metadata": {},
     "output_type": "display_data"
    },
    {
     "data": {
      "text/html": [
       "<style  type=\"text/css\" >\n",
       "</style>  \n",
       "<table id=\"T_06074b1e_e922_11e8_84d6_f01898076315\" > \n",
       "<thead>    <tr> \n",
       "        <th class=\"blank level0\" ></th> \n",
       "        <th class=\"col_heading level0 col0\" >title</th> \n",
       "        <th class=\"col_heading level0 col1\" >description</th> \n",
       "        <th class=\"col_heading level0 col2\" >city</th> \n",
       "        <th class=\"col_heading level0 col3\" >url</th> \n",
       "    </tr></thead> \n",
       "<tbody>    <tr> \n",
       "        <th id=\"T_06074b1e_e922_11e8_84d6_f01898076315level0_row0\" class=\"row_heading level0 row0\" >0</th> \n",
       "        <td id=\"T_06074b1e_e922_11e8_84d6_f01898076315row0_col0\" class=\"data row0 col0\" >Private Bedroom and Bath in Clear lake</td> \n",
       "        <td id=\"T_06074b1e_e922_11e8_84d6_f01898076315row0_col1\" class=\"data row0 col1\" >My place is in a quiet neighborhood and close to several good restaurants , coffee shops, places to go, and things to do or see. We are located near NASA Space Center, University of Houston, Clear Lake, Kemah Boardwalk, Armand Bayou nature center, Hobby airport and Baybrook Mall. \\nDowntown Houston, NRG Stadium and Minute Maid Park are an easy 20 Ã¢ÂÂ 30 minute drive north of our house. Galveston Island is also less than an hour away.</td> \n",
       "        <td id=\"T_06074b1e_e922_11e8_84d6_f01898076315row0_col2\" class=\"data row0 col2\" >Houston</td> \n",
       "        <td id=\"T_06074b1e_e922_11e8_84d6_f01898076315row0_col3\" class=\"data row0 col3\" >https://www.airbnb.com/rooms/16685960?location=Baytown%2C%20TX</td> \n",
       "    </tr></tbody> \n",
       "</table> "
      ],
      "text/plain": [
       "<pandas.io.formats.style.Styler at 0x1a14b484e0>"
      ]
     },
     "metadata": {},
     "output_type": "display_data"
    },
    {
     "data": {
      "text/html": [
       "<style  type=\"text/css\" >\n",
       "</style>  \n",
       "<table id=\"T_06089f52_e922_11e8_b41d_f01898076315\" > \n",
       "<thead>    <tr> \n",
       "        <th class=\"blank level0\" ></th> \n",
       "        <th class=\"col_heading level0 col0\" >title</th> \n",
       "        <th class=\"col_heading level0 col1\" >description</th> \n",
       "        <th class=\"col_heading level0 col2\" >city</th> \n",
       "        <th class=\"col_heading level0 col3\" >url</th> \n",
       "    </tr></thead> \n",
       "<tbody>    <tr> \n",
       "        <th id=\"T_06089f52_e922_11e8_b41d_f01898076315level0_row0\" class=\"row_heading level0 row0\" >0</th> \n",
       "        <td id=\"T_06089f52_e922_11e8_b41d_f01898076315row0_col0\" class=\"data row0 col0\" >Family Home near Austin Airport</td> \n",
       "        <td id=\"T_06089f52_e922_11e8_b41d_f01898076315row0_col1\" class=\"data row0 col1\" >Spacious home with wood floors, and fire place. Kitchen has full available appliances and living area has recliner, LED TV, local channels, &amp; Wifi all over the house. Master bedroom has King size bed, double sink, separate shower and a garden tub.</td> \n",
       "        <td id=\"T_06089f52_e922_11e8_b41d_f01898076315row0_col2\" class=\"data row0 col2\" >Austin</td> \n",
       "        <td id=\"T_06089f52_e922_11e8_b41d_f01898076315row0_col3\" class=\"data row0 col3\" >https://www.airbnb.com/rooms/8191636?location=Cedar%20Creek%2C%20TX</td> \n",
       "    </tr></tbody> \n",
       "</table> "
      ],
      "text/plain": [
       "<pandas.io.formats.style.Styler at 0x1a124a6a90>"
      ]
     },
     "metadata": {},
     "output_type": "display_data"
    },
    {
     "data": {
      "text/html": [
       "<style  type=\"text/css\" >\n",
       "</style>  \n",
       "<table id=\"T_060981d8_e922_11e8_9b06_f01898076315\" > \n",
       "<thead>    <tr> \n",
       "        <th class=\"blank level0\" ></th> \n",
       "        <th class=\"col_heading level0 col0\" >title</th> \n",
       "        <th class=\"col_heading level0 col1\" >description</th> \n",
       "        <th class=\"col_heading level0 col2\" >city</th> \n",
       "        <th class=\"col_heading level0 col3\" >url</th> \n",
       "    </tr></thead> \n",
       "<tbody>    <tr> \n",
       "        <th id=\"T_060981d8_e922_11e8_9b06_f01898076315level0_row0\" class=\"row_heading level0 row0\" >0</th> \n",
       "        <td id=\"T_060981d8_e922_11e8_9b06_f01898076315row0_col0\" class=\"data row0 col0\" >3 BR near AT&T Stadium, Rangers Stadium, Six Flags</td> \n",
       "        <td id=\"T_060981d8_e922_11e8_9b06_f01898076315row0_col1\" class=\"data row0 col1\" >My place is 2 mins driving away AT&amp;T Stadium, Rangers stadium,Six Flags,20 mins away DFW Airport, The Parks Mall,the city center,parks,art and culture. YouÃ¢ÂÂll love my place because of the house is comfortable,you will find all the stuffs will you need, delicious breakfast and hot tea &amp; cofee\\n10 mins walking Lincon Square Plaza where big variety restaurants &amp; shopping stores.\\nMy place is good for couples, solo adventurers, business travelers, and families (with kids) the house is Safe for kids.</td> \n",
       "        <td id=\"T_060981d8_e922_11e8_9b06_f01898076315row0_col2\" class=\"data row0 col2\" >Arlington</td> \n",
       "        <td id=\"T_060981d8_e922_11e8_9b06_f01898076315row0_col3\" class=\"data row0 col3\" >https://www.airbnb.com/rooms/13688920?location=Arlington%2C%20TX</td> \n",
       "    </tr></tbody> \n",
       "</table> "
      ],
      "text/plain": [
       "<pandas.io.formats.style.Styler at 0x1a14a85d68>"
      ]
     },
     "metadata": {},
     "output_type": "display_data"
    },
    {
     "data": {
      "text/html": [
       "<style  type=\"text/css\" >\n",
       "</style>  \n",
       "<table id=\"T_060a7bc6_e922_11e8_a76e_f01898076315\" > \n",
       "<thead>    <tr> \n",
       "        <th class=\"blank level0\" ></th> \n",
       "        <th class=\"col_heading level0 col0\" >title</th> \n",
       "        <th class=\"col_heading level0 col1\" >description</th> \n",
       "        <th class=\"col_heading level0 col2\" >city</th> \n",
       "        <th class=\"col_heading level0 col3\" >url</th> \n",
       "    </tr></thead> \n",
       "<tbody>    <tr> \n",
       "        <th id=\"T_060a7bc6_e922_11e8_a76e_f01898076315level0_row0\" class=\"row_heading level0 row0\" >0</th> \n",
       "        <td id=\"T_060a7bc6_e922_11e8_a76e_f01898076315row0_col0\" class=\"data row0 col0\" >Private Room Near Airports</td> \n",
       "        <td id=\"T_060a7bc6_e922_11e8_a76e_f01898076315row0_col1\" class=\"data row0 col1\" >One of three private rooms in a two story home located in a nice and quiet neighborhood. Close to major highways. Easy access to entire Dallas/Fort Worth area. Very close to DFW airport and not far from Love Field Airport either. Walking distance to a park, a movie theater, many shopping venues (including grocery store and department store) and many restaurants (0.5-1.0 mile). The house is bright and airy with high ceiling. Good Wi-Fi connection. Full kitchen/laundry room access .</td> \n",
       "        <td id=\"T_060a7bc6_e922_11e8_a76e_f01898076315row0_col2\" class=\"data row0 col2\" >Irving</td> \n",
       "        <td id=\"T_060a7bc6_e922_11e8_a76e_f01898076315row0_col3\" class=\"data row0 col3\" >https://www.airbnb.com/rooms/13604316?location=Colleyville%2C%20TX</td> \n",
       "    </tr></tbody> \n",
       "</table> "
      ],
      "text/plain": [
       "<pandas.io.formats.style.Styler at 0x1a14a85470>"
      ]
     },
     "metadata": {},
     "output_type": "display_data"
    },
    {
     "data": {
      "text/html": [
       "<style  type=\"text/css\" >\n",
       "</style>  \n",
       "<table id=\"T_060b7b9e_e922_11e8_8d55_f01898076315\" > \n",
       "<thead>    <tr> \n",
       "        <th class=\"blank level0\" ></th> \n",
       "        <th class=\"col_heading level0 col0\" >title</th> \n",
       "        <th class=\"col_heading level0 col1\" >description</th> \n",
       "        <th class=\"col_heading level0 col2\" >city</th> \n",
       "        <th class=\"col_heading level0 col3\" >url</th> \n",
       "    </tr></thead> \n",
       "<tbody>    <tr> \n",
       "        <th id=\"T_060b7b9e_e922_11e8_8d55_f01898076315level0_row0\" class=\"row_heading level0 row0\" >0</th> \n",
       "        <td id=\"T_060b7b9e_e922_11e8_8d55_f01898076315row0_col0\" class=\"data row0 col0\" >Private room near IAH airport. Gated community</td> \n",
       "        <td id=\"T_060b7b9e_e922_11e8_8d55_f01898076315row0_col1\" class=\"data row0 col1\" >One room with queen bed in gated community in 4 bedroom house in Humble near Beltway 8 and Wilson Road. Next to lots of stores like Walmart, Petco, Starbucks, etc. 15 minute drive to airport. Access to gym, pool and basketball court in community.\\nRates in USD</td> \n",
       "        <td id=\"T_060b7b9e_e922_11e8_8d55_f01898076315row0_col2\" class=\"data row0 col2\" >Humble</td> \n",
       "        <td id=\"T_060b7b9e_e922_11e8_8d55_f01898076315row0_col3\" class=\"data row0 col3\" >https://www.airbnb.com/rooms/1884919?location=Baytown%2C%20TX</td> \n",
       "    </tr></tbody> \n",
       "</table> "
      ],
      "text/plain": [
       "<pandas.io.formats.style.Styler at 0x1a124a65f8>"
      ]
     },
     "metadata": {},
     "output_type": "display_data"
    },
    {
     "data": {
      "text/html": [
       "<style  type=\"text/css\" >\n",
       "</style>  \n",
       "<table id=\"T_060c3f5e_e922_11e8_82ad_f01898076315\" > \n",
       "<thead>    <tr> \n",
       "        <th class=\"blank level0\" ></th> \n",
       "        <th class=\"col_heading level0 col0\" >title</th> \n",
       "        <th class=\"col_heading level0 col1\" >description</th> \n",
       "        <th class=\"col_heading level0 col2\" >city</th> \n",
       "        <th class=\"col_heading level0 col3\" >url</th> \n",
       "    </tr></thead> \n",
       "<tbody>    <tr> \n",
       "        <th id=\"T_060c3f5e_e922_11e8_82ad_f01898076315level0_row0\" class=\"row_heading level0 row0\" >0</th> \n",
       "        <td id=\"T_060c3f5e_e922_11e8_82ad_f01898076315row0_col0\" class=\"data row0 col0\" >Spacious Texan Villa off Fwy 199/nt</td> \n",
       "        <td id=\"T_060c3f5e_e922_11e8_82ad_f01898076315row0_col1\" class=\"data row0 col1\" >24hrs checkin with code access, near exit off I-20, making airport, downtown Dallas and Fort Worth, six flags, cowboys stadium, just 15-20 min ride. Soap, towels (9counts), shampoo, shower cap, face towels(9 counts), clean bed sheet, kitchen with limited supplies, free wifi, Netflix, grill, plenty parking, pool, sunny patio, golf course view, spacious Texan bedrooms, and back yard, for your luxury stay.</td> \n",
       "        <td id=\"T_060c3f5e_e922_11e8_82ad_f01898076315row0_col2\" class=\"data row0 col2\" >Grand Prairie</td> \n",
       "        <td id=\"T_060c3f5e_e922_11e8_82ad_f01898076315row0_col3\" class=\"data row0 col3\" >https://www.airbnb.com/rooms/11943403?location=Cedar%20Hill%2C%20TX</td> \n",
       "    </tr></tbody> \n",
       "</table> "
      ],
      "text/plain": [
       "<pandas.io.formats.style.Styler at 0x10b9a6eb8>"
      ]
     },
     "metadata": {},
     "output_type": "display_data"
    },
    {
     "data": {
      "text/html": [
       "<style  type=\"text/css\" >\n",
       "</style>  \n",
       "<table id=\"T_060d2252_e922_11e8_b391_f01898076315\" > \n",
       "<thead>    <tr> \n",
       "        <th class=\"blank level0\" ></th> \n",
       "        <th class=\"col_heading level0 col0\" >title</th> \n",
       "        <th class=\"col_heading level0 col1\" >description</th> \n",
       "        <th class=\"col_heading level0 col2\" >city</th> \n",
       "        <th class=\"col_heading level0 col3\" >url</th> \n",
       "    </tr></thead> \n",
       "<tbody>    <tr> \n",
       "        <th id=\"T_060d2252_e922_11e8_b391_f01898076315level0_row0\" class=\"row_heading level0 row0\" >0</th> \n",
       "        <td id=\"T_060d2252_e922_11e8_b391_f01898076315row0_col0\" class=\"data row0 col0\" >Private bed/bath near DFW/DAL airports & Galleria</td> \n",
       "        <td id=\"T_060d2252_e922_11e8_b391_f01898076315row0_col1\" class=\"data row0 col1\" >ROOM #1 - Private Bed/Bath close to DFW International Airport, Dallas Love Field (DAL) Airport, Irving Convention Center, Galleria Mall, North Park Mall, Downtown Dallas, Uptown Dallas, Las Colinas, Grapevine Mills Outlet Mall. YouÃ¢ÂÂll love the high ceilings, the coziness, the cleanliness, brand new home, quiet, jogging/biking/walking trails nearby, man made lake/river/canals nearby, scenic and peaceful. My place is good for couples, solo adventurers, business travelers, and families (with kids).</td> \n",
       "        <td id=\"T_060d2252_e922_11e8_b391_f01898076315row0_col2\" class=\"data row0 col2\" >Irving</td> \n",
       "        <td id=\"T_060d2252_e922_11e8_b391_f01898076315row0_col3\" class=\"data row0 col3\" >https://www.airbnb.com/rooms/15884544?location=Carrollton%2C%20TX</td> \n",
       "    </tr></tbody> \n",
       "</table> "
      ],
      "text/plain": [
       "<pandas.io.formats.style.Styler at 0x1a14b489e8>"
      ]
     },
     "metadata": {},
     "output_type": "display_data"
    },
    {
     "data": {
      "text/html": [
       "<style  type=\"text/css\" >\n",
       "</style>  \n",
       "<table id=\"T_060e16a8_e922_11e8_92e0_f01898076315\" > \n",
       "<thead>    <tr> \n",
       "        <th class=\"blank level0\" ></th> \n",
       "        <th class=\"col_heading level0 col0\" >title</th> \n",
       "        <th class=\"col_heading level0 col1\" >description</th> \n",
       "        <th class=\"col_heading level0 col2\" >city</th> \n",
       "        <th class=\"col_heading level0 col3\" >url</th> \n",
       "    </tr></thead> \n",
       "<tbody>    <tr> \n",
       "        <th id=\"T_060e16a8_e922_11e8_92e0_f01898076315level0_row0\" class=\"row_heading level0 row0\" >0</th> \n",
       "        <td id=\"T_060e16a8_e922_11e8_92e0_f01898076315row0_col0\" class=\"data row0 col0\" >Cozy&Comfort Private Rm. Near IAH</td> \n",
       "        <td id=\"T_060e16a8_e922_11e8_92e0_f01898076315row0_col1\" class=\"data row0 col1\" >This home is essential for the person who needs to be minutes from the airport (8min) and downtown (15min).\\nLess than (1mi) from the nearest movie cinema, bowling, and eateries.\\n\\nComplimentary ride from the airport upon request.</td> \n",
       "        <td id=\"T_060e16a8_e922_11e8_92e0_f01898076315row0_col2\" class=\"data row0 col2\" >Humble</td> \n",
       "        <td id=\"T_060e16a8_e922_11e8_92e0_f01898076315row0_col3\" class=\"data row0 col3\" >https://www.airbnb.com/rooms/10888712?location=Channelview%2C%20TX</td> \n",
       "    </tr></tbody> \n",
       "</table> "
      ],
      "text/plain": [
       "<pandas.io.formats.style.Styler at 0x1a14b48550>"
      ]
     },
     "metadata": {},
     "output_type": "display_data"
    },
    {
     "data": {
      "text/html": [
       "<style  type=\"text/css\" >\n",
       "</style>  \n",
       "<table id=\"T_060ede6c_e922_11e8_b3d8_f01898076315\" > \n",
       "<thead>    <tr> \n",
       "        <th class=\"blank level0\" ></th> \n",
       "        <th class=\"col_heading level0 col0\" >title</th> \n",
       "        <th class=\"col_heading level0 col1\" >description</th> \n",
       "        <th class=\"col_heading level0 col2\" >city</th> \n",
       "        <th class=\"col_heading level0 col3\" >url</th> \n",
       "    </tr></thead> \n",
       "<tbody>    <tr> \n",
       "        <th id=\"T_060ede6c_e922_11e8_b3d8_f01898076315level0_row0\" class=\"row_heading level0 row0\" >0</th> \n",
       "        <td id=\"T_060ede6c_e922_11e8_b3d8_f01898076315row0_col0\" class=\"data row0 col0\" >Private bed/bath near DFW/DAL airports & Galleria</td> \n",
       "        <td id=\"T_060ede6c_e922_11e8_b3d8_f01898076315row0_col1\" class=\"data row0 col1\" >Room #3 - Private Bed/Bath close to DFW International Airport, Dallas Love Field (DAL) Airport, Irving Convention Center, Galleria Mall, North Park Mall, Downtown Dallas, Uptown Dallas, Las Colinas, Grapevine Mills Outlet Mall. YouÃ¢ÂÂll love the high ceilings, the coziness, the cleanliness, brand new home, quiet, jogging/biking/walking trails nearby, man made lake/river/canals nearby, scenic and peaceful. My place is good for couples, solo adventurers, business travelers, and families (with kids).</td> \n",
       "        <td id=\"T_060ede6c_e922_11e8_b3d8_f01898076315row0_col2\" class=\"data row0 col2\" >Irving</td> \n",
       "        <td id=\"T_060ede6c_e922_11e8_b3d8_f01898076315row0_col3\" class=\"data row0 col3\" >https://www.airbnb.com/rooms/17584605?location=Carrollton%2C%20TX</td> \n",
       "    </tr></tbody> \n",
       "</table> "
      ],
      "text/plain": [
       "<pandas.io.formats.style.Styler at 0x1a14a8e160>"
      ]
     },
     "metadata": {},
     "output_type": "display_data"
    },
    {
     "data": {
      "text/html": [
       "<style  type=\"text/css\" >\n",
       "</style>  \n",
       "<table id=\"T_060fb364_e922_11e8_aa5b_f01898076315\" > \n",
       "<thead>    <tr> \n",
       "        <th class=\"blank level0\" ></th> \n",
       "        <th class=\"col_heading level0 col0\" >title</th> \n",
       "        <th class=\"col_heading level0 col1\" >description</th> \n",
       "        <th class=\"col_heading level0 col2\" >city</th> \n",
       "        <th class=\"col_heading level0 col3\" >url</th> \n",
       "    </tr></thead> \n",
       "<tbody>    <tr> \n",
       "        <th id=\"T_060fb364_e922_11e8_aa5b_f01898076315level0_row0\" class=\"row_heading level0 row0\" >0</th> \n",
       "        <td id=\"T_060fb364_e922_11e8_aa5b_f01898076315row0_col0\" class=\"data row0 col0\" >Private bedroom suite in Dallas</td> \n",
       "        <td id=\"T_060fb364_e922_11e8_aa5b_f01898076315row0_col1\" class=\"data row0 col1\" >A slice of heaven in the sky, tastefully decorated by well know interior designer with bedroom suite and private bath near Northpark Mall and Preston Center. Upscale doorman building with indoor pool, concierge services and convenient parking. \\r\\nBedroom has Time Warner Cable with flat screen television and walk in closet. \\r\\n\\r\\nContinental breakfast will provided daily. Access to full kitchen and bar also available. Discount town car service available for airport pickups, drop offs and travel around town upon request.\\r\\n\\r\\nShort walk to restaurants, Starbucks, Equinox Gym and other fun places in Preston Center. \\r\\n</td> \n",
       "        <td id=\"T_060fb364_e922_11e8_aa5b_f01898076315row0_col2\" class=\"data row0 col2\" >University Park</td> \n",
       "        <td id=\"T_060fb364_e922_11e8_aa5b_f01898076315row0_col3\" class=\"data row0 col3\" >https://www.airbnb.com/rooms/1005715?location=Addison%2C%20TX</td> \n",
       "    </tr></tbody> \n",
       "</table> "
      ],
      "text/plain": [
       "<pandas.io.formats.style.Styler at 0x1a14a8e6d8>"
      ]
     },
     "metadata": {},
     "output_type": "display_data"
    },
    {
     "data": {
      "text/html": [
       "<style  type=\"text/css\" >\n",
       "</style>  \n",
       "<table id=\"T_06109e78_e922_11e8_9ea3_f01898076315\" > \n",
       "<thead>    <tr> \n",
       "        <th class=\"blank level0\" ></th> \n",
       "        <th class=\"col_heading level0 col0\" >title</th> \n",
       "        <th class=\"col_heading level0 col1\" >description</th> \n",
       "        <th class=\"col_heading level0 col2\" >city</th> \n",
       "        <th class=\"col_heading level0 col3\" >url</th> \n",
       "    </tr></thead> \n",
       "<tbody>    <tr> \n",
       "        <th id=\"T_06109e78_e922_11e8_9ea3_f01898076315level0_row0\" class=\"row_heading level0 row0\" >0</th> \n",
       "        <td id=\"T_06109e78_e922_11e8_9ea3_f01898076315row0_col0\" class=\"data row0 col0\" >Central DALLAS Loft</td> \n",
       "        <td id=\"T_06109e78_e922_11e8_9ea3_f01898076315row0_col1\" class=\"data row0 col1\" >Cozy loft located near Downtown within walking distance to LA Fitness, grocery store and public transportation (bus and light rail). 5.5 miles from Dallas Love Field Airport; 2.8 miles from Dallas Convention Center. Within a few minutes from shops, dinning, bars and clubs. Centrally located! The unit comes with Internet, cable tv, printer/copier, washer &amp; dryer, ironing board, hair dryer and a Keurig available for your use.</td> \n",
       "        <td id=\"T_06109e78_e922_11e8_9ea3_f01898076315row0_col2\" class=\"data row0 col2\" >Dallas</td> \n",
       "        <td id=\"T_06109e78_e922_11e8_9ea3_f01898076315row0_col3\" class=\"data row0 col3\" >https://www.airbnb.com/rooms/13108178?location=Brazos%20River%2C%20TX</td> \n",
       "    </tr></tbody> \n",
       "</table> "
      ],
      "text/plain": [
       "<pandas.io.formats.style.Styler at 0x1a14ae0630>"
      ]
     },
     "metadata": {},
     "output_type": "display_data"
    },
    {
     "data": {
      "text/html": [
       "<style  type=\"text/css\" >\n",
       "</style>  \n",
       "<table id=\"T_0611731e_e922_11e8_9cae_f01898076315\" > \n",
       "<thead>    <tr> \n",
       "        <th class=\"blank level0\" ></th> \n",
       "        <th class=\"col_heading level0 col0\" >title</th> \n",
       "        <th class=\"col_heading level0 col1\" >description</th> \n",
       "        <th class=\"col_heading level0 col2\" >city</th> \n",
       "        <th class=\"col_heading level0 col3\" >url</th> \n",
       "    </tr></thead> \n",
       "<tbody>    <tr> \n",
       "        <th id=\"T_0611731e_e922_11e8_9cae_f01898076315level0_row0\" class=\"row_heading level0 row0\" >0</th> \n",
       "        <td id=\"T_0611731e_e922_11e8_9cae_f01898076315row0_col0\" class=\"data row0 col0\" >La Casa Magnolia w/ Pool- Near the Airport!</td> \n",
       "        <td id=\"T_0611731e_e922_11e8_9cae_f01898076315row0_col1\" class=\"data row0 col1\" >This is a lovely home in a quiet and safe neighborhood, near major highways.Very close to San Antonio International Airport and only 11 miles away from Downtown. We are central to the other attractions. The house offers a full kitchen, premium washer and dryer,good size pool,karaoke machine and a downstairs bedroom/bath. Free parking in the garage way. The house has a great backyard and a charcoal grill. Sleeps 11, has a crib and high chair for our small guests ( and toys!)</td> \n",
       "        <td id=\"T_0611731e_e922_11e8_9cae_f01898076315row0_col2\" class=\"data row0 col2\" >San Antonio</td> \n",
       "        <td id=\"T_0611731e_e922_11e8_9cae_f01898076315row0_col3\" class=\"data row0 col3\" >https://www.airbnb.com/rooms/10815894?location=Alamo%20Heights%2C%20TX</td> \n",
       "    </tr></tbody> \n",
       "</table> "
      ],
      "text/plain": [
       "<pandas.io.formats.style.Styler at 0x1a14a8e4a8>"
      ]
     },
     "metadata": {},
     "output_type": "display_data"
    },
    {
     "data": {
      "text/html": [
       "<style  type=\"text/css\" >\n",
       "</style>  \n",
       "<table id=\"T_0612641a_e922_11e8_bd49_f01898076315\" > \n",
       "<thead>    <tr> \n",
       "        <th class=\"blank level0\" ></th> \n",
       "        <th class=\"col_heading level0 col0\" >title</th> \n",
       "        <th class=\"col_heading level0 col1\" >description</th> \n",
       "        <th class=\"col_heading level0 col2\" >city</th> \n",
       "        <th class=\"col_heading level0 col3\" >url</th> \n",
       "    </tr></thead> \n",
       "<tbody>    <tr> \n",
       "        <th id=\"T_0612641a_e922_11e8_bd49_f01898076315level0_row0\" class=\"row_heading level0 row0\" >0</th> \n",
       "        <td id=\"T_0612641a_e922_11e8_bd49_f01898076315row0_col0\" class=\"data row0 col0\" >Quiet guest room with queen bed</td> \n",
       "        <td id=\"T_0612641a_e922_11e8_bd49_f01898076315row0_col1\" class=\"data row0 col1\" >1 bedroom with Queen bed and 42Ã¢ÂÂ TV. Shared bathroom, and kitchen. *Minutes away from San Antonio International Airport. *10 minutes away from The Alamo, and downtown. *5 minutes away from North Star Mall. *8 minutes away from IH 35N. Quiet hours start at 10pm till 5am. Walking distance from convenience stores, CVS, Walmart. Plenty of great restaurants near by. Check in at 11:30 am and check out at 11:00 a.m. p.m.No smoking or drugs allowed.</td> \n",
       "        <td id=\"T_0612641a_e922_11e8_bd49_f01898076315row0_col2\" class=\"data row0 col2\" >San Antonio</td> \n",
       "        <td id=\"T_0612641a_e922_11e8_bd49_f01898076315row0_col3\" class=\"data row0 col3\" >https://www.airbnb.com/rooms/17609396?location=Alamo%20Heights%2C%20TX</td> \n",
       "    </tr></tbody> \n",
       "</table> "
      ],
      "text/plain": [
       "<pandas.io.formats.style.Styler at 0x10a5b3630>"
      ]
     },
     "metadata": {},
     "output_type": "display_data"
    },
    {
     "data": {
      "text/html": [
       "<style  type=\"text/css\" >\n",
       "</style>  \n",
       "<table id=\"T_06131bf8_e922_11e8_8564_f01898076315\" > \n",
       "<thead>    <tr> \n",
       "        <th class=\"blank level0\" ></th> \n",
       "        <th class=\"col_heading level0 col0\" >title</th> \n",
       "        <th class=\"col_heading level0 col1\" >description</th> \n",
       "        <th class=\"col_heading level0 col2\" >city</th> \n",
       "        <th class=\"col_heading level0 col3\" >url</th> \n",
       "    </tr></thead> \n",
       "<tbody>    <tr> \n",
       "        <th id=\"T_06131bf8_e922_11e8_8564_f01898076315level0_row0\" class=\"row_heading level0 row0\" >0</th> \n",
       "        <td id=\"T_06131bf8_e922_11e8_8564_f01898076315row0_col0\" class=\"data row0 col0\" >Near Austin TechRidge F1 ABIA SXSW</td> \n",
       "        <td id=\"T_06131bf8_e922_11e8_8564_f01898076315row0_col1\" class=\"data row0 col1\" >Two-story home perfect for families or couples traveling together. Three separate bedrooms plus a sleeper sofa in the living room. Very easy to get to ABIA (airport), Circuit of the Americas, The University of Texas and Tech Ridge.</td> \n",
       "        <td id=\"T_06131bf8_e922_11e8_8564_f01898076315row0_col2\" class=\"data row0 col2\" >Manor</td> \n",
       "        <td id=\"T_06131bf8_e922_11e8_8564_f01898076315row0_col3\" class=\"data row0 col3\" >https://www.airbnb.com/rooms/2898492?location=Coupland%2C%20TX</td> \n",
       "    </tr></tbody> \n",
       "</table> "
      ],
      "text/plain": [
       "<pandas.io.formats.style.Styler at 0x1a14a8e358>"
      ]
     },
     "metadata": {},
     "output_type": "display_data"
    },
    {
     "data": {
      "text/html": [
       "<style  type=\"text/css\" >\n",
       "</style>  \n",
       "<table id=\"T_0613faf0_e922_11e8_9c7b_f01898076315\" > \n",
       "<thead>    <tr> \n",
       "        <th class=\"blank level0\" ></th> \n",
       "        <th class=\"col_heading level0 col0\" >title</th> \n",
       "        <th class=\"col_heading level0 col1\" >description</th> \n",
       "        <th class=\"col_heading level0 col2\" >city</th> \n",
       "        <th class=\"col_heading level0 col3\" >url</th> \n",
       "    </tr></thead> \n",
       "<tbody>    <tr> \n",
       "        <th id=\"T_0613faf0_e922_11e8_9c7b_f01898076315level0_row0\" class=\"row_heading level0 row0\" >0</th> \n",
       "        <td id=\"T_0613faf0_e922_11e8_9c7b_f01898076315row0_col0\" class=\"data row0 col0\" >Spacious Room Near Ft. Sam, Randolph and Airport.</td> \n",
       "        <td id=\"T_0613faf0_e922_11e8_9c7b_f01898076315row0_col1\" class=\"data row0 col1\" >Just north the busy street of Walzem and where you can find everything to include San Antonio's IN-N-OUT, this house is a brand new 3 bedroom, 2.5 bathroom in the perfect location. The inner 410 loop and I-35 junction is literally a straight shot west with easy access to both and only 5 miles from Randolph and 7 miles from Fort Sam Houston and 8 miles from the San Antonio Airport.</td> \n",
       "        <td id=\"T_0613faf0_e922_11e8_9c7b_f01898076315row0_col2\" class=\"data row0 col2\" >San Antonio</td> \n",
       "        <td id=\"T_0613faf0_e922_11e8_9c7b_f01898076315row0_col3\" class=\"data row0 col3\" >https://www.airbnb.com/rooms/16568668?location=Bulverde%2C%20TX</td> \n",
       "    </tr></tbody> \n",
       "</table> "
      ],
      "text/plain": [
       "<pandas.io.formats.style.Styler at 0x1a14b48b00>"
      ]
     },
     "metadata": {},
     "output_type": "display_data"
    },
    {
     "data": {
      "text/html": [
       "<style  type=\"text/css\" >\n",
       "</style>  \n",
       "<table id=\"T_06154d9c_e922_11e8_b848_f01898076315\" > \n",
       "<thead>    <tr> \n",
       "        <th class=\"blank level0\" ></th> \n",
       "        <th class=\"col_heading level0 col0\" >title</th> \n",
       "        <th class=\"col_heading level0 col1\" >description</th> \n",
       "        <th class=\"col_heading level0 col2\" >city</th> \n",
       "        <th class=\"col_heading level0 col3\" >url</th> \n",
       "    </tr></thead> \n",
       "<tbody>    <tr> \n",
       "        <th id=\"T_06154d9c_e922_11e8_b848_f01898076315level0_row0\" class=\"row_heading level0 row0\" >0</th> \n",
       "        <td id=\"T_06154d9c_e922_11e8_b848_f01898076315row0_col0\" class=\"data row0 col0\" >1 bdrm w/Private Bath near airport in San Antonio</td> \n",
       "        <td id=\"T_06154d9c_e922_11e8_b848_f01898076315row0_col1\" class=\"data row0 col1\" >We are empty-nesters who live in north central San Antonio with close proximity to all the major thoroughfares within the city. Our home is conveniently located 7 miles from the airport and walking distance to local grocery stores, restaurants, major banks, &amp; other business amenities. We are 16 miles from downtown and on the public transportation route.</td> \n",
       "        <td id=\"T_06154d9c_e922_11e8_b848_f01898076315row0_col2\" class=\"data row0 col2\" >San Antonio</td> \n",
       "        <td id=\"T_06154d9c_e922_11e8_b848_f01898076315row0_col3\" class=\"data row0 col3\" >https://www.airbnb.com/rooms/19364514?location=Converse%2C%20TX</td> \n",
       "    </tr></tbody> \n",
       "</table> "
      ],
      "text/plain": [
       "<pandas.io.formats.style.Styler at 0x1a14a85e80>"
      ]
     },
     "metadata": {},
     "output_type": "display_data"
    },
    {
     "data": {
      "text/html": [
       "<style  type=\"text/css\" >\n",
       "</style>  \n",
       "<table id=\"T_0616118c_e922_11e8_81a4_f01898076315\" > \n",
       "<thead>    <tr> \n",
       "        <th class=\"blank level0\" ></th> \n",
       "        <th class=\"col_heading level0 col0\" >title</th> \n",
       "        <th class=\"col_heading level0 col1\" >description</th> \n",
       "        <th class=\"col_heading level0 col2\" >city</th> \n",
       "        <th class=\"col_heading level0 col3\" >url</th> \n",
       "    </tr></thead> \n",
       "<tbody>    <tr> \n",
       "        <th id=\"T_0616118c_e922_11e8_81a4_f01898076315level0_row0\" class=\"row_heading level0 row0\" >0</th> \n",
       "        <td id=\"T_0616118c_e922_11e8_81a4_f01898076315row0_col0\" class=\"data row0 col0\" >Economic Private room with shared bath</td> \n",
       "        <td id=\"T_0616118c_e922_11e8_81a4_f01898076315row0_col1\" class=\"data row0 col1\" >Brand new house in quiet wooded neighborhood with community pool and walking trails near the lake. Comfy bed. Less than 30mins from the Intercontinental Airport, 3-10mins to a variety of restaurants and entertainment, and 11mins from Exxon campus.</td> \n",
       "        <td id=\"T_0616118c_e922_11e8_81a4_f01898076315row0_col2\" class=\"data row0 col2\" >Spring</td> \n",
       "        <td id=\"T_0616118c_e922_11e8_81a4_f01898076315row0_col3\" class=\"data row0 col3\" >https://www.airbnb.com/rooms/12543699?location=Conroe%2C%20TX</td> \n",
       "    </tr></tbody> \n",
       "</table> "
      ],
      "text/plain": [
       "<pandas.io.formats.style.Styler at 0x1a14ae0828>"
      ]
     },
     "metadata": {},
     "output_type": "display_data"
    },
    {
     "data": {
      "text/html": [
       "<style  type=\"text/css\" >\n",
       "</style>  \n",
       "<table id=\"T_06170600_e922_11e8_a9d7_f01898076315\" > \n",
       "<thead>    <tr> \n",
       "        <th class=\"blank level0\" ></th> \n",
       "        <th class=\"col_heading level0 col0\" >title</th> \n",
       "        <th class=\"col_heading level0 col1\" >description</th> \n",
       "        <th class=\"col_heading level0 col2\" >city</th> \n",
       "        <th class=\"col_heading level0 col3\" >url</th> \n",
       "    </tr></thead> \n",
       "<tbody>    <tr> \n",
       "        <th id=\"T_06170600_e922_11e8_a9d7_f01898076315level0_row0\" class=\"row_heading level0 row0\" >0</th> \n",
       "        <td id=\"T_06170600_e922_11e8_a9d7_f01898076315row0_col0\" class=\"data row0 col0\" >Premium Room at Home near DFW & LoveField Airport</td> \n",
       "        <td id=\"T_06170600_e922_11e8_a9d7_f01898076315row0_col1\" class=\"data row0 col1\" >Well maintained room and bathroom. House is situated on corner lot. Extended covered patio with fenced backyard. Kitchen has plenty of counter top space. Neighborhood features includes park area. \\n\\nYou will love staying in my home, it's a 10 minute drive from the DFW airport. Irving is right in the center of Dallas so drive to Downtown or anywhere is a breeze. Neighborhood is safe and quiet.\\n\\nMy place is great for Business Travelers, solo adventures and for couples.</td> \n",
       "        <td id=\"T_06170600_e922_11e8_a9d7_f01898076315row0_col2\" class=\"data row0 col2\" >Irving</td> \n",
       "        <td id=\"T_06170600_e922_11e8_a9d7_f01898076315row0_col3\" class=\"data row0 col3\" >https://www.airbnb.com/rooms/18910781?location=Colleyville%2C%20TX</td> \n",
       "    </tr></tbody> \n",
       "</table> "
      ],
      "text/plain": [
       "<pandas.io.formats.style.Styler at 0x1a14ae0860>"
      ]
     },
     "metadata": {},
     "output_type": "display_data"
    },
    {
     "data": {
      "text/html": [
       "<style  type=\"text/css\" >\n",
       "</style>  \n",
       "<table id=\"T_061809e2_e922_11e8_8059_f01898076315\" > \n",
       "<thead>    <tr> \n",
       "        <th class=\"blank level0\" ></th> \n",
       "        <th class=\"col_heading level0 col0\" >title</th> \n",
       "        <th class=\"col_heading level0 col1\" >description</th> \n",
       "        <th class=\"col_heading level0 col2\" >city</th> \n",
       "        <th class=\"col_heading level0 col3\" >url</th> \n",
       "    </tr></thead> \n",
       "<tbody>    <tr> \n",
       "        <th id=\"T_061809e2_e922_11e8_8059_f01898076315level0_row0\" class=\"row_heading level0 row0\" >0</th> \n",
       "        <td id=\"T_061809e2_e922_11e8_8059_f01898076315row0_col0\" class=\"data row0 col0\" >Home in Denton 27 min. N of airport</td> \n",
       "        <td id=\"T_061809e2_e922_11e8_8059_f01898076315row0_col1\" class=\"data row0 col1\" >Want to get outside of the city after working hard or shopping hard? This is located in a Oakmont Estates, a Golf Course Community. Tennis courts, pool and Clubhouse about 20 minutes from Dallas Galleria Mall. Beautiful quiet neighborhood! Close to Lake Lewisville. I'm about 40 min. from Ft. Worth. A great place to visit for night life! The Denton Square is an historic site with regular tours, shops, coffee shop, UNT Art shop, antique malls. If you are a music lover, UNT puts out some of the best musicians. They are famous for that! Catch some great players playing around town. I can tell you the best clubs and places to eat. Come for the Jazz and Blues festivals. Check out UNT and TWU if you are moving a student here. Make yourself at home. I have a combo mountain/street bike. There are bike trails close and there is the trail on the Green belt about 15 miles near Lake Ray Roberts. If you need to do business from here, I have wireless and and office area. You can expect some peace and quite. If you need to work out, I have a universal gym and since I do massage professionally, that is available, as well for a discounted rate.</td> \n",
       "        <td id=\"T_061809e2_e922_11e8_8059_f01898076315row0_col2\" class=\"data row0 col2\" >Corinth</td> \n",
       "        <td id=\"T_061809e2_e922_11e8_8059_f01898076315row0_col3\" class=\"data row0 col3\" >https://www.airbnb.com/rooms/635415?location=Argyle%2C%20TX</td> \n",
       "    </tr></tbody> \n",
       "</table> "
      ],
      "text/plain": [
       "<pandas.io.formats.style.Styler at 0x1a124a64e0>"
      ]
     },
     "metadata": {},
     "output_type": "display_data"
    },
    {
     "data": {
      "text/html": [
       "<style  type=\"text/css\" >\n",
       "</style>  \n",
       "<table id=\"T_0618ca8a_e922_11e8_ae2e_f01898076315\" > \n",
       "<thead>    <tr> \n",
       "        <th class=\"blank level0\" ></th> \n",
       "        <th class=\"col_heading level0 col0\" >title</th> \n",
       "        <th class=\"col_heading level0 col1\" >description</th> \n",
       "        <th class=\"col_heading level0 col2\" >city</th> \n",
       "        <th class=\"col_heading level0 col3\" >url</th> \n",
       "    </tr></thead> \n",
       "<tbody>    <tr> \n",
       "        <th id=\"T_0618ca8a_e922_11e8_ae2e_f01898076315level0_row0\" class=\"row_heading level0 row0\" >0</th> \n",
       "        <td id=\"T_0618ca8a_e922_11e8_ae2e_f01898076315row0_col0\" class=\"data row0 col0\" >Private studio! \"The Ivy\" Queen Bed/Full Bath</td> \n",
       "        <td id=\"T_0618ca8a_e922_11e8_ae2e_f01898076315row0_col1\" class=\"data row0 col1\" >Howdy! Welcome to Richmond, Texas! \\nPrivate entrance, small studio. **Ask me where the key is!**\\n-WIFI/Small Flat Screen TV-9572 channels/Small Fridge/Microwave\\n-Full bathroom with shower/no bathtub.\\n-Relax, visit the ponds and green wooded areas, take a walk!\\n\\n-Distances:\\n*55 miles-Airport IAH Bush \\n*30 miles-Hobby Airport\\n*31 miles-Medical Center (Houston) &amp; The Galleria\\n*16 miles- SugarLand \\n*15 miles- Katy Mills Mall near I10 Freeway.</td> \n",
       "        <td id=\"T_0618ca8a_e922_11e8_ae2e_f01898076315row0_col2\" class=\"data row0 col2\" >Richmond</td> \n",
       "        <td id=\"T_0618ca8a_e922_11e8_ae2e_f01898076315row0_col3\" class=\"data row0 col3\" >https://www.airbnb.com/rooms/8327181?location=Cinco%20Ranch%2C%20TX</td> \n",
       "    </tr></tbody> \n",
       "</table> "
      ],
      "text/plain": [
       "<pandas.io.formats.style.Styler at 0x10c58fe80>"
      ]
     },
     "metadata": {},
     "output_type": "display_data"
    },
    {
     "data": {
      "text/html": [
       "<style  type=\"text/css\" >\n",
       "</style>  \n",
       "<table id=\"T_0619e3d4_e922_11e8_b6fc_f01898076315\" > \n",
       "<thead>    <tr> \n",
       "        <th class=\"blank level0\" ></th> \n",
       "        <th class=\"col_heading level0 col0\" >title</th> \n",
       "        <th class=\"col_heading level0 col1\" >description</th> \n",
       "        <th class=\"col_heading level0 col2\" >city</th> \n",
       "        <th class=\"col_heading level0 col3\" >url</th> \n",
       "    </tr></thead> \n",
       "<tbody>    <tr> \n",
       "        <th id=\"T_0619e3d4_e922_11e8_b6fc_f01898076315level0_row0\" class=\"row_heading level0 row0\" >0</th> \n",
       "        <td id=\"T_0619e3d4_e922_11e8_b6fc_f01898076315row0_col0\" class=\"data row0 col0\" >Private Room Near Airports</td> \n",
       "        <td id=\"T_0619e3d4_e922_11e8_b6fc_f01898076315row0_col1\" class=\"data row0 col1\" >One of three private rooms in a two story home located in a nice and quiet neighborhood. Close to major highways. Easy access to entire Dallas/Fort Worth area. Very close to DFW airport and not far from Love Field Airport either. Walking distance to a park, a movie theater, many shopping venues (including grocery store and department store) and many restaurants (0.5-1.0 mile). The house is bright and airy with high ceiling. Good Wi-Fi connection. Full kitchen/laundry room access .</td> \n",
       "        <td id=\"T_0619e3d4_e922_11e8_b6fc_f01898076315row0_col2\" class=\"data row0 col2\" >Irving</td> \n",
       "        <td id=\"T_0619e3d4_e922_11e8_b6fc_f01898076315row0_col3\" class=\"data row0 col3\" >https://www.airbnb.com/rooms/13604316?location=Carrollton%2C%20TX</td> \n",
       "    </tr></tbody> \n",
       "</table> "
      ],
      "text/plain": [
       "<pandas.io.formats.style.Styler at 0x1a14b487b8>"
      ]
     },
     "metadata": {},
     "output_type": "display_data"
    },
    {
     "data": {
      "text/html": [
       "<style  type=\"text/css\" >\n",
       "</style>  \n",
       "<table id=\"T_061ad1c2_e922_11e8_8dfa_f01898076315\" > \n",
       "<thead>    <tr> \n",
       "        <th class=\"blank level0\" ></th> \n",
       "        <th class=\"col_heading level0 col0\" >title</th> \n",
       "        <th class=\"col_heading level0 col1\" >description</th> \n",
       "        <th class=\"col_heading level0 col2\" >city</th> \n",
       "        <th class=\"col_heading level0 col3\" >url</th> \n",
       "    </tr></thead> \n",
       "<tbody>    <tr> \n",
       "        <th id=\"T_061ad1c2_e922_11e8_8dfa_f01898076315level0_row0\" class=\"row_heading level0 row0\" >0</th> \n",
       "        <td id=\"T_061ad1c2_e922_11e8_8dfa_f01898076315row0_col0\" class=\"data row0 col0\" >Safe Comfortable Hotel Room at Home near Airport</td> \n",
       "        <td id=\"T_061ad1c2_e922_11e8_8dfa_f01898076315row0_col1\" class=\"data row0 col1\" >Full Size Bed with Computer Desk and Chair. You will love staying in my home, it's a 10 minute drive from the DFW airport. Irving is right in the center of Dallas so drive to Downtown or anywhere is a breeze. Neighborhood is safe and quiet.\\n\\nMy place is great for Business Travelers, solo adventures and for couples.\\n\\nHouse is situated on corner lot. Extended covered patio with fenced backyard. Kitchen has plenty of counter top space. Neighborhood features includes park area.</td> \n",
       "        <td id=\"T_061ad1c2_e922_11e8_8dfa_f01898076315row0_col2\" class=\"data row0 col2\" >Irving</td> \n",
       "        <td id=\"T_061ad1c2_e922_11e8_8dfa_f01898076315row0_col3\" class=\"data row0 col3\" >https://www.airbnb.com/rooms/19240734?location=Cedar%20Hill%2C%20TX</td> \n",
       "    </tr></tbody> \n",
       "</table> "
      ],
      "text/plain": [
       "<pandas.io.formats.style.Styler at 0x10e7b3978>"
      ]
     },
     "metadata": {},
     "output_type": "display_data"
    },
    {
     "data": {
      "text/html": [
       "<style  type=\"text/css\" >\n",
       "</style>  \n",
       "<table id=\"T_061baae8_e922_11e8_8e64_f01898076315\" > \n",
       "<thead>    <tr> \n",
       "        <th class=\"blank level0\" ></th> \n",
       "        <th class=\"col_heading level0 col0\" >title</th> \n",
       "        <th class=\"col_heading level0 col1\" >description</th> \n",
       "        <th class=\"col_heading level0 col2\" >city</th> \n",
       "        <th class=\"col_heading level0 col3\" >url</th> \n",
       "    </tr></thead> \n",
       "<tbody>    <tr> \n",
       "        <th id=\"T_061baae8_e922_11e8_8e64_f01898076315level0_row0\" class=\"row_heading level0 row0\" >0</th> \n",
       "        <td id=\"T_061baae8_e922_11e8_8e64_f01898076315row0_col0\" class=\"data row0 col0\" >Lovely, Quiet Country Home near Austin</td> \n",
       "        <td id=\"T_061baae8_e922_11e8_8e64_f01898076315row0_col1\" class=\"data row0 col1\" >Our place is close to family-friendly activities, the airport, and the city center. YouÃ¢ÂÂll love our place because of the people, the outdoors space, the ambiance, and the light. Our place is good for couples, solo adventurers, business travellers, and families (with kids). Shops, Walmart superstore and Restaurants are only 10 mins drive.</td> \n",
       "        <td id=\"T_061baae8_e922_11e8_8e64_f01898076315row0_col2\" class=\"data row0 col2\" >Elgin</td> \n",
       "        <td id=\"T_061baae8_e922_11e8_8e64_f01898076315row0_col3\" class=\"data row0 col3\" >https://www.airbnb.com/rooms/17515887?location=Coupland%2C%20TX</td> \n",
       "    </tr></tbody> \n",
       "</table> "
      ],
      "text/plain": [
       "<pandas.io.formats.style.Styler at 0x1a14a8e710>"
      ]
     },
     "metadata": {},
     "output_type": "display_data"
    },
    {
     "data": {
      "text/html": [
       "<style  type=\"text/css\" >\n",
       "</style>  \n",
       "<table id=\"T_061c871a_e922_11e8_a9bd_f01898076315\" > \n",
       "<thead>    <tr> \n",
       "        <th class=\"blank level0\" ></th> \n",
       "        <th class=\"col_heading level0 col0\" >title</th> \n",
       "        <th class=\"col_heading level0 col1\" >description</th> \n",
       "        <th class=\"col_heading level0 col2\" >city</th> \n",
       "        <th class=\"col_heading level0 col3\" >url</th> \n",
       "    </tr></thead> \n",
       "<tbody>    <tr> \n",
       "        <th id=\"T_061c871a_e922_11e8_a9bd_f01898076315level0_row0\" class=\"row_heading level0 row0\" >0</th> \n",
       "        <td id=\"T_061c871a_e922_11e8_a9bd_f01898076315row0_col0\" class=\"data row0 col0\" >Nice and cozy in Valley Ranch near DFW</td> \n",
       "        <td id=\"T_061c871a_e922_11e8_a9bd_f01898076315row0_col1\" class=\"data row0 col1\" >DFW airport 10minutes\\nShopping, Restaurants, \\nDowntown 15 minutes\\nJogging/bike trail\\nSwimming Pool</td> \n",
       "        <td id=\"T_061c871a_e922_11e8_a9bd_f01898076315row0_col2\" class=\"data row0 col2\" >Irving</td> \n",
       "        <td id=\"T_061c871a_e922_11e8_a9bd_f01898076315row0_col3\" class=\"data row0 col3\" >https://www.airbnb.com/rooms/18692272?location=Coppell%2C%20TX</td> \n",
       "    </tr></tbody> \n",
       "</table> "
      ],
      "text/plain": [
       "<pandas.io.formats.style.Styler at 0x1a14a8e7f0>"
      ]
     },
     "metadata": {},
     "output_type": "display_data"
    },
    {
     "data": {
      "text/html": [
       "<style  type=\"text/css\" >\n",
       "</style>  \n",
       "<table id=\"T_061d56cc_e922_11e8_9b1a_f01898076315\" > \n",
       "<thead>    <tr> \n",
       "        <th class=\"blank level0\" ></th> \n",
       "        <th class=\"col_heading level0 col0\" >title</th> \n",
       "        <th class=\"col_heading level0 col1\" >description</th> \n",
       "        <th class=\"col_heading level0 col2\" >city</th> \n",
       "        <th class=\"col_heading level0 col3\" >url</th> \n",
       "    </tr></thead> \n",
       "<tbody>    <tr> \n",
       "        <th id=\"T_061d56cc_e922_11e8_9b1a_f01898076315level0_row0\" class=\"row_heading level0 row0\" >0</th> \n",
       "        <td id=\"T_061d56cc_e922_11e8_9b1a_f01898076315row0_col0\" class=\"data row0 col0\" >Cozy bedroom near IAH</td> \n",
       "        <td id=\"T_061d56cc_e922_11e8_9b1a_f01898076315row0_col1\" class=\"data row0 col1\" >Tranquil and comfortable room (with HD TV and wifi) you also have your own bathroom, the house is in a quiet neighborhood only minutes from George Bush Intercontinental Airport (there are no pets living in this property)</td> \n",
       "        <td id=\"T_061d56cc_e922_11e8_9b1a_f01898076315row0_col2\" class=\"data row0 col2\" >Spring</td> \n",
       "        <td id=\"T_061d56cc_e922_11e8_9b1a_f01898076315row0_col3\" class=\"data row0 col3\" >https://www.airbnb.com/rooms/15859729?location=Cleveland%2C%20TX</td> \n",
       "    </tr></tbody> \n",
       "</table> "
      ],
      "text/plain": [
       "<pandas.io.formats.style.Styler at 0x1a14ae0cc0>"
      ]
     },
     "metadata": {},
     "output_type": "display_data"
    },
    {
     "data": {
      "text/html": [
       "<style  type=\"text/css\" >\n",
       "</style>  \n",
       "<table id=\"T_061e3cd8_e922_11e8_b230_f01898076315\" > \n",
       "<thead>    <tr> \n",
       "        <th class=\"blank level0\" ></th> \n",
       "        <th class=\"col_heading level0 col0\" >title</th> \n",
       "        <th class=\"col_heading level0 col1\" >description</th> \n",
       "        <th class=\"col_heading level0 col2\" >city</th> \n",
       "        <th class=\"col_heading level0 col3\" >url</th> \n",
       "    </tr></thead> \n",
       "<tbody>    <tr> \n",
       "        <th id=\"T_061e3cd8_e922_11e8_b230_f01898076315level0_row0\" class=\"row_heading level0 row0\" >0</th> \n",
       "        <td id=\"T_061e3cd8_e922_11e8_b230_f01898076315row0_col0\" class=\"data row0 col0\" >Nice Vacation Home with Pool Near Bush Airport</td> \n",
       "        <td id=\"T_061e3cd8_e922_11e8_b230_f01898076315row0_col1\" class=\"data row0 col1\" >This is a very nice family oriented home. Great for vacation getaways. It has an enormous pool in the backyard starting from 4ft to 9ft. It also consist of a cabana area whereas you can sit and lounge a party of 8 people or more. The entire house can be used as well as appliances and dishes. Master bed is King size bed. Bed 2 &amp; 3 has queen size bed. Game room has ping pong table, hockey table, TV, and board games for everyone to have fun and enjoy. When leaving, please clean up.</td> \n",
       "        <td id=\"T_061e3cd8_e922_11e8_b230_f01898076315row0_col2\" class=\"data row0 col2\" >Spring</td> \n",
       "        <td id=\"T_061e3cd8_e922_11e8_b230_f01898076315row0_col3\" class=\"data row0 col3\" >https://www.airbnb.com/rooms/16269086?location=Cleveland%2C%20TX</td> \n",
       "    </tr></tbody> \n",
       "</table> "
      ],
      "text/plain": [
       "<pandas.io.formats.style.Styler at 0x1a14ae07f0>"
      ]
     },
     "metadata": {},
     "output_type": "display_data"
    },
    {
     "data": {
      "text/html": [
       "<style  type=\"text/css\" >\n",
       "</style>  \n",
       "<table id=\"T_061f2e98_e922_11e8_a3b4_f01898076315\" > \n",
       "<thead>    <tr> \n",
       "        <th class=\"blank level0\" ></th> \n",
       "        <th class=\"col_heading level0 col0\" >title</th> \n",
       "        <th class=\"col_heading level0 col1\" >description</th> \n",
       "        <th class=\"col_heading level0 col2\" >city</th> \n",
       "        <th class=\"col_heading level0 col3\" >url</th> \n",
       "    </tr></thead> \n",
       "<tbody>    <tr> \n",
       "        <th id=\"T_061f2e98_e922_11e8_a3b4_f01898076315level0_row0\" class=\"row_heading level0 row0\" >0</th> \n",
       "        <td id=\"T_061f2e98_e922_11e8_a3b4_f01898076315row0_col0\" class=\"data row0 col0\" >Cozy private bedroom&bathroom near DFW airport!</td> \n",
       "        <td id=\"T_061f2e98_e922_11e8_a3b4_f01898076315row0_col1\" class=\"data row0 col1\" >Our cozy 4 bedroom Home It is located in Las Colinas-Irving, 7 minutes from DFW Airport,and 5 minutes from the Irving Convention center,15 minutes from Lovefield Airport It's also, about 5 minutes from top-notch restaurants and country clubs and other venues. This beautiful 1 bedroom w/ private bathroom with a comfy queen bed , walk in closet, and mini fridge ready for you. You will love the location, and our big back yard where you can sit and relax. everything is a close Uber ride away.</td> \n",
       "        <td id=\"T_061f2e98_e922_11e8_a3b4_f01898076315row0_col2\" class=\"data row0 col2\" >Irving</td> \n",
       "        <td id=\"T_061f2e98_e922_11e8_a3b4_f01898076315row0_col3\" class=\"data row0 col3\" >https://www.airbnb.com/rooms/14241897?location=Colleyville%2C%20TX</td> \n",
       "    </tr></tbody> \n",
       "</table> "
      ],
      "text/plain": [
       "<pandas.io.formats.style.Styler at 0x1a14a8e4e0>"
      ]
     },
     "metadata": {},
     "output_type": "display_data"
    },
    {
     "data": {
      "text/html": [
       "<style  type=\"text/css\" >\n",
       "</style>  \n",
       "<table id=\"T_061ff7f6_e922_11e8_b1c9_f01898076315\" > \n",
       "<thead>    <tr> \n",
       "        <th class=\"blank level0\" ></th> \n",
       "        <th class=\"col_heading level0 col0\" >title</th> \n",
       "        <th class=\"col_heading level0 col1\" >description</th> \n",
       "        <th class=\"col_heading level0 col2\" >city</th> \n",
       "        <th class=\"col_heading level0 col3\" >url</th> \n",
       "    </tr></thead> \n",
       "<tbody>    <tr> \n",
       "        <th id=\"T_061ff7f6_e922_11e8_b1c9_f01898076315level0_row0\" class=\"row_heading level0 row0\" >0</th> \n",
       "        <td id=\"T_061ff7f6_e922_11e8_b1c9_f01898076315row0_col0\" class=\"data row0 col0\" >Private Room near airports and city center</td> \n",
       "        <td id=\"T_061ff7f6_e922_11e8_b1c9_f01898076315row0_col1\" class=\"data row0 col1\" >My place is close to the city center, parks, the airport, and nightlife. YouÃ¢ÂÂll love my place because of the location, the ambiance, the people, and the outdoors space. My place is good for solo adventurers and business travelers.</td> \n",
       "        <td id=\"T_061ff7f6_e922_11e8_b1c9_f01898076315row0_col2\" class=\"data row0 col2\" >Irving</td> \n",
       "        <td id=\"T_061ff7f6_e922_11e8_b1c9_f01898076315row0_col3\" class=\"data row0 col3\" >https://www.airbnb.com/rooms/15740109?location=Coppell%2C%20TX</td> \n",
       "    </tr></tbody> \n",
       "</table> "
      ],
      "text/plain": [
       "<pandas.io.formats.style.Styler at 0x1a14a8ea20>"
      ]
     },
     "metadata": {},
     "output_type": "display_data"
    },
    {
     "data": {
      "text/html": [
       "<style  type=\"text/css\" >\n",
       "</style>  \n",
       "<table id=\"T_0620bc5e_e922_11e8_95b4_f01898076315\" > \n",
       "<thead>    <tr> \n",
       "        <th class=\"blank level0\" ></th> \n",
       "        <th class=\"col_heading level0 col0\" >title</th> \n",
       "        <th class=\"col_heading level0 col1\" >description</th> \n",
       "        <th class=\"col_heading level0 col2\" >city</th> \n",
       "        <th class=\"col_heading level0 col3\" >url</th> \n",
       "    </tr></thead> \n",
       "<tbody>    <tr> \n",
       "        <th id=\"T_0620bc5e_e922_11e8_95b4_f01898076315level0_row0\" class=\"row_heading level0 row0\" >0</th> \n",
       "        <td id=\"T_0620bc5e_e922_11e8_95b4_f01898076315row0_col0\" class=\"data row0 col0\" >Private room near IAH airport. Gated community</td> \n",
       "        <td id=\"T_0620bc5e_e922_11e8_95b4_f01898076315row0_col1\" class=\"data row0 col1\" >One room with queen bed in gated community in 4 bedroom house in Humble near Beltway 8 and Wilson Road. Next to lots of stores like Walmart, Petco, Starbucks, etc. 15 minute drive to airport. Access to gym, pool and basketball court in community.\\nRates in USD</td> \n",
       "        <td id=\"T_0620bc5e_e922_11e8_95b4_f01898076315row0_col2\" class=\"data row0 col2\" >Humble</td> \n",
       "        <td id=\"T_0620bc5e_e922_11e8_95b4_f01898076315row0_col3\" class=\"data row0 col3\" >https://www.airbnb.com/rooms/1884919?location=Atascocita%2C%20TX</td> \n",
       "    </tr></tbody> \n",
       "</table> "
      ],
      "text/plain": [
       "<pandas.io.formats.style.Styler at 0x10e7b3940>"
      ]
     },
     "metadata": {},
     "output_type": "display_data"
    },
    {
     "data": {
      "text/html": [
       "<style  type=\"text/css\" >\n",
       "</style>  \n",
       "<table id=\"T_06219806_e922_11e8_ae62_f01898076315\" > \n",
       "<thead>    <tr> \n",
       "        <th class=\"blank level0\" ></th> \n",
       "        <th class=\"col_heading level0 col0\" >title</th> \n",
       "        <th class=\"col_heading level0 col1\" >description</th> \n",
       "        <th class=\"col_heading level0 col2\" >city</th> \n",
       "        <th class=\"col_heading level0 col3\" >url</th> \n",
       "    </tr></thead> \n",
       "<tbody>    <tr> \n",
       "        <th id=\"T_06219806_e922_11e8_ae62_f01898076315level0_row0\" class=\"row_heading level0 row0\" >0</th> \n",
       "        <td id=\"T_06219806_e922_11e8_ae62_f01898076315row0_col0\" class=\"data row0 col0\" >Bed & Wine Cottage in Alamo Heights</td> \n",
       "        <td id=\"T_06219806_e922_11e8_ae62_f01898076315row0_col1\" class=\"data row0 col1\" >Stay in the heart of San Antonio, five minutes from the airport, walking distance to the Quarry Village, 10 minutes from thriving downtown and The Pearl, near the McNay Museum and the SAMA. A private little cottage and serene outdoor living!</td> \n",
       "        <td id=\"T_06219806_e922_11e8_ae62_f01898076315row0_col2\" class=\"data row0 col2\" >San Antonio</td> \n",
       "        <td id=\"T_06219806_e922_11e8_ae62_f01898076315row0_col3\" class=\"data row0 col3\" >https://www.airbnb.com/rooms/11892158?location=Converse%2C%20TX</td> \n",
       "    </tr></tbody> \n",
       "</table> "
      ],
      "text/plain": [
       "<pandas.io.formats.style.Styler at 0x1a14a85c50>"
      ]
     },
     "metadata": {},
     "output_type": "display_data"
    },
    {
     "data": {
      "text/html": [
       "<style  type=\"text/css\" >\n",
       "</style>  \n",
       "<table id=\"T_06225352_e922_11e8_881f_f01898076315\" > \n",
       "<thead>    <tr> \n",
       "        <th class=\"blank level0\" ></th> \n",
       "        <th class=\"col_heading level0 col0\" >title</th> \n",
       "        <th class=\"col_heading level0 col1\" >description</th> \n",
       "        <th class=\"col_heading level0 col2\" >city</th> \n",
       "        <th class=\"col_heading level0 col3\" >url</th> \n",
       "    </tr></thead> \n",
       "<tbody>    <tr> \n",
       "        <th id=\"T_06225352_e922_11e8_881f_f01898076315level0_row0\" class=\"row_heading level0 row0\" >0</th> \n",
       "        <td id=\"T_06225352_e922_11e8_881f_f01898076315row0_col0\" class=\"data row0 col0\" >Spacious Living Near Lake Houston</td> \n",
       "        <td id=\"T_06225352_e922_11e8_881f_f01898076315row0_col1\" class=\"data row0 col1\" >My house is in a masterplanned community with lots of green space, parks, playgrounds, jogging trail, &amp; ponds. The living space is modern, spacious, with an open floor plan, beautifully furnished with 1 king sized bed &amp; 3 queen sized beds. Close proximity to city attractions including 25mins from Downtown Houston, 10mins from Bush intercontinental airport, &amp; close to many energy companies along beltway 8. There are several attractions; restaurants, movie theater, bowling alley, shopping center, &amp; grocery stores within walking/driving distance.</td> \n",
       "        <td id=\"T_06225352_e922_11e8_881f_f01898076315row0_col2\" class=\"data row0 col2\" >Humble</td> \n",
       "        <td id=\"T_06225352_e922_11e8_881f_f01898076315row0_col3\" class=\"data row0 col3\" >https://www.airbnb.com/rooms/17011703?location=Cleveland%2C%20TX</td> \n",
       "    </tr></tbody> \n",
       "</table> "
      ],
      "text/plain": [
       "<pandas.io.formats.style.Styler at 0x1a124a6a90>"
      ]
     },
     "metadata": {},
     "output_type": "display_data"
    },
    {
     "data": {
      "text/html": [
       "<style  type=\"text/css\" >\n",
       "</style>  \n",
       "<table id=\"T_0623336c_e922_11e8_8bcf_f01898076315\" > \n",
       "<thead>    <tr> \n",
       "        <th class=\"blank level0\" ></th> \n",
       "        <th class=\"col_heading level0 col0\" >title</th> \n",
       "        <th class=\"col_heading level0 col1\" >description</th> \n",
       "        <th class=\"col_heading level0 col2\" >city</th> \n",
       "        <th class=\"col_heading level0 col3\" >url</th> \n",
       "    </tr></thead> \n",
       "<tbody>    <tr> \n",
       "        <th id=\"T_0623336c_e922_11e8_8bcf_f01898076315level0_row0\" class=\"row_heading level0 row0\" >0</th> \n",
       "        <td id=\"T_0623336c_e922_11e8_8bcf_f01898076315row0_col0\" class=\"data row0 col0\" >COZY. BY. DESIGN, City Studio</td> \n",
       "        <td id=\"T_0623336c_e922_11e8_8bcf_f01898076315row0_col1\" class=\"data row0 col1\" >Sweet Location! Near fabulous shopping and restaurants. Only 7 miles to Downtown. Trendy Studio Apartment with access to our community pool &amp; gym. Direct access to public transportation. Easy commute to airport. Central location. Don't have the dates you need? Check out: https://www.airbnb.com/rooms/12274983</td> \n",
       "        <td id=\"T_0623336c_e922_11e8_8bcf_f01898076315row0_col2\" class=\"data row0 col2\" >Dallas</td> \n",
       "        <td id=\"T_0623336c_e922_11e8_8bcf_f01898076315row0_col3\" class=\"data row0 col3\" >https://www.airbnb.com/rooms/13659593?location=Allen%2C%20TX</td> \n",
       "    </tr></tbody> \n",
       "</table> "
      ],
      "text/plain": [
       "<pandas.io.formats.style.Styler at 0x1a124a61d0>"
      ]
     },
     "metadata": {},
     "output_type": "display_data"
    },
    {
     "data": {
      "text/html": [
       "<style  type=\"text/css\" >\n",
       "</style>  \n",
       "<table id=\"T_06241a5c_e922_11e8_9d70_f01898076315\" > \n",
       "<thead>    <tr> \n",
       "        <th class=\"blank level0\" ></th> \n",
       "        <th class=\"col_heading level0 col0\" >title</th> \n",
       "        <th class=\"col_heading level0 col1\" >description</th> \n",
       "        <th class=\"col_heading level0 col2\" >city</th> \n",
       "        <th class=\"col_heading level0 col3\" >url</th> \n",
       "    </tr></thead> \n",
       "<tbody>    <tr> \n",
       "        <th id=\"T_06241a5c_e922_11e8_9d70_f01898076315level0_row0\" class=\"row_heading level0 row0\" >0</th> \n",
       "        <td id=\"T_06241a5c_e922_11e8_9d70_f01898076315row0_col0\" class=\"data row0 col0\" >Beautiful Stone Oak Home--Sleeps 4-6, 1 Low Price</td> \n",
       "        <td id=\"T_06241a5c_e922_11e8_9d70_f01898076315row0_col1\" class=\"data row0 col1\" >Two separate bedrooms bathroom, one low price! One bedroom has a queen, the other has 2 twin beds. You may book both rooms, $60 or just one, $40. For the 5-6th guest, there is an open space with full size bed available (Extra $20). Sleeps maximum six persons total. Owner lives in the house. It is near many restaurants, a park, airport and shopping. It is beautiful, clean and comfortable! Great place for all travelers! Check out: 7am (Mon-Fri) firm, and 10 am (Sat and Sun).</td> \n",
       "        <td id=\"T_06241a5c_e922_11e8_9d70_f01898076315row0_col2\" class=\"data row0 col2\" >San Antonio</td> \n",
       "        <td id=\"T_06241a5c_e922_11e8_9d70_f01898076315row0_col3\" class=\"data row0 col3\" >https://www.airbnb.com/rooms/13641385?location=Bulverde%2C%20TX</td> \n",
       "    </tr></tbody> \n",
       "</table> "
      ],
      "text/plain": [
       "<pandas.io.formats.style.Styler at 0x1a14ae0dd8>"
      ]
     },
     "metadata": {},
     "output_type": "display_data"
    },
    {
     "data": {
      "text/html": [
       "<style  type=\"text/css\" >\n",
       "</style>  \n",
       "<table id=\"T_0624eb6c_e922_11e8_a03b_f01898076315\" > \n",
       "<thead>    <tr> \n",
       "        <th class=\"blank level0\" ></th> \n",
       "        <th class=\"col_heading level0 col0\" >title</th> \n",
       "        <th class=\"col_heading level0 col1\" >description</th> \n",
       "        <th class=\"col_heading level0 col2\" >city</th> \n",
       "        <th class=\"col_heading level0 col3\" >url</th> \n",
       "    </tr></thead> \n",
       "<tbody>    <tr> \n",
       "        <th id=\"T_0624eb6c_e922_11e8_a03b_f01898076315level0_row0\" class=\"row_heading level0 row0\" >0</th> \n",
       "        <td id=\"T_0624eb6c_e922_11e8_a03b_f01898076315row0_col0\" class=\"data row0 col0\" >Cozy Bedroom Near Downtown & Airprt</td> \n",
       "        <td id=\"T_0624eb6c_e922_11e8_a03b_f01898076315row0_col1\" class=\"data row0 col1\" >Cozy Bedroom in 2 story home. Lots of privacy and a quiet place to relax. Our home is located in an area where their is wildlife. Sometimes we see deer gathered in our back yard. Great area and centrally located and near airport .</td> \n",
       "        <td id=\"T_0624eb6c_e922_11e8_a03b_f01898076315row0_col2\" class=\"data row0 col2\" >San Antonio</td> \n",
       "        <td id=\"T_0624eb6c_e922_11e8_a03b_f01898076315row0_col3\" class=\"data row0 col3\" >https://www.airbnb.com/rooms/12001982?location=Converse%2C%20TX</td> \n",
       "    </tr></tbody> \n",
       "</table> "
      ],
      "text/plain": [
       "<pandas.io.formats.style.Styler at 0x1a14b4e4e0>"
      ]
     },
     "metadata": {},
     "output_type": "display_data"
    },
    {
     "data": {
      "text/html": [
       "<style  type=\"text/css\" >\n",
       "</style>  \n",
       "<table id=\"T_0625c51e_e922_11e8_9dd8_f01898076315\" > \n",
       "<thead>    <tr> \n",
       "        <th class=\"blank level0\" ></th> \n",
       "        <th class=\"col_heading level0 col0\" >title</th> \n",
       "        <th class=\"col_heading level0 col1\" >description</th> \n",
       "        <th class=\"col_heading level0 col2\" >city</th> \n",
       "        <th class=\"col_heading level0 col3\" >url</th> \n",
       "    </tr></thead> \n",
       "<tbody>    <tr> \n",
       "        <th id=\"T_0625c51e_e922_11e8_9dd8_f01898076315level0_row0\" class=\"row_heading level0 row0\" >0</th> \n",
       "        <td id=\"T_0625c51e_e922_11e8_9dd8_f01898076315row0_col0\" class=\"data row0 col0\" >Superbowl LI rental w/private pool!</td> \n",
       "        <td id=\"T_0625c51e_e922_11e8_9dd8_f01898076315row0_col1\" class=\"data row0 col1\" >My place is close to Coveniently located near William P. Hobby airport, 610 loop and IH-45 South. . YouÃ¢ÂÂll love my place because its a gorgeous 3 bedroom 2 bath home including a 2 bedroom 1 bath apartment, perfect for your stay in the Houston area. This home can easily accommodate 10+ persons.</td> \n",
       "        <td id=\"T_0625c51e_e922_11e8_9dd8_f01898076315row0_col2\" class=\"data row0 col2\" >Houston</td> \n",
       "        <td id=\"T_0625c51e_e922_11e8_9dd8_f01898076315row0_col3\" class=\"data row0 col3\" >https://www.airbnb.com/rooms/15647499?location=Channelview%2C%20TX</td> \n",
       "    </tr></tbody> \n",
       "</table> "
      ],
      "text/plain": [
       "<pandas.io.formats.style.Styler at 0x1a14b480b8>"
      ]
     },
     "metadata": {},
     "output_type": "display_data"
    },
    {
     "data": {
      "text/html": [
       "<style  type=\"text/css\" >\n",
       "</style>  \n",
       "<table id=\"T_0626a146_e922_11e8_b1bc_f01898076315\" > \n",
       "<thead>    <tr> \n",
       "        <th class=\"blank level0\" ></th> \n",
       "        <th class=\"col_heading level0 col0\" >title</th> \n",
       "        <th class=\"col_heading level0 col1\" >description</th> \n",
       "        <th class=\"col_heading level0 col2\" >city</th> \n",
       "        <th class=\"col_heading level0 col3\" >url</th> \n",
       "    </tr></thead> \n",
       "<tbody>    <tr> \n",
       "        <th id=\"T_0626a146_e922_11e8_b1bc_f01898076315level0_row0\" class=\"row_heading level0 row0\" >0</th> \n",
       "        <td id=\"T_0626a146_e922_11e8_b1bc_f01898076315row0_col0\" class=\"data row0 col0\" >Private room near CotA</td> \n",
       "        <td id=\"T_0626a146_e922_11e8_b1bc_f01898076315row0_col1\" class=\"data row0 col1\" >Comfortable room available near Austin airport. Five minutes to Circuit of the Americas, 15 to Downtown.</td> \n",
       "        <td id=\"T_0626a146_e922_11e8_b1bc_f01898076315row0_col2\" class=\"data row0 col2\" >Austin</td> \n",
       "        <td id=\"T_0626a146_e922_11e8_b1bc_f01898076315row0_col3\" class=\"data row0 col3\" >https://www.airbnb.com/rooms/15462407?location=Cedar%20Creek%2C%20TX</td> \n",
       "    </tr></tbody> \n",
       "</table> "
      ],
      "text/plain": [
       "<pandas.io.formats.style.Styler at 0x10a5b3630>"
      ]
     },
     "metadata": {},
     "output_type": "display_data"
    },
    {
     "data": {
      "text/html": [
       "<style  type=\"text/css\" >\n",
       "</style>  \n",
       "<table id=\"T_06275f00_e922_11e8_8b2e_f01898076315\" > \n",
       "<thead>    <tr> \n",
       "        <th class=\"blank level0\" ></th> \n",
       "        <th class=\"col_heading level0 col0\" >title</th> \n",
       "        <th class=\"col_heading level0 col1\" >description</th> \n",
       "        <th class=\"col_heading level0 col2\" >city</th> \n",
       "        <th class=\"col_heading level0 col3\" >url</th> \n",
       "    </tr></thead> \n",
       "<tbody>    <tr> \n",
       "        <th id=\"T_06275f00_e922_11e8_8b2e_f01898076315level0_row0\" class=\"row_heading level0 row0\" >0</th> \n",
       "        <td id=\"T_06275f00_e922_11e8_8b2e_f01898076315row0_col0\" class=\"data row0 col0\" >Quiet location for traveling industry individual</td> \n",
       "        <td id=\"T_06275f00_e922_11e8_8b2e_f01898076315row0_col1\" class=\"data row0 col1\" >My residence is centrally located. It is 5-10mins from major malls, shopping, fine dining, and night entertainment. Right off George Bush Highway and near Dallas Tollway &amp; 35. This residence is great for a person in the airline industry, because it gives you quiet &amp; comfortable living while being 20mins from DFW airport and 15mins from Dallas Love Field airport. The second bedroom is for you the guest only. A Person in the traveling/airline industry preferred. Quiet with no traffic.</td> \n",
       "        <td id=\"T_06275f00_e922_11e8_8b2e_f01898076315row0_col2\" class=\"data row0 col2\" >Dallas</td> \n",
       "        <td id=\"T_06275f00_e922_11e8_8b2e_f01898076315row0_col3\" class=\"data row0 col3\" >https://www.airbnb.com/rooms/16257875?location=Addison%2C%20TX</td> \n",
       "    </tr></tbody> \n",
       "</table> "
      ],
      "text/plain": [
       "<pandas.io.formats.style.Styler at 0x1a14ae0dd8>"
      ]
     },
     "metadata": {},
     "output_type": "display_data"
    },
    {
     "data": {
      "text/html": [
       "<style  type=\"text/css\" >\n",
       "</style>  \n",
       "<table id=\"T_06283542_e922_11e8_a63b_f01898076315\" > \n",
       "<thead>    <tr> \n",
       "        <th class=\"blank level0\" ></th> \n",
       "        <th class=\"col_heading level0 col0\" >title</th> \n",
       "        <th class=\"col_heading level0 col1\" >description</th> \n",
       "        <th class=\"col_heading level0 col2\" >city</th> \n",
       "        <th class=\"col_heading level0 col3\" >url</th> \n",
       "    </tr></thead> \n",
       "<tbody>    <tr> \n",
       "        <th id=\"T_06283542_e922_11e8_a63b_f01898076315level0_row0\" class=\"row_heading level0 row0\" >0</th> \n",
       "        <td id=\"T_06283542_e922_11e8_a63b_f01898076315row0_col0\" class=\"data row0 col0\" >Quiet guest room with queen bed</td> \n",
       "        <td id=\"T_06283542_e922_11e8_a63b_f01898076315row0_col1\" class=\"data row0 col1\" >1 bedroom with Queen bed and 42Ã¢ÂÂ TV. Shared bathroom, and kitchen. *Minutes away from San Antonio International Airport. *10 minutes away from The Alamo, and downtown. *5 minutes away from North Star Mall. *8 minutes away from IH 35N. Quiet hours start at 10pm till 5am. Walking distance from convenience stores, CVS, Walmart. Plenty of great restaurants near by. Check in at 11:30 am and check out at 11:00 a.m. p.m.No smoking or drugs allowed.</td> \n",
       "        <td id=\"T_06283542_e922_11e8_a63b_f01898076315row0_col2\" class=\"data row0 col2\" >San Antonio</td> \n",
       "        <td id=\"T_06283542_e922_11e8_a63b_f01898076315row0_col3\" class=\"data row0 col3\" >https://www.airbnb.com/rooms/17609396?location=Bulverde%2C%20TX</td> \n",
       "    </tr></tbody> \n",
       "</table> "
      ],
      "text/plain": [
       "<pandas.io.formats.style.Styler at 0x1a14ae0860>"
      ]
     },
     "metadata": {},
     "output_type": "display_data"
    },
    {
     "data": {
      "text/html": [
       "<style  type=\"text/css\" >\n",
       "</style>  \n",
       "<table id=\"T_06292902_e922_11e8_a81d_f01898076315\" > \n",
       "<thead>    <tr> \n",
       "        <th class=\"blank level0\" ></th> \n",
       "        <th class=\"col_heading level0 col0\" >title</th> \n",
       "        <th class=\"col_heading level0 col1\" >description</th> \n",
       "        <th class=\"col_heading level0 col2\" >city</th> \n",
       "        <th class=\"col_heading level0 col3\" >url</th> \n",
       "    </tr></thead> \n",
       "<tbody>    <tr> \n",
       "        <th id=\"T_06292902_e922_11e8_a81d_f01898076315level0_row0\" class=\"row_heading level0 row0\" >0</th> \n",
       "        <td id=\"T_06292902_e922_11e8_a81d_f01898076315row0_col0\" class=\"data row0 col0\" >5* Quality Private Room available near IAH</td> \n",
       "        <td id=\"T_06292902_e922_11e8_a81d_f01898076315row0_col1\" class=\"data row0 col1\" >My place is close to the airport. YouÃ¢ÂÂll love my place because of the neighborhood and space in the room.\\nFirst time Airbnb guests are always welcomed.\\nPLEASE NOTE: All guests MUST BE verified Airbnb members with a visible profile picture before booking.\\nMy home is NOT smoker friendly as I have asthma and cannot be around smoke.</td> \n",
       "        <td id=\"T_06292902_e922_11e8_a81d_f01898076315row0_col2\" class=\"data row0 col2\" >Humble</td> \n",
       "        <td id=\"T_06292902_e922_11e8_a81d_f01898076315row0_col3\" class=\"data row0 col3\" >https://www.airbnb.com/rooms/13847391?location=Cleveland%2C%20TX</td> \n",
       "    </tr></tbody> \n",
       "</table> "
      ],
      "text/plain": [
       "<pandas.io.formats.style.Styler at 0x1a14ae0390>"
      ]
     },
     "metadata": {},
     "output_type": "display_data"
    },
    {
     "data": {
      "text/html": [
       "<style  type=\"text/css\" >\n",
       "</style>  \n",
       "<table id=\"T_0629f0f8_e922_11e8_9db9_f01898076315\" > \n",
       "<thead>    <tr> \n",
       "        <th class=\"blank level0\" ></th> \n",
       "        <th class=\"col_heading level0 col0\" >title</th> \n",
       "        <th class=\"col_heading level0 col1\" >description</th> \n",
       "        <th class=\"col_heading level0 col2\" >city</th> \n",
       "        <th class=\"col_heading level0 col3\" >url</th> \n",
       "    </tr></thead> \n",
       "<tbody>    <tr> \n",
       "        <th id=\"T_0629f0f8_e922_11e8_9db9_f01898076315level0_row0\" class=\"row_heading level0 row0\" >0</th> \n",
       "        <td id=\"T_0629f0f8_e922_11e8_9db9_f01898076315row0_col0\" class=\"data row0 col0\" >CASA GRANDE - NEAR HOUSTON AND NASA</td> \n",
       "        <td id=\"T_0629f0f8_e922_11e8_9db9_f01898076315row0_col1\" class=\"data row0 col1\" >Come and enjoy this beautiful Lakefront Texas size home of nearly 6,000 square feet (600 square meters) with 5 bedrooms - only 15 minutes drive from NASA; 10 mins. from the Kemah boardwalk, 25 mins. from Galveston Island and Hobby airport; 35 mins to the world-famous Texas Medical Center.</td> \n",
       "        <td id=\"T_0629f0f8_e922_11e8_9db9_f01898076315row0_col2\" class=\"data row0 col2\" >League City</td> \n",
       "        <td id=\"T_0629f0f8_e922_11e8_9db9_f01898076315row0_col3\" class=\"data row0 col3\" >https://www.airbnb.com/rooms/1244743?location=Baytown%2C%20TX</td> \n",
       "    </tr></tbody> \n",
       "</table> "
      ],
      "text/plain": [
       "<pandas.io.formats.style.Styler at 0x1a14ae0c88>"
      ]
     },
     "metadata": {},
     "output_type": "display_data"
    },
    {
     "data": {
      "text/html": [
       "<style  type=\"text/css\" >\n",
       "</style>  \n",
       "<table id=\"T_062ab88a_e922_11e8_8117_f01898076315\" > \n",
       "<thead>    <tr> \n",
       "        <th class=\"blank level0\" ></th> \n",
       "        <th class=\"col_heading level0 col0\" >title</th> \n",
       "        <th class=\"col_heading level0 col1\" >description</th> \n",
       "        <th class=\"col_heading level0 col2\" >city</th> \n",
       "        <th class=\"col_heading level0 col3\" >url</th> \n",
       "    </tr></thead> \n",
       "<tbody>    <tr> \n",
       "        <th id=\"T_062ab88a_e922_11e8_8117_f01898076315level0_row0\" class=\"row_heading level0 row0\" >0</th> \n",
       "        <td id=\"T_062ab88a_e922_11e8_8117_f01898076315row0_col0\" class=\"data row0 col0\" >Cozy private bedroom near DFW airport/ Las Colinas</td> \n",
       "        <td id=\"T_062ab88a_e922_11e8_8117_f01898076315row0_col1\" class=\"data row0 col1\" >Our cozy 4 bedroom Home It is located in Las Colinas-Irving, 7 minutes from DFW Airport,and 5 minutes from the Irving Convention center,15 minutes from Lovefield Airport It's also, about 5 minutes from top-notch restaurants and country clubs and other venues. This beautiful 1 bedroom w/ shared bathroom with a comfy full bed and walk in closet, and mini fridge is ready for you with, You will love the location, and our big back yard where you can sit and relax. everything is a close Uber ride away</td> \n",
       "        <td id=\"T_062ab88a_e922_11e8_8117_f01898076315row0_col2\" class=\"data row0 col2\" >Irving</td> \n",
       "        <td id=\"T_062ab88a_e922_11e8_8117_f01898076315row0_col3\" class=\"data row0 col3\" >https://www.airbnb.com/rooms/17446786?location=Coppell%2C%20TX</td> \n",
       "    </tr></tbody> \n",
       "</table> "
      ],
      "text/plain": [
       "<pandas.io.formats.style.Styler at 0x1a14a85fd0>"
      ]
     },
     "metadata": {},
     "output_type": "display_data"
    },
    {
     "data": {
      "text/html": [
       "<style  type=\"text/css\" >\n",
       "</style>  \n",
       "<table id=\"T_062b9912_e922_11e8_8b2f_f01898076315\" > \n",
       "<thead>    <tr> \n",
       "        <th class=\"blank level0\" ></th> \n",
       "        <th class=\"col_heading level0 col0\" >title</th> \n",
       "        <th class=\"col_heading level0 col1\" >description</th> \n",
       "        <th class=\"col_heading level0 col2\" >city</th> \n",
       "        <th class=\"col_heading level0 col3\" >url</th> \n",
       "    </tr></thead> \n",
       "<tbody>    <tr> \n",
       "        <th id=\"T_062b9912_e922_11e8_8b2f_f01898076315level0_row0\" class=\"row_heading level0 row0\" >0</th> \n",
       "        <td id=\"T_062b9912_e922_11e8_8b2f_f01898076315row0_col0\" class=\"data row0 col0\" >A private room - 10 mins from DFW</td> \n",
       "        <td id=\"T_062b9912_e922_11e8_8b2f_f01898076315row0_col1\" class=\"data row0 col1\" >1 room for rent in my house which located in in Irving near Dallas. 10 minutes from DFW airport, 15 minutes from Lovefield Airport and 15 minutes from downtown Dallas. Family friendly house which could be your home away from home. See our (SENSITIVE CONTENTS HIDDEN) page (URL HIDDEN)</td> \n",
       "        <td id=\"T_062b9912_e922_11e8_8b2f_f01898076315row0_col2\" class=\"data row0 col2\" >Irving</td> \n",
       "        <td id=\"T_062b9912_e922_11e8_8b2f_f01898076315row0_col3\" class=\"data row0 col3\" >https://www.airbnb.com/rooms/8730524?location=Coppell%2C%20TX</td> \n",
       "    </tr></tbody> \n",
       "</table> "
      ],
      "text/plain": [
       "<pandas.io.formats.style.Styler at 0x1a14ae0390>"
      ]
     },
     "metadata": {},
     "output_type": "display_data"
    },
    {
     "data": {
      "text/html": [
       "<style  type=\"text/css\" >\n",
       "</style>  \n",
       "<table id=\"T_062c7c68_e922_11e8_9394_f01898076315\" > \n",
       "<thead>    <tr> \n",
       "        <th class=\"blank level0\" ></th> \n",
       "        <th class=\"col_heading level0 col0\" >title</th> \n",
       "        <th class=\"col_heading level0 col1\" >description</th> \n",
       "        <th class=\"col_heading level0 col2\" >city</th> \n",
       "        <th class=\"col_heading level0 col3\" >url</th> \n",
       "    </tr></thead> \n",
       "<tbody>    <tr> \n",
       "        <th id=\"T_062c7c68_e922_11e8_9394_f01898076315level0_row0\" class=\"row_heading level0 row0\" >0</th> \n",
       "        <td id=\"T_062c7c68_e922_11e8_9394_f01898076315row0_col0\" class=\"data row0 col0\" >Private King Room North SA - Near TPC JW Marriott</td> \n",
       "        <td id=\"T_062c7c68_e922_11e8_9394_f01898076315row0_col1\" class=\"data row0 col1\" >Private Room with a cozy King Size Bed. Just around the corner from the TPC JW Marriott in far north San Antonio... Easy access to Hwy 281 &amp; Loop 1604, just minutes from great shopping, dining &amp; entertainment. Roughly 15-20 minutes to the Airport &amp; only 20-25 minutes to downtown SA and the Riverwalk... \\nThe room is comfy, quiet &amp; has access to private full Bathroom.</td> \n",
       "        <td id=\"T_062c7c68_e922_11e8_9394_f01898076315row0_col2\" class=\"data row0 col2\" >San Antonio</td> \n",
       "        <td id=\"T_062c7c68_e922_11e8_9394_f01898076315row0_col3\" class=\"data row0 col3\" >https://www.airbnb.com/rooms/18651315?location=Bulverde%2C%20TX</td> \n",
       "    </tr></tbody> \n",
       "</table> "
      ],
      "text/plain": [
       "<pandas.io.formats.style.Styler at 0x1a14ae0860>"
      ]
     },
     "metadata": {},
     "output_type": "display_data"
    },
    {
     "data": {
      "text/html": [
       "<style  type=\"text/css\" >\n",
       "</style>  \n",
       "<table id=\"T_062d4e38_e922_11e8_8d5e_f01898076315\" > \n",
       "<thead>    <tr> \n",
       "        <th class=\"blank level0\" ></th> \n",
       "        <th class=\"col_heading level0 col0\" >title</th> \n",
       "        <th class=\"col_heading level0 col1\" >description</th> \n",
       "        <th class=\"col_heading level0 col2\" >city</th> \n",
       "        <th class=\"col_heading level0 col3\" >url</th> \n",
       "    </tr></thead> \n",
       "<tbody>    <tr> \n",
       "        <th id=\"T_062d4e38_e922_11e8_8d5e_f01898076315level0_row0\" class=\"row_heading level0 row0\" >0</th> \n",
       "        <td id=\"T_062d4e38_e922_11e8_8d5e_f01898076315row0_col0\" class=\"data row0 col0\" >Marvelous Mid-Century Maisonette</td> \n",
       "        <td id=\"T_062d4e38_e922_11e8_8d5e_f01898076315row0_col1\" class=\"data row0 col1\" >Absolutely lovely mid-century modern designed apartment with private entrance and backyard with a fire pit in the heart of Irving, Texas. Our prime location is conveniently located less than 10 miles from airports, and less than 15 miles from AT&amp;T stadium &amp; Six Flags. Located near major highways with public transportation a block from your door you are free to explore all of the exciting offerings of the DFW metroplex or simply relax in by the fire. Additional cleaning fee for long term stay.</td> \n",
       "        <td id=\"T_062d4e38_e922_11e8_8d5e_f01898076315row0_col2\" class=\"data row0 col2\" >Irving</td> \n",
       "        <td id=\"T_062d4e38_e922_11e8_8d5e_f01898076315row0_col3\" class=\"data row0 col3\" >https://www.airbnb.com/rooms/16322661?location=Colleyville%2C%20TX</td> \n",
       "    </tr></tbody> \n",
       "</table> "
      ],
      "text/plain": [
       "<pandas.io.formats.style.Styler at 0x1a14ae0f28>"
      ]
     },
     "metadata": {},
     "output_type": "display_data"
    },
    {
     "data": {
      "text/html": [
       "<style  type=\"text/css\" >\n",
       "</style>  \n",
       "<table id=\"T_062e227a_e922_11e8_8078_f01898076315\" > \n",
       "<thead>    <tr> \n",
       "        <th class=\"blank level0\" ></th> \n",
       "        <th class=\"col_heading level0 col0\" >title</th> \n",
       "        <th class=\"col_heading level0 col1\" >description</th> \n",
       "        <th class=\"col_heading level0 col2\" >city</th> \n",
       "        <th class=\"col_heading level0 col3\" >url</th> \n",
       "    </tr></thead> \n",
       "<tbody>    <tr> \n",
       "        <th id=\"T_062e227a_e922_11e8_8078_f01898076315level0_row0\" class=\"row_heading level0 row0\" >0</th> \n",
       "        <td id=\"T_062e227a_e922_11e8_8078_f01898076315row0_col0\" class=\"data row0 col0\" >One bedroom near DFW Airport</td> \n",
       "        <td id=\"T_062e227a_e922_11e8_8078_f01898076315row0_col1\" class=\"data row0 col1\" >Cozy, modern day living. Located near Trinity river park. Uber is easily accessible. This place is sure to feel like home .\\nOne closet will be closed.</td> \n",
       "        <td id=\"T_062e227a_e922_11e8_8078_f01898076315row0_col2\" class=\"data row0 col2\" >Fort Worth</td> \n",
       "        <td id=\"T_062e227a_e922_11e8_8078_f01898076315row0_col3\" class=\"data row0 col3\" >https://www.airbnb.com/rooms/17946627?location=Burleson%2C%20TX</td> \n",
       "    </tr></tbody> \n",
       "</table> "
      ],
      "text/plain": [
       "<pandas.io.formats.style.Styler at 0x10e7b3940>"
      ]
     },
     "metadata": {},
     "output_type": "display_data"
    },
    {
     "data": {
      "text/html": [
       "<style  type=\"text/css\" >\n",
       "</style>  \n",
       "<table id=\"T_062edd3e_e922_11e8_b7f7_f01898076315\" > \n",
       "<thead>    <tr> \n",
       "        <th class=\"blank level0\" ></th> \n",
       "        <th class=\"col_heading level0 col0\" >title</th> \n",
       "        <th class=\"col_heading level0 col1\" >description</th> \n",
       "        <th class=\"col_heading level0 col2\" >city</th> \n",
       "        <th class=\"col_heading level0 col3\" >url</th> \n",
       "    </tr></thead> \n",
       "<tbody>    <tr> \n",
       "        <th id=\"T_062edd3e_e922_11e8_b7f7_f01898076315level0_row0\" class=\"row_heading level0 row0\" >0</th> \n",
       "        <td id=\"T_062edd3e_e922_11e8_b7f7_f01898076315row0_col0\" class=\"data row0 col0\" >COZY. BY. DESIGN, City Studio</td> \n",
       "        <td id=\"T_062edd3e_e922_11e8_b7f7_f01898076315row0_col1\" class=\"data row0 col1\" >Sweet Location! Near fabulous shopping and restaurants. Only 7 miles to Downtown. Trendy Studio Apartment with access to our community pool &amp; gym. Direct access to public transportation. Easy commute to airport. Central location. Don't have the dates you need? Check out: https://www.airbnb.com/rooms/12274983</td> \n",
       "        <td id=\"T_062edd3e_e922_11e8_b7f7_f01898076315row0_col2\" class=\"data row0 col2\" >Dallas</td> \n",
       "        <td id=\"T_062edd3e_e922_11e8_b7f7_f01898076315row0_col3\" class=\"data row0 col3\" >https://www.airbnb.com/rooms/13659593?location=Arlington%2C%20TX</td> \n",
       "    </tr></tbody> \n",
       "</table> "
      ],
      "text/plain": [
       "<pandas.io.formats.style.Styler at 0x1a14b485f8>"
      ]
     },
     "metadata": {},
     "output_type": "display_data"
    },
    {
     "data": {
      "text/html": [
       "<style  type=\"text/css\" >\n",
       "</style>  \n",
       "<table id=\"T_062fceb0_e922_11e8_880c_f01898076315\" > \n",
       "<thead>    <tr> \n",
       "        <th class=\"blank level0\" ></th> \n",
       "        <th class=\"col_heading level0 col0\" >title</th> \n",
       "        <th class=\"col_heading level0 col1\" >description</th> \n",
       "        <th class=\"col_heading level0 col2\" >city</th> \n",
       "        <th class=\"col_heading level0 col3\" >url</th> \n",
       "    </tr></thead> \n",
       "<tbody>    <tr> \n",
       "        <th id=\"T_062fceb0_e922_11e8_880c_f01898076315level0_row0\" class=\"row_heading level0 row0\" >0</th> \n",
       "        <td id=\"T_062fceb0_e922_11e8_880c_f01898076315row0_col0\" class=\"data row0 col0\" >Couch in Euless, TX near DFW Airport</td> \n",
       "        <td id=\"T_062fceb0_e922_11e8_880c_f01898076315row0_col1\" class=\"data row0 col1\" >My place is close to parks and restaurants and dining. YouÃ¢ÂÂll love my place because of the neighborhood. My place is good for solo adventurers and business travelers.\\n\\nYou will share the townhome with 2 males in their 30's. They occupy 1 bedroom each. You get the couch downstairs. You get access to anything in the house but the 2 bedrooms.</td> \n",
       "        <td id=\"T_062fceb0_e922_11e8_880c_f01898076315row0_col2\" class=\"data row0 col2\" >Euless</td> \n",
       "        <td id=\"T_062fceb0_e922_11e8_880c_f01898076315row0_col3\" class=\"data row0 col3\" >https://www.airbnb.com/rooms/15284513?location=Colleyville%2C%20TX</td> \n",
       "    </tr></tbody> \n",
       "</table> "
      ],
      "text/plain": [
       "<pandas.io.formats.style.Styler at 0x1a14b48908>"
      ]
     },
     "metadata": {},
     "output_type": "display_data"
    },
    {
     "data": {
      "text/html": [
       "<style  type=\"text/css\" >\n",
       "</style>  \n",
       "<table id=\"T_06309cf0_e922_11e8_8dd5_f01898076315\" > \n",
       "<thead>    <tr> \n",
       "        <th class=\"blank level0\" ></th> \n",
       "        <th class=\"col_heading level0 col0\" >title</th> \n",
       "        <th class=\"col_heading level0 col1\" >description</th> \n",
       "        <th class=\"col_heading level0 col2\" >city</th> \n",
       "        <th class=\"col_heading level0 col3\" >url</th> \n",
       "    </tr></thead> \n",
       "<tbody>    <tr> \n",
       "        <th id=\"T_06309cf0_e922_11e8_8dd5_f01898076315level0_row0\" class=\"row_heading level0 row0\" >0</th> \n",
       "        <td id=\"T_06309cf0_e922_11e8_8dd5_f01898076315row0_col0\" class=\"data row0 col0\" >Private Room Near the Airports</td> \n",
       "        <td id=\"T_06309cf0_e922_11e8_8dd5_f01898076315row0_col1\" class=\"data row0 col1\" >One of three private rooms in a two story home located in a nice and quiet neighborhood. Close to major highways. Easy access to entire Dallas/Fort Worth area. Very close to DFW airport and not far from Love Field Airport either. Walking distance to a park, a movie theater, many shopping venues (including grocery store and department store) and many restaurants (0.5-1.0 mile). The house is bright and airy with high ceiling. Good Wi-Fi connection. Full kitchen/laundry room access .</td> \n",
       "        <td id=\"T_06309cf0_e922_11e8_8dd5_f01898076315row0_col2\" class=\"data row0 col2\" >Irving</td> \n",
       "        <td id=\"T_06309cf0_e922_11e8_8dd5_f01898076315row0_col3\" class=\"data row0 col3\" >https://www.airbnb.com/rooms/13602580?location=Carrollton%2C%20TX</td> \n",
       "    </tr></tbody> \n",
       "</table> "
      ],
      "text/plain": [
       "<pandas.io.formats.style.Styler at 0x1a14a85d68>"
      ]
     },
     "metadata": {},
     "output_type": "display_data"
    },
    {
     "data": {
      "text/html": [
       "<style  type=\"text/css\" >\n",
       "</style>  \n",
       "<table id=\"T_06315e1a_e922_11e8_a1d3_f01898076315\" > \n",
       "<thead>    <tr> \n",
       "        <th class=\"blank level0\" ></th> \n",
       "        <th class=\"col_heading level0 col0\" >title</th> \n",
       "        <th class=\"col_heading level0 col1\" >description</th> \n",
       "        <th class=\"col_heading level0 col2\" >city</th> \n",
       "        <th class=\"col_heading level0 col3\" >url</th> \n",
       "    </tr></thead> \n",
       "<tbody>    <tr> \n",
       "        <th id=\"T_06315e1a_e922_11e8_a1d3_f01898076315level0_row0\" class=\"row_heading level0 row0\" >0</th> \n",
       "        <td id=\"T_06315e1a_e922_11e8_a1d3_f01898076315row0_col0\" class=\"data row0 col0\" >(A) Private bedroom close to DFW airport</td> \n",
       "        <td id=\"T_06315e1a_e922_11e8_a1d3_f01898076315row0_col1\" class=\"data row0 col1\" >Lovely private bedroom on a single story house. Conveniently located to all major highways and Las Colinas business area. The property is near restaurants, grocery stores, running trails and 10 mins away to DFW airport. It is good for solo adventurers and business travelers. Short-term discounts.</td> \n",
       "        <td id=\"T_06315e1a_e922_11e8_a1d3_f01898076315row0_col2\" class=\"data row0 col2\" >Irving</td> \n",
       "        <td id=\"T_06315e1a_e922_11e8_a1d3_f01898076315row0_col3\" class=\"data row0 col3\" >https://www.airbnb.com/rooms/13590530?location=Carrollton%2C%20TX</td> \n",
       "    </tr></tbody> \n",
       "</table> "
      ],
      "text/plain": [
       "<pandas.io.formats.style.Styler at 0x1a14a8e358>"
      ]
     },
     "metadata": {},
     "output_type": "display_data"
    },
    {
     "data": {
      "text/html": [
       "<style  type=\"text/css\" >\n",
       "</style>  \n",
       "<table id=\"T_063232c2_e922_11e8_8ee6_f01898076315\" > \n",
       "<thead>    <tr> \n",
       "        <th class=\"blank level0\" ></th> \n",
       "        <th class=\"col_heading level0 col0\" >title</th> \n",
       "        <th class=\"col_heading level0 col1\" >description</th> \n",
       "        <th class=\"col_heading level0 col2\" >city</th> \n",
       "        <th class=\"col_heading level0 col3\" >url</th> \n",
       "    </tr></thead> \n",
       "<tbody>    <tr> \n",
       "        <th id=\"T_063232c2_e922_11e8_8ee6_f01898076315level0_row0\" class=\"row_heading level0 row0\" >0</th> \n",
       "        <td id=\"T_063232c2_e922_11e8_8ee6_f01898076315row0_col0\" class=\"data row0 col0\" >COZY CONDO NEAR AIRPORT</td> \n",
       "        <td id=\"T_063232c2_e922_11e8_8ee6_f01898076315row0_col1\" class=\"data row0 col1\" >SWIMMING POOLS AND HOT TUBS, CONVENIENTLY LOCATED, EASY ACCESS TO AIRPORT AND DOWNTOWN, OVER 1000 SQ FT, 2 GUEST SUITES, MODERN KITCHEN, DINING TABLE SEATS 6, WIFI AND CABLE.</td> \n",
       "        <td id=\"T_063232c2_e922_11e8_8ee6_f01898076315row0_col2\" class=\"data row0 col2\" >San Antonio</td> \n",
       "        <td id=\"T_063232c2_e922_11e8_8ee6_f01898076315row0_col3\" class=\"data row0 col3\" >https://www.airbnb.com/rooms/7292240?location=Bulverde%2C%20TX</td> \n",
       "    </tr></tbody> \n",
       "</table> "
      ],
      "text/plain": [
       "<pandas.io.formats.style.Styler at 0x10e1183c8>"
      ]
     },
     "metadata": {},
     "output_type": "display_data"
    },
    {
     "data": {
      "text/html": [
       "<style  type=\"text/css\" >\n",
       "</style>  \n",
       "<table id=\"T_0632fa0c_e922_11e8_a0a2_f01898076315\" > \n",
       "<thead>    <tr> \n",
       "        <th class=\"blank level0\" ></th> \n",
       "        <th class=\"col_heading level0 col0\" >title</th> \n",
       "        <th class=\"col_heading level0 col1\" >description</th> \n",
       "        <th class=\"col_heading level0 col2\" >city</th> \n",
       "        <th class=\"col_heading level0 col3\" >url</th> \n",
       "    </tr></thead> \n",
       "<tbody>    <tr> \n",
       "        <th id=\"T_0632fa0c_e922_11e8_a0a2_f01898076315level0_row0\" class=\"row_heading level0 row0\" >0</th> \n",
       "        <td id=\"T_0632fa0c_e922_11e8_a0a2_f01898076315row0_col0\" class=\"data row0 col0\" >Spacious two story home near IAH</td> \n",
       "        <td id=\"T_0632fa0c_e922_11e8_a0a2_f01898076315row0_col1\" class=\"data row0 col1\" >Our red brick, cool, quiet home is minutes away from Bush Intercontinental Airport. And a hop, skip away to the major freeway, 59. With a great selection of stores and restaurants around the corner. Only 15-20 minutes from Downtown Houston.</td> \n",
       "        <td id=\"T_0632fa0c_e922_11e8_a0a2_f01898076315row0_col2\" class=\"data row0 col2\" >Humble</td> \n",
       "        <td id=\"T_0632fa0c_e922_11e8_a0a2_f01898076315row0_col3\" class=\"data row0 col3\" >https://www.airbnb.com/rooms/4227275?location=Cleveland%2C%20TX</td> \n",
       "    </tr></tbody> \n",
       "</table> "
      ],
      "text/plain": [
       "<pandas.io.formats.style.Styler at 0x1a14b485f8>"
      ]
     },
     "metadata": {},
     "output_type": "display_data"
    },
    {
     "data": {
      "text/html": [
       "<style  type=\"text/css\" >\n",
       "</style>  \n",
       "<table id=\"T_0633a698_e922_11e8_94ad_f01898076315\" > \n",
       "<thead>    <tr> \n",
       "        <th class=\"blank level0\" ></th> \n",
       "        <th class=\"col_heading level0 col0\" >title</th> \n",
       "        <th class=\"col_heading level0 col1\" >description</th> \n",
       "        <th class=\"col_heading level0 col2\" >city</th> \n",
       "        <th class=\"col_heading level0 col3\" >url</th> \n",
       "    </tr></thead> \n",
       "<tbody>    <tr> \n",
       "        <th id=\"T_0633a698_e922_11e8_94ad_f01898076315level0_row0\" class=\"row_heading level0 row0\" >0</th> \n",
       "        <td id=\"T_0633a698_e922_11e8_94ad_f01898076315row0_col0\" class=\"data row0 col0\" >Private room near Airport and CotA</td> \n",
       "        <td id=\"T_0633a698_e922_11e8_94ad_f01898076315row0_col1\" class=\"data row0 col1\" >Comfortable room available near Austin airport. Five minutes to Circuit of the Americas, 15 to Downtown.</td> \n",
       "        <td id=\"T_0633a698_e922_11e8_94ad_f01898076315row0_col2\" class=\"data row0 col2\" >Del Valle</td> \n",
       "        <td id=\"T_0633a698_e922_11e8_94ad_f01898076315row0_col3\" class=\"data row0 col3\" >https://www.airbnb.com/rooms/15444225?location=Cedar%20Creek%2C%20TX</td> \n",
       "    </tr></tbody> \n",
       "</table> "
      ],
      "text/plain": [
       "<pandas.io.formats.style.Styler at 0x10e7b3940>"
      ]
     },
     "metadata": {},
     "output_type": "display_data"
    },
    {
     "data": {
      "text/html": [
       "<style  type=\"text/css\" >\n",
       "</style>  \n",
       "<table id=\"T_063450fa_e922_11e8_897a_f01898076315\" > \n",
       "<thead>    <tr> \n",
       "        <th class=\"blank level0\" ></th> \n",
       "        <th class=\"col_heading level0 col0\" >title</th> \n",
       "        <th class=\"col_heading level0 col1\" >description</th> \n",
       "        <th class=\"col_heading level0 col2\" >city</th> \n",
       "        <th class=\"col_heading level0 col3\" >url</th> \n",
       "    </tr></thead> \n",
       "<tbody>    <tr> \n",
       "        <th id=\"T_063450fa_e922_11e8_897a_f01898076315level0_row0\" class=\"row_heading level0 row0\" >0</th> \n",
       "        <td id=\"T_063450fa_e922_11e8_897a_f01898076315row0_col0\" class=\"data row0 col0\" >Two Private Rooms Gated Community Near DFW Airport</td> \n",
       "        <td id=\"T_063450fa_e922_11e8_897a_f01898076315row0_col1\" class=\"data row0 col1\" >Bookings available from Aug 19th, 2017. You are booking two modern private room's in a two story house. Located near major highways, restaurants, grocery stores, Texas star golf course, parks, AT&amp;T stadium, and just 10 min to DFW airport. My space is in between Dallas and Fort Worth. Hence, great for interns, travel workers, students (15 min to UT Arlington), business travelers, and even for adventurers. Short-term and Long-term discounts.</td> \n",
       "        <td id=\"T_063450fa_e922_11e8_897a_f01898076315row0_col2\" class=\"data row0 col2\" >Euless</td> \n",
       "        <td id=\"T_063450fa_e922_11e8_897a_f01898076315row0_col3\" class=\"data row0 col3\" >https://www.airbnb.com/rooms/18288072?location=Bedford%2C%20TX</td> \n",
       "    </tr></tbody> \n",
       "</table> "
      ],
      "text/plain": [
       "<pandas.io.formats.style.Styler at 0x1a14ae0da0>"
      ]
     },
     "metadata": {},
     "output_type": "display_data"
    },
    {
     "data": {
      "text/html": [
       "<style  type=\"text/css\" >\n",
       "</style>  \n",
       "<table id=\"T_06353792_e922_11e8_bdf8_f01898076315\" > \n",
       "<thead>    <tr> \n",
       "        <th class=\"blank level0\" ></th> \n",
       "        <th class=\"col_heading level0 col0\" >title</th> \n",
       "        <th class=\"col_heading level0 col1\" >description</th> \n",
       "        <th class=\"col_heading level0 col2\" >city</th> \n",
       "        <th class=\"col_heading level0 col3\" >url</th> \n",
       "    </tr></thead> \n",
       "<tbody>    <tr> \n",
       "        <th id=\"T_06353792_e922_11e8_bdf8_f01898076315level0_row0\" class=\"row_heading level0 row0\" >0</th> \n",
       "        <td id=\"T_06353792_e922_11e8_bdf8_f01898076315row0_col0\" class=\"data row0 col0\" >GuestNest! w/QueenBed, ALL Essentials Amazon Alexa</td> \n",
       "        <td id=\"T_06353792_e922_11e8_bdf8_f01898076315row0_col1\" class=\"data row0 col1\" >Guest's Nest is a private bedroom in a two-story home. My guests stay upstairs. The location is very convenient - we are near every major highway in DFW. The home is near restaurants, grocery stores, running trails and minutes to DFW airport.</td> \n",
       "        <td id=\"T_06353792_e922_11e8_bdf8_f01898076315row0_col2\" class=\"data row0 col2\" >Irving</td> \n",
       "        <td id=\"T_06353792_e922_11e8_bdf8_f01898076315row0_col3\" class=\"data row0 col3\" >https://www.airbnb.com/rooms/16769188?location=Colleyville%2C%20TX</td> \n",
       "    </tr></tbody> \n",
       "</table> "
      ],
      "text/plain": [
       "<pandas.io.formats.style.Styler at 0x1a14ae0cc0>"
      ]
     },
     "metadata": {},
     "output_type": "display_data"
    },
    {
     "data": {
      "text/html": [
       "<style  type=\"text/css\" >\n",
       "</style>  \n",
       "<table id=\"T_0636141e_e922_11e8_bbd7_f01898076315\" > \n",
       "<thead>    <tr> \n",
       "        <th class=\"blank level0\" ></th> \n",
       "        <th class=\"col_heading level0 col0\" >title</th> \n",
       "        <th class=\"col_heading level0 col1\" >description</th> \n",
       "        <th class=\"col_heading level0 col2\" >city</th> \n",
       "        <th class=\"col_heading level0 col3\" >url</th> \n",
       "    </tr></thead> \n",
       "<tbody>    <tr> \n",
       "        <th id=\"T_0636141e_e922_11e8_bbd7_f01898076315level0_row0\" class=\"row_heading level0 row0\" >0</th> \n",
       "        <td id=\"T_0636141e_e922_11e8_bbd7_f01898076315row0_col0\" class=\"data row0 col0\" >Best Reviewed! - Peaceful ROOMS near IAH airport.</td> \n",
       "        <td id=\"T_0636141e_e922_11e8_bbd7_f01898076315row0_col1\" class=\"data row0 col1\" >NOTE : Not entire home!, we will be living downstairs. No option to list all rooms in Airbnb options.\\n\\nWe have 3 private and spacious rooms, 1 full bath, 1 half bath(downstairs) and game room upstairs with fridge, couch and computer table for guests. All the rooms have SMART TV with Netflix ready. \\n\\nThe whole upstairs is for guest use and is like a 3bh apartment. We will be downstairs for any help.\\n\\nWe occasionally also do pickup from IAH upon request,which is near.\\n\\nSee you here soon..\\n\\nThanks!</td> \n",
       "        <td id=\"T_0636141e_e922_11e8_bbd7_f01898076315row0_col2\" class=\"data row0 col2\" >Porter</td> \n",
       "        <td id=\"T_0636141e_e922_11e8_bbd7_f01898076315row0_col3\" class=\"data row0 col3\" >https://www.airbnb.com/rooms/10941391?location=Cleveland%2C%20TX</td> \n",
       "    </tr></tbody> \n",
       "</table> "
      ],
      "text/plain": [
       "<pandas.io.formats.style.Styler at 0x1a14ae06d8>"
      ]
     },
     "metadata": {},
     "output_type": "display_data"
    },
    {
     "data": {
      "text/html": [
       "<style  type=\"text/css\" >\n",
       "</style>  \n",
       "<table id=\"T_0636da98_e922_11e8_9a95_f01898076315\" > \n",
       "<thead>    <tr> \n",
       "        <th class=\"blank level0\" ></th> \n",
       "        <th class=\"col_heading level0 col0\" >title</th> \n",
       "        <th class=\"col_heading level0 col1\" >description</th> \n",
       "        <th class=\"col_heading level0 col2\" >city</th> \n",
       "        <th class=\"col_heading level0 col3\" >url</th> \n",
       "    </tr></thead> \n",
       "<tbody>    <tr> \n",
       "        <th id=\"T_0636da98_e922_11e8_9a95_f01898076315level0_row0\" class=\"row_heading level0 row0\" >0</th> \n",
       "        <td id=\"T_0636da98_e922_11e8_9a95_f01898076315row0_col0\" class=\"data row0 col0\" >Private bed/bath near DFW/DAL airports & Galleria</td> \n",
       "        <td id=\"T_0636da98_e922_11e8_9a95_f01898076315row0_col1\" class=\"data row0 col1\" >ROOM #1 - Private Bed/Bath close to DFW International Airport, Dallas Love Field (DAL) Airport, Irving Convention Center, Galleria Mall, North Park Mall, Downtown Dallas, Uptown Dallas, Las Colinas, Grapevine Mills Outlet Mall. YouÃ¢ÂÂll love the high ceilings, the coziness, the cleanliness, brand new home, quiet, jogging/biking/walking trails nearby, man made lake/river/canals nearby, scenic and peaceful. My place is good for couples, solo adventurers, business travelers, and families (with kids).</td> \n",
       "        <td id=\"T_0636da98_e922_11e8_9a95_f01898076315row0_col2\" class=\"data row0 col2\" >Irving</td> \n",
       "        <td id=\"T_0636da98_e922_11e8_9a95_f01898076315row0_col3\" class=\"data row0 col3\" >https://www.airbnb.com/rooms/15884544?location=Coppell%2C%20TX</td> \n",
       "    </tr></tbody> \n",
       "</table> "
      ],
      "text/plain": [
       "<pandas.io.formats.style.Styler at 0x1a14a8ec18>"
      ]
     },
     "metadata": {},
     "output_type": "display_data"
    },
    {
     "data": {
      "text/html": [
       "<style  type=\"text/css\" >\n",
       "</style>  \n",
       "<table id=\"T_0637afae_e922_11e8_80b4_f01898076315\" > \n",
       "<thead>    <tr> \n",
       "        <th class=\"blank level0\" ></th> \n",
       "        <th class=\"col_heading level0 col0\" >title</th> \n",
       "        <th class=\"col_heading level0 col1\" >description</th> \n",
       "        <th class=\"col_heading level0 col2\" >city</th> \n",
       "        <th class=\"col_heading level0 col3\" >url</th> \n",
       "    </tr></thead> \n",
       "<tbody>    <tr> \n",
       "        <th id=\"T_0637afae_e922_11e8_80b4_f01898076315level0_row0\" class=\"row_heading level0 row0\" >0</th> \n",
       "        <td id=\"T_0637afae_e922_11e8_80b4_f01898076315row0_col0\" class=\"data row0 col0\" >1 Bedroom Apartment Near Oaklawn/Love Field</td> \n",
       "        <td id=\"T_0637afae_e922_11e8_80b4_f01898076315row0_col1\" class=\"data row0 col1\" >This apartment is located close to Oak Lawn, Dallas Love Field airport, Highland Park Village and Uptown. Downtown Dallas, Greenville, and Deep Ellum are just a 10-15 minute drive. You will have the entire apartment which includes a king sized memory foam bed, kitchen/cookware, high speed internet, and gated parking. It is minimally furnished but perfect for those looking for an affordable place to stay.</td> \n",
       "        <td id=\"T_0637afae_e922_11e8_80b4_f01898076315row0_col2\" class=\"data row0 col2\" >Dallas</td> \n",
       "        <td id=\"T_0637afae_e922_11e8_80b4_f01898076315row0_col3\" class=\"data row0 col3\" >https://www.airbnb.com/rooms/18992667?location=Coppell%2C%20TX</td> \n",
       "    </tr></tbody> \n",
       "</table> "
      ],
      "text/plain": [
       "<pandas.io.formats.style.Styler at 0x1a14ae0b70>"
      ]
     },
     "metadata": {},
     "output_type": "display_data"
    },
    {
     "data": {
      "text/html": [
       "<style  type=\"text/css\" >\n",
       "</style>  \n",
       "<table id=\"T_0638b07a_e922_11e8_9f7c_f01898076315\" > \n",
       "<thead>    <tr> \n",
       "        <th class=\"blank level0\" ></th> \n",
       "        <th class=\"col_heading level0 col0\" >title</th> \n",
       "        <th class=\"col_heading level0 col1\" >description</th> \n",
       "        <th class=\"col_heading level0 col2\" >city</th> \n",
       "        <th class=\"col_heading level0 col3\" >url</th> \n",
       "    </tr></thead> \n",
       "<tbody>    <tr> \n",
       "        <th id=\"T_0638b07a_e922_11e8_9f7c_f01898076315level0_row0\" class=\"row_heading level0 row0\" >0</th> \n",
       "        <td id=\"T_0638b07a_e922_11e8_9f7c_f01898076315row0_col0\" class=\"data row0 col0\" >Master Bedroom with private Bathroom near IAH</td> \n",
       "        <td id=\"T_0638b07a_e922_11e8_9f7c_f01898076315row0_col1\" class=\"data row0 col1\" >NRG stadium located just 32 miles away, George Bush Intercontinental Airport is only 12 miles away, Downtown is just a 30 minute ride away as well.</td> \n",
       "        <td id=\"T_0638b07a_e922_11e8_9f7c_f01898076315row0_col2\" class=\"data row0 col2\" >Humble</td> \n",
       "        <td id=\"T_0638b07a_e922_11e8_9f7c_f01898076315row0_col3\" class=\"data row0 col3\" >https://www.airbnb.com/rooms/16442102?location=Atascocita%2C%20TX</td> \n",
       "    </tr></tbody> \n",
       "</table> "
      ],
      "text/plain": [
       "<pandas.io.formats.style.Styler at 0x1a14ae0588>"
      ]
     },
     "metadata": {},
     "output_type": "display_data"
    },
    {
     "data": {
      "text/html": [
       "<style  type=\"text/css\" >\n",
       "</style>  \n",
       "<table id=\"T_06397668_e922_11e8_8336_f01898076315\" > \n",
       "<thead>    <tr> \n",
       "        <th class=\"blank level0\" ></th> \n",
       "        <th class=\"col_heading level0 col0\" >title</th> \n",
       "        <th class=\"col_heading level0 col1\" >description</th> \n",
       "        <th class=\"col_heading level0 col2\" >city</th> \n",
       "        <th class=\"col_heading level0 col3\" >url</th> \n",
       "    </tr></thead> \n",
       "<tbody>    <tr> \n",
       "        <th id=\"T_06397668_e922_11e8_8336_f01898076315level0_row0\" class=\"row_heading level0 row0\" >0</th> \n",
       "        <td id=\"T_06397668_e922_11e8_8336_f01898076315row0_col0\" class=\"data row0 col0\" >Great, private bedroom/bath near DFW airport</td> \n",
       "        <td id=\"T_06397668_e922_11e8_8336_f01898076315row0_col1\" class=\"data row0 col1\" >Top floor condominium overlooking all of Las Colinas. Central to everything including major highways, restaurants, DFW/Love airport, bars, shopping, and grocery stores. Fully furnished, private bedroom and bath, with everything you might need during your stay~</td> \n",
       "        <td id=\"T_06397668_e922_11e8_8336_f01898076315row0_col2\" class=\"data row0 col2\" >Irving</td> \n",
       "        <td id=\"T_06397668_e922_11e8_8336_f01898076315row0_col3\" class=\"data row0 col3\" >https://www.airbnb.com/rooms/13335834?location=Colleyville%2C%20TX</td> \n",
       "    </tr></tbody> \n",
       "</table> "
      ],
      "text/plain": [
       "<pandas.io.formats.style.Styler at 0x1a14ae08d0>"
      ]
     },
     "metadata": {},
     "output_type": "display_data"
    },
    {
     "data": {
      "text/html": [
       "<style  type=\"text/css\" >\n",
       "</style>  \n",
       "<table id=\"T_063a3238_e922_11e8_9b19_f01898076315\" > \n",
       "<thead>    <tr> \n",
       "        <th class=\"blank level0\" ></th> \n",
       "        <th class=\"col_heading level0 col0\" >title</th> \n",
       "        <th class=\"col_heading level0 col1\" >description</th> \n",
       "        <th class=\"col_heading level0 col2\" >city</th> \n",
       "        <th class=\"col_heading level0 col3\" >url</th> \n",
       "    </tr></thead> \n",
       "<tbody>    <tr> \n",
       "        <th id=\"T_063a3238_e922_11e8_9b19_f01898076315level0_row0\" class=\"row_heading level0 row0\" >0</th> \n",
       "        <td id=\"T_063a3238_e922_11e8_9b19_f01898076315row0_col0\" class=\"data row0 col0\" >COZY. BY. DESIGN, City Studio</td> \n",
       "        <td id=\"T_063a3238_e922_11e8_9b19_f01898076315row0_col1\" class=\"data row0 col1\" >Sweet Location! Near fabulous shopping and restaurants. Only 7 miles to Downtown. Trendy Studio Apartment with access to our community pool &amp; gym. Direct access to public transportation. Easy commute to airport. Central location. Don't have the dates you need? Check out: https://www.airbnb.com/rooms/12274983</td> \n",
       "        <td id=\"T_063a3238_e922_11e8_9b19_f01898076315row0_col2\" class=\"data row0 col2\" >Dallas</td> \n",
       "        <td id=\"T_063a3238_e922_11e8_9b19_f01898076315row0_col3\" class=\"data row0 col3\" >https://www.airbnb.com/rooms/13659593?location=Carrollton%2C%20TX</td> \n",
       "    </tr></tbody> \n",
       "</table> "
      ],
      "text/plain": [
       "<pandas.io.formats.style.Styler at 0x1a14b480b8>"
      ]
     },
     "metadata": {},
     "output_type": "display_data"
    },
    {
     "data": {
      "text/html": [
       "<style  type=\"text/css\" >\n",
       "</style>  \n",
       "<table id=\"T_063b289e_e922_11e8_88bc_f01898076315\" > \n",
       "<thead>    <tr> \n",
       "        <th class=\"blank level0\" ></th> \n",
       "        <th class=\"col_heading level0 col0\" >title</th> \n",
       "        <th class=\"col_heading level0 col1\" >description</th> \n",
       "        <th class=\"col_heading level0 col2\" >city</th> \n",
       "        <th class=\"col_heading level0 col3\" >url</th> \n",
       "    </tr></thead> \n",
       "<tbody>    <tr> \n",
       "        <th id=\"T_063b289e_e922_11e8_88bc_f01898076315level0_row0\" class=\"row_heading level0 row0\" >0</th> \n",
       "        <td id=\"T_063b289e_e922_11e8_88bc_f01898076315row0_col0\" class=\"data row0 col0\" >Room Of Fame # 2</td> \n",
       "        <td id=\"T_063b289e_e922_11e8_88bc_f01898076315row0_col1\" class=\"data row0 col1\" >Welcome to our place, We are close to DFW Airport (10 mins) and Love Field (25 mins) Irving has many fine restaurants and dining, family-friendly activities, and nightlife. Irving is traversed by numerous highways. The Airport Freeway, TX- 183, Interstate 635 , Highway 114 and the President George Bush Turnpike, The Las Colinas area is centered near the intersection of 114 and the Bush turnpike.</td> \n",
       "        <td id=\"T_063b289e_e922_11e8_88bc_f01898076315row0_col2\" class=\"data row0 col2\" >Irving</td> \n",
       "        <td id=\"T_063b289e_e922_11e8_88bc_f01898076315row0_col3\" class=\"data row0 col3\" >https://www.airbnb.com/rooms/17040842?location=Coppell%2C%20TX</td> \n",
       "    </tr></tbody> \n",
       "</table> "
      ],
      "text/plain": [
       "<pandas.io.formats.style.Styler at 0x1a14b486a0>"
      ]
     },
     "metadata": {},
     "output_type": "display_data"
    },
    {
     "data": {
      "text/html": [
       "<style  type=\"text/css\" >\n",
       "</style>  \n",
       "<table id=\"T_063c0368_e922_11e8_9a0a_f01898076315\" > \n",
       "<thead>    <tr> \n",
       "        <th class=\"blank level0\" ></th> \n",
       "        <th class=\"col_heading level0 col0\" >title</th> \n",
       "        <th class=\"col_heading level0 col1\" >description</th> \n",
       "        <th class=\"col_heading level0 col2\" >city</th> \n",
       "        <th class=\"col_heading level0 col3\" >url</th> \n",
       "    </tr></thead> \n",
       "<tbody>    <tr> \n",
       "        <th id=\"T_063c0368_e922_11e8_9a0a_f01898076315level0_row0\" class=\"row_heading level0 row0\" >0</th> \n",
       "        <td id=\"T_063c0368_e922_11e8_9a0a_f01898076315row0_col0\" class=\"data row0 col0\" >(B) Private Room Gated Community Near DFW Airport</td> \n",
       "        <td id=\"T_063c0368_e922_11e8_9a0a_f01898076315row0_col1\" class=\"data row0 col1\" >Bookings available from Aug 19th. You are booking a modern private room in a two story house. Located near major highways, restaurants, grocery stores, Texas star golf course, parks, AT&amp;T stadium, and just 10 min to DFW airport. My space is in between Dallas and Fort Worth. Hence, great for interns, travel workers, students (15 min to UT Arlington), business travelers, and even for adventurers. Short-term and Long-term discounts.</td> \n",
       "        <td id=\"T_063c0368_e922_11e8_9a0a_f01898076315row0_col2\" class=\"data row0 col2\" >Euless</td> \n",
       "        <td id=\"T_063c0368_e922_11e8_9a0a_f01898076315row0_col3\" class=\"data row0 col3\" >https://www.airbnb.com/rooms/17806073?location=Bedford%2C%20TX</td> \n",
       "    </tr></tbody> \n",
       "</table> "
      ],
      "text/plain": [
       "<pandas.io.formats.style.Styler at 0x1a14a85ef0>"
      ]
     },
     "metadata": {},
     "output_type": "display_data"
    },
    {
     "data": {
      "text/html": [
       "<style  type=\"text/css\" >\n",
       "</style>  \n",
       "<table id=\"T_063cdc18_e922_11e8_a933_f01898076315\" > \n",
       "<thead>    <tr> \n",
       "        <th class=\"blank level0\" ></th> \n",
       "        <th class=\"col_heading level0 col0\" >title</th> \n",
       "        <th class=\"col_heading level0 col1\" >description</th> \n",
       "        <th class=\"col_heading level0 col2\" >city</th> \n",
       "        <th class=\"col_heading level0 col3\" >url</th> \n",
       "    </tr></thead> \n",
       "<tbody>    <tr> \n",
       "        <th id=\"T_063cdc18_e922_11e8_a933_f01898076315level0_row0\" class=\"row_heading level0 row0\" >0</th> \n",
       "        <td id=\"T_063cdc18_e922_11e8_a933_f01898076315row0_col0\" class=\"data row0 col0\" >Best Rest! w/ All Essentials/QueenBed Amazon Alexa</td> \n",
       "        <td id=\"T_063cdc18_e922_11e8_a933_f01898076315row0_col1\" class=\"data row0 col1\" >The Best Rest! is a private bedroom in a two-story home. The house is very spacious and open. My guests stay upstairs, and my family stays downstairs. The location is very convenient - we are near every major highway in DFW and the Las Colinas business area. The home is near restaurants, grocery stores, running trails and minutes to DFW airport. My place is very family friendly. You will enjoy the open space and high ceilings.</td> \n",
       "        <td id=\"T_063cdc18_e922_11e8_a933_f01898076315row0_col2\" class=\"data row0 col2\" >Irving</td> \n",
       "        <td id=\"T_063cdc18_e922_11e8_a933_f01898076315row0_col3\" class=\"data row0 col3\" >https://www.airbnb.com/rooms/16230502?location=Carrollton%2C%20TX</td> \n",
       "    </tr></tbody> \n",
       "</table> "
      ],
      "text/plain": [
       "<pandas.io.formats.style.Styler at 0x1a14a8e4a8>"
      ]
     },
     "metadata": {},
     "output_type": "display_data"
    },
    {
     "data": {
      "text/html": [
       "<style  type=\"text/css\" >\n",
       "</style>  \n",
       "<table id=\"T_063dec0c_e922_11e8_953d_f01898076315\" > \n",
       "<thead>    <tr> \n",
       "        <th class=\"blank level0\" ></th> \n",
       "        <th class=\"col_heading level0 col0\" >title</th> \n",
       "        <th class=\"col_heading level0 col1\" >description</th> \n",
       "        <th class=\"col_heading level0 col2\" >city</th> \n",
       "        <th class=\"col_heading level0 col3\" >url</th> \n",
       "    </tr></thead> \n",
       "<tbody>    <tr> \n",
       "        <th id=\"T_063dec0c_e922_11e8_953d_f01898076315level0_row0\" class=\"row_heading level0 row0\" >0</th> \n",
       "        <td id=\"T_063dec0c_e922_11e8_953d_f01898076315row0_col0\" class=\"data row0 col0\" >Clean Bedroom and Bath Near Austin City Limit</td> \n",
       "        <td id=\"T_063dec0c_e922_11e8_953d_f01898076315row0_col1\" class=\"data row0 col1\" >Private bedroom upstairs in our new house. The room features a queen sized bed and a twin sized bed, TV with Netflix, a desk and a full bathroom. There is also a mini fridge, microwave and a water cooler in the room for your private use.\\n\\nOur house is in the city of Manor, just outside of the Austin City Limits. We are a 15-20 minute drive to any part of Austin (downtown, airport, COTA, Round Rock, etc.) with easy access to downtown via the 290. We live in a very safe and quiet neighborhood.</td> \n",
       "        <td id=\"T_063dec0c_e922_11e8_953d_f01898076315row0_col2\" class=\"data row0 col2\" >Manor</td> \n",
       "        <td id=\"T_063dec0c_e922_11e8_953d_f01898076315row0_col3\" class=\"data row0 col3\" >https://www.airbnb.com/rooms/6747542?location=Bastrop%20County%2C%20TX</td> \n",
       "    </tr></tbody> \n",
       "</table> "
      ],
      "text/plain": [
       "<pandas.io.formats.style.Styler at 0x1a14a8ea90>"
      ]
     },
     "metadata": {},
     "output_type": "display_data"
    },
    {
     "data": {
      "text/html": [
       "<style  type=\"text/css\" >\n",
       "</style>  \n",
       "<table id=\"T_063eaf1e_e922_11e8_baff_f01898076315\" > \n",
       "<thead>    <tr> \n",
       "        <th class=\"blank level0\" ></th> \n",
       "        <th class=\"col_heading level0 col0\" >title</th> \n",
       "        <th class=\"col_heading level0 col1\" >description</th> \n",
       "        <th class=\"col_heading level0 col2\" >city</th> \n",
       "        <th class=\"col_heading level0 col3\" >url</th> \n",
       "    </tr></thead> \n",
       "<tbody>    <tr> \n",
       "        <th id=\"T_063eaf1e_e922_11e8_baff_f01898076315level0_row0\" class=\"row_heading level0 row0\" >0</th> \n",
       "        <td id=\"T_063eaf1e_e922_11e8_baff_f01898076315row0_col0\" class=\"data row0 col0\" >Comfy Room in Bastrop near Austin!</td> \n",
       "        <td id=\"T_063eaf1e_e922_11e8_baff_f01898076315row0_col1\" class=\"data row0 col1\" >Our guest room has a new queen size mattress with a comfy latex topper! A private guest bathroom is just outside the bedroom. We live in a quiet neighborhood and have 2 indoor/outdoor cats and one small very friendly dog (Jack Russell). Continental breakfast included! Less than 30' to the airport! 40' to downtown Austin!</td> \n",
       "        <td id=\"T_063eaf1e_e922_11e8_baff_f01898076315row0_col2\" class=\"data row0 col2\" >Bastrop</td> \n",
       "        <td id=\"T_063eaf1e_e922_11e8_baff_f01898076315row0_col3\" class=\"data row0 col3\" >https://www.airbnb.com/rooms/3932126?location=Bastrop%2C%20TX</td> \n",
       "    </tr></tbody> \n",
       "</table> "
      ],
      "text/plain": [
       "<pandas.io.formats.style.Styler at 0x1a14a8e550>"
      ]
     },
     "metadata": {},
     "output_type": "display_data"
    },
    {
     "data": {
      "text/html": [
       "<style  type=\"text/css\" >\n",
       "</style>  \n",
       "<table id=\"T_063f7f74_e922_11e8_995b_f01898076315\" > \n",
       "<thead>    <tr> \n",
       "        <th class=\"blank level0\" ></th> \n",
       "        <th class=\"col_heading level0 col0\" >title</th> \n",
       "        <th class=\"col_heading level0 col1\" >description</th> \n",
       "        <th class=\"col_heading level0 col2\" >city</th> \n",
       "        <th class=\"col_heading level0 col3\" >url</th> \n",
       "    </tr></thead> \n",
       "<tbody>    <tr> \n",
       "        <th id=\"T_063f7f74_e922_11e8_995b_f01898076315level0_row0\" class=\"row_heading level0 row0\" >0</th> \n",
       "        <td id=\"T_063f7f74_e922_11e8_995b_f01898076315row0_col0\" class=\"data row0 col0\" >Designed to Relax + PACKAGE DEAL</td> \n",
       "        <td id=\"T_063f7f74_e922_11e8_995b_f01898076315row0_col1\" class=\"data row0 col1\" >Escape to where comfort meets convenience. Centrally located near shopping &amp; restaurants. Only 7 miles to downtown. Fresh 1 bdrm / 1 bath condo style flat, with full kitchen, living and bedroom areas, along with a beautiful pool. Access to public transportation. Easy commute to airport. Don't have the dates you need? Check out our other listing here: https://www.airbnb.com/rooms/15043275 Ask about our PACKAGE DEAL!</td> \n",
       "        <td id=\"T_063f7f74_e922_11e8_995b_f01898076315row0_col2\" class=\"data row0 col2\" >Dallas</td> \n",
       "        <td id=\"T_063f7f74_e922_11e8_995b_f01898076315row0_col3\" class=\"data row0 col3\" >https://www.airbnb.com/rooms/17142583?location=Addison%2C%20TX</td> \n",
       "    </tr></tbody> \n",
       "</table> "
      ],
      "text/plain": [
       "<pandas.io.formats.style.Styler at 0x1a14b48550>"
      ]
     },
     "metadata": {},
     "output_type": "display_data"
    },
    {
     "data": {
      "text/html": [
       "<style  type=\"text/css\" >\n",
       "</style>  \n",
       "<table id=\"T_06407fba_e922_11e8_8ff5_f01898076315\" > \n",
       "<thead>    <tr> \n",
       "        <th class=\"blank level0\" ></th> \n",
       "        <th class=\"col_heading level0 col0\" >title</th> \n",
       "        <th class=\"col_heading level0 col1\" >description</th> \n",
       "        <th class=\"col_heading level0 col2\" >city</th> \n",
       "        <th class=\"col_heading level0 col3\" >url</th> \n",
       "    </tr></thead> \n",
       "<tbody>    <tr> \n",
       "        <th id=\"T_06407fba_e922_11e8_8ff5_f01898076315level0_row0\" class=\"row_heading level0 row0\" >0</th> \n",
       "        <td id=\"T_06407fba_e922_11e8_8ff5_f01898076315row0_col0\" class=\"data row0 col0\" >Cozy Home like Studio Apartment Near DFW Airport</td> \n",
       "        <td id=\"T_06407fba_e922_11e8_8ff5_f01898076315row0_col1\" class=\"data row0 col1\" >A very cozy, small studio apartment. More images of the space will be made available tonight. Just a Heads up There is no shower! only a men and women's restroom.</td> \n",
       "        <td id=\"T_06407fba_e922_11e8_8ff5_f01898076315row0_col2\" class=\"data row0 col2\" >Irving</td> \n",
       "        <td id=\"T_06407fba_e922_11e8_8ff5_f01898076315row0_col3\" class=\"data row0 col3\" >https://www.airbnb.com/rooms/16275996?location=Colleyville%2C%20TX</td> \n",
       "    </tr></tbody> \n",
       "</table> "
      ],
      "text/plain": [
       "<pandas.io.formats.style.Styler at 0x10e1183c8>"
      ]
     },
     "metadata": {},
     "output_type": "display_data"
    },
    {
     "data": {
      "text/html": [
       "<style  type=\"text/css\" >\n",
       "</style>  \n",
       "<table id=\"T_0641474c_e922_11e8_99d5_f01898076315\" > \n",
       "<thead>    <tr> \n",
       "        <th class=\"blank level0\" ></th> \n",
       "        <th class=\"col_heading level0 col0\" >title</th> \n",
       "        <th class=\"col_heading level0 col1\" >description</th> \n",
       "        <th class=\"col_heading level0 col2\" >city</th> \n",
       "        <th class=\"col_heading level0 col3\" >url</th> \n",
       "    </tr></thead> \n",
       "<tbody>    <tr> \n",
       "        <th id=\"T_0641474c_e922_11e8_99d5_f01898076315level0_row0\" class=\"row_heading level0 row0\" >0</th> \n",
       "        <td id=\"T_0641474c_e922_11e8_99d5_f01898076315row0_col0\" class=\"data row0 col0\" >Cozy room for two near Kyle field</td> \n",
       "        <td id=\"T_0641474c_e922_11e8_99d5_f01898076315row0_col1\" class=\"data row0 col1\" >My place is close to Kyle Field (1.4 miles away), nightlife , the airport (4.7 miles away), public transport. YouÃ¢ÂÂll love my place because of the location and the privacy of having your own room. My place is good for couples and solo adventurers.</td> \n",
       "        <td id=\"T_0641474c_e922_11e8_99d5_f01898076315row0_col2\" class=\"data row0 col2\" >College Station</td> \n",
       "        <td id=\"T_0641474c_e922_11e8_99d5_f01898076315row0_col3\" class=\"data row0 col3\" >https://www.airbnb.com/rooms/14609402?location=Caldwell%2C%20TX</td> \n",
       "    </tr></tbody> \n",
       "</table> "
      ],
      "text/plain": [
       "<pandas.io.formats.style.Styler at 0x10a5c09b0>"
      ]
     },
     "metadata": {},
     "output_type": "display_data"
    },
    {
     "data": {
      "text/html": [
       "<style  type=\"text/css\" >\n",
       "</style>  \n",
       "<table id=\"T_06420d82_e922_11e8_b0b1_f01898076315\" > \n",
       "<thead>    <tr> \n",
       "        <th class=\"blank level0\" ></th> \n",
       "        <th class=\"col_heading level0 col0\" >title</th> \n",
       "        <th class=\"col_heading level0 col1\" >description</th> \n",
       "        <th class=\"col_heading level0 col2\" >city</th> \n",
       "        <th class=\"col_heading level0 col3\" >url</th> \n",
       "    </tr></thead> \n",
       "<tbody>    <tr> \n",
       "        <th id=\"T_06420d82_e922_11e8_b0b1_f01898076315level0_row0\" class=\"row_heading level0 row0\" >0</th> \n",
       "        <td id=\"T_06420d82_e922_11e8_b0b1_f01898076315row0_col0\" class=\"data row0 col0\" >Spare Bedroom near DFW Airport</td> \n",
       "        <td id=\"T_06420d82_e922_11e8_b0b1_f01898076315row0_col1\" class=\"data row0 col1\" >I have a 2 bedroom townhouse 5 min. from DFW Airport. I'm a single, professional male. Location is 20 min. from Dallas and Ft Worth so both cities are easily accessible. \\n\\nEasy access to all major highways. There are 2 parks within walking distance. \\n\\nMust communicate and book your reservation on Airbnb site. No personal off-site messages.</td> \n",
       "        <td id=\"T_06420d82_e922_11e8_b0b1_f01898076315row0_col2\" class=\"data row0 col2\" >Euless</td> \n",
       "        <td id=\"T_06420d82_e922_11e8_b0b1_f01898076315row0_col3\" class=\"data row0 col3\" >https://www.airbnb.com/rooms/2276506?location=Bedford%2C%20TX</td> \n",
       "    </tr></tbody> \n",
       "</table> "
      ],
      "text/plain": [
       "<pandas.io.formats.style.Styler at 0x1a14b486a0>"
      ]
     },
     "metadata": {},
     "output_type": "display_data"
    },
    {
     "data": {
      "text/html": [
       "<style  type=\"text/css\" >\n",
       "</style>  \n",
       "<table id=\"T_06430d4a_e922_11e8_a330_f01898076315\" > \n",
       "<thead>    <tr> \n",
       "        <th class=\"blank level0\" ></th> \n",
       "        <th class=\"col_heading level0 col0\" >title</th> \n",
       "        <th class=\"col_heading level0 col1\" >description</th> \n",
       "        <th class=\"col_heading level0 col2\" >city</th> \n",
       "        <th class=\"col_heading level0 col3\" >url</th> \n",
       "    </tr></thead> \n",
       "<tbody>    <tr> \n",
       "        <th id=\"T_06430d4a_e922_11e8_a330_f01898076315level0_row0\" class=\"row_heading level0 row0\" >0</th> \n",
       "        <td id=\"T_06430d4a_e922_11e8_a330_f01898076315row0_col0\" class=\"data row0 col0\" >Near IAH...Dogs, coffee, and trails! (2)</td> \n",
       "        <td id=\"T_06430d4a_e922_11e8_a330_f01898076315row0_col1\" class=\"data row0 col1\" >Adventurers and those passing through welcome! My place is relaxed and the atmosphere is easygoing. Only 15-20 minutes from IAH. Happy to work out a pick up/drop off from airport. Dogs (and kids) are welcome to stay as well! They should list coffee under essentials but don't worry I've got you covered. \\n\\nHouse includes a backyard and near some trails, a neighborhood Walmart, and Starbucks. Easy access to 59 for exploring other areas of Houston.\\n\\n*Double listed for different availability</td> \n",
       "        <td id=\"T_06430d4a_e922_11e8_a330_f01898076315row0_col2\" class=\"data row0 col2\" >Humble</td> \n",
       "        <td id=\"T_06430d4a_e922_11e8_a330_f01898076315row0_col3\" class=\"data row0 col3\" >https://www.airbnb.com/rooms/16596486?location=Cleveland%2C%20TX</td> \n",
       "    </tr></tbody> \n",
       "</table> "
      ],
      "text/plain": [
       "<pandas.io.formats.style.Styler at 0x1a14ae0358>"
      ]
     },
     "metadata": {},
     "output_type": "display_data"
    },
    {
     "data": {
      "text/html": [
       "<style  type=\"text/css\" >\n",
       "</style>  \n",
       "<table id=\"T_0643e80a_e922_11e8_89a2_f01898076315\" > \n",
       "<thead>    <tr> \n",
       "        <th class=\"blank level0\" ></th> \n",
       "        <th class=\"col_heading level0 col0\" >title</th> \n",
       "        <th class=\"col_heading level0 col1\" >description</th> \n",
       "        <th class=\"col_heading level0 col2\" >city</th> \n",
       "        <th class=\"col_heading level0 col3\" >url</th> \n",
       "    </tr></thead> \n",
       "<tbody>    <tr> \n",
       "        <th id=\"T_0643e80a_e922_11e8_89a2_f01898076315level0_row0\" class=\"row_heading level0 row0\" >0</th> \n",
       "        <td id=\"T_0643e80a_e922_11e8_89a2_f01898076315row0_col0\" class=\"data row0 col0\" >Private King Bedroom #1, Quiet & Clean, New House!</td> \n",
       "        <td id=\"T_0643e80a_e922_11e8_89a2_f01898076315row0_col1\" class=\"data row0 col1\" >Clean and quiet with lots of natural light in your 2nd Floor Private Room with King size bed in beautiful new house in Dallas city limits very near DeSoto &amp; Lancaster. 2 air mattresses can be added for a total of 4 people. For 3+ add Bedroom #2 with queen too. Back of the house - very quiet. Only 10-12 minutes to downtown Dallas, 10-12 minutes to Waxahachie, 20 minutes to Arlington, 35 minutes to DFW Airport, 20 minutes to Love Field Airport, 5 minutes to Dallas Executive Airport. Nice Swim/Spa!</td> \n",
       "        <td id=\"T_0643e80a_e922_11e8_89a2_f01898076315row0_col2\" class=\"data row0 col2\" >Dallas</td> \n",
       "        <td id=\"T_0643e80a_e922_11e8_89a2_f01898076315row0_col3\" class=\"data row0 col3\" >https://www.airbnb.com/rooms/17711919?location=Cedar%20Hill%2C%20TX</td> \n",
       "    </tr></tbody> \n",
       "</table> "
      ],
      "text/plain": [
       "<pandas.io.formats.style.Styler at 0x1a14ae07b8>"
      ]
     },
     "metadata": {},
     "output_type": "display_data"
    },
    {
     "data": {
      "text/html": [
       "<style  type=\"text/css\" >\n",
       "</style>  \n",
       "<table id=\"T_0644bd34_e922_11e8_9c18_f01898076315\" > \n",
       "<thead>    <tr> \n",
       "        <th class=\"blank level0\" ></th> \n",
       "        <th class=\"col_heading level0 col0\" >title</th> \n",
       "        <th class=\"col_heading level0 col1\" >description</th> \n",
       "        <th class=\"col_heading level0 col2\" >city</th> \n",
       "        <th class=\"col_heading level0 col3\" >url</th> \n",
       "    </tr></thead> \n",
       "<tbody>    <tr> \n",
       "        <th id=\"T_0644bd34_e922_11e8_9c18_f01898076315level0_row0\" class=\"row_heading level0 row0\" >0</th> \n",
       "        <td id=\"T_0644bd34_e922_11e8_9c18_f01898076315row0_col0\" class=\"data row0 col0\" >Peaceful home near airport & downtown</td> \n",
       "        <td id=\"T_0644bd34_e922_11e8_9c18_f01898076315row0_col1\" class=\"data row0 col1\" >Our home is filled with warmth from lots of natural light. The original wood floors and earthy decor create a peaceful environment for anyone. We have a big backyard &amp; garden that is very kid and pet friendly as well as many toys to share in our boys room. The house is 5 minutes away from the airport as well as 10 minutes away from downtown. We are in the middle of San Antonio which is a great location for accessing all types of fun.</td> \n",
       "        <td id=\"T_0644bd34_e922_11e8_9c18_f01898076315row0_col2\" class=\"data row0 col2\" >San Antonio</td> \n",
       "        <td id=\"T_0644bd34_e922_11e8_9c18_f01898076315row0_col3\" class=\"data row0 col3\" >https://www.airbnb.com/rooms/19014109?location=Converse%2C%20TX</td> \n",
       "    </tr></tbody> \n",
       "</table> "
      ],
      "text/plain": [
       "<pandas.io.formats.style.Styler at 0x10a5c09b0>"
      ]
     },
     "metadata": {},
     "output_type": "display_data"
    },
    {
     "data": {
      "text/html": [
       "<style  type=\"text/css\" >\n",
       "</style>  \n",
       "<table id=\"T_06459d1c_e922_11e8_a215_f01898076315\" > \n",
       "<thead>    <tr> \n",
       "        <th class=\"blank level0\" ></th> \n",
       "        <th class=\"col_heading level0 col0\" >title</th> \n",
       "        <th class=\"col_heading level0 col1\" >description</th> \n",
       "        <th class=\"col_heading level0 col2\" >city</th> \n",
       "        <th class=\"col_heading level0 col3\" >url</th> \n",
       "    </tr></thead> \n",
       "<tbody>    <tr> \n",
       "        <th id=\"T_06459d1c_e922_11e8_a215_f01898076315level0_row0\" class=\"row_heading level0 row0\" >0</th> \n",
       "        <td id=\"T_06459d1c_e922_11e8_a215_f01898076315row0_col0\" class=\"data row0 col0\" >Private Bedroom and Bath in Clear lake</td> \n",
       "        <td id=\"T_06459d1c_e922_11e8_a215_f01898076315row0_col1\" class=\"data row0 col1\" >My place is in a quiet neighborhood and close to several good restaurants , coffee shops, places to go, and things to do or see. We are located near NASA Space Center, University of Houston, Clear Lake, Kemah Boardwalk, Armand Bayou nature center, Hobby airport and Baybrook Mall. \\nDowntown Houston, NRG Stadium and Minute Maid Park are an easy 20 Ã¢ÂÂ 30 minute drive north of our house. Galveston Island is also less than an hour away.</td> \n",
       "        <td id=\"T_06459d1c_e922_11e8_a215_f01898076315row0_col2\" class=\"data row0 col2\" >Houston</td> \n",
       "        <td id=\"T_06459d1c_e922_11e8_a215_f01898076315row0_col3\" class=\"data row0 col3\" >https://www.airbnb.com/rooms/16685960?location=Alvin%2C%20TX</td> \n",
       "    </tr></tbody> \n",
       "</table> "
      ],
      "text/plain": [
       "<pandas.io.formats.style.Styler at 0x1a148b9c50>"
      ]
     },
     "metadata": {},
     "output_type": "display_data"
    },
    {
     "data": {
      "text/html": [
       "<style  type=\"text/css\" >\n",
       "</style>  \n",
       "<table id=\"T_0646749e_e922_11e8_8934_f01898076315\" > \n",
       "<thead>    <tr> \n",
       "        <th class=\"blank level0\" ></th> \n",
       "        <th class=\"col_heading level0 col0\" >title</th> \n",
       "        <th class=\"col_heading level0 col1\" >description</th> \n",
       "        <th class=\"col_heading level0 col2\" >city</th> \n",
       "        <th class=\"col_heading level0 col3\" >url</th> \n",
       "    </tr></thead> \n",
       "<tbody>    <tr> \n",
       "        <th id=\"T_0646749e_e922_11e8_8934_f01898076315level0_row0\" class=\"row_heading level0 row0\" >0</th> \n",
       "        <td id=\"T_0646749e_e922_11e8_8934_f01898076315row0_col0\" class=\"data row0 col0\" >Luxury Stay at Home - Private & Safe near Airport</td> \n",
       "        <td id=\"T_0646749e_e922_11e8_8934_f01898076315row0_col1\" class=\"data row0 col1\" >Well maintained room and bathroom. House is situated on corner lot. Extended covered patio with fenced backyard. Kitchen has plenty of counter top space. Neighborhood features includes park area.\\n\\nYou will love staying in my home, it's a 10 minute drive from the DFW airport. Irving is right in the center of Dallas so drive to Downtown or anywhere is a breeze. Neighborhood is safe and quiet.\\n\\nMy place is great for Business Travelers, solo adventures and for couples.</td> \n",
       "        <td id=\"T_0646749e_e922_11e8_8934_f01898076315row0_col2\" class=\"data row0 col2\" >Irving</td> \n",
       "        <td id=\"T_0646749e_e922_11e8_8934_f01898076315row0_col3\" class=\"data row0 col3\" >https://www.airbnb.com/rooms/19000018?location=Coppell%2C%20TX</td> \n",
       "    </tr></tbody> \n",
       "</table> "
      ],
      "text/plain": [
       "<pandas.io.formats.style.Styler at 0x1a14ae00b8>"
      ]
     },
     "metadata": {},
     "output_type": "display_data"
    },
    {
     "data": {
      "text/html": [
       "<style  type=\"text/css\" >\n",
       "</style>  \n",
       "<table id=\"T_064725b0_e922_11e8_989a_f01898076315\" > \n",
       "<thead>    <tr> \n",
       "        <th class=\"blank level0\" ></th> \n",
       "        <th class=\"col_heading level0 col0\" >title</th> \n",
       "        <th class=\"col_heading level0 col1\" >description</th> \n",
       "        <th class=\"col_heading level0 col2\" >city</th> \n",
       "        <th class=\"col_heading level0 col3\" >url</th> \n",
       "    </tr></thead> \n",
       "<tbody>    <tr> \n",
       "        <th id=\"T_064725b0_e922_11e8_989a_f01898076315level0_row0\" class=\"row_heading level0 row0\" >0</th> \n",
       "        <td id=\"T_064725b0_e922_11e8_989a_f01898076315row0_col0\" class=\"data row0 col0\" >Downtown/Deep Ellum Great Location</td> \n",
       "        <td id=\"T_064725b0_e922_11e8_989a_f01898076315row0_col1\" class=\"data row0 col1\" >Apartment is located in Deep Ellum a neighborhood composed largely of arts and entertainment venues near downtown. Can walk to many entertainment and food venues in Deep Ellum (10 min walk) or Downtown. Deep Ellum Dart Light Rail Station is 1,000 feet from APT with easy airport access. 1 mile Uber to Uptown (Shopping and Restaurants). AMAZINGLY LOCATED\\nComplete bottom floor of 3 floor apartment is yours. Private bathroom with backyard &amp; terrace, Queen size bed idea for 2 guests, will consider 3</td> \n",
       "        <td id=\"T_064725b0_e922_11e8_989a_f01898076315row0_col2\" class=\"data row0 col2\" >Dallas</td> \n",
       "        <td id=\"T_064725b0_e922_11e8_989a_f01898076315row0_col3\" class=\"data row0 col3\" >https://www.airbnb.com/rooms/16353509?location=Balch%20Springs%2C%20TX</td> \n",
       "    </tr></tbody> \n",
       "</table> "
      ],
      "text/plain": [
       "<pandas.io.formats.style.Styler at 0x1a14b48b00>"
      ]
     },
     "metadata": {},
     "output_type": "display_data"
    },
    {
     "data": {
      "text/html": [
       "<style  type=\"text/css\" >\n",
       "</style>  \n",
       "<table id=\"T_064814de_e922_11e8_9f9d_f01898076315\" > \n",
       "<thead>    <tr> \n",
       "        <th class=\"blank level0\" ></th> \n",
       "        <th class=\"col_heading level0 col0\" >title</th> \n",
       "        <th class=\"col_heading level0 col1\" >description</th> \n",
       "        <th class=\"col_heading level0 col2\" >city</th> \n",
       "        <th class=\"col_heading level0 col3\" >url</th> \n",
       "    </tr></thead> \n",
       "<tbody>    <tr> \n",
       "        <th id=\"T_064814de_e922_11e8_9f9d_f01898076315level0_row0\" class=\"row_heading level0 row0\" >0</th> \n",
       "        <td id=\"T_064814de_e922_11e8_9f9d_f01898076315row0_col0\" class=\"data row0 col0\" >Lil' Art and Lake Haus--aka Flowers Cottage</td> \n",
       "        <td id=\"T_064814de_e922_11e8_9f9d_f01898076315row0_col1\" class=\"data row0 col1\" >Charming cottage near ABI airport--Great location. Small full Kitchen, 53\\</td> \n",
       "        <td id=\"T_064814de_e922_11e8_9f9d_f01898076315row0_col2\" class=\"data row0 col2\" >Abilene</td> \n",
       "        <td id=\"T_064814de_e922_11e8_9f9d_f01898076315row0_col3\" class=\"data row0 col3\" >https://www.airbnb.com/rooms/11609637?location=Cisco%2C%20TX</td> \n",
       "    </tr></tbody> \n",
       "</table> "
      ],
      "text/plain": [
       "<pandas.io.formats.style.Styler at 0x1a14a85c18>"
      ]
     },
     "metadata": {},
     "output_type": "display_data"
    },
    {
     "data": {
      "text/html": [
       "<style  type=\"text/css\" >\n",
       "</style>  \n",
       "<table id=\"T_0648f3a4_e922_11e8_af2e_f01898076315\" > \n",
       "<thead>    <tr> \n",
       "        <th class=\"blank level0\" ></th> \n",
       "        <th class=\"col_heading level0 col0\" >title</th> \n",
       "        <th class=\"col_heading level0 col1\" >description</th> \n",
       "        <th class=\"col_heading level0 col2\" >city</th> \n",
       "        <th class=\"col_heading level0 col3\" >url</th> \n",
       "    </tr></thead> \n",
       "<tbody>    <tr> \n",
       "        <th id=\"T_0648f3a4_e922_11e8_af2e_f01898076315level0_row0\" class=\"row_heading level0 row0\" >0</th> \n",
       "        <td id=\"T_0648f3a4_e922_11e8_af2e_f01898076315row0_col0\" class=\"data row0 col0\" >Quiet guest room with queen bed</td> \n",
       "        <td id=\"T_0648f3a4_e922_11e8_af2e_f01898076315row0_col1\" class=\"data row0 col1\" >1 bedroom with Queen bed and 42Ã¢ÂÂ TV. Shared bathroom, and kitchen. *Minutes away from San Antonio International Airport. *10 minutes away from The Alamo, and downtown. *5 minutes away from North Star Mall. *8 minutes away from IH 35N. Quiet hours start at 10pm till 5am. Walking distance from convenience stores, CVS, Walmart. Plenty of great restaurants near by. Check in at 11:30 am and check out at 11:00 a.m. p.m.No smoking or drugs allowed.</td> \n",
       "        <td id=\"T_0648f3a4_e922_11e8_af2e_f01898076315row0_col2\" class=\"data row0 col2\" >San Antonio</td> \n",
       "        <td id=\"T_0648f3a4_e922_11e8_af2e_f01898076315row0_col3\" class=\"data row0 col3\" >https://www.airbnb.com/rooms/17609396?location=Converse%2C%20TX</td> \n",
       "    </tr></tbody> \n",
       "</table> "
      ],
      "text/plain": [
       "<pandas.io.formats.style.Styler at 0x1a14a8e2e8>"
      ]
     },
     "metadata": {},
     "output_type": "display_data"
    },
    {
     "data": {
      "text/html": [
       "<style  type=\"text/css\" >\n",
       "</style>  \n",
       "<table id=\"T_0649ad80_e922_11e8_8fab_f01898076315\" > \n",
       "<thead>    <tr> \n",
       "        <th class=\"blank level0\" ></th> \n",
       "        <th class=\"col_heading level0 col0\" >title</th> \n",
       "        <th class=\"col_heading level0 col1\" >description</th> \n",
       "        <th class=\"col_heading level0 col2\" >city</th> \n",
       "        <th class=\"col_heading level0 col3\" >url</th> \n",
       "    </tr></thead> \n",
       "<tbody>    <tr> \n",
       "        <th id=\"T_0649ad80_e922_11e8_8fab_f01898076315level0_row0\" class=\"row_heading level0 row0\" >0</th> \n",
       "        <td id=\"T_0649ad80_e922_11e8_8fab_f01898076315row0_col0\" class=\"data row0 col0\" >Great for Groups or Families, 15mins from IAH</td> \n",
       "        <td id=\"T_0649ad80_e922_11e8_8fab_f01898076315row0_col1\" class=\"data row0 col1\" >This listing is for ENTIRE HOME. (Sleeps 6)\\nCozy, CLEAN, Private guest house. Private entrance and access to backyard, patio, and playground on property. \\nWe live in the main house on the property so we are near should guests need anything. \\n\\n15 - min from IAH Airport\\n20 min to The Woodlands area and Mall \\n25-30 Min to Downtown Houston\\nNearby gas stations, restaurants and stores.</td> \n",
       "        <td id=\"T_0649ad80_e922_11e8_8fab_f01898076315row0_col2\" class=\"data row0 col2\" >Porter</td> \n",
       "        <td id=\"T_0649ad80_e922_11e8_8fab_f01898076315row0_col3\" class=\"data row0 col3\" >https://www.airbnb.com/rooms/14569870?location=Cleveland%2C%20TX</td> \n",
       "    </tr></tbody> \n",
       "</table> "
      ],
      "text/plain": [
       "<pandas.io.formats.style.Styler at 0x1a14b4e8d0>"
      ]
     },
     "metadata": {},
     "output_type": "display_data"
    },
    {
     "data": {
      "text/html": [
       "<style  type=\"text/css\" >\n",
       "</style>  \n",
       "<table id=\"T_064ac13e_e922_11e8_adf9_f01898076315\" > \n",
       "<thead>    <tr> \n",
       "        <th class=\"blank level0\" ></th> \n",
       "        <th class=\"col_heading level0 col0\" >title</th> \n",
       "        <th class=\"col_heading level0 col1\" >description</th> \n",
       "        <th class=\"col_heading level0 col2\" >city</th> \n",
       "        <th class=\"col_heading level0 col3\" >url</th> \n",
       "    </tr></thead> \n",
       "<tbody>    <tr> \n",
       "        <th id=\"T_064ac13e_e922_11e8_adf9_f01898076315level0_row0\" class=\"row_heading level0 row0\" >0</th> \n",
       "        <td id=\"T_064ac13e_e922_11e8_adf9_f01898076315row0_col0\" class=\"data row0 col0\" >Downtown Apartment located near Convention Center</td> \n",
       "        <td id=\"T_064ac13e_e922_11e8_adf9_f01898076315row0_col1\" class=\"data row0 col1\" >A cozy apartment located in downtown San Antonio. This space is within walking distance to the Convention Center, Hemisfair Park, and the Alamodome. It is also located near the Southtown District, which features an array of restaurants, bars, and shops. Enjoy the close public park that has a baseball field, large playground, and picnic tables. We offer guests FREE pick up and drop-off from the San Antonio International Airport. There is also ample street parking, or use bike-share rack.</td> \n",
       "        <td id=\"T_064ac13e_e922_11e8_adf9_f01898076315row0_col2\" class=\"data row0 col2\" >San Antonio</td> \n",
       "        <td id=\"T_064ac13e_e922_11e8_adf9_f01898076315row0_col3\" class=\"data row0 col3\" >https://www.airbnb.com/rooms/19065840?location=Alamo%20Heights%2C%20TX</td> \n",
       "    </tr></tbody> \n",
       "</table> "
      ],
      "text/plain": [
       "<pandas.io.formats.style.Styler at 0x1a14a85470>"
      ]
     },
     "metadata": {},
     "output_type": "display_data"
    },
    {
     "data": {
      "text/html": [
       "<style  type=\"text/css\" >\n",
       "</style>  \n",
       "<table id=\"T_064b87f4_e922_11e8_b564_f01898076315\" > \n",
       "<thead>    <tr> \n",
       "        <th class=\"blank level0\" ></th> \n",
       "        <th class=\"col_heading level0 col0\" >title</th> \n",
       "        <th class=\"col_heading level0 col1\" >description</th> \n",
       "        <th class=\"col_heading level0 col2\" >city</th> \n",
       "        <th class=\"col_heading level0 col3\" >url</th> \n",
       "    </tr></thead> \n",
       "<tbody>    <tr> \n",
       "        <th id=\"T_064b87f4_e922_11e8_b564_f01898076315level0_row0\" class=\"row_heading level0 row0\" >0</th> \n",
       "        <td id=\"T_064b87f4_e922_11e8_b564_f01898076315row0_col0\" class=\"data row0 col0\" >Vintage Smart Home, near Downtown-Solar Powered</td> \n",
       "        <td id=\"T_064b87f4_e922_11e8_b564_f01898076315row0_col1\" class=\"data row0 col1\" >Vintage Solar Powered Smart Home central to EVERYTHING! 3 Bedrooms, 2.5 baths. Walking distance to restaurants, local cafes, hip antique shops, 7-10 min drive to Downtown, Riverwalk, 13 min to the Pearl &amp; 14 min to the airport. Chris Madrid's, restaurant and bar, an easy 10 min walk. 18 min from Lackland / 14 min from Fort Sam Houston. Comforts not found in any other AIRBNB rental. Super clean creative space and right of the 10 freeway.</td> \n",
       "        <td id=\"T_064b87f4_e922_11e8_b564_f01898076315row0_col2\" class=\"data row0 col2\" >San Antonio</td> \n",
       "        <td id=\"T_064b87f4_e922_11e8_b564_f01898076315row0_col3\" class=\"data row0 col3\" >https://www.airbnb.com/rooms/14870808?location=Alamo%20Heights%2C%20TX</td> \n",
       "    </tr></tbody> \n",
       "</table> "
      ],
      "text/plain": [
       "<pandas.io.formats.style.Styler at 0x1a14a85780>"
      ]
     },
     "metadata": {},
     "output_type": "display_data"
    },
    {
     "data": {
      "text/html": [
       "<style  type=\"text/css\" >\n",
       "</style>  \n",
       "<table id=\"T_064c5262_e922_11e8_a4b6_f01898076315\" > \n",
       "<thead>    <tr> \n",
       "        <th class=\"blank level0\" ></th> \n",
       "        <th class=\"col_heading level0 col0\" >title</th> \n",
       "        <th class=\"col_heading level0 col1\" >description</th> \n",
       "        <th class=\"col_heading level0 col2\" >city</th> \n",
       "        <th class=\"col_heading level0 col3\" >url</th> \n",
       "    </tr></thead> \n",
       "<tbody>    <tr> \n",
       "        <th id=\"T_064c5262_e922_11e8_a4b6_f01898076315level0_row0\" class=\"row_heading level0 row0\" >0</th> \n",
       "        <td id=\"T_064c5262_e922_11e8_a4b6_f01898076315row0_col0\" class=\"data row0 col0\" >Cozy Home like Studio Apartment Near DFW Airport</td> \n",
       "        <td id=\"T_064c5262_e922_11e8_a4b6_f01898076315row0_col1\" class=\"data row0 col1\" >A very cozy, small studio apartment. More images of the space will be made available tonight. Just a Heads up There is no shower! only a men and women's restroom.</td> \n",
       "        <td id=\"T_064c5262_e922_11e8_a4b6_f01898076315row0_col2\" class=\"data row0 col2\" >Irving</td> \n",
       "        <td id=\"T_064c5262_e922_11e8_a4b6_f01898076315row0_col3\" class=\"data row0 col3\" >https://www.airbnb.com/rooms/16275996?location=Coppell%2C%20TX</td> \n",
       "    </tr></tbody> \n",
       "</table> "
      ],
      "text/plain": [
       "<pandas.io.formats.style.Styler at 0x1a14b481d0>"
      ]
     },
     "metadata": {},
     "output_type": "display_data"
    },
    {
     "data": {
      "text/html": [
       "<style  type=\"text/css\" >\n",
       "</style>  \n",
       "<table id=\"T_064d3358_e922_11e8_918a_f01898076315\" > \n",
       "<thead>    <tr> \n",
       "        <th class=\"blank level0\" ></th> \n",
       "        <th class=\"col_heading level0 col0\" >title</th> \n",
       "        <th class=\"col_heading level0 col1\" >description</th> \n",
       "        <th class=\"col_heading level0 col2\" >city</th> \n",
       "        <th class=\"col_heading level0 col3\" >url</th> \n",
       "    </tr></thead> \n",
       "<tbody>    <tr> \n",
       "        <th id=\"T_064d3358_e922_11e8_918a_f01898076315level0_row0\" class=\"row_heading level0 row0\" >0</th> \n",
       "        <td id=\"T_064d3358_e922_11e8_918a_f01898076315row0_col0\" class=\"data row0 col0\" >Super Bowl luxury Apartment near NRG (2Br/2Ba)</td> \n",
       "        <td id=\"T_064d3358_e922_11e8_918a_f01898076315row0_col1\" class=\"data row0 col1\" >My place is perfect for your 2017 Super Bowl Getaway. New modern centrally located apartment inside the 610 Loop, with quick access to major highways. In close proximity to NRG Stadium, Midtown Houston, Downtown Houston and Hobby Airport. The apartment is about 1000 Sq ft, wood-floors, black appliances, granite counter tops in kitchen and bathroom, marble tiles in shower, and Hi speed WiFi. \\n\\nThe complex is gated and will serve as the perfect location to your Super Bowl Weekend!!</td> \n",
       "        <td id=\"T_064d3358_e922_11e8_918a_f01898076315row0_col2\" class=\"data row0 col2\" >Houston</td> \n",
       "        <td id=\"T_064d3358_e922_11e8_918a_f01898076315row0_col3\" class=\"data row0 col3\" >https://www.airbnb.com/rooms/16907690?location=Channelview%2C%20TX</td> \n",
       "    </tr></tbody> \n",
       "</table> "
      ],
      "text/plain": [
       "<pandas.io.formats.style.Styler at 0x10e7b3940>"
      ]
     },
     "metadata": {},
     "output_type": "display_data"
    },
    {
     "data": {
      "text/html": [
       "<style  type=\"text/css\" >\n",
       "</style>  \n",
       "<table id=\"T_064df318_e922_11e8_9e0f_f01898076315\" > \n",
       "<thead>    <tr> \n",
       "        <th class=\"blank level0\" ></th> \n",
       "        <th class=\"col_heading level0 col0\" >title</th> \n",
       "        <th class=\"col_heading level0 col1\" >description</th> \n",
       "        <th class=\"col_heading level0 col2\" >city</th> \n",
       "        <th class=\"col_heading level0 col3\" >url</th> \n",
       "    </tr></thead> \n",
       "<tbody>    <tr> \n",
       "        <th id=\"T_064df318_e922_11e8_9e0f_f01898076315level0_row0\" class=\"row_heading level0 row0\" >0</th> \n",
       "        <td id=\"T_064df318_e922_11e8_9e0f_f01898076315row0_col0\" class=\"data row0 col0\" >Cozy&Comfort Private Rm. Near IAH</td> \n",
       "        <td id=\"T_064df318_e922_11e8_9e0f_f01898076315row0_col1\" class=\"data row0 col1\" >This home is essential for the person who needs to be minutes from the airport (8min) and downtown (15min).\\nLess than (1mi) from the nearest movie cinema, bowling, and eateries.\\n\\nComplimentary ride from the airport upon request.</td> \n",
       "        <td id=\"T_064df318_e922_11e8_9e0f_f01898076315row0_col2\" class=\"data row0 col2\" >Humble</td> \n",
       "        <td id=\"T_064df318_e922_11e8_9e0f_f01898076315row0_col3\" class=\"data row0 col3\" >https://www.airbnb.com/rooms/10888712?location=Atascocita%2C%20TX</td> \n",
       "    </tr></tbody> \n",
       "</table> "
      ],
      "text/plain": [
       "<pandas.io.formats.style.Styler at 0x1a14ae0f60>"
      ]
     },
     "metadata": {},
     "output_type": "display_data"
    },
    {
     "data": {
      "text/html": [
       "<style  type=\"text/css\" >\n",
       "</style>  \n",
       "<table id=\"T_064ed2c6_e922_11e8_b1bc_f01898076315\" > \n",
       "<thead>    <tr> \n",
       "        <th class=\"blank level0\" ></th> \n",
       "        <th class=\"col_heading level0 col0\" >title</th> \n",
       "        <th class=\"col_heading level0 col1\" >description</th> \n",
       "        <th class=\"col_heading level0 col2\" >city</th> \n",
       "        <th class=\"col_heading level0 col3\" >url</th> \n",
       "    </tr></thead> \n",
       "<tbody>    <tr> \n",
       "        <th id=\"T_064ed2c6_e922_11e8_b1bc_f01898076315level0_row0\" class=\"row_heading level0 row0\" >0</th> \n",
       "        <td id=\"T_064ed2c6_e922_11e8_b1bc_f01898076315row0_col0\" class=\"data row0 col0\" >Modern and Relaxing Condo Close to DFW Airport</td> \n",
       "        <td id=\"T_064ed2c6_e922_11e8_b1bc_f01898076315row0_col1\" class=\"data row0 col1\" >This cozy modern condominium is located in a quiet gated community in Irving, minutes from DFW International Airport and 10 minutes from downtown Dallas. Conveniently located near major highways.</td> \n",
       "        <td id=\"T_064ed2c6_e922_11e8_b1bc_f01898076315row0_col2\" class=\"data row0 col2\" >Irving</td> \n",
       "        <td id=\"T_064ed2c6_e922_11e8_b1bc_f01898076315row0_col3\" class=\"data row0 col3\" >https://www.airbnb.com/rooms/18735283?location=Carrollton%2C%20TX</td> \n",
       "    </tr></tbody> \n",
       "</table> "
      ],
      "text/plain": [
       "<pandas.io.formats.style.Styler at 0x1a14ae0908>"
      ]
     },
     "metadata": {},
     "output_type": "display_data"
    },
    {
     "data": {
      "text/html": [
       "<style  type=\"text/css\" >\n",
       "</style>  \n",
       "<table id=\"T_064fb93a_e922_11e8_949b_f01898076315\" > \n",
       "<thead>    <tr> \n",
       "        <th class=\"blank level0\" ></th> \n",
       "        <th class=\"col_heading level0 col0\" >title</th> \n",
       "        <th class=\"col_heading level0 col1\" >description</th> \n",
       "        <th class=\"col_heading level0 col2\" >city</th> \n",
       "        <th class=\"col_heading level0 col3\" >url</th> \n",
       "    </tr></thead> \n",
       "<tbody>    <tr> \n",
       "        <th id=\"T_064fb93a_e922_11e8_949b_f01898076315level0_row0\" class=\"row_heading level0 row0\" >0</th> \n",
       "        <td id=\"T_064fb93a_e922_11e8_949b_f01898076315row0_col0\" class=\"data row0 col0\" >Family Home</td> \n",
       "        <td id=\"T_064fb93a_e922_11e8_949b_f01898076315row0_col1\" class=\"data row0 col1\" >Beautiful Home For Family Vacation visiting Dfw Area, Airpot is 5 Minutes Drive From this Home.\\nNear Irving Mall, Dfw Airport and More Adventure's places.</td> \n",
       "        <td id=\"T_064fb93a_e922_11e8_949b_f01898076315row0_col2\" class=\"data row0 col2\" >Irving</td> \n",
       "        <td id=\"T_064fb93a_e922_11e8_949b_f01898076315row0_col3\" class=\"data row0 col3\" >https://www.airbnb.com/rooms/18539713?location=Bedford%2C%20TX</td> \n",
       "    </tr></tbody> \n",
       "</table> "
      ],
      "text/plain": [
       "<pandas.io.formats.style.Styler at 0x1a14ae08d0>"
      ]
     },
     "metadata": {},
     "output_type": "display_data"
    },
    {
     "data": {
      "text/html": [
       "<style  type=\"text/css\" >\n",
       "</style>  \n",
       "<table id=\"T_0650a734_e922_11e8_beb9_f01898076315\" > \n",
       "<thead>    <tr> \n",
       "        <th class=\"blank level0\" ></th> \n",
       "        <th class=\"col_heading level0 col0\" >title</th> \n",
       "        <th class=\"col_heading level0 col1\" >description</th> \n",
       "        <th class=\"col_heading level0 col2\" >city</th> \n",
       "        <th class=\"col_heading level0 col3\" >url</th> \n",
       "    </tr></thead> \n",
       "<tbody>    <tr> \n",
       "        <th id=\"T_0650a734_e922_11e8_beb9_f01898076315level0_row0\" class=\"row_heading level0 row0\" >0</th> \n",
       "        <td id=\"T_0650a734_e922_11e8_beb9_f01898076315row0_col0\" class=\"data row0 col0\" >R & M Roadhouse</td> \n",
       "        <td id=\"T_0650a734_e922_11e8_beb9_f01898076315row0_col1\" class=\"data row0 col1\" >Center point is conveniently located near: the Alamo, San Antonio River Walk; Schlitterbahn Waterpark; John Newcombe Tennis Ranch; historic Fredericksburg for local wines and the National Museum of the Pacific War; Camp Verde historic post office and general store; Coming King Sculpture prayer garden. \\n\\nNightlife: Live music at Gruene Hall, the oldest dance hall in Texas; Live music and dining at John T. Floore Country Store in Helotes, Tx.\\n\\nOne hour to San Antonio International Airport.</td> \n",
       "        <td id=\"T_0650a734_e922_11e8_beb9_f01898076315row0_col2\" class=\"data row0 col2\" >Center Point</td> \n",
       "        <td id=\"T_0650a734_e922_11e8_beb9_f01898076315row0_col3\" class=\"data row0 col3\" >https://www.airbnb.com/rooms/15966243?location=Center%20Point%2C%20TX</td> \n",
       "    </tr></tbody> \n",
       "</table> "
      ],
      "text/plain": [
       "<pandas.io.formats.style.Styler at 0x10e002d68>"
      ]
     },
     "metadata": {},
     "output_type": "display_data"
    },
    {
     "data": {
      "text/html": [
       "<style  type=\"text/css\" >\n",
       "</style>  \n",
       "<table id=\"T_065164a8_e922_11e8_af2c_f01898076315\" > \n",
       "<thead>    <tr> \n",
       "        <th class=\"blank level0\" ></th> \n",
       "        <th class=\"col_heading level0 col0\" >title</th> \n",
       "        <th class=\"col_heading level0 col1\" >description</th> \n",
       "        <th class=\"col_heading level0 col2\" >city</th> \n",
       "        <th class=\"col_heading level0 col3\" >url</th> \n",
       "    </tr></thead> \n",
       "<tbody>    <tr> \n",
       "        <th id=\"T_065164a8_e922_11e8_af2c_f01898076315level0_row0\" class=\"row_heading level0 row0\" >0</th> \n",
       "        <td id=\"T_065164a8_e922_11e8_af2c_f01898076315row0_col0\" class=\"data row0 col0\" >Saint Andrews Place</td> \n",
       "        <td id=\"T_065164a8_e922_11e8_af2c_f01898076315row0_col1\" class=\"data row0 col1\" >Beautiful custom estate home in the exclusive gated community of Fairway Vista in Las Colinas. Sits on the 18th fairway of the Four Seasons Byron Nelson Classic TPC golf course. Interior features include handsome wood floors, a huge wine cooler, and separate media room upstairs, with impeccable views of the fairway throughout the home. Conveniently located near DFW Airport, Las Colinas, and Dallas business centers.</td> \n",
       "        <td id=\"T_065164a8_e922_11e8_af2c_f01898076315row0_col2\" class=\"data row0 col2\" >Irving</td> \n",
       "        <td id=\"T_065164a8_e922_11e8_af2c_f01898076315row0_col3\" class=\"data row0 col3\" >https://www.airbnb.com/rooms/17927435?location=Colleyville%2C%20TX</td> \n",
       "    </tr></tbody> \n",
       "</table> "
      ],
      "text/plain": [
       "<pandas.io.formats.style.Styler at 0x1a14ae0630>"
      ]
     },
     "metadata": {},
     "output_type": "display_data"
    },
    {
     "data": {
      "text/html": [
       "<style  type=\"text/css\" >\n",
       "</style>  \n",
       "<table id=\"T_06525110_e922_11e8_9e58_f01898076315\" > \n",
       "<thead>    <tr> \n",
       "        <th class=\"blank level0\" ></th> \n",
       "        <th class=\"col_heading level0 col0\" >title</th> \n",
       "        <th class=\"col_heading level0 col1\" >description</th> \n",
       "        <th class=\"col_heading level0 col2\" >city</th> \n",
       "        <th class=\"col_heading level0 col3\" >url</th> \n",
       "    </tr></thead> \n",
       "<tbody>    <tr> \n",
       "        <th id=\"T_06525110_e922_11e8_9e58_f01898076315level0_row0\" class=\"row_heading level0 row0\" >0</th> \n",
       "        <td id=\"T_06525110_e922_11e8_9e58_f01898076315row0_col0\" class=\"data row0 col0\" >Private Bedroom and Bath in Clear lake</td> \n",
       "        <td id=\"T_06525110_e922_11e8_9e58_f01898076315row0_col1\" class=\"data row0 col1\" >My place is in a quiet neighborhood and close to several good restaurants , coffee shops, places to go, and things to do or see. We are located near NASA Space Center, University of Houston, Clear Lake, Kemah Boardwalk, Armand Bayou nature center, Hobby airport and Baybrook Mall. \\nDowntown Houston, NRG Stadium and Minute Maid Park are an easy 20 Ã¢ÂÂ 30 minute drive north of our house. Galveston Island is also less than an hour away.</td> \n",
       "        <td id=\"T_06525110_e922_11e8_9e58_f01898076315row0_col2\" class=\"data row0 col2\" >Houston</td> \n",
       "        <td id=\"T_06525110_e922_11e8_9e58_f01898076315row0_col3\" class=\"data row0 col3\" >https://www.airbnb.com/rooms/16685960?location=Beach%20City%2C%20TX</td> \n",
       "    </tr></tbody> \n",
       "</table> "
      ],
      "text/plain": [
       "<pandas.io.formats.style.Styler at 0x10e7b3978>"
      ]
     },
     "metadata": {},
     "output_type": "display_data"
    },
    {
     "data": {
      "text/html": [
       "<style  type=\"text/css\" >\n",
       "</style>  \n",
       "<table id=\"T_06531ef6_e922_11e8_b450_f01898076315\" > \n",
       "<thead>    <tr> \n",
       "        <th class=\"blank level0\" ></th> \n",
       "        <th class=\"col_heading level0 col0\" >title</th> \n",
       "        <th class=\"col_heading level0 col1\" >description</th> \n",
       "        <th class=\"col_heading level0 col2\" >city</th> \n",
       "        <th class=\"col_heading level0 col3\" >url</th> \n",
       "    </tr></thead> \n",
       "<tbody>    <tr> \n",
       "        <th id=\"T_06531ef6_e922_11e8_b450_f01898076315level0_row0\" class=\"row_heading level0 row0\" >0</th> \n",
       "        <td id=\"T_06531ef6_e922_11e8_b450_f01898076315row0_col0\" class=\"data row0 col0\" >1bdr apt. Deal!! in Great Location near uptown</td> \n",
       "        <td id=\"T_06531ef6_e922_11e8_b450_f01898076315row0_col1\" class=\"data row0 col1\" >My place is close to restaurants and dining, parks,uptown, Galleria Mall and northpark Mall , right off I75 . YouÃ¢ÂÂll love my place because of The Great location with easy access to Interstate 75. I am located 10 minutes to Downtown dallas, and about 20 mins from the DFW Airport. Love Field Airport is 15 mins away. My place is good for couples, solo adventurers, and business travelers.</td> \n",
       "        <td id=\"T_06531ef6_e922_11e8_b450_f01898076315row0_col2\" class=\"data row0 col2\" >Dallas</td> \n",
       "        <td id=\"T_06531ef6_e922_11e8_b450_f01898076315row0_col3\" class=\"data row0 col3\" >https://www.airbnb.com/rooms/16999819?location=Addison%2C%20TX</td> \n",
       "    </tr></tbody> \n",
       "</table> "
      ],
      "text/plain": [
       "<pandas.io.formats.style.Styler at 0x1a148b9c50>"
      ]
     },
     "metadata": {},
     "output_type": "display_data"
    },
    {
     "data": {
      "text/html": [
       "<style  type=\"text/css\" >\n",
       "</style>  \n",
       "<table id=\"T_0653e9d0_e922_11e8_9546_f01898076315\" > \n",
       "<thead>    <tr> \n",
       "        <th class=\"blank level0\" ></th> \n",
       "        <th class=\"col_heading level0 col0\" >title</th> \n",
       "        <th class=\"col_heading level0 col1\" >description</th> \n",
       "        <th class=\"col_heading level0 col2\" >city</th> \n",
       "        <th class=\"col_heading level0 col3\" >url</th> \n",
       "    </tr></thead> \n",
       "<tbody>    <tr> \n",
       "        <th id=\"T_0653e9d0_e922_11e8_9546_f01898076315level0_row0\" class=\"row_heading level0 row0\" >0</th> \n",
       "        <td id=\"T_0653e9d0_e922_11e8_9546_f01898076315row0_col0\" class=\"data row0 col0\" >South Austin Nook - 10 min downtown</td> \n",
       "        <td id=\"T_0653e9d0_e922_11e8_9546_f01898076315row0_col1\" class=\"data row0 col1\" >Home is near Mopac (Loop 1) for quick access to downtown and SXSW - 12 minutes and the airport -25 minutes. Nice neighborhood with lots of trees near Alamo Drafthouse, several local restaurants, Dick Nichol's Park, the veloway and Wildflower center. I also have a 2nd bedroom called the South Austin Niche. I own a cat and a dog.</td> \n",
       "        <td id=\"T_0653e9d0_e922_11e8_9546_f01898076315row0_col2\" class=\"data row0 col2\" >Austin</td> \n",
       "        <td id=\"T_0653e9d0_e922_11e8_9546_f01898076315row0_col3\" class=\"data row0 col3\" >https://www.airbnb.com/rooms/11325427?location=Buda%2C%20TX</td> \n",
       "    </tr></tbody> \n",
       "</table> "
      ],
      "text/plain": [
       "<pandas.io.formats.style.Styler at 0x1a14a85978>"
      ]
     },
     "metadata": {},
     "output_type": "display_data"
    },
    {
     "data": {
      "text/html": [
       "<style  type=\"text/css\" >\n",
       "</style>  \n",
       "<table id=\"T_0654d03e_e922_11e8_87ec_f01898076315\" > \n",
       "<thead>    <tr> \n",
       "        <th class=\"blank level0\" ></th> \n",
       "        <th class=\"col_heading level0 col0\" >title</th> \n",
       "        <th class=\"col_heading level0 col1\" >description</th> \n",
       "        <th class=\"col_heading level0 col2\" >city</th> \n",
       "        <th class=\"col_heading level0 col3\" >url</th> \n",
       "    </tr></thead> \n",
       "<tbody>    <tr> \n",
       "        <th id=\"T_0654d03e_e922_11e8_87ec_f01898076315level0_row0\" class=\"row_heading level0 row0\" >0</th> \n",
       "        <td id=\"T_0654d03e_e922_11e8_87ec_f01898076315row0_col0\" class=\"data row0 col0\" >Spacious Bedroom 5 Minutes From Airport</td> \n",
       "        <td id=\"T_0654d03e_e922_11e8_87ec_f01898076315row0_col1\" class=\"data row0 col1\" >Mere minutes from the airport in a cozy and quiet apartment with a spacious room and walk-in closet. Pillow top mattress and leather couch in your room to provide you with the best comfort during your stay. Also near several grocery stores, gym, park, etc.</td> \n",
       "        <td id=\"T_0654d03e_e922_11e8_87ec_f01898076315row0_col2\" class=\"data row0 col2\" >Euless</td> \n",
       "        <td id=\"T_0654d03e_e922_11e8_87ec_f01898076315row0_col3\" class=\"data row0 col3\" >https://www.airbnb.com/rooms/17404149?location=Colleyville%2C%20TX</td> \n",
       "    </tr></tbody> \n",
       "</table> "
      ],
      "text/plain": [
       "<pandas.io.formats.style.Styler at 0x1a14a8e390>"
      ]
     },
     "metadata": {},
     "output_type": "display_data"
    },
    {
     "data": {
      "text/html": [
       "<style  type=\"text/css\" >\n",
       "</style>  \n",
       "<table id=\"T_0655e9a6_e922_11e8_981f_f01898076315\" > \n",
       "<thead>    <tr> \n",
       "        <th class=\"blank level0\" ></th> \n",
       "        <th class=\"col_heading level0 col0\" >title</th> \n",
       "        <th class=\"col_heading level0 col1\" >description</th> \n",
       "        <th class=\"col_heading level0 col2\" >city</th> \n",
       "        <th class=\"col_heading level0 col3\" >url</th> \n",
       "    </tr></thead> \n",
       "<tbody>    <tr> \n",
       "        <th id=\"T_0655e9a6_e922_11e8_981f_f01898076315level0_row0\" class=\"row_heading level0 row0\" >0</th> \n",
       "        <td id=\"T_0655e9a6_e922_11e8_981f_f01898076315row0_col0\" class=\"data row0 col0\" >Beautiful 1 Bedroom Apartment near Airport</td> \n",
       "        <td id=\"T_0655e9a6_e922_11e8_981f_f01898076315row0_col1\" class=\"data row0 col1\" >This beautiful one bedroom apartment is in a well-kept area. Enjoy the convenience of being close to everything with easy access to airport, shopping, restaurants, and entertainment. If convenience and location are important factors in your lifestyle, you've come to the right place.\\n\\nFully equipped kitchen, vaulted ceilings, walk-in closet, ceiling fans, plush carpeting, and air conditioning, swimming pool with sun deck and beautiful landscaping are just a few of the features included.</td> \n",
       "        <td id=\"T_0655e9a6_e922_11e8_981f_f01898076315row0_col2\" class=\"data row0 col2\" >San Antonio</td> \n",
       "        <td id=\"T_0655e9a6_e922_11e8_981f_f01898076315row0_col3\" class=\"data row0 col3\" >https://www.airbnb.com/rooms/18974804?location=Bulverde%2C%20TX</td> \n",
       "    </tr></tbody> \n",
       "</table> "
      ],
      "text/plain": [
       "<pandas.io.formats.style.Styler at 0x1a14b4e630>"
      ]
     },
     "metadata": {},
     "output_type": "display_data"
    },
    {
     "data": {
      "text/html": [
       "<style  type=\"text/css\" >\n",
       "</style>  \n",
       "<table id=\"T_0656cdba_e922_11e8_a5a1_f01898076315\" > \n",
       "<thead>    <tr> \n",
       "        <th class=\"blank level0\" ></th> \n",
       "        <th class=\"col_heading level0 col0\" >title</th> \n",
       "        <th class=\"col_heading level0 col1\" >description</th> \n",
       "        <th class=\"col_heading level0 col2\" >city</th> \n",
       "        <th class=\"col_heading level0 col3\" >url</th> \n",
       "    </tr></thead> \n",
       "<tbody>    <tr> \n",
       "        <th id=\"T_0656cdba_e922_11e8_a5a1_f01898076315level0_row0\" class=\"row_heading level0 row0\" >0</th> \n",
       "        <td id=\"T_0656cdba_e922_11e8_a5a1_f01898076315row0_col0\" class=\"data row0 col0\" >Nice hilly neighborhood.</td> \n",
       "        <td id=\"T_0656cdba_e922_11e8_a5a1_f01898076315row0_col1\" class=\"data row0 col1\" >Semi-private quarter, bedroom with full bed, bathroom with shower, toilet and sink. Between airport and Medical center. Near highways 410, I10 and 281. Great for morning or evening leisure walk after a long busy day. Enjoy back yard for relaxing.</td> \n",
       "        <td id=\"T_0656cdba_e922_11e8_a5a1_f01898076315row0_col2\" class=\"data row0 col2\" >San Antonio</td> \n",
       "        <td id=\"T_0656cdba_e922_11e8_a5a1_f01898076315row0_col3\" class=\"data row0 col3\" >https://www.airbnb.com/rooms/14300922?location=Alamo%20Heights%2C%20TX</td> \n",
       "    </tr></tbody> \n",
       "</table> "
      ],
      "text/plain": [
       "<pandas.io.formats.style.Styler at 0x1a14b4ecc0>"
      ]
     },
     "metadata": {},
     "output_type": "display_data"
    },
    {
     "data": {
      "text/html": [
       "<style  type=\"text/css\" >\n",
       "</style>  \n",
       "<table id=\"T_0657b1b4_e922_11e8_bd1e_f01898076315\" > \n",
       "<thead>    <tr> \n",
       "        <th class=\"blank level0\" ></th> \n",
       "        <th class=\"col_heading level0 col0\" >title</th> \n",
       "        <th class=\"col_heading level0 col1\" >description</th> \n",
       "        <th class=\"col_heading level0 col2\" >city</th> \n",
       "        <th class=\"col_heading level0 col3\" >url</th> \n",
       "    </tr></thead> \n",
       "<tbody>    <tr> \n",
       "        <th id=\"T_0657b1b4_e922_11e8_bd1e_f01898076315level0_row0\" class=\"row_heading level0 row0\" >0</th> \n",
       "        <td id=\"T_0657b1b4_e922_11e8_bd1e_f01898076315row0_col0\" class=\"data row0 col0\" >Convenient location near Love Field and Uptown</td> \n",
       "        <td id=\"T_0657b1b4_e922_11e8_bd1e_f01898076315row0_col1\" class=\"data row0 col1\" >A cozy style apartment that is perfect for a stay in Dallas! Whether it be one night or one month, this apartment has everything you need! \\n\\nYou will be located in Oak Lawn area near many restaurants, shops, bars, and parks. Just a 5 minute drive to Love Field Airport and Uptown. Deep Ellum and Downtown area are about 10-15 minutes away.</td> \n",
       "        <td id=\"T_0657b1b4_e922_11e8_bd1e_f01898076315row0_col2\" class=\"data row0 col2\" >Dallas</td> \n",
       "        <td id=\"T_0657b1b4_e922_11e8_bd1e_f01898076315row0_col3\" class=\"data row0 col3\" >https://www.airbnb.com/rooms/18250329?location=Carrollton%2C%20TX</td> \n",
       "    </tr></tbody> \n",
       "</table> "
      ],
      "text/plain": [
       "<pandas.io.formats.style.Styler at 0x1a124a64e0>"
      ]
     },
     "metadata": {},
     "output_type": "display_data"
    },
    {
     "data": {
      "text/html": [
       "<style  type=\"text/css\" >\n",
       "</style>  \n",
       "<table id=\"T_0658770c_e922_11e8_a3ff_f01898076315\" > \n",
       "<thead>    <tr> \n",
       "        <th class=\"blank level0\" ></th> \n",
       "        <th class=\"col_heading level0 col0\" >title</th> \n",
       "        <th class=\"col_heading level0 col1\" >description</th> \n",
       "        <th class=\"col_heading level0 col2\" >city</th> \n",
       "        <th class=\"col_heading level0 col3\" >url</th> \n",
       "    </tr></thead> \n",
       "<tbody>    <tr> \n",
       "        <th id=\"T_0658770c_e922_11e8_a3ff_f01898076315level0_row0\" class=\"row_heading level0 row0\" >0</th> \n",
       "        <td id=\"T_0658770c_e922_11e8_a3ff_f01898076315row0_col0\" class=\"data row0 col0\" >Valley Ranch / Irving home</td> \n",
       "        <td id=\"T_0658770c_e922_11e8_a3ff_f01898076315row0_col1\" class=\"data row0 col1\" >My place is close to family-friendly activities, such as the park and library, an international airport, entertainment venues and sports centers, . YouÃ¢ÂÂll love my place because of the ambiance, the convenience. It is a perfect location near almost\\n everything!</td> \n",
       "        <td id=\"T_0658770c_e922_11e8_a3ff_f01898076315row0_col2\" class=\"data row0 col2\" >Irving</td> \n",
       "        <td id=\"T_0658770c_e922_11e8_a3ff_f01898076315row0_col3\" class=\"data row0 col3\" >https://www.airbnb.com/rooms/14692959?location=Coppell%2C%20TX</td> \n",
       "    </tr></tbody> \n",
       "</table> "
      ],
      "text/plain": [
       "<pandas.io.formats.style.Styler at 0x1a14b48908>"
      ]
     },
     "metadata": {},
     "output_type": "display_data"
    },
    {
     "data": {
      "text/html": [
       "<style  type=\"text/css\" >\n",
       "</style>  \n",
       "<table id=\"T_06594178_e922_11e8_97bf_f01898076315\" > \n",
       "<thead>    <tr> \n",
       "        <th class=\"blank level0\" ></th> \n",
       "        <th class=\"col_heading level0 col0\" >title</th> \n",
       "        <th class=\"col_heading level0 col1\" >description</th> \n",
       "        <th class=\"col_heading level0 col2\" >city</th> \n",
       "        <th class=\"col_heading level0 col3\" >url</th> \n",
       "    </tr></thead> \n",
       "<tbody>    <tr> \n",
       "        <th id=\"T_06594178_e922_11e8_97bf_f01898076315level0_row0\" class=\"row_heading level0 row0\" >0</th> \n",
       "        <td id=\"T_06594178_e922_11e8_97bf_f01898076315row0_col0\" class=\"data row0 col0\" >Room of Fame</td> \n",
       "        <td id=\"T_06594178_e922_11e8_97bf_f01898076315row0_col1\" class=\"data row0 col1\" >Welcome to our place, we are close to DFW Airport (10 mins) and Love Field (25 mins) Irving has many fine restaurants and dining, family-friendly activities, and nightlife. \\nIrving is traversed by numerous highways. The Airport Freeway, TX- 183, Interstate 635 , Highway 114 and the President George Bush Turnpike, The Las Colinas area is centered near the intersection of 114 and the George Bush turnpike</td> \n",
       "        <td id=\"T_06594178_e922_11e8_97bf_f01898076315row0_col2\" class=\"data row0 col2\" >Irving</td> \n",
       "        <td id=\"T_06594178_e922_11e8_97bf_f01898076315row0_col3\" class=\"data row0 col3\" >https://www.airbnb.com/rooms/17134344?location=Coppell%2C%20TX</td> \n",
       "    </tr></tbody> \n",
       "</table> "
      ],
      "text/plain": [
       "<pandas.io.formats.style.Styler at 0x1a14b489e8>"
      ]
     },
     "metadata": {},
     "output_type": "display_data"
    },
    {
     "data": {
      "text/html": [
       "<style  type=\"text/css\" >\n",
       "</style>  \n",
       "<table id=\"T_065a2d86_e922_11e8_b6e2_f01898076315\" > \n",
       "<thead>    <tr> \n",
       "        <th class=\"blank level0\" ></th> \n",
       "        <th class=\"col_heading level0 col0\" >title</th> \n",
       "        <th class=\"col_heading level0 col1\" >description</th> \n",
       "        <th class=\"col_heading level0 col2\" >city</th> \n",
       "        <th class=\"col_heading level0 col3\" >url</th> \n",
       "    </tr></thead> \n",
       "<tbody>    <tr> \n",
       "        <th id=\"T_065a2d86_e922_11e8_b6e2_f01898076315level0_row0\" class=\"row_heading level0 row0\" >0</th> \n",
       "        <td id=\"T_065a2d86_e922_11e8_b6e2_f01898076315row0_col0\" class=\"data row0 col0\" >Flying ~A~ Ranch </td> \n",
       "        <td id=\"T_065a2d86_e922_11e8_b6e2_f01898076315row0_col1\" class=\"data row0 col1\" >Fully Furnished \\n800sqft Bed Breakfast \\nNear Alliance Airport \\nTexas Motor Speedway\\nI-35 &amp; HWY 170\\nUnique Dinning / Shopping\\n3 acre Lot \\nGated community AirPark\\nGREAT SUNSETS / Views\\nFly-In Welcome \\nEasy Access to ALL DFW area!! \\nWi-Fi</td> \n",
       "        <td id=\"T_065a2d86_e922_11e8_b6e2_f01898076315row0_col2\" class=\"data row0 col2\" >Fort Worth</td> \n",
       "        <td id=\"T_065a2d86_e922_11e8_b6e2_f01898076315row0_col3\" class=\"data row0 col3\" >https://www.airbnb.com/rooms/3990995?location=Colleyville%2C%20TX</td> \n",
       "    </tr></tbody> \n",
       "</table> "
      ],
      "text/plain": [
       "<pandas.io.formats.style.Styler at 0x10b9a6eb8>"
      ]
     },
     "metadata": {},
     "output_type": "display_data"
    },
    {
     "data": {
      "text/html": [
       "<style  type=\"text/css\" >\n",
       "</style>  \n",
       "<table id=\"T_065ae762_e922_11e8_ae75_f01898076315\" > \n",
       "<thead>    <tr> \n",
       "        <th class=\"blank level0\" ></th> \n",
       "        <th class=\"col_heading level0 col0\" >title</th> \n",
       "        <th class=\"col_heading level0 col1\" >description</th> \n",
       "        <th class=\"col_heading level0 col2\" >city</th> \n",
       "        <th class=\"col_heading level0 col3\" >url</th> \n",
       "    </tr></thead> \n",
       "<tbody>    <tr> \n",
       "        <th id=\"T_065ae762_e922_11e8_ae75_f01898076315level0_row0\" class=\"row_heading level0 row0\" >0</th> \n",
       "        <td id=\"T_065ae762_e922_11e8_ae75_f01898076315row0_col0\" class=\"data row0 col0\" >Historic Grapevine</td> \n",
       "        <td id=\"T_065ae762_e922_11e8_ae75_f01898076315row0_col1\" class=\"data row0 col1\" >Private Front Bedroom and Bath on ground floor with Kitchen Privileges in a new home 1 mile from Grapevine Main Street. Near lots of Restaurants, Texan Gaylord Hotel, Great Wolf Lodge, Wineries and Antique Shopping. Patio can be used. Owners live on premise. 10 minutes from DFW Airport.</td> \n",
       "        <td id=\"T_065ae762_e922_11e8_ae75_f01898076315row0_col2\" class=\"data row0 col2\" >Grapevine</td> \n",
       "        <td id=\"T_065ae762_e922_11e8_ae75_f01898076315row0_col3\" class=\"data row0 col3\" >https://www.airbnb.com/rooms/13135346?location=Bedford%2C%20TX</td> \n",
       "    </tr></tbody> \n",
       "</table> "
      ],
      "text/plain": [
       "<pandas.io.formats.style.Styler at 0x1a14ae09e8>"
      ]
     },
     "metadata": {},
     "output_type": "display_data"
    },
    {
     "data": {
      "text/html": [
       "<style  type=\"text/css\" >\n",
       "</style>  \n",
       "<table id=\"T_065bb5b6_e922_11e8_aac3_f01898076315\" > \n",
       "<thead>    <tr> \n",
       "        <th class=\"blank level0\" ></th> \n",
       "        <th class=\"col_heading level0 col0\" >title</th> \n",
       "        <th class=\"col_heading level0 col1\" >description</th> \n",
       "        <th class=\"col_heading level0 col2\" >city</th> \n",
       "        <th class=\"col_heading level0 col3\" >url</th> \n",
       "    </tr></thead> \n",
       "<tbody>    <tr> \n",
       "        <th id=\"T_065bb5b6_e922_11e8_aac3_f01898076315level0_row0\" class=\"row_heading level0 row0\" >0</th> \n",
       "        <td id=\"T_065bb5b6_e922_11e8_aac3_f01898076315row0_col0\" class=\"data row0 col0\" >Downtown/Deep Ellum Great Location</td> \n",
       "        <td id=\"T_065bb5b6_e922_11e8_aac3_f01898076315row0_col1\" class=\"data row0 col1\" >Apartment is located in Deep Ellum a neighborhood composed largely of arts and entertainment venues near downtown. Can walk to many entertainment and food venues in Deep Ellum (10 min walk) or Downtown. Deep Ellum Dart Light Rail Station is 1,000 feet from APT with easy airport access. 1 mile Uber to Uptown (Shopping and Restaurants). AMAZINGLY LOCATED\\nComplete bottom floor of 3 floor apartment is yours. Private bathroom with backyard &amp; terrace, Queen size bed idea for 2 guests, will consider 3</td> \n",
       "        <td id=\"T_065bb5b6_e922_11e8_aac3_f01898076315row0_col2\" class=\"data row0 col2\" >Dallas</td> \n",
       "        <td id=\"T_065bb5b6_e922_11e8_aac3_f01898076315row0_col3\" class=\"data row0 col3\" >https://www.airbnb.com/rooms/16353509?location=Arlington%2C%20TX</td> \n",
       "    </tr></tbody> \n",
       "</table> "
      ],
      "text/plain": [
       "<pandas.io.formats.style.Styler at 0x1a14ae01d0>"
      ]
     },
     "metadata": {},
     "output_type": "display_data"
    },
    {
     "data": {
      "text/html": [
       "<style  type=\"text/css\" >\n",
       "</style>  \n",
       "<table id=\"T_065c95a8_e922_11e8_8262_f01898076315\" > \n",
       "<thead>    <tr> \n",
       "        <th class=\"blank level0\" ></th> \n",
       "        <th class=\"col_heading level0 col0\" >title</th> \n",
       "        <th class=\"col_heading level0 col1\" >description</th> \n",
       "        <th class=\"col_heading level0 col2\" >city</th> \n",
       "        <th class=\"col_heading level0 col3\" >url</th> \n",
       "    </tr></thead> \n",
       "<tbody>    <tr> \n",
       "        <th id=\"T_065c95a8_e922_11e8_8262_f01898076315level0_row0\" class=\"row_heading level0 row0\" >0</th> \n",
       "        <td id=\"T_065c95a8_e922_11e8_8262_f01898076315row0_col0\" class=\"data row0 col0\" >Beautiful 4 Br/4 Ba Home Near Major Highways</td> \n",
       "        <td id=\"T_065c95a8_e922_11e8_8262_f01898076315row0_col1\" class=\"data row0 col1\" >My home is in a very family oriented neighborhood with access to major highways (2 miles to 75 and 4 miles to 121); 45 minutes to DFW and Dallas Love airports and 45 minutes to downtown Dallas. Enjoy an amazing range of shopping within 10-20 minutes - Premium Outlet Mall, Stonebriar Mall and Watters Creek. Great for couples, solo adventurers, business travelers and families (with kids). NO PARTIES!</td> \n",
       "        <td id=\"T_065c95a8_e922_11e8_8262_f01898076315row0_col2\" class=\"data row0 col2\" >Allen</td> \n",
       "        <td id=\"T_065c95a8_e922_11e8_8262_f01898076315row0_col3\" class=\"data row0 col3\" >https://www.airbnb.com/rooms/9793383?location=Allen%2C%20TX</td> \n",
       "    </tr></tbody> \n",
       "</table> "
      ],
      "text/plain": [
       "<pandas.io.formats.style.Styler at 0x1a14b4e748>"
      ]
     },
     "metadata": {},
     "output_type": "display_data"
    },
    {
     "data": {
      "text/html": [
       "<style  type=\"text/css\" >\n",
       "</style>  \n",
       "<table id=\"T_065d6dac_e922_11e8_8d73_f01898076315\" > \n",
       "<thead>    <tr> \n",
       "        <th class=\"blank level0\" ></th> \n",
       "        <th class=\"col_heading level0 col0\" >title</th> \n",
       "        <th class=\"col_heading level0 col1\" >description</th> \n",
       "        <th class=\"col_heading level0 col2\" >city</th> \n",
       "        <th class=\"col_heading level0 col3\" >url</th> \n",
       "    </tr></thead> \n",
       "<tbody>    <tr> \n",
       "        <th id=\"T_065d6dac_e922_11e8_8d73_f01898076315level0_row0\" class=\"row_heading level0 row0\" >0</th> \n",
       "        <td id=\"T_065d6dac_e922_11e8_8d73_f01898076315row0_col0\" class=\"data row0 col0\" >East End Studio near Downtown</td> \n",
       "        <td id=\"T_065d6dac_e922_11e8_8d73_f01898076315row0_col1\" class=\"data row0 col1\" >Upstairs garage apartment in historic East End neighborhood. Quiet except for the occasional fast car, fiesta or train horn. Close to downtown, Hobby Airport and the University of Houston. Queen bed and a queen sleeper sofa to sleep a total of 4 adults. Pack and Play for a baby or toddler if needed. Full kitchen and full bathroom. Table seats 4 for eating or working. Free Wifi. No TV. Shared washer and dryer in the garage. Steep driveway so street parking only.</td> \n",
       "        <td id=\"T_065d6dac_e922_11e8_8d73_f01898076315row0_col2\" class=\"data row0 col2\" >Houston</td> \n",
       "        <td id=\"T_065d6dac_e922_11e8_8d73_f01898076315row0_col3\" class=\"data row0 col3\" >https://www.airbnb.com/rooms/14414947?location=Alvin%2C%20TX</td> \n",
       "    </tr></tbody> \n",
       "</table> "
      ],
      "text/plain": [
       "<pandas.io.formats.style.Styler at 0x1a1295ff60>"
      ]
     },
     "metadata": {},
     "output_type": "display_data"
    },
    {
     "data": {
      "text/html": [
       "<style  type=\"text/css\" >\n",
       "</style>  \n",
       "<table id=\"T_065e3dd8_e922_11e8_bc9d_f01898076315\" > \n",
       "<thead>    <tr> \n",
       "        <th class=\"blank level0\" ></th> \n",
       "        <th class=\"col_heading level0 col0\" >title</th> \n",
       "        <th class=\"col_heading level0 col1\" >description</th> \n",
       "        <th class=\"col_heading level0 col2\" >city</th> \n",
       "        <th class=\"col_heading level0 col3\" >url</th> \n",
       "    </tr></thead> \n",
       "<tbody>    <tr> \n",
       "        <th id=\"T_065e3dd8_e922_11e8_bc9d_f01898076315level0_row0\" class=\"row_heading level0 row0\" >0</th> \n",
       "        <td id=\"T_065e3dd8_e922_11e8_bc9d_f01898076315row0_col0\" class=\"data row0 col0\" >Room of Fame</td> \n",
       "        <td id=\"T_065e3dd8_e922_11e8_bc9d_f01898076315row0_col1\" class=\"data row0 col1\" >Welcome to our place, we are close to DFW Airport (10 mins) and Love Field (25 mins) Irving has many fine restaurants and dining, family-friendly activities, and nightlife. \\nIrving is traversed by numerous highways. The Airport Freeway, TX- 183, Interstate 635 , Highway 114 and the President George Bush Turnpike, The Las Colinas area is centered near the intersection of 114 and the George Bush turnpike</td> \n",
       "        <td id=\"T_065e3dd8_e922_11e8_bc9d_f01898076315row0_col2\" class=\"data row0 col2\" >Irving</td> \n",
       "        <td id=\"T_065e3dd8_e922_11e8_bc9d_f01898076315row0_col3\" class=\"data row0 col3\" >https://www.airbnb.com/rooms/17134344?location=Carrollton%2C%20TX</td> \n",
       "    </tr></tbody> \n",
       "</table> "
      ],
      "text/plain": [
       "<pandas.io.formats.style.Styler at 0x1a14ae09e8>"
      ]
     },
     "metadata": {},
     "output_type": "display_data"
    },
    {
     "data": {
      "text/html": [
       "<style  type=\"text/css\" >\n",
       "</style>  \n",
       "<table id=\"T_065f5324_e922_11e8_8ba1_f01898076315\" > \n",
       "<thead>    <tr> \n",
       "        <th class=\"blank level0\" ></th> \n",
       "        <th class=\"col_heading level0 col0\" >title</th> \n",
       "        <th class=\"col_heading level0 col1\" >description</th> \n",
       "        <th class=\"col_heading level0 col2\" >city</th> \n",
       "        <th class=\"col_heading level0 col3\" >url</th> \n",
       "    </tr></thead> \n",
       "<tbody>    <tr> \n",
       "        <th id=\"T_065f5324_e922_11e8_8ba1_f01898076315level0_row0\" class=\"row_heading level0 row0\" >0</th> \n",
       "        <td id=\"T_065f5324_e922_11e8_8ba1_f01898076315row0_col0\" class=\"data row0 col0\" >Private Room near Airport/Stadium/AA Training</td> \n",
       "        <td id=\"T_065f5324_e922_11e8_8ba1_f01898076315row0_col1\" class=\"data row0 col1\" >You'll love my place, a two-story house in a perfect mid-cities location between Dallas and Fort Worth. \\n\\n5 minutes from AA Training Center.\\n8 minutes from DFW International Airport and rail station. \\n20 minutes from Love Field airport and downtown/uptown Dallas, American Airlines Center, AT&amp;T Cowboy Stadium, Six Flags, Ranger Stadium, Grapevine Mills Mall, Southlake, Texas Motor Speedway.</td> \n",
       "        <td id=\"T_065f5324_e922_11e8_8ba1_f01898076315row0_col2\" class=\"data row0 col2\" >Euless</td> \n",
       "        <td id=\"T_065f5324_e922_11e8_8ba1_f01898076315row0_col3\" class=\"data row0 col3\" >https://www.airbnb.com/rooms/16872604?location=Burleson%2C%20TX</td> \n",
       "    </tr></tbody> \n",
       "</table> "
      ],
      "text/plain": [
       "<pandas.io.formats.style.Styler at 0x10a5c09b0>"
      ]
     },
     "metadata": {},
     "output_type": "display_data"
    },
    {
     "data": {
      "text/html": [
       "<style  type=\"text/css\" >\n",
       "</style>  \n",
       "<table id=\"T_0660268c_e922_11e8_a905_f01898076315\" > \n",
       "<thead>    <tr> \n",
       "        <th class=\"blank level0\" ></th> \n",
       "        <th class=\"col_heading level0 col0\" >title</th> \n",
       "        <th class=\"col_heading level0 col1\" >description</th> \n",
       "        <th class=\"col_heading level0 col2\" >city</th> \n",
       "        <th class=\"col_heading level0 col3\" >url</th> \n",
       "    </tr></thead> \n",
       "<tbody>    <tr> \n",
       "        <th id=\"T_0660268c_e922_11e8_a905_f01898076315level0_row0\" class=\"row_heading level0 row0\" >0</th> \n",
       "        <td id=\"T_0660268c_e922_11e8_a905_f01898076315row0_col0\" class=\"data row0 col0\" >Modern Comfort and Entertainment</td> \n",
       "        <td id=\"T_0660268c_e922_11e8_a905_f01898076315row0_col1\" class=\"data row0 col1\" >Location is key with this stunning 4 bed / 2.5 bath well-maintained home located in the highly desirable neighborhood of Bulverde Village. \\n\\nLike to entertain when in S.A.? There is a huge patio with special yard lighting, pergola and bbq pit. \\n\\n\\nLocation is five minutes away from The Village Shopping Center at Stone Oak with an Alamo Drafthouse Cinema, multiple shops, and restaurants near by. Additionally, Walmart, Costco, HEB, a few malls and the international airport only 15 minutes away.</td> \n",
       "        <td id=\"T_0660268c_e922_11e8_a905_f01898076315row0_col2\" class=\"data row0 col2\" >San Antonio</td> \n",
       "        <td id=\"T_0660268c_e922_11e8_a905_f01898076315row0_col3\" class=\"data row0 col3\" >https://www.airbnb.com/rooms/19114219?location=Bulverde%2C%20TX</td> \n",
       "    </tr></tbody> \n",
       "</table> "
      ],
      "text/plain": [
       "<pandas.io.formats.style.Styler at 0x1a14b486a0>"
      ]
     },
     "metadata": {},
     "output_type": "display_data"
    },
    {
     "data": {
      "text/html": [
       "<style  type=\"text/css\" >\n",
       "</style>  \n",
       "<table id=\"T_0660f8f0_e922_11e8_8673_f01898076315\" > \n",
       "<thead>    <tr> \n",
       "        <th class=\"blank level0\" ></th> \n",
       "        <th class=\"col_heading level0 col0\" >title</th> \n",
       "        <th class=\"col_heading level0 col1\" >description</th> \n",
       "        <th class=\"col_heading level0 col2\" >city</th> \n",
       "        <th class=\"col_heading level0 col3\" >url</th> \n",
       "    </tr></thead> \n",
       "<tbody>    <tr> \n",
       "        <th id=\"T_0660f8f0_e922_11e8_8673_f01898076315level0_row0\" class=\"row_heading level0 row0\" >0</th> \n",
       "        <td id=\"T_0660f8f0_e922_11e8_8673_f01898076315row0_col0\" class=\"data row0 col0\" >beautiful house near dfw airport</td> \n",
       "        <td id=\"T_0660f8f0_e922_11e8_8673_f01898076315row0_col1\" class=\"data row0 col1\" >ideal location- across the street from the train, 15 mins from the airport, and right between dallas and fort worth so you can get the best of both worlds! \\n\\n7 mins from large shopping mall, tons of restaurants, walmart, etc.</td> \n",
       "        <td id=\"T_0660f8f0_e922_11e8_8673_f01898076315row0_col2\" class=\"data row0 col2\" >Hurst</td> \n",
       "        <td id=\"T_0660f8f0_e922_11e8_8673_f01898076315row0_col3\" class=\"data row0 col3\" >https://www.airbnb.com/rooms/2350635?location=Brazos%20River%2C%20TX</td> \n",
       "    </tr></tbody> \n",
       "</table> "
      ],
      "text/plain": [
       "<pandas.io.formats.style.Styler at 0x1a148b9c50>"
      ]
     },
     "metadata": {},
     "output_type": "display_data"
    },
    {
     "data": {
      "text/html": [
       "<style  type=\"text/css\" >\n",
       "</style>  \n",
       "<table id=\"T_0661e1ca_e922_11e8_809b_f01898076315\" > \n",
       "<thead>    <tr> \n",
       "        <th class=\"blank level0\" ></th> \n",
       "        <th class=\"col_heading level0 col0\" >title</th> \n",
       "        <th class=\"col_heading level0 col1\" >description</th> \n",
       "        <th class=\"col_heading level0 col2\" >city</th> \n",
       "        <th class=\"col_heading level0 col3\" >url</th> \n",
       "    </tr></thead> \n",
       "<tbody>    <tr> \n",
       "        <th id=\"T_0661e1ca_e922_11e8_809b_f01898076315level0_row0\" class=\"row_heading level0 row0\" >0</th> \n",
       "        <td id=\"T_0661e1ca_e922_11e8_809b_f01898076315row0_col0\" class=\"data row0 col0\" >Great, private bedroom/bath near DFW airport</td> \n",
       "        <td id=\"T_0661e1ca_e922_11e8_809b_f01898076315row0_col1\" class=\"data row0 col1\" >Top floor condominium overlooking all of Las Colinas. Central to everything including major highways, restaurants, DFW/Love airport, bars, shopping, and grocery stores. Fully furnished, private bedroom and bath, with everything you might need during your stay~</td> \n",
       "        <td id=\"T_0661e1ca_e922_11e8_809b_f01898076315row0_col2\" class=\"data row0 col2\" >Irving</td> \n",
       "        <td id=\"T_0661e1ca_e922_11e8_809b_f01898076315row0_col3\" class=\"data row0 col3\" >https://www.airbnb.com/rooms/13335834?location=Coppell%2C%20TX</td> \n",
       "    </tr></tbody> \n",
       "</table> "
      ],
      "text/plain": [
       "<pandas.io.formats.style.Styler at 0x1a14a8eb00>"
      ]
     },
     "metadata": {},
     "output_type": "display_data"
    },
    {
     "data": {
      "text/html": [
       "<style  type=\"text/css\" >\n",
       "</style>  \n",
       "<table id=\"T_06629c5a_e922_11e8_8dc6_f01898076315\" > \n",
       "<thead>    <tr> \n",
       "        <th class=\"blank level0\" ></th> \n",
       "        <th class=\"col_heading level0 col0\" >title</th> \n",
       "        <th class=\"col_heading level0 col1\" >description</th> \n",
       "        <th class=\"col_heading level0 col2\" >city</th> \n",
       "        <th class=\"col_heading level0 col3\" >url</th> \n",
       "    </tr></thead> \n",
       "<tbody>    <tr> \n",
       "        <th id=\"T_06629c5a_e922_11e8_8dc6_f01898076315level0_row0\" class=\"row_heading level0 row0\" >0</th> \n",
       "        <td id=\"T_06629c5a_e922_11e8_8dc6_f01898076315row0_col0\" class=\"data row0 col0\" >Private Room Near the Airports</td> \n",
       "        <td id=\"T_06629c5a_e922_11e8_8dc6_f01898076315row0_col1\" class=\"data row0 col1\" >One of three private rooms in a two story home located in a nice and quiet neighborhood. Close to major highways. Easy access to entire Dallas/Fort Worth area. Very close to DFW airport and not far from Love Field Airport either. Walking distance to a park, a movie theater, many shopping venues (including grocery store and department store) and many restaurants (0.5-1.0 mile). The house is bright and airy with high ceiling. Good Wi-Fi connection. Full kitchen/laundry room access .</td> \n",
       "        <td id=\"T_06629c5a_e922_11e8_8dc6_f01898076315row0_col2\" class=\"data row0 col2\" >Irving</td> \n",
       "        <td id=\"T_06629c5a_e922_11e8_8dc6_f01898076315row0_col3\" class=\"data row0 col3\" >https://www.airbnb.com/rooms/13602580?location=Colleyville%2C%20TX</td> \n",
       "    </tr></tbody> \n",
       "</table> "
      ],
      "text/plain": [
       "<pandas.io.formats.style.Styler at 0x1a14b5cb38>"
      ]
     },
     "metadata": {},
     "output_type": "display_data"
    },
    {
     "data": {
      "text/html": [
       "<style  type=\"text/css\" >\n",
       "</style>  \n",
       "<table id=\"T_06636ea8_e922_11e8_83d7_f01898076315\" > \n",
       "<thead>    <tr> \n",
       "        <th class=\"blank level0\" ></th> \n",
       "        <th class=\"col_heading level0 col0\" >title</th> \n",
       "        <th class=\"col_heading level0 col1\" >description</th> \n",
       "        <th class=\"col_heading level0 col2\" >city</th> \n",
       "        <th class=\"col_heading level0 col3\" >url</th> \n",
       "    </tr></thead> \n",
       "<tbody>    <tr> \n",
       "        <th id=\"T_06636ea8_e922_11e8_83d7_f01898076315level0_row0\" class=\"row_heading level0 row0\" >0</th> \n",
       "        <td id=\"T_06636ea8_e922_11e8_83d7_f01898076315row0_col0\" class=\"data row0 col0\" >Spacious Bedroom 5 Minutes From Airport</td> \n",
       "        <td id=\"T_06636ea8_e922_11e8_83d7_f01898076315row0_col1\" class=\"data row0 col1\" >Mere minutes from the airport in a cozy and quiet apartment with a spacious room and walk-in closet. Pillow top mattress and leather couch in your room to provide you with the best comfort during your stay. Also near several grocery stores, gym, park, etc.</td> \n",
       "        <td id=\"T_06636ea8_e922_11e8_83d7_f01898076315row0_col2\" class=\"data row0 col2\" >Euless</td> \n",
       "        <td id=\"T_06636ea8_e922_11e8_83d7_f01898076315row0_col3\" class=\"data row0 col3\" >https://www.airbnb.com/rooms/17404149?location=Bedford%2C%20TX</td> \n",
       "    </tr></tbody> \n",
       "</table> "
      ],
      "text/plain": [
       "<pandas.io.formats.style.Styler at 0x1a124a6a90>"
      ]
     },
     "metadata": {},
     "output_type": "display_data"
    },
    {
     "data": {
      "text/html": [
       "<style  type=\"text/css\" >\n",
       "</style>  \n",
       "<table id=\"T_06644712_e922_11e8_beab_f01898076315\" > \n",
       "<thead>    <tr> \n",
       "        <th class=\"blank level0\" ></th> \n",
       "        <th class=\"col_heading level0 col0\" >title</th> \n",
       "        <th class=\"col_heading level0 col1\" >description</th> \n",
       "        <th class=\"col_heading level0 col2\" >city</th> \n",
       "        <th class=\"col_heading level0 col3\" >url</th> \n",
       "    </tr></thead> \n",
       "<tbody>    <tr> \n",
       "        <th id=\"T_06644712_e922_11e8_beab_f01898076315level0_row0\" class=\"row_heading level0 row0\" >0</th> \n",
       "        <td id=\"T_06644712_e922_11e8_beab_f01898076315row0_col0\" class=\"data row0 col0\" >Home away from Home.</td> \n",
       "        <td id=\"T_06644712_e922_11e8_beab_f01898076315row0_col1\" class=\"data row0 col1\" >My best friend is my co-host &amp; she runs it. Reasonably priced lower than a hotel night. This will be a 5 STAR experience for you. Sleep in late, checkout at noon. Clean &amp; comfy private room and restroom for a night in Houston. 20 minutes from IAH airport. Just seconds away from gas stations/restaurants/shopping strips/movie theater &amp; a bowling alley near by... plenty of options to choose from, very convenient!</td> \n",
       "        <td id=\"T_06644712_e922_11e8_beab_f01898076315row0_col2\" class=\"data row0 col2\" >Humble</td> \n",
       "        <td id=\"T_06644712_e922_11e8_beab_f01898076315row0_col3\" class=\"data row0 col3\" >https://www.airbnb.com/rooms/18997638?location=Baytown%2C%20TX</td> \n",
       "    </tr></tbody> \n",
       "</table> "
      ],
      "text/plain": [
       "<pandas.io.formats.style.Styler at 0x1a14b480b8>"
      ]
     },
     "metadata": {},
     "output_type": "display_data"
    },
    {
     "data": {
      "text/html": [
       "<style  type=\"text/css\" >\n",
       "</style>  \n",
       "<table id=\"T_0665063e_e922_11e8_869a_f01898076315\" > \n",
       "<thead>    <tr> \n",
       "        <th class=\"blank level0\" ></th> \n",
       "        <th class=\"col_heading level0 col0\" >title</th> \n",
       "        <th class=\"col_heading level0 col1\" >description</th> \n",
       "        <th class=\"col_heading level0 col2\" >city</th> \n",
       "        <th class=\"col_heading level0 col3\" >url</th> \n",
       "    </tr></thead> \n",
       "<tbody>    <tr> \n",
       "        <th id=\"T_0665063e_e922_11e8_869a_f01898076315level0_row0\" class=\"row_heading level0 row0\" >0</th> \n",
       "        <td id=\"T_0665063e_e922_11e8_869a_f01898076315row0_col0\" class=\"data row0 col0\" >One bedroom with en-suite bath in bright condo</td> \n",
       "        <td id=\"T_0665063e_e922_11e8_869a_f01898076315row0_col1\" class=\"data row0 col1\" >Bedroom 2 in our condo which is located 10 minutes (6 miles) from DFW, 20 minutes (14 miles) to Love Field Airport, and 20 minutes to downtown with high access very close by. Located strategically near shopping and restaurants. Irving Mall is 5 minutes away. Public transport (bus route) is right by the community entrance, and most everything else is a short Uber/Lyft ride away.</td> \n",
       "        <td id=\"T_0665063e_e922_11e8_869a_f01898076315row0_col2\" class=\"data row0 col2\" >Irving</td> \n",
       "        <td id=\"T_0665063e_e922_11e8_869a_f01898076315row0_col3\" class=\"data row0 col3\" >https://www.airbnb.com/rooms/19209799?location=Bedford%2C%20TX</td> \n",
       "    </tr></tbody> \n",
       "</table> "
      ],
      "text/plain": [
       "<pandas.io.formats.style.Styler at 0x10e1183c8>"
      ]
     },
     "metadata": {},
     "output_type": "display_data"
    },
    {
     "data": {
      "text/html": [
       "<style  type=\"text/css\" >\n",
       "</style>  \n",
       "<table id=\"T_0665bd5e_e922_11e8_8334_f01898076315\" > \n",
       "<thead>    <tr> \n",
       "        <th class=\"blank level0\" ></th> \n",
       "        <th class=\"col_heading level0 col0\" >title</th> \n",
       "        <th class=\"col_heading level0 col1\" >description</th> \n",
       "        <th class=\"col_heading level0 col2\" >city</th> \n",
       "        <th class=\"col_heading level0 col3\" >url</th> \n",
       "    </tr></thead> \n",
       "<tbody>    <tr> \n",
       "        <th id=\"T_0665bd5e_e922_11e8_8334_f01898076315level0_row0\" class=\"row_heading level0 row0\" >0</th> \n",
       "        <td id=\"T_0665bd5e_e922_11e8_8334_f01898076315row0_col0\" class=\"data row0 col0\" >1bdr apt. Deal!! in Great Location near uptown</td> \n",
       "        <td id=\"T_0665bd5e_e922_11e8_8334_f01898076315row0_col1\" class=\"data row0 col1\" >My place is close to restaurants and dining, parks,uptown, Galleria Mall and northpark Mall , right off I75 . YouÃ¢ÂÂll love my place because of The Great location with easy access to Interstate 75. I am located 10 minutes to Downtown dallas, and about 20 mins from the DFW Airport. Love Field Airport is 15 mins away. My place is good for couples, solo adventurers, and business travelers.</td> \n",
       "        <td id=\"T_0665bd5e_e922_11e8_8334_f01898076315row0_col2\" class=\"data row0 col2\" >Dallas</td> \n",
       "        <td id=\"T_0665bd5e_e922_11e8_8334_f01898076315row0_col3\" class=\"data row0 col3\" >https://www.airbnb.com/rooms/16999819?location=Allen%2C%20TX</td> \n",
       "    </tr></tbody> \n",
       "</table> "
      ],
      "text/plain": [
       "<pandas.io.formats.style.Styler at 0x1a14ae08d0>"
      ]
     },
     "metadata": {},
     "output_type": "display_data"
    },
    {
     "data": {
      "text/html": [
       "<style  type=\"text/css\" >\n",
       "</style>  \n",
       "<table id=\"T_0666a9f8_e922_11e8_820b_f01898076315\" > \n",
       "<thead>    <tr> \n",
       "        <th class=\"blank level0\" ></th> \n",
       "        <th class=\"col_heading level0 col0\" >title</th> \n",
       "        <th class=\"col_heading level0 col1\" >description</th> \n",
       "        <th class=\"col_heading level0 col2\" >city</th> \n",
       "        <th class=\"col_heading level0 col3\" >url</th> \n",
       "    </tr></thead> \n",
       "<tbody>    <tr> \n",
       "        <th id=\"T_0666a9f8_e922_11e8_820b_f01898076315level0_row0\" class=\"row_heading level0 row0\" >0</th> \n",
       "        <td id=\"T_0666a9f8_e922_11e8_820b_f01898076315row0_col0\" class=\"data row0 col0\" >Los Colinas Townhome</td> \n",
       "        <td id=\"T_0666a9f8_e922_11e8_820b_f01898076315row0_col1\" class=\"data row0 col1\" >Executive town home near the DFW Airport features soaring 20' ceilings in the living area, a fully equipped kitchen, gas fireplace, and fenced outdoor patio. Bedroom has private bath, walk-in closet and built-in desk. Free WiFi and AirPrint laser jet printer available. Quiet subdivision and outdoor parking for two cars. Near TPC Four Seasons, Los Colinas Country Club, and just 20 min away from Cowboys Stadium and downtown Dallas.</td> \n",
       "        <td id=\"T_0666a9f8_e922_11e8_820b_f01898076315row0_col2\" class=\"data row0 col2\" >Irving</td> \n",
       "        <td id=\"T_0666a9f8_e922_11e8_820b_f01898076315row0_col3\" class=\"data row0 col3\" >https://www.airbnb.com/rooms/18848915?location=Coppell%2C%20TX</td> \n",
       "    </tr></tbody> \n",
       "</table> "
      ],
      "text/plain": [
       "<pandas.io.formats.style.Styler at 0x1a14ae0f60>"
      ]
     },
     "metadata": {},
     "output_type": "display_data"
    },
    {
     "data": {
      "text/html": [
       "<style  type=\"text/css\" >\n",
       "</style>  \n",
       "<table id=\"T_06676ffa_e922_11e8_9ad7_f01898076315\" > \n",
       "<thead>    <tr> \n",
       "        <th class=\"blank level0\" ></th> \n",
       "        <th class=\"col_heading level0 col0\" >title</th> \n",
       "        <th class=\"col_heading level0 col1\" >description</th> \n",
       "        <th class=\"col_heading level0 col2\" >city</th> \n",
       "        <th class=\"col_heading level0 col3\" >url</th> \n",
       "    </tr></thead> \n",
       "<tbody>    <tr> \n",
       "        <th id=\"T_06676ffa_e922_11e8_9ad7_f01898076315level0_row0\" class=\"row_heading level0 row0\" >0</th> \n",
       "        <td id=\"T_06676ffa_e922_11e8_9ad7_f01898076315row0_col0\" class=\"data row0 col0\" >Private Room near airports and city center</td> \n",
       "        <td id=\"T_06676ffa_e922_11e8_9ad7_f01898076315row0_col1\" class=\"data row0 col1\" >My place is close to the city center, parks, the airport, and nightlife. YouÃ¢ÂÂll love my place because of the location, the ambiance, the people, and the outdoors space. My place is good for solo adventurers and business travelers.</td> \n",
       "        <td id=\"T_06676ffa_e922_11e8_9ad7_f01898076315row0_col2\" class=\"data row0 col2\" >Irving</td> \n",
       "        <td id=\"T_06676ffa_e922_11e8_9ad7_f01898076315row0_col3\" class=\"data row0 col3\" >https://www.airbnb.com/rooms/15740109?location=Colleyville%2C%20TX</td> \n",
       "    </tr></tbody> \n",
       "</table> "
      ],
      "text/plain": [
       "<pandas.io.formats.style.Styler at 0x10e002d68>"
      ]
     },
     "metadata": {},
     "output_type": "display_data"
    },
    {
     "data": {
      "text/html": [
       "<style  type=\"text/css\" >\n",
       "</style>  \n",
       "<table id=\"T_066863d8_e922_11e8_be47_f01898076315\" > \n",
       "<thead>    <tr> \n",
       "        <th class=\"blank level0\" ></th> \n",
       "        <th class=\"col_heading level0 col0\" >title</th> \n",
       "        <th class=\"col_heading level0 col1\" >description</th> \n",
       "        <th class=\"col_heading level0 col2\" >city</th> \n",
       "        <th class=\"col_heading level0 col3\" >url</th> \n",
       "    </tr></thead> \n",
       "<tbody>    <tr> \n",
       "        <th id=\"T_066863d8_e922_11e8_be47_f01898076315level0_row0\" class=\"row_heading level0 row0\" >0</th> \n",
       "        <td id=\"T_066863d8_e922_11e8_be47_f01898076315row0_col0\" class=\"data row0 col0\" >1000 sq ft 1bed 1ba near DFW airport/Six Flags</td> \n",
       "        <td id=\"T_066863d8_e922_11e8_be47_f01898076315row0_col1\" class=\"data row0 col1\" >Depending on your type of stay, I can accommodate for what you are needing. Its on the third floor with only stair access, garden tub, and upgraded appliances. Super close to Six Flags, DFW Airport, and 30mins from Downtown Dallas</td> \n",
       "        <td id=\"T_066863d8_e922_11e8_be47_f01898076315row0_col2\" class=\"data row0 col2\" >Grand Prairie</td> \n",
       "        <td id=\"T_066863d8_e922_11e8_be47_f01898076315row0_col3\" class=\"data row0 col3\" >https://www.airbnb.com/rooms/19214169?location=Bedford%2C%20TX</td> \n",
       "    </tr></tbody> \n",
       "</table> "
      ],
      "text/plain": [
       "<pandas.io.formats.style.Styler at 0x1a14b5c550>"
      ]
     },
     "metadata": {},
     "output_type": "display_data"
    },
    {
     "data": {
      "text/html": [
       "<style  type=\"text/css\" >\n",
       "</style>  \n",
       "<table id=\"T_06693b0a_e922_11e8_8199_f01898076315\" > \n",
       "<thead>    <tr> \n",
       "        <th class=\"blank level0\" ></th> \n",
       "        <th class=\"col_heading level0 col0\" >title</th> \n",
       "        <th class=\"col_heading level0 col1\" >description</th> \n",
       "        <th class=\"col_heading level0 col2\" >city</th> \n",
       "        <th class=\"col_heading level0 col3\" >url</th> \n",
       "    </tr></thead> \n",
       "<tbody>    <tr> \n",
       "        <th id=\"T_06693b0a_e922_11e8_8199_f01898076315level0_row0\" class=\"row_heading level0 row0\" >0</th> \n",
       "        <td id=\"T_06693b0a_e922_11e8_8199_f01898076315row0_col0\" class=\"data row0 col0\" >Stunning Studio Apartment w/ full size kitchen!</td> \n",
       "        <td id=\"T_06693b0a_e922_11e8_8199_f01898076315row0_col1\" class=\"data row0 col1\" >Stunning mother-in-law quarters offers privacy and luxury hotel feel. \\nMy place is close to Hobby Airport, downtown, the medical center, stadiums and convention centers. \\nOffers easy freeway access and HOV entrance near by. \\nParking on the left side of the driveway allows for a single car. \\nPerfect place for couples, individuals and business travelers.</td> \n",
       "        <td id=\"T_06693b0a_e922_11e8_8199_f01898076315row0_col2\" class=\"data row0 col2\" >Houston</td> \n",
       "        <td id=\"T_06693b0a_e922_11e8_8199_f01898076315row0_col3\" class=\"data row0 col3\" >https://www.airbnb.com/rooms/14936818?location=Alvin%2C%20TX</td> \n",
       "    </tr></tbody> \n",
       "</table> "
      ],
      "text/plain": [
       "<pandas.io.formats.style.Styler at 0x1a14b5c978>"
      ]
     },
     "metadata": {},
     "output_type": "display_data"
    },
    {
     "data": {
      "text/html": [
       "<style  type=\"text/css\" >\n",
       "</style>  \n",
       "<table id=\"T_066a053a_e922_11e8_815b_f01898076315\" > \n",
       "<thead>    <tr> \n",
       "        <th class=\"blank level0\" ></th> \n",
       "        <th class=\"col_heading level0 col0\" >title</th> \n",
       "        <th class=\"col_heading level0 col1\" >description</th> \n",
       "        <th class=\"col_heading level0 col2\" >city</th> \n",
       "        <th class=\"col_heading level0 col3\" >url</th> \n",
       "    </tr></thead> \n",
       "<tbody>    <tr> \n",
       "        <th id=\"T_066a053a_e922_11e8_815b_f01898076315level0_row0\" class=\"row_heading level0 row0\" >0</th> \n",
       "        <td id=\"T_066a053a_e922_11e8_815b_f01898076315row0_col0\" class=\"data row0 col0\" >Central DALLAS Loft</td> \n",
       "        <td id=\"T_066a053a_e922_11e8_815b_f01898076315row0_col1\" class=\"data row0 col1\" >Cozy loft located near Downtown within walking distance to LA Fitness, grocery store and public transportation (bus and light rail). 5.5 miles from Dallas Love Field Airport; 2.8 miles from Dallas Convention Center. Within a few minutes from shops, dinning, bars and clubs. Centrally located! The unit comes with Internet, cable tv, printer/copier, washer &amp; dryer, ironing board, hair dryer and a Keurig available for your use.</td> \n",
       "        <td id=\"T_066a053a_e922_11e8_815b_f01898076315row0_col2\" class=\"data row0 col2\" >Dallas</td> \n",
       "        <td id=\"T_066a053a_e922_11e8_815b_f01898076315row0_col3\" class=\"data row0 col3\" >https://www.airbnb.com/rooms/13108178?location=Balch%20Springs%2C%20TX</td> \n",
       "    </tr></tbody> \n",
       "</table> "
      ],
      "text/plain": [
       "<pandas.io.formats.style.Styler at 0x10a5b3630>"
      ]
     },
     "metadata": {},
     "output_type": "display_data"
    },
    {
     "data": {
      "text/html": [
       "<style  type=\"text/css\" >\n",
       "</style>  \n",
       "<table id=\"T_066acb8c_e922_11e8_8ced_f01898076315\" > \n",
       "<thead>    <tr> \n",
       "        <th class=\"blank level0\" ></th> \n",
       "        <th class=\"col_heading level0 col0\" >title</th> \n",
       "        <th class=\"col_heading level0 col1\" >description</th> \n",
       "        <th class=\"col_heading level0 col2\" >city</th> \n",
       "        <th class=\"col_heading level0 col3\" >url</th> \n",
       "    </tr></thead> \n",
       "<tbody>    <tr> \n",
       "        <th id=\"T_066acb8c_e922_11e8_8ced_f01898076315level0_row0\" class=\"row_heading level0 row0\" >0</th> \n",
       "        <td id=\"T_066acb8c_e922_11e8_8ced_f01898076315row0_col0\" class=\"data row0 col0\" >The Enchanted Forest Near Austin</td> \n",
       "        <td id=\"T_066acb8c_e922_11e8_8ced_f01898076315row0_col1\" class=\"data row0 col1\" >Our fabulous 3 bedroom, 2 bath rustic, home sits on 22 wooded acres with a pond, just minutes to the airport, Austin, South Congress (SoCo), 6th Street, SXSW, Circuit of the Americas (COA), Bastrop and a short drive to the Texas Hill Country!</td> \n",
       "        <td id=\"T_066acb8c_e922_11e8_8ced_f01898076315row0_col2\" class=\"data row0 col2\" >Cedar Creek</td> \n",
       "        <td id=\"T_066acb8c_e922_11e8_8ced_f01898076315row0_col3\" class=\"data row0 col3\" >https://www.airbnb.com/rooms/5863406?location=Cedar%20Creek%2C%20TX</td> \n",
       "    </tr></tbody> \n",
       "</table> "
      ],
      "text/plain": [
       "<pandas.io.formats.style.Styler at 0x1a14ae0860>"
      ]
     },
     "metadata": {},
     "output_type": "display_data"
    },
    {
     "data": {
      "text/html": [
       "<style  type=\"text/css\" >\n",
       "</style>  \n",
       "<table id=\"T_066b9bca_e922_11e8_8cd8_f01898076315\" > \n",
       "<thead>    <tr> \n",
       "        <th class=\"blank level0\" ></th> \n",
       "        <th class=\"col_heading level0 col0\" >title</th> \n",
       "        <th class=\"col_heading level0 col1\" >description</th> \n",
       "        <th class=\"col_heading level0 col2\" >city</th> \n",
       "        <th class=\"col_heading level0 col3\" >url</th> \n",
       "    </tr></thead> \n",
       "<tbody>    <tr> \n",
       "        <th id=\"T_066b9bca_e922_11e8_8cd8_f01898076315level0_row0\" class=\"row_heading level0 row0\" >0</th> \n",
       "        <td id=\"T_066b9bca_e922_11e8_8cd8_f01898076315row0_col0\" class=\"data row0 col0\" >Stunning Studio Apartment w/ full size kitchen!</td> \n",
       "        <td id=\"T_066b9bca_e922_11e8_8cd8_f01898076315row0_col1\" class=\"data row0 col1\" >Stunning mother-in-law quarters offers privacy and luxury hotel feel. \\nMy place is close to Hobby Airport, downtown, the medical center, stadiums and convention centers. \\nOffers easy freeway access and HOV entrance near by. \\nParking on the left side of the driveway allows for a single car. \\nPerfect place for couples, individuals and business travelers.</td> \n",
       "        <td id=\"T_066b9bca_e922_11e8_8cd8_f01898076315row0_col2\" class=\"data row0 col2\" >Houston</td> \n",
       "        <td id=\"T_066b9bca_e922_11e8_8cd8_f01898076315row0_col3\" class=\"data row0 col3\" >https://www.airbnb.com/rooms/14936818?location=Channelview%2C%20TX</td> \n",
       "    </tr></tbody> \n",
       "</table> "
      ],
      "text/plain": [
       "<pandas.io.formats.style.Styler at 0x1a124a6a90>"
      ]
     },
     "metadata": {},
     "output_type": "display_data"
    },
    {
     "data": {
      "text/html": [
       "<style  type=\"text/css\" >\n",
       "</style>  \n",
       "<table id=\"T_066c889e_e922_11e8_b669_f01898076315\" > \n",
       "<thead>    <tr> \n",
       "        <th class=\"blank level0\" ></th> \n",
       "        <th class=\"col_heading level0 col0\" >title</th> \n",
       "        <th class=\"col_heading level0 col1\" >description</th> \n",
       "        <th class=\"col_heading level0 col2\" >city</th> \n",
       "        <th class=\"col_heading level0 col3\" >url</th> \n",
       "    </tr></thead> \n",
       "<tbody>    <tr> \n",
       "        <th id=\"T_066c889e_e922_11e8_b669_f01898076315level0_row0\" class=\"row_heading level0 row0\" >0</th> \n",
       "        <td id=\"T_066c889e_e922_11e8_b669_f01898076315row0_col0\" class=\"data row0 col0\" >1000 sq ft 1bed 1ba near DFW airport/Six Flags</td> \n",
       "        <td id=\"T_066c889e_e922_11e8_b669_f01898076315row0_col1\" class=\"data row0 col1\" >Depending on your type of stay, I can accommodate for what you are needing. Its on the third floor with only stair access, garden tub, and upgraded appliances. Super close to Six Flags, DFW Airport, and 30mins from Downtown Dallas</td> \n",
       "        <td id=\"T_066c889e_e922_11e8_b669_f01898076315row0_col2\" class=\"data row0 col2\" >Grand Prairie</td> \n",
       "        <td id=\"T_066c889e_e922_11e8_b669_f01898076315row0_col3\" class=\"data row0 col3\" >https://www.airbnb.com/rooms/19214169?location=Cedar%20Hill%2C%20TX</td> \n",
       "    </tr></tbody> \n",
       "</table> "
      ],
      "text/plain": [
       "<pandas.io.formats.style.Styler at 0x1a14b48780>"
      ]
     },
     "metadata": {},
     "output_type": "display_data"
    },
    {
     "data": {
      "text/html": [
       "<style  type=\"text/css\" >\n",
       "</style>  \n",
       "<table id=\"T_066d538c_e922_11e8_be86_f01898076315\" > \n",
       "<thead>    <tr> \n",
       "        <th class=\"blank level0\" ></th> \n",
       "        <th class=\"col_heading level0 col0\" >title</th> \n",
       "        <th class=\"col_heading level0 col1\" >description</th> \n",
       "        <th class=\"col_heading level0 col2\" >city</th> \n",
       "        <th class=\"col_heading level0 col3\" >url</th> \n",
       "    </tr></thead> \n",
       "<tbody>    <tr> \n",
       "        <th id=\"T_066d538c_e922_11e8_be86_f01898076315level0_row0\" class=\"row_heading level0 row0\" >0</th> \n",
       "        <td id=\"T_066d538c_e922_11e8_be86_f01898076315row0_col0\" class=\"data row0 col0\" >Sculptor's Guest House,</td> \n",
       "        <td id=\"T_066d538c_e922_11e8_be86_f01898076315row0_col1\" class=\"data row0 col1\" >Our beautiful and unique guest house has a serene feels to it. On a two acre art studios compound it has 1 bed/1 bath. Sleeps 4 comfortably. Centrally located near downtown,UT, ACL, SXSW, F1, airport. Enjoy Austin, art, and sculptures. Relax here. City of Austin License vooooo916961</td> \n",
       "        <td id=\"T_066d538c_e922_11e8_be86_f01898076315row0_col2\" class=\"data row0 col2\" >Austin</td> \n",
       "        <td id=\"T_066d538c_e922_11e8_be86_f01898076315row0_col3\" class=\"data row0 col3\" >https://www.airbnb.com/rooms/3904915?location=Austin%2C%20TX</td> \n",
       "    </tr></tbody> \n",
       "</table> "
      ],
      "text/plain": [
       "<pandas.io.formats.style.Styler at 0x1a14b488d0>"
      ]
     },
     "metadata": {},
     "output_type": "display_data"
    },
    {
     "data": {
      "text/html": [
       "<style  type=\"text/css\" >\n",
       "</style>  \n",
       "<table id=\"T_066e2e08_e922_11e8_824c_f01898076315\" > \n",
       "<thead>    <tr> \n",
       "        <th class=\"blank level0\" ></th> \n",
       "        <th class=\"col_heading level0 col0\" >title</th> \n",
       "        <th class=\"col_heading level0 col1\" >description</th> \n",
       "        <th class=\"col_heading level0 col2\" >city</th> \n",
       "        <th class=\"col_heading level0 col3\" >url</th> \n",
       "    </tr></thead> \n",
       "<tbody>    <tr> \n",
       "        <th id=\"T_066e2e08_e922_11e8_824c_f01898076315level0_row0\" class=\"row_heading level0 row0\" >0</th> \n",
       "        <td id=\"T_066e2e08_e922_11e8_824c_f01898076315row0_col0\" class=\"data row0 col0\" >Nice and cozy in Valley Ranch near DFW</td> \n",
       "        <td id=\"T_066e2e08_e922_11e8_824c_f01898076315row0_col1\" class=\"data row0 col1\" >DFW airport 10minutes\\nShopping, Restaurants, \\nDowntown 15 minutes\\nJogging/bike trail\\nSwimming Pool</td> \n",
       "        <td id=\"T_066e2e08_e922_11e8_824c_f01898076315row0_col2\" class=\"data row0 col2\" >Irving</td> \n",
       "        <td id=\"T_066e2e08_e922_11e8_824c_f01898076315row0_col3\" class=\"data row0 col3\" >https://www.airbnb.com/rooms/18692272?location=Carrollton%2C%20TX</td> \n",
       "    </tr></tbody> \n",
       "</table> "
      ],
      "text/plain": [
       "<pandas.io.formats.style.Styler at 0x1a14a85978>"
      ]
     },
     "metadata": {},
     "output_type": "display_data"
    },
    {
     "data": {
      "text/html": [
       "<style  type=\"text/css\" >\n",
       "</style>  \n",
       "<table id=\"T_066ee726_e922_11e8_83e5_f01898076315\" > \n",
       "<thead>    <tr> \n",
       "        <th class=\"blank level0\" ></th> \n",
       "        <th class=\"col_heading level0 col0\" >title</th> \n",
       "        <th class=\"col_heading level0 col1\" >description</th> \n",
       "        <th class=\"col_heading level0 col2\" >city</th> \n",
       "        <th class=\"col_heading level0 col3\" >url</th> \n",
       "    </tr></thead> \n",
       "<tbody>    <tr> \n",
       "        <th id=\"T_066ee726_e922_11e8_83e5_f01898076315level0_row0\" class=\"row_heading level0 row0\" >0</th> \n",
       "        <td id=\"T_066ee726_e922_11e8_83e5_f01898076315row0_col0\" class=\"data row0 col0\" >Near Austin-Great for Formula 1</td> \n",
       "        <td id=\"T_066ee726_e922_11e8_83e5_f01898076315row0_col1\" class=\"data row0 col1\" >I have the perfect location for you if you are looking for a place to rent while in town for Formula 1 or SXSW and the rental price has recently been greatly reduced.\\nMy house is less than 4 years old and is in Whispering Hollow subdivision in Buda, Texas. We are located very close to downtown Austin as well as the conveniences of the town of Buda and a very large shopping center that has everything you might need for your stay.\\nThe house is a 2100 sq. foot home with three bedrooms and two baths. I only have beds in two bedrooms. One is a queen size bed and the other is a king size bed. The other bedroom can accommodate a roll away bed if you need me to pick one up for you. I also have two couches and three recliners that are all comfortable to sleep in. There is enough open floor space to put down sleeping bags if needed.\\nI have cable TV and a large driveway for parking. \\nThe garage will be off limits and will be locked so you will not be able to use that space.\\nI love my home. I am a retired school teacher/coach, so I really enjoy my time at this home. I think you will enjoy having me as your host as I am very easy to get in touch with and I will remain in Austin during your stay so you can contact me at anytime for assistance. I can give you directions to any sites you might be interested in seeing on your visit.\\nI can also be available to transport you anywhere you would like to go, including the race track or to a location where they transport you to the track. I am available for pickup and delivery to the airport.</td> \n",
       "        <td id=\"T_066ee726_e922_11e8_83e5_f01898076315row0_col2\" class=\"data row0 col2\" >Buda</td> \n",
       "        <td id=\"T_066ee726_e922_11e8_83e5_f01898076315row0_col3\" class=\"data row0 col3\" >https://www.airbnb.com/rooms/620927?location=Buda%2C%20TX</td> \n",
       "    </tr></tbody> \n",
       "</table> "
      ],
      "text/plain": [
       "<pandas.io.formats.style.Styler at 0x1a14b5c8d0>"
      ]
     },
     "metadata": {},
     "output_type": "display_data"
    },
    {
     "data": {
      "text/html": [
       "<style  type=\"text/css\" >\n",
       "</style>  \n",
       "<table id=\"T_066fbc14_e922_11e8_93e7_f01898076315\" > \n",
       "<thead>    <tr> \n",
       "        <th class=\"blank level0\" ></th> \n",
       "        <th class=\"col_heading level0 col0\" >title</th> \n",
       "        <th class=\"col_heading level0 col1\" >description</th> \n",
       "        <th class=\"col_heading level0 col2\" >city</th> \n",
       "        <th class=\"col_heading level0 col3\" >url</th> \n",
       "    </tr></thead> \n",
       "<tbody>    <tr> \n",
       "        <th id=\"T_066fbc14_e922_11e8_93e7_f01898076315level0_row0\" class=\"row_heading level0 row0\" >0</th> \n",
       "        <td id=\"T_066fbc14_e922_11e8_93e7_f01898076315row0_col0\" class=\"data row0 col0\" >Stylish Casita in Chic Neighborhood</td> \n",
       "        <td id=\"T_066fbc14_e922_11e8_93e7_f01898076315row0_col1\" class=\"data row0 col1\" >Casita Corazon, in the heart of town is close to restaurants, trendy shops, coffee houses, bakeries, upscale grocery store, parks, museums, public transport, near downtown, the Riverwalk, 10 minutes to airport with easy access to 281, I-37, I-35, I-10, 5 minutes from FedEx Office. You will be be hosted in contemporary, stylish rooms filled with art , large, flat TVs, wifi, work areas, new comfortable beds, 1.5 new baths, multiple beautiful decks, patios , outdoor seating &amp; dining areas.</td> \n",
       "        <td id=\"T_066fbc14_e922_11e8_93e7_f01898076315row0_col2\" class=\"data row0 col2\" >San Antonio</td> \n",
       "        <td id=\"T_066fbc14_e922_11e8_93e7_f01898076315row0_col3\" class=\"data row0 col3\" >https://www.airbnb.com/rooms/13992373?location=Alamo%20Heights%2C%20TX</td> \n",
       "    </tr></tbody> \n",
       "</table> "
      ],
      "text/plain": [
       "<pandas.io.formats.style.Styler at 0x1a14b5cc18>"
      ]
     },
     "metadata": {},
     "output_type": "display_data"
    },
    {
     "data": {
      "text/html": [
       "<style  type=\"text/css\" >\n",
       "</style>  \n",
       "<table id=\"T_0670a37a_e922_11e8_b9de_f01898076315\" > \n",
       "<thead>    <tr> \n",
       "        <th class=\"blank level0\" ></th> \n",
       "        <th class=\"col_heading level0 col0\" >title</th> \n",
       "        <th class=\"col_heading level0 col1\" >description</th> \n",
       "        <th class=\"col_heading level0 col2\" >city</th> \n",
       "        <th class=\"col_heading level0 col3\" >url</th> \n",
       "    </tr></thead> \n",
       "<tbody>    <tr> \n",
       "        <th id=\"T_0670a37a_e922_11e8_b9de_f01898076315level0_row0\" class=\"row_heading level0 row0\" >0</th> \n",
       "        <td id=\"T_0670a37a_e922_11e8_b9de_f01898076315row0_col0\" class=\"data row0 col0\" >Central DALLAS Loft</td> \n",
       "        <td id=\"T_0670a37a_e922_11e8_b9de_f01898076315row0_col1\" class=\"data row0 col1\" >Cozy loft located near Downtown within walking distance to LA Fitness, grocery store and public transportation (bus and light rail). 5.5 miles from Dallas Love Field Airport; 2.8 miles from Dallas Convention Center. Within a few minutes from shops, dinning, bars and clubs. Centrally located! The unit comes with Internet, cable tv, printer/copier, washer &amp; dryer, ironing board, hair dryer and a Keurig available for your use.</td> \n",
       "        <td id=\"T_0670a37a_e922_11e8_b9de_f01898076315row0_col2\" class=\"data row0 col2\" >Dallas</td> \n",
       "        <td id=\"T_0670a37a_e922_11e8_b9de_f01898076315row0_col3\" class=\"data row0 col3\" >https://www.airbnb.com/rooms/13108178?location=Carrollton%2C%20TX</td> \n",
       "    </tr></tbody> \n",
       "</table> "
      ],
      "text/plain": [
       "<pandas.io.formats.style.Styler at 0x10e002d68>"
      ]
     },
     "metadata": {},
     "output_type": "display_data"
    },
    {
     "data": {
      "text/html": [
       "<style  type=\"text/css\" >\n",
       "</style>  \n",
       "<table id=\"T_06716c12_e922_11e8_9da8_f01898076315\" > \n",
       "<thead>    <tr> \n",
       "        <th class=\"blank level0\" ></th> \n",
       "        <th class=\"col_heading level0 col0\" >title</th> \n",
       "        <th class=\"col_heading level0 col1\" >description</th> \n",
       "        <th class=\"col_heading level0 col2\" >city</th> \n",
       "        <th class=\"col_heading level0 col3\" >url</th> \n",
       "    </tr></thead> \n",
       "<tbody>    <tr> \n",
       "        <th id=\"T_06716c12_e922_11e8_9da8_f01898076315level0_row0\" class=\"row_heading level0 row0\" >0</th> \n",
       "        <td id=\"T_06716c12_e922_11e8_9da8_f01898076315row0_col0\" class=\"data row0 col0\" >BDR and adjacent LVR Near Airport and Woodlands</td> \n",
       "        <td id=\"T_06716c12_e922_11e8_9da8_f01898076315row0_col1\" class=\"data row0 col1\" >Welcome to my 2,700 sq. ft. house. You get a private Bedroom and Living Room. The living room is in the room next door upstairs with a couch, Big screen TV , computer desk, computer, refrigerator and microwave. YouÃ¢ÂÂll love my place because of the neighborhood, great restaurants close by, the comfy bed, the coziness, and the kitchen. My place is good for couples, solo adventurers, business travelers, and furry friends (pets). There is a huge covered patio in back. Free Internet and Netflix.</td> \n",
       "        <td id=\"T_06716c12_e922_11e8_9da8_f01898076315row0_col2\" class=\"data row0 col2\" >Houston</td> \n",
       "        <td id=\"T_06716c12_e922_11e8_9da8_f01898076315row0_col3\" class=\"data row0 col3\" >https://www.airbnb.com/rooms/13377678?location=Atascocita%2C%20TX</td> \n",
       "    </tr></tbody> \n",
       "</table> "
      ],
      "text/plain": [
       "<pandas.io.formats.style.Styler at 0x1a14b48780>"
      ]
     },
     "metadata": {},
     "output_type": "display_data"
    },
    {
     "data": {
      "text/html": [
       "<style  type=\"text/css\" >\n",
       "</style>  \n",
       "<table id=\"T_067214f0_e922_11e8_8981_f01898076315\" > \n",
       "<thead>    <tr> \n",
       "        <th class=\"blank level0\" ></th> \n",
       "        <th class=\"col_heading level0 col0\" >title</th> \n",
       "        <th class=\"col_heading level0 col1\" >description</th> \n",
       "        <th class=\"col_heading level0 col2\" >city</th> \n",
       "        <th class=\"col_heading level0 col3\" >url</th> \n",
       "    </tr></thead> \n",
       "<tbody>    <tr> \n",
       "        <th id=\"T_067214f0_e922_11e8_8981_f01898076315level0_row0\" class=\"row_heading level0 row0\" >0</th> \n",
       "        <td id=\"T_067214f0_e922_11e8_8981_f01898076315row0_col0\" class=\"data row0 col0\" >CASA GRANDE - NEAR HOUSTON AND NASA</td> \n",
       "        <td id=\"T_067214f0_e922_11e8_8981_f01898076315row0_col1\" class=\"data row0 col1\" >Come and enjoy this beautiful Lakefront Texas size home of nearly 6,000 square feet (600 square meters) with 5 bedrooms - only 15 minutes drive from NASA; 10 mins. from the Kemah boardwalk, 25 mins. from Galveston Island and Hobby airport; 35 mins to the world-famous Texas Medical Center.</td> \n",
       "        <td id=\"T_067214f0_e922_11e8_8981_f01898076315row0_col2\" class=\"data row0 col2\" >League City</td> \n",
       "        <td id=\"T_067214f0_e922_11e8_8981_f01898076315row0_col3\" class=\"data row0 col3\" >https://www.airbnb.com/rooms/1244743?location=Clear%20Lake%20Shores%2C%20TX</td> \n",
       "    </tr></tbody> \n",
       "</table> "
      ],
      "text/plain": [
       "<pandas.io.formats.style.Styler at 0x1a14b4eb38>"
      ]
     },
     "metadata": {},
     "output_type": "display_data"
    },
    {
     "data": {
      "text/html": [
       "<style  type=\"text/css\" >\n",
       "</style>  \n",
       "<table id=\"T_06730a54_e922_11e8_bb6a_f01898076315\" > \n",
       "<thead>    <tr> \n",
       "        <th class=\"blank level0\" ></th> \n",
       "        <th class=\"col_heading level0 col0\" >title</th> \n",
       "        <th class=\"col_heading level0 col1\" >description</th> \n",
       "        <th class=\"col_heading level0 col2\" >city</th> \n",
       "        <th class=\"col_heading level0 col3\" >url</th> \n",
       "    </tr></thead> \n",
       "<tbody>    <tr> \n",
       "        <th id=\"T_06730a54_e922_11e8_bb6a_f01898076315level0_row0\" class=\"row_heading level0 row0\" >0</th> \n",
       "        <td id=\"T_06730a54_e922_11e8_bb6a_f01898076315row0_col0\" class=\"data row0 col0\" >Family Home Near McKinney Falls State Park</td> \n",
       "        <td id=\"T_06730a54_e922_11e8_bb6a_f01898076315row0_col1\" class=\"data row0 col1\" >My place is close to the airport and parks. YouÃ¢ÂÂll love my place because of the comfy bed, the kitchen, the coziness, and the high ceilings. My place is good for couples, solo adventurers, business travelers, families (with kids), and furry friends (pets).</td> \n",
       "        <td id=\"T_06730a54_e922_11e8_bb6a_f01898076315row0_col2\" class=\"data row0 col2\" >Austin</td> \n",
       "        <td id=\"T_06730a54_e922_11e8_bb6a_f01898076315row0_col3\" class=\"data row0 col3\" >https://www.airbnb.com/rooms/13311143?location=Buda%2C%20TX</td> \n",
       "    </tr></tbody> \n",
       "</table> "
      ],
      "text/plain": [
       "<pandas.io.formats.style.Styler at 0x1a14b4e390>"
      ]
     },
     "metadata": {},
     "output_type": "display_data"
    },
    {
     "data": {
      "text/html": [
       "<style  type=\"text/css\" >\n",
       "</style>  \n",
       "<table id=\"T_0673d9c0_e922_11e8_b1c5_f01898076315\" > \n",
       "<thead>    <tr> \n",
       "        <th class=\"blank level0\" ></th> \n",
       "        <th class=\"col_heading level0 col0\" >title</th> \n",
       "        <th class=\"col_heading level0 col1\" >description</th> \n",
       "        <th class=\"col_heading level0 col2\" >city</th> \n",
       "        <th class=\"col_heading level0 col3\" >url</th> \n",
       "    </tr></thead> \n",
       "<tbody>    <tr> \n",
       "        <th id=\"T_0673d9c0_e922_11e8_b1c5_f01898076315level0_row0\" class=\"row_heading level0 row0\" >0</th> \n",
       "        <td id=\"T_0673d9c0_e922_11e8_b1c5_f01898076315row0_col0\" class=\"data row0 col0\" >Centrally Located Family home</td> \n",
       "        <td id=\"T_0673d9c0_e922_11e8_b1c5_f01898076315row0_col1\" class=\"data row0 col1\" >New home in quiet, safe neighborhood near shopping, restaurants, Field of Dreams baseball fields, Hawaiian Falls, Six Flags, TX Rangers, Dallas Cowboys, &amp; DFW airport. Fort Worth and Dallas are each about 20 minutes away. Has community pool.</td> \n",
       "        <td id=\"T_0673d9c0_e922_11e8_b1c5_f01898076315row0_col2\" class=\"data row0 col2\" >Arlington</td> \n",
       "        <td id=\"T_0673d9c0_e922_11e8_b1c5_f01898076315row0_col3\" class=\"data row0 col3\" >https://www.airbnb.com/rooms/7332566?location=Cedar%20Hill%2C%20TX</td> \n",
       "    </tr></tbody> \n",
       "</table> "
      ],
      "text/plain": [
       "<pandas.io.formats.style.Styler at 0x1a14b4e550>"
      ]
     },
     "metadata": {},
     "output_type": "display_data"
    },
    {
     "data": {
      "text/html": [
       "<style  type=\"text/css\" >\n",
       "</style>  \n",
       "<table id=\"T_0674a5a8_e922_11e8_acbb_f01898076315\" > \n",
       "<thead>    <tr> \n",
       "        <th class=\"blank level0\" ></th> \n",
       "        <th class=\"col_heading level0 col0\" >title</th> \n",
       "        <th class=\"col_heading level0 col1\" >description</th> \n",
       "        <th class=\"col_heading level0 col2\" >city</th> \n",
       "        <th class=\"col_heading level0 col3\" >url</th> \n",
       "    </tr></thead> \n",
       "<tbody>    <tr> \n",
       "        <th id=\"T_0674a5a8_e922_11e8_acbb_f01898076315level0_row0\" class=\"row_heading level0 row0\" >0</th> \n",
       "        <td id=\"T_0674a5a8_e922_11e8_acbb_f01898076315row0_col0\" class=\"data row0 col0\" >Private room - 10 mins from DFW</td> \n",
       "        <td id=\"T_0674a5a8_e922_11e8_acbb_f01898076315row0_col1\" class=\"data row0 col1\" >1 room for rent in my house which located in in Irving near Dallas. 10 minutes from DFW airport, 15 minutes from Lovefield Airport and 15 minutes from downtown Dallas. Family friendly house which could be your home away from home.</td> \n",
       "        <td id=\"T_0674a5a8_e922_11e8_acbb_f01898076315row0_col2\" class=\"data row0 col2\" >Irving</td> \n",
       "        <td id=\"T_0674a5a8_e922_11e8_acbb_f01898076315row0_col3\" class=\"data row0 col3\" >https://www.airbnb.com/rooms/16617621?location=Coppell%2C%20TX</td> \n",
       "    </tr></tbody> \n",
       "</table> "
      ],
      "text/plain": [
       "<pandas.io.formats.style.Styler at 0x1a14b4eac8>"
      ]
     },
     "metadata": {},
     "output_type": "display_data"
    },
    {
     "data": {
      "text/html": [
       "<style  type=\"text/css\" >\n",
       "</style>  \n",
       "<table id=\"T_06756fe2_e922_11e8_ae3c_f01898076315\" > \n",
       "<thead>    <tr> \n",
       "        <th class=\"blank level0\" ></th> \n",
       "        <th class=\"col_heading level0 col0\" >title</th> \n",
       "        <th class=\"col_heading level0 col1\" >description</th> \n",
       "        <th class=\"col_heading level0 col2\" >city</th> \n",
       "        <th class=\"col_heading level0 col3\" >url</th> \n",
       "    </tr></thead> \n",
       "<tbody>    <tr> \n",
       "        <th id=\"T_06756fe2_e922_11e8_ae3c_f01898076315level0_row0\" class=\"row_heading level0 row0\" >0</th> \n",
       "        <td id=\"T_06756fe2_e922_11e8_ae3c_f01898076315row0_col0\" class=\"data row0 col0\" >Northside home, 10 min from airport. But yet quiet</td> \n",
       "        <td id=\"T_06756fe2_e922_11e8_ae3c_f01898076315row0_col1\" class=\"data row0 col1\" >Cozy bedroom, north side, home 10 min from San Antonio airport. 15 min from downtown. 2 major frwys near. High speed wifi, driveway parking. Uber and Lyft available. Full meals available by prior request (extra charge).</td> \n",
       "        <td id=\"T_06756fe2_e922_11e8_ae3c_f01898076315row0_col2\" class=\"data row0 col2\" >San Antonio</td> \n",
       "        <td id=\"T_06756fe2_e922_11e8_ae3c_f01898076315row0_col3\" class=\"data row0 col3\" >https://www.airbnb.com/rooms/17317595?location=Converse%2C%20TX</td> \n",
       "    </tr></tbody> \n",
       "</table> "
      ],
      "text/plain": [
       "<pandas.io.formats.style.Styler at 0x1a14b4e5f8>"
      ]
     },
     "metadata": {},
     "output_type": "display_data"
    },
    {
     "data": {
      "text/html": [
       "<style  type=\"text/css\" >\n",
       "</style>  \n",
       "<table id=\"T_0676541e_e922_11e8_acaa_f01898076315\" > \n",
       "<thead>    <tr> \n",
       "        <th class=\"blank level0\" ></th> \n",
       "        <th class=\"col_heading level0 col0\" >title</th> \n",
       "        <th class=\"col_heading level0 col1\" >description</th> \n",
       "        <th class=\"col_heading level0 col2\" >city</th> \n",
       "        <th class=\"col_heading level0 col3\" >url</th> \n",
       "    </tr></thead> \n",
       "<tbody>    <tr> \n",
       "        <th id=\"T_0676541e_e922_11e8_acaa_f01898076315level0_row0\" class=\"row_heading level0 row0\" >0</th> \n",
       "        <td id=\"T_0676541e_e922_11e8_acaa_f01898076315row0_col0\" class=\"data row0 col0\" >East End Studio near Downtown</td> \n",
       "        <td id=\"T_0676541e_e922_11e8_acaa_f01898076315row0_col1\" class=\"data row0 col1\" >Upstairs garage apartment in historic East End neighborhood. Quiet except for the occasional fast car, fiesta or train horn. Close to downtown, Hobby Airport and the University of Houston. Queen bed and a queen sleeper sofa to sleep a total of 4 adults. Pack and Play for a baby or toddler if needed. Full kitchen and full bathroom. Table seats 4 for eating or working. Free Wifi. No TV. Shared washer and dryer in the garage. Steep driveway so street parking only.</td> \n",
       "        <td id=\"T_0676541e_e922_11e8_acaa_f01898076315row0_col2\" class=\"data row0 col2\" >Houston</td> \n",
       "        <td id=\"T_0676541e_e922_11e8_acaa_f01898076315row0_col3\" class=\"data row0 col3\" >https://www.airbnb.com/rooms/14414947?location=Channelview%2C%20TX</td> \n",
       "    </tr></tbody> \n",
       "</table> "
      ],
      "text/plain": [
       "<pandas.io.formats.style.Styler at 0x1a14b4e160>"
      ]
     },
     "metadata": {},
     "output_type": "display_data"
    },
    {
     "data": {
      "text/html": [
       "<style  type=\"text/css\" >\n",
       "</style>  \n",
       "<table id=\"T_0677198c_e922_11e8_a241_f01898076315\" > \n",
       "<thead>    <tr> \n",
       "        <th class=\"blank level0\" ></th> \n",
       "        <th class=\"col_heading level0 col0\" >title</th> \n",
       "        <th class=\"col_heading level0 col1\" >description</th> \n",
       "        <th class=\"col_heading level0 col2\" >city</th> \n",
       "        <th class=\"col_heading level0 col3\" >url</th> \n",
       "    </tr></thead> \n",
       "<tbody>    <tr> \n",
       "        <th id=\"T_0677198c_e922_11e8_a241_f01898076315level0_row0\" class=\"row_heading level0 row0\" >0</th> \n",
       "        <td id=\"T_0677198c_e922_11e8_a241_f01898076315row0_col0\" class=\"data row0 col0\" >(B) Private bedroom close to DFW airport</td> \n",
       "        <td id=\"T_0677198c_e922_11e8_a241_f01898076315row0_col1\" class=\"data row0 col1\" >Lovely private bedroom on a single story house. Conveniently located to all major highways and Las Colinas business area. The property is near restaurants, grocery stores, running trails and 10 mins to DFW airport. It is good for solo adventurers and business travelers. Short-term discounts.</td> \n",
       "        <td id=\"T_0677198c_e922_11e8_a241_f01898076315row0_col2\" class=\"data row0 col2\" >Irving</td> \n",
       "        <td id=\"T_0677198c_e922_11e8_a241_f01898076315row0_col3\" class=\"data row0 col3\" >https://www.airbnb.com/rooms/14231271?location=Colleyville%2C%20TX</td> \n",
       "    </tr></tbody> \n",
       "</table> "
      ],
      "text/plain": [
       "<pandas.io.formats.style.Styler at 0x1a14b4e588>"
      ]
     },
     "metadata": {},
     "output_type": "display_data"
    },
    {
     "data": {
      "text/html": [
       "<style  type=\"text/css\" >\n",
       "</style>  \n",
       "<table id=\"T_0678021e_e922_11e8_9cd2_f01898076315\" > \n",
       "<thead>    <tr> \n",
       "        <th class=\"blank level0\" ></th> \n",
       "        <th class=\"col_heading level0 col0\" >title</th> \n",
       "        <th class=\"col_heading level0 col1\" >description</th> \n",
       "        <th class=\"col_heading level0 col2\" >city</th> \n",
       "        <th class=\"col_heading level0 col3\" >url</th> \n",
       "    </tr></thead> \n",
       "<tbody>    <tr> \n",
       "        <th id=\"T_0678021e_e922_11e8_9cd2_f01898076315level0_row0\" class=\"row_heading level0 row0\" >0</th> \n",
       "        <td id=\"T_0678021e_e922_11e8_9cd2_f01898076315row0_col0\" class=\"data row0 col0\" >5* Quality Private Room available near IAH</td> \n",
       "        <td id=\"T_0678021e_e922_11e8_9cd2_f01898076315row0_col1\" class=\"data row0 col1\" >My place is close to the airport. YouÃ¢ÂÂll love my place because of the neighborhood and space in the room.\\nFirst time Airbnb guests are always welcomed.\\nPLEASE NOTE: All guests MUST BE verified Airbnb members with a visible profile picture before booking.\\nMy home is NOT smoker friendly as I have asthma and cannot be around smoke.</td> \n",
       "        <td id=\"T_0678021e_e922_11e8_9cd2_f01898076315row0_col2\" class=\"data row0 col2\" >Humble</td> \n",
       "        <td id=\"T_0678021e_e922_11e8_9cd2_f01898076315row0_col3\" class=\"data row0 col3\" >https://www.airbnb.com/rooms/13847391?location=Atascocita%2C%20TX</td> \n",
       "    </tr></tbody> \n",
       "</table> "
      ],
      "text/plain": [
       "<pandas.io.formats.style.Styler at 0x1a14b4e898>"
      ]
     },
     "metadata": {},
     "output_type": "display_data"
    },
    {
     "data": {
      "text/html": [
       "<style  type=\"text/css\" >\n",
       "</style>  \n",
       "<table id=\"T_0678cf8c_e922_11e8_8c72_f01898076315\" > \n",
       "<thead>    <tr> \n",
       "        <th class=\"blank level0\" ></th> \n",
       "        <th class=\"col_heading level0 col0\" >title</th> \n",
       "        <th class=\"col_heading level0 col1\" >description</th> \n",
       "        <th class=\"col_heading level0 col2\" >city</th> \n",
       "        <th class=\"col_heading level0 col3\" >url</th> \n",
       "    </tr></thead> \n",
       "<tbody>    <tr> \n",
       "        <th id=\"T_0678cf8c_e922_11e8_8c72_f01898076315level0_row0\" class=\"row_heading level0 row0\" >0</th> \n",
       "        <td id=\"T_0678cf8c_e922_11e8_8c72_f01898076315row0_col0\" class=\"data row0 col0\" >(A) Private bedroom close to DFW airport</td> \n",
       "        <td id=\"T_0678cf8c_e922_11e8_8c72_f01898076315row0_col1\" class=\"data row0 col1\" >Lovely private bedroom on a single story house. Conveniently located to all major highways and Las Colinas business area. The property is near restaurants, grocery stores, running trails and 10 mins away to DFW airport. It is good for solo adventurers and business travelers. Short-term discounts.</td> \n",
       "        <td id=\"T_0678cf8c_e922_11e8_8c72_f01898076315row0_col2\" class=\"data row0 col2\" >Irving</td> \n",
       "        <td id=\"T_0678cf8c_e922_11e8_8c72_f01898076315row0_col3\" class=\"data row0 col3\" >https://www.airbnb.com/rooms/13590530?location=Coppell%2C%20TX</td> \n",
       "    </tr></tbody> \n",
       "</table> "
      ],
      "text/plain": [
       "<pandas.io.formats.style.Styler at 0x1a124a6908>"
      ]
     },
     "metadata": {},
     "output_type": "display_data"
    },
    {
     "data": {
      "text/html": [
       "<style  type=\"text/css\" >\n",
       "</style>  \n",
       "<table id=\"T_0679abd4_e922_11e8_9a62_f01898076315\" > \n",
       "<thead>    <tr> \n",
       "        <th class=\"blank level0\" ></th> \n",
       "        <th class=\"col_heading level0 col0\" >title</th> \n",
       "        <th class=\"col_heading level0 col1\" >description</th> \n",
       "        <th class=\"col_heading level0 col2\" >city</th> \n",
       "        <th class=\"col_heading level0 col3\" >url</th> \n",
       "    </tr></thead> \n",
       "<tbody>    <tr> \n",
       "        <th id=\"T_0679abd4_e922_11e8_9a62_f01898076315level0_row0\" class=\"row_heading level0 row0\" >0</th> \n",
       "        <td id=\"T_0679abd4_e922_11e8_9a62_f01898076315row0_col0\" class=\"data row0 col0\" >Master Suite Gem Dallas ~ home access</td> \n",
       "        <td id=\"T_0679abd4_e922_11e8_9a62_f01898076315row0_col1\" class=\"data row0 col1\" >Master Suite w/bath, walkin closet, cafe table. 3 mi.from White Rock Lake, 4 mi.from Dallas Arboretum &amp; Botanical Gardens w/Concerts, close to Casa Linda restaurants, shops &amp; movies, many things 2 do. Downtown (9 mi). Elite Northpark mall and Galleria mall near by: 6/8 miles away.\\nAirprt: DFW/LOVE. Ask about airport rides!!\\nAmenities: laundry room, kitchen &amp; backyard oasis!!</td> \n",
       "        <td id=\"T_0679abd4_e922_11e8_9a62_f01898076315row0_col2\" class=\"data row0 col2\" >Dallas</td> \n",
       "        <td id=\"T_0679abd4_e922_11e8_9a62_f01898076315row0_col3\" class=\"data row0 col3\" >https://www.airbnb.com/rooms/11010416?location=Arlington%2C%20TX</td> \n",
       "    </tr></tbody> \n",
       "</table> "
      ],
      "text/plain": [
       "<pandas.io.formats.style.Styler at 0x1a14b48780>"
      ]
     },
     "metadata": {},
     "output_type": "display_data"
    },
    {
     "data": {
      "text/html": [
       "<style  type=\"text/css\" >\n",
       "</style>  \n",
       "<table id=\"T_067a68b4_e922_11e8_9197_f01898076315\" > \n",
       "<thead>    <tr> \n",
       "        <th class=\"blank level0\" ></th> \n",
       "        <th class=\"col_heading level0 col0\" >title</th> \n",
       "        <th class=\"col_heading level0 col1\" >description</th> \n",
       "        <th class=\"col_heading level0 col2\" >city</th> \n",
       "        <th class=\"col_heading level0 col3\" >url</th> \n",
       "    </tr></thead> \n",
       "<tbody>    <tr> \n",
       "        <th id=\"T_067a68b4_e922_11e8_9197_f01898076315level0_row0\" class=\"row_heading level0 row0\" >0</th> \n",
       "        <td id=\"T_067a68b4_e922_11e8_9197_f01898076315row0_col0\" class=\"data row0 col0\" >Clean Hotel Room near DFW Airport</td> \n",
       "        <td id=\"T_067a68b4_e922_11e8_9197_f01898076315row0_col1\" class=\"data row0 col1\" >This clean hotel room offers a fridge, microwave, coffee maker, hairdryer and safe. FREE breakfast and wireless internet are also included. 7 restaurants within walking distance. 5 min. from DFW with FREE shuttle. Maximum occupancy is 4 people.</td> \n",
       "        <td id=\"T_067a68b4_e922_11e8_9197_f01898076315row0_col2\" class=\"data row0 col2\" >Grapevine</td> \n",
       "        <td id=\"T_067a68b4_e922_11e8_9197_f01898076315row0_col3\" class=\"data row0 col3\" >https://www.airbnb.com/rooms/10154001?location=Bedford%2C%20TX</td> \n",
       "    </tr></tbody> \n",
       "</table> "
      ],
      "text/plain": [
       "<pandas.io.formats.style.Styler at 0x1a14b489b0>"
      ]
     },
     "metadata": {},
     "output_type": "display_data"
    },
    {
     "data": {
      "text/html": [
       "<style  type=\"text/css\" >\n",
       "</style>  \n",
       "<table id=\"T_067b4d4a_e922_11e8_b7e2_f01898076315\" > \n",
       "<thead>    <tr> \n",
       "        <th class=\"blank level0\" ></th> \n",
       "        <th class=\"col_heading level0 col0\" >title</th> \n",
       "        <th class=\"col_heading level0 col1\" >description</th> \n",
       "        <th class=\"col_heading level0 col2\" >city</th> \n",
       "        <th class=\"col_heading level0 col3\" >url</th> \n",
       "    </tr></thead> \n",
       "<tbody>    <tr> \n",
       "        <th id=\"T_067b4d4a_e922_11e8_b7e2_f01898076315level0_row0\" class=\"row_heading level0 row0\" >0</th> \n",
       "        <td id=\"T_067b4d4a_e922_11e8_b7e2_f01898076315row0_col0\" class=\"data row0 col0\" >Quite house near everything</td> \n",
       "        <td id=\"T_067b4d4a_e922_11e8_b7e2_f01898076315row0_col1\" class=\"data row0 col1\" >Enjoy 1723sqft. Beautiful home with nice backyard for your family.Great location within 10-20 minutes from downtown Austin and easy access to HWY 130, 5 min from F1 tract and Austin International Airport.\\nCommunity pool available and walking distance to nearby Southeast Metro Park, very clean place wide soccer fields, baseball fields and a small playground. It's a terrific place to stay close from special entertainment from downtown and far enough to find some quite and peaceful place to relax.</td> \n",
       "        <td id=\"T_067b4d4a_e922_11e8_b7e2_f01898076315row0_col2\" class=\"data row0 col2\" >Del Valle</td> \n",
       "        <td id=\"T_067b4d4a_e922_11e8_b7e2_f01898076315row0_col3\" class=\"data row0 col3\" >https://www.airbnb.com/rooms/16719691?location=Cedar%20Creek%2C%20TX</td> \n",
       "    </tr></tbody> \n",
       "</table> "
      ],
      "text/plain": [
       "<pandas.io.formats.style.Styler at 0x1a14a8ec50>"
      ]
     },
     "metadata": {},
     "output_type": "display_data"
    },
    {
     "data": {
      "text/html": [
       "<style  type=\"text/css\" >\n",
       "</style>  \n",
       "<table id=\"T_067c2170_e922_11e8_833e_f01898076315\" > \n",
       "<thead>    <tr> \n",
       "        <th class=\"blank level0\" ></th> \n",
       "        <th class=\"col_heading level0 col0\" >title</th> \n",
       "        <th class=\"col_heading level0 col1\" >description</th> \n",
       "        <th class=\"col_heading level0 col2\" >city</th> \n",
       "        <th class=\"col_heading level0 col3\" >url</th> \n",
       "    </tr></thead> \n",
       "<tbody>    <tr> \n",
       "        <th id=\"T_067c2170_e922_11e8_833e_f01898076315level0_row0\" class=\"row_heading level0 row0\" >0</th> \n",
       "        <td id=\"T_067c2170_e922_11e8_833e_f01898076315row0_col0\" class=\"data row0 col0\" >Near IAH...Dogs, coffee, and trails!</td> \n",
       "        <td id=\"T_067c2170_e922_11e8_833e_f01898076315row0_col1\" class=\"data row0 col1\" >Adventurers and those passing through welcome! My place is relaxed and the atmosphere is easygoing. Only 15-20 minutes from IAH. Happy to work out a pick up/drop off from airport. Dogs (and kids) are welcome to stay as well! They should list coffee under essentials but don't worry I've got you covered. \\n\\nHouse includes a backyard and near some trails, a neighborhood Walmart, and Starbucks. Easy access to 59 for exploring other areas of Houston.\\n\\n*Double listed for different availability</td> \n",
       "        <td id=\"T_067c2170_e922_11e8_833e_f01898076315row0_col2\" class=\"data row0 col2\" >Humble</td> \n",
       "        <td id=\"T_067c2170_e922_11e8_833e_f01898076315row0_col3\" class=\"data row0 col3\" >https://www.airbnb.com/rooms/16427580?location=Atascocita%2C%20TX</td> \n",
       "    </tr></tbody> \n",
       "</table> "
      ],
      "text/plain": [
       "<pandas.io.formats.style.Styler at 0x1a14b486a0>"
      ]
     },
     "metadata": {},
     "output_type": "display_data"
    },
    {
     "data": {
      "text/html": [
       "<style  type=\"text/css\" >\n",
       "</style>  \n",
       "<table id=\"T_067d0d42_e922_11e8_a7cf_f01898076315\" > \n",
       "<thead>    <tr> \n",
       "        <th class=\"blank level0\" ></th> \n",
       "        <th class=\"col_heading level0 col0\" >title</th> \n",
       "        <th class=\"col_heading level0 col1\" >description</th> \n",
       "        <th class=\"col_heading level0 col2\" >city</th> \n",
       "        <th class=\"col_heading level0 col3\" >url</th> \n",
       "    </tr></thead> \n",
       "<tbody>    <tr> \n",
       "        <th id=\"T_067d0d42_e922_11e8_a7cf_f01898076315level0_row0\" class=\"row_heading level0 row0\" >0</th> \n",
       "        <td id=\"T_067d0d42_e922_11e8_a7cf_f01898076315row0_col0\" class=\"data row0 col0\" >Studio in Medical District -Dallas.</td> \n",
       "        <td id=\"T_067d0d42_e922_11e8_a7cf_f01898076315row0_col1\" class=\"data row0 col1\" >Sometimes simple is just the way to go! This studio is centrally located along the DART with service to the orange and green lines, this studio is near UT Southwestern Medical Center. Close to two miles southeast of Dallas Love Field airport. The building is conveniently located one block from a grocery store. Drive-ins, and Dives are also in the same area.</td> \n",
       "        <td id=\"T_067d0d42_e922_11e8_a7cf_f01898076315row0_col2\" class=\"data row0 col2\" >Dallas</td> \n",
       "        <td id=\"T_067d0d42_e922_11e8_a7cf_f01898076315row0_col3\" class=\"data row0 col3\" >https://www.airbnb.com/rooms/17296239?location=Carrollton%2C%20TX</td> \n",
       "    </tr></tbody> \n",
       "</table> "
      ],
      "text/plain": [
       "<pandas.io.formats.style.Styler at 0x1a14b484a8>"
      ]
     },
     "metadata": {},
     "output_type": "display_data"
    },
    {
     "data": {
      "text/html": [
       "<style  type=\"text/css\" >\n",
       "</style>  \n",
       "<table id=\"T_067de42e_e922_11e8_a008_f01898076315\" > \n",
       "<thead>    <tr> \n",
       "        <th class=\"blank level0\" ></th> \n",
       "        <th class=\"col_heading level0 col0\" >title</th> \n",
       "        <th class=\"col_heading level0 col1\" >description</th> \n",
       "        <th class=\"col_heading level0 col2\" >city</th> \n",
       "        <th class=\"col_heading level0 col3\" >url</th> \n",
       "    </tr></thead> \n",
       "<tbody>    <tr> \n",
       "        <th id=\"T_067de42e_e922_11e8_a008_f01898076315level0_row0\" class=\"row_heading level0 row0\" >0</th> \n",
       "        <td id=\"T_067de42e_e922_11e8_a008_f01898076315row0_col0\" class=\"data row0 col0\" >Rumbo Haus</td> \n",
       "        <td id=\"T_067de42e_e922_11e8_a008_f01898076315row0_col1\" class=\"data row0 col1\" >Beautiful, home in Historic Grapevine, lots of great sights shopping dining &amp; entertainment. Near both Dallas Zoo &amp; Fort Worth Zoo, Legoland,Aquarium Six Flags, see a Texas Ranger game. Perot museum, &amp; many other sights. You can have full 12 hour days and not see everything in the area, or just relax by the pool. 5 min from DFW airport, and 2 min from major highways.</td> \n",
       "        <td id=\"T_067de42e_e922_11e8_a008_f01898076315row0_col2\" class=\"data row0 col2\" >Grapevine</td> \n",
       "        <td id=\"T_067de42e_e922_11e8_a008_f01898076315row0_col3\" class=\"data row0 col3\" >https://www.airbnb.com/rooms/18720079?location=Bedford%2C%20TX</td> \n",
       "    </tr></tbody> \n",
       "</table> "
      ],
      "text/plain": [
       "<pandas.io.formats.style.Styler at 0x1a14b4ed30>"
      ]
     },
     "metadata": {},
     "output_type": "display_data"
    },
    {
     "data": {
      "text/html": [
       "<style  type=\"text/css\" >\n",
       "</style>  \n",
       "<table id=\"T_067eb79e_e922_11e8_a863_f01898076315\" > \n",
       "<thead>    <tr> \n",
       "        <th class=\"blank level0\" ></th> \n",
       "        <th class=\"col_heading level0 col0\" >title</th> \n",
       "        <th class=\"col_heading level0 col1\" >description</th> \n",
       "        <th class=\"col_heading level0 col2\" >city</th> \n",
       "        <th class=\"col_heading level0 col3\" >url</th> \n",
       "    </tr></thead> \n",
       "<tbody>    <tr> \n",
       "        <th id=\"T_067eb79e_e922_11e8_a863_f01898076315level0_row0\" class=\"row_heading level0 row0\" >0</th> \n",
       "        <td id=\"T_067eb79e_e922_11e8_a863_f01898076315row0_col0\" class=\"data row0 col0\" >Cozy Bedroom near the DFW Airport</td> \n",
       "        <td id=\"T_067eb79e_e922_11e8_a863_f01898076315row0_col1\" class=\"data row0 col1\" >Our home is located about 10 minutes away from the DFW airport, located on a quiet street. The room offered is cozy and homey. It comfortably fits two. Enjoy a wonderful side yard, relaxing bath area, with access to tons of restaurants and shopping just a few minutes away.</td> \n",
       "        <td id=\"T_067eb79e_e922_11e8_a863_f01898076315row0_col2\" class=\"data row0 col2\" >Irving</td> \n",
       "        <td id=\"T_067eb79e_e922_11e8_a863_f01898076315row0_col3\" class=\"data row0 col3\" >https://www.airbnb.com/rooms/7281155?location=Coppell%2C%20TX</td> \n",
       "    </tr></tbody> \n",
       "</table> "
      ],
      "text/plain": [
       "<pandas.io.formats.style.Styler at 0x1a14b4e0f0>"
      ]
     },
     "metadata": {},
     "output_type": "display_data"
    },
    {
     "data": {
      "text/html": [
       "<style  type=\"text/css\" >\n",
       "</style>  \n",
       "<table id=\"T_067f6aba_e922_11e8_8d7c_f01898076315\" > \n",
       "<thead>    <tr> \n",
       "        <th class=\"blank level0\" ></th> \n",
       "        <th class=\"col_heading level0 col0\" >title</th> \n",
       "        <th class=\"col_heading level0 col1\" >description</th> \n",
       "        <th class=\"col_heading level0 col2\" >city</th> \n",
       "        <th class=\"col_heading level0 col3\" >url</th> \n",
       "    </tr></thead> \n",
       "<tbody>    <tr> \n",
       "        <th id=\"T_067f6aba_e922_11e8_8d7c_f01898076315level0_row0\" class=\"row_heading level0 row0\" >0</th> \n",
       "        <td id=\"T_067f6aba_e922_11e8_8d7c_f01898076315row0_col0\" class=\"data row0 col0\" >Quiet and safe Apartment near I30. Super cozy!</td> \n",
       "        <td id=\"T_067f6aba_e922_11e8_8d7c_f01898076315row0_col1\" class=\"data row0 col1\" >My place is close to the airport, parks, and nightlife. YouÃ¢ÂÂll love my place because of the coziness, the location, the high ceilings, and the kitchen. My place is good for couples, solo adventurers, business travelers, and families (with kids).</td> \n",
       "        <td id=\"T_067f6aba_e922_11e8_8d7c_f01898076315row0_col2\" class=\"data row0 col2\" >Arlington</td> \n",
       "        <td id=\"T_067f6aba_e922_11e8_8d7c_f01898076315row0_col3\" class=\"data row0 col3\" >https://www.airbnb.com/rooms/13996476?location=Arlington%2C%20TX</td> \n",
       "    </tr></tbody> \n",
       "</table> "
      ],
      "text/plain": [
       "<pandas.io.formats.style.Styler at 0x1a14b4e320>"
      ]
     },
     "metadata": {},
     "output_type": "display_data"
    },
    {
     "data": {
      "text/html": [
       "<style  type=\"text/css\" >\n",
       "</style>  \n",
       "<table id=\"T_06805498_e922_11e8_a96d_f01898076315\" > \n",
       "<thead>    <tr> \n",
       "        <th class=\"blank level0\" ></th> \n",
       "        <th class=\"col_heading level0 col0\" >title</th> \n",
       "        <th class=\"col_heading level0 col1\" >description</th> \n",
       "        <th class=\"col_heading level0 col2\" >city</th> \n",
       "        <th class=\"col_heading level0 col3\" >url</th> \n",
       "    </tr></thead> \n",
       "<tbody>    <tr> \n",
       "        <th id=\"T_06805498_e922_11e8_a96d_f01898076315level0_row0\" class=\"row_heading level0 row0\" >0</th> \n",
       "        <td id=\"T_06805498_e922_11e8_a96d_f01898076315row0_col0\" class=\"data row0 col0\" >Private Room&Bath Near Airport/AA Training/Stadium</td> \n",
       "        <td id=\"T_06805498_e922_11e8_a96d_f01898076315row0_col1\" class=\"data row0 col1\" >You'll love my place, a two-story house in a perfect mid-cities location between Dallas and Fort Worth.\\n\\n5 minutes from AA Training center,\\n8 minutes from DFW International Airport and rail station. \\n20 minutes from Love Field airport and downtown/uptown Dallas, American Airlines Center, Dallas Cowboy Stadium, Six Flags, Ranger Stadium,Grapevine Mills Mall, Southlake, Texas Motor Speedway.</td> \n",
       "        <td id=\"T_06805498_e922_11e8_a96d_f01898076315row0_col2\" class=\"data row0 col2\" >Euless</td> \n",
       "        <td id=\"T_06805498_e922_11e8_a96d_f01898076315row0_col3\" class=\"data row0 col3\" >https://www.airbnb.com/rooms/17891400?location=Colleyville%2C%20TX</td> \n",
       "    </tr></tbody> \n",
       "</table> "
      ],
      "text/plain": [
       "<pandas.io.formats.style.Styler at 0x1a14b4eac8>"
      ]
     },
     "metadata": {},
     "output_type": "display_data"
    },
    {
     "data": {
      "text/html": [
       "<style  type=\"text/css\" >\n",
       "</style>  \n",
       "<table id=\"T_06811bda_e922_11e8_8629_f01898076315\" > \n",
       "<thead>    <tr> \n",
       "        <th class=\"blank level0\" ></th> \n",
       "        <th class=\"col_heading level0 col0\" >title</th> \n",
       "        <th class=\"col_heading level0 col1\" >description</th> \n",
       "        <th class=\"col_heading level0 col2\" >city</th> \n",
       "        <th class=\"col_heading level0 col3\" >url</th> \n",
       "    </tr></thead> \n",
       "<tbody>    <tr> \n",
       "        <th id=\"T_06811bda_e922_11e8_8629_f01898076315level0_row0\" class=\"row_heading level0 row0\" >0</th> \n",
       "        <td id=\"T_06811bda_e922_11e8_8629_f01898076315row0_col0\" class=\"data row0 col0\" >One bedroom near DFW Airport</td> \n",
       "        <td id=\"T_06811bda_e922_11e8_8629_f01898076315row0_col1\" class=\"data row0 col1\" >Cozy, modern day living. Located near Trinity river park. Uber is easily accessible. This place is sure to feel like home .\\nOne closet will be closed.</td> \n",
       "        <td id=\"T_06811bda_e922_11e8_8629_f01898076315row0_col2\" class=\"data row0 col2\" >Fort Worth</td> \n",
       "        <td id=\"T_06811bda_e922_11e8_8629_f01898076315row0_col3\" class=\"data row0 col3\" >https://www.airbnb.com/rooms/17946627?location=Colleyville%2C%20TX</td> \n",
       "    </tr></tbody> \n",
       "</table> "
      ],
      "text/plain": [
       "<pandas.io.formats.style.Styler at 0x1a14a8ec88>"
      ]
     },
     "metadata": {},
     "output_type": "display_data"
    },
    {
     "data": {
      "text/html": [
       "<style  type=\"text/css\" >\n",
       "</style>  \n",
       "<table id=\"T_0682145e_e922_11e8_b59e_f01898076315\" > \n",
       "<thead>    <tr> \n",
       "        <th class=\"blank level0\" ></th> \n",
       "        <th class=\"col_heading level0 col0\" >title</th> \n",
       "        <th class=\"col_heading level0 col1\" >description</th> \n",
       "        <th class=\"col_heading level0 col2\" >city</th> \n",
       "        <th class=\"col_heading level0 col3\" >url</th> \n",
       "    </tr></thead> \n",
       "<tbody>    <tr> \n",
       "        <th id=\"T_0682145e_e922_11e8_b59e_f01898076315level0_row0\" class=\"row_heading level0 row0\" >0</th> \n",
       "        <td id=\"T_0682145e_e922_11e8_b59e_f01898076315row0_col0\" class=\"data row0 col0\" >Private bed/bath near DFW+DAL airports & Galleria</td> \n",
       "        <td id=\"T_0682145e_e922_11e8_b59e_f01898076315row0_col1\" class=\"data row0 col1\" >Room #2 - Private Bed/Bath close to DFW International Airport, Dallas Love Field (DAL) Airport, Irving Convention Center, Galleria Mall, North Park Mall, Downtown Dallas, Uptown Dallas, Las Colinas, Grapevine Mills Outlet Mall. YouÃ¢ÂÂll love the high ceilings, the coziness, the cleanliness, brand new home, quiet, jogging/biking/walking trails nearby, man made lake/river/canals nearby, scenic and peaceful. My place is good for couples, solo adventurers, business travelers, and families (with kids).</td> \n",
       "        <td id=\"T_0682145e_e922_11e8_b59e_f01898076315row0_col2\" class=\"data row0 col2\" >Irving</td> \n",
       "        <td id=\"T_0682145e_e922_11e8_b59e_f01898076315row0_col3\" class=\"data row0 col3\" >https://www.airbnb.com/rooms/17189405?location=Coppell%2C%20TX</td> \n",
       "    </tr></tbody> \n",
       "</table> "
      ],
      "text/plain": [
       "<pandas.io.formats.style.Styler at 0x1a14ae00b8>"
      ]
     },
     "metadata": {},
     "output_type": "display_data"
    },
    {
     "data": {
      "text/html": [
       "<style  type=\"text/css\" >\n",
       "</style>  \n",
       "<table id=\"T_06831dfe_e922_11e8_9e42_f01898076315\" > \n",
       "<thead>    <tr> \n",
       "        <th class=\"blank level0\" ></th> \n",
       "        <th class=\"col_heading level0 col0\" >title</th> \n",
       "        <th class=\"col_heading level0 col1\" >description</th> \n",
       "        <th class=\"col_heading level0 col2\" >city</th> \n",
       "        <th class=\"col_heading level0 col3\" >url</th> \n",
       "    </tr></thead> \n",
       "<tbody>    <tr> \n",
       "        <th id=\"T_06831dfe_e922_11e8_9e42_f01898076315level0_row0\" class=\"row_heading level0 row0\" >0</th> \n",
       "        <td id=\"T_06831dfe_e922_11e8_9e42_f01898076315row0_col0\" class=\"data row0 col0\" >Cozy&Comfort Private Rm. Near IAH</td> \n",
       "        <td id=\"T_06831dfe_e922_11e8_9e42_f01898076315row0_col1\" class=\"data row0 col1\" >This home is essential for the person who needs to be minutes from the airport (8min) and downtown (15min).\\nLess than (1mi) from the nearest movie cinema, bowling, and eateries.\\n\\nComplimentary ride from the airport upon request.</td> \n",
       "        <td id=\"T_06831dfe_e922_11e8_9e42_f01898076315row0_col2\" class=\"data row0 col2\" >Humble</td> \n",
       "        <td id=\"T_06831dfe_e922_11e8_9e42_f01898076315row0_col3\" class=\"data row0 col3\" >https://www.airbnb.com/rooms/10888712?location=Baytown%2C%20TX</td> \n",
       "    </tr></tbody> \n",
       "</table> "
      ],
      "text/plain": [
       "<pandas.io.formats.style.Styler at 0x1a148b99e8>"
      ]
     },
     "metadata": {},
     "output_type": "display_data"
    },
    {
     "data": {
      "text/html": [
       "<style  type=\"text/css\" >\n",
       "</style>  \n",
       "<table id=\"T_0683eb80_e922_11e8_a9e9_f01898076315\" > \n",
       "<thead>    <tr> \n",
       "        <th class=\"blank level0\" ></th> \n",
       "        <th class=\"col_heading level0 col0\" >title</th> \n",
       "        <th class=\"col_heading level0 col1\" >description</th> \n",
       "        <th class=\"col_heading level0 col2\" >city</th> \n",
       "        <th class=\"col_heading level0 col3\" >url</th> \n",
       "    </tr></thead> \n",
       "<tbody>    <tr> \n",
       "        <th id=\"T_0683eb80_e922_11e8_a9e9_f01898076315level0_row0\" class=\"row_heading level0 row0\" >0</th> \n",
       "        <td id=\"T_0683eb80_e922_11e8_a9e9_f01898076315row0_col0\" class=\"data row0 col0\" >Room Of Fame # 2</td> \n",
       "        <td id=\"T_0683eb80_e922_11e8_a9e9_f01898076315row0_col1\" class=\"data row0 col1\" >Welcome to our place, We are close to DFW Airport (10 mins) and Love Field (25 mins) Irving has many fine restaurants and dining, family-friendly activities, and nightlife. Irving is traversed by numerous highways. The Airport Freeway, TX- 183, Interstate 635 , Highway 114 and the President George Bush Turnpike, The Las Colinas area is centered near the intersection of 114 and the Bush turnpike.</td> \n",
       "        <td id=\"T_0683eb80_e922_11e8_a9e9_f01898076315row0_col2\" class=\"data row0 col2\" >Irving</td> \n",
       "        <td id=\"T_0683eb80_e922_11e8_a9e9_f01898076315row0_col3\" class=\"data row0 col3\" >https://www.airbnb.com/rooms/17040842?location=Colleyville%2C%20TX</td> \n",
       "    </tr></tbody> \n",
       "</table> "
      ],
      "text/plain": [
       "<pandas.io.formats.style.Styler at 0x1a14b4ecc0>"
      ]
     },
     "metadata": {},
     "output_type": "display_data"
    },
    {
     "data": {
      "text/html": [
       "<style  type=\"text/css\" >\n",
       "</style>  \n",
       "<table id=\"T_0684c9e2_e922_11e8_a3b3_f01898076315\" > \n",
       "<thead>    <tr> \n",
       "        <th class=\"blank level0\" ></th> \n",
       "        <th class=\"col_heading level0 col0\" >title</th> \n",
       "        <th class=\"col_heading level0 col1\" >description</th> \n",
       "        <th class=\"col_heading level0 col2\" >city</th> \n",
       "        <th class=\"col_heading level0 col3\" >url</th> \n",
       "    </tr></thead> \n",
       "<tbody>    <tr> \n",
       "        <th id=\"T_0684c9e2_e922_11e8_a3b3_f01898076315level0_row0\" class=\"row_heading level0 row0\" >0</th> \n",
       "        <td id=\"T_0684c9e2_e922_11e8_a3b3_f01898076315row0_col0\" class=\"data row0 col0\" >Private room near Airport and CotA</td> \n",
       "        <td id=\"T_0684c9e2_e922_11e8_a3b3_f01898076315row0_col1\" class=\"data row0 col1\" >Comfortable room available near Austin airport. Five minutes to Circuit of the Americas, 15 to Downtown.</td> \n",
       "        <td id=\"T_0684c9e2_e922_11e8_a3b3_f01898076315row0_col2\" class=\"data row0 col2\" >Del Valle</td> \n",
       "        <td id=\"T_0684c9e2_e922_11e8_a3b3_f01898076315row0_col3\" class=\"data row0 col3\" >https://www.airbnb.com/rooms/15444225?location=Bastrop%20County%2C%20TX</td> \n",
       "    </tr></tbody> \n",
       "</table> "
      ],
      "text/plain": [
       "<pandas.io.formats.style.Styler at 0x1a14b4e160>"
      ]
     },
     "metadata": {},
     "output_type": "display_data"
    },
    {
     "data": {
      "text/html": [
       "<style  type=\"text/css\" >\n",
       "</style>  \n",
       "<table id=\"T_06858d98_e922_11e8_a265_f01898076315\" > \n",
       "<thead>    <tr> \n",
       "        <th class=\"blank level0\" ></th> \n",
       "        <th class=\"col_heading level0 col0\" >title</th> \n",
       "        <th class=\"col_heading level0 col1\" >description</th> \n",
       "        <th class=\"col_heading level0 col2\" >city</th> \n",
       "        <th class=\"col_heading level0 col3\" >url</th> \n",
       "    </tr></thead> \n",
       "<tbody>    <tr> \n",
       "        <th id=\"T_06858d98_e922_11e8_a265_f01898076315level0_row0\" class=\"row_heading level0 row0\" >0</th> \n",
       "        <td id=\"T_06858d98_e922_11e8_a265_f01898076315row0_col0\" class=\"data row0 col0\" >1 Bedroom | 1 Bathroom | 680 SF</td> \n",
       "        <td id=\"T_06858d98_e922_11e8_a265_f01898076315row0_col1\" class=\"data row0 col1\" >Hello!\\n\\nThank you for your interest in my space! My apartment is on the first floor in a gated community. 5 Minutes from major shopping, Wal-mart, HEB, Ice-skating rink, mini-golf, and a Movie Theater; near the intersection of HWY 281 and Loop 1604. I am about 15-20 minutes from downtown and about 5-10 minutes from San Antonio International Airport. \\n\\nGreat way to get around this city is using Uber, if it is your first time using Uber enter code: kaitlina318ue for your first ride FREE!</td> \n",
       "        <td id=\"T_06858d98_e922_11e8_a265_f01898076315row0_col2\" class=\"data row0 col2\" >San Antonio</td> \n",
       "        <td id=\"T_06858d98_e922_11e8_a265_f01898076315row0_col3\" class=\"data row0 col3\" >https://www.airbnb.com/rooms/18416476?location=Bulverde%2C%20TX</td> \n",
       "    </tr></tbody> \n",
       "</table> "
      ],
      "text/plain": [
       "<pandas.io.formats.style.Styler at 0x1a14b4e630>"
      ]
     },
     "metadata": {},
     "output_type": "display_data"
    },
    {
     "data": {
      "text/html": [
       "<style  type=\"text/css\" >\n",
       "</style>  \n",
       "<table id=\"T_0686530c_e922_11e8_9b71_f01898076315\" > \n",
       "<thead>    <tr> \n",
       "        <th class=\"blank level0\" ></th> \n",
       "        <th class=\"col_heading level0 col0\" >title</th> \n",
       "        <th class=\"col_heading level0 col1\" >description</th> \n",
       "        <th class=\"col_heading level0 col2\" >city</th> \n",
       "        <th class=\"col_heading level0 col3\" >url</th> \n",
       "    </tr></thead> \n",
       "<tbody>    <tr> \n",
       "        <th id=\"T_0686530c_e922_11e8_9b71_f01898076315level0_row0\" class=\"row_heading level0 row0\" >0</th> \n",
       "        <td id=\"T_0686530c_e922_11e8_9b71_f01898076315row0_col0\" class=\"data row0 col0\" >Guest room near SMU/Downtown/DLA AP/Train Station</td> \n",
       "        <td id=\"T_0686530c_e922_11e8_9b71_f01898076315row0_col1\" class=\"data row0 col1\" >1 PRIVATE clean comfy bedroom with 1 queen bed. Share bathroom with a host. provide towels n soaps. Free Wi-Fi. 24 Hours Free Parking at Right Side of Bichbrook Dr. The house is near SMU &amp; Train Station LOVERS LANE walking distance is 10 min. Dallas Love Field airport is 15 min by car. DFW Airport can be there by train .Downtown/Uptown Dallas is 10 min by car/ 4 to 5 stops by train. A lot of Restaurants &amp; Bars at the Greenville Ave which one street away. The neighborhood is very quiet and safe.</td> \n",
       "        <td id=\"T_0686530c_e922_11e8_9b71_f01898076315row0_col2\" class=\"data row0 col2\" >Dallas</td> \n",
       "        <td id=\"T_0686530c_e922_11e8_9b71_f01898076315row0_col3\" class=\"data row0 col3\" >https://www.airbnb.com/rooms/16435144?location=Arlington%2C%20TX</td> \n",
       "    </tr></tbody> \n",
       "</table> "
      ],
      "text/plain": [
       "<pandas.io.formats.style.Styler at 0x1a14b4ee80>"
      ]
     },
     "metadata": {},
     "output_type": "display_data"
    },
    {
     "data": {
      "text/html": [
       "<style  type=\"text/css\" >\n",
       "</style>  \n",
       "<table id=\"T_068702d4_e922_11e8_9884_f01898076315\" > \n",
       "<thead>    <tr> \n",
       "        <th class=\"blank level0\" ></th> \n",
       "        <th class=\"col_heading level0 col0\" >title</th> \n",
       "        <th class=\"col_heading level0 col1\" >description</th> \n",
       "        <th class=\"col_heading level0 col2\" >city</th> \n",
       "        <th class=\"col_heading level0 col3\" >url</th> \n",
       "    </tr></thead> \n",
       "<tbody>    <tr> \n",
       "        <th id=\"T_068702d4_e922_11e8_9884_f01898076315level0_row0\" class=\"row_heading level0 row0\" >0</th> \n",
       "        <td id=\"T_068702d4_e922_11e8_9884_f01898076315row0_col0\" class=\"data row0 col0\" >1 Bedroom Apartment Near Oaklawn/Love Field</td> \n",
       "        <td id=\"T_068702d4_e922_11e8_9884_f01898076315row0_col1\" class=\"data row0 col1\" >This apartment is located close to Oak Lawn, Dallas Love Field airport, Highland Park Village and Uptown. Downtown Dallas, Greenville, and Deep Ellum are just a 10-15 minute drive. You will have the entire apartment which includes a king sized memory foam bed, kitchen/cookware, high speed internet, and gated parking. It is minimally furnished but perfect for those looking for an affordable place to stay.</td> \n",
       "        <td id=\"T_068702d4_e922_11e8_9884_f01898076315row0_col2\" class=\"data row0 col2\" >Dallas</td> \n",
       "        <td id=\"T_068702d4_e922_11e8_9884_f01898076315row0_col3\" class=\"data row0 col3\" >https://www.airbnb.com/rooms/18992667?location=Arlington%2C%20TX</td> \n",
       "    </tr></tbody> \n",
       "</table> "
      ],
      "text/plain": [
       "<pandas.io.formats.style.Styler at 0x1a14b48b38>"
      ]
     },
     "metadata": {},
     "output_type": "display_data"
    },
    {
     "data": {
      "text/html": [
       "<style  type=\"text/css\" >\n",
       "</style>  \n",
       "<table id=\"T_0687ead2_e922_11e8_a869_f01898076315\" > \n",
       "<thead>    <tr> \n",
       "        <th class=\"blank level0\" ></th> \n",
       "        <th class=\"col_heading level0 col0\" >title</th> \n",
       "        <th class=\"col_heading level0 col1\" >description</th> \n",
       "        <th class=\"col_heading level0 col2\" >city</th> \n",
       "        <th class=\"col_heading level0 col3\" >url</th> \n",
       "    </tr></thead> \n",
       "<tbody>    <tr> \n",
       "        <th id=\"T_0687ead2_e922_11e8_a869_f01898076315level0_row0\" class=\"row_heading level0 row0\" >0</th> \n",
       "        <td id=\"T_0687ead2_e922_11e8_a869_f01898076315row0_col0\" class=\"data row0 col0\" >Designed to Relax + PACKAGE DEAL</td> \n",
       "        <td id=\"T_0687ead2_e922_11e8_a869_f01898076315row0_col1\" class=\"data row0 col1\" >Escape to where comfort meets convenience. Centrally located near shopping &amp; restaurants. Only 7 miles to downtown. Fresh 1 bdrm / 1 bath condo style flat, with full kitchen, living and bedroom areas, along with a beautiful pool. Access to public transportation. Easy commute to airport. Don't have the dates you need? Check out our other listing here: https://www.airbnb.com/rooms/15043275 Ask about our PACKAGE DEAL!</td> \n",
       "        <td id=\"T_0687ead2_e922_11e8_a869_f01898076315row0_col2\" class=\"data row0 col2\" >Dallas</td> \n",
       "        <td id=\"T_0687ead2_e922_11e8_a869_f01898076315row0_col3\" class=\"data row0 col3\" >https://www.airbnb.com/rooms/17142583?location=Brazos%20River%2C%20TX</td> \n",
       "    </tr></tbody> \n",
       "</table> "
      ],
      "text/plain": [
       "<pandas.io.formats.style.Styler at 0x1a14b48978>"
      ]
     },
     "metadata": {},
     "output_type": "display_data"
    },
    {
     "data": {
      "text/html": [
       "<style  type=\"text/css\" >\n",
       "</style>  \n",
       "<table id=\"T_0688bb92_e922_11e8_ba0c_f01898076315\" > \n",
       "<thead>    <tr> \n",
       "        <th class=\"blank level0\" ></th> \n",
       "        <th class=\"col_heading level0 col0\" >title</th> \n",
       "        <th class=\"col_heading level0 col1\" >description</th> \n",
       "        <th class=\"col_heading level0 col2\" >city</th> \n",
       "        <th class=\"col_heading level0 col3\" >url</th> \n",
       "    </tr></thead> \n",
       "<tbody>    <tr> \n",
       "        <th id=\"T_0688bb92_e922_11e8_ba0c_f01898076315level0_row0\" class=\"row_heading level0 row0\" >0</th> \n",
       "        <td id=\"T_0688bb92_e922_11e8_ba0c_f01898076315row0_col0\" class=\"data row0 col0\" >Modern Comfort and Entertainment</td> \n",
       "        <td id=\"T_0688bb92_e922_11e8_ba0c_f01898076315row0_col1\" class=\"data row0 col1\" >Location is key with this stunning 4 bed / 2.5 bath well-maintained home located in the highly desirable neighborhood of Bulverde Village. \\n\\nLike to entertain when in S.A.? There is a huge patio with special yard lighting, pergola and bbq pit. \\n\\n\\nLocation is five minutes away from The Village Shopping Center at Stone Oak with an Alamo Drafthouse Cinema, multiple shops, and restaurants near by. Additionally, Walmart, Costco, HEB, a few malls and the international airport only 15 minutes away.</td> \n",
       "        <td id=\"T_0688bb92_e922_11e8_ba0c_f01898076315row0_col2\" class=\"data row0 col2\" >San Antonio</td> \n",
       "        <td id=\"T_0688bb92_e922_11e8_ba0c_f01898076315row0_col3\" class=\"data row0 col3\" >https://www.airbnb.com/rooms/19114219?location=Cibolo%2C%20TX</td> \n",
       "    </tr></tbody> \n",
       "</table> "
      ],
      "text/plain": [
       "<pandas.io.formats.style.Styler at 0x1a14ae0630>"
      ]
     },
     "metadata": {},
     "output_type": "display_data"
    },
    {
     "data": {
      "text/html": [
       "<style  type=\"text/css\" >\n",
       "</style>  \n",
       "<table id=\"T_068993be_e922_11e8_8b86_f01898076315\" > \n",
       "<thead>    <tr> \n",
       "        <th class=\"blank level0\" ></th> \n",
       "        <th class=\"col_heading level0 col0\" >title</th> \n",
       "        <th class=\"col_heading level0 col1\" >description</th> \n",
       "        <th class=\"col_heading level0 col2\" >city</th> \n",
       "        <th class=\"col_heading level0 col3\" >url</th> \n",
       "    </tr></thead> \n",
       "<tbody>    <tr> \n",
       "        <th id=\"T_068993be_e922_11e8_8b86_f01898076315level0_row0\" class=\"row_heading level0 row0\" >0</th> \n",
       "        <td id=\"T_068993be_e922_11e8_8b86_f01898076315row0_col0\" class=\"data row0 col0\" >Luxury Stay at Home - Private & Safe near Airport</td> \n",
       "        <td id=\"T_068993be_e922_11e8_8b86_f01898076315row0_col1\" class=\"data row0 col1\" >Well maintained room and bathroom. House is situated on corner lot. Extended covered patio with fenced backyard. Kitchen has plenty of counter top space. Neighborhood features includes park area.\\n\\nYou will love staying in my home, it's a 10 minute drive from the DFW airport. Irving is right in the center of Dallas so drive to Downtown or anywhere is a breeze. Neighborhood is safe and quiet.\\n\\nMy place is great for Business Travelers, solo adventures and for couples.</td> \n",
       "        <td id=\"T_068993be_e922_11e8_8b86_f01898076315row0_col2\" class=\"data row0 col2\" >Irving</td> \n",
       "        <td id=\"T_068993be_e922_11e8_8b86_f01898076315row0_col3\" class=\"data row0 col3\" >https://www.airbnb.com/rooms/19000018?location=Cedar%20Hill%2C%20TX</td> \n",
       "    </tr></tbody> \n",
       "</table> "
      ],
      "text/plain": [
       "<pandas.io.formats.style.Styler at 0x1a148b9c50>"
      ]
     },
     "metadata": {},
     "output_type": "display_data"
    },
    {
     "data": {
      "text/html": [
       "<style  type=\"text/css\" >\n",
       "</style>  \n",
       "<table id=\"T_068a7228_e922_11e8_aff0_f01898076315\" > \n",
       "<thead>    <tr> \n",
       "        <th class=\"blank level0\" ></th> \n",
       "        <th class=\"col_heading level0 col0\" >title</th> \n",
       "        <th class=\"col_heading level0 col1\" >description</th> \n",
       "        <th class=\"col_heading level0 col2\" >city</th> \n",
       "        <th class=\"col_heading level0 col3\" >url</th> \n",
       "    </tr></thead> \n",
       "<tbody>    <tr> \n",
       "        <th id=\"T_068a7228_e922_11e8_aff0_f01898076315level0_row0\" class=\"row_heading level0 row0\" >0</th> \n",
       "        <td id=\"T_068a7228_e922_11e8_aff0_f01898076315row0_col0\" class=\"data row0 col0\" >Bed & Wine Cottage in Alamo Heights</td> \n",
       "        <td id=\"T_068a7228_e922_11e8_aff0_f01898076315row0_col1\" class=\"data row0 col1\" >Stay in the heart of San Antonio, five minutes from the airport, walking distance to the Quarry Village, 10 minutes from thriving downtown and The Pearl, near the McNay Museum and the SAMA. A private little cottage and serene outdoor living!</td> \n",
       "        <td id=\"T_068a7228_e922_11e8_aff0_f01898076315row0_col2\" class=\"data row0 col2\" >San Antonio</td> \n",
       "        <td id=\"T_068a7228_e922_11e8_aff0_f01898076315row0_col3\" class=\"data row0 col3\" >https://www.airbnb.com/rooms/11892158?location=Alamo%20Heights%2C%20TX</td> \n",
       "    </tr></tbody> \n",
       "</table> "
      ],
      "text/plain": [
       "<pandas.io.formats.style.Styler at 0x1a14b481d0>"
      ]
     },
     "metadata": {},
     "output_type": "display_data"
    },
    {
     "data": {
      "text/html": [
       "<style  type=\"text/css\" >\n",
       "</style>  \n",
       "<table id=\"T_068b2a8a_e922_11e8_b61a_f01898076315\" > \n",
       "<thead>    <tr> \n",
       "        <th class=\"blank level0\" ></th> \n",
       "        <th class=\"col_heading level0 col0\" >title</th> \n",
       "        <th class=\"col_heading level0 col1\" >description</th> \n",
       "        <th class=\"col_heading level0 col2\" >city</th> \n",
       "        <th class=\"col_heading level0 col3\" >url</th> \n",
       "    </tr></thead> \n",
       "<tbody>    <tr> \n",
       "        <th id=\"T_068b2a8a_e922_11e8_b61a_f01898076315level0_row0\" class=\"row_heading level0 row0\" >0</th> \n",
       "        <td id=\"T_068b2a8a_e922_11e8_b61a_f01898076315row0_col0\" class=\"data row0 col0\" >Near Hobby Airport</td> \n",
       "        <td id=\"T_068b2a8a_e922_11e8_b61a_f01898076315row0_col1\" class=\"data row0 col1\" >5 minutes from Hobby Airport in a very quiet residential neighborhood. Quick access to downtown.</td> \n",
       "        <td id=\"T_068b2a8a_e922_11e8_b61a_f01898076315row0_col2\" class=\"data row0 col2\" >Houston</td> \n",
       "        <td id=\"T_068b2a8a_e922_11e8_b61a_f01898076315row0_col3\" class=\"data row0 col3\" >https://www.airbnb.com/rooms/17217137?location=Baytown%2C%20TX</td> \n",
       "    </tr></tbody> \n",
       "</table> "
      ],
      "text/plain": [
       "<pandas.io.formats.style.Styler at 0x1a14b4e630>"
      ]
     },
     "metadata": {},
     "output_type": "display_data"
    },
    {
     "data": {
      "text/html": [
       "<style  type=\"text/css\" >\n",
       "</style>  \n",
       "<table id=\"T_068be7d8_e922_11e8_be6c_f01898076315\" > \n",
       "<thead>    <tr> \n",
       "        <th class=\"blank level0\" ></th> \n",
       "        <th class=\"col_heading level0 col0\" >title</th> \n",
       "        <th class=\"col_heading level0 col1\" >description</th> \n",
       "        <th class=\"col_heading level0 col2\" >city</th> \n",
       "        <th class=\"col_heading level0 col3\" >url</th> \n",
       "    </tr></thead> \n",
       "<tbody>    <tr> \n",
       "        <th id=\"T_068be7d8_e922_11e8_be6c_f01898076315level0_row0\" class=\"row_heading level0 row0\" >0</th> \n",
       "        <td id=\"T_068be7d8_e922_11e8_be6c_f01898076315row0_col0\" class=\"data row0 col0\" >Authentic Country Setting near Austin TX</td> \n",
       "        <td id=\"T_068be7d8_e922_11e8_be6c_f01898076315row0_col1\" class=\"data row0 col1\" >Our place is close to family-friendly activities, the city center, and the airport. A peaceful and comfortable place on a five acres green-land!\\nIf you like to unplug from the world but to be near the full action city of Austin, this is perfect! Relax &amp; Rejuvenate at home, but don't miss cool live music evenings Downtown Austin on 6th street! \\nFive mins drive from Ghost Town, Manor TX! Family-friendly venue featuring Old West storefronts, a maze &amp; games, and ten mins from Elgin Historic city!</td> \n",
       "        <td id=\"T_068be7d8_e922_11e8_be6c_f01898076315row0_col2\" class=\"data row0 col2\" >Elgin</td> \n",
       "        <td id=\"T_068be7d8_e922_11e8_be6c_f01898076315row0_col3\" class=\"data row0 col3\" >https://www.airbnb.com/rooms/16899052?location=Coupland%2C%20TX</td> \n",
       "    </tr></tbody> \n",
       "</table> "
      ],
      "text/plain": [
       "<pandas.io.formats.style.Styler at 0x1a14b4e320>"
      ]
     },
     "metadata": {},
     "output_type": "display_data"
    },
    {
     "data": {
      "text/html": [
       "<style  type=\"text/css\" >\n",
       "</style>  \n",
       "<table id=\"T_068ce3a2_e922_11e8_8c15_f01898076315\" > \n",
       "<thead>    <tr> \n",
       "        <th class=\"blank level0\" ></th> \n",
       "        <th class=\"col_heading level0 col0\" >title</th> \n",
       "        <th class=\"col_heading level0 col1\" >description</th> \n",
       "        <th class=\"col_heading level0 col2\" >city</th> \n",
       "        <th class=\"col_heading level0 col3\" >url</th> \n",
       "    </tr></thead> \n",
       "<tbody>    <tr> \n",
       "        <th id=\"T_068ce3a2_e922_11e8_8c15_f01898076315level0_row0\" class=\"row_heading level0 row0\" >0</th> \n",
       "        <td id=\"T_068ce3a2_e922_11e8_8c15_f01898076315row0_col0\" class=\"data row0 col0\" >One bedroom with en-suite bath in bright condo</td> \n",
       "        <td id=\"T_068ce3a2_e922_11e8_8c15_f01898076315row0_col1\" class=\"data row0 col1\" >Bedroom 2 in our condo which is located 10 minutes (6 miles) from DFW, 20 minutes (14 miles) to Love Field Airport, and 20 minutes to downtown with high access very close by. Located strategically near shopping and restaurants. Irving Mall is 5 minutes away. Public transport (bus route) is right by the community entrance, and most everything else is a short Uber/Lyft ride away.</td> \n",
       "        <td id=\"T_068ce3a2_e922_11e8_8c15_f01898076315row0_col2\" class=\"data row0 col2\" >Irving</td> \n",
       "        <td id=\"T_068ce3a2_e922_11e8_8c15_f01898076315row0_col3\" class=\"data row0 col3\" >https://www.airbnb.com/rooms/19209799?location=Carrollton%2C%20TX</td> \n",
       "    </tr></tbody> \n",
       "</table> "
      ],
      "text/plain": [
       "<pandas.io.formats.style.Styler at 0x1a14b4eda0>"
      ]
     },
     "metadata": {},
     "output_type": "display_data"
    },
    {
     "data": {
      "text/html": [
       "<style  type=\"text/css\" >\n",
       "</style>  \n",
       "<table id=\"T_068dca10_e922_11e8_bfc8_f01898076315\" > \n",
       "<thead>    <tr> \n",
       "        <th class=\"blank level0\" ></th> \n",
       "        <th class=\"col_heading level0 col0\" >title</th> \n",
       "        <th class=\"col_heading level0 col1\" >description</th> \n",
       "        <th class=\"col_heading level0 col2\" >city</th> \n",
       "        <th class=\"col_heading level0 col3\" >url</th> \n",
       "    </tr></thead> \n",
       "<tbody>    <tr> \n",
       "        <th id=\"T_068dca10_e922_11e8_bfc8_f01898076315level0_row0\" class=\"row_heading level0 row0\" >0</th> \n",
       "        <td id=\"T_068dca10_e922_11e8_bfc8_f01898076315row0_col0\" class=\"data row0 col0\" >(A) Private Room Gated Community Near DFW Airport</td> \n",
       "        <td id=\"T_068dca10_e922_11e8_bfc8_f01898076315row0_col1\" class=\"data row0 col1\" >Bookings available from Aug 12th. You are booking a modern private room in a two story house. Located near major highways, restaurants, grocery stores, Texas star golf course, parks, AT&amp;T stadium, and just 10 min to DFW airport. My space is in between Dallas and Fort Worth cities. Great for interns, travel workers, students (15 min to UT Arlington), business travelers, and even for adventurers. Short-term and Long-term discounts.</td> \n",
       "        <td id=\"T_068dca10_e922_11e8_bfc8_f01898076315row0_col2\" class=\"data row0 col2\" >Euless</td> \n",
       "        <td id=\"T_068dca10_e922_11e8_bfc8_f01898076315row0_col3\" class=\"data row0 col3\" >https://www.airbnb.com/rooms/17774106?location=Bedford%2C%20TX</td> \n",
       "    </tr></tbody> \n",
       "</table> "
      ],
      "text/plain": [
       "<pandas.io.formats.style.Styler at 0x1a14a8eb00>"
      ]
     },
     "metadata": {},
     "output_type": "display_data"
    },
    {
     "data": {
      "text/html": [
       "<style  type=\"text/css\" >\n",
       "</style>  \n",
       "<table id=\"T_068e86f8_e922_11e8_a752_f01898076315\" > \n",
       "<thead>    <tr> \n",
       "        <th class=\"blank level0\" ></th> \n",
       "        <th class=\"col_heading level0 col0\" >title</th> \n",
       "        <th class=\"col_heading level0 col1\" >description</th> \n",
       "        <th class=\"col_heading level0 col2\" >city</th> \n",
       "        <th class=\"col_heading level0 col3\" >url</th> \n",
       "    </tr></thead> \n",
       "<tbody>    <tr> \n",
       "        <th id=\"T_068e86f8_e922_11e8_a752_f01898076315level0_row0\" class=\"row_heading level0 row0\" >0</th> \n",
       "        <td id=\"T_068e86f8_e922_11e8_a752_f01898076315row0_col0\" class=\"data row0 col0\" >Private room near CotA</td> \n",
       "        <td id=\"T_068e86f8_e922_11e8_a752_f01898076315row0_col1\" class=\"data row0 col1\" >Comfortable room available near Austin airport. Five minutes to Circuit of the Americas, 15 to Downtown.</td> \n",
       "        <td id=\"T_068e86f8_e922_11e8_a752_f01898076315row0_col2\" class=\"data row0 col2\" >Austin</td> \n",
       "        <td id=\"T_068e86f8_e922_11e8_a752_f01898076315row0_col3\" class=\"data row0 col3\" >https://www.airbnb.com/rooms/15462407?location=Bastrop%20County%2C%20TX</td> \n",
       "    </tr></tbody> \n",
       "</table> "
      ],
      "text/plain": [
       "<pandas.io.formats.style.Styler at 0x10e7b3978>"
      ]
     },
     "metadata": {},
     "output_type": "display_data"
    },
    {
     "data": {
      "text/html": [
       "<style  type=\"text/css\" >\n",
       "</style>  \n",
       "<table id=\"T_068f7770_e922_11e8_bab7_f01898076315\" > \n",
       "<thead>    <tr> \n",
       "        <th class=\"blank level0\" ></th> \n",
       "        <th class=\"col_heading level0 col0\" >title</th> \n",
       "        <th class=\"col_heading level0 col1\" >description</th> \n",
       "        <th class=\"col_heading level0 col2\" >city</th> \n",
       "        <th class=\"col_heading level0 col3\" >url</th> \n",
       "    </tr></thead> \n",
       "<tbody>    <tr> \n",
       "        <th id=\"T_068f7770_e922_11e8_bab7_f01898076315level0_row0\" class=\"row_heading level0 row0\" >0</th> \n",
       "        <td id=\"T_068f7770_e922_11e8_bab7_f01898076315row0_col0\" class=\"data row0 col0\" >Private Room/shared Apt. Near Everything</td> \n",
       "        <td id=\"T_068f7770_e922_11e8_bab7_f01898076315row0_col1\" class=\"data row0 col1\" >Located in Hurst next to Tarrant County College NE Campus, the Apt is convenient and in a safe area. Located less than a mile from Retail/NE Mall/Restaurants, right off HWY 121/183, Ft. worth is 10 min away and Dallas is only 20 min Away. DFW Airport is less than 15 min away!</td> \n",
       "        <td id=\"T_068f7770_e922_11e8_bab7_f01898076315row0_col2\" class=\"data row0 col2\" >Hurst</td> \n",
       "        <td id=\"T_068f7770_e922_11e8_bab7_f01898076315row0_col3\" class=\"data row0 col3\" >https://www.airbnb.com/rooms/12001137?location=Bedford%2C%20TX</td> \n",
       "    </tr></tbody> \n",
       "</table> "
      ],
      "text/plain": [
       "<pandas.io.formats.style.Styler at 0x1a14a8e390>"
      ]
     },
     "metadata": {},
     "output_type": "display_data"
    },
    {
     "data": {
      "text/html": [
       "<style  type=\"text/css\" >\n",
       "</style>  \n",
       "<table id=\"T_06903d22_e922_11e8_bfef_f01898076315\" > \n",
       "<thead>    <tr> \n",
       "        <th class=\"blank level0\" ></th> \n",
       "        <th class=\"col_heading level0 col0\" >title</th> \n",
       "        <th class=\"col_heading level0 col1\" >description</th> \n",
       "        <th class=\"col_heading level0 col2\" >city</th> \n",
       "        <th class=\"col_heading level0 col3\" >url</th> \n",
       "    </tr></thead> \n",
       "<tbody>    <tr> \n",
       "        <th id=\"T_06903d22_e922_11e8_bfef_f01898076315level0_row0\" class=\"row_heading level0 row0\" >0</th> \n",
       "        <td id=\"T_06903d22_e922_11e8_bfef_f01898076315row0_col0\" class=\"data row0 col0\" >Cozy room for two near Kyle field</td> \n",
       "        <td id=\"T_06903d22_e922_11e8_bfef_f01898076315row0_col1\" class=\"data row0 col1\" >My place is close to Kyle Field (1.4 miles away), nightlife , the airport (4.7 miles away), public transport. YouÃ¢ÂÂll love my place because of the location and the privacy of having your own room. My place is good for couples and solo adventurers.</td> \n",
       "        <td id=\"T_06903d22_e922_11e8_bfef_f01898076315row0_col2\" class=\"data row0 col2\" >College Station</td> \n",
       "        <td id=\"T_06903d22_e922_11e8_bfef_f01898076315row0_col3\" class=\"data row0 col3\" >https://www.airbnb.com/rooms/14609402?location=College%20Station%2C%20TX</td> \n",
       "    </tr></tbody> \n",
       "</table> "
      ],
      "text/plain": [
       "<pandas.io.formats.style.Styler at 0x1a14a8e5f8>"
      ]
     },
     "metadata": {},
     "output_type": "display_data"
    },
    {
     "data": {
      "text/html": [
       "<style  type=\"text/css\" >\n",
       "</style>  \n",
       "<table id=\"T_06910a7a_e922_11e8_8438_f01898076315\" > \n",
       "<thead>    <tr> \n",
       "        <th class=\"blank level0\" ></th> \n",
       "        <th class=\"col_heading level0 col0\" >title</th> \n",
       "        <th class=\"col_heading level0 col1\" >description</th> \n",
       "        <th class=\"col_heading level0 col2\" >city</th> \n",
       "        <th class=\"col_heading level0 col3\" >url</th> \n",
       "    </tr></thead> \n",
       "<tbody>    <tr> \n",
       "        <th id=\"T_06910a7a_e922_11e8_8438_f01898076315level0_row0\" class=\"row_heading level0 row0\" >0</th> \n",
       "        <td id=\"T_06910a7a_e922_11e8_8438_f01898076315row0_col0\" class=\"data row0 col0\" >Cozy room for two near Kyle field</td> \n",
       "        <td id=\"T_06910a7a_e922_11e8_8438_f01898076315row0_col1\" class=\"data row0 col1\" >My place is close to Kyle Field (1.4 miles away), nightlife , the airport (4.7 miles away), public transport. YouÃ¢ÂÂll love my place because of the location and the privacy of having your own room. My place is good for couples and solo adventurers.</td> \n",
       "        <td id=\"T_06910a7a_e922_11e8_8438_f01898076315row0_col2\" class=\"data row0 col2\" >College Station</td> \n",
       "        <td id=\"T_06910a7a_e922_11e8_8438_f01898076315row0_col3\" class=\"data row0 col3\" >https://www.airbnb.com/rooms/14609402?location=Bryan%2C%20TX</td> \n",
       "    </tr></tbody> \n",
       "</table> "
      ],
      "text/plain": [
       "<pandas.io.formats.style.Styler at 0x1a14b4ee80>"
      ]
     },
     "metadata": {},
     "output_type": "display_data"
    },
    {
     "data": {
      "text/html": [
       "<style  type=\"text/css\" >\n",
       "</style>  \n",
       "<table id=\"T_0691ea50_e922_11e8_a8e7_f01898076315\" > \n",
       "<thead>    <tr> \n",
       "        <th class=\"blank level0\" ></th> \n",
       "        <th class=\"col_heading level0 col0\" >title</th> \n",
       "        <th class=\"col_heading level0 col1\" >description</th> \n",
       "        <th class=\"col_heading level0 col2\" >city</th> \n",
       "        <th class=\"col_heading level0 col3\" >url</th> \n",
       "    </tr></thead> \n",
       "<tbody>    <tr> \n",
       "        <th id=\"T_0691ea50_e922_11e8_a8e7_f01898076315level0_row0\" class=\"row_heading level0 row0\" >0</th> \n",
       "        <td id=\"T_0691ea50_e922_11e8_a8e7_f01898076315row0_col0\" class=\"data row0 col0\" >1bed/1bath near Lake Arlington</td> \n",
       "        <td id=\"T_0691ea50_e922_11e8_a8e7_f01898076315row0_col1\" class=\"data row0 col1\" >Swimming pool and sun deck\\n\\nVery safe and very quiet neighborhood, 3 parks within walking distance, lake is 5 minutes away\\n\\nFree parking for up to 2 cars, 5 minutes drive to Lake Arlington,\\nTransportation options are available for a fee, pickup and or dropoff from dfw airport or love field is available during most hours for an additional fee (cheaper then uber)</td> \n",
       "        <td id=\"T_0691ea50_e922_11e8_a8e7_f01898076315row0_col2\" class=\"data row0 col2\" >Arlington</td> \n",
       "        <td id=\"T_0691ea50_e922_11e8_a8e7_f01898076315row0_col3\" class=\"data row0 col3\" >https://www.airbnb.com/rooms/13034536?location=Arlington%2C%20TX</td> \n",
       "    </tr></tbody> \n",
       "</table> "
      ],
      "text/plain": [
       "<pandas.io.formats.style.Styler at 0x1a14b4e0b8>"
      ]
     },
     "metadata": {},
     "output_type": "display_data"
    },
    {
     "data": {
      "text/html": [
       "<style  type=\"text/css\" >\n",
       "</style>  \n",
       "<table id=\"T_0692c506_e922_11e8_b5c1_f01898076315\" > \n",
       "<thead>    <tr> \n",
       "        <th class=\"blank level0\" ></th> \n",
       "        <th class=\"col_heading level0 col0\" >title</th> \n",
       "        <th class=\"col_heading level0 col1\" >description</th> \n",
       "        <th class=\"col_heading level0 col2\" >city</th> \n",
       "        <th class=\"col_heading level0 col3\" >url</th> \n",
       "    </tr></thead> \n",
       "<tbody>    <tr> \n",
       "        <th id=\"T_0692c506_e922_11e8_b5c1_f01898076315level0_row0\" class=\"row_heading level0 row0\" >0</th> \n",
       "        <td id=\"T_0692c506_e922_11e8_b5c1_f01898076315row0_col0\" class=\"data row0 col0\" >Convenient location near Love Field and Uptown</td> \n",
       "        <td id=\"T_0692c506_e922_11e8_b5c1_f01898076315row0_col1\" class=\"data row0 col1\" >A cozy style apartment that is perfect for a stay in Dallas! Whether it be one night or one month, this apartment has everything you need! \\n\\nYou will be located in Oak Lawn area near many restaurants, shops, bars, and parks. Just a 5 minute drive to Love Field Airport and Uptown. Deep Ellum and Downtown area are about 10-15 minutes away.</td> \n",
       "        <td id=\"T_0692c506_e922_11e8_b5c1_f01898076315row0_col2\" class=\"data row0 col2\" >Dallas</td> \n",
       "        <td id=\"T_0692c506_e922_11e8_b5c1_f01898076315row0_col3\" class=\"data row0 col3\" >https://www.airbnb.com/rooms/18250329?location=Coppell%2C%20TX</td> \n",
       "    </tr></tbody> \n",
       "</table> "
      ],
      "text/plain": [
       "<pandas.io.formats.style.Styler at 0x1a148b99e8>"
      ]
     },
     "metadata": {},
     "output_type": "display_data"
    },
    {
     "data": {
      "text/html": [
       "<style  type=\"text/css\" >\n",
       "</style>  \n",
       "<table id=\"T_0693929c_e922_11e8_bc92_f01898076315\" > \n",
       "<thead>    <tr> \n",
       "        <th class=\"blank level0\" ></th> \n",
       "        <th class=\"col_heading level0 col0\" >title</th> \n",
       "        <th class=\"col_heading level0 col1\" >description</th> \n",
       "        <th class=\"col_heading level0 col2\" >city</th> \n",
       "        <th class=\"col_heading level0 col3\" >url</th> \n",
       "    </tr></thead> \n",
       "<tbody>    <tr> \n",
       "        <th id=\"T_0693929c_e922_11e8_bc92_f01898076315level0_row0\" class=\"row_heading level0 row0\" >0</th> \n",
       "        <td id=\"T_0693929c_e922_11e8_bc92_f01898076315row0_col0\" class=\"data row0 col0\" >CASA GRANDE - NEAR HOUSTON AND NASA</td> \n",
       "        <td id=\"T_0693929c_e922_11e8_bc92_f01898076315row0_col1\" class=\"data row0 col1\" >Come and enjoy this beautiful Lakefront Texas size home of nearly 6,000 square feet (600 square meters) with 5 bedrooms - only 15 minutes drive from NASA; 10 mins. from the Kemah boardwalk, 25 mins. from Galveston Island and Hobby airport; 35 mins to the world-famous Texas Medical Center.</td> \n",
       "        <td id=\"T_0693929c_e922_11e8_bc92_f01898076315row0_col2\" class=\"data row0 col2\" >League City</td> \n",
       "        <td id=\"T_0693929c_e922_11e8_bc92_f01898076315row0_col3\" class=\"data row0 col3\" >https://www.airbnb.com/rooms/1244743?location=Bacliff%2C%20TX</td> \n",
       "    </tr></tbody> \n",
       "</table> "
      ],
      "text/plain": [
       "<pandas.io.formats.style.Styler at 0x1a14b48c18>"
      ]
     },
     "metadata": {},
     "output_type": "display_data"
    },
    {
     "data": {
      "text/html": [
       "<style  type=\"text/css\" >\n",
       "</style>  \n",
       "<table id=\"T_06946458_e922_11e8_8bb5_f01898076315\" > \n",
       "<thead>    <tr> \n",
       "        <th class=\"blank level0\" ></th> \n",
       "        <th class=\"col_heading level0 col0\" >title</th> \n",
       "        <th class=\"col_heading level0 col1\" >description</th> \n",
       "        <th class=\"col_heading level0 col2\" >city</th> \n",
       "        <th class=\"col_heading level0 col3\" >url</th> \n",
       "    </tr></thead> \n",
       "<tbody>    <tr> \n",
       "        <th id=\"T_06946458_e922_11e8_8bb5_f01898076315level0_row0\" class=\"row_heading level0 row0\" >0</th> \n",
       "        <td id=\"T_06946458_e922_11e8_8bb5_f01898076315row0_col0\" class=\"data row0 col0\" >Cozy Studio with Skylights</td> \n",
       "        <td id=\"T_06946458_e922_11e8_8bb5_f01898076315row0_col1\" class=\"data row0 col1\" >This is a small garage apartment on a residential street. The living/bedroom has a cathedral ceiling, skylights, and a kitchenette, including a cooktop, microwave, and refrigerator. The bed is normally a twin but pulls out to double twin. The bathroom has an open shower.\\n\\nWe are near downtown Houston, with a bus line 1 block away, a rail station 1/2 mile away, and Houston Hobby Airport just a 15-min drive. Other area attractions (museums/convention ctr/theaters/stadiums) are a 10-15-min drive.</td> \n",
       "        <td id=\"T_06946458_e922_11e8_8bb5_f01898076315row0_col2\" class=\"data row0 col2\" >Houston</td> \n",
       "        <td id=\"T_06946458_e922_11e8_8bb5_f01898076315row0_col3\" class=\"data row0 col3\" >https://www.airbnb.com/rooms/13866863?location=Channelview%2C%20TX</td> \n",
       "    </tr></tbody> \n",
       "</table> "
      ],
      "text/plain": [
       "<pandas.io.formats.style.Styler at 0x1a14b48b38>"
      ]
     },
     "metadata": {},
     "output_type": "display_data"
    },
    {
     "data": {
      "text/html": [
       "<style  type=\"text/css\" >\n",
       "</style>  \n",
       "<table id=\"T_06952846_e922_11e8_89dd_f01898076315\" > \n",
       "<thead>    <tr> \n",
       "        <th class=\"blank level0\" ></th> \n",
       "        <th class=\"col_heading level0 col0\" >title</th> \n",
       "        <th class=\"col_heading level0 col1\" >description</th> \n",
       "        <th class=\"col_heading level0 col2\" >city</th> \n",
       "        <th class=\"col_heading level0 col3\" >url</th> \n",
       "    </tr></thead> \n",
       "<tbody>    <tr> \n",
       "        <th id=\"T_06952846_e922_11e8_89dd_f01898076315level0_row0\" class=\"row_heading level0 row0\" >0</th> \n",
       "        <td id=\"T_06952846_e922_11e8_89dd_f01898076315row0_col0\" class=\"data row0 col0\" >Cute House in Alamo Heights Area</td> \n",
       "        <td id=\"T_06952846_e922_11e8_89dd_f01898076315row0_col1\" class=\"data row0 col1\" >Cute three bedroom house in Alamo Heights area (AHISD). It is near the Quarry and Northstar Mall for shopping, and close to the Airport and the Zoo. \\n\\nIt has two full baths, including one in the master bedroom. We put in a nice deck and table in the backyard making it great on nice evenings (or days if Texas is not too hot). The neighborhood and the street are also quiet.\\n\\nWe have also installed a new kitchen and updated the baths. \\n\\nThis is the house my family stays in when we visit relatives, so we hope that it makes others feel at home.\\n\\nThis house is well suited for 6 people, however, if you have a larger party, please contact us beforehand.\\n\\nPlease no parties and no pets.</td> \n",
       "        <td id=\"T_06952846_e922_11e8_89dd_f01898076315row0_col2\" class=\"data row0 col2\" >San Antonio</td> \n",
       "        <td id=\"T_06952846_e922_11e8_89dd_f01898076315row0_col3\" class=\"data row0 col3\" >https://www.airbnb.com/rooms/109393?location=Converse%2C%20TX</td> \n",
       "    </tr></tbody> \n",
       "</table> "
      ],
      "text/plain": [
       "<pandas.io.formats.style.Styler at 0x1a14ae07f0>"
      ]
     },
     "metadata": {},
     "output_type": "display_data"
    },
    {
     "data": {
      "text/html": [
       "<style  type=\"text/css\" >\n",
       "</style>  \n",
       "<table id=\"T_06960446_e922_11e8_86eb_f01898076315\" > \n",
       "<thead>    <tr> \n",
       "        <th class=\"blank level0\" ></th> \n",
       "        <th class=\"col_heading level0 col0\" >title</th> \n",
       "        <th class=\"col_heading level0 col1\" >description</th> \n",
       "        <th class=\"col_heading level0 col2\" >city</th> \n",
       "        <th class=\"col_heading level0 col3\" >url</th> \n",
       "    </tr></thead> \n",
       "<tbody>    <tr> \n",
       "        <th id=\"T_06960446_e922_11e8_86eb_f01898076315level0_row0\" class=\"row_heading level0 row0\" >0</th> \n",
       "        <td id=\"T_06960446_e922_11e8_86eb_f01898076315row0_col0\" class=\"data row0 col0\" >Best Reviewed! - Peaceful ROOMS near IAH airport.</td> \n",
       "        <td id=\"T_06960446_e922_11e8_86eb_f01898076315row0_col1\" class=\"data row0 col1\" >NOTE : Not entire home!, we will be living downstairs. No option to list all rooms in Airbnb options.\\n\\nWe have 3 private and spacious rooms, 1 full bath, 1 half bath(downstairs) and game room upstairs with fridge, couch and computer table for guests. All the rooms have SMART TV with Netflix ready. \\n\\nThe whole upstairs is for guest use and is like a 3bh apartment. We will be downstairs for any help.\\n\\nWe occasionally also do pickup from IAH upon request,which is near.\\n\\nSee you here soon..\\n\\nThanks!</td> \n",
       "        <td id=\"T_06960446_e922_11e8_86eb_f01898076315row0_col2\" class=\"data row0 col2\" >Porter</td> \n",
       "        <td id=\"T_06960446_e922_11e8_86eb_f01898076315row0_col3\" class=\"data row0 col3\" >https://www.airbnb.com/rooms/10941391?location=Conroe%2C%20TX</td> \n",
       "    </tr></tbody> \n",
       "</table> "
      ],
      "text/plain": [
       "<pandas.io.formats.style.Styler at 0x1a14b488d0>"
      ]
     },
     "metadata": {},
     "output_type": "display_data"
    },
    {
     "data": {
      "text/html": [
       "<style  type=\"text/css\" >\n",
       "</style>  \n",
       "<table id=\"T_0696dcae_e922_11e8_912b_f01898076315\" > \n",
       "<thead>    <tr> \n",
       "        <th class=\"blank level0\" ></th> \n",
       "        <th class=\"col_heading level0 col0\" >title</th> \n",
       "        <th class=\"col_heading level0 col1\" >description</th> \n",
       "        <th class=\"col_heading level0 col2\" >city</th> \n",
       "        <th class=\"col_heading level0 col3\" >url</th> \n",
       "    </tr></thead> \n",
       "<tbody>    <tr> \n",
       "        <th id=\"T_0696dcae_e922_11e8_912b_f01898076315level0_row0\" class=\"row_heading level0 row0\" >0</th> \n",
       "        <td id=\"T_0696dcae_e922_11e8_912b_f01898076315row0_col0\" class=\"data row0 col0\" >Designed to Relax + PACKAGE DEAL</td> \n",
       "        <td id=\"T_0696dcae_e922_11e8_912b_f01898076315row0_col1\" class=\"data row0 col1\" >Escape to where comfort meets convenience. Centrally located near shopping &amp; restaurants. Only 7 miles to downtown. Fresh 1 bdrm / 1 bath condo style flat, with full kitchen, living and bedroom areas, along with a beautiful pool. Access to public transportation. Easy commute to airport. Don't have the dates you need? Check out our other listing here: https://www.airbnb.com/rooms/15043275 Ask about our PACKAGE DEAL!</td> \n",
       "        <td id=\"T_0696dcae_e922_11e8_912b_f01898076315row0_col2\" class=\"data row0 col2\" >Dallas</td> \n",
       "        <td id=\"T_0696dcae_e922_11e8_912b_f01898076315row0_col3\" class=\"data row0 col3\" >https://www.airbnb.com/rooms/17142583?location=Carrollton%2C%20TX</td> \n",
       "    </tr></tbody> \n",
       "</table> "
      ],
      "text/plain": [
       "<pandas.io.formats.style.Styler at 0x1a14b487b8>"
      ]
     },
     "metadata": {},
     "output_type": "display_data"
    },
    {
     "data": {
      "text/html": [
       "<style  type=\"text/css\" >\n",
       "</style>  \n",
       "<table id=\"T_0697b1f6_e922_11e8_be02_f01898076315\" > \n",
       "<thead>    <tr> \n",
       "        <th class=\"blank level0\" ></th> \n",
       "        <th class=\"col_heading level0 col0\" >title</th> \n",
       "        <th class=\"col_heading level0 col1\" >description</th> \n",
       "        <th class=\"col_heading level0 col2\" >city</th> \n",
       "        <th class=\"col_heading level0 col3\" >url</th> \n",
       "    </tr></thead> \n",
       "<tbody>    <tr> \n",
       "        <th id=\"T_0697b1f6_e922_11e8_be02_f01898076315level0_row0\" class=\"row_heading level0 row0\" >0</th> \n",
       "        <td id=\"T_0697b1f6_e922_11e8_be02_f01898076315row0_col0\" class=\"data row0 col0\" >5 Star Quality Private RM & Bath Near IAH Airport</td> \n",
       "        <td id=\"T_0697b1f6_e922_11e8_be02_f01898076315row0_col1\" class=\"data row0 col1\" >YouÃ¢ÂÂll love my place because of the neighborhood. My place is good for couples, families, &amp; solo adventurers. I provide clean, safe, &amp; comfortable accommodations.\\nFirst time Airbnb guests are always welcomed. Communication is essential.\\nPLEASE NOTE: All guests MUST BE ID verified Airbnb members with a visible profile picture before booking.\\nMy home is NOT smoker friendly as I have asthma and cannot be around smoke.</td> \n",
       "        <td id=\"T_0697b1f6_e922_11e8_be02_f01898076315row0_col2\" class=\"data row0 col2\" >Humble</td> \n",
       "        <td id=\"T_0697b1f6_e922_11e8_be02_f01898076315row0_col3\" class=\"data row0 col3\" >https://www.airbnb.com/rooms/4483842?location=Cleveland%2C%20TX</td> \n",
       "    </tr></tbody> \n",
       "</table> "
      ],
      "text/plain": [
       "<pandas.io.formats.style.Styler at 0x1a14b4eef0>"
      ]
     },
     "metadata": {},
     "output_type": "display_data"
    },
    {
     "data": {
      "text/html": [
       "<style  type=\"text/css\" >\n",
       "</style>  \n",
       "<table id=\"T_06987a9e_e922_11e8_a68a_f01898076315\" > \n",
       "<thead>    <tr> \n",
       "        <th class=\"blank level0\" ></th> \n",
       "        <th class=\"col_heading level0 col0\" >title</th> \n",
       "        <th class=\"col_heading level0 col1\" >description</th> \n",
       "        <th class=\"col_heading level0 col2\" >city</th> \n",
       "        <th class=\"col_heading level0 col3\" >url</th> \n",
       "    </tr></thead> \n",
       "<tbody>    <tr> \n",
       "        <th id=\"T_06987a9e_e922_11e8_a68a_f01898076315level0_row0\" class=\"row_heading level0 row0\" >0</th> \n",
       "        <td id=\"T_06987a9e_e922_11e8_a68a_f01898076315row0_col0\" class=\"data row0 col0\" >Saint Andrews Place</td> \n",
       "        <td id=\"T_06987a9e_e922_11e8_a68a_f01898076315row0_col1\" class=\"data row0 col1\" >Beautiful custom estate home in the exclusive gated community of Fairway Vista in Las Colinas. Sits on the 18th fairway of the Four Seasons Byron Nelson Classic TPC golf course. Interior features include handsome wood floors, a huge wine cooler, and separate media room upstairs, with impeccable views of the fairway throughout the home. Conveniently located near DFW Airport, Las Colinas, and Dallas business centers.</td> \n",
       "        <td id=\"T_06987a9e_e922_11e8_a68a_f01898076315row0_col2\" class=\"data row0 col2\" >Irving</td> \n",
       "        <td id=\"T_06987a9e_e922_11e8_a68a_f01898076315row0_col3\" class=\"data row0 col3\" >https://www.airbnb.com/rooms/17927435?location=Coppell%2C%20TX</td> \n",
       "    </tr></tbody> \n",
       "</table> "
      ],
      "text/plain": [
       "<pandas.io.formats.style.Styler at 0x1a14b4eb38>"
      ]
     },
     "metadata": {},
     "output_type": "display_data"
    },
    {
     "data": {
      "text/html": [
       "<style  type=\"text/css\" >\n",
       "</style>  \n",
       "<table id=\"T_069962ba_e922_11e8_bdc8_f01898076315\" > \n",
       "<thead>    <tr> \n",
       "        <th class=\"blank level0\" ></th> \n",
       "        <th class=\"col_heading level0 col0\" >title</th> \n",
       "        <th class=\"col_heading level0 col1\" >description</th> \n",
       "        <th class=\"col_heading level0 col2\" >city</th> \n",
       "        <th class=\"col_heading level0 col3\" >url</th> \n",
       "    </tr></thead> \n",
       "<tbody>    <tr> \n",
       "        <th id=\"T_069962ba_e922_11e8_bdc8_f01898076315level0_row0\" class=\"row_heading level0 row0\" >0</th> \n",
       "        <td id=\"T_069962ba_e922_11e8_bdc8_f01898076315row0_col0\" class=\"data row0 col0\" >Designed to Relax + PACKAGE DEAL</td> \n",
       "        <td id=\"T_069962ba_e922_11e8_bdc8_f01898076315row0_col1\" class=\"data row0 col1\" >Escape to where comfort meets convenience. Centrally located near shopping &amp; restaurants. Only 7 miles to downtown. Fresh 1 bdrm / 1 bath condo style flat, with full kitchen, living and bedroom areas, along with a beautiful pool. Access to public transportation. Easy commute to airport. Don't have the dates you need? Check out our other listing here: https://www.airbnb.com/rooms/15043275 Ask about our PACKAGE DEAL!</td> \n",
       "        <td id=\"T_069962ba_e922_11e8_bdc8_f01898076315row0_col2\" class=\"data row0 col2\" >Dallas</td> \n",
       "        <td id=\"T_069962ba_e922_11e8_bdc8_f01898076315row0_col3\" class=\"data row0 col3\" >https://www.airbnb.com/rooms/17142583?location=Allen%2C%20TX</td> \n",
       "    </tr></tbody> \n",
       "</table> "
      ],
      "text/plain": [
       "<pandas.io.formats.style.Styler at 0x1a14a8e2b0>"
      ]
     },
     "metadata": {},
     "output_type": "display_data"
    },
    {
     "data": {
      "text/html": [
       "<style  type=\"text/css\" >\n",
       "</style>  \n",
       "<table id=\"T_069a2ecc_e922_11e8_a2b4_f01898076315\" > \n",
       "<thead>    <tr> \n",
       "        <th class=\"blank level0\" ></th> \n",
       "        <th class=\"col_heading level0 col0\" >title</th> \n",
       "        <th class=\"col_heading level0 col1\" >description</th> \n",
       "        <th class=\"col_heading level0 col2\" >city</th> \n",
       "        <th class=\"col_heading level0 col3\" >url</th> \n",
       "    </tr></thead> \n",
       "<tbody>    <tr> \n",
       "        <th id=\"T_069a2ecc_e922_11e8_a2b4_f01898076315level0_row0\" class=\"row_heading level0 row0\" >0</th> \n",
       "        <td id=\"T_069a2ecc_e922_11e8_a2b4_f01898076315row0_col0\" class=\"data row0 col0\" >Luxury Stay at Home - Private & Safe near Airport</td> \n",
       "        <td id=\"T_069a2ecc_e922_11e8_a2b4_f01898076315row0_col1\" class=\"data row0 col1\" >Well maintained room and bathroom. House is situated on corner lot. Extended covered patio with fenced backyard. Kitchen has plenty of counter top space. Neighborhood features includes park area.\\n\\nYou will love staying in my home, it's a 10 minute drive from the DFW airport. Irving is right in the center of Dallas so drive to Downtown or anywhere is a breeze. Neighborhood is safe and quiet.\\n\\nMy place is great for Business Travelers, solo adventures and for couples.</td> \n",
       "        <td id=\"T_069a2ecc_e922_11e8_a2b4_f01898076315row0_col2\" class=\"data row0 col2\" >Irving</td> \n",
       "        <td id=\"T_069a2ecc_e922_11e8_a2b4_f01898076315row0_col3\" class=\"data row0 col3\" >https://www.airbnb.com/rooms/19000018?location=Carrollton%2C%20TX</td> \n",
       "    </tr></tbody> \n",
       "</table> "
      ],
      "text/plain": [
       "<pandas.io.formats.style.Styler at 0x1a14b4e0f0>"
      ]
     },
     "metadata": {},
     "output_type": "display_data"
    },
    {
     "data": {
      "text/html": [
       "<style  type=\"text/css\" >\n",
       "</style>  \n",
       "<table id=\"T_069b05e2_e922_11e8_9fda_f01898076315\" > \n",
       "<thead>    <tr> \n",
       "        <th class=\"blank level0\" ></th> \n",
       "        <th class=\"col_heading level0 col0\" >title</th> \n",
       "        <th class=\"col_heading level0 col1\" >description</th> \n",
       "        <th class=\"col_heading level0 col2\" >city</th> \n",
       "        <th class=\"col_heading level0 col3\" >url</th> \n",
       "    </tr></thead> \n",
       "<tbody>    <tr> \n",
       "        <th id=\"T_069b05e2_e922_11e8_9fda_f01898076315level0_row0\" class=\"row_heading level0 row0\" >0</th> \n",
       "        <td id=\"T_069b05e2_e922_11e8_9fda_f01898076315row0_col0\" class=\"data row0 col0\" >Cozy House near the Quarry</td> \n",
       "        <td id=\"T_069b05e2_e922_11e8_9fda_f01898076315row0_col1\" class=\"data row0 col1\" >Our place is close to Everything! Located between North Star Mall and The Quarry, we are 5 minutes from the airport (off the flight paths!), 15 minutes from downtown, and 25 from SeaWorld and Fiesta Texas. YouÃ¢ÂÂll love our place because of the kitchen, the location, the coziness. It's good for couples, business travelers, families (with kids), and furry friends (pets).\\n\\nThis property has a separate airbnb with its own entrance. Search Little House near the Quarry in SA to view it.</td> \n",
       "        <td id=\"T_069b05e2_e922_11e8_9fda_f01898076315row0_col2\" class=\"data row0 col2\" >San Antonio</td> \n",
       "        <td id=\"T_069b05e2_e922_11e8_9fda_f01898076315row0_col3\" class=\"data row0 col3\" >https://www.airbnb.com/rooms/14165875?location=Alamo%20Heights%2C%20TX</td> \n",
       "    </tr></tbody> \n",
       "</table> "
      ],
      "text/plain": [
       "<pandas.io.formats.style.Styler at 0x1a14ae0438>"
      ]
     },
     "metadata": {},
     "output_type": "display_data"
    },
    {
     "data": {
      "text/html": [
       "<style  type=\"text/css\" >\n",
       "</style>  \n",
       "<table id=\"T_069beb0c_e922_11e8_ad7d_f01898076315\" > \n",
       "<thead>    <tr> \n",
       "        <th class=\"blank level0\" ></th> \n",
       "        <th class=\"col_heading level0 col0\" >title</th> \n",
       "        <th class=\"col_heading level0 col1\" >description</th> \n",
       "        <th class=\"col_heading level0 col2\" >city</th> \n",
       "        <th class=\"col_heading level0 col3\" >url</th> \n",
       "    </tr></thead> \n",
       "<tbody>    <tr> \n",
       "        <th id=\"T_069beb0c_e922_11e8_ad7d_f01898076315level0_row0\" class=\"row_heading level0 row0\" >0</th> \n",
       "        <td id=\"T_069beb0c_e922_11e8_ad7d_f01898076315row0_col0\" class=\"data row0 col0\" >Home away from Home.</td> \n",
       "        <td id=\"T_069beb0c_e922_11e8_ad7d_f01898076315row0_col1\" class=\"data row0 col1\" >My best friend is my co-host &amp; she runs it. Reasonably priced lower than a hotel night. This will be a 5 STAR experience for you. Sleep in late, checkout at noon. Clean &amp; comfy private room and restroom for a night in Houston. 20 minutes from IAH airport. Just seconds away from gas stations/restaurants/shopping strips/movie theater &amp; a bowling alley near by... plenty of options to choose from, very convenient!</td> \n",
       "        <td id=\"T_069beb0c_e922_11e8_ad7d_f01898076315row0_col2\" class=\"data row0 col2\" >Humble</td> \n",
       "        <td id=\"T_069beb0c_e922_11e8_ad7d_f01898076315row0_col3\" class=\"data row0 col3\" >https://www.airbnb.com/rooms/18997638?location=Atascocita%2C%20TX</td> \n",
       "    </tr></tbody> \n",
       "</table> "
      ],
      "text/plain": [
       "<pandas.io.formats.style.Styler at 0x1a14ae0400>"
      ]
     },
     "metadata": {},
     "output_type": "display_data"
    },
    {
     "data": {
      "text/html": [
       "<style  type=\"text/css\" >\n",
       "</style>  \n",
       "<table id=\"T_069cbfd4_e922_11e8_9319_f01898076315\" > \n",
       "<thead>    <tr> \n",
       "        <th class=\"blank level0\" ></th> \n",
       "        <th class=\"col_heading level0 col0\" >title</th> \n",
       "        <th class=\"col_heading level0 col1\" >description</th> \n",
       "        <th class=\"col_heading level0 col2\" >city</th> \n",
       "        <th class=\"col_heading level0 col3\" >url</th> \n",
       "    </tr></thead> \n",
       "<tbody>    <tr> \n",
       "        <th id=\"T_069cbfd4_e922_11e8_9319_f01898076315level0_row0\" class=\"row_heading level0 row0\" >0</th> \n",
       "        <td id=\"T_069cbfd4_e922_11e8_9319_f01898076315row0_col0\" class=\"data row0 col0\" >Vacation Home Away From Home close to Airport</td> \n",
       "        <td id=\"T_069cbfd4_e922_11e8_9319_f01898076315row0_col1\" class=\"data row0 col1\" >Hotel luxury with the comforts of home. Great location, near airport and easy to get to major highways, yet tucked away in a quiet and gated neighborhood. The house is next door to a wooded area of a city park and will likely see many deer. There is also a green belt behind the house where you will see deer also.</td> \n",
       "        <td id=\"T_069cbfd4_e922_11e8_9319_f01898076315row0_col2\" class=\"data row0 col2\" >San Antonio</td> \n",
       "        <td id=\"T_069cbfd4_e922_11e8_9319_f01898076315row0_col3\" class=\"data row0 col3\" >https://www.airbnb.com/rooms/18312783?location=Cibolo%2C%20TX</td> \n",
       "    </tr></tbody> \n",
       "</table> "
      ],
      "text/plain": [
       "<pandas.io.formats.style.Styler at 0x1a14ae05f8>"
      ]
     },
     "metadata": {},
     "output_type": "display_data"
    },
    {
     "data": {
      "text/html": [
       "<style  type=\"text/css\" >\n",
       "</style>  \n",
       "<table id=\"T_069d7dc0_e922_11e8_8277_f01898076315\" > \n",
       "<thead>    <tr> \n",
       "        <th class=\"blank level0\" ></th> \n",
       "        <th class=\"col_heading level0 col0\" >title</th> \n",
       "        <th class=\"col_heading level0 col1\" >description</th> \n",
       "        <th class=\"col_heading level0 col2\" >city</th> \n",
       "        <th class=\"col_heading level0 col3\" >url</th> \n",
       "    </tr></thead> \n",
       "<tbody>    <tr> \n",
       "        <th id=\"T_069d7dc0_e922_11e8_8277_f01898076315level0_row0\" class=\"row_heading level0 row0\" >0</th> \n",
       "        <td id=\"T_069d7dc0_e922_11e8_8277_f01898076315row0_col0\" class=\"data row0 col0\" >Best Rest! w/ All Essentials/QueenBed Amazon Alexa</td> \n",
       "        <td id=\"T_069d7dc0_e922_11e8_8277_f01898076315row0_col1\" class=\"data row0 col1\" >The Best Rest! is a private bedroom in a two-story home. The house is very spacious and open. My guests stay upstairs, and my family stays downstairs. The location is very convenient - we are near every major highway in DFW and the Las Colinas business area. The home is near restaurants, grocery stores, running trails and minutes to DFW airport. My place is very family friendly. You will enjoy the open space and high ceilings.</td> \n",
       "        <td id=\"T_069d7dc0_e922_11e8_8277_f01898076315row0_col2\" class=\"data row0 col2\" >Irving</td> \n",
       "        <td id=\"T_069d7dc0_e922_11e8_8277_f01898076315row0_col3\" class=\"data row0 col3\" >https://www.airbnb.com/rooms/16230502?location=Colleyville%2C%20TX</td> \n",
       "    </tr></tbody> \n",
       "</table> "
      ],
      "text/plain": [
       "<pandas.io.formats.style.Styler at 0x1a14a8eb00>"
      ]
     },
     "metadata": {},
     "output_type": "display_data"
    },
    {
     "data": {
      "text/html": [
       "<style  type=\"text/css\" >\n",
       "</style>  \n",
       "<table id=\"T_069e7c28_e922_11e8_bcaf_f01898076315\" > \n",
       "<thead>    <tr> \n",
       "        <th class=\"blank level0\" ></th> \n",
       "        <th class=\"col_heading level0 col0\" >title</th> \n",
       "        <th class=\"col_heading level0 col1\" >description</th> \n",
       "        <th class=\"col_heading level0 col2\" >city</th> \n",
       "        <th class=\"col_heading level0 col3\" >url</th> \n",
       "    </tr></thead> \n",
       "<tbody>    <tr> \n",
       "        <th id=\"T_069e7c28_e922_11e8_bcaf_f01898076315level0_row0\" class=\"row_heading level0 row0\" >0</th> \n",
       "        <td id=\"T_069e7c28_e922_11e8_bcaf_f01898076315row0_col0\" class=\"data row0 col0\" >Premium Room at Home near DFW & LoveField Airport</td> \n",
       "        <td id=\"T_069e7c28_e922_11e8_bcaf_f01898076315row0_col1\" class=\"data row0 col1\" >Well maintained room and bathroom. House is situated on corner lot. Extended covered patio with fenced backyard. Kitchen has plenty of counter top space. Neighborhood features includes park area. \\n\\nYou will love staying in my home, it's a 10 minute drive from the DFW airport. Irving is right in the center of Dallas so drive to Downtown or anywhere is a breeze. Neighborhood is safe and quiet.\\n\\nMy place is great for Business Travelers, solo adventures and for couples.</td> \n",
       "        <td id=\"T_069e7c28_e922_11e8_bcaf_f01898076315row0_col2\" class=\"data row0 col2\" >Irving</td> \n",
       "        <td id=\"T_069e7c28_e922_11e8_bcaf_f01898076315row0_col3\" class=\"data row0 col3\" >https://www.airbnb.com/rooms/18910781?location=Cedar%20Hill%2C%20TX</td> \n",
       "    </tr></tbody> \n",
       "</table> "
      ],
      "text/plain": [
       "<pandas.io.formats.style.Styler at 0x1a14b4e860>"
      ]
     },
     "metadata": {},
     "output_type": "display_data"
    },
    {
     "data": {
      "text/html": [
       "<style  type=\"text/css\" >\n",
       "</style>  \n",
       "<table id=\"T_069f47a4_e922_11e8_812b_f01898076315\" > \n",
       "<thead>    <tr> \n",
       "        <th class=\"blank level0\" ></th> \n",
       "        <th class=\"col_heading level0 col0\" >title</th> \n",
       "        <th class=\"col_heading level0 col1\" >description</th> \n",
       "        <th class=\"col_heading level0 col2\" >city</th> \n",
       "        <th class=\"col_heading level0 col3\" >url</th> \n",
       "    </tr></thead> \n",
       "<tbody>    <tr> \n",
       "        <th id=\"T_069f47a4_e922_11e8_812b_f01898076315level0_row0\" class=\"row_heading level0 row0\" >0</th> \n",
       "        <td id=\"T_069f47a4_e922_11e8_812b_f01898076315row0_col0\" class=\"data row0 col0\" >East End Studio near Downtown</td> \n",
       "        <td id=\"T_069f47a4_e922_11e8_812b_f01898076315row0_col1\" class=\"data row0 col1\" >Upstairs garage apartment in historic East End neighborhood. Quiet except for the occasional fast car, fiesta or train horn. Close to downtown, Hobby Airport and the University of Houston. Queen bed and a queen sleeper sofa to sleep a total of 4 adults. Pack and Play for a baby or toddler if needed. Full kitchen and full bathroom. Table seats 4 for eating or working. Free Wifi. No TV. Shared washer and dryer in the garage. Steep driveway so street parking only.</td> \n",
       "        <td id=\"T_069f47a4_e922_11e8_812b_f01898076315row0_col2\" class=\"data row0 col2\" >Houston</td> \n",
       "        <td id=\"T_069f47a4_e922_11e8_812b_f01898076315row0_col3\" class=\"data row0 col3\" >https://www.airbnb.com/rooms/14414947?location=Atascocita%2C%20TX</td> \n",
       "    </tr></tbody> \n",
       "</table> "
      ],
      "text/plain": [
       "<pandas.io.formats.style.Styler at 0x1a14b4e240>"
      ]
     },
     "metadata": {},
     "output_type": "display_data"
    },
    {
     "data": {
      "text/html": [
       "<style  type=\"text/css\" >\n",
       "</style>  \n",
       "<table id=\"T_06a00786_e922_11e8_9237_f01898076315\" > \n",
       "<thead>    <tr> \n",
       "        <th class=\"blank level0\" ></th> \n",
       "        <th class=\"col_heading level0 col0\" >title</th> \n",
       "        <th class=\"col_heading level0 col1\" >description</th> \n",
       "        <th class=\"col_heading level0 col2\" >city</th> \n",
       "        <th class=\"col_heading level0 col3\" >url</th> \n",
       "    </tr></thead> \n",
       "<tbody>    <tr> \n",
       "        <th id=\"T_06a00786_e922_11e8_9237_f01898076315level0_row0\" class=\"row_heading level0 row0\" >0</th> \n",
       "        <td id=\"T_06a00786_e922_11e8_9237_f01898076315row0_col0\" class=\"data row0 col0\" >Lovely, Quiet Country Home near Austin</td> \n",
       "        <td id=\"T_06a00786_e922_11e8_9237_f01898076315row0_col1\" class=\"data row0 col1\" >Our place is close to family-friendly activities, the airport, and the city center. YouÃ¢ÂÂll love our place because of the people, the outdoors space, the ambiance, and the light. Our place is good for couples, solo adventurers, business travellers, and families (with kids). Shops, Walmart superstore and Restaurants are only 10 mins drive.</td> \n",
       "        <td id=\"T_06a00786_e922_11e8_9237_f01898076315row0_col2\" class=\"data row0 col2\" >Elgin</td> \n",
       "        <td id=\"T_06a00786_e922_11e8_9237_f01898076315row0_col3\" class=\"data row0 col3\" >https://www.airbnb.com/rooms/17515887?location=Bastrop%20County%2C%20TX</td> \n",
       "    </tr></tbody> \n",
       "</table> "
      ],
      "text/plain": [
       "<pandas.io.formats.style.Styler at 0x1a14b4e588>"
      ]
     },
     "metadata": {},
     "output_type": "display_data"
    },
    {
     "data": {
      "text/html": [
       "<style  type=\"text/css\" >\n",
       "</style>  \n",
       "<table id=\"T_06a0e4f6_e922_11e8_af99_f01898076315\" > \n",
       "<thead>    <tr> \n",
       "        <th class=\"blank level0\" ></th> \n",
       "        <th class=\"col_heading level0 col0\" >title</th> \n",
       "        <th class=\"col_heading level0 col1\" >description</th> \n",
       "        <th class=\"col_heading level0 col2\" >city</th> \n",
       "        <th class=\"col_heading level0 col3\" >url</th> \n",
       "    </tr></thead> \n",
       "<tbody>    <tr> \n",
       "        <th id=\"T_06a0e4f6_e922_11e8_af99_f01898076315level0_row0\" class=\"row_heading level0 row0\" >0</th> \n",
       "        <td id=\"T_06a0e4f6_e922_11e8_af99_f01898076315row0_col0\" class=\"data row0 col0\" >Brand New Home In Gated Community Near The Lake</td> \n",
       "        <td id=\"T_06a0e4f6_e922_11e8_af99_f01898076315row0_col1\" class=\"data row0 col1\" >YouÃ¢ÂÂll love our newly built home in a gated community, tucked away and walking distance from Lake Lewisville. It is conveniently located just miles away from Toyota Stadium, The Star, The Shops at Legacy (shopping &amp; dining), and just a 30min drive from both DFW &amp; Love Field Airports.\\n\\nIn addition to being gated; our home has a full security system.\\n\\nThe community pool is also available during the summer season.\\n\\nGreat for couples, solo adventurers, business travelers, and families (with kids).</td> \n",
       "        <td id=\"T_06a0e4f6_e922_11e8_af99_f01898076315row0_col2\" class=\"data row0 col2\" >Frisco</td> \n",
       "        <td id=\"T_06a0e4f6_e922_11e8_af99_f01898076315row0_col3\" class=\"data row0 col3\" >https://www.airbnb.com/rooms/17765765?location=Corinth%2C%20TX</td> \n",
       "    </tr></tbody> \n",
       "</table> "
      ],
      "text/plain": [
       "<pandas.io.formats.style.Styler at 0x1a14b48550>"
      ]
     },
     "metadata": {},
     "output_type": "display_data"
    },
    {
     "data": {
      "text/html": [
       "<style  type=\"text/css\" >\n",
       "</style>  \n",
       "<table id=\"T_06a195a4_e922_11e8_ab5d_f01898076315\" > \n",
       "<thead>    <tr> \n",
       "        <th class=\"blank level0\" ></th> \n",
       "        <th class=\"col_heading level0 col0\" >title</th> \n",
       "        <th class=\"col_heading level0 col1\" >description</th> \n",
       "        <th class=\"col_heading level0 col2\" >city</th> \n",
       "        <th class=\"col_heading level0 col3\" >url</th> \n",
       "    </tr></thead> \n",
       "<tbody>    <tr> \n",
       "        <th id=\"T_06a195a4_e922_11e8_ab5d_f01898076315level0_row0\" class=\"row_heading level0 row0\" >0</th> \n",
       "        <td id=\"T_06a195a4_e922_11e8_ab5d_f01898076315row0_col0\" class=\"data row0 col0\" >Private Apartment Room in DFW-Irving</td> \n",
       "        <td id=\"T_06a195a4_e922_11e8_ab5d_f01898076315row0_col1\" class=\"data row0 col1\" >Near to DFW Airport just 15 mins away.</td> \n",
       "        <td id=\"T_06a195a4_e922_11e8_ab5d_f01898076315row0_col2\" class=\"data row0 col2\" >Irving</td> \n",
       "        <td id=\"T_06a195a4_e922_11e8_ab5d_f01898076315row0_col3\" class=\"data row0 col3\" >https://www.airbnb.com/rooms/18413397?location=Cedar%20Hill%2C%20TX</td> \n",
       "    </tr></tbody> \n",
       "</table> "
      ],
      "text/plain": [
       "<pandas.io.formats.style.Styler at 0x1a14b481d0>"
      ]
     },
     "metadata": {},
     "output_type": "display_data"
    },
    {
     "data": {
      "text/html": [
       "<style  type=\"text/css\" >\n",
       "</style>  \n",
       "<table id=\"T_06a26a24_e922_11e8_ad34_f01898076315\" > \n",
       "<thead>    <tr> \n",
       "        <th class=\"blank level0\" ></th> \n",
       "        <th class=\"col_heading level0 col0\" >title</th> \n",
       "        <th class=\"col_heading level0 col1\" >description</th> \n",
       "        <th class=\"col_heading level0 col2\" >city</th> \n",
       "        <th class=\"col_heading level0 col3\" >url</th> \n",
       "    </tr></thead> \n",
       "<tbody>    <tr> \n",
       "        <th id=\"T_06a26a24_e922_11e8_ad34_f01898076315level0_row0\" class=\"row_heading level0 row0\" >0</th> \n",
       "        <td id=\"T_06a26a24_e922_11e8_ad34_f01898076315row0_col0\" class=\"data row0 col0\" >One bedroom with en-suite bath in bright condo</td> \n",
       "        <td id=\"T_06a26a24_e922_11e8_ad34_f01898076315row0_col1\" class=\"data row0 col1\" >Bedroom 2 in our condo which is located 10 minutes (6 miles) from DFW, 20 minutes (14 miles) to Love Field Airport, and 20 minutes to downtown with high access very close by. Located strategically near shopping and restaurants. Irving Mall is 5 minutes away. Public transport (bus route) is right by the community entrance, and most everything else is a short Uber/Lyft ride away.</td> \n",
       "        <td id=\"T_06a26a24_e922_11e8_ad34_f01898076315row0_col2\" class=\"data row0 col2\" >Irving</td> \n",
       "        <td id=\"T_06a26a24_e922_11e8_ad34_f01898076315row0_col3\" class=\"data row0 col3\" >https://www.airbnb.com/rooms/19209799?location=Colleyville%2C%20TX</td> \n",
       "    </tr></tbody> \n",
       "</table> "
      ],
      "text/plain": [
       "<pandas.io.formats.style.Styler at 0x1a14b48780>"
      ]
     },
     "metadata": {},
     "output_type": "display_data"
    },
    {
     "data": {
      "text/html": [
       "<style  type=\"text/css\" >\n",
       "</style>  \n",
       "<table id=\"T_06a337a6_e922_11e8_8e0b_f01898076315\" > \n",
       "<thead>    <tr> \n",
       "        <th class=\"blank level0\" ></th> \n",
       "        <th class=\"col_heading level0 col0\" >title</th> \n",
       "        <th class=\"col_heading level0 col1\" >description</th> \n",
       "        <th class=\"col_heading level0 col2\" >city</th> \n",
       "        <th class=\"col_heading level0 col3\" >url</th> \n",
       "    </tr></thead> \n",
       "<tbody>    <tr> \n",
       "        <th id=\"T_06a337a6_e922_11e8_8e0b_f01898076315level0_row0\" class=\"row_heading level0 row0\" >0</th> \n",
       "        <td id=\"T_06a337a6_e922_11e8_8e0b_f01898076315row0_col0\" class=\"data row0 col0\" >Beautiful 4 Br/4 Ba Home Near Major Highways</td> \n",
       "        <td id=\"T_06a337a6_e922_11e8_8e0b_f01898076315row0_col1\" class=\"data row0 col1\" >My home is in a very family oriented neighborhood with access to major highways (2 miles to 75 and 4 miles to 121); 45 minutes to DFW and Dallas Love airports and 45 minutes to downtown Dallas. Enjoy an amazing range of shopping within 10-20 minutes - Premium Outlet Mall, Stonebriar Mall and Watters Creek. Great for couples, solo adventurers, business travelers and families (with kids). NO PARTIES!</td> \n",
       "        <td id=\"T_06a337a6_e922_11e8_8e0b_f01898076315row0_col2\" class=\"data row0 col2\" >Allen</td> \n",
       "        <td id=\"T_06a337a6_e922_11e8_8e0b_f01898076315row0_col3\" class=\"data row0 col3\" >https://www.airbnb.com/rooms/9793383?location=Celina%2C%20TX</td> \n",
       "    </tr></tbody> \n",
       "</table> "
      ],
      "text/plain": [
       "<pandas.io.formats.style.Styler at 0x1a14b4eb00>"
      ]
     },
     "metadata": {},
     "output_type": "display_data"
    },
    {
     "data": {
      "text/html": [
       "<style  type=\"text/css\" >\n",
       "</style>  \n",
       "<table id=\"T_06a3fc22_e922_11e8_beb2_f01898076315\" > \n",
       "<thead>    <tr> \n",
       "        <th class=\"blank level0\" ></th> \n",
       "        <th class=\"col_heading level0 col0\" >title</th> \n",
       "        <th class=\"col_heading level0 col1\" >description</th> \n",
       "        <th class=\"col_heading level0 col2\" >city</th> \n",
       "        <th class=\"col_heading level0 col3\" >url</th> \n",
       "    </tr></thead> \n",
       "<tbody>    <tr> \n",
       "        <th id=\"T_06a3fc22_e922_11e8_beb2_f01898076315level0_row0\" class=\"row_heading level0 row0\" >0</th> \n",
       "        <td id=\"T_06a3fc22_e922_11e8_beb2_f01898076315row0_col0\" class=\"data row0 col0\" >Downtown Apartment located near Convention Center</td> \n",
       "        <td id=\"T_06a3fc22_e922_11e8_beb2_f01898076315row0_col1\" class=\"data row0 col1\" >A cozy apartment located in downtown San Antonio. This space is within walking distance to the Convention Center, Hemisfair Park, and the Alamodome. It is also located near the Southtown District, which features an array of restaurants, bars, and shops. Enjoy the close public park that has a baseball field, large playground, and picnic tables. We offer guests FREE pick up and drop-off from the San Antonio International Airport. There is also ample street parking, or use bike-share rack.</td> \n",
       "        <td id=\"T_06a3fc22_e922_11e8_beb2_f01898076315row0_col2\" class=\"data row0 col2\" >San Antonio</td> \n",
       "        <td id=\"T_06a3fc22_e922_11e8_beb2_f01898076315row0_col3\" class=\"data row0 col3\" >https://www.airbnb.com/rooms/19065840?location=Bulverde%2C%20TX</td> \n",
       "    </tr></tbody> \n",
       "</table> "
      ],
      "text/plain": [
       "<pandas.io.formats.style.Styler at 0x1a14b4ed30>"
      ]
     },
     "metadata": {},
     "output_type": "display_data"
    },
    {
     "data": {
      "text/html": [
       "<style  type=\"text/css\" >\n",
       "</style>  \n",
       "<table id=\"T_06a4bbc6_e922_11e8_a2a2_f01898076315\" > \n",
       "<thead>    <tr> \n",
       "        <th class=\"blank level0\" ></th> \n",
       "        <th class=\"col_heading level0 col0\" >title</th> \n",
       "        <th class=\"col_heading level0 col1\" >description</th> \n",
       "        <th class=\"col_heading level0 col2\" >city</th> \n",
       "        <th class=\"col_heading level0 col3\" >url</th> \n",
       "    </tr></thead> \n",
       "<tbody>    <tr> \n",
       "        <th id=\"T_06a4bbc6_e922_11e8_a2a2_f01898076315level0_row0\" class=\"row_heading level0 row0\" >0</th> \n",
       "        <td id=\"T_06a4bbc6_e922_11e8_a2a2_f01898076315row0_col0\" class=\"data row0 col0\" >Near IAH...Dogs, coffee, and trails! (2)</td> \n",
       "        <td id=\"T_06a4bbc6_e922_11e8_a2a2_f01898076315row0_col1\" class=\"data row0 col1\" >Adventurers and those passing through welcome! My place is relaxed and the atmosphere is easygoing. Only 15-20 minutes from IAH. Happy to work out a pick up/drop off from airport. Dogs (and kids) are welcome to stay as well! They should list coffee under essentials but don't worry I've got you covered. \\n\\nHouse includes a backyard and near some trails, a neighborhood Walmart, and Starbucks. Easy access to 59 for exploring other areas of Houston.\\n\\n*Double listed for different availability</td> \n",
       "        <td id=\"T_06a4bbc6_e922_11e8_a2a2_f01898076315row0_col2\" class=\"data row0 col2\" >Humble</td> \n",
       "        <td id=\"T_06a4bbc6_e922_11e8_a2a2_f01898076315row0_col3\" class=\"data row0 col3\" >https://www.airbnb.com/rooms/16596486?location=Conroe%2C%20TX</td> \n",
       "    </tr></tbody> \n",
       "</table> "
      ],
      "text/plain": [
       "<pandas.io.formats.style.Styler at 0x1a14b4e128>"
      ]
     },
     "metadata": {},
     "output_type": "display_data"
    },
    {
     "data": {
      "text/html": [
       "<style  type=\"text/css\" >\n",
       "</style>  \n",
       "<table id=\"T_06a5a14c_e922_11e8_baee_f01898076315\" > \n",
       "<thead>    <tr> \n",
       "        <th class=\"blank level0\" ></th> \n",
       "        <th class=\"col_heading level0 col0\" >title</th> \n",
       "        <th class=\"col_heading level0 col1\" >description</th> \n",
       "        <th class=\"col_heading level0 col2\" >city</th> \n",
       "        <th class=\"col_heading level0 col3\" >url</th> \n",
       "    </tr></thead> \n",
       "<tbody>    <tr> \n",
       "        <th id=\"T_06a5a14c_e922_11e8_baee_f01898076315level0_row0\" class=\"row_heading level0 row0\" >0</th> \n",
       "        <td id=\"T_06a5a14c_e922_11e8_baee_f01898076315row0_col0\" class=\"data row0 col0\" >Designed to Relax + PACKAGE DEAL</td> \n",
       "        <td id=\"T_06a5a14c_e922_11e8_baee_f01898076315row0_col1\" class=\"data row0 col1\" >Escape to where comfort meets convenience. Centrally located near shopping &amp; restaurants. Only 7 miles to downtown. Fresh 1 bdrm / 1 bath condo style flat, with full kitchen, living and bedroom areas, along with a beautiful pool. Access to public transportation. Easy commute to airport. Don't have the dates you need? Check out our other listing here: https://www.airbnb.com/rooms/15043275 Ask about our PACKAGE DEAL!</td> \n",
       "        <td id=\"T_06a5a14c_e922_11e8_baee_f01898076315row0_col2\" class=\"data row0 col2\" >Dallas</td> \n",
       "        <td id=\"T_06a5a14c_e922_11e8_baee_f01898076315row0_col3\" class=\"data row0 col3\" >https://www.airbnb.com/rooms/17142583?location=Coppell%2C%20TX</td> \n",
       "    </tr></tbody> \n",
       "</table> "
      ],
      "text/plain": [
       "<pandas.io.formats.style.Styler at 0x1a14a8e668>"
      ]
     },
     "metadata": {},
     "output_type": "display_data"
    },
    {
     "data": {
      "text/html": [
       "<style  type=\"text/css\" >\n",
       "</style>  \n",
       "<table id=\"T_06a67182_e922_11e8_a2b2_f01898076315\" > \n",
       "<thead>    <tr> \n",
       "        <th class=\"blank level0\" ></th> \n",
       "        <th class=\"col_heading level0 col0\" >title</th> \n",
       "        <th class=\"col_heading level0 col1\" >description</th> \n",
       "        <th class=\"col_heading level0 col2\" >city</th> \n",
       "        <th class=\"col_heading level0 col3\" >url</th> \n",
       "    </tr></thead> \n",
       "<tbody>    <tr> \n",
       "        <th id=\"T_06a67182_e922_11e8_a2b2_f01898076315level0_row0\" class=\"row_heading level0 row0\" >0</th> \n",
       "        <td id=\"T_06a67182_e922_11e8_a2b2_f01898076315row0_col0\" class=\"data row0 col0\" >Private Room Near the Airports</td> \n",
       "        <td id=\"T_06a67182_e922_11e8_a2b2_f01898076315row0_col1\" class=\"data row0 col1\" >One of three private rooms in a two story home located in a nice and quiet neighborhood. Close to major highways. Easy access to entire Dallas/Fort Worth area. Very close to DFW airport and not far from Love Field Airport either. Walking distance to a park, a movie theater, many shopping venues (including grocery store and department store) and many restaurants (0.5-1.0 mile). The house is bright and airy with high ceiling. Good Wi-Fi connection. Full kitchen/laundry room access .</td> \n",
       "        <td id=\"T_06a67182_e922_11e8_a2b2_f01898076315row0_col2\" class=\"data row0 col2\" >Irving</td> \n",
       "        <td id=\"T_06a67182_e922_11e8_a2b2_f01898076315row0_col3\" class=\"data row0 col3\" >https://www.airbnb.com/rooms/13602580?location=Coppell%2C%20TX</td> \n",
       "    </tr></tbody> \n",
       "</table> "
      ],
      "text/plain": [
       "<pandas.io.formats.style.Styler at 0x1a14ae0c18>"
      ]
     },
     "metadata": {},
     "output_type": "display_data"
    },
    {
     "data": {
      "text/html": [
       "<style  type=\"text/css\" >\n",
       "</style>  \n",
       "<table id=\"T_06a74a08_e922_11e8_be37_f01898076315\" > \n",
       "<thead>    <tr> \n",
       "        <th class=\"blank level0\" ></th> \n",
       "        <th class=\"col_heading level0 col0\" >title</th> \n",
       "        <th class=\"col_heading level0 col1\" >description</th> \n",
       "        <th class=\"col_heading level0 col2\" >city</th> \n",
       "        <th class=\"col_heading level0 col3\" >url</th> \n",
       "    </tr></thead> \n",
       "<tbody>    <tr> \n",
       "        <th id=\"T_06a74a08_e922_11e8_be37_f01898076315level0_row0\" class=\"row_heading level0 row0\" >0</th> \n",
       "        <td id=\"T_06a74a08_e922_11e8_be37_f01898076315row0_col0\" class=\"data row0 col0\" >Cozy & Chic Home near IAH airport!</td> \n",
       "        <td id=\"T_06a74a08_e922_11e8_be37_f01898076315row0_col1\" class=\"data row0 col1\" >Enjoy a chic and cozy home in a quiet suburb. A quick 12 min to IAH airport, less than 2 miles to restaurants/bars, and easy access to Downtown makes this place the perfect balance of city and Country Texas living. I have 3 different rooms available</td> \n",
       "        <td id=\"T_06a74a08_e922_11e8_be37_f01898076315row0_col2\" class=\"data row0 col2\" >Houston</td> \n",
       "        <td id=\"T_06a74a08_e922_11e8_be37_f01898076315row0_col3\" class=\"data row0 col3\" >https://www.airbnb.com/rooms/10993118?location=Cleveland%2C%20TX</td> \n",
       "    </tr></tbody> \n",
       "</table> "
      ],
      "text/plain": [
       "<pandas.io.formats.style.Styler at 0x1a14a85940>"
      ]
     },
     "metadata": {},
     "output_type": "display_data"
    },
    {
     "data": {
      "text/html": [
       "<style  type=\"text/css\" >\n",
       "</style>  \n",
       "<table id=\"T_06a846ec_e922_11e8_9484_f01898076315\" > \n",
       "<thead>    <tr> \n",
       "        <th class=\"blank level0\" ></th> \n",
       "        <th class=\"col_heading level0 col0\" >title</th> \n",
       "        <th class=\"col_heading level0 col1\" >description</th> \n",
       "        <th class=\"col_heading level0 col2\" >city</th> \n",
       "        <th class=\"col_heading level0 col3\" >url</th> \n",
       "    </tr></thead> \n",
       "<tbody>    <tr> \n",
       "        <th id=\"T_06a846ec_e922_11e8_9484_f01898076315level0_row0\" class=\"row_heading level0 row0\" >0</th> \n",
       "        <td id=\"T_06a846ec_e922_11e8_9484_f01898076315row0_col0\" class=\"data row0 col0\" >Apartment at Lake Conroe near Houston</td> \n",
       "        <td id=\"T_06a846ec_e922_11e8_9484_f01898076315row0_col1\" class=\"data row0 col1\" >Located at Lake Conroe near Houston, Texas, this 2 bedroom resort condo is available for rent for 3 nights \\n\\nFully furnished\\n2 Queen size beds and one sleeper sofa\\n2 bathrooms\\nFull kitchen with stove, dishes, dishwasher, pots and pans\\nSleeps 6 adult guests comfortably\\nNon-Smoking Room\\nPaddle boat rentals on-site at the lake\\n\\n45 min from IAH Bush Airport\\n1 hour from Reliant Stadium</td> \n",
       "        <td id=\"T_06a846ec_e922_11e8_9484_f01898076315row0_col2\" class=\"data row0 col2\" >Conroe</td> \n",
       "        <td id=\"T_06a846ec_e922_11e8_9484_f01898076315row0_col3\" class=\"data row0 col3\" >https://www.airbnb.com/rooms/17040466?location=Conroe%2C%20TX</td> \n",
       "    </tr></tbody> \n",
       "</table> "
      ],
      "text/plain": [
       "<pandas.io.formats.style.Styler at 0x1a14b5c8d0>"
      ]
     },
     "metadata": {},
     "output_type": "display_data"
    },
    {
     "data": {
      "text/html": [
       "<style  type=\"text/css\" >\n",
       "</style>  \n",
       "<table id=\"T_06a93142_e922_11e8_bdc7_f01898076315\" > \n",
       "<thead>    <tr> \n",
       "        <th class=\"blank level0\" ></th> \n",
       "        <th class=\"col_heading level0 col0\" >title</th> \n",
       "        <th class=\"col_heading level0 col1\" >description</th> \n",
       "        <th class=\"col_heading level0 col2\" >city</th> \n",
       "        <th class=\"col_heading level0 col3\" >url</th> \n",
       "    </tr></thead> \n",
       "<tbody>    <tr> \n",
       "        <th id=\"T_06a93142_e922_11e8_bdc7_f01898076315level0_row0\" class=\"row_heading level0 row0\" >0</th> \n",
       "        <td id=\"T_06a93142_e922_11e8_bdc7_f01898076315row0_col0\" class=\"data row0 col0\" >Country Estate near airport, speedway and stadium!</td> \n",
       "        <td id=\"T_06a93142_e922_11e8_bdc7_f01898076315row0_col1\" class=\"data row0 col1\" >This estate Is 20 min From DFW Airport. It is in a gated and wooded community close to lakes and hiking, restaurants and shopping. Home is full of warmth, books, abstract paintings and ecclectic furniture. Neighborhood is private and great for adults and kids. Fenced in yard, secure. Bedrooms are private and cozy, with new mattresses. Lots of Parking, couches for your friends and a large pool</td> \n",
       "        <td id=\"T_06a93142_e922_11e8_bdc7_f01898076315row0_col2\" class=\"data row0 col2\" >Flower Mound</td> \n",
       "        <td id=\"T_06a93142_e922_11e8_bdc7_f01898076315row0_col3\" class=\"data row0 col3\" >https://www.airbnb.com/rooms/16768741?location=Corinth%2C%20TX</td> \n",
       "    </tr></tbody> \n",
       "</table> "
      ],
      "text/plain": [
       "<pandas.io.formats.style.Styler at 0x1a14a85cc0>"
      ]
     },
     "metadata": {},
     "output_type": "display_data"
    },
    {
     "data": {
      "text/html": [
       "<style  type=\"text/css\" >\n",
       "</style>  \n",
       "<table id=\"T_06a9fcd0_e922_11e8_854c_f01898076315\" > \n",
       "<thead>    <tr> \n",
       "        <th class=\"blank level0\" ></th> \n",
       "        <th class=\"col_heading level0 col0\" >title</th> \n",
       "        <th class=\"col_heading level0 col1\" >description</th> \n",
       "        <th class=\"col_heading level0 col2\" >city</th> \n",
       "        <th class=\"col_heading level0 col3\" >url</th> \n",
       "    </tr></thead> \n",
       "<tbody>    <tr> \n",
       "        <th id=\"T_06a9fcd0_e922_11e8_854c_f01898076315level0_row0\" class=\"row_heading level0 row0\" >0</th> \n",
       "        <td id=\"T_06a9fcd0_e922_11e8_854c_f01898076315row0_col0\" class=\"data row0 col0\" >Guest room near SMU/Downtown/DLA AP/Train Station</td> \n",
       "        <td id=\"T_06a9fcd0_e922_11e8_854c_f01898076315row0_col1\" class=\"data row0 col1\" >1 PRIVATE clean comfy bedroom with 1 queen bed. Share bathroom with a host. provide towels n soaps. Free Wi-Fi. 24 Hours Free Parking at Right Side of Bichbrook Dr. The house is near SMU &amp; Train Station LOVERS LANE walking distance is 10 min. Dallas Love Field airport is 15 min by car. DFW Airport can be there by train .Downtown/Uptown Dallas is 10 min by car/ 4 to 5 stops by train. A lot of Restaurants &amp; Bars at the Greenville Ave which one street away. The neighborhood is very quiet and safe.</td> \n",
       "        <td id=\"T_06a9fcd0_e922_11e8_854c_f01898076315row0_col2\" class=\"data row0 col2\" >Dallas</td> \n",
       "        <td id=\"T_06a9fcd0_e922_11e8_854c_f01898076315row0_col3\" class=\"data row0 col3\" >https://www.airbnb.com/rooms/16435144?location=Carrollton%2C%20TX</td> \n",
       "    </tr></tbody> \n",
       "</table> "
      ],
      "text/plain": [
       "<pandas.io.formats.style.Styler at 0x1a1295ff60>"
      ]
     },
     "metadata": {},
     "output_type": "display_data"
    },
    {
     "data": {
      "text/html": [
       "<style  type=\"text/css\" >\n",
       "</style>  \n",
       "<table id=\"T_06aacf8c_e922_11e8_a5e7_f01898076315\" > \n",
       "<thead>    <tr> \n",
       "        <th class=\"blank level0\" ></th> \n",
       "        <th class=\"col_heading level0 col0\" >title</th> \n",
       "        <th class=\"col_heading level0 col1\" >description</th> \n",
       "        <th class=\"col_heading level0 col2\" >city</th> \n",
       "        <th class=\"col_heading level0 col3\" >url</th> \n",
       "    </tr></thead> \n",
       "<tbody>    <tr> \n",
       "        <th id=\"T_06aacf8c_e922_11e8_a5e7_f01898076315level0_row0\" class=\"row_heading level0 row0\" >0</th> \n",
       "        <td id=\"T_06aacf8c_e922_11e8_a5e7_f01898076315row0_col0\" class=\"data row0 col0\" >Private Room near Airport/Stadium/AA Training</td> \n",
       "        <td id=\"T_06aacf8c_e922_11e8_a5e7_f01898076315row0_col1\" class=\"data row0 col1\" >You'll love my place, a two-story house in a perfect mid-cities location between Dallas and Fort Worth. \\n\\n5 minutes from AA Training Center.\\n8 minutes from DFW International Airport and rail station. \\n20 minutes from Love Field airport and downtown/uptown Dallas, American Airlines Center, AT&amp;T Cowboy Stadium, Six Flags, Ranger Stadium, Grapevine Mills Mall, Southlake, Texas Motor Speedway.</td> \n",
       "        <td id=\"T_06aacf8c_e922_11e8_a5e7_f01898076315row0_col2\" class=\"data row0 col2\" >Euless</td> \n",
       "        <td id=\"T_06aacf8c_e922_11e8_a5e7_f01898076315row0_col3\" class=\"data row0 col3\" >https://www.airbnb.com/rooms/16872604?location=Colleyville%2C%20TX</td> \n",
       "    </tr></tbody> \n",
       "</table> "
      ],
      "text/plain": [
       "<pandas.io.formats.style.Styler at 0x10a801898>"
      ]
     },
     "metadata": {},
     "output_type": "display_data"
    },
    {
     "data": {
      "text/html": [
       "<style  type=\"text/css\" >\n",
       "</style>  \n",
       "<table id=\"T_06abcce2_e922_11e8_8df2_f01898076315\" > \n",
       "<thead>    <tr> \n",
       "        <th class=\"blank level0\" ></th> \n",
       "        <th class=\"col_heading level0 col0\" >title</th> \n",
       "        <th class=\"col_heading level0 col1\" >description</th> \n",
       "        <th class=\"col_heading level0 col2\" >city</th> \n",
       "        <th class=\"col_heading level0 col3\" >url</th> \n",
       "    </tr></thead> \n",
       "<tbody>    <tr> \n",
       "        <th id=\"T_06abcce2_e922_11e8_8df2_f01898076315level0_row0\" class=\"row_heading level0 row0\" >0</th> \n",
       "        <td id=\"T_06abcce2_e922_11e8_8df2_f01898076315row0_col0\" class=\"data row0 col0\" >Little Blue \"Pearl\" House</td> \n",
       "        <td id=\"T_06abcce2_e922_11e8_8df2_f01898076315row0_col1\" class=\"data row0 col1\" >Perfect for urban dwellers. Safe neighborhood in transition. Walking distance to restaurants and dining, coffee shops, YMCA and nightlife. Family-friendly activities nearby (Zoo, Brackenridge Park, Children's Museum, Riverwalk by the Pearl district ). Great location between downtown and the airport and near the Pearl district (an easy 1 mile walk away). Good for couples, solo adventurers, business travelers, and small families (with kids). Free, secure parking onsite.</td> \n",
       "        <td id=\"T_06abcce2_e922_11e8_8df2_f01898076315row0_col2\" class=\"data row0 col2\" >San Antonio</td> \n",
       "        <td id=\"T_06abcce2_e922_11e8_8df2_f01898076315row0_col3\" class=\"data row0 col3\" >https://www.airbnb.com/rooms/8497305?location=Alamo%20Heights%2C%20TX</td> \n",
       "    </tr></tbody> \n",
       "</table> "
      ],
      "text/plain": [
       "<pandas.io.formats.style.Styler at 0x1a14b4e160>"
      ]
     },
     "metadata": {},
     "output_type": "display_data"
    },
    {
     "data": {
      "text/html": [
       "<style  type=\"text/css\" >\n",
       "</style>  \n",
       "<table id=\"T_06acadb8_e922_11e8_870d_f01898076315\" > \n",
       "<thead>    <tr> \n",
       "        <th class=\"blank level0\" ></th> \n",
       "        <th class=\"col_heading level0 col0\" >title</th> \n",
       "        <th class=\"col_heading level0 col1\" >description</th> \n",
       "        <th class=\"col_heading level0 col2\" >city</th> \n",
       "        <th class=\"col_heading level0 col3\" >url</th> \n",
       "    </tr></thead> \n",
       "<tbody>    <tr> \n",
       "        <th id=\"T_06acadb8_e922_11e8_870d_f01898076315level0_row0\" class=\"row_heading level0 row0\" >0</th> \n",
       "        <td id=\"T_06acadb8_e922_11e8_870d_f01898076315row0_col0\" class=\"data row0 col0\" >One bedroom with en-suite bath in bright condo</td> \n",
       "        <td id=\"T_06acadb8_e922_11e8_870d_f01898076315row0_col1\" class=\"data row0 col1\" >Bedroom 2 in our condo which is located 10 minutes (6 miles) from DFW, 20 minutes (14 miles) to Love Field Airport, and 20 minutes to downtown with high access very close by. Located strategically near shopping and restaurants. Irving Mall is 5 minutes away. Public transport (bus route) is right by the community entrance, and most everything else is a short Uber/Lyft ride away.</td> \n",
       "        <td id=\"T_06acadb8_e922_11e8_870d_f01898076315row0_col2\" class=\"data row0 col2\" >Irving</td> \n",
       "        <td id=\"T_06acadb8_e922_11e8_870d_f01898076315row0_col3\" class=\"data row0 col3\" >https://www.airbnb.com/rooms/19209799?location=Coppell%2C%20TX</td> \n",
       "    </tr></tbody> \n",
       "</table> "
      ],
      "text/plain": [
       "<pandas.io.formats.style.Styler at 0x1a14b4ef28>"
      ]
     },
     "metadata": {},
     "output_type": "display_data"
    },
    {
     "data": {
      "text/html": [
       "<style  type=\"text/css\" >\n",
       "</style>  \n",
       "<table id=\"T_06ad705e_e922_11e8_9471_f01898076315\" > \n",
       "<thead>    <tr> \n",
       "        <th class=\"blank level0\" ></th> \n",
       "        <th class=\"col_heading level0 col0\" >title</th> \n",
       "        <th class=\"col_heading level0 col1\" >description</th> \n",
       "        <th class=\"col_heading level0 col2\" >city</th> \n",
       "        <th class=\"col_heading level0 col3\" >url</th> \n",
       "    </tr></thead> \n",
       "<tbody>    <tr> \n",
       "        <th id=\"T_06ad705e_e922_11e8_9471_f01898076315level0_row0\" class=\"row_heading level0 row0\" >0</th> \n",
       "        <td id=\"T_06ad705e_e922_11e8_9471_f01898076315row0_col0\" class=\"data row0 col0\" >Designer Bedroom Near DFW Airport</td> \n",
       "        <td id=\"T_06ad705e_e922_11e8_9471_f01898076315row0_col1\" class=\"data row0 col1\" >Luxury bedroom with private bathroom and coffeemaker! Near DFW airport. Good freeway access to All Attractions in DFW area. Concerts, Gaylord Dallas, Water Parks, Lakes, Sports Venues, Business Meetings.</td> \n",
       "        <td id=\"T_06ad705e_e922_11e8_9471_f01898076315row0_col2\" class=\"data row0 col2\" >Carrollton</td> \n",
       "        <td id=\"T_06ad705e_e922_11e8_9471_f01898076315row0_col3\" class=\"data row0 col3\" >https://www.airbnb.com/rooms/19474974?location=Coppell%2C%20TX</td> \n",
       "    </tr></tbody> \n",
       "</table> "
      ],
      "text/plain": [
       "<pandas.io.formats.style.Styler at 0x1a14b4e588>"
      ]
     },
     "metadata": {},
     "output_type": "display_data"
    },
    {
     "data": {
      "text/html": [
       "<style  type=\"text/css\" >\n",
       "</style>  \n",
       "<table id=\"T_06ae5190_e922_11e8_98fc_f01898076315\" > \n",
       "<thead>    <tr> \n",
       "        <th class=\"blank level0\" ></th> \n",
       "        <th class=\"col_heading level0 col0\" >title</th> \n",
       "        <th class=\"col_heading level0 col1\" >description</th> \n",
       "        <th class=\"col_heading level0 col2\" >city</th> \n",
       "        <th class=\"col_heading level0 col3\" >url</th> \n",
       "    </tr></thead> \n",
       "<tbody>    <tr> \n",
       "        <th id=\"T_06ae5190_e922_11e8_98fc_f01898076315level0_row0\" class=\"row_heading level0 row0\" >0</th> \n",
       "        <td id=\"T_06ae5190_e922_11e8_98fc_f01898076315row0_col0\" class=\"data row0 col0\" >Private Room&Bath Near Airport/AA Training/Stadium</td> \n",
       "        <td id=\"T_06ae5190_e922_11e8_98fc_f01898076315row0_col1\" class=\"data row0 col1\" >You'll love my place, a two-story house in a perfect mid-cities location between Dallas and Fort Worth.\\n\\n5 minutes from AA Training center,\\n8 minutes from DFW International Airport and rail station. \\n20 minutes from Love Field airport and downtown/uptown Dallas, American Airlines Center, Dallas Cowboy Stadium, Six Flags, Ranger Stadium,Grapevine Mills Mall, Southlake, Texas Motor Speedway.</td> \n",
       "        <td id=\"T_06ae5190_e922_11e8_98fc_f01898076315row0_col2\" class=\"data row0 col2\" >Euless</td> \n",
       "        <td id=\"T_06ae5190_e922_11e8_98fc_f01898076315row0_col3\" class=\"data row0 col3\" >https://www.airbnb.com/rooms/17891400?location=Bedford%2C%20TX</td> \n",
       "    </tr></tbody> \n",
       "</table> "
      ],
      "text/plain": [
       "<pandas.io.formats.style.Styler at 0x1a14b484a8>"
      ]
     },
     "metadata": {},
     "output_type": "display_data"
    },
    {
     "data": {
      "text/html": [
       "<style  type=\"text/css\" >\n",
       "</style>  \n",
       "<table id=\"T_06af2c3a_e922_11e8_904c_f01898076315\" > \n",
       "<thead>    <tr> \n",
       "        <th class=\"blank level0\" ></th> \n",
       "        <th class=\"col_heading level0 col0\" >title</th> \n",
       "        <th class=\"col_heading level0 col1\" >description</th> \n",
       "        <th class=\"col_heading level0 col2\" >city</th> \n",
       "        <th class=\"col_heading level0 col3\" >url</th> \n",
       "    </tr></thead> \n",
       "<tbody>    <tr> \n",
       "        <th id=\"T_06af2c3a_e922_11e8_904c_f01898076315level0_row0\" class=\"row_heading level0 row0\" >0</th> \n",
       "        <td id=\"T_06af2c3a_e922_11e8_904c_f01898076315row0_col0\" class=\"data row0 col0\" >Awesome Crashpad, Near DFW Airport</td> \n",
       "        <td id=\"T_06af2c3a_e922_11e8_904c_f01898076315row0_col1\" class=\"data row0 col1\" >Awesome Crashpad, 9 minutes to DFW airport, in well-established and friendly neighborhood! Amenities include high speed internet (50 Mbps), cable TV and maid service. Within close proximity of the residence is a grocery store and restaurants.</td> \n",
       "        <td id=\"T_06af2c3a_e922_11e8_904c_f01898076315row0_col2\" class=\"data row0 col2\" >Irving</td> \n",
       "        <td id=\"T_06af2c3a_e922_11e8_904c_f01898076315row0_col3\" class=\"data row0 col3\" >https://www.airbnb.com/rooms/12049069?location=Colleyville%2C%20TX</td> \n",
       "    </tr></tbody> \n",
       "</table> "
      ],
      "text/plain": [
       "<pandas.io.formats.style.Styler at 0x10a801898>"
      ]
     },
     "metadata": {},
     "output_type": "display_data"
    },
    {
     "data": {
      "text/html": [
       "<style  type=\"text/css\" >\n",
       "</style>  \n",
       "<table id=\"T_06afec3a_e922_11e8_a2e2_f01898076315\" > \n",
       "<thead>    <tr> \n",
       "        <th class=\"blank level0\" ></th> \n",
       "        <th class=\"col_heading level0 col0\" >title</th> \n",
       "        <th class=\"col_heading level0 col1\" >description</th> \n",
       "        <th class=\"col_heading level0 col2\" >city</th> \n",
       "        <th class=\"col_heading level0 col3\" >url</th> \n",
       "    </tr></thead> \n",
       "<tbody>    <tr> \n",
       "        <th id=\"T_06afec3a_e922_11e8_a2e2_f01898076315level0_row0\" class=\"row_heading level0 row0\" >0</th> \n",
       "        <td id=\"T_06afec3a_e922_11e8_a2e2_f01898076315row0_col0\" class=\"data row0 col0\" >(B) Private Room Gated Community Near DFW Airport</td> \n",
       "        <td id=\"T_06afec3a_e922_11e8_a2e2_f01898076315row0_col1\" class=\"data row0 col1\" >Bookings available from Aug 19th. You are booking a modern private room in a two story house. Located near major highways, restaurants, grocery stores, Texas star golf course, parks, AT&amp;T stadium, and just 10 min to DFW airport. My space is in between Dallas and Fort Worth. Hence, great for interns, travel workers, students (15 min to UT Arlington), business travelers, and even for adventurers. Short-term and Long-term discounts.</td> \n",
       "        <td id=\"T_06afec3a_e922_11e8_a2e2_f01898076315row0_col2\" class=\"data row0 col2\" >Euless</td> \n",
       "        <td id=\"T_06afec3a_e922_11e8_a2e2_f01898076315row0_col3\" class=\"data row0 col3\" >https://www.airbnb.com/rooms/17806073?location=Colleyville%2C%20TX</td> \n",
       "    </tr></tbody> \n",
       "</table> "
      ],
      "text/plain": [
       "<pandas.io.formats.style.Styler at 0x1a14b4efd0>"
      ]
     },
     "metadata": {},
     "output_type": "display_data"
    },
    {
     "data": {
      "text/html": [
       "<style  type=\"text/css\" >\n",
       "</style>  \n",
       "<table id=\"T_06b0ba28_e922_11e8_9408_f01898076315\" > \n",
       "<thead>    <tr> \n",
       "        <th class=\"blank level0\" ></th> \n",
       "        <th class=\"col_heading level0 col0\" >title</th> \n",
       "        <th class=\"col_heading level0 col1\" >description</th> \n",
       "        <th class=\"col_heading level0 col2\" >city</th> \n",
       "        <th class=\"col_heading level0 col3\" >url</th> \n",
       "    </tr></thead> \n",
       "<tbody>    <tr> \n",
       "        <th id=\"T_06b0ba28_e922_11e8_9408_f01898076315level0_row0\" class=\"row_heading level0 row0\" >0</th> \n",
       "        <td id=\"T_06b0ba28_e922_11e8_9408_f01898076315row0_col0\" class=\"data row0 col0\" >Stylish Casita in Chic Neighborhood</td> \n",
       "        <td id=\"T_06b0ba28_e922_11e8_9408_f01898076315row0_col1\" class=\"data row0 col1\" >Casita Corazon, in the heart of town is close to restaurants, trendy shops, coffee houses, bakeries, upscale grocery store, parks, museums, public transport, near downtown, the Riverwalk, 10 minutes to airport with easy access to 281, I-37, I-35, I-10, 5 minutes from FedEx Office. You will be be hosted in contemporary, stylish rooms filled with art , large, flat TVs, wifi, work areas, new comfortable beds, 1.5 new baths, multiple beautiful decks, patios , outdoor seating &amp; dining areas.</td> \n",
       "        <td id=\"T_06b0ba28_e922_11e8_9408_f01898076315row0_col2\" class=\"data row0 col2\" >San Antonio</td> \n",
       "        <td id=\"T_06b0ba28_e922_11e8_9408_f01898076315row0_col3\" class=\"data row0 col3\" >https://www.airbnb.com/rooms/13992373?location=Converse%2C%20TX</td> \n",
       "    </tr></tbody> \n",
       "</table> "
      ],
      "text/plain": [
       "<pandas.io.formats.style.Styler at 0x1a14b4ecc0>"
      ]
     },
     "metadata": {},
     "output_type": "display_data"
    },
    {
     "data": {
      "text/html": [
       "<style  type=\"text/css\" >\n",
       "</style>  \n",
       "<table id=\"T_06b1c3fa_e922_11e8_99dc_f01898076315\" > \n",
       "<thead>    <tr> \n",
       "        <th class=\"blank level0\" ></th> \n",
       "        <th class=\"col_heading level0 col0\" >title</th> \n",
       "        <th class=\"col_heading level0 col1\" >description</th> \n",
       "        <th class=\"col_heading level0 col2\" >city</th> \n",
       "        <th class=\"col_heading level0 col3\" >url</th> \n",
       "    </tr></thead> \n",
       "<tbody>    <tr> \n",
       "        <th id=\"T_06b1c3fa_e922_11e8_99dc_f01898076315level0_row0\" class=\"row_heading level0 row0\" >0</th> \n",
       "        <td id=\"T_06b1c3fa_e922_11e8_99dc_f01898076315row0_col0\" class=\"data row0 col0\" >Cozy private bedroom&bathroom near DFW airport!</td> \n",
       "        <td id=\"T_06b1c3fa_e922_11e8_99dc_f01898076315row0_col1\" class=\"data row0 col1\" >Our cozy 4 bedroom Home It is located in Las Colinas-Irving, 7 minutes from DFW Airport,and 5 minutes from the Irving Convention center,15 minutes from Lovefield Airport It's also, about 5 minutes from top-notch restaurants and country clubs and other venues. This beautiful 1 bedroom w/ private bathroom with a comfy queen bed , walk in closet, and mini fridge ready for you. You will love the location, and our big back yard where you can sit and relax. everything is a close Uber ride away.</td> \n",
       "        <td id=\"T_06b1c3fa_e922_11e8_99dc_f01898076315row0_col2\" class=\"data row0 col2\" >Irving</td> \n",
       "        <td id=\"T_06b1c3fa_e922_11e8_99dc_f01898076315row0_col3\" class=\"data row0 col3\" >https://www.airbnb.com/rooms/14241897?location=Coppell%2C%20TX</td> \n",
       "    </tr></tbody> \n",
       "</table> "
      ],
      "text/plain": [
       "<pandas.io.formats.style.Styler at 0x1a14a8e320>"
      ]
     },
     "metadata": {},
     "output_type": "display_data"
    },
    {
     "data": {
      "text/html": [
       "<style  type=\"text/css\" >\n",
       "</style>  \n",
       "<table id=\"T_06b2a240_e922_11e8_a078_f01898076315\" > \n",
       "<thead>    <tr> \n",
       "        <th class=\"blank level0\" ></th> \n",
       "        <th class=\"col_heading level0 col0\" >title</th> \n",
       "        <th class=\"col_heading level0 col1\" >description</th> \n",
       "        <th class=\"col_heading level0 col2\" >city</th> \n",
       "        <th class=\"col_heading level0 col3\" >url</th> \n",
       "    </tr></thead> \n",
       "<tbody>    <tr> \n",
       "        <th id=\"T_06b2a240_e922_11e8_a078_f01898076315level0_row0\" class=\"row_heading level0 row0\" >0</th> \n",
       "        <td id=\"T_06b2a240_e922_11e8_a078_f01898076315row0_col0\" class=\"data row0 col0\" >Private room near airport</td> \n",
       "        <td id=\"T_06b2a240_e922_11e8_a078_f01898076315row0_col1\" class=\"data row0 col1\" >Euless is 6 miles from DFW airport and in between Dallas and Ft Worth, close to attractions like six flags, Cowboy and Rangers stadiums and golf. Also near American Airline training center. We are a pet friendly home and charge $60 fee per week per pet it $10/day.</td> \n",
       "        <td id=\"T_06b2a240_e922_11e8_a078_f01898076315row0_col2\" class=\"data row0 col2\" >Euless</td> \n",
       "        <td id=\"T_06b2a240_e922_11e8_a078_f01898076315row0_col3\" class=\"data row0 col3\" >https://www.airbnb.com/rooms/12171433?location=Bedford%2C%20TX</td> \n",
       "    </tr></tbody> \n",
       "</table> "
      ],
      "text/plain": [
       "<pandas.io.formats.style.Styler at 0x1a14a85b00>"
      ]
     },
     "metadata": {},
     "output_type": "display_data"
    },
    {
     "data": {
      "text/html": [
       "<style  type=\"text/css\" >\n",
       "</style>  \n",
       "<table id=\"T_06b357da_e922_11e8_8e84_f01898076315\" > \n",
       "<thead>    <tr> \n",
       "        <th class=\"blank level0\" ></th> \n",
       "        <th class=\"col_heading level0 col0\" >title</th> \n",
       "        <th class=\"col_heading level0 col1\" >description</th> \n",
       "        <th class=\"col_heading level0 col2\" >city</th> \n",
       "        <th class=\"col_heading level0 col3\" >url</th> \n",
       "    </tr></thead> \n",
       "<tbody>    <tr> \n",
       "        <th id=\"T_06b357da_e922_11e8_8e84_f01898076315level0_row0\" class=\"row_heading level0 row0\" >0</th> \n",
       "        <td id=\"T_06b357da_e922_11e8_8e84_f01898076315row0_col0\" class=\"data row0 col0\" >Cozy urban aprtmt</td> \n",
       "        <td id=\"T_06b357da_e922_11e8_8e84_f01898076315row0_col1\" class=\"data row0 col1\" >Cute Carriage apartment: close to SA activities, nightlife, the airport, and public transport. It is in a good neighborhood, and is very cozy. Apartment is good for couples, solo adventurers, and business travelers.\\nThe Pearl is a few blocks away with nightlife, bars, restaurants and scenic access to the River Walk North Extension. Zoo and Brackenridge park are near by. Bike rentals are located near by at the Children's Museum or The Pearl</td> \n",
       "        <td id=\"T_06b357da_e922_11e8_8e84_f01898076315row0_col2\" class=\"data row0 col2\" >San Antonio</td> \n",
       "        <td id=\"T_06b357da_e922_11e8_8e84_f01898076315row0_col3\" class=\"data row0 col3\" >https://www.airbnb.com/rooms/15827256?location=Bulverde%2C%20TX</td> \n",
       "    </tr></tbody> \n",
       "</table> "
      ],
      "text/plain": [
       "<pandas.io.formats.style.Styler at 0x1a14ae0d68>"
      ]
     },
     "metadata": {},
     "output_type": "display_data"
    },
    {
     "data": {
      "text/html": [
       "<style  type=\"text/css\" >\n",
       "</style>  \n",
       "<table id=\"T_06b473c2_e922_11e8_b4af_f01898076315\" > \n",
       "<thead>    <tr> \n",
       "        <th class=\"blank level0\" ></th> \n",
       "        <th class=\"col_heading level0 col0\" >title</th> \n",
       "        <th class=\"col_heading level0 col1\" >description</th> \n",
       "        <th class=\"col_heading level0 col2\" >city</th> \n",
       "        <th class=\"col_heading level0 col3\" >url</th> \n",
       "    </tr></thead> \n",
       "<tbody>    <tr> \n",
       "        <th id=\"T_06b473c2_e922_11e8_b4af_f01898076315level0_row0\" class=\"row_heading level0 row0\" >0</th> \n",
       "        <td id=\"T_06b473c2_e922_11e8_b4af_f01898076315row0_col0\" class=\"data row0 col0\" >Safe Comfortable Hotel Room at Home near Airport</td> \n",
       "        <td id=\"T_06b473c2_e922_11e8_b4af_f01898076315row0_col1\" class=\"data row0 col1\" >Full Size Bed with Computer Desk and Chair. You will love staying in my home, it's a 10 minute drive from the DFW airport. Irving is right in the center of Dallas so drive to Downtown or anywhere is a breeze. Neighborhood is safe and quiet.\\n\\nMy place is great for Business Travelers, solo adventures and for couples.\\n\\nHouse is situated on corner lot. Extended covered patio with fenced backyard. Kitchen has plenty of counter top space. Neighborhood features includes park area.</td> \n",
       "        <td id=\"T_06b473c2_e922_11e8_b4af_f01898076315row0_col2\" class=\"data row0 col2\" >Irving</td> \n",
       "        <td id=\"T_06b473c2_e922_11e8_b4af_f01898076315row0_col3\" class=\"data row0 col3\" >https://www.airbnb.com/rooms/19240734?location=Colleyville%2C%20TX</td> \n",
       "    </tr></tbody> \n",
       "</table> "
      ],
      "text/plain": [
       "<pandas.io.formats.style.Styler at 0x1a14b5c1d0>"
      ]
     },
     "metadata": {},
     "output_type": "display_data"
    },
    {
     "data": {
      "text/html": [
       "<style  type=\"text/css\" >\n",
       "</style>  \n",
       "<table id=\"T_06b555c6_e922_11e8_9a42_f01898076315\" > \n",
       "<thead>    <tr> \n",
       "        <th class=\"blank level0\" ></th> \n",
       "        <th class=\"col_heading level0 col0\" >title</th> \n",
       "        <th class=\"col_heading level0 col1\" >description</th> \n",
       "        <th class=\"col_heading level0 col2\" >city</th> \n",
       "        <th class=\"col_heading level0 col3\" >url</th> \n",
       "    </tr></thead> \n",
       "<tbody>    <tr> \n",
       "        <th id=\"T_06b555c6_e922_11e8_9a42_f01898076315level0_row0\" class=\"row_heading level0 row0\" >0</th> \n",
       "        <td id=\"T_06b555c6_e922_11e8_9a42_f01898076315row0_col0\" class=\"data row0 col0\" >3 BR HGTV-Style Guest House Near Downtown Dallas!</td> \n",
       "        <td id=\"T_06b555c6_e922_11e8_9a42_f01898076315row0_col1\" class=\"data row0 col1\" >We just finished an HGTV-style gut reno and now our private 3 bedroom guest house is all yours! It is close to the Convention Centers, Dallas tourist sites, entertainment venues in Deep Ellum, lively bars, restaurants, fitness studios, and shops on Lower Greenville and Uptown's McKinney Avenue. Located in a historic residential neighborhood, both Dallas airports are a short drive away. Arlington, Ft. Worth, Frisco, and Plano are also easily accessible. I can't wait to be your host in the Big D!</td> \n",
       "        <td id=\"T_06b555c6_e922_11e8_9a42_f01898076315row0_col2\" class=\"data row0 col2\" >Dallas</td> \n",
       "        <td id=\"T_06b555c6_e922_11e8_9a42_f01898076315row0_col3\" class=\"data row0 col3\" >https://www.airbnb.com/rooms/16505562?location=Balch%20Springs%2C%20TX</td> \n",
       "    </tr></tbody> \n",
       "</table> "
      ],
      "text/plain": [
       "<pandas.io.formats.style.Styler at 0x1a14b5cb70>"
      ]
     },
     "metadata": {},
     "output_type": "display_data"
    },
    {
     "data": {
      "text/html": [
       "<style  type=\"text/css\" >\n",
       "</style>  \n",
       "<table id=\"T_06b619a2_e922_11e8_994c_f01898076315\" > \n",
       "<thead>    <tr> \n",
       "        <th class=\"blank level0\" ></th> \n",
       "        <th class=\"col_heading level0 col0\" >title</th> \n",
       "        <th class=\"col_heading level0 col1\" >description</th> \n",
       "        <th class=\"col_heading level0 col2\" >city</th> \n",
       "        <th class=\"col_heading level0 col3\" >url</th> \n",
       "    </tr></thead> \n",
       "<tbody>    <tr> \n",
       "        <th id=\"T_06b619a2_e922_11e8_994c_f01898076315level0_row0\" class=\"row_heading level0 row0\" >0</th> \n",
       "        <td id=\"T_06b619a2_e922_11e8_994c_f01898076315row0_col0\" class=\"data row0 col0\" >Amazing 4 Bedroom Home near Addison</td> \n",
       "        <td id=\"T_06b619a2_e922_11e8_994c_f01898076315row0_col1\" class=\"data row0 col1\" >Large and open space, nice and clean one story home in quiet neighborhood. close to shopping centers, moving theater, restaurants. 2.5 miles from Addition. 20 minutes from DFW airport, easy to get on highway I-35 and The President George Bush HWY.</td> \n",
       "        <td id=\"T_06b619a2_e922_11e8_994c_f01898076315row0_col2\" class=\"data row0 col2\" >Carrollton</td> \n",
       "        <td id=\"T_06b619a2_e922_11e8_994c_f01898076315row0_col3\" class=\"data row0 col3\" >https://www.airbnb.com/rooms/9295130?location=Carrollton%2C%20TX</td> \n",
       "    </tr></tbody> \n",
       "</table> "
      ],
      "text/plain": [
       "<pandas.io.formats.style.Styler at 0x1a14a85be0>"
      ]
     },
     "metadata": {},
     "output_type": "display_data"
    },
    {
     "data": {
      "text/html": [
       "<style  type=\"text/css\" >\n",
       "</style>  \n",
       "<table id=\"T_06b70986_e922_11e8_9695_f01898076315\" > \n",
       "<thead>    <tr> \n",
       "        <th class=\"blank level0\" ></th> \n",
       "        <th class=\"col_heading level0 col0\" >title</th> \n",
       "        <th class=\"col_heading level0 col1\" >description</th> \n",
       "        <th class=\"col_heading level0 col2\" >city</th> \n",
       "        <th class=\"col_heading level0 col3\" >url</th> \n",
       "    </tr></thead> \n",
       "<tbody>    <tr> \n",
       "        <th id=\"T_06b70986_e922_11e8_9695_f01898076315level0_row0\" class=\"row_heading level0 row0\" >0</th> \n",
       "        <td id=\"T_06b70986_e922_11e8_9695_f01898076315row0_col0\" class=\"data row0 col0\" >Quiet, comfy and near DFW airport</td> \n",
       "        <td id=\"T_06b70986_e922_11e8_9695_f01898076315row0_col1\" class=\"data row0 col1\" >Cozy room with comfortable beauty rest queen size bed on the firm side and private bathroom in the guest bathroom. Charming and quiet clean neighborhood, 15 minutes away from Dfw airport. Free street parking right in front or driveway access is available. The comfy room has a dresser, flat screen tv with a fire stick available. Washer and dryer available as well. Kitchen access is available as well upon request.</td> \n",
       "        <td id=\"T_06b70986_e922_11e8_9695_f01898076315row0_col2\" class=\"data row0 col2\" >North Richland Hills</td> \n",
       "        <td id=\"T_06b70986_e922_11e8_9695_f01898076315row0_col3\" class=\"data row0 col3\" >https://www.airbnb.com/rooms/19454950?location=Bedford%2C%20TX</td> \n",
       "    </tr></tbody> \n",
       "</table> "
      ],
      "text/plain": [
       "<pandas.io.formats.style.Styler at 0x1a148b9c50>"
      ]
     },
     "metadata": {},
     "output_type": "display_data"
    },
    {
     "data": {
      "text/html": [
       "<style  type=\"text/css\" >\n",
       "</style>  \n",
       "<table id=\"T_06b806c2_e922_11e8_a7b2_f01898076315\" > \n",
       "<thead>    <tr> \n",
       "        <th class=\"blank level0\" ></th> \n",
       "        <th class=\"col_heading level0 col0\" >title</th> \n",
       "        <th class=\"col_heading level0 col1\" >description</th> \n",
       "        <th class=\"col_heading level0 col2\" >city</th> \n",
       "        <th class=\"col_heading level0 col3\" >url</th> \n",
       "    </tr></thead> \n",
       "<tbody>    <tr> \n",
       "        <th id=\"T_06b806c2_e922_11e8_a7b2_f01898076315level0_row0\" class=\"row_heading level0 row0\" >0</th> \n",
       "        <td id=\"T_06b806c2_e922_11e8_a7b2_f01898076315row0_col0\" class=\"data row0 col0\" >Luxury Apartment Near SixFlags - Dominion</td> \n",
       "        <td id=\"T_06b806c2_e922_11e8_a7b2_f01898076315row0_col1\" class=\"data row0 col1\" >In the best location. Get the suburb feel, located just 2 minutes away from Six Flags, Shops at La Cantera, The Rim, UTSA. Just 15 minutes from the airport, and just 25 minutes from downtown.\\n\\nDisclaimer: Apartment pictures and location may slightly vary from actual apartment due to privacy reasons. We ensure the quality of apartment is the same as shown in the images.</td> \n",
       "        <td id=\"T_06b806c2_e922_11e8_a7b2_f01898076315row0_col2\" class=\"data row0 col2\" >San Antonio</td> \n",
       "        <td id=\"T_06b806c2_e922_11e8_a7b2_f01898076315row0_col3\" class=\"data row0 col3\" >https://www.airbnb.com/rooms/18821274?location=Boerne%2C%20TX</td> \n",
       "    </tr></tbody> \n",
       "</table> "
      ],
      "text/plain": [
       "<pandas.io.formats.style.Styler at 0x1a14b48c18>"
      ]
     },
     "metadata": {},
     "output_type": "display_data"
    },
    {
     "data": {
      "text/html": [
       "<style  type=\"text/css\" >\n",
       "</style>  \n",
       "<table id=\"T_06b8c2e2_e922_11e8_a638_f01898076315\" > \n",
       "<thead>    <tr> \n",
       "        <th class=\"blank level0\" ></th> \n",
       "        <th class=\"col_heading level0 col0\" >title</th> \n",
       "        <th class=\"col_heading level0 col1\" >description</th> \n",
       "        <th class=\"col_heading level0 col2\" >city</th> \n",
       "        <th class=\"col_heading level0 col3\" >url</th> \n",
       "    </tr></thead> \n",
       "<tbody>    <tr> \n",
       "        <th id=\"T_06b8c2e2_e922_11e8_a638_f01898076315level0_row0\" class=\"row_heading level0 row0\" >0</th> \n",
       "        <td id=\"T_06b8c2e2_e922_11e8_a638_f01898076315row0_col0\" class=\"data row0 col0\" >East End Studio near Downtown</td> \n",
       "        <td id=\"T_06b8c2e2_e922_11e8_a638_f01898076315row0_col1\" class=\"data row0 col1\" >Upstairs garage apartment in historic East End neighborhood. Quiet except for the occasional fast car, fiesta or train horn. Close to downtown, Hobby Airport and the University of Houston. Queen bed and a queen sleeper sofa to sleep a total of 4 adults. Pack and Play for a baby or toddler if needed. Full kitchen and full bathroom. Table seats 4 for eating or working. Free Wifi. No TV. Shared washer and dryer in the garage. Steep driveway so street parking only.</td> \n",
       "        <td id=\"T_06b8c2e2_e922_11e8_a638_f01898076315row0_col2\" class=\"data row0 col2\" >Houston</td> \n",
       "        <td id=\"T_06b8c2e2_e922_11e8_a638_f01898076315row0_col3\" class=\"data row0 col3\" >https://www.airbnb.com/rooms/14414947?location=Baytown%2C%20TX</td> \n",
       "    </tr></tbody> \n",
       "</table> "
      ],
      "text/plain": [
       "<pandas.io.formats.style.Styler at 0x1a14b4e2b0>"
      ]
     },
     "metadata": {},
     "output_type": "display_data"
    },
    {
     "data": {
      "text/html": [
       "<style  type=\"text/css\" >\n",
       "</style>  \n",
       "<table id=\"T_06b98f2e_e922_11e8_a758_f01898076315\" > \n",
       "<thead>    <tr> \n",
       "        <th class=\"blank level0\" ></th> \n",
       "        <th class=\"col_heading level0 col0\" >title</th> \n",
       "        <th class=\"col_heading level0 col1\" >description</th> \n",
       "        <th class=\"col_heading level0 col2\" >city</th> \n",
       "        <th class=\"col_heading level0 col3\" >url</th> \n",
       "    </tr></thead> \n",
       "<tbody>    <tr> \n",
       "        <th id=\"T_06b98f2e_e922_11e8_a758_f01898076315level0_row0\" class=\"row_heading level0 row0\" >0</th> \n",
       "        <td id=\"T_06b98f2e_e922_11e8_a758_f01898076315row0_col0\" class=\"data row0 col0\" >Valley Ranch / Irving home</td> \n",
       "        <td id=\"T_06b98f2e_e922_11e8_a758_f01898076315row0_col1\" class=\"data row0 col1\" >My place is close to family-friendly activities, such as the park and library, an international airport, entertainment venues and sports centers, . YouÃ¢ÂÂll love my place because of the ambiance, the convenience. It is a perfect location near almost\\n everything!</td> \n",
       "        <td id=\"T_06b98f2e_e922_11e8_a758_f01898076315row0_col2\" class=\"data row0 col2\" >Irving</td> \n",
       "        <td id=\"T_06b98f2e_e922_11e8_a758_f01898076315row0_col3\" class=\"data row0 col3\" >https://www.airbnb.com/rooms/14692959?location=Colleyville%2C%20TX</td> \n",
       "    </tr></tbody> \n",
       "</table> "
      ],
      "text/plain": [
       "<pandas.io.formats.style.Styler at 0x1a14b4e320>"
      ]
     },
     "metadata": {},
     "output_type": "display_data"
    },
    {
     "data": {
      "text/html": [
       "<style  type=\"text/css\" >\n",
       "</style>  \n",
       "<table id=\"T_06ba81b8_e922_11e8_86b3_f01898076315\" > \n",
       "<thead>    <tr> \n",
       "        <th class=\"blank level0\" ></th> \n",
       "        <th class=\"col_heading level0 col0\" >title</th> \n",
       "        <th class=\"col_heading level0 col1\" >description</th> \n",
       "        <th class=\"col_heading level0 col2\" >city</th> \n",
       "        <th class=\"col_heading level0 col3\" >url</th> \n",
       "    </tr></thead> \n",
       "<tbody>    <tr> \n",
       "        <th id=\"T_06ba81b8_e922_11e8_86b3_f01898076315level0_row0\" class=\"row_heading level0 row0\" >0</th> \n",
       "        <td id=\"T_06ba81b8_e922_11e8_86b3_f01898076315row0_col0\" class=\"data row0 col0\" >New Home in Las Colinas near Both Airports</td> \n",
       "        <td id=\"T_06ba81b8_e922_11e8_86b3_f01898076315row0_col1\" class=\"data row0 col1\" >My place is less than 10-15 minutes from both major airports. It's also in Las Colinas, about 10 minutes from top-notch restaurants and country clubs and other venues. YouÃ¢ÂÂll love my place because it's a brand new home, the bed is comfy, the living room is cozy, and the kitchen is user-friendly. My place is good for solo adventurers and business travelers.</td> \n",
       "        <td id=\"T_06ba81b8_e922_11e8_86b3_f01898076315row0_col2\" class=\"data row0 col2\" >Irving</td> \n",
       "        <td id=\"T_06ba81b8_e922_11e8_86b3_f01898076315row0_col3\" class=\"data row0 col3\" >https://www.airbnb.com/rooms/13277869?location=Coppell%2C%20TX</td> \n",
       "    </tr></tbody> \n",
       "</table> "
      ],
      "text/plain": [
       "<pandas.io.formats.style.Styler at 0x1a14b4e2e8>"
      ]
     },
     "metadata": {},
     "output_type": "display_data"
    },
    {
     "data": {
      "text/html": [
       "<style  type=\"text/css\" >\n",
       "</style>  \n",
       "<table id=\"T_06bb3d62_e922_11e8_82bc_f01898076315\" > \n",
       "<thead>    <tr> \n",
       "        <th class=\"blank level0\" ></th> \n",
       "        <th class=\"col_heading level0 col0\" >title</th> \n",
       "        <th class=\"col_heading level0 col1\" >description</th> \n",
       "        <th class=\"col_heading level0 col2\" >city</th> \n",
       "        <th class=\"col_heading level0 col3\" >url</th> \n",
       "    </tr></thead> \n",
       "<tbody>    <tr> \n",
       "        <th id=\"T_06bb3d62_e922_11e8_82bc_f01898076315level0_row0\" class=\"row_heading level0 row0\" >0</th> \n",
       "        <td id=\"T_06bb3d62_e922_11e8_82bc_f01898076315row0_col0\" class=\"data row0 col0\" >Private Room near DFW Airport</td> \n",
       "        <td id=\"T_06bb3d62_e922_11e8_82bc_f01898076315row0_col1\" class=\"data row0 col1\" >Hi there!\\n\\nMy name is Kevin and I'm looking to rent out a room in my house. The house is very close to DFW airport making it convenient for travelers and is also near many restaurants. You'll have full access to the whole house including kitchen and living areas. Let me know if I can answer any questions for you, thanks!</td> \n",
       "        <td id=\"T_06bb3d62_e922_11e8_82bc_f01898076315row0_col2\" class=\"data row0 col2\" >Grapevine</td> \n",
       "        <td id=\"T_06bb3d62_e922_11e8_82bc_f01898076315row0_col3\" class=\"data row0 col3\" >https://www.airbnb.com/rooms/14884509?location=Bedford%2C%20TX</td> \n",
       "    </tr></tbody> \n",
       "</table> "
      ],
      "text/plain": [
       "<pandas.io.formats.style.Styler at 0x1a14b5c0b8>"
      ]
     },
     "metadata": {},
     "output_type": "display_data"
    },
    {
     "data": {
      "text/html": [
       "<style  type=\"text/css\" >\n",
       "</style>  \n",
       "<table id=\"T_06bc1686_e922_11e8_9c94_f01898076315\" > \n",
       "<thead>    <tr> \n",
       "        <th class=\"blank level0\" ></th> \n",
       "        <th class=\"col_heading level0 col0\" >title</th> \n",
       "        <th class=\"col_heading level0 col1\" >description</th> \n",
       "        <th class=\"col_heading level0 col2\" >city</th> \n",
       "        <th class=\"col_heading level0 col3\" >url</th> \n",
       "    </tr></thead> \n",
       "<tbody>    <tr> \n",
       "        <th id=\"T_06bc1686_e922_11e8_9c94_f01898076315level0_row0\" class=\"row_heading level0 row0\" >0</th> \n",
       "        <td id=\"T_06bc1686_e922_11e8_9c94_f01898076315row0_col0\" class=\"data row0 col0\" >Master Suite Gem Dallas ~ home access</td> \n",
       "        <td id=\"T_06bc1686_e922_11e8_9c94_f01898076315row0_col1\" class=\"data row0 col1\" >Master Suite w/bath, walkin closet, cafe table. 3 mi.from White Rock Lake, 4 mi.from Dallas Arboretum &amp; Botanical Gardens w/Concerts, close to Casa Linda restaurants, shops &amp; movies, many things 2 do. Downtown (9 mi). Elite Northpark mall and Galleria mall near by: 6/8 miles away.\\nAirprt: DFW/LOVE. Ask about airport rides!!\\nAmenities: laundry room, kitchen &amp; backyard oasis!!</td> \n",
       "        <td id=\"T_06bc1686_e922_11e8_9c94_f01898076315row0_col2\" class=\"data row0 col2\" >Dallas</td> \n",
       "        <td id=\"T_06bc1686_e922_11e8_9c94_f01898076315row0_col3\" class=\"data row0 col3\" >https://www.airbnb.com/rooms/11010416?location=Balch%20Springs%2C%20TX</td> \n",
       "    </tr></tbody> \n",
       "</table> "
      ],
      "text/plain": [
       "<pandas.io.formats.style.Styler at 0x1a14a85ac8>"
      ]
     },
     "metadata": {},
     "output_type": "display_data"
    },
    {
     "data": {
      "text/html": [
       "<style  type=\"text/css\" >\n",
       "</style>  \n",
       "<table id=\"T_06bcf25e_e922_11e8_9004_f01898076315\" > \n",
       "<thead>    <tr> \n",
       "        <th class=\"blank level0\" ></th> \n",
       "        <th class=\"col_heading level0 col0\" >title</th> \n",
       "        <th class=\"col_heading level0 col1\" >description</th> \n",
       "        <th class=\"col_heading level0 col2\" >city</th> \n",
       "        <th class=\"col_heading level0 col3\" >url</th> \n",
       "    </tr></thead> \n",
       "<tbody>    <tr> \n",
       "        <th id=\"T_06bcf25e_e922_11e8_9004_f01898076315level0_row0\" class=\"row_heading level0 row0\" >0</th> \n",
       "        <td id=\"T_06bcf25e_e922_11e8_9004_f01898076315row0_col0\" class=\"data row0 col0\" >Near Hobby Airport</td> \n",
       "        <td id=\"T_06bcf25e_e922_11e8_9004_f01898076315row0_col1\" class=\"data row0 col1\" >5 minutes from Hobby Airport in a very quiet residential neighborhood. Quick access to downtown.</td> \n",
       "        <td id=\"T_06bcf25e_e922_11e8_9004_f01898076315row0_col2\" class=\"data row0 col2\" >Houston</td> \n",
       "        <td id=\"T_06bcf25e_e922_11e8_9004_f01898076315row0_col3\" class=\"data row0 col3\" >https://www.airbnb.com/rooms/17217137?location=Alvin%2C%20TX</td> \n",
       "    </tr></tbody> \n",
       "</table> "
      ],
      "text/plain": [
       "<pandas.io.formats.style.Styler at 0x1a14a85da0>"
      ]
     },
     "metadata": {},
     "output_type": "display_data"
    },
    {
     "data": {
      "text/html": [
       "<style  type=\"text/css\" >\n",
       "</style>  \n",
       "<table id=\"T_06bdb48c_e922_11e8_96d5_f01898076315\" > \n",
       "<thead>    <tr> \n",
       "        <th class=\"blank level0\" ></th> \n",
       "        <th class=\"col_heading level0 col0\" >title</th> \n",
       "        <th class=\"col_heading level0 col1\" >description</th> \n",
       "        <th class=\"col_heading level0 col2\" >city</th> \n",
       "        <th class=\"col_heading level0 col3\" >url</th> \n",
       "    </tr></thead> \n",
       "<tbody>    <tr> \n",
       "        <th id=\"T_06bdb48c_e922_11e8_96d5_f01898076315level0_row0\" class=\"row_heading level0 row0\" >0</th> \n",
       "        <td id=\"T_06bdb48c_e922_11e8_96d5_f01898076315row0_col0\" class=\"data row0 col0\" >Cozy private bedroom&bathroom near DFW airport!</td> \n",
       "        <td id=\"T_06bdb48c_e922_11e8_96d5_f01898076315row0_col1\" class=\"data row0 col1\" >Our cozy 4 bedroom Home It is located in Las Colinas-Irving, 7 minutes from DFW Airport,and 5 minutes from the Irving Convention center,15 minutes from Lovefield Airport It's also, about 5 minutes from top-notch restaurants and country clubs and other venues. This beautiful 1 bedroom w/ private bathroom with a comfy queen bed , walk in closet, and mini fridge ready for you. You will love the location, and our big back yard where you can sit and relax. everything is a close Uber ride away.</td> \n",
       "        <td id=\"T_06bdb48c_e922_11e8_96d5_f01898076315row0_col2\" class=\"data row0 col2\" >Irving</td> \n",
       "        <td id=\"T_06bdb48c_e922_11e8_96d5_f01898076315row0_col3\" class=\"data row0 col3\" >https://www.airbnb.com/rooms/14241897?location=Carrollton%2C%20TX</td> \n",
       "    </tr></tbody> \n",
       "</table> "
      ],
      "text/plain": [
       "<pandas.io.formats.style.Styler at 0x1a148b99e8>"
      ]
     },
     "metadata": {},
     "output_type": "display_data"
    },
    {
     "data": {
      "text/html": [
       "<style  type=\"text/css\" >\n",
       "</style>  \n",
       "<table id=\"T_06be7f0c_e922_11e8_a61d_f01898076315\" > \n",
       "<thead>    <tr> \n",
       "        <th class=\"blank level0\" ></th> \n",
       "        <th class=\"col_heading level0 col0\" >title</th> \n",
       "        <th class=\"col_heading level0 col1\" >description</th> \n",
       "        <th class=\"col_heading level0 col2\" >city</th> \n",
       "        <th class=\"col_heading level0 col3\" >url</th> \n",
       "    </tr></thead> \n",
       "<tbody>    <tr> \n",
       "        <th id=\"T_06be7f0c_e922_11e8_a61d_f01898076315level0_row0\" class=\"row_heading level0 row0\" >0</th> \n",
       "        <td id=\"T_06be7f0c_e922_11e8_a61d_f01898076315row0_col0\" class=\"data row0 col0\" >1 Bedroom | 1 Bathroom | 680 SF</td> \n",
       "        <td id=\"T_06be7f0c_e922_11e8_a61d_f01898076315row0_col1\" class=\"data row0 col1\" >Hello!\\n\\nThank you for your interest in my space! My apartment is on the first floor in a gated community. 5 Minutes from major shopping, Wal-mart, HEB, Ice-skating rink, mini-golf, and a Movie Theater; near the intersection of HWY 281 and Loop 1604. I am about 15-20 minutes from downtown and about 5-10 minutes from San Antonio International Airport. \\n\\nGreat way to get around this city is using Uber, if it is your first time using Uber enter code: kaitlina318ue for your first ride FREE!</td> \n",
       "        <td id=\"T_06be7f0c_e922_11e8_a61d_f01898076315row0_col2\" class=\"data row0 col2\" >San Antonio</td> \n",
       "        <td id=\"T_06be7f0c_e922_11e8_a61d_f01898076315row0_col3\" class=\"data row0 col3\" >https://www.airbnb.com/rooms/18416476?location=Cibolo%2C%20TX</td> \n",
       "    </tr></tbody> \n",
       "</table> "
      ],
      "text/plain": [
       "<pandas.io.formats.style.Styler at 0x1a14ae0828>"
      ]
     },
     "metadata": {},
     "output_type": "display_data"
    },
    {
     "data": {
      "text/html": [
       "<style  type=\"text/css\" >\n",
       "</style>  \n",
       "<table id=\"T_06bf42b6_e922_11e8_8346_f01898076315\" > \n",
       "<thead>    <tr> \n",
       "        <th class=\"blank level0\" ></th> \n",
       "        <th class=\"col_heading level0 col0\" >title</th> \n",
       "        <th class=\"col_heading level0 col1\" >description</th> \n",
       "        <th class=\"col_heading level0 col2\" >city</th> \n",
       "        <th class=\"col_heading level0 col3\" >url</th> \n",
       "    </tr></thead> \n",
       "<tbody>    <tr> \n",
       "        <th id=\"T_06bf42b6_e922_11e8_8346_f01898076315level0_row0\" class=\"row_heading level0 row0\" >0</th> \n",
       "        <td id=\"T_06bf42b6_e922_11e8_8346_f01898076315row0_col0\" class=\"data row0 col0\" >Private Room near Airport/Stadium/AA Training</td> \n",
       "        <td id=\"T_06bf42b6_e922_11e8_8346_f01898076315row0_col1\" class=\"data row0 col1\" >You'll love my place, a two-story house in a perfect mid-cities location between Dallas and Fort Worth. \\n\\n5 minutes from AA Training Center.\\n8 minutes from DFW International Airport and rail station. \\n20 minutes from Love Field airport and downtown/uptown Dallas, American Airlines Center, AT&amp;T Cowboy Stadium, Six Flags, Ranger Stadium, Grapevine Mills Mall, Southlake, Texas Motor Speedway.</td> \n",
       "        <td id=\"T_06bf42b6_e922_11e8_8346_f01898076315row0_col2\" class=\"data row0 col2\" >Euless</td> \n",
       "        <td id=\"T_06bf42b6_e922_11e8_8346_f01898076315row0_col3\" class=\"data row0 col3\" >https://www.airbnb.com/rooms/16872604?location=Bedford%2C%20TX</td> \n",
       "    </tr></tbody> \n",
       "</table> "
      ],
      "text/plain": [
       "<pandas.io.formats.style.Styler at 0x1a14ae0b38>"
      ]
     },
     "metadata": {},
     "output_type": "display_data"
    },
    {
     "data": {
      "text/html": [
       "<style  type=\"text/css\" >\n",
       "</style>  \n",
       "<table id=\"T_06c02746_e922_11e8_940b_f01898076315\" > \n",
       "<thead>    <tr> \n",
       "        <th class=\"blank level0\" ></th> \n",
       "        <th class=\"col_heading level0 col0\" >title</th> \n",
       "        <th class=\"col_heading level0 col1\" >description</th> \n",
       "        <th class=\"col_heading level0 col2\" >city</th> \n",
       "        <th class=\"col_heading level0 col3\" >url</th> \n",
       "    </tr></thead> \n",
       "<tbody>    <tr> \n",
       "        <th id=\"T_06c02746_e922_11e8_940b_f01898076315level0_row0\" class=\"row_heading level0 row0\" >0</th> \n",
       "        <td id=\"T_06c02746_e922_11e8_940b_f01898076315row0_col0\" class=\"data row0 col0\" >Lovely Room Near Austin and San Marcos</td> \n",
       "        <td id=\"T_06c02746_e922_11e8_940b_f01898076315row0_col1\" class=\"data row0 col1\" >My place is close to nightlife and the airport.</td> \n",
       "        <td id=\"T_06c02746_e922_11e8_940b_f01898076315row0_col2\" class=\"data row0 col2\" >Kyle</td> \n",
       "        <td id=\"T_06c02746_e922_11e8_940b_f01898076315row0_col3\" class=\"data row0 col3\" >https://www.airbnb.com/rooms/13843791?location=Buda%2C%20TX</td> \n",
       "    </tr></tbody> \n",
       "</table> "
      ],
      "text/plain": [
       "<pandas.io.formats.style.Styler at 0x1a14ae00f0>"
      ]
     },
     "metadata": {},
     "output_type": "display_data"
    },
    {
     "data": {
      "text/html": [
       "<style  type=\"text/css\" >\n",
       "</style>  \n",
       "<table id=\"T_06c10268_e922_11e8_b693_f01898076315\" > \n",
       "<thead>    <tr> \n",
       "        <th class=\"blank level0\" ></th> \n",
       "        <th class=\"col_heading level0 col0\" >title</th> \n",
       "        <th class=\"col_heading level0 col1\" >description</th> \n",
       "        <th class=\"col_heading level0 col2\" >city</th> \n",
       "        <th class=\"col_heading level0 col3\" >url</th> \n",
       "    </tr></thead> \n",
       "<tbody>    <tr> \n",
       "        <th id=\"T_06c10268_e922_11e8_b693_f01898076315level0_row0\" class=\"row_heading level0 row0\" >0</th> \n",
       "        <td id=\"T_06c10268_e922_11e8_b693_f01898076315row0_col0\" class=\"data row0 col0\" >Beautiful Hill Country Retreat Close to Austin</td> \n",
       "        <td id=\"T_06c10268_e922_11e8_b693_f01898076315row0_col1\" class=\"data row0 col1\" >Visiting the Texas Hill Country for a wedding or other event? Stay with us instead of at a hotel chain. Our place sits on four acres of beautiful woods, has a pool you can use, and weÃ¢ÂÂre near a lot of wineries, breweries, distilleries, and other fun event sites. WeÃ¢ÂÂre about 20 minutes to south Austin and 25 from the airport.\\n\\nYouÃ¢ÂÂll be staying with three easygoing, friendly people who will leave you alone as much as you desire. We also have a dog and two catsÃ¢ÂÂall friendly.</td> \n",
       "        <td id=\"T_06c10268_e922_11e8_b693_f01898076315row0_col2\" class=\"data row0 col2\" >Austin</td> \n",
       "        <td id=\"T_06c10268_e922_11e8_b693_f01898076315row0_col3\" class=\"data row0 col3\" >https://www.airbnb.com/rooms/18808330?location=Bee%20Cave%2C%20TX</td> \n",
       "    </tr></tbody> \n",
       "</table> "
      ],
      "text/plain": [
       "<pandas.io.formats.style.Styler at 0x1a1482df28>"
      ]
     },
     "metadata": {},
     "output_type": "display_data"
    },
    {
     "data": {
      "text/html": [
       "<style  type=\"text/css\" >\n",
       "</style>  \n",
       "<table id=\"T_06c1b7b4_e922_11e8_8baf_f01898076315\" > \n",
       "<thead>    <tr> \n",
       "        <th class=\"blank level0\" ></th> \n",
       "        <th class=\"col_heading level0 col0\" >title</th> \n",
       "        <th class=\"col_heading level0 col1\" >description</th> \n",
       "        <th class=\"col_heading level0 col2\" >city</th> \n",
       "        <th class=\"col_heading level0 col3\" >url</th> \n",
       "    </tr></thead> \n",
       "<tbody>    <tr> \n",
       "        <th id=\"T_06c1b7b4_e922_11e8_8baf_f01898076315level0_row0\" class=\"row_heading level0 row0\" >0</th> \n",
       "        <td id=\"T_06c1b7b4_e922_11e8_8baf_f01898076315row0_col0\" class=\"data row0 col0\" >Lots of Privacy in Beautiful Home Near The Lake</td> \n",
       "        <td id=\"T_06c1b7b4_e922_11e8_8baf_f01898076315row0_col1\" class=\"data row0 col1\" >Two beautifully decorated bedrooms with queen beds and televisions in each Private bathroom with a Keurigg Coffee Maker. Excellent quality of linens and towels. Compare your visit and aminities here to the finest hotels! Ideal for business professionals.\\n\\nMy room is on opposite side of house as to not disrupt one another.\\n \\n 5 minutes to Historic downtown Grapevine or Southlake Town Square. Gaylord Texan Resort is 5 miles. DFW airport is 10 miles. Halfway between Dallas and Fort Worth.</td> \n",
       "        <td id=\"T_06c1b7b4_e922_11e8_8baf_f01898076315row0_col2\" class=\"data row0 col2\" >Grapevine</td> \n",
       "        <td id=\"T_06c1b7b4_e922_11e8_8baf_f01898076315row0_col3\" class=\"data row0 col3\" >https://www.airbnb.com/rooms/4203198?location=Bedford%2C%20TX</td> \n",
       "    </tr></tbody> \n",
       "</table> "
      ],
      "text/plain": [
       "<pandas.io.formats.style.Styler at 0x1a14b488d0>"
      ]
     },
     "metadata": {},
     "output_type": "display_data"
    },
    {
     "data": {
      "text/html": [
       "<style  type=\"text/css\" >\n",
       "</style>  \n",
       "<table id=\"T_06c2a29e_e922_11e8_8c77_f01898076315\" > \n",
       "<thead>    <tr> \n",
       "        <th class=\"blank level0\" ></th> \n",
       "        <th class=\"col_heading level0 col0\" >title</th> \n",
       "        <th class=\"col_heading level0 col1\" >description</th> \n",
       "        <th class=\"col_heading level0 col2\" >city</th> \n",
       "        <th class=\"col_heading level0 col3\" >url</th> \n",
       "    </tr></thead> \n",
       "<tbody>    <tr> \n",
       "        <th id=\"T_06c2a29e_e922_11e8_8c77_f01898076315level0_row0\" class=\"row_heading level0 row0\" >0</th> \n",
       "        <td id=\"T_06c2a29e_e922_11e8_8c77_f01898076315row0_col0\" class=\"data row0 col0\" >Cozy Queen Bedroom</td> \n",
       "        <td id=\"T_06c2a29e_e922_11e8_8c77_f01898076315row0_col1\" class=\"data row0 col1\" >Clean comfortable bedroom with house privileges conveniently located near Dallas. Arlington and other popular destinations within the Dallas-Fort Worth metroplex are easily accessible from here. DFW and Love Field airports are only minutes away. The room has an adjoining bathroom in this spacious and well appointed home.</td> \n",
       "        <td id=\"T_06c2a29e_e922_11e8_8c77_f01898076315row0_col2\" class=\"data row0 col2\" >Irving</td> \n",
       "        <td id=\"T_06c2a29e_e922_11e8_8c77_f01898076315row0_col3\" class=\"data row0 col3\" >https://www.airbnb.com/rooms/4340603?location=Colleyville%2C%20TX</td> \n",
       "    </tr></tbody> \n",
       "</table> "
      ],
      "text/plain": [
       "<pandas.io.formats.style.Styler at 0x1a14b487b8>"
      ]
     },
     "metadata": {},
     "output_type": "display_data"
    },
    {
     "data": {
      "text/html": [
       "<style  type=\"text/css\" >\n",
       "</style>  \n",
       "<table id=\"T_06c36cf6_e922_11e8_8f31_f01898076315\" > \n",
       "<thead>    <tr> \n",
       "        <th class=\"blank level0\" ></th> \n",
       "        <th class=\"col_heading level0 col0\" >title</th> \n",
       "        <th class=\"col_heading level0 col1\" >description</th> \n",
       "        <th class=\"col_heading level0 col2\" >city</th> \n",
       "        <th class=\"col_heading level0 col3\" >url</th> \n",
       "    </tr></thead> \n",
       "<tbody>    <tr> \n",
       "        <th id=\"T_06c36cf6_e922_11e8_8f31_f01898076315level0_row0\" class=\"row_heading level0 row0\" >0</th> \n",
       "        <td id=\"T_06c36cf6_e922_11e8_8f31_f01898076315row0_col0\" class=\"data row0 col0\" >BDR and adjacent LVR Near Airport and Woodlands</td> \n",
       "        <td id=\"T_06c36cf6_e922_11e8_8f31_f01898076315row0_col1\" class=\"data row0 col1\" >Welcome to my 2,700 sq. ft. house. You get a private Bedroom and Living Room. The living room is in the room next door upstairs with a couch, Big screen TV , computer desk, computer, refrigerator and microwave. YouÃ¢ÂÂll love my place because of the neighborhood, great restaurants close by, the comfy bed, the coziness, and the kitchen. My place is good for couples, solo adventurers, business travelers, and furry friends (pets). There is a huge covered patio in back. Free Internet and Netflix.</td> \n",
       "        <td id=\"T_06c36cf6_e922_11e8_8f31_f01898076315row0_col2\" class=\"data row0 col2\" >Houston</td> \n",
       "        <td id=\"T_06c36cf6_e922_11e8_8f31_f01898076315row0_col3\" class=\"data row0 col3\" >https://www.airbnb.com/rooms/13377678?location=Conroe%2C%20TX</td> \n",
       "    </tr></tbody> \n",
       "</table> "
      ],
      "text/plain": [
       "<pandas.io.formats.style.Styler at 0x1a14ae0d30>"
      ]
     },
     "metadata": {},
     "output_type": "display_data"
    },
    {
     "data": {
      "text/html": [
       "<style  type=\"text/css\" >\n",
       "</style>  \n",
       "<table id=\"T_06c43c58_e922_11e8_99f9_f01898076315\" > \n",
       "<thead>    <tr> \n",
       "        <th class=\"blank level0\" ></th> \n",
       "        <th class=\"col_heading level0 col0\" >title</th> \n",
       "        <th class=\"col_heading level0 col1\" >description</th> \n",
       "        <th class=\"col_heading level0 col2\" >city</th> \n",
       "        <th class=\"col_heading level0 col3\" >url</th> \n",
       "    </tr></thead> \n",
       "<tbody>    <tr> \n",
       "        <th id=\"T_06c43c58_e922_11e8_99f9_f01898076315level0_row0\" class=\"row_heading level0 row0\" >0</th> \n",
       "        <td id=\"T_06c43c58_e922_11e8_99f9_f01898076315row0_col0\" class=\"data row0 col0\" >(B) Private bedroom close to DFW airport</td> \n",
       "        <td id=\"T_06c43c58_e922_11e8_99f9_f01898076315row0_col1\" class=\"data row0 col1\" >Lovely private bedroom on a single story house. Conveniently located to all major highways and Las Colinas business area. The property is near restaurants, grocery stores, running trails and 10 mins to DFW airport. It is good for solo adventurers and business travelers. Short-term discounts.</td> \n",
       "        <td id=\"T_06c43c58_e922_11e8_99f9_f01898076315row0_col2\" class=\"data row0 col2\" >Irving</td> \n",
       "        <td id=\"T_06c43c58_e922_11e8_99f9_f01898076315row0_col3\" class=\"data row0 col3\" >https://www.airbnb.com/rooms/14231271?location=Coppell%2C%20TX</td> \n",
       "    </tr></tbody> \n",
       "</table> "
      ],
      "text/plain": [
       "<pandas.io.formats.style.Styler at 0x1a14ae04a8>"
      ]
     },
     "metadata": {},
     "output_type": "display_data"
    },
    {
     "data": {
      "text/html": [
       "<style  type=\"text/css\" >\n",
       "</style>  \n",
       "<table id=\"T_06c51a9c_e922_11e8_9aa4_f01898076315\" > \n",
       "<thead>    <tr> \n",
       "        <th class=\"blank level0\" ></th> \n",
       "        <th class=\"col_heading level0 col0\" >title</th> \n",
       "        <th class=\"col_heading level0 col1\" >description</th> \n",
       "        <th class=\"col_heading level0 col2\" >city</th> \n",
       "        <th class=\"col_heading level0 col3\" >url</th> \n",
       "    </tr></thead> \n",
       "<tbody>    <tr> \n",
       "        <th id=\"T_06c51a9c_e922_11e8_9aa4_f01898076315level0_row0\" class=\"row_heading level0 row0\" >0</th> \n",
       "        <td id=\"T_06c51a9c_e922_11e8_9aa4_f01898076315row0_col0\" class=\"data row0 col0\" >Quiet and safe Apartment near I30. Super cozy!</td> \n",
       "        <td id=\"T_06c51a9c_e922_11e8_9aa4_f01898076315row0_col1\" class=\"data row0 col1\" >My place is close to the airport, parks, and nightlife. YouÃ¢ÂÂll love my place because of the coziness, the location, the high ceilings, and the kitchen. My place is good for couples, solo adventurers, business travelers, and families (with kids).</td> \n",
       "        <td id=\"T_06c51a9c_e922_11e8_9aa4_f01898076315row0_col2\" class=\"data row0 col2\" >Arlington</td> \n",
       "        <td id=\"T_06c51a9c_e922_11e8_9aa4_f01898076315row0_col3\" class=\"data row0 col3\" >https://www.airbnb.com/rooms/13996476?location=Bedford%2C%20TX</td> \n",
       "    </tr></tbody> \n",
       "</table> "
      ],
      "text/plain": [
       "<pandas.io.formats.style.Styler at 0x1a14ae0c50>"
      ]
     },
     "metadata": {},
     "output_type": "display_data"
    },
    {
     "data": {
      "text/html": [
       "<style  type=\"text/css\" >\n",
       "</style>  \n",
       "<table id=\"T_06c5ecb0_e922_11e8_aa8f_f01898076315\" > \n",
       "<thead>    <tr> \n",
       "        <th class=\"blank level0\" ></th> \n",
       "        <th class=\"col_heading level0 col0\" >title</th> \n",
       "        <th class=\"col_heading level0 col1\" >description</th> \n",
       "        <th class=\"col_heading level0 col2\" >city</th> \n",
       "        <th class=\"col_heading level0 col3\" >url</th> \n",
       "    </tr></thead> \n",
       "<tbody>    <tr> \n",
       "        <th id=\"T_06c5ecb0_e922_11e8_aa8f_f01898076315level0_row0\" class=\"row_heading level0 row0\" >0</th> \n",
       "        <td id=\"T_06c5ecb0_e922_11e8_aa8f_f01898076315row0_col0\" class=\"data row0 col0\" >Master Bedroom with private Bathroom near IAH</td> \n",
       "        <td id=\"T_06c5ecb0_e922_11e8_aa8f_f01898076315row0_col1\" class=\"data row0 col1\" >NRG stadium located just 32 miles away, George Bush Intercontinental Airport is only 12 miles away, Downtown is just a 30 minute ride away as well.</td> \n",
       "        <td id=\"T_06c5ecb0_e922_11e8_aa8f_f01898076315row0_col2\" class=\"data row0 col2\" >Humble</td> \n",
       "        <td id=\"T_06c5ecb0_e922_11e8_aa8f_f01898076315row0_col3\" class=\"data row0 col3\" >https://www.airbnb.com/rooms/16442102?location=Cleveland%2C%20TX</td> \n",
       "    </tr></tbody> \n",
       "</table> "
      ],
      "text/plain": [
       "<pandas.io.formats.style.Styler at 0x1a148b9c50>"
      ]
     },
     "metadata": {},
     "output_type": "display_data"
    },
    {
     "data": {
      "text/html": [
       "<style  type=\"text/css\" >\n",
       "</style>  \n",
       "<table id=\"T_06c696c6_e922_11e8_bbb8_f01898076315\" > \n",
       "<thead>    <tr> \n",
       "        <th class=\"blank level0\" ></th> \n",
       "        <th class=\"col_heading level0 col0\" >title</th> \n",
       "        <th class=\"col_heading level0 col1\" >description</th> \n",
       "        <th class=\"col_heading level0 col2\" >city</th> \n",
       "        <th class=\"col_heading level0 col3\" >url</th> \n",
       "    </tr></thead> \n",
       "<tbody>    <tr> \n",
       "        <th id=\"T_06c696c6_e922_11e8_bbb8_f01898076315level0_row0\" class=\"row_heading level0 row0\" >0</th> \n",
       "        <td id=\"T_06c696c6_e922_11e8_bbb8_f01898076315row0_col0\" class=\"data row0 col0\" >Beautiful master bedroom near DFW airport</td> \n",
       "        <td id=\"T_06c696c6_e922_11e8_bbb8_f01898076315row0_col1\" class=\"data row0 col1\" >This is our first listed room in this house. huge master bedroom is completely furnished with comfortable queen size bed, 100inches projector screen with movie system, his and her bathroom plus a huge bath tub, walk in closet. We provide all toiletries. We offer free snacks and coffee/tea. The location is great. Only 13 mins away from the airport. And close to a lot of restaurant and shopping.</td> \n",
       "        <td id=\"T_06c696c6_e922_11e8_bbb8_f01898076315row0_col2\" class=\"data row0 col2\" >Bedford</td> \n",
       "        <td id=\"T_06c696c6_e922_11e8_bbb8_f01898076315row0_col3\" class=\"data row0 col3\" >https://www.airbnb.com/rooms/17269321?location=Bedford%2C%20TX</td> \n",
       "    </tr></tbody> \n",
       "</table> "
      ],
      "text/plain": [
       "<pandas.io.formats.style.Styler at 0x1a14a85c18>"
      ]
     },
     "metadata": {},
     "output_type": "display_data"
    },
    {
     "data": {
      "text/html": [
       "<style  type=\"text/css\" >\n",
       "</style>  \n",
       "<table id=\"T_06c798e4_e922_11e8_9331_f01898076315\" > \n",
       "<thead>    <tr> \n",
       "        <th class=\"blank level0\" ></th> \n",
       "        <th class=\"col_heading level0 col0\" >title</th> \n",
       "        <th class=\"col_heading level0 col1\" >description</th> \n",
       "        <th class=\"col_heading level0 col2\" >city</th> \n",
       "        <th class=\"col_heading level0 col3\" >url</th> \n",
       "    </tr></thead> \n",
       "<tbody>    <tr> \n",
       "        <th id=\"T_06c798e4_e922_11e8_9331_f01898076315level0_row0\" class=\"row_heading level0 row0\" >0</th> \n",
       "        <td id=\"T_06c798e4_e922_11e8_9331_f01898076315row0_col0\" class=\"data row0 col0\" >Modern and Relaxing Condo Close to DFW Airport</td> \n",
       "        <td id=\"T_06c798e4_e922_11e8_9331_f01898076315row0_col1\" class=\"data row0 col1\" >This cozy modern condominium is located in a quiet gated community in Irving, minutes from DFW International Airport and 10 minutes from downtown Dallas. Conveniently located near major highways.</td> \n",
       "        <td id=\"T_06c798e4_e922_11e8_9331_f01898076315row0_col2\" class=\"data row0 col2\" >Irving</td> \n",
       "        <td id=\"T_06c798e4_e922_11e8_9331_f01898076315row0_col3\" class=\"data row0 col3\" >https://www.airbnb.com/rooms/18735283?location=Bedford%2C%20TX</td> \n",
       "    </tr></tbody> \n",
       "</table> "
      ],
      "text/plain": [
       "<pandas.io.formats.style.Styler at 0x1a14a85e10>"
      ]
     },
     "metadata": {},
     "output_type": "display_data"
    },
    {
     "data": {
      "text/html": [
       "<style  type=\"text/css\" >\n",
       "</style>  \n",
       "<table id=\"T_06c864cc_e922_11e8_a4fe_f01898076315\" > \n",
       "<thead>    <tr> \n",
       "        <th class=\"blank level0\" ></th> \n",
       "        <th class=\"col_heading level0 col0\" >title</th> \n",
       "        <th class=\"col_heading level0 col1\" >description</th> \n",
       "        <th class=\"col_heading level0 col2\" >city</th> \n",
       "        <th class=\"col_heading level0 col3\" >url</th> \n",
       "    </tr></thead> \n",
       "<tbody>    <tr> \n",
       "        <th id=\"T_06c864cc_e922_11e8_a4fe_f01898076315level0_row0\" class=\"row_heading level0 row0\" >0</th> \n",
       "        <td id=\"T_06c864cc_e922_11e8_a4fe_f01898076315row0_col0\" class=\"data row0 col0\" >Safe Comfortable Hotel Room at Home near Airport</td> \n",
       "        <td id=\"T_06c864cc_e922_11e8_a4fe_f01898076315row0_col1\" class=\"data row0 col1\" >Full Size Bed with Computer Desk and Chair. You will love staying in my home, it's a 10 minute drive from the DFW airport. Irving is right in the center of Dallas so drive to Downtown or anywhere is a breeze. Neighborhood is safe and quiet.\\n\\nMy place is great for Business Travelers, solo adventures and for couples.\\n\\nHouse is situated on corner lot. Extended covered patio with fenced backyard. Kitchen has plenty of counter top space. Neighborhood features includes park area.</td> \n",
       "        <td id=\"T_06c864cc_e922_11e8_a4fe_f01898076315row0_col2\" class=\"data row0 col2\" >Irving</td> \n",
       "        <td id=\"T_06c864cc_e922_11e8_a4fe_f01898076315row0_col3\" class=\"data row0 col3\" >https://www.airbnb.com/rooms/19240734?location=Coppell%2C%20TX</td> \n",
       "    </tr></tbody> \n",
       "</table> "
      ],
      "text/plain": [
       "<pandas.io.formats.style.Styler at 0x1a14a85780>"
      ]
     },
     "metadata": {},
     "output_type": "display_data"
    },
    {
     "data": {
      "text/html": [
       "<style  type=\"text/css\" >\n",
       "</style>  \n",
       "<table id=\"T_06c93fbe_e922_11e8_bb9a_f01898076315\" > \n",
       "<thead>    <tr> \n",
       "        <th class=\"blank level0\" ></th> \n",
       "        <th class=\"col_heading level0 col0\" >title</th> \n",
       "        <th class=\"col_heading level0 col1\" >description</th> \n",
       "        <th class=\"col_heading level0 col2\" >city</th> \n",
       "        <th class=\"col_heading level0 col3\" >url</th> \n",
       "    </tr></thead> \n",
       "<tbody>    <tr> \n",
       "        <th id=\"T_06c93fbe_e922_11e8_bb9a_f01898076315level0_row0\" class=\"row_heading level0 row0\" >0</th> \n",
       "        <td id=\"T_06c93fbe_e922_11e8_bb9a_f01898076315row0_col0\" class=\"data row0 col0\" >Private room near airport</td> \n",
       "        <td id=\"T_06c93fbe_e922_11e8_bb9a_f01898076315row0_col1\" class=\"data row0 col1\" >Euless is 6 miles from DFW airport and in between Dallas and Ft Worth, close to attractions like six flags, Cowboy and Rangers stadiums and golf. Also near American Airline training center. We are a pet friendly home and charge $60 fee per week per pet it $10/day.</td> \n",
       "        <td id=\"T_06c93fbe_e922_11e8_bb9a_f01898076315row0_col2\" class=\"data row0 col2\" >Euless</td> \n",
       "        <td id=\"T_06c93fbe_e922_11e8_bb9a_f01898076315row0_col3\" class=\"data row0 col3\" >https://www.airbnb.com/rooms/12171433?location=Colleyville%2C%20TX</td> \n",
       "    </tr></tbody> \n",
       "</table> "
      ],
      "text/plain": [
       "<pandas.io.formats.style.Styler at 0x1a14ae0898>"
      ]
     },
     "metadata": {},
     "output_type": "display_data"
    },
    {
     "data": {
      "text/html": [
       "<style  type=\"text/css\" >\n",
       "</style>  \n",
       "<table id=\"T_06ca1790_e922_11e8_b969_f01898076315\" > \n",
       "<thead>    <tr> \n",
       "        <th class=\"blank level0\" ></th> \n",
       "        <th class=\"col_heading level0 col0\" >title</th> \n",
       "        <th class=\"col_heading level0 col1\" >description</th> \n",
       "        <th class=\"col_heading level0 col2\" >city</th> \n",
       "        <th class=\"col_heading level0 col3\" >url</th> \n",
       "    </tr></thead> \n",
       "<tbody>    <tr> \n",
       "        <th id=\"T_06ca1790_e922_11e8_b969_f01898076315level0_row0\" class=\"row_heading level0 row0\" >0</th> \n",
       "        <td id=\"T_06ca1790_e922_11e8_b969_f01898076315row0_col0\" class=\"data row0 col0\" >Peaceful Cul-de-sac near SPID 358</td> \n",
       "        <td id=\"T_06ca1790_e922_11e8_b969_f01898076315row0_col1\" class=\"data row0 col1\" >Simple, clean and convenient! Good vibes throughout the home. Perfect for couples, solo adventurers and business travelers. Only 6 miles to North Padre Island, 10 miles to downtown Corpus Christi, 14 miles to CRP airport, 1.4 miles to NAS CC South Gate, 0.3 miles to S.P.I.D. Hwy 358 for an easy commute. Walking distance to Walmart, Subway, tacos, seafood &amp; chicken fried steak.</td> \n",
       "        <td id=\"T_06ca1790_e922_11e8_b969_f01898076315row0_col2\" class=\"data row0 col2\" >Corpus Christi</td> \n",
       "        <td id=\"T_06ca1790_e922_11e8_b969_f01898076315row0_col3\" class=\"data row0 col3\" >https://www.airbnb.com/rooms/15831994?location=Corpus%20Christi%2C%20TX</td> \n",
       "    </tr></tbody> \n",
       "</table> "
      ],
      "text/plain": [
       "<pandas.io.formats.style.Styler at 0x1a14ae01d0>"
      ]
     },
     "metadata": {},
     "output_type": "display_data"
    },
    {
     "data": {
      "text/html": [
       "<style  type=\"text/css\" >\n",
       "</style>  \n",
       "<table id=\"T_06caf5d4_e922_11e8_8684_f01898076315\" > \n",
       "<thead>    <tr> \n",
       "        <th class=\"blank level0\" ></th> \n",
       "        <th class=\"col_heading level0 col0\" >title</th> \n",
       "        <th class=\"col_heading level0 col1\" >description</th> \n",
       "        <th class=\"col_heading level0 col2\" >city</th> \n",
       "        <th class=\"col_heading level0 col3\" >url</th> \n",
       "    </tr></thead> \n",
       "<tbody>    <tr> \n",
       "        <th id=\"T_06caf5d4_e922_11e8_8684_f01898076315level0_row0\" class=\"row_heading level0 row0\" >0</th> \n",
       "        <td id=\"T_06caf5d4_e922_11e8_8684_f01898076315row0_col0\" class=\"data row0 col0\" >1 Bedroom Apartment Near Oaklawn/Love Field</td> \n",
       "        <td id=\"T_06caf5d4_e922_11e8_8684_f01898076315row0_col1\" class=\"data row0 col1\" >This apartment is located close to Oak Lawn, Dallas Love Field airport, Highland Park Village and Uptown. Downtown Dallas, Greenville, and Deep Ellum are just a 10-15 minute drive. You will have the entire apartment which includes a king sized memory foam bed, kitchen/cookware, high speed internet, and gated parking. It is minimally furnished but perfect for those looking for an affordable place to stay.</td> \n",
       "        <td id=\"T_06caf5d4_e922_11e8_8684_f01898076315row0_col2\" class=\"data row0 col2\" >Dallas</td> \n",
       "        <td id=\"T_06caf5d4_e922_11e8_8684_f01898076315row0_col3\" class=\"data row0 col3\" >https://www.airbnb.com/rooms/18992667?location=Carrollton%2C%20TX</td> \n",
       "    </tr></tbody> \n",
       "</table> "
      ],
      "text/plain": [
       "<pandas.io.formats.style.Styler at 0x1a14ae0390>"
      ]
     },
     "metadata": {},
     "output_type": "display_data"
    },
    {
     "data": {
      "text/html": [
       "<style  type=\"text/css\" >\n",
       "</style>  \n",
       "<table id=\"T_06cbc5c2_e922_11e8_ab6e_f01898076315\" > \n",
       "<thead>    <tr> \n",
       "        <th class=\"blank level0\" ></th> \n",
       "        <th class=\"col_heading level0 col0\" >title</th> \n",
       "        <th class=\"col_heading level0 col1\" >description</th> \n",
       "        <th class=\"col_heading level0 col2\" >city</th> \n",
       "        <th class=\"col_heading level0 col3\" >url</th> \n",
       "    </tr></thead> \n",
       "<tbody>    <tr> \n",
       "        <th id=\"T_06cbc5c2_e922_11e8_ab6e_f01898076315level0_row0\" class=\"row_heading level0 row0\" >0</th> \n",
       "        <td id=\"T_06cbc5c2_e922_11e8_ab6e_f01898076315row0_col0\" class=\"data row0 col0\" >cozy apt near airports</td> \n",
       "        <td id=\"T_06cbc5c2_e922_11e8_ab6e_f01898076315row0_col1\" class=\"data row0 col1\" >My place is close to both the DFW and Love Field airports. They're both about a 15 minute drive away (depending on the Dallas traffic, of course.) \\n\\nYouÃ¢ÂÂll love my place because of the ambiance, the outdoor space, the natural light, and the neighborhood. It's located across from the Las Colinas Country Club and the Four Seasons resort. It's nice, quiet, and just a 20 minute drive to downtown Dallas. My place is good for couples, solo adventurers, and business travelers.</td> \n",
       "        <td id=\"T_06cbc5c2_e922_11e8_ab6e_f01898076315row0_col2\" class=\"data row0 col2\" >Irving</td> \n",
       "        <td id=\"T_06cbc5c2_e922_11e8_ab6e_f01898076315row0_col3\" class=\"data row0 col3\" >https://www.airbnb.com/rooms/13256966?location=Coppell%2C%20TX</td> \n",
       "    </tr></tbody> \n",
       "</table> "
      ],
      "text/plain": [
       "<pandas.io.formats.style.Styler at 0x1a14ae0630>"
      ]
     },
     "metadata": {},
     "output_type": "display_data"
    },
    {
     "data": {
      "text/html": [
       "<style  type=\"text/css\" >\n",
       "</style>  \n",
       "<table id=\"T_06ccbec8_e922_11e8_9c2f_f01898076315\" > \n",
       "<thead>    <tr> \n",
       "        <th class=\"blank level0\" ></th> \n",
       "        <th class=\"col_heading level0 col0\" >title</th> \n",
       "        <th class=\"col_heading level0 col1\" >description</th> \n",
       "        <th class=\"col_heading level0 col2\" >city</th> \n",
       "        <th class=\"col_heading level0 col3\" >url</th> \n",
       "    </tr></thead> \n",
       "<tbody>    <tr> \n",
       "        <th id=\"T_06ccbec8_e922_11e8_9c2f_f01898076315level0_row0\" class=\"row_heading level0 row0\" >0</th> \n",
       "        <td id=\"T_06ccbec8_e922_11e8_9c2f_f01898076315row0_col0\" class=\"data row0 col0\" >Private room - 10 mins from DFW</td> \n",
       "        <td id=\"T_06ccbec8_e922_11e8_9c2f_f01898076315row0_col1\" class=\"data row0 col1\" >1 room for rent in my house which located in in Irving near Dallas. 10 minutes from DFW airport, 15 minutes from Lovefield Airport and 15 minutes from downtown Dallas. Family friendly house which could be your home away from home.</td> \n",
       "        <td id=\"T_06ccbec8_e922_11e8_9c2f_f01898076315row0_col2\" class=\"data row0 col2\" >Irving</td> \n",
       "        <td id=\"T_06ccbec8_e922_11e8_9c2f_f01898076315row0_col3\" class=\"data row0 col3\" >https://www.airbnb.com/rooms/16617621?location=Bedford%2C%20TX</td> \n",
       "    </tr></tbody> \n",
       "</table> "
      ],
      "text/plain": [
       "<pandas.io.formats.style.Styler at 0x10b9a6eb8>"
      ]
     },
     "metadata": {},
     "output_type": "display_data"
    },
    {
     "data": {
      "text/html": [
       "<style  type=\"text/css\" >\n",
       "</style>  \n",
       "<table id=\"T_06cd91e8_e922_11e8_b564_f01898076315\" > \n",
       "<thead>    <tr> \n",
       "        <th class=\"blank level0\" ></th> \n",
       "        <th class=\"col_heading level0 col0\" >title</th> \n",
       "        <th class=\"col_heading level0 col1\" >description</th> \n",
       "        <th class=\"col_heading level0 col2\" >city</th> \n",
       "        <th class=\"col_heading level0 col3\" >url</th> \n",
       "    </tr></thead> \n",
       "<tbody>    <tr> \n",
       "        <th id=\"T_06cd91e8_e922_11e8_b564_f01898076315level0_row0\" class=\"row_heading level0 row0\" >0</th> \n",
       "        <td id=\"T_06cd91e8_e922_11e8_b564_f01898076315row0_col0\" class=\"data row0 col0\" >BREATHE DEEPLY A Cozy Austin Cabin</td> \n",
       "        <td id=\"T_06cd91e8_e922_11e8_b564_f01898076315row0_col1\" class=\"data row0 col1\" >A stone throw south of the Austin City Limits, this cabin is situated in 2.5 wooded acres. Luxurious and quiet. It is inhabited by deer, raccoon, rabbits, owls, lizards and butterflies. There is an old stone well filled by an aquifer (legend states the well was built by Ben McCullough; the civil war hero). A large back yard is used for walks, bonfires and golfing/batting balls. Lounge in the dappled sun on the patio near a running pond surrounded with gardens. Prepare a leisurely bar-b-que. Talk late into the night by the fire pit. \\n\\nThis 100+ yr old cabin has been revived and furnished with love. Time seems to stop while soaking in the deep old claw tub filled with endless hot spring water . Drifting to sleep, become aware of crackling in the wood burning stove, a train whistle and the trickling pond. Breakfast choices are street tacos or waffles...with pecans? \\n\\nIts possible you'll be tempted to stay all day. However, the center of Austin or San Marcos, with music, swimming, fishing and kayaking are just 15-25 minutes from this retreat. \\nSound like a fit for you? More info:\\nCircuit of the Americas is 18 miles through country roads. It is possible to attend this event and never enter Austin. A toll road will deliver you from the airport to the cabin and the event without the Austin traffic. Also close and south is an after race restaurant popular with race participants. \\n\\nNote for SXSW and other major events: Consider being in the crowds day and night then retreating by the fire at your quiet abode just 15 minutes south from all the ruckus of Central Austin. Invite your friends to hang with you and perhaps make your own music. Guests under 21 welcomed. \\n\\n\\nIncluded in price:\\nheating with wood burner &amp;/or electric heater. Host can prep the fire. Firewood complementary AC for the summer/fall plus ceiling fan\\nNO TV\\nwireless internet - fast\\nwasher/dryer available\\nclaw tub with shower\\nkitchen equipped with small refrigerator, toaster oven, small microwave, coffee maker\\nlarge BBQ pit available\\nof course all towels, quality cotton sheets, feathered quilt, pillows, utensils, dishes, cups, coffee, teas and toiletries are ready for you cleaning when requested. \\nup to 3 parking spaces\\n3 fire pits to lounge by\\nprivate patio\\n\\nExtra charges:\\ntransportation: Round trip transportation to the airport or elsewhere offered by host\\npublic bus stop 3 miles from the cabin, it is easy to grab a ride to the bus stop from the host- no charge.\\nweekend reservations are a minimum of 2 nights. If you can only stay 1 night, please ask about an exception so that I can attempt to make it work.\\n\\nGuest have exclusive access to the patio. You are welcome to wander all the grounds with the exception of course, of the private residence.\\nComing soon: a sauna is being converted into a cedar silo sauna.\\nFormula 1 rate includes stocked local wines and beer. Toll road to F1 is less that 2 miles from the cabin and provides a direct shot to the venue, without having to deal with Austin traffic. \\nWEDDING PACKAGE: Evening before and night of wedding. This facilitates hosting out of town guests the night before and the day of. (note weekends are a two night minimum. this generally is not practical for the newly weds.) However, the events prior to the big event serves as an informal staging area and a place for your guests who need a meet up, changing and rest area prior to the wedding. Before the bride and groom return from the wedding, host will tidy the cabin and light a fire and candles for their special arrival.\\n\\nI interact with guests as much as they want. Usually, an initial orientation to the cabin and grounds, then texting for the morning \\</td> \n",
       "        <td id=\"T_06cd91e8_e922_11e8_b564_f01898076315row0_col2\" class=\"data row0 col2\" >Manchaca</td> \n",
       "        <td id=\"T_06cd91e8_e922_11e8_b564_f01898076315row0_col3\" class=\"data row0 col3\" >https://www.airbnb.com/rooms/728502?location=Buda%2C%20TX</td> \n",
       "    </tr></tbody> \n",
       "</table> "
      ],
      "text/plain": [
       "<pandas.io.formats.style.Styler at 0x1a14b4e278>"
      ]
     },
     "metadata": {},
     "output_type": "display_data"
    },
    {
     "data": {
      "text/html": [
       "<style  type=\"text/css\" >\n",
       "</style>  \n",
       "<table id=\"T_06ce808c_e922_11e8_b9e6_f01898076315\" > \n",
       "<thead>    <tr> \n",
       "        <th class=\"blank level0\" ></th> \n",
       "        <th class=\"col_heading level0 col0\" >title</th> \n",
       "        <th class=\"col_heading level0 col1\" >description</th> \n",
       "        <th class=\"col_heading level0 col2\" >city</th> \n",
       "        <th class=\"col_heading level0 col3\" >url</th> \n",
       "    </tr></thead> \n",
       "<tbody>    <tr> \n",
       "        <th id=\"T_06ce808c_e922_11e8_b9e6_f01898076315level0_row0\" class=\"row_heading level0 row0\" >0</th> \n",
       "        <td id=\"T_06ce808c_e922_11e8_b9e6_f01898076315row0_col0\" class=\"data row0 col0\" >Cozy Bedroom near the DFW Airport</td> \n",
       "        <td id=\"T_06ce808c_e922_11e8_b9e6_f01898076315row0_col1\" class=\"data row0 col1\" >Our home is located about 10 minutes away from the DFW airport, located on a quiet street. The room offered is cozy and homey. It comfortably fits two. Enjoy a wonderful side yard, relaxing bath area, with access to tons of restaurants and shopping just a few minutes away.</td> \n",
       "        <td id=\"T_06ce808c_e922_11e8_b9e6_f01898076315row0_col2\" class=\"data row0 col2\" >Irving</td> \n",
       "        <td id=\"T_06ce808c_e922_11e8_b9e6_f01898076315row0_col3\" class=\"data row0 col3\" >https://www.airbnb.com/rooms/7281155?location=Colleyville%2C%20TX</td> \n",
       "    </tr></tbody> \n",
       "</table> "
      ],
      "text/plain": [
       "<pandas.io.formats.style.Styler at 0x1a14b4eb38>"
      ]
     },
     "metadata": {},
     "output_type": "display_data"
    },
    {
     "data": {
      "text/html": [
       "<style  type=\"text/css\" >\n",
       "</style>  \n",
       "<table id=\"T_06cf60ec_e922_11e8_ba41_f01898076315\" > \n",
       "<thead>    <tr> \n",
       "        <th class=\"blank level0\" ></th> \n",
       "        <th class=\"col_heading level0 col0\" >title</th> \n",
       "        <th class=\"col_heading level0 col1\" >description</th> \n",
       "        <th class=\"col_heading level0 col2\" >city</th> \n",
       "        <th class=\"col_heading level0 col3\" >url</th> \n",
       "    </tr></thead> \n",
       "<tbody>    <tr> \n",
       "        <th id=\"T_06cf60ec_e922_11e8_ba41_f01898076315level0_row0\" class=\"row_heading level0 row0\" >0</th> \n",
       "        <td id=\"T_06cf60ec_e922_11e8_ba41_f01898076315row0_col0\" class=\"data row0 col0\" >Angela & Jason's Casbah near the River Walk</td> \n",
       "        <td id=\"T_06cf60ec_e922_11e8_ba41_f01898076315row0_col1\" class=\"data row0 col1\" >2 bed 2 bath, the Casbah is a classic with high ceilings and wood floors in a quiet neighborhood. You will have easy access to conventions, the River Walk, downtown and the airport. A quick walk to the YMCA gym, bike share, restaurants (from Texas BBQ to vegan), taverns &amp; clubs, and the VIVA Culture Bus that visits all major museums and downtown. The Red Suite has a queen bed and private bath. The BibliothÃÂ¨que showcases the building's original construction. Salon Blue, the master, is king sized.</td> \n",
       "        <td id=\"T_06cf60ec_e922_11e8_ba41_f01898076315row0_col2\" class=\"data row0 col2\" >San Antonio</td> \n",
       "        <td id=\"T_06cf60ec_e922_11e8_ba41_f01898076315row0_col3\" class=\"data row0 col3\" >https://www.airbnb.com/rooms/14044792?location=Alamo%20Heights%2C%20TX</td> \n",
       "    </tr></tbody> \n",
       "</table> "
      ],
      "text/plain": [
       "<pandas.io.formats.style.Styler at 0x1a124a6908>"
      ]
     },
     "metadata": {},
     "output_type": "display_data"
    },
    {
     "data": {
      "text/html": [
       "<style  type=\"text/css\" >\n",
       "</style>  \n",
       "<table id=\"T_06d0699c_e922_11e8_a9b7_f01898076315\" > \n",
       "<thead>    <tr> \n",
       "        <th class=\"blank level0\" ></th> \n",
       "        <th class=\"col_heading level0 col0\" >title</th> \n",
       "        <th class=\"col_heading level0 col1\" >description</th> \n",
       "        <th class=\"col_heading level0 col2\" >city</th> \n",
       "        <th class=\"col_heading level0 col3\" >url</th> \n",
       "    </tr></thead> \n",
       "<tbody>    <tr> \n",
       "        <th id=\"T_06d0699c_e922_11e8_a9b7_f01898076315level0_row0\" class=\"row_heading level0 row0\" >0</th> \n",
       "        <td id=\"T_06d0699c_e922_11e8_a9b7_f01898076315row0_col0\" class=\"data row0 col0\" >Arlington Condo</td> \n",
       "        <td id=\"T_06d0699c_e922_11e8_a9b7_f01898076315row0_col1\" class=\"data row0 col1\" >My condo is located close to the Cowboys Stadium (AT&amp;T stadium) , Texas Rangers Ballpark Stadium, Six Flags over Texas and Hurricane Harbor. All within 1-2 mile distance, about a $7-$10 Uber ride. Plenty of food options near by, as well as Whole Foods and Walmart around the corner. DFW Airport is roughly about a 15-18min drive.</td> \n",
       "        <td id=\"T_06d0699c_e922_11e8_a9b7_f01898076315row0_col2\" class=\"data row0 col2\" >Arlington</td> \n",
       "        <td id=\"T_06d0699c_e922_11e8_a9b7_f01898076315row0_col3\" class=\"data row0 col3\" >https://www.airbnb.com/rooms/16693032?location=Bedford%2C%20TX</td> \n",
       "    </tr></tbody> \n",
       "</table> "
      ],
      "text/plain": [
       "<pandas.io.formats.style.Styler at 0x1a14ae0b00>"
      ]
     },
     "metadata": {},
     "output_type": "display_data"
    },
    {
     "data": {
      "text/html": [
       "<style  type=\"text/css\" >\n",
       "</style>  \n",
       "<table id=\"T_06d14b1e_e922_11e8_80b2_f01898076315\" > \n",
       "<thead>    <tr> \n",
       "        <th class=\"blank level0\" ></th> \n",
       "        <th class=\"col_heading level0 col0\" >title</th> \n",
       "        <th class=\"col_heading level0 col1\" >description</th> \n",
       "        <th class=\"col_heading level0 col2\" >city</th> \n",
       "        <th class=\"col_heading level0 col3\" >url</th> \n",
       "    </tr></thead> \n",
       "<tbody>    <tr> \n",
       "        <th id=\"T_06d14b1e_e922_11e8_80b2_f01898076315level0_row0\" class=\"row_heading level0 row0\" >0</th> \n",
       "        <td id=\"T_06d14b1e_e922_11e8_80b2_f01898076315row0_col0\" class=\"data row0 col0\" >Arlington Condo</td> \n",
       "        <td id=\"T_06d14b1e_e922_11e8_80b2_f01898076315row0_col1\" class=\"data row0 col1\" >My condo is located close to the Cowboys Stadium (AT&amp;T stadium) , Texas Rangers Ballpark Stadium, Six Flags over Texas and Hurricane Harbor. All within 1-2 mile distance, about a $7-$10 Uber ride. Plenty of food options near by, as well as Whole Foods and Walmart around the corner. DFW Airport is roughly about a 15-18min drive.</td> \n",
       "        <td id=\"T_06d14b1e_e922_11e8_80b2_f01898076315row0_col2\" class=\"data row0 col2\" >Arlington</td> \n",
       "        <td id=\"T_06d14b1e_e922_11e8_80b2_f01898076315row0_col3\" class=\"data row0 col3\" >https://www.airbnb.com/rooms/16693032?location=Arlington%2C%20TX</td> \n",
       "    </tr></tbody> \n",
       "</table> "
      ],
      "text/plain": [
       "<pandas.io.formats.style.Styler at 0x1a14ae04a8>"
      ]
     },
     "metadata": {},
     "output_type": "display_data"
    },
    {
     "data": {
      "text/html": [
       "<style  type=\"text/css\" >\n",
       "</style>  \n",
       "<table id=\"T_06d2171a_e922_11e8_9f05_f01898076315\" > \n",
       "<thead>    <tr> \n",
       "        <th class=\"blank level0\" ></th> \n",
       "        <th class=\"col_heading level0 col0\" >title</th> \n",
       "        <th class=\"col_heading level0 col1\" >description</th> \n",
       "        <th class=\"col_heading level0 col2\" >city</th> \n",
       "        <th class=\"col_heading level0 col3\" >url</th> \n",
       "    </tr></thead> \n",
       "<tbody>    <tr> \n",
       "        <th id=\"T_06d2171a_e922_11e8_9f05_f01898076315level0_row0\" class=\"row_heading level0 row0\" >0</th> \n",
       "        <td id=\"T_06d2171a_e922_11e8_9f05_f01898076315row0_col0\" class=\"data row0 col0\" >Newly Renovated Home 7BR, 3BA!</td> \n",
       "        <td id=\"T_06d2171a_e922_11e8_9f05_f01898076315row0_col1\" class=\"data row0 col1\" >Cozy 7 Bedroom, 3 Bath, Sleeps 17 with no bunkbeds, 3 Queen beds, 11 Single beds. Just north of Cowboy and Rangers Stadiums, Six Flags and Hurricane Harbor, 15 minutes to DFW. Shopping, restaurants, and entertainment all nearby.\\n\\nLarge 7 bedroom near entertainment, 15 mins from DFW airport, 2 miles to Dallas Cowboys, Texas Rangers, Six Flags, Hurricane Harbor and much more.\\n\\nThere are no bunk beds. \\n\\nIs a two story house.\\n\\nAll rooms but garage, all aspects of house ATT u-versed and wifi.\\n\\nNear sporting and entertainment venues as well as adjacent to Chester Ditto golf course.\\n\\nUber works best for short trips if you don't have a car.</td> \n",
       "        <td id=\"T_06d2171a_e922_11e8_9f05_f01898076315row0_col2\" class=\"data row0 col2\" >Arlington</td> \n",
       "        <td id=\"T_06d2171a_e922_11e8_9f05_f01898076315row0_col3\" class=\"data row0 col3\" >https://www.airbnb.com/rooms/16993985?location=Bedford%2C%20TX</td> \n",
       "    </tr></tbody> \n",
       "</table> "
      ],
      "text/plain": [
       "<pandas.io.formats.style.Styler at 0x1a14ae0860>"
      ]
     },
     "metadata": {},
     "output_type": "display_data"
    },
    {
     "data": {
      "text/html": [
       "<style  type=\"text/css\" >\n",
       "</style>  \n",
       "<table id=\"T_06d2d650_e922_11e8_988c_f01898076315\" > \n",
       "<thead>    <tr> \n",
       "        <th class=\"blank level0\" ></th> \n",
       "        <th class=\"col_heading level0 col0\" >title</th> \n",
       "        <th class=\"col_heading level0 col1\" >description</th> \n",
       "        <th class=\"col_heading level0 col2\" >city</th> \n",
       "        <th class=\"col_heading level0 col3\" >url</th> \n",
       "    </tr></thead> \n",
       "<tbody>    <tr> \n",
       "        <th id=\"T_06d2d650_e922_11e8_988c_f01898076315level0_row0\" class=\"row_heading level0 row0\" >0</th> \n",
       "        <td id=\"T_06d2d650_e922_11e8_988c_f01898076315row0_col0\" class=\"data row0 col0\" >COZY. BY. DESIGN, City Studio</td> \n",
       "        <td id=\"T_06d2d650_e922_11e8_988c_f01898076315row0_col1\" class=\"data row0 col1\" >Sweet Location! Near fabulous shopping and restaurants. Only 7 miles to Downtown. Trendy Studio Apartment with access to our community pool &amp; gym. Direct access to public transportation. Easy commute to airport. Central location. Don't have the dates you need? Check out: https://www.airbnb.com/rooms/12274983</td> \n",
       "        <td id=\"T_06d2d650_e922_11e8_988c_f01898076315row0_col2\" class=\"data row0 col2\" >Dallas</td> \n",
       "        <td id=\"T_06d2d650_e922_11e8_988c_f01898076315row0_col3\" class=\"data row0 col3\" >https://www.airbnb.com/rooms/13659593?location=Brazos%20River%2C%20TX</td> \n",
       "    </tr></tbody> \n",
       "</table> "
      ],
      "text/plain": [
       "<pandas.io.formats.style.Styler at 0x1a1295ff60>"
      ]
     },
     "metadata": {},
     "output_type": "display_data"
    },
    {
     "data": {
      "text/html": [
       "<style  type=\"text/css\" >\n",
       "</style>  \n",
       "<table id=\"T_06d3c808_e922_11e8_9c7a_f01898076315\" > \n",
       "<thead>    <tr> \n",
       "        <th class=\"blank level0\" ></th> \n",
       "        <th class=\"col_heading level0 col0\" >title</th> \n",
       "        <th class=\"col_heading level0 col1\" >description</th> \n",
       "        <th class=\"col_heading level0 col2\" >city</th> \n",
       "        <th class=\"col_heading level0 col3\" >url</th> \n",
       "    </tr></thead> \n",
       "<tbody>    <tr> \n",
       "        <th id=\"T_06d3c808_e922_11e8_9c7a_f01898076315level0_row0\" class=\"row_heading level0 row0\" >0</th> \n",
       "        <td id=\"T_06d3c808_e922_11e8_9c7a_f01898076315row0_col0\" class=\"data row0 col0\" >Inquire abt 30 day availability/10min FR: Airport!</td> \n",
       "        <td id=\"T_06d3c808_e922_11e8_9c7a_f01898076315row0_col1\" class=\"data row0 col1\" >This charming home is conveniently located near San Antonio International Airport. Yet, still quiet enough to relax and enjoy a margarita poolside. Feel free to checkout the reviews below!</td> \n",
       "        <td id=\"T_06d3c808_e922_11e8_9c7a_f01898076315row0_col2\" class=\"data row0 col2\" >San Antonio</td> \n",
       "        <td id=\"T_06d3c808_e922_11e8_9c7a_f01898076315row0_col3\" class=\"data row0 col3\" >https://www.airbnb.com/rooms/3386492?location=Converse%2C%20TX</td> \n",
       "    </tr></tbody> \n",
       "</table> "
      ],
      "text/plain": [
       "<pandas.io.formats.style.Styler at 0x1a14a85cc0>"
      ]
     },
     "metadata": {},
     "output_type": "display_data"
    },
    {
     "data": {
      "text/html": [
       "<style  type=\"text/css\" >\n",
       "</style>  \n",
       "<table id=\"T_06d4ae76_e922_11e8_8058_f01898076315\" > \n",
       "<thead>    <tr> \n",
       "        <th class=\"blank level0\" ></th> \n",
       "        <th class=\"col_heading level0 col0\" >title</th> \n",
       "        <th class=\"col_heading level0 col1\" >description</th> \n",
       "        <th class=\"col_heading level0 col2\" >city</th> \n",
       "        <th class=\"col_heading level0 col3\" >url</th> \n",
       "    </tr></thead> \n",
       "<tbody>    <tr> \n",
       "        <th id=\"T_06d4ae76_e922_11e8_8058_f01898076315level0_row0\" class=\"row_heading level0 row0\" >0</th> \n",
       "        <td id=\"T_06d4ae76_e922_11e8_8058_f01898076315row0_col0\" class=\"data row0 col0\" >5 Star Quality Private RM & Bath Near IAH Airport</td> \n",
       "        <td id=\"T_06d4ae76_e922_11e8_8058_f01898076315row0_col1\" class=\"data row0 col1\" >YouÃ¢ÂÂll love my place because of the neighborhood. My place is good for couples, families, &amp; solo adventurers. I provide clean, safe, &amp; comfortable accommodations.\\nFirst time Airbnb guests are always welcomed. Communication is essential.\\nPLEASE NOTE: All guests MUST BE ID verified Airbnb members with a visible profile picture before booking.\\nMy home is NOT smoker friendly as I have asthma and cannot be around smoke.</td> \n",
       "        <td id=\"T_06d4ae76_e922_11e8_8058_f01898076315row0_col2\" class=\"data row0 col2\" >Humble</td> \n",
       "        <td id=\"T_06d4ae76_e922_11e8_8058_f01898076315row0_col3\" class=\"data row0 col3\" >https://www.airbnb.com/rooms/4483842?location=Atascocita%2C%20TX</td> \n",
       "    </tr></tbody> \n",
       "</table> "
      ],
      "text/plain": [
       "<pandas.io.formats.style.Styler at 0x1a14b4e550>"
      ]
     },
     "metadata": {},
     "output_type": "display_data"
    },
    {
     "data": {
      "text/html": [
       "<style  type=\"text/css\" >\n",
       "</style>  \n",
       "<table id=\"T_06d5720c_e922_11e8_9437_f01898076315\" > \n",
       "<thead>    <tr> \n",
       "        <th class=\"blank level0\" ></th> \n",
       "        <th class=\"col_heading level0 col0\" >title</th> \n",
       "        <th class=\"col_heading level0 col1\" >description</th> \n",
       "        <th class=\"col_heading level0 col2\" >city</th> \n",
       "        <th class=\"col_heading level0 col3\" >url</th> \n",
       "    </tr></thead> \n",
       "<tbody>    <tr> \n",
       "        <th id=\"T_06d5720c_e922_11e8_9437_f01898076315level0_row0\" class=\"row_heading level0 row0\" >0</th> \n",
       "        <td id=\"T_06d5720c_e922_11e8_9437_f01898076315row0_col0\" class=\"data row0 col0\" >Nice Private room with shared bath</td> \n",
       "        <td id=\"T_06d5720c_e922_11e8_9437_f01898076315row0_col1\" class=\"data row0 col1\" >Brand new house in quiet wooded neighborhood with community pool and walking trails near the lake. Comfy bed. Less than 30mins from the Intercontinental Airport, 3-10mins to a variety of restaurants and entertainment, and 11mins from Exxon campus.</td> \n",
       "        <td id=\"T_06d5720c_e922_11e8_9437_f01898076315row0_col2\" class=\"data row0 col2\" >Spring</td> \n",
       "        <td id=\"T_06d5720c_e922_11e8_9437_f01898076315row0_col3\" class=\"data row0 col3\" >https://www.airbnb.com/rooms/8452578?location=Conroe%2C%20TX</td> \n",
       "    </tr></tbody> \n",
       "</table> "
      ],
      "text/plain": [
       "<pandas.io.formats.style.Styler at 0x1a14b4e198>"
      ]
     },
     "metadata": {},
     "output_type": "display_data"
    },
    {
     "data": {
      "text/html": [
       "<style  type=\"text/css\" >\n",
       "</style>  \n",
       "<table id=\"T_06d6613a_e922_11e8_a7f4_f01898076315\" > \n",
       "<thead>    <tr> \n",
       "        <th class=\"blank level0\" ></th> \n",
       "        <th class=\"col_heading level0 col0\" >title</th> \n",
       "        <th class=\"col_heading level0 col1\" >description</th> \n",
       "        <th class=\"col_heading level0 col2\" >city</th> \n",
       "        <th class=\"col_heading level0 col3\" >url</th> \n",
       "    </tr></thead> \n",
       "<tbody>    <tr> \n",
       "        <th id=\"T_06d6613a_e922_11e8_a7f4_f01898076315level0_row0\" class=\"row_heading level0 row0\" >0</th> \n",
       "        <td id=\"T_06d6613a_e922_11e8_a7f4_f01898076315row0_col0\" class=\"data row0 col0\" >Boutique Style in Hip East Austin </td> \n",
       "        <td id=\"T_06d6613a_e922_11e8_a7f4_f01898076315row0_col1\" class=\"data row0 col1\" >Boutique style craftsman in the heart of East Austin. Just a few blocks away from the East 11th and East 6th districts. Very near downtown - a short walk or incredibly short car ride away. One of the best possible locations in Austin - close to the airport, in the middle of SXSW festivities, a short walk to the UT football and baseball stadiums, and just a stone's throw from cafes and nightlife.</td> \n",
       "        <td id=\"T_06d6613a_e922_11e8_a7f4_f01898076315row0_col2\" class=\"data row0 col2\" >Austin</td> \n",
       "        <td id=\"T_06d6613a_e922_11e8_a7f4_f01898076315row0_col3\" class=\"data row0 col3\" >https://www.airbnb.com/rooms/628034?location=Brazos%20River%2C%20TX</td> \n",
       "    </tr></tbody> \n",
       "</table> "
      ],
      "text/plain": [
       "<pandas.io.formats.style.Styler at 0x1a14a85978>"
      ]
     },
     "metadata": {},
     "output_type": "display_data"
    },
    {
     "data": {
      "text/html": [
       "<style  type=\"text/css\" >\n",
       "</style>  \n",
       "<table id=\"T_06d73146_e922_11e8_bd7c_f01898076315\" > \n",
       "<thead>    <tr> \n",
       "        <th class=\"blank level0\" ></th> \n",
       "        <th class=\"col_heading level0 col0\" >title</th> \n",
       "        <th class=\"col_heading level0 col1\" >description</th> \n",
       "        <th class=\"col_heading level0 col2\" >city</th> \n",
       "        <th class=\"col_heading level0 col3\" >url</th> \n",
       "    </tr></thead> \n",
       "<tbody>    <tr> \n",
       "        <th id=\"T_06d73146_e922_11e8_bd7c_f01898076315level0_row0\" class=\"row_heading level0 row0\" >0</th> \n",
       "        <td id=\"T_06d73146_e922_11e8_bd7c_f01898076315row0_col0\" class=\"data row0 col0\" >Private bed/bath near DFW+DAL airports & Galleria</td> \n",
       "        <td id=\"T_06d73146_e922_11e8_bd7c_f01898076315row0_col1\" class=\"data row0 col1\" >Room #2 - Private Bed/Bath close to DFW International Airport, Dallas Love Field (DAL) Airport, Irving Convention Center, Galleria Mall, North Park Mall, Downtown Dallas, Uptown Dallas, Las Colinas, Grapevine Mills Outlet Mall. YouÃ¢ÂÂll love the high ceilings, the coziness, the cleanliness, brand new home, quiet, jogging/biking/walking trails nearby, man made lake/river/canals nearby, scenic and peaceful. My place is good for couples, solo adventurers, business travelers, and families (with kids).</td> \n",
       "        <td id=\"T_06d73146_e922_11e8_bd7c_f01898076315row0_col2\" class=\"data row0 col2\" >Irving</td> \n",
       "        <td id=\"T_06d73146_e922_11e8_bd7c_f01898076315row0_col3\" class=\"data row0 col3\" >https://www.airbnb.com/rooms/17189405?location=Carrollton%2C%20TX</td> \n",
       "    </tr></tbody> \n",
       "</table> "
      ],
      "text/plain": [
       "<pandas.io.formats.style.Styler at 0x1a14b48b00>"
      ]
     },
     "metadata": {},
     "output_type": "display_data"
    },
    {
     "data": {
      "text/html": [
       "<style  type=\"text/css\" >\n",
       "</style>  \n",
       "<table id=\"T_06d80e74_e922_11e8_bd44_f01898076315\" > \n",
       "<thead>    <tr> \n",
       "        <th class=\"blank level0\" ></th> \n",
       "        <th class=\"col_heading level0 col0\" >title</th> \n",
       "        <th class=\"col_heading level0 col1\" >description</th> \n",
       "        <th class=\"col_heading level0 col2\" >city</th> \n",
       "        <th class=\"col_heading level0 col3\" >url</th> \n",
       "    </tr></thead> \n",
       "<tbody>    <tr> \n",
       "        <th id=\"T_06d80e74_e922_11e8_bd44_f01898076315level0_row0\" class=\"row_heading level0 row0\" >0</th> \n",
       "        <td id=\"T_06d80e74_e922_11e8_bd44_f01898076315row0_col0\" class=\"data row0 col0\" >Marvelous Mid-Century Maisonette</td> \n",
       "        <td id=\"T_06d80e74_e922_11e8_bd44_f01898076315row0_col1\" class=\"data row0 col1\" >Absolutely lovely mid-century modern designed apartment with private entrance and backyard with a fire pit in the heart of Irving, Texas. Our prime location is conveniently located less than 10 miles from airports, and less than 15 miles from AT&amp;T stadium &amp; Six Flags. Located near major highways with public transportation a block from your door you are free to explore all of the exciting offerings of the DFW metroplex or simply relax in by the fire. Additional cleaning fee for long term stay.</td> \n",
       "        <td id=\"T_06d80e74_e922_11e8_bd44_f01898076315row0_col2\" class=\"data row0 col2\" >Irving</td> \n",
       "        <td id=\"T_06d80e74_e922_11e8_bd44_f01898076315row0_col3\" class=\"data row0 col3\" >https://www.airbnb.com/rooms/16322661?location=Coppell%2C%20TX</td> \n",
       "    </tr></tbody> \n",
       "</table> "
      ],
      "text/plain": [
       "<pandas.io.formats.style.Styler at 0x1a14ae0400>"
      ]
     },
     "metadata": {},
     "output_type": "display_data"
    },
    {
     "data": {
      "text/html": [
       "<style  type=\"text/css\" >\n",
       "</style>  \n",
       "<table id=\"T_06d8e91e_e922_11e8_bf06_f01898076315\" > \n",
       "<thead>    <tr> \n",
       "        <th class=\"blank level0\" ></th> \n",
       "        <th class=\"col_heading level0 col0\" >title</th> \n",
       "        <th class=\"col_heading level0 col1\" >description</th> \n",
       "        <th class=\"col_heading level0 col2\" >city</th> \n",
       "        <th class=\"col_heading level0 col3\" >url</th> \n",
       "    </tr></thead> \n",
       "<tbody>    <tr> \n",
       "        <th id=\"T_06d8e91e_e922_11e8_bf06_f01898076315level0_row0\" class=\"row_heading level0 row0\" >0</th> \n",
       "        <td id=\"T_06d8e91e_e922_11e8_bf06_f01898076315row0_col0\" class=\"data row0 col0\" >Mid-century modern house near Hobby Airport</td> \n",
       "        <td id=\"T_06d8e91e_e922_11e8_bf06_f01898076315row0_col1\" class=\"data row0 col1\" >Our house is in the heart a historic mid-century modern pocket of Houston, 5 min north of hobby airport. The house reminds you of Mad Men :) \\n15 min drive to downtown and 12 min to NRG Stadium. Close to plenty of authentic Mexican and Vietnamese restaurants. Our place is good for couples, solo adventurers, and business travelers.</td> \n",
       "        <td id=\"T_06d8e91e_e922_11e8_bf06_f01898076315row0_col2\" class=\"data row0 col2\" >Houston</td> \n",
       "        <td id=\"T_06d8e91e_e922_11e8_bf06_f01898076315row0_col3\" class=\"data row0 col3\" >https://www.airbnb.com/rooms/6171314?location=Channelview%2C%20TX</td> \n",
       "    </tr></tbody> \n",
       "</table> "
      ],
      "text/plain": [
       "<pandas.io.formats.style.Styler at 0x1a14ae0c50>"
      ]
     },
     "metadata": {},
     "output_type": "display_data"
    },
    {
     "data": {
      "text/html": [
       "<style  type=\"text/css\" >\n",
       "</style>  \n",
       "<table id=\"T_06d99aa8_e922_11e8_8230_f01898076315\" > \n",
       "<thead>    <tr> \n",
       "        <th class=\"blank level0\" ></th> \n",
       "        <th class=\"col_heading level0 col0\" >title</th> \n",
       "        <th class=\"col_heading level0 col1\" >description</th> \n",
       "        <th class=\"col_heading level0 col2\" >city</th> \n",
       "        <th class=\"col_heading level0 col3\" >url</th> \n",
       "    </tr></thead> \n",
       "<tbody>    <tr> \n",
       "        <th id=\"T_06d99aa8_e922_11e8_8230_f01898076315level0_row0\" class=\"row_heading level0 row0\" >0</th> \n",
       "        <td id=\"T_06d99aa8_e922_11e8_8230_f01898076315row0_col0\" class=\"data row0 col0\" >Designer Bedroom Near DFW Airport</td> \n",
       "        <td id=\"T_06d99aa8_e922_11e8_8230_f01898076315row0_col1\" class=\"data row0 col1\" >Luxury bedroom with private bathroom and coffeemaker! Near DFW airport. Good freeway access to All Attractions in DFW area. Concerts, Gaylord Dallas, Water Parks, Lakes, Sports Venues, Business Meetings.</td> \n",
       "        <td id=\"T_06d99aa8_e922_11e8_8230_f01898076315row0_col2\" class=\"data row0 col2\" >Carrollton</td> \n",
       "        <td id=\"T_06d99aa8_e922_11e8_8230_f01898076315row0_col3\" class=\"data row0 col3\" >https://www.airbnb.com/rooms/19474974?location=Carrollton%2C%20TX</td> \n",
       "    </tr></tbody> \n",
       "</table> "
      ],
      "text/plain": [
       "<pandas.io.formats.style.Styler at 0x1a14ae0278>"
      ]
     },
     "metadata": {},
     "output_type": "display_data"
    },
    {
     "data": {
      "text/html": [
       "<style  type=\"text/css\" >\n",
       "</style>  \n",
       "<table id=\"T_06da6654_e922_11e8_9068_f01898076315\" > \n",
       "<thead>    <tr> \n",
       "        <th class=\"blank level0\" ></th> \n",
       "        <th class=\"col_heading level0 col0\" >title</th> \n",
       "        <th class=\"col_heading level0 col1\" >description</th> \n",
       "        <th class=\"col_heading level0 col2\" >city</th> \n",
       "        <th class=\"col_heading level0 col3\" >url</th> \n",
       "    </tr></thead> \n",
       "<tbody>    <tr> \n",
       "        <th id=\"T_06da6654_e922_11e8_9068_f01898076315level0_row0\" class=\"row_heading level0 row0\" >0</th> \n",
       "        <td id=\"T_06da6654_e922_11e8_9068_f01898076315row0_col0\" class=\"data row0 col0\" >Private room - 10 mins from DFW</td> \n",
       "        <td id=\"T_06da6654_e922_11e8_9068_f01898076315row0_col1\" class=\"data row0 col1\" >1 room for rent in my house which located in in Irving near Dallas. 10 minutes from DFW airport, 15 minutes from Lovefield Airport and 15 minutes from downtown Dallas. Family friendly house which could be your home away from home.</td> \n",
       "        <td id=\"T_06da6654_e922_11e8_9068_f01898076315row0_col2\" class=\"data row0 col2\" >Irving</td> \n",
       "        <td id=\"T_06da6654_e922_11e8_9068_f01898076315row0_col3\" class=\"data row0 col3\" >https://www.airbnb.com/rooms/16617621?location=Colleyville%2C%20TX</td> \n",
       "    </tr></tbody> \n",
       "</table> "
      ],
      "text/plain": [
       "<pandas.io.formats.style.Styler at 0x1a14b4edd8>"
      ]
     },
     "metadata": {},
     "output_type": "display_data"
    },
    {
     "data": {
      "text/html": [
       "<style  type=\"text/css\" >\n",
       "</style>  \n",
       "<table id=\"T_06db28d2_e922_11e8_a95e_f01898076315\" > \n",
       "<thead>    <tr> \n",
       "        <th class=\"blank level0\" ></th> \n",
       "        <th class=\"col_heading level0 col0\" >title</th> \n",
       "        <th class=\"col_heading level0 col1\" >description</th> \n",
       "        <th class=\"col_heading level0 col2\" >city</th> \n",
       "        <th class=\"col_heading level0 col3\" >url</th> \n",
       "    </tr></thead> \n",
       "<tbody>    <tr> \n",
       "        <th id=\"T_06db28d2_e922_11e8_a95e_f01898076315level0_row0\" class=\"row_heading level0 row0\" >0</th> \n",
       "        <td id=\"T_06db28d2_e922_11e8_a95e_f01898076315row0_col0\" class=\"data row0 col0\" >Near IAH...Dogs, coffee, and trails! (2)</td> \n",
       "        <td id=\"T_06db28d2_e922_11e8_a95e_f01898076315row0_col1\" class=\"data row0 col1\" >Adventurers and those passing through welcome! My place is relaxed and the atmosphere is easygoing. Only 15-20 minutes from IAH. Happy to work out a pick up/drop off from airport. Dogs (and kids) are welcome to stay as well! They should list coffee under essentials but don't worry I've got you covered. \\n\\nHouse includes a backyard and near some trails, a neighborhood Walmart, and Starbucks. Easy access to 59 for exploring other areas of Houston.\\n\\n*Double listed for different availability</td> \n",
       "        <td id=\"T_06db28d2_e922_11e8_a95e_f01898076315row0_col2\" class=\"data row0 col2\" >Humble</td> \n",
       "        <td id=\"T_06db28d2_e922_11e8_a95e_f01898076315row0_col3\" class=\"data row0 col3\" >https://www.airbnb.com/rooms/16596486?location=Atascocita%2C%20TX</td> \n",
       "    </tr></tbody> \n",
       "</table> "
      ],
      "text/plain": [
       "<pandas.io.formats.style.Styler at 0x1a14b4e630>"
      ]
     },
     "metadata": {},
     "output_type": "display_data"
    },
    {
     "data": {
      "text/html": [
       "<style  type=\"text/css\" >\n",
       "</style>  \n",
       "<table id=\"T_06dbf352_e922_11e8_bd9e_f01898076315\" > \n",
       "<thead>    <tr> \n",
       "        <th class=\"blank level0\" ></th> \n",
       "        <th class=\"col_heading level0 col0\" >title</th> \n",
       "        <th class=\"col_heading level0 col1\" >description</th> \n",
       "        <th class=\"col_heading level0 col2\" >city</th> \n",
       "        <th class=\"col_heading level0 col3\" >url</th> \n",
       "    </tr></thead> \n",
       "<tbody>    <tr> \n",
       "        <th id=\"T_06dbf352_e922_11e8_bd9e_f01898076315level0_row0\" class=\"row_heading level0 row0\" >0</th> \n",
       "        <td id=\"T_06dbf352_e922_11e8_bd9e_f01898076315row0_col0\" class=\"data row0 col0\" >Lil' Art and Lake Haus--aka Flowers Cottage</td> \n",
       "        <td id=\"T_06dbf352_e922_11e8_bd9e_f01898076315row0_col1\" class=\"data row0 col1\" >Charming cottage near ABI airport--Great location. Small full Kitchen, 53\\</td> \n",
       "        <td id=\"T_06dbf352_e922_11e8_bd9e_f01898076315row0_col2\" class=\"data row0 col2\" >Abilene</td> \n",
       "        <td id=\"T_06dbf352_e922_11e8_bd9e_f01898076315row0_col3\" class=\"data row0 col3\" >https://www.airbnb.com/rooms/11609637?location=Abilene%2C%20TX</td> \n",
       "    </tr></tbody> \n",
       "</table> "
      ],
      "text/plain": [
       "<pandas.io.formats.style.Styler at 0x1a14a8e390>"
      ]
     },
     "metadata": {},
     "output_type": "display_data"
    },
    {
     "data": {
      "text/html": [
       "<style  type=\"text/css\" >\n",
       "</style>  \n",
       "<table id=\"T_06dcb9fe_e922_11e8_a109_f01898076315\" > \n",
       "<thead>    <tr> \n",
       "        <th class=\"blank level0\" ></th> \n",
       "        <th class=\"col_heading level0 col0\" >title</th> \n",
       "        <th class=\"col_heading level0 col1\" >description</th> \n",
       "        <th class=\"col_heading level0 col2\" >city</th> \n",
       "        <th class=\"col_heading level0 col3\" >url</th> \n",
       "    </tr></thead> \n",
       "<tbody>    <tr> \n",
       "        <th id=\"T_06dcb9fe_e922_11e8_a109_f01898076315level0_row0\" class=\"row_heading level0 row0\" >0</th> \n",
       "        <td id=\"T_06dcb9fe_e922_11e8_a109_f01898076315row0_col0\" class=\"data row0 col0\" >Spacious two bedroom apt @ 360North</td> \n",
       "        <td id=\"T_06dcb9fe_e922_11e8_a109_f01898076315row0_col1\" class=\"data row0 col1\" >Clean &amp; Comfortable two bedroom apt is great for your stay in Grand Prairie, Tx! Located only 20 minutes from downtown Dallas. This unit features high vaulted ceilings, new steel appliances, &amp; more available for use by my guests. My apartment is about 15 minutes from DFW airport &amp; The Parks Mall in Arlington. About 5 minutes away from Six Flags over Texas, AT&amp;T stadium, Globe Life stadium (Texas Rangers) and Restaurants such as BJ's, TGI Fridays, Olive Garden etc. I don't have a private parking spot, but there is always plenty of open spaces near my apt.</td> \n",
       "        <td id=\"T_06dcb9fe_e922_11e8_a109_f01898076315row0_col2\" class=\"data row0 col2\" >Grand Prairie</td> \n",
       "        <td id=\"T_06dcb9fe_e922_11e8_a109_f01898076315row0_col3\" class=\"data row0 col3\" >https://www.airbnb.com/rooms/17655499?location=Cedar%20Hill%2C%20TX</td> \n",
       "    </tr></tbody> \n",
       "</table> "
      ],
      "text/plain": [
       "<pandas.io.formats.style.Styler at 0x1a14b4ee10>"
      ]
     },
     "metadata": {},
     "output_type": "display_data"
    },
    {
     "data": {
      "text/html": [
       "<style  type=\"text/css\" >\n",
       "</style>  \n",
       "<table id=\"T_06dd74e8_e922_11e8_9860_f01898076315\" > \n",
       "<thead>    <tr> \n",
       "        <th class=\"blank level0\" ></th> \n",
       "        <th class=\"col_heading level0 col0\" >title</th> \n",
       "        <th class=\"col_heading level0 col1\" >description</th> \n",
       "        <th class=\"col_heading level0 col2\" >city</th> \n",
       "        <th class=\"col_heading level0 col3\" >url</th> \n",
       "    </tr></thead> \n",
       "<tbody>    <tr> \n",
       "        <th id=\"T_06dd74e8_e922_11e8_9860_f01898076315level0_row0\" class=\"row_heading level0 row0\" >0</th> \n",
       "        <td id=\"T_06dd74e8_e922_11e8_9860_f01898076315row0_col0\" class=\"data row0 col0\" >1 Bedroom | 1 Bathroom | 680 SF</td> \n",
       "        <td id=\"T_06dd74e8_e922_11e8_9860_f01898076315row0_col1\" class=\"data row0 col1\" >Hello!\\n\\nThank you for your interest in my space! My apartment is on the first floor in a gated community. 5 Minutes from major shopping, Wal-mart, HEB, Ice-skating rink, mini-golf, and a Movie Theater; near the intersection of HWY 281 and Loop 1604. I am about 15-20 minutes from downtown and about 5-10 minutes from San Antonio International Airport. \\n\\nGreat way to get around this city is using Uber, if it is your first time using Uber enter code: kaitlina318ue for your first ride FREE!</td> \n",
       "        <td id=\"T_06dd74e8_e922_11e8_9860_f01898076315row0_col2\" class=\"data row0 col2\" >San Antonio</td> \n",
       "        <td id=\"T_06dd74e8_e922_11e8_9860_f01898076315row0_col3\" class=\"data row0 col3\" >https://www.airbnb.com/rooms/18416476?location=Converse%2C%20TX</td> \n",
       "    </tr></tbody> \n",
       "</table> "
      ],
      "text/plain": [
       "<pandas.io.formats.style.Styler at 0x1a148b9c50>"
      ]
     },
     "metadata": {},
     "output_type": "display_data"
    },
    {
     "data": {
      "text/html": [
       "<style  type=\"text/css\" >\n",
       "</style>  \n",
       "<table id=\"T_06de4364_e922_11e8_bffe_f01898076315\" > \n",
       "<thead>    <tr> \n",
       "        <th class=\"blank level0\" ></th> \n",
       "        <th class=\"col_heading level0 col0\" >title</th> \n",
       "        <th class=\"col_heading level0 col1\" >description</th> \n",
       "        <th class=\"col_heading level0 col2\" >city</th> \n",
       "        <th class=\"col_heading level0 col3\" >url</th> \n",
       "    </tr></thead> \n",
       "<tbody>    <tr> \n",
       "        <th id=\"T_06de4364_e922_11e8_bffe_f01898076315level0_row0\" class=\"row_heading level0 row0\" >0</th> \n",
       "        <td id=\"T_06de4364_e922_11e8_bffe_f01898076315row0_col0\" class=\"data row0 col0\" >Arlington Apartment near Cowboys Stadium</td> \n",
       "        <td id=\"T_06de4364_e922_11e8_bffe_f01898076315row0_col1\" class=\"data row0 col1\" >My place is close to AT&amp;T Stadium, Texas Rangers Stadium, Six-Flags, DFW Airport, Love Field Airport, The Highlands Shopping Mall.. YouÃ¢ÂÂll love my place because it is situated between Dallas and Ft Worth, is very clean and cozy, and you will have it all to yourself. My place is good for couples, solo adventurers, and business travelers.</td> \n",
       "        <td id=\"T_06de4364_e922_11e8_bffe_f01898076315row0_col2\" class=\"data row0 col2\" >Arlington</td> \n",
       "        <td id=\"T_06de4364_e922_11e8_bffe_f01898076315row0_col3\" class=\"data row0 col3\" >https://www.airbnb.com/rooms/13397017?location=Cedar%20Hill%2C%20TX</td> \n",
       "    </tr></tbody> \n",
       "</table> "
      ],
      "text/plain": [
       "<pandas.io.formats.style.Styler at 0x1a14ae0828>"
      ]
     },
     "metadata": {},
     "output_type": "display_data"
    },
    {
     "data": {
      "text/html": [
       "<style  type=\"text/css\" >\n",
       "</style>  \n",
       "<table id=\"T_06df0a58_e922_11e8_a2cb_f01898076315\" > \n",
       "<thead>    <tr> \n",
       "        <th class=\"blank level0\" ></th> \n",
       "        <th class=\"col_heading level0 col0\" >title</th> \n",
       "        <th class=\"col_heading level0 col1\" >description</th> \n",
       "        <th class=\"col_heading level0 col2\" >city</th> \n",
       "        <th class=\"col_heading level0 col3\" >url</th> \n",
       "    </tr></thead> \n",
       "<tbody>    <tr> \n",
       "        <th id=\"T_06df0a58_e922_11e8_a2cb_f01898076315level0_row0\" class=\"row_heading level0 row0\" >0</th> \n",
       "        <td id=\"T_06df0a58_e922_11e8_a2cb_f01898076315row0_col0\" class=\"data row0 col0\" >Your Stay Feels Like Home</td> \n",
       "        <td id=\"T_06df0a58_e922_11e8_a2cb_f01898076315row0_col1\" class=\"data row0 col1\" >Welcome to our home! We are located near Golf Club of Houston, home of the Shell Houston Open, Tour 18 Golf Course, Walden on Lake Houston course, Bush International Airport, Duessun Park, Lifetime and 24HR Fitness centers, Movie Tavern and Deerbrook Mall. YouÃ¢ÂÂll love our place because of the location, the outdoors space, and the ambiance. Our place is good for couples, solo adventurers, business travelers, families (with kids), and big groups.</td> \n",
       "        <td id=\"T_06df0a58_e922_11e8_a2cb_f01898076315row0_col2\" class=\"data row0 col2\" >Humble</td> \n",
       "        <td id=\"T_06df0a58_e922_11e8_a2cb_f01898076315row0_col3\" class=\"data row0 col3\" >https://www.airbnb.com/rooms/17732344?location=Cleveland%2C%20TX</td> \n",
       "    </tr></tbody> \n",
       "</table> "
      ],
      "text/plain": [
       "<pandas.io.formats.style.Styler at 0x1a14ae08d0>"
      ]
     },
     "metadata": {},
     "output_type": "display_data"
    },
    {
     "data": {
      "text/html": [
       "<style  type=\"text/css\" >\n",
       "</style>  \n",
       "<table id=\"T_06dfce64_e922_11e8_8e57_f01898076315\" > \n",
       "<thead>    <tr> \n",
       "        <th class=\"blank level0\" ></th> \n",
       "        <th class=\"col_heading level0 col0\" >title</th> \n",
       "        <th class=\"col_heading level0 col1\" >description</th> \n",
       "        <th class=\"col_heading level0 col2\" >city</th> \n",
       "        <th class=\"col_heading level0 col3\" >url</th> \n",
       "    </tr></thead> \n",
       "<tbody>    <tr> \n",
       "        <th id=\"T_06dfce64_e922_11e8_8e57_f01898076315level0_row0\" class=\"row_heading level0 row0\" >0</th> \n",
       "        <td id=\"T_06dfce64_e922_11e8_8e57_f01898076315row0_col0\" class=\"data row0 col0\" >Country Estate near airport, speedway and stadium!</td> \n",
       "        <td id=\"T_06dfce64_e922_11e8_8e57_f01898076315row0_col1\" class=\"data row0 col1\" >This estate Is 20 min From DFW Airport. It is in a gated and wooded community close to lakes and hiking, restaurants and shopping. Home is full of warmth, books, abstract paintings and ecclectic furniture. Neighborhood is private and great for adults and kids. Fenced in yard, secure. Bedrooms are private and cozy, with new mattresses. Lots of Parking, couches for your friends and a large pool</td> \n",
       "        <td id=\"T_06dfce64_e922_11e8_8e57_f01898076315row0_col2\" class=\"data row0 col2\" >Flower Mound</td> \n",
       "        <td id=\"T_06dfce64_e922_11e8_8e57_f01898076315row0_col3\" class=\"data row0 col3\" >https://www.airbnb.com/rooms/16768741?location=Argyle%2C%20TX</td> \n",
       "    </tr></tbody> \n",
       "</table> "
      ],
      "text/plain": [
       "<pandas.io.formats.style.Styler at 0x1a14ae07f0>"
      ]
     },
     "metadata": {},
     "output_type": "display_data"
    },
    {
     "data": {
      "text/html": [
       "<style  type=\"text/css\" >\n",
       "</style>  \n",
       "<table id=\"T_06e0b874_e922_11e8_981b_f01898076315\" > \n",
       "<thead>    <tr> \n",
       "        <th class=\"blank level0\" ></th> \n",
       "        <th class=\"col_heading level0 col0\" >title</th> \n",
       "        <th class=\"col_heading level0 col1\" >description</th> \n",
       "        <th class=\"col_heading level0 col2\" >city</th> \n",
       "        <th class=\"col_heading level0 col3\" >url</th> \n",
       "    </tr></thead> \n",
       "<tbody>    <tr> \n",
       "        <th id=\"T_06e0b874_e922_11e8_981b_f01898076315level0_row0\" class=\"row_heading level0 row0\" >0</th> \n",
       "        <td id=\"T_06e0b874_e922_11e8_981b_f01898076315row0_col0\" class=\"data row0 col0\" >Comfy Room in Bastrop near Austin!</td> \n",
       "        <td id=\"T_06e0b874_e922_11e8_981b_f01898076315row0_col1\" class=\"data row0 col1\" >Our guest room has a new queen size mattress with a comfy latex topper! A private guest bathroom is just outside the bedroom. We live in a quiet neighborhood and have 2 indoor/outdoor cats and one small very friendly dog (Jack Russell). Continental breakfast included! Less than 30' to the airport! 40' to downtown Austin!</td> \n",
       "        <td id=\"T_06e0b874_e922_11e8_981b_f01898076315row0_col2\" class=\"data row0 col2\" >Bastrop</td> \n",
       "        <td id=\"T_06e0b874_e922_11e8_981b_f01898076315row0_col3\" class=\"data row0 col3\" >https://www.airbnb.com/rooms/3932126?location=Cedar%20Creek%2C%20TX</td> \n",
       "    </tr></tbody> \n",
       "</table> "
      ],
      "text/plain": [
       "<pandas.io.formats.style.Styler at 0x1a14b484a8>"
      ]
     },
     "metadata": {},
     "output_type": "display_data"
    },
    {
     "data": {
      "text/html": [
       "<style  type=\"text/css\" >\n",
       "</style>  \n",
       "<table id=\"T_06e1613e_e922_11e8_a940_f01898076315\" > \n",
       "<thead>    <tr> \n",
       "        <th class=\"blank level0\" ></th> \n",
       "        <th class=\"col_heading level0 col0\" >title</th> \n",
       "        <th class=\"col_heading level0 col1\" >description</th> \n",
       "        <th class=\"col_heading level0 col2\" >city</th> \n",
       "        <th class=\"col_heading level0 col3\" >url</th> \n",
       "    </tr></thead> \n",
       "<tbody>    <tr> \n",
       "        <th id=\"T_06e1613e_e922_11e8_a940_f01898076315level0_row0\" class=\"row_heading level0 row0\" >0</th> \n",
       "        <td id=\"T_06e1613e_e922_11e8_a940_f01898076315row0_col0\" class=\"data row0 col0\" >Private King Room North SA - Near TPC JW Marriott</td> \n",
       "        <td id=\"T_06e1613e_e922_11e8_a940_f01898076315row0_col1\" class=\"data row0 col1\" >Private Room with a cozy King Size Bed. Just around the corner from the TPC JW Marriott in far north San Antonio... Easy access to Hwy 281 &amp; Loop 1604, just minutes from great shopping, dining &amp; entertainment. Roughly 15-20 minutes to the Airport &amp; only 20-25 minutes to downtown SA and the Riverwalk... \\nThe room is comfy, quiet &amp; has access to private full Bathroom.</td> \n",
       "        <td id=\"T_06e1613e_e922_11e8_a940_f01898076315row0_col2\" class=\"data row0 col2\" >San Antonio</td> \n",
       "        <td id=\"T_06e1613e_e922_11e8_a940_f01898076315row0_col3\" class=\"data row0 col3\" >https://www.airbnb.com/rooms/18651315?location=Cibolo%2C%20TX</td> \n",
       "    </tr></tbody> \n",
       "</table> "
      ],
      "text/plain": [
       "<pandas.io.formats.style.Styler at 0x1a14a85cf8>"
      ]
     },
     "metadata": {},
     "output_type": "display_data"
    },
    {
     "data": {
      "text/html": [
       "<style  type=\"text/css\" >\n",
       "</style>  \n",
       "<table id=\"T_06e21840_e922_11e8_b50b_f01898076315\" > \n",
       "<thead>    <tr> \n",
       "        <th class=\"blank level0\" ></th> \n",
       "        <th class=\"col_heading level0 col0\" >title</th> \n",
       "        <th class=\"col_heading level0 col1\" >description</th> \n",
       "        <th class=\"col_heading level0 col2\" >city</th> \n",
       "        <th class=\"col_heading level0 col3\" >url</th> \n",
       "    </tr></thead> \n",
       "<tbody>    <tr> \n",
       "        <th id=\"T_06e21840_e922_11e8_b50b_f01898076315level0_row0\" class=\"row_heading level0 row0\" >0</th> \n",
       "        <td id=\"T_06e21840_e922_11e8_b50b_f01898076315row0_col0\" class=\"data row0 col0\" >GuestNest! w/QueenBed, ALL Essentials Amazon Alexa</td> \n",
       "        <td id=\"T_06e21840_e922_11e8_b50b_f01898076315row0_col1\" class=\"data row0 col1\" >Guest's Nest is a private bedroom in a two-story home. My guests stay upstairs. The location is very convenient - we are near every major highway in DFW. The home is near restaurants, grocery stores, running trails and minutes to DFW airport.</td> \n",
       "        <td id=\"T_06e21840_e922_11e8_b50b_f01898076315row0_col2\" class=\"data row0 col2\" >Irving</td> \n",
       "        <td id=\"T_06e21840_e922_11e8_b50b_f01898076315row0_col3\" class=\"data row0 col3\" >https://www.airbnb.com/rooms/16769188?location=Coppell%2C%20TX</td> \n",
       "    </tr></tbody> \n",
       "</table> "
      ],
      "text/plain": [
       "<pandas.io.formats.style.Styler at 0x1a14a8e588>"
      ]
     },
     "metadata": {},
     "output_type": "display_data"
    },
    {
     "data": {
      "text/html": [
       "<style  type=\"text/css\" >\n",
       "</style>  \n",
       "<table id=\"T_06e2f7d8_e922_11e8_a12c_f01898076315\" > \n",
       "<thead>    <tr> \n",
       "        <th class=\"blank level0\" ></th> \n",
       "        <th class=\"col_heading level0 col0\" >title</th> \n",
       "        <th class=\"col_heading level0 col1\" >description</th> \n",
       "        <th class=\"col_heading level0 col2\" >city</th> \n",
       "        <th class=\"col_heading level0 col3\" >url</th> \n",
       "    </tr></thead> \n",
       "<tbody>    <tr> \n",
       "        <th id=\"T_06e2f7d8_e922_11e8_a12c_f01898076315level0_row0\" class=\"row_heading level0 row0\" >0</th> \n",
       "        <td id=\"T_06e2f7d8_e922_11e8_a12c_f01898076315row0_col0\" class=\"data row0 col0\" >Safe Comfortable Hotel Room at Home near Airport</td> \n",
       "        <td id=\"T_06e2f7d8_e922_11e8_a12c_f01898076315row0_col1\" class=\"data row0 col1\" >Full Size Bed with Computer Desk and Chair. You will love staying in my home, it's a 10 minute drive from the DFW airport. Irving is right in the center of Dallas so drive to Downtown or anywhere is a breeze. Neighborhood is safe and quiet.\\n\\nMy place is great for Business Travelers, solo adventures and for couples.\\n\\nHouse is situated on corner lot. Extended covered patio with fenced backyard. Kitchen has plenty of counter top space. Neighborhood features includes park area.</td> \n",
       "        <td id=\"T_06e2f7d8_e922_11e8_a12c_f01898076315row0_col2\" class=\"data row0 col2\" >Irving</td> \n",
       "        <td id=\"T_06e2f7d8_e922_11e8_a12c_f01898076315row0_col3\" class=\"data row0 col3\" >https://www.airbnb.com/rooms/19240734?location=Carrollton%2C%20TX</td> \n",
       "    </tr></tbody> \n",
       "</table> "
      ],
      "text/plain": [
       "<pandas.io.formats.style.Styler at 0x10e7b3940>"
      ]
     },
     "metadata": {},
     "output_type": "display_data"
    },
    {
     "data": {
      "text/html": [
       "<style  type=\"text/css\" >\n",
       "</style>  \n",
       "<table id=\"T_06e3b9c0_e922_11e8_bcdc_f01898076315\" > \n",
       "<thead>    <tr> \n",
       "        <th class=\"blank level0\" ></th> \n",
       "        <th class=\"col_heading level0 col0\" >title</th> \n",
       "        <th class=\"col_heading level0 col1\" >description</th> \n",
       "        <th class=\"col_heading level0 col2\" >city</th> \n",
       "        <th class=\"col_heading level0 col3\" >url</th> \n",
       "    </tr></thead> \n",
       "<tbody>    <tr> \n",
       "        <th id=\"T_06e3b9c0_e922_11e8_bcdc_f01898076315level0_row0\" class=\"row_heading level0 row0\" >0</th> \n",
       "        <td id=\"T_06e3b9c0_e922_11e8_bcdc_f01898076315row0_col0\" class=\"data row0 col0\" >Urban-Style Loft in the Country</td> \n",
       "        <td id=\"T_06e3b9c0_e922_11e8_bcdc_f01898076315row0_col1\" class=\"data row0 col1\" >Guests feel welcome in our Loft! Urban-style apartment in the country and convenient to town; near Leonard, Blue Ridge; ~30 minutes to McKinney, Bonham, Sherman, Greenville: an hour to DFW Airport or Downtown Dallas. Or enjoy the country quiet as you stroll the meadows or relax in a porch rocker.\\n 650 sq. ft. apartment above detached garage has a separate parking space, leading through a gate to your own entrance. Large windows with blackout shades and pastoral ranch views.</td> \n",
       "        <td id=\"T_06e3b9c0_e922_11e8_bcdc_f01898076315row0_col2\" class=\"data row0 col2\" >Leonard</td> \n",
       "        <td id=\"T_06e3b9c0_e922_11e8_bcdc_f01898076315row0_col3\" class=\"data row0 col3\" >https://www.airbnb.com/rooms/18157456?location=Anna%2C%20TX</td> \n",
       "    </tr></tbody> \n",
       "</table> "
      ],
      "text/plain": [
       "<pandas.io.formats.style.Styler at 0x1a14ae0f28>"
      ]
     },
     "metadata": {},
     "output_type": "display_data"
    },
    {
     "data": {
      "text/html": [
       "<style  type=\"text/css\" >\n",
       "</style>  \n",
       "<table id=\"T_06e4714c_e922_11e8_8c18_f01898076315\" > \n",
       "<thead>    <tr> \n",
       "        <th class=\"blank level0\" ></th> \n",
       "        <th class=\"col_heading level0 col0\" >title</th> \n",
       "        <th class=\"col_heading level0 col1\" >description</th> \n",
       "        <th class=\"col_heading level0 col2\" >city</th> \n",
       "        <th class=\"col_heading level0 col3\" >url</th> \n",
       "    </tr></thead> \n",
       "<tbody>    <tr> \n",
       "        <th id=\"T_06e4714c_e922_11e8_8c18_f01898076315level0_row0\" class=\"row_heading level0 row0\" >0</th> \n",
       "        <td id=\"T_06e4714c_e922_11e8_8c18_f01898076315row0_col0\" class=\"data row0 col0\" >(A) Private bedroom close to DFW airport</td> \n",
       "        <td id=\"T_06e4714c_e922_11e8_8c18_f01898076315row0_col1\" class=\"data row0 col1\" >Lovely private bedroom on a single story house. Conveniently located to all major highways and Las Colinas business area. The property is near restaurants, grocery stores, running trails and 10 mins away to DFW airport. It is good for solo adventurers and business travelers. Short-term discounts.</td> \n",
       "        <td id=\"T_06e4714c_e922_11e8_8c18_f01898076315row0_col2\" class=\"data row0 col2\" >Irving</td> \n",
       "        <td id=\"T_06e4714c_e922_11e8_8c18_f01898076315row0_col3\" class=\"data row0 col3\" >https://www.airbnb.com/rooms/13590530?location=Colleyville%2C%20TX</td> \n",
       "    </tr></tbody> \n",
       "</table> "
      ],
      "text/plain": [
       "<pandas.io.formats.style.Styler at 0x1a14ae0908>"
      ]
     },
     "metadata": {},
     "output_type": "display_data"
    },
    {
     "data": {
      "text/html": [
       "<style  type=\"text/css\" >\n",
       "</style>  \n",
       "<table id=\"T_06e53926_e922_11e8_96e7_f01898076315\" > \n",
       "<thead>    <tr> \n",
       "        <th class=\"blank level0\" ></th> \n",
       "        <th class=\"col_heading level0 col0\" >title</th> \n",
       "        <th class=\"col_heading level0 col1\" >description</th> \n",
       "        <th class=\"col_heading level0 col2\" >city</th> \n",
       "        <th class=\"col_heading level0 col3\" >url</th> \n",
       "    </tr></thead> \n",
       "<tbody>    <tr> \n",
       "        <th id=\"T_06e53926_e922_11e8_96e7_f01898076315level0_row0\" class=\"row_heading level0 row0\" >0</th> \n",
       "        <td id=\"T_06e53926_e922_11e8_96e7_f01898076315row0_col0\" class=\"data row0 col0\" >SURROUND YOURSELF WITH CHARM</td> \n",
       "        <td id=\"T_06e53926_e922_11e8_96e7_f01898076315row0_col1\" class=\"data row0 col1\" >Clean &amp; Comfortable two bedroom apt is great for your stay in Grand Prairie, TX! Located only 15 minutes from downtown Dallas. My apartment is about 10 minutes from DFW airport &amp; The Parks Mall in Arlington. About 15 minutes away from Six Flags over Texas, AT&amp;T stadium, Globe Life stadium (Texas Rangers) and Restaurants such as BJ's, TGI Fridays, Olive Garden etc. I don't have a private parking spot, but there is always plenty of open spaces near my apt.</td> \n",
       "        <td id=\"T_06e53926_e922_11e8_96e7_f01898076315row0_col2\" class=\"data row0 col2\" >Grand Prairie</td> \n",
       "        <td id=\"T_06e53926_e922_11e8_96e7_f01898076315row0_col3\" class=\"data row0 col3\" >https://www.airbnb.com/rooms/18807470?location=Cedar%20Hill%2C%20TX</td> \n",
       "    </tr></tbody> \n",
       "</table> "
      ],
      "text/plain": [
       "<pandas.io.formats.style.Styler at 0x1a14ae0588>"
      ]
     },
     "metadata": {},
     "output_type": "display_data"
    },
    {
     "data": {
      "text/html": [
       "<style  type=\"text/css\" >\n",
       "</style>  \n",
       "<table id=\"T_06e6039c_e922_11e8_9990_f01898076315\" > \n",
       "<thead>    <tr> \n",
       "        <th class=\"blank level0\" ></th> \n",
       "        <th class=\"col_heading level0 col0\" >title</th> \n",
       "        <th class=\"col_heading level0 col1\" >description</th> \n",
       "        <th class=\"col_heading level0 col2\" >city</th> \n",
       "        <th class=\"col_heading level0 col3\" >url</th> \n",
       "    </tr></thead> \n",
       "<tbody>    <tr> \n",
       "        <th id=\"T_06e6039c_e922_11e8_9990_f01898076315level0_row0\" class=\"row_heading level0 row0\" >0</th> \n",
       "        <td id=\"T_06e6039c_e922_11e8_9990_f01898076315row0_col0\" class=\"data row0 col0\" >Great Roanoke house near TMS and yummy dining</td> \n",
       "        <td id=\"T_06e6039c_e922_11e8_9990_f01898076315row0_col1\" class=\"data row0 col1\" >Enjoy our open, comfy house and spacious backyard with covered patio, our open living area and coffee bar, and plenty of parking. Best of all is our great TV room! Kids and pet friendly. Looking forward to welcoming you soon! 3 miles to Tx Motor Speedway and 15 minutes to DFW airport. Walking distance to park/tennis/skate park and Hawaiian Falls Water Park. Roanoke designated by Tx Legislature as the \\</td> \n",
       "        <td id=\"T_06e6039c_e922_11e8_9990_f01898076315row0_col2\" class=\"data row0 col2\" >Roanoke</td> \n",
       "        <td id=\"T_06e6039c_e922_11e8_9990_f01898076315row0_col3\" class=\"data row0 col3\" >https://www.airbnb.com/rooms/17169242?location=Argyle%2C%20TX</td> \n",
       "    </tr></tbody> \n",
       "</table> "
      ],
      "text/plain": [
       "<pandas.io.formats.style.Styler at 0x1a14ae0ac8>"
      ]
     },
     "metadata": {},
     "output_type": "display_data"
    },
    {
     "data": {
      "text/html": [
       "<style  type=\"text/css\" >\n",
       "</style>  \n",
       "<table id=\"T_06e6cab6_e922_11e8_83fe_f01898076315\" > \n",
       "<thead>    <tr> \n",
       "        <th class=\"blank level0\" ></th> \n",
       "        <th class=\"col_heading level0 col0\" >title</th> \n",
       "        <th class=\"col_heading level0 col1\" >description</th> \n",
       "        <th class=\"col_heading level0 col2\" >city</th> \n",
       "        <th class=\"col_heading level0 col3\" >url</th> \n",
       "    </tr></thead> \n",
       "<tbody>    <tr> \n",
       "        <th id=\"T_06e6cab6_e922_11e8_83fe_f01898076315level0_row0\" class=\"row_heading level0 row0\" >0</th> \n",
       "        <td id=\"T_06e6cab6_e922_11e8_83fe_f01898076315row0_col0\" class=\"data row0 col0\" >Luxury Stay at Home - Private & Safe near Airport</td> \n",
       "        <td id=\"T_06e6cab6_e922_11e8_83fe_f01898076315row0_col1\" class=\"data row0 col1\" >Well maintained room and bathroom. House is situated on corner lot. Extended covered patio with fenced backyard. Kitchen has plenty of counter top space. Neighborhood features includes park area.\\n\\nYou will love staying in my home, it's a 10 minute drive from the DFW airport. Irving is right in the center of Dallas so drive to Downtown or anywhere is a breeze. Neighborhood is safe and quiet.\\n\\nMy place is great for Business Travelers, solo adventures and for couples.</td> \n",
       "        <td id=\"T_06e6cab6_e922_11e8_83fe_f01898076315row0_col2\" class=\"data row0 col2\" >Irving</td> \n",
       "        <td id=\"T_06e6cab6_e922_11e8_83fe_f01898076315row0_col3\" class=\"data row0 col3\" >https://www.airbnb.com/rooms/19000018?location=Colleyville%2C%20TX</td> \n",
       "    </tr></tbody> \n",
       "</table> "
      ],
      "text/plain": [
       "<pandas.io.formats.style.Styler at 0x1a14b4e518>"
      ]
     },
     "metadata": {},
     "output_type": "display_data"
    },
    {
     "data": {
      "text/html": [
       "<style  type=\"text/css\" >\n",
       "</style>  \n",
       "<table id=\"T_06e7859e_e922_11e8_b25e_f01898076315\" > \n",
       "<thead>    <tr> \n",
       "        <th class=\"blank level0\" ></th> \n",
       "        <th class=\"col_heading level0 col0\" >title</th> \n",
       "        <th class=\"col_heading level0 col1\" >description</th> \n",
       "        <th class=\"col_heading level0 col2\" >city</th> \n",
       "        <th class=\"col_heading level0 col3\" >url</th> \n",
       "    </tr></thead> \n",
       "<tbody>    <tr> \n",
       "        <th id=\"T_06e7859e_e922_11e8_b25e_f01898076315level0_row0\" class=\"row_heading level0 row0\" >0</th> \n",
       "        <td id=\"T_06e7859e_e922_11e8_b25e_f01898076315row0_col0\" class=\"data row0 col0\" >Centrally Located Family home</td> \n",
       "        <td id=\"T_06e7859e_e922_11e8_b25e_f01898076315row0_col1\" class=\"data row0 col1\" >New home in quiet, safe neighborhood near shopping, restaurants, Field of Dreams baseball fields, Hawaiian Falls, Six Flags, TX Rangers, Dallas Cowboys, &amp; DFW airport. Fort Worth and Dallas are each about 20 minutes away. Has community pool.</td> \n",
       "        <td id=\"T_06e7859e_e922_11e8_b25e_f01898076315row0_col2\" class=\"data row0 col2\" >Arlington</td> \n",
       "        <td id=\"T_06e7859e_e922_11e8_b25e_f01898076315row0_col3\" class=\"data row0 col3\" >https://www.airbnb.com/rooms/7332566?location=Arlington%2C%20TX</td> \n",
       "    </tr></tbody> \n",
       "</table> "
      ],
      "text/plain": [
       "<pandas.io.formats.style.Styler at 0x1a14a8ec18>"
      ]
     },
     "metadata": {},
     "output_type": "display_data"
    },
    {
     "data": {
      "text/html": [
       "<style  type=\"text/css\" >\n",
       "</style>  \n",
       "<table id=\"T_06e88298_e922_11e8_904f_f01898076315\" > \n",
       "<thead>    <tr> \n",
       "        <th class=\"blank level0\" ></th> \n",
       "        <th class=\"col_heading level0 col0\" >title</th> \n",
       "        <th class=\"col_heading level0 col1\" >description</th> \n",
       "        <th class=\"col_heading level0 col2\" >city</th> \n",
       "        <th class=\"col_heading level0 col3\" >url</th> \n",
       "    </tr></thead> \n",
       "<tbody>    <tr> \n",
       "        <th id=\"T_06e88298_e922_11e8_904f_f01898076315level0_row0\" class=\"row_heading level0 row0\" >0</th> \n",
       "        <td id=\"T_06e88298_e922_11e8_904f_f01898076315row0_col0\" class=\"data row0 col0\" >(A) Private Room Gated Community Near DFW Airport</td> \n",
       "        <td id=\"T_06e88298_e922_11e8_904f_f01898076315row0_col1\" class=\"data row0 col1\" >Bookings available from Aug 12th. You are booking a modern private room in a two story house. Located near major highways, restaurants, grocery stores, Texas star golf course, parks, AT&amp;T stadium, and just 10 min to DFW airport. My space is in between Dallas and Fort Worth cities. Great for interns, travel workers, students (15 min to UT Arlington), business travelers, and even for adventurers. Short-term and Long-term discounts.</td> \n",
       "        <td id=\"T_06e88298_e922_11e8_904f_f01898076315row0_col2\" class=\"data row0 col2\" >Euless</td> \n",
       "        <td id=\"T_06e88298_e922_11e8_904f_f01898076315row0_col3\" class=\"data row0 col3\" >https://www.airbnb.com/rooms/17774106?location=Colleyville%2C%20TX</td> \n",
       "    </tr></tbody> \n",
       "</table> "
      ],
      "text/plain": [
       "<pandas.io.formats.style.Styler at 0x1a14b4eef0>"
      ]
     },
     "metadata": {},
     "output_type": "display_data"
    },
    {
     "data": {
      "text/html": [
       "<style  type=\"text/css\" >\n",
       "</style>  \n",
       "<table id=\"T_06e940fa_e922_11e8_b570_f01898076315\" > \n",
       "<thead>    <tr> \n",
       "        <th class=\"blank level0\" ></th> \n",
       "        <th class=\"col_heading level0 col0\" >title</th> \n",
       "        <th class=\"col_heading level0 col1\" >description</th> \n",
       "        <th class=\"col_heading level0 col2\" >city</th> \n",
       "        <th class=\"col_heading level0 col3\" >url</th> \n",
       "    </tr></thead> \n",
       "<tbody>    <tr> \n",
       "        <th id=\"T_06e940fa_e922_11e8_b570_f01898076315level0_row0\" class=\"row_heading level0 row0\" >0</th> \n",
       "        <td id=\"T_06e940fa_e922_11e8_b570_f01898076315row0_col0\" class=\"data row0 col0\" >Vintage Condo in Desirable Dallas Area</td> \n",
       "        <td id=\"T_06e940fa_e922_11e8_b570_f01898076315row0_col1\" class=\"data row0 col1\" >The perfect place to base yourself for a stay in Dallas. Close to the Plaza at Preston Center, these vintage condos are located near the North Dallas Tollway and Northwest Highway - near SMU, North Park Mall, Love Field Airport, Mockingbird Station and Downtown Dallas. \\n\\nOur 2nd floor condo offers 2 separate ensuite bedrooms, a full kitchen, living and dining room with housewares, linens, 2 covered and reserved parking spaces - everything you need to make your stay perfect.</td> \n",
       "        <td id=\"T_06e940fa_e922_11e8_b570_f01898076315row0_col2\" class=\"data row0 col2\" >Dallas</td> \n",
       "        <td id=\"T_06e940fa_e922_11e8_b570_f01898076315row0_col3\" class=\"data row0 col3\" >https://www.airbnb.com/rooms/15353596?location=Addison%2C%20TX</td> \n",
       "    </tr></tbody> \n",
       "</table> "
      ],
      "text/plain": [
       "<pandas.io.formats.style.Styler at 0x1a14a85d68>"
      ]
     },
     "metadata": {},
     "output_type": "display_data"
    },
    {
     "data": {
      "text/html": [
       "<style  type=\"text/css\" >\n",
       "</style>  \n",
       "<table id=\"T_06e9fed4_e922_11e8_bb10_f01898076315\" > \n",
       "<thead>    <tr> \n",
       "        <th class=\"blank level0\" ></th> \n",
       "        <th class=\"col_heading level0 col0\" >title</th> \n",
       "        <th class=\"col_heading level0 col1\" >description</th> \n",
       "        <th class=\"col_heading level0 col2\" >city</th> \n",
       "        <th class=\"col_heading level0 col3\" >url</th> \n",
       "    </tr></thead> \n",
       "<tbody>    <tr> \n",
       "        <th id=\"T_06e9fed4_e922_11e8_bb10_f01898076315level0_row0\" class=\"row_heading level0 row0\" >0</th> \n",
       "        <td id=\"T_06e9fed4_e922_11e8_bb10_f01898076315row0_col0\" class=\"data row0 col0\" >Room Of Fame # 2</td> \n",
       "        <td id=\"T_06e9fed4_e922_11e8_bb10_f01898076315row0_col1\" class=\"data row0 col1\" >Welcome to our place, We are close to DFW Airport (10 mins) and Love Field (25 mins) Irving has many fine restaurants and dining, family-friendly activities, and nightlife. Irving is traversed by numerous highways. The Airport Freeway, TX- 183, Interstate 635 , Highway 114 and the President George Bush Turnpike, The Las Colinas area is centered near the intersection of 114 and the Bush turnpike.</td> \n",
       "        <td id=\"T_06e9fed4_e922_11e8_bb10_f01898076315row0_col2\" class=\"data row0 col2\" >Irving</td> \n",
       "        <td id=\"T_06e9fed4_e922_11e8_bb10_f01898076315row0_col3\" class=\"data row0 col3\" >https://www.airbnb.com/rooms/17040842?location=Carrollton%2C%20TX</td> \n",
       "    </tr></tbody> \n",
       "</table> "
      ],
      "text/plain": [
       "<pandas.io.formats.style.Styler at 0x1a14ae0940>"
      ]
     },
     "metadata": {},
     "output_type": "display_data"
    },
    {
     "data": {
      "text/html": [
       "<style  type=\"text/css\" >\n",
       "</style>  \n",
       "<table id=\"T_06ead728_e922_11e8_8791_f01898076315\" > \n",
       "<thead>    <tr> \n",
       "        <th class=\"blank level0\" ></th> \n",
       "        <th class=\"col_heading level0 col0\" >title</th> \n",
       "        <th class=\"col_heading level0 col1\" >description</th> \n",
       "        <th class=\"col_heading level0 col2\" >city</th> \n",
       "        <th class=\"col_heading level0 col3\" >url</th> \n",
       "    </tr></thead> \n",
       "<tbody>    <tr> \n",
       "        <th id=\"T_06ead728_e922_11e8_8791_f01898076315level0_row0\" class=\"row_heading level0 row0\" >0</th> \n",
       "        <td id=\"T_06ead728_e922_11e8_8791_f01898076315row0_col0\" class=\"data row0 col0\" >Peaceful garage apt. close in!</td> \n",
       "        <td id=\"T_06ead728_e922_11e8_8791_f01898076315row0_col1\" class=\"data row0 col1\" >Quiet street, neat neighborhood near bus/train service to downtown, hospitals, conventions, sports. Equidistant to both airports. \\nView onto tranquil garden area. Full kitchen and basic cable.\\n\\nThe light rail is 1/2 block from the apartment, 3 minute walk. \\n We are at the LINDALE PARK stop.\\nSee this link for a map of the lines, present and proposed: \\n</td> \n",
       "        <td id=\"T_06ead728_e922_11e8_8791_f01898076315row0_col2\" class=\"data row0 col2\" >Houston</td> \n",
       "        <td id=\"T_06ead728_e922_11e8_8791_f01898076315row0_col3\" class=\"data row0 col3\" >https://www.airbnb.com/rooms/5781472?location=Atascocita%2C%20TX</td> \n",
       "    </tr></tbody> \n",
       "</table> "
      ],
      "text/plain": [
       "<pandas.io.formats.style.Styler at 0x1a14ae02e8>"
      ]
     },
     "metadata": {},
     "output_type": "display_data"
    },
    {
     "data": {
      "text/html": [
       "<style  type=\"text/css\" >\n",
       "</style>  \n",
       "<table id=\"T_06ebbd64_e922_11e8_89c3_f01898076315\" > \n",
       "<thead>    <tr> \n",
       "        <th class=\"blank level0\" ></th> \n",
       "        <th class=\"col_heading level0 col0\" >title</th> \n",
       "        <th class=\"col_heading level0 col1\" >description</th> \n",
       "        <th class=\"col_heading level0 col2\" >city</th> \n",
       "        <th class=\"col_heading level0 col3\" >url</th> \n",
       "    </tr></thead> \n",
       "<tbody>    <tr> \n",
       "        <th id=\"T_06ebbd64_e922_11e8_89c3_f01898076315level0_row0\" class=\"row_heading level0 row0\" >0</th> \n",
       "        <td id=\"T_06ebbd64_e922_11e8_89c3_f01898076315row0_col0\" class=\"data row0 col0\" >Two Private Rooms Gated Community Near DFW Airport</td> \n",
       "        <td id=\"T_06ebbd64_e922_11e8_89c3_f01898076315row0_col1\" class=\"data row0 col1\" >Bookings available from Aug 19th, 2017. You are booking two modern private room's in a two story house. Located near major highways, restaurants, grocery stores, Texas star golf course, parks, AT&amp;T stadium, and just 10 min to DFW airport. My space is in between Dallas and Fort Worth. Hence, great for interns, travel workers, students (15 min to UT Arlington), business travelers, and even for adventurers. Short-term and Long-term discounts.</td> \n",
       "        <td id=\"T_06ebbd64_e922_11e8_89c3_f01898076315row0_col2\" class=\"data row0 col2\" >Euless</td> \n",
       "        <td id=\"T_06ebbd64_e922_11e8_89c3_f01898076315row0_col3\" class=\"data row0 col3\" >https://www.airbnb.com/rooms/18288072?location=Colleyville%2C%20TX</td> \n",
       "    </tr></tbody> \n",
       "</table> "
      ],
      "text/plain": [
       "<pandas.io.formats.style.Styler at 0x1a14ae0828>"
      ]
     },
     "metadata": {},
     "output_type": "display_data"
    },
    {
     "data": {
      "text/html": [
       "<style  type=\"text/css\" >\n",
       "</style>  \n",
       "<table id=\"T_06ecb692_e922_11e8_82a6_f01898076315\" > \n",
       "<thead>    <tr> \n",
       "        <th class=\"blank level0\" ></th> \n",
       "        <th class=\"col_heading level0 col0\" >title</th> \n",
       "        <th class=\"col_heading level0 col1\" >description</th> \n",
       "        <th class=\"col_heading level0 col2\" >city</th> \n",
       "        <th class=\"col_heading level0 col3\" >url</th> \n",
       "    </tr></thead> \n",
       "<tbody>    <tr> \n",
       "        <th id=\"T_06ecb692_e922_11e8_82a6_f01898076315level0_row0\" class=\"row_heading level0 row0\" >0</th> \n",
       "        <td id=\"T_06ecb692_e922_11e8_82a6_f01898076315row0_col0\" class=\"data row0 col0\" >Beautiful Home Near I-45 and Bush Airport (IAH)</td> \n",
       "        <td id=\"T_06ecb692_e922_11e8_82a6_f01898076315row0_col1\" class=\"data row0 col1\" >My place is close to the airport and major freeway. YouÃ¢ÂÂll love my place because of the outdoors space, the neighborhood, and spacious. My place is good for couples, business travelers, families (with kids), and big groups.\\nHouse is close to the IAH airport, FM 1960, Woodlands and I-45 Freeway. Home has 2 king beds, 1 queen, 2 twins and an air mattress (twin size) for your family/group to sleep comfortably.</td> \n",
       "        <td id=\"T_06ecb692_e922_11e8_82a6_f01898076315row0_col2\" class=\"data row0 col2\" >Spring</td> \n",
       "        <td id=\"T_06ecb692_e922_11e8_82a6_f01898076315row0_col3\" class=\"data row0 col3\" >https://www.airbnb.com/rooms/19018862?location=Cleveland%2C%20TX</td> \n",
       "    </tr></tbody> \n",
       "</table> "
      ],
      "text/plain": [
       "<pandas.io.formats.style.Styler at 0x1a14b48978>"
      ]
     },
     "metadata": {},
     "output_type": "display_data"
    },
    {
     "data": {
      "text/html": [
       "<style  type=\"text/css\" >\n",
       "</style>  \n",
       "<table id=\"T_06ed8dd8_e922_11e8_8b4b_f01898076315\" > \n",
       "<thead>    <tr> \n",
       "        <th class=\"blank level0\" ></th> \n",
       "        <th class=\"col_heading level0 col0\" >title</th> \n",
       "        <th class=\"col_heading level0 col1\" >description</th> \n",
       "        <th class=\"col_heading level0 col2\" >city</th> \n",
       "        <th class=\"col_heading level0 col3\" >url</th> \n",
       "    </tr></thead> \n",
       "<tbody>    <tr> \n",
       "        <th id=\"T_06ed8dd8_e922_11e8_8b4b_f01898076315level0_row0\" class=\"row_heading level0 row0\" >0</th> \n",
       "        <td id=\"T_06ed8dd8_e922_11e8_8b4b_f01898076315row0_col0\" class=\"data row0 col0\" >Beautiful cozy 2 bedroom 2 bath</td> \n",
       "        <td id=\"T_06ed8dd8_e922_11e8_8b4b_f01898076315row0_col1\" class=\"data row0 col1\" >Beautiful 2 bedroom Apartment with 2 baths located near George bush intercontinental Airport! Only less than 20 minutes from downtown and surrounded by shopping centers and various top dining restaurants available in the area!</td> \n",
       "        <td id=\"T_06ed8dd8_e922_11e8_8b4b_f01898076315row0_col2\" class=\"data row0 col2\" >Humble</td> \n",
       "        <td id=\"T_06ed8dd8_e922_11e8_8b4b_f01898076315row0_col3\" class=\"data row0 col3\" >https://www.airbnb.com/rooms/16932918?location=Cleveland%2C%20TX</td> \n",
       "    </tr></tbody> \n",
       "</table> "
      ],
      "text/plain": [
       "<pandas.io.formats.style.Styler at 0x1a14a8ea90>"
      ]
     },
     "metadata": {},
     "output_type": "display_data"
    },
    {
     "data": {
      "text/html": [
       "<style  type=\"text/css\" >\n",
       "</style>  \n",
       "<table id=\"T_06ee6b22_e922_11e8_870a_f01898076315\" > \n",
       "<thead>    <tr> \n",
       "        <th class=\"blank level0\" ></th> \n",
       "        <th class=\"col_heading level0 col0\" >title</th> \n",
       "        <th class=\"col_heading level0 col1\" >description</th> \n",
       "        <th class=\"col_heading level0 col2\" >city</th> \n",
       "        <th class=\"col_heading level0 col3\" >url</th> \n",
       "    </tr></thead> \n",
       "<tbody>    <tr> \n",
       "        <th id=\"T_06ee6b22_e922_11e8_870a_f01898076315level0_row0\" class=\"row_heading level0 row0\" >0</th> \n",
       "        <td id=\"T_06ee6b22_e922_11e8_870a_f01898076315row0_col0\" class=\"data row0 col0\" >1bdr apt. Deal!! in Great Location near uptown</td> \n",
       "        <td id=\"T_06ee6b22_e922_11e8_870a_f01898076315row0_col1\" class=\"data row0 col1\" >My place is close to restaurants and dining, parks,uptown, Galleria Mall and northpark Mall , right off I75 . YouÃ¢ÂÂll love my place because of The Great location with easy access to Interstate 75. I am located 10 minutes to Downtown dallas, and about 20 mins from the DFW Airport. Love Field Airport is 15 mins away. My place is good for couples, solo adventurers, and business travelers.</td> \n",
       "        <td id=\"T_06ee6b22_e922_11e8_870a_f01898076315row0_col2\" class=\"data row0 col2\" >Dallas</td> \n",
       "        <td id=\"T_06ee6b22_e922_11e8_870a_f01898076315row0_col3\" class=\"data row0 col3\" >https://www.airbnb.com/rooms/16999819?location=Carrollton%2C%20TX</td> \n",
       "    </tr></tbody> \n",
       "</table> "
      ],
      "text/plain": [
       "<pandas.io.formats.style.Styler at 0x1a14b5c0f0>"
      ]
     },
     "metadata": {},
     "output_type": "display_data"
    },
    {
     "data": {
      "text/html": [
       "<style  type=\"text/css\" >\n",
       "</style>  \n",
       "<table id=\"T_06ef3bba_e922_11e8_87ec_f01898076315\" > \n",
       "<thead>    <tr> \n",
       "        <th class=\"blank level0\" ></th> \n",
       "        <th class=\"col_heading level0 col0\" >title</th> \n",
       "        <th class=\"col_heading level0 col1\" >description</th> \n",
       "        <th class=\"col_heading level0 col2\" >city</th> \n",
       "        <th class=\"col_heading level0 col3\" >url</th> \n",
       "    </tr></thead> \n",
       "<tbody>    <tr> \n",
       "        <th id=\"T_06ef3bba_e922_11e8_87ec_f01898076315level0_row0\" class=\"row_heading level0 row0\" >0</th> \n",
       "        <td id=\"T_06ef3bba_e922_11e8_87ec_f01898076315row0_col0\" class=\"data row0 col0\" >Quite house near everything</td> \n",
       "        <td id=\"T_06ef3bba_e922_11e8_87ec_f01898076315row0_col1\" class=\"data row0 col1\" >Enjoy 1723sqft. Beautiful home with nice backyard for your family.Great location within 10-20 minutes from downtown Austin and easy access to HWY 130, 5 min from F1 tract and Austin International Airport.\\nCommunity pool available and walking distance to nearby Southeast Metro Park, very clean place wide soccer fields, baseball fields and a small playground. It's a terrific place to stay close from special entertainment from downtown and far enough to find some quite and peaceful place to relax.</td> \n",
       "        <td id=\"T_06ef3bba_e922_11e8_87ec_f01898076315row0_col2\" class=\"data row0 col2\" >Del Valle</td> \n",
       "        <td id=\"T_06ef3bba_e922_11e8_87ec_f01898076315row0_col3\" class=\"data row0 col3\" >https://www.airbnb.com/rooms/16719691?location=Bastrop%20County%2C%20TX</td> \n",
       "    </tr></tbody> \n",
       "</table> "
      ],
      "text/plain": [
       "<pandas.io.formats.style.Styler at 0x1a14a8e358>"
      ]
     },
     "metadata": {},
     "output_type": "display_data"
    },
    {
     "data": {
      "text/html": [
       "<style  type=\"text/css\" >\n",
       "</style>  \n",
       "<table id=\"T_06eff79e_e922_11e8_9a4c_f01898076315\" > \n",
       "<thead>    <tr> \n",
       "        <th class=\"blank level0\" ></th> \n",
       "        <th class=\"col_heading level0 col0\" >title</th> \n",
       "        <th class=\"col_heading level0 col1\" >description</th> \n",
       "        <th class=\"col_heading level0 col2\" >city</th> \n",
       "        <th class=\"col_heading level0 col3\" >url</th> \n",
       "    </tr></thead> \n",
       "<tbody>    <tr> \n",
       "        <th id=\"T_06eff79e_e922_11e8_9a4c_f01898076315level0_row0\" class=\"row_heading level0 row0\" >0</th> \n",
       "        <td id=\"T_06eff79e_e922_11e8_9a4c_f01898076315row0_col0\" class=\"data row0 col0\" >Great Stay For Super Bowl 2017</td> \n",
       "        <td id=\"T_06eff79e_e922_11e8_9a4c_f01898076315row0_col1\" class=\"data row0 col1\" >Room available 02-03-2017 thur 02-06-2017 \\n\\nThis room is near Hobby Airport includes free WIFI, 32 inch TV, A/C, out door pool, and free continental breakfast...</td> \n",
       "        <td id=\"T_06eff79e_e922_11e8_9a4c_f01898076315row0_col2\" class=\"data row0 col2\" >Houston</td> \n",
       "        <td id=\"T_06eff79e_e922_11e8_9a4c_f01898076315row0_col3\" class=\"data row0 col3\" >https://www.airbnb.com/rooms/14487252?location=Channelview%2C%20TX</td> \n",
       "    </tr></tbody> \n",
       "</table> "
      ],
      "text/plain": [
       "<pandas.io.formats.style.Styler at 0x1a14b48b38>"
      ]
     },
     "metadata": {},
     "output_type": "display_data"
    },
    {
     "data": {
      "text/html": [
       "<style  type=\"text/css\" >\n",
       "</style>  \n",
       "<table id=\"T_06f0cc50_e922_11e8_a9e0_f01898076315\" > \n",
       "<thead>    <tr> \n",
       "        <th class=\"blank level0\" ></th> \n",
       "        <th class=\"col_heading level0 col0\" >title</th> \n",
       "        <th class=\"col_heading level0 col1\" >description</th> \n",
       "        <th class=\"col_heading level0 col2\" >city</th> \n",
       "        <th class=\"col_heading level0 col3\" >url</th> \n",
       "    </tr></thead> \n",
       "<tbody>    <tr> \n",
       "        <th id=\"T_06f0cc50_e922_11e8_a9e0_f01898076315level0_row0\" class=\"row_heading level0 row0\" >0</th> \n",
       "        <td id=\"T_06f0cc50_e922_11e8_a9e0_f01898076315row0_col0\" class=\"data row0 col0\" >Spacious Living Near Lake Houston</td> \n",
       "        <td id=\"T_06f0cc50_e922_11e8_a9e0_f01898076315row0_col1\" class=\"data row0 col1\" >My house is in a Master-Planned community w/lots of green space, parks, playgrounds, jogging trail &amp; ponds. The living space is modern, spacious, w/an open floor plan, beautifully furnished w/1 king sized bed &amp; 3 queen sized beds. Close proximity to city attractions including 25 mins from Downtown Houston, 10 mins from Bush intercontinental airport &amp; many energy companies along beltway 8. There are several attractions; restaurants, movie theater, bowling alley, shopping center, &amp; grocery stores.</td> \n",
       "        <td id=\"T_06f0cc50_e922_11e8_a9e0_f01898076315row0_col2\" class=\"data row0 col2\" >Humble</td> \n",
       "        <td id=\"T_06f0cc50_e922_11e8_a9e0_f01898076315row0_col3\" class=\"data row0 col3\" >https://www.airbnb.com/rooms/19196476?location=Cleveland%2C%20TX</td> \n",
       "    </tr></tbody> \n",
       "</table> "
      ],
      "text/plain": [
       "<pandas.io.formats.style.Styler at 0x1a14ae0e80>"
      ]
     },
     "metadata": {},
     "output_type": "display_data"
    },
    {
     "data": {
      "text/html": [
       "<style  type=\"text/css\" >\n",
       "</style>  \n",
       "<table id=\"T_06f18a78_e922_11e8_b8ce_f01898076315\" > \n",
       "<thead>    <tr> \n",
       "        <th class=\"blank level0\" ></th> \n",
       "        <th class=\"col_heading level0 col0\" >title</th> \n",
       "        <th class=\"col_heading level0 col1\" >description</th> \n",
       "        <th class=\"col_heading level0 col2\" >city</th> \n",
       "        <th class=\"col_heading level0 col3\" >url</th> \n",
       "    </tr></thead> \n",
       "<tbody>    <tr> \n",
       "        <th id=\"T_06f18a78_e922_11e8_b8ce_f01898076315level0_row0\" class=\"row_heading level0 row0\" >0</th> \n",
       "        <td id=\"T_06f18a78_e922_11e8_b8ce_f01898076315row0_col0\" class=\"data row0 col0\" >Private Room&Bath Near Airport/AA Training/Stadium</td> \n",
       "        <td id=\"T_06f18a78_e922_11e8_b8ce_f01898076315row0_col1\" class=\"data row0 col1\" >You'll love my place, a two-story house in a perfect mid-cities location between Dallas and Fort Worth.\\n\\n5 minutes from AA Training center,\\n8 minutes from DFW International Airport and rail station. \\n20 minutes from Love Field airport and downtown/uptown Dallas, American Airlines Center, Dallas Cowboy Stadium, Six Flags, Ranger Stadium,Grapevine Mills Mall, Southlake, Texas Motor Speedway.</td> \n",
       "        <td id=\"T_06f18a78_e922_11e8_b8ce_f01898076315row0_col2\" class=\"data row0 col2\" >Euless</td> \n",
       "        <td id=\"T_06f18a78_e922_11e8_b8ce_f01898076315row0_col3\" class=\"data row0 col3\" >https://www.airbnb.com/rooms/17891400?location=Burleson%2C%20TX</td> \n",
       "    </tr></tbody> \n",
       "</table> "
      ],
      "text/plain": [
       "<pandas.io.formats.style.Styler at 0x1a14ae0dd8>"
      ]
     },
     "metadata": {},
     "output_type": "display_data"
    },
    {
     "data": {
      "text/html": [
       "<style  type=\"text/css\" >\n",
       "</style>  \n",
       "<table id=\"T_06f2679a_e922_11e8_bdc9_f01898076315\" > \n",
       "<thead>    <tr> \n",
       "        <th class=\"blank level0\" ></th> \n",
       "        <th class=\"col_heading level0 col0\" >title</th> \n",
       "        <th class=\"col_heading level0 col1\" >description</th> \n",
       "        <th class=\"col_heading level0 col2\" >city</th> \n",
       "        <th class=\"col_heading level0 col3\" >url</th> \n",
       "    </tr></thead> \n",
       "<tbody>    <tr> \n",
       "        <th id=\"T_06f2679a_e922_11e8_bdc9_f01898076315level0_row0\" class=\"row_heading level0 row0\" >0</th> \n",
       "        <td id=\"T_06f2679a_e922_11e8_bdc9_f01898076315row0_col0\" class=\"data row0 col0\" >Home in Denton 27 min. N of airport</td> \n",
       "        <td id=\"T_06f2679a_e922_11e8_bdc9_f01898076315row0_col1\" class=\"data row0 col1\" >Want to get outside of the city after working hard or shopping hard? This is located in a Oakmont Estates, a Golf Course Community. Tennis courts, pool and Clubhouse about 20 minutes from Dallas Galleria Mall. Beautiful quiet neighborhood! Close to Lake Lewisville. I'm about 40 min. from Ft. Worth. A great place to visit for night life! The Denton Square is an historic site with regular tours, shops, coffee shop, UNT Art shop, antique malls. If you are a music lover, UNT puts out some of the best musicians. They are famous for that! Catch some great players playing around town. I can tell you the best clubs and places to eat. Come for the Jazz and Blues festivals. Check out UNT and TWU if you are moving a student here. Make yourself at home. I have a combo mountain/street bike. There are bike trails close and there is the trail on the Green belt about 15 miles near Lake Ray Roberts. If you need to do business from here, I have wireless and and office area. You can expect some peace and quite. If you need to work out, I have a universal gym and since I do massage professionally, that is available, as well for a discounted rate.</td> \n",
       "        <td id=\"T_06f2679a_e922_11e8_bdc9_f01898076315row0_col2\" class=\"data row0 col2\" >Corinth</td> \n",
       "        <td id=\"T_06f2679a_e922_11e8_bdc9_f01898076315row0_col3\" class=\"data row0 col3\" >https://www.airbnb.com/rooms/635415?location=Corinth%2C%20TX</td> \n",
       "    </tr></tbody> \n",
       "</table> "
      ],
      "text/plain": [
       "<pandas.io.formats.style.Styler at 0x1a14a857b8>"
      ]
     },
     "metadata": {},
     "output_type": "display_data"
    },
    {
     "data": {
      "text/html": [
       "<style  type=\"text/css\" >\n",
       "</style>  \n",
       "<table id=\"T_06f33a08_e922_11e8_ba23_f01898076315\" > \n",
       "<thead>    <tr> \n",
       "        <th class=\"blank level0\" ></th> \n",
       "        <th class=\"col_heading level0 col0\" >title</th> \n",
       "        <th class=\"col_heading level0 col1\" >description</th> \n",
       "        <th class=\"col_heading level0 col2\" >city</th> \n",
       "        <th class=\"col_heading level0 col3\" >url</th> \n",
       "    </tr></thead> \n",
       "<tbody>    <tr> \n",
       "        <th id=\"T_06f33a08_e922_11e8_ba23_f01898076315level0_row0\" class=\"row_heading level0 row0\" >0</th> \n",
       "        <td id=\"T_06f33a08_e922_11e8_ba23_f01898076315row0_col0\" class=\"data row0 col0\" >Premium Room at Home near DFW & LoveField Airport</td> \n",
       "        <td id=\"T_06f33a08_e922_11e8_ba23_f01898076315row0_col1\" class=\"data row0 col1\" >Well maintained room and bathroom. House is situated on corner lot. Extended covered patio with fenced backyard. Kitchen has plenty of counter top space. Neighborhood features includes park area. \\n\\nYou will love staying in my home, it's a 10 minute drive from the DFW airport. Irving is right in the center of Dallas so drive to Downtown or anywhere is a breeze. Neighborhood is safe and quiet.\\n\\nMy place is great for Business Travelers, solo adventures and for couples.</td> \n",
       "        <td id=\"T_06f33a08_e922_11e8_ba23_f01898076315row0_col2\" class=\"data row0 col2\" >Irving</td> \n",
       "        <td id=\"T_06f33a08_e922_11e8_ba23_f01898076315row0_col3\" class=\"data row0 col3\" >https://www.airbnb.com/rooms/18910781?location=Coppell%2C%20TX</td> \n",
       "    </tr></tbody> \n",
       "</table> "
      ],
      "text/plain": [
       "<pandas.io.formats.style.Styler at 0x1a14ae0b70>"
      ]
     },
     "metadata": {},
     "output_type": "display_data"
    },
    {
     "data": {
      "text/html": [
       "<style  type=\"text/css\" >\n",
       "</style>  \n",
       "<table id=\"T_06f3ead4_e922_11e8_8101_f01898076315\" > \n",
       "<thead>    <tr> \n",
       "        <th class=\"blank level0\" ></th> \n",
       "        <th class=\"col_heading level0 col0\" >title</th> \n",
       "        <th class=\"col_heading level0 col1\" >description</th> \n",
       "        <th class=\"col_heading level0 col2\" >city</th> \n",
       "        <th class=\"col_heading level0 col3\" >url</th> \n",
       "    </tr></thead> \n",
       "<tbody>    <tr> \n",
       "        <th id=\"T_06f3ead4_e922_11e8_8101_f01898076315level0_row0\" class=\"row_heading level0 row0\" >0</th> \n",
       "        <td id=\"T_06f3ead4_e922_11e8_8101_f01898076315row0_col0\" class=\"data row0 col0\" >Modern and Relaxing Condo Close to DFW Airport</td> \n",
       "        <td id=\"T_06f3ead4_e922_11e8_8101_f01898076315row0_col1\" class=\"data row0 col1\" >This cozy modern condominium is located in a quiet gated community in Irving, minutes from DFW International Airport and 10 minutes from downtown Dallas. Conveniently located near major highways.</td> \n",
       "        <td id=\"T_06f3ead4_e922_11e8_8101_f01898076315row0_col2\" class=\"data row0 col2\" >Irving</td> \n",
       "        <td id=\"T_06f3ead4_e922_11e8_8101_f01898076315row0_col3\" class=\"data row0 col3\" >https://www.airbnb.com/rooms/18735283?location=Coppell%2C%20TX</td> \n",
       "    </tr></tbody> \n",
       "</table> "
      ],
      "text/plain": [
       "<pandas.io.formats.style.Styler at 0x1a14b4eba8>"
      ]
     },
     "metadata": {},
     "output_type": "display_data"
    },
    {
     "data": {
      "text/html": [
       "<style  type=\"text/css\" >\n",
       "</style>  \n",
       "<table id=\"T_06f4d5fa_e922_11e8_afb8_f01898076315\" > \n",
       "<thead>    <tr> \n",
       "        <th class=\"blank level0\" ></th> \n",
       "        <th class=\"col_heading level0 col0\" >title</th> \n",
       "        <th class=\"col_heading level0 col1\" >description</th> \n",
       "        <th class=\"col_heading level0 col2\" >city</th> \n",
       "        <th class=\"col_heading level0 col3\" >url</th> \n",
       "    </tr></thead> \n",
       "<tbody>    <tr> \n",
       "        <th id=\"T_06f4d5fa_e922_11e8_afb8_f01898076315level0_row0\" class=\"row_heading level0 row0\" >0</th> \n",
       "        <td id=\"T_06f4d5fa_e922_11e8_afb8_f01898076315row0_col0\" class=\"data row0 col0\" >Best Rest! w/ All Essentials/QueenBed Amazon Alexa</td> \n",
       "        <td id=\"T_06f4d5fa_e922_11e8_afb8_f01898076315row0_col1\" class=\"data row0 col1\" >The Best Rest! is a private bedroom in a two-story home. The house is very spacious and open. My guests stay upstairs, and my family stays downstairs. The location is very convenient - we are near every major highway in DFW and the Las Colinas business area. The home is near restaurants, grocery stores, running trails and minutes to DFW airport. My place is very family friendly. You will enjoy the open space and high ceilings.</td> \n",
       "        <td id=\"T_06f4d5fa_e922_11e8_afb8_f01898076315row0_col2\" class=\"data row0 col2\" >Irving</td> \n",
       "        <td id=\"T_06f4d5fa_e922_11e8_afb8_f01898076315row0_col3\" class=\"data row0 col3\" >https://www.airbnb.com/rooms/16230502?location=Coppell%2C%20TX</td> \n",
       "    </tr></tbody> \n",
       "</table> "
      ],
      "text/plain": [
       "<pandas.io.formats.style.Styler at 0x1a14b5c860>"
      ]
     },
     "metadata": {},
     "output_type": "display_data"
    },
    {
     "data": {
      "text/html": [
       "<style  type=\"text/css\" >\n",
       "</style>  \n",
       "<table id=\"T_06f57f18_e922_11e8_a328_f01898076315\" > \n",
       "<thead>    <tr> \n",
       "        <th class=\"blank level0\" ></th> \n",
       "        <th class=\"col_heading level0 col0\" >title</th> \n",
       "        <th class=\"col_heading level0 col1\" >description</th> \n",
       "        <th class=\"col_heading level0 col2\" >city</th> \n",
       "        <th class=\"col_heading level0 col3\" >url</th> \n",
       "    </tr></thead> \n",
       "<tbody>    <tr> \n",
       "        <th id=\"T_06f57f18_e922_11e8_a328_f01898076315level0_row0\" class=\"row_heading level0 row0\" >0</th> \n",
       "        <td id=\"T_06f57f18_e922_11e8_a328_f01898076315row0_col0\" class=\"data row0 col0\" >Quiet location for traveling industry individual</td> \n",
       "        <td id=\"T_06f57f18_e922_11e8_a328_f01898076315row0_col1\" class=\"data row0 col1\" >My residence is centrally located. It is 5-10mins from major malls, shopping, fine dining, and night entertainment. Right off George Bush Highway and near Dallas Tollway &amp; 35. This residence is great for a person in the airline industry, because it gives you quiet &amp; comfortable living while being 20mins from DFW airport and 15mins from Dallas Love Field airport. The second bedroom is for you the guest only. A Person in the traveling/airline industry preferred. Quiet with no traffic.</td> \n",
       "        <td id=\"T_06f57f18_e922_11e8_a328_f01898076315row0_col2\" class=\"data row0 col2\" >Dallas</td> \n",
       "        <td id=\"T_06f57f18_e922_11e8_a328_f01898076315row0_col3\" class=\"data row0 col3\" >https://www.airbnb.com/rooms/16257875?location=Carrollton%2C%20TX</td> \n",
       "    </tr></tbody> \n",
       "</table> "
      ],
      "text/plain": [
       "<pandas.io.formats.style.Styler at 0x1a14b4e518>"
      ]
     },
     "metadata": {},
     "output_type": "display_data"
    },
    {
     "data": {
      "text/html": [
       "<style  type=\"text/css\" >\n",
       "</style>  \n",
       "<table id=\"T_06f648c6_e922_11e8_8a6f_f01898076315\" > \n",
       "<thead>    <tr> \n",
       "        <th class=\"blank level0\" ></th> \n",
       "        <th class=\"col_heading level0 col0\" >title</th> \n",
       "        <th class=\"col_heading level0 col1\" >description</th> \n",
       "        <th class=\"col_heading level0 col2\" >city</th> \n",
       "        <th class=\"col_heading level0 col3\" >url</th> \n",
       "    </tr></thead> \n",
       "<tbody>    <tr> \n",
       "        <th id=\"T_06f648c6_e922_11e8_8a6f_f01898076315level0_row0\" class=\"row_heading level0 row0\" >0</th> \n",
       "        <td id=\"T_06f648c6_e922_11e8_8a6f_f01898076315row0_col0\" class=\"data row0 col0\" >Nice and cozy in Valley Ranch near DFW</td> \n",
       "        <td id=\"T_06f648c6_e922_11e8_8a6f_f01898076315row0_col1\" class=\"data row0 col1\" >DFW airport 10minutes\\nShopping, Restaurants, \\nDowntown 15 minutes\\nJogging/bike trail\\nSwimming Pool</td> \n",
       "        <td id=\"T_06f648c6_e922_11e8_8a6f_f01898076315row0_col2\" class=\"data row0 col2\" >Irving</td> \n",
       "        <td id=\"T_06f648c6_e922_11e8_8a6f_f01898076315row0_col3\" class=\"data row0 col3\" >https://www.airbnb.com/rooms/18692272?location=Colleyville%2C%20TX</td> \n",
       "    </tr></tbody> \n",
       "</table> "
      ],
      "text/plain": [
       "<pandas.io.formats.style.Styler at 0x1a14ae0da0>"
      ]
     },
     "metadata": {},
     "output_type": "display_data"
    },
    {
     "data": {
      "text/html": [
       "<style  type=\"text/css\" >\n",
       "</style>  \n",
       "<table id=\"T_06f70c82_e922_11e8_8ac0_f01898076315\" > \n",
       "<thead>    <tr> \n",
       "        <th class=\"blank level0\" ></th> \n",
       "        <th class=\"col_heading level0 col0\" >title</th> \n",
       "        <th class=\"col_heading level0 col1\" >description</th> \n",
       "        <th class=\"col_heading level0 col2\" >city</th> \n",
       "        <th class=\"col_heading level0 col3\" >url</th> \n",
       "    </tr></thead> \n",
       "<tbody>    <tr> \n",
       "        <th id=\"T_06f70c82_e922_11e8_8ac0_f01898076315level0_row0\" class=\"row_heading level0 row0\" >0</th> \n",
       "        <td id=\"T_06f70c82_e922_11e8_8ac0_f01898076315row0_col0\" class=\"data row0 col0\" >Family Home near Austin Airport</td> \n",
       "        <td id=\"T_06f70c82_e922_11e8_8ac0_f01898076315row0_col1\" class=\"data row0 col1\" >Spacious home with wood floors, and fire place. Kitchen has full available appliances and living area has recliner, LED TV, local channels, &amp; Wifi all over the house. Master bedroom has King size bed, double sink, separate shower and a garden tub.</td> \n",
       "        <td id=\"T_06f70c82_e922_11e8_8ac0_f01898076315row0_col2\" class=\"data row0 col2\" >Austin</td> \n",
       "        <td id=\"T_06f70c82_e922_11e8_8ac0_f01898076315row0_col3\" class=\"data row0 col3\" >https://www.airbnb.com/rooms/8191636?location=Bastrop%20County%2C%20TX</td> \n",
       "    </tr></tbody> \n",
       "</table> "
      ],
      "text/plain": [
       "<pandas.io.formats.style.Styler at 0x1a14ae0828>"
      ]
     },
     "metadata": {},
     "output_type": "display_data"
    },
    {
     "data": {
      "text/html": [
       "<style  type=\"text/css\" >\n",
       "</style>  \n",
       "<table id=\"T_06f7cc1c_e922_11e8_b297_f01898076315\" > \n",
       "<thead>    <tr> \n",
       "        <th class=\"blank level0\" ></th> \n",
       "        <th class=\"col_heading level0 col0\" >title</th> \n",
       "        <th class=\"col_heading level0 col1\" >description</th> \n",
       "        <th class=\"col_heading level0 col2\" >city</th> \n",
       "        <th class=\"col_heading level0 col3\" >url</th> \n",
       "    </tr></thead> \n",
       "<tbody>    <tr> \n",
       "        <th id=\"T_06f7cc1c_e922_11e8_b297_f01898076315level0_row0\" class=\"row_heading level0 row0\" >0</th> \n",
       "        <td id=\"T_06f7cc1c_e922_11e8_b297_f01898076315row0_col0\" class=\"data row0 col0\" >Cozy Apartment near DFW Airport</td> \n",
       "        <td id=\"T_06f7cc1c_e922_11e8_b297_f01898076315row0_col1\" class=\"data row0 col1\" >Hi! Our place is located in Lewisville, TX (about 15 minutes from DFW airport). There are plenty of places to eat and shop nearby!</td> \n",
       "        <td id=\"T_06f7cc1c_e922_11e8_b297_f01898076315row0_col2\" class=\"data row0 col2\" >Lewisville</td> \n",
       "        <td id=\"T_06f7cc1c_e922_11e8_b297_f01898076315row0_col3\" class=\"data row0 col3\" >https://www.airbnb.com/rooms/16216064?location=Colleyville%2C%20TX</td> \n",
       "    </tr></tbody> \n",
       "</table> "
      ],
      "text/plain": [
       "<pandas.io.formats.style.Styler at 0x1a14ae04a8>"
      ]
     },
     "metadata": {},
     "output_type": "display_data"
    },
    {
     "data": {
      "text/html": [
       "<style  type=\"text/css\" >\n",
       "</style>  \n",
       "<table id=\"T_06f88c06_e922_11e8_aaff_f01898076315\" > \n",
       "<thead>    <tr> \n",
       "        <th class=\"blank level0\" ></th> \n",
       "        <th class=\"col_heading level0 col0\" >title</th> \n",
       "        <th class=\"col_heading level0 col1\" >description</th> \n",
       "        <th class=\"col_heading level0 col2\" >city</th> \n",
       "        <th class=\"col_heading level0 col3\" >url</th> \n",
       "    </tr></thead> \n",
       "<tbody>    <tr> \n",
       "        <th id=\"T_06f88c06_e922_11e8_aaff_f01898076315level0_row0\" class=\"row_heading level0 row0\" >0</th> \n",
       "        <td id=\"T_06f88c06_e922_11e8_aaff_f01898076315row0_col0\" class=\"data row0 col0\" >Arlington Condo</td> \n",
       "        <td id=\"T_06f88c06_e922_11e8_aaff_f01898076315row0_col1\" class=\"data row0 col1\" >My condo is located close to the Cowboys Stadium (AT&amp;T stadium) , Texas Rangers Ballpark Stadium, Six Flags over Texas and Hurricane Harbor. All within 1-2 mile distance, about a $7-$10 Uber ride. Plenty of food options near by, as well as Whole Foods and Walmart around the corner. DFW Airport is roughly about a 15-18min drive.</td> \n",
       "        <td id=\"T_06f88c06_e922_11e8_aaff_f01898076315row0_col2\" class=\"data row0 col2\" >Arlington</td> \n",
       "        <td id=\"T_06f88c06_e922_11e8_aaff_f01898076315row0_col3\" class=\"data row0 col3\" >https://www.airbnb.com/rooms/16693032?location=Cedar%20Hill%2C%20TX</td> \n",
       "    </tr></tbody> \n",
       "</table> "
      ],
      "text/plain": [
       "<pandas.io.formats.style.Styler at 0x1a14ae0ba8>"
      ]
     },
     "metadata": {},
     "output_type": "display_data"
    },
    {
     "data": {
      "text/html": [
       "<style  type=\"text/css\" >\n",
       "</style>  \n",
       "<table id=\"T_06f93c0a_e922_11e8_9ed7_f01898076315\" > \n",
       "<thead>    <tr> \n",
       "        <th class=\"blank level0\" ></th> \n",
       "        <th class=\"col_heading level0 col0\" >title</th> \n",
       "        <th class=\"col_heading level0 col1\" >description</th> \n",
       "        <th class=\"col_heading level0 col2\" >city</th> \n",
       "        <th class=\"col_heading level0 col3\" >url</th> \n",
       "    </tr></thead> \n",
       "<tbody>    <tr> \n",
       "        <th id=\"T_06f93c0a_e922_11e8_9ed7_f01898076315level0_row0\" class=\"row_heading level0 row0\" >0</th> \n",
       "        <td id=\"T_06f93c0a_e922_11e8_9ed7_f01898076315row0_col0\" class=\"data row0 col0\" >Beautiful Home Near I-45 and Bush Airport (IAH)</td> \n",
       "        <td id=\"T_06f93c0a_e922_11e8_9ed7_f01898076315row0_col1\" class=\"data row0 col1\" >My place is close to the airport and major freeway. YouÃ¢ÂÂll love my place because of the outdoors space, the neighborhood, and spacious. My place is good for couples, business travelers, families (with kids), and big groups.\\nHouse is close to the IAH airport, FM 1960, Woodlands and I-45 Freeway. Home has 2 king beds, 1 queen, 2 twins and an air mattress (twin size) for your family/group to sleep comfortably.</td> \n",
       "        <td id=\"T_06f93c0a_e922_11e8_9ed7_f01898076315row0_col2\" class=\"data row0 col2\" >Spring</td> \n",
       "        <td id=\"T_06f93c0a_e922_11e8_9ed7_f01898076315row0_col3\" class=\"data row0 col3\" >https://www.airbnb.com/rooms/19018862?location=Conroe%2C%20TX</td> \n",
       "    </tr></tbody> \n",
       "</table> "
      ],
      "text/plain": [
       "<pandas.io.formats.style.Styler at 0x1a14a8e780>"
      ]
     },
     "metadata": {},
     "output_type": "display_data"
    },
    {
     "data": {
      "text/html": [
       "<style  type=\"text/css\" >\n",
       "</style>  \n",
       "<table id=\"T_06fa2264_e922_11e8_95f7_f01898076315\" > \n",
       "<thead>    <tr> \n",
       "        <th class=\"blank level0\" ></th> \n",
       "        <th class=\"col_heading level0 col0\" >title</th> \n",
       "        <th class=\"col_heading level0 col1\" >description</th> \n",
       "        <th class=\"col_heading level0 col2\" >city</th> \n",
       "        <th class=\"col_heading level0 col3\" >url</th> \n",
       "    </tr></thead> \n",
       "<tbody>    <tr> \n",
       "        <th id=\"T_06fa2264_e922_11e8_95f7_f01898076315level0_row0\" class=\"row_heading level0 row0\" >0</th> \n",
       "        <td id=\"T_06fa2264_e922_11e8_95f7_f01898076315row0_col0\" class=\"data row0 col0\" >Private Bed/ Full Bath - Addison TX</td> \n",
       "        <td id=\"T_06fa2264_e922_11e8_95f7_f01898076315row0_col1\" class=\"data row0 col1\" >Vibrant Nightlife and Restaurants of Addison TX. Near Addison airport. Well appointed room. Awesome couple. Prefer single business clients, or couples. Hosts can provide in town transportation, airport pickup/ drop off, licensed personal protective, investigative and security services. Last minute, no problem.</td> \n",
       "        <td id=\"T_06fa2264_e922_11e8_95f7_f01898076315row0_col2\" class=\"data row0 col2\" >Dallas</td> \n",
       "        <td id=\"T_06fa2264_e922_11e8_95f7_f01898076315row0_col3\" class=\"data row0 col3\" >https://www.airbnb.com/rooms/10879401?location=Addison%2C%20TX</td> \n",
       "    </tr></tbody> \n",
       "</table> "
      ],
      "text/plain": [
       "<pandas.io.formats.style.Styler at 0x1a14b5c048>"
      ]
     },
     "metadata": {},
     "output_type": "display_data"
    },
    {
     "data": {
      "text/html": [
       "<style  type=\"text/css\" >\n",
       "</style>  \n",
       "<table id=\"T_06faefb4_e922_11e8_a3af_f01898076315\" > \n",
       "<thead>    <tr> \n",
       "        <th class=\"blank level0\" ></th> \n",
       "        <th class=\"col_heading level0 col0\" >title</th> \n",
       "        <th class=\"col_heading level0 col1\" >description</th> \n",
       "        <th class=\"col_heading level0 col2\" >city</th> \n",
       "        <th class=\"col_heading level0 col3\" >url</th> \n",
       "    </tr></thead> \n",
       "<tbody>    <tr> \n",
       "        <th id=\"T_06faefb4_e922_11e8_a3af_f01898076315level0_row0\" class=\"row_heading level0 row0\" >0</th> \n",
       "        <td id=\"T_06faefb4_e922_11e8_a3af_f01898076315row0_col0\" class=\"data row0 col0\" >Copper Cabin</td> \n",
       "        <td id=\"T_06faefb4_e922_11e8_a3af_f01898076315row0_col1\" class=\"data row0 col1\" >Copper Cabin is a relaxing get away destination located 10 miles from the Abilene Airport and the Taylor County Expo Center off highway 36. Large front and back porches welcome you to all the comforts of home away from home. Wedding venues located near the Cabin include: The Grove, Denton Valley Farms, Staple 6, Tangled Hearts and Meadows at Creative. Denton Valley Backyard Restaurant is open Thursday thru Saturday evenings and Sunday for lunch. (Menu can be viewed on their page.)</td> \n",
       "        <td id=\"T_06faefb4_e922_11e8_a3af_f01898076315row0_col2\" class=\"data row0 col2\" >Abilene</td> \n",
       "        <td id=\"T_06faefb4_e922_11e8_a3af_f01898076315row0_col3\" class=\"data row0 col3\" >https://www.airbnb.com/rooms/17773872?location=Abilene%2C%20TX</td> \n",
       "    </tr></tbody> \n",
       "</table> "
      ],
      "text/plain": [
       "<pandas.io.formats.style.Styler at 0x1a14b484a8>"
      ]
     },
     "metadata": {},
     "output_type": "display_data"
    },
    {
     "data": {
      "text/html": [
       "<style  type=\"text/css\" >\n",
       "</style>  \n",
       "<table id=\"T_06fb99c8_e922_11e8_afde_f01898076315\" > \n",
       "<thead>    <tr> \n",
       "        <th class=\"blank level0\" ></th> \n",
       "        <th class=\"col_heading level0 col0\" >title</th> \n",
       "        <th class=\"col_heading level0 col1\" >description</th> \n",
       "        <th class=\"col_heading level0 col2\" >city</th> \n",
       "        <th class=\"col_heading level0 col3\" >url</th> \n",
       "    </tr></thead> \n",
       "<tbody>    <tr> \n",
       "        <th id=\"T_06fb99c8_e922_11e8_afde_f01898076315level0_row0\" class=\"row_heading level0 row0\" >0</th> \n",
       "        <td id=\"T_06fb99c8_e922_11e8_afde_f01898076315row0_col0\" class=\"data row0 col0\" >Arlington Apartment near Cowboys Stadium</td> \n",
       "        <td id=\"T_06fb99c8_e922_11e8_afde_f01898076315row0_col1\" class=\"data row0 col1\" >My place is close to AT&amp;T Stadium, Texas Rangers Stadium, Six-Flags, DFW Airport, Love Field Airport, The Highlands Shopping Mall.. YouÃ¢ÂÂll love my place because it is situated between Dallas and Ft Worth, is very clean and cozy, and you will have it all to yourself. My place is good for couples, solo adventurers, and business travelers.</td> \n",
       "        <td id=\"T_06fb99c8_e922_11e8_afde_f01898076315row0_col2\" class=\"data row0 col2\" >Arlington</td> \n",
       "        <td id=\"T_06fb99c8_e922_11e8_afde_f01898076315row0_col3\" class=\"data row0 col3\" >https://www.airbnb.com/rooms/13397017?location=Arlington%2C%20TX</td> \n",
       "    </tr></tbody> \n",
       "</table> "
      ],
      "text/plain": [
       "<pandas.io.formats.style.Styler at 0x1a14ae0940>"
      ]
     },
     "metadata": {},
     "output_type": "display_data"
    },
    {
     "data": {
      "text/html": [
       "<style  type=\"text/css\" >\n",
       "</style>  \n",
       "<table id=\"T_06fc6a9c_e922_11e8_aa44_f01898076315\" > \n",
       "<thead>    <tr> \n",
       "        <th class=\"blank level0\" ></th> \n",
       "        <th class=\"col_heading level0 col0\" >title</th> \n",
       "        <th class=\"col_heading level0 col1\" >description</th> \n",
       "        <th class=\"col_heading level0 col2\" >city</th> \n",
       "        <th class=\"col_heading level0 col3\" >url</th> \n",
       "    </tr></thead> \n",
       "<tbody>    <tr> \n",
       "        <th id=\"T_06fc6a9c_e922_11e8_aa44_f01898076315level0_row0\" class=\"row_heading level0 row0\" >0</th> \n",
       "        <td id=\"T_06fc6a9c_e922_11e8_aa44_f01898076315row0_col0\" class=\"data row0 col0\" >Clean Bedroom and Bath Near Austin City Limit</td> \n",
       "        <td id=\"T_06fc6a9c_e922_11e8_aa44_f01898076315row0_col1\" class=\"data row0 col1\" >Private bedroom upstairs in our new house. The room features a queen sized bed and a twin sized bed, TV with Netflix, a desk and a full bathroom. There is also a mini fridge, microwave and a water cooler in the room for your private use.\\n\\nOur house is in the city of Manor, just outside of the Austin City Limits. We are a 15-20 minute drive to any part of Austin (downtown, airport, COTA, Round Rock, etc.) with easy access to downtown via the 290. We live in a very safe and quiet neighborhood.</td> \n",
       "        <td id=\"T_06fc6a9c_e922_11e8_aa44_f01898076315row0_col2\" class=\"data row0 col2\" >Manor</td> \n",
       "        <td id=\"T_06fc6a9c_e922_11e8_aa44_f01898076315row0_col3\" class=\"data row0 col3\" >https://www.airbnb.com/rooms/6747542?location=Coupland%2C%20TX</td> \n",
       "    </tr></tbody> \n",
       "</table> "
      ],
      "text/plain": [
       "<pandas.io.formats.style.Styler at 0x1a14ae0a58>"
      ]
     },
     "metadata": {},
     "output_type": "display_data"
    },
    {
     "data": {
      "text/html": [
       "<style  type=\"text/css\" >\n",
       "</style>  \n",
       "<table id=\"T_06fd3a4c_e922_11e8_941a_f01898076315\" > \n",
       "<thead>    <tr> \n",
       "        <th class=\"blank level0\" ></th> \n",
       "        <th class=\"col_heading level0 col0\" >title</th> \n",
       "        <th class=\"col_heading level0 col1\" >description</th> \n",
       "        <th class=\"col_heading level0 col2\" >city</th> \n",
       "        <th class=\"col_heading level0 col3\" >url</th> \n",
       "    </tr></thead> \n",
       "<tbody>    <tr> \n",
       "        <th id=\"T_06fd3a4c_e922_11e8_941a_f01898076315level0_row0\" class=\"row_heading level0 row0\" >0</th> \n",
       "        <td id=\"T_06fd3a4c_e922_11e8_941a_f01898076315row0_col0\" class=\"data row0 col0\" >Quiet guest room with queen bed</td> \n",
       "        <td id=\"T_06fd3a4c_e922_11e8_941a_f01898076315row0_col1\" class=\"data row0 col1\" >1 bedroom with Queen bed and 42Ã¢ÂÂ TV. Shared bathroom, and kitchen. *Minutes away from San Antonio International Airport. *10 minutes away from The Alamo, and downtown. *5 minutes away from North Star Mall. *8 minutes away from IH 35N. Quiet hours start at 10pm till 5am. Walking distance from convenience stores, CVS, Walmart. Plenty of great restaurants near by. Check in at 11:30 am and check out at 11:00 a.m. p.m.No smoking or drugs allowed.</td> \n",
       "        <td id=\"T_06fd3a4c_e922_11e8_941a_f01898076315row0_col2\" class=\"data row0 col2\" >San Antonio</td> \n",
       "        <td id=\"T_06fd3a4c_e922_11e8_941a_f01898076315row0_col3\" class=\"data row0 col3\" >https://www.airbnb.com/rooms/17609396?location=Cibolo%2C%20TX</td> \n",
       "    </tr></tbody> \n",
       "</table> "
      ],
      "text/plain": [
       "<pandas.io.formats.style.Styler at 0x1a14ae00b8>"
      ]
     },
     "metadata": {},
     "output_type": "display_data"
    },
    {
     "data": {
      "text/html": [
       "<style  type=\"text/css\" >\n",
       "</style>  \n",
       "<table id=\"T_06fe1914_e922_11e8_83cf_f01898076315\" > \n",
       "<thead>    <tr> \n",
       "        <th class=\"blank level0\" ></th> \n",
       "        <th class=\"col_heading level0 col0\" >title</th> \n",
       "        <th class=\"col_heading level0 col1\" >description</th> \n",
       "        <th class=\"col_heading level0 col2\" >city</th> \n",
       "        <th class=\"col_heading level0 col3\" >url</th> \n",
       "    </tr></thead> \n",
       "<tbody>    <tr> \n",
       "        <th id=\"T_06fe1914_e922_11e8_83cf_f01898076315level0_row0\" class=\"row_heading level0 row0\" >0</th> \n",
       "        <td id=\"T_06fe1914_e922_11e8_83cf_f01898076315row0_col0\" class=\"data row0 col0\" >New Home in Las Colinas near Both Airports</td> \n",
       "        <td id=\"T_06fe1914_e922_11e8_83cf_f01898076315row0_col1\" class=\"data row0 col1\" >My place is less than 10-15 minutes from both major airports. It's also in Las Colinas, about 10 minutes from top-notch restaurants and country clubs and other venues. YouÃ¢ÂÂll love my place because it's a brand new home, the bed is comfy, the living room is cozy, and the kitchen is user-friendly. My place is good for solo adventurers and business travelers.</td> \n",
       "        <td id=\"T_06fe1914_e922_11e8_83cf_f01898076315row0_col2\" class=\"data row0 col2\" >Irving</td> \n",
       "        <td id=\"T_06fe1914_e922_11e8_83cf_f01898076315row0_col3\" class=\"data row0 col3\" >https://www.airbnb.com/rooms/13277869?location=Colleyville%2C%20TX</td> \n",
       "    </tr></tbody> \n",
       "</table> "
      ],
      "text/plain": [
       "<pandas.io.formats.style.Styler at 0x1a14ae0ac8>"
      ]
     },
     "metadata": {},
     "output_type": "display_data"
    },
    {
     "data": {
      "text/html": [
       "<style  type=\"text/css\" >\n",
       "</style>  \n",
       "<table id=\"T_06feeacc_e922_11e8_aec6_f01898076315\" > \n",
       "<thead>    <tr> \n",
       "        <th class=\"blank level0\" ></th> \n",
       "        <th class=\"col_heading level0 col0\" >title</th> \n",
       "        <th class=\"col_heading level0 col1\" >description</th> \n",
       "        <th class=\"col_heading level0 col2\" >city</th> \n",
       "        <th class=\"col_heading level0 col3\" >url</th> \n",
       "    </tr></thead> \n",
       "<tbody>    <tr> \n",
       "        <th id=\"T_06feeacc_e922_11e8_aec6_f01898076315level0_row0\" class=\"row_heading level0 row0\" >0</th> \n",
       "        <td id=\"T_06feeacc_e922_11e8_aec6_f01898076315row0_col0\" class=\"data row0 col0\" >Copper Cabin</td> \n",
       "        <td id=\"T_06feeacc_e922_11e8_aec6_f01898076315row0_col1\" class=\"data row0 col1\" >Copper Cabin is a relaxing get away destination located 10 miles from the Abilene Airport and the Taylor County Expo Center off highway 36. Large front and back porches welcome you to all the comforts of home away from home. Wedding venues located near the Cabin include: The Grove, Denton Valley Farms, Staple 6, Tangled Hearts and Meadows at Creative. Denton Valley Backyard Restaurant is open Thursday thru Saturday evenings and Sunday for lunch. (Menu can be viewed on their page.)</td> \n",
       "        <td id=\"T_06feeacc_e922_11e8_aec6_f01898076315row0_col2\" class=\"data row0 col2\" >Abilene</td> \n",
       "        <td id=\"T_06feeacc_e922_11e8_aec6_f01898076315row0_col3\" class=\"data row0 col3\" >https://www.airbnb.com/rooms/17773872?location=Cisco%2C%20TX</td> \n",
       "    </tr></tbody> \n",
       "</table> "
      ],
      "text/plain": [
       "<pandas.io.formats.style.Styler at 0x1a14b4e048>"
      ]
     },
     "metadata": {},
     "output_type": "display_data"
    },
    {
     "data": {
      "text/html": [
       "<style  type=\"text/css\" >\n",
       "</style>  \n",
       "<table id=\"T_06ffa900_e922_11e8_99f5_f01898076315\" > \n",
       "<thead>    <tr> \n",
       "        <th class=\"blank level0\" ></th> \n",
       "        <th class=\"col_heading level0 col0\" >title</th> \n",
       "        <th class=\"col_heading level0 col1\" >description</th> \n",
       "        <th class=\"col_heading level0 col2\" >city</th> \n",
       "        <th class=\"col_heading level0 col3\" >url</th> \n",
       "    </tr></thead> \n",
       "<tbody>    <tr> \n",
       "        <th id=\"T_06ffa900_e922_11e8_99f5_f01898076315level0_row0\" class=\"row_heading level0 row0\" >0</th> \n",
       "        <td id=\"T_06ffa900_e922_11e8_99f5_f01898076315row0_col0\" class=\"data row0 col0\" >Designed to Relax + PACKAGE DEAL</td> \n",
       "        <td id=\"T_06ffa900_e922_11e8_99f5_f01898076315row0_col1\" class=\"data row0 col1\" >Escape to where comfort meets convenience. Centrally located near shopping &amp; restaurants. Only 7 miles to downtown. Fresh 1 bdrm / 1 bath condo style flat, with full kitchen, living and bedroom areas, along with a beautiful pool. Access to public transportation. Easy commute to airport. Don't have the dates you need? Check out our other listing here: https://www.airbnb.com/rooms/15043275 Ask about our PACKAGE DEAL!</td> \n",
       "        <td id=\"T_06ffa900_e922_11e8_99f5_f01898076315row0_col2\" class=\"data row0 col2\" >Dallas</td> \n",
       "        <td id=\"T_06ffa900_e922_11e8_99f5_f01898076315row0_col3\" class=\"data row0 col3\" >https://www.airbnb.com/rooms/17142583?location=Arlington%2C%20TX</td> \n",
       "    </tr></tbody> \n",
       "</table> "
      ],
      "text/plain": [
       "<pandas.io.formats.style.Styler at 0x1a14b5c668>"
      ]
     },
     "metadata": {},
     "output_type": "display_data"
    },
    {
     "data": {
      "text/html": [
       "<style  type=\"text/css\" >\n",
       "</style>  \n",
       "<table id=\"T_0700f170_e922_11e8_964c_f01898076315\" > \n",
       "<thead>    <tr> \n",
       "        <th class=\"blank level0\" ></th> \n",
       "        <th class=\"col_heading level0 col0\" >title</th> \n",
       "        <th class=\"col_heading level0 col1\" >description</th> \n",
       "        <th class=\"col_heading level0 col2\" >city</th> \n",
       "        <th class=\"col_heading level0 col3\" >url</th> \n",
       "    </tr></thead> \n",
       "<tbody>    <tr> \n",
       "        <th id=\"T_0700f170_e922_11e8_964c_f01898076315level0_row0\" class=\"row_heading level0 row0\" >0</th> \n",
       "        <td id=\"T_0700f170_e922_11e8_964c_f01898076315row0_col0\" class=\"data row0 col0\" >Private Room Near Airports</td> \n",
       "        <td id=\"T_0700f170_e922_11e8_964c_f01898076315row0_col1\" class=\"data row0 col1\" >One of three private rooms in a two story home located in a nice and quiet neighborhood. Close to major highways. Easy access to entire Dallas/Fort Worth area. Very close to DFW airport and not far from Love Field Airport either. Walking distance to a park, a movie theater, many shopping venues (including grocery store and department store) and many restaurants (0.5-1.0 mile). The house is bright and airy with high ceiling. Good Wi-Fi connection. Full kitchen/laundry room access .</td> \n",
       "        <td id=\"T_0700f170_e922_11e8_964c_f01898076315row0_col2\" class=\"data row0 col2\" >Irving</td> \n",
       "        <td id=\"T_0700f170_e922_11e8_964c_f01898076315row0_col3\" class=\"data row0 col3\" >https://www.airbnb.com/rooms/13604316?location=Coppell%2C%20TX</td> \n",
       "    </tr></tbody> \n",
       "</table> "
      ],
      "text/plain": [
       "<pandas.io.formats.style.Styler at 0x1a14b6c2e8>"
      ]
     },
     "metadata": {},
     "output_type": "display_data"
    },
    {
     "data": {
      "text/html": [
       "<style  type=\"text/css\" >\n",
       "</style>  \n",
       "<table id=\"T_0701dfc2_e922_11e8_82c5_f01898076315\" > \n",
       "<thead>    <tr> \n",
       "        <th class=\"blank level0\" ></th> \n",
       "        <th class=\"col_heading level0 col0\" >title</th> \n",
       "        <th class=\"col_heading level0 col1\" >description</th> \n",
       "        <th class=\"col_heading level0 col2\" >city</th> \n",
       "        <th class=\"col_heading level0 col3\" >url</th> \n",
       "    </tr></thead> \n",
       "<tbody>    <tr> \n",
       "        <th id=\"T_0701dfc2_e922_11e8_82c5_f01898076315level0_row0\" class=\"row_heading level0 row0\" >0</th> \n",
       "        <td id=\"T_0701dfc2_e922_11e8_82c5_f01898076315row0_col0\" class=\"data row0 col0\" >Cozy urban aprtmt</td> \n",
       "        <td id=\"T_0701dfc2_e922_11e8_82c5_f01898076315row0_col1\" class=\"data row0 col1\" >Cute Carriage apartment: close to SA activities, nightlife, the airport, and public transport. It is in a good neighborhood, and is very cozy. Apartment is good for couples, solo adventurers, and business travelers.\\nThe Pearl is a few blocks away with nightlife, bars, restaurants and scenic access to the River Walk North Extension. Zoo and Brackenridge park are near by. Bike rentals are located near by at the Children's Museum or The Pearl</td> \n",
       "        <td id=\"T_0701dfc2_e922_11e8_82c5_f01898076315row0_col2\" class=\"data row0 col2\" >San Antonio</td> \n",
       "        <td id=\"T_0701dfc2_e922_11e8_82c5_f01898076315row0_col3\" class=\"data row0 col3\" >https://www.airbnb.com/rooms/15827256?location=Alamo%20Heights%2C%20TX</td> \n",
       "    </tr></tbody> \n",
       "</table> "
      ],
      "text/plain": [
       "<pandas.io.formats.style.Styler at 0x1a14b4e048>"
      ]
     },
     "metadata": {},
     "output_type": "display_data"
    },
    {
     "data": {
      "text/html": [
       "<style  type=\"text/css\" >\n",
       "</style>  \n",
       "<table id=\"T_0702a66e_e922_11e8_952a_f01898076315\" > \n",
       "<thead>    <tr> \n",
       "        <th class=\"blank level0\" ></th> \n",
       "        <th class=\"col_heading level0 col0\" >title</th> \n",
       "        <th class=\"col_heading level0 col1\" >description</th> \n",
       "        <th class=\"col_heading level0 col2\" >city</th> \n",
       "        <th class=\"col_heading level0 col3\" >url</th> \n",
       "    </tr></thead> \n",
       "<tbody>    <tr> \n",
       "        <th id=\"T_0702a66e_e922_11e8_952a_f01898076315level0_row0\" class=\"row_heading level0 row0\" >0</th> \n",
       "        <td id=\"T_0702a66e_e922_11e8_952a_f01898076315row0_col0\" class=\"data row0 col0\" >Cozy Home like Studio Apartment Near DFW Airport</td> \n",
       "        <td id=\"T_0702a66e_e922_11e8_952a_f01898076315row0_col1\" class=\"data row0 col1\" >A very cozy, small studio apartment. More images of the space will be made available tonight. Just a Heads up There is no shower! only a men and women's restroom.</td> \n",
       "        <td id=\"T_0702a66e_e922_11e8_952a_f01898076315row0_col2\" class=\"data row0 col2\" >Irving</td> \n",
       "        <td id=\"T_0702a66e_e922_11e8_952a_f01898076315row0_col3\" class=\"data row0 col3\" >https://www.airbnb.com/rooms/16275996?location=Cedar%20Hill%2C%20TX</td> \n",
       "    </tr></tbody> \n",
       "</table> "
      ],
      "text/plain": [
       "<pandas.io.formats.style.Styler at 0x1a14ae0ac8>"
      ]
     },
     "metadata": {},
     "output_type": "display_data"
    },
    {
     "data": {
      "text/html": [
       "<style  type=\"text/css\" >\n",
       "</style>  \n",
       "<table id=\"T_070376ca_e922_11e8_9bb9_f01898076315\" > \n",
       "<thead>    <tr> \n",
       "        <th class=\"blank level0\" ></th> \n",
       "        <th class=\"col_heading level0 col0\" >title</th> \n",
       "        <th class=\"col_heading level0 col1\" >description</th> \n",
       "        <th class=\"col_heading level0 col2\" >city</th> \n",
       "        <th class=\"col_heading level0 col3\" >url</th> \n",
       "    </tr></thead> \n",
       "<tbody>    <tr> \n",
       "        <th id=\"T_070376ca_e922_11e8_9bb9_f01898076315level0_row0\" class=\"row_heading level0 row0\" >0</th> \n",
       "        <td id=\"T_070376ca_e922_11e8_9bb9_f01898076315row0_col0\" class=\"data row0 col0\" >2nd Floor Oasis near DFW airport</td> \n",
       "        <td id=\"T_070376ca_e922_11e8_9bb9_f01898076315row0_col1\" class=\"data row0 col1\" >Carrington Village is a neighborhood with attractive homes in the heart of the DFW Metroplex, close to both Dallas and Fort Worth. The bedroom/bath/lounge room is spacious, quiet, private, and inviting. Close to restaurants - summer pool access.</td> \n",
       "        <td id=\"T_070376ca_e922_11e8_9bb9_f01898076315row0_col2\" class=\"data row0 col2\" >Lewisville</td> \n",
       "        <td id=\"T_070376ca_e922_11e8_9bb9_f01898076315row0_col3\" class=\"data row0 col3\" >https://www.airbnb.com/rooms/12339324?location=Coppell%2C%20TX</td> \n",
       "    </tr></tbody> \n",
       "</table> "
      ],
      "text/plain": [
       "<pandas.io.formats.style.Styler at 0x1a14ae05f8>"
      ]
     },
     "metadata": {},
     "output_type": "display_data"
    },
    {
     "data": {
      "text/html": [
       "<style  type=\"text/css\" >\n",
       "</style>  \n",
       "<table id=\"T_07044564_e922_11e8_bc54_f01898076315\" > \n",
       "<thead>    <tr> \n",
       "        <th class=\"blank level0\" ></th> \n",
       "        <th class=\"col_heading level0 col0\" >title</th> \n",
       "        <th class=\"col_heading level0 col1\" >description</th> \n",
       "        <th class=\"col_heading level0 col2\" >city</th> \n",
       "        <th class=\"col_heading level0 col3\" >url</th> \n",
       "    </tr></thead> \n",
       "<tbody>    <tr> \n",
       "        <th id=\"T_07044564_e922_11e8_bc54_f01898076315level0_row0\" class=\"row_heading level0 row0\" >0</th> \n",
       "        <td id=\"T_07044564_e922_11e8_bc54_f01898076315row0_col0\" class=\"data row0 col0\" >Clear Lake Bedroom with private bathroom</td> \n",
       "        <td id=\"T_07044564_e922_11e8_bc54_f01898076315row0_col1\" class=\"data row0 col1\" >My place is in a quiet neighborhood and close to several good restaurants , coffee shops, places to go, and things to do or see. We are located near NASA Space Center, University of Houston, Clear Lake, Kemah Boardwalk, Armand Bayou nature center, Hobby airport and Baybrook Mall. \\nDowntown Houston, NRG Stadium and Minute Maid Park are an easy 20 Ã¢ÂÂ 30 minute drive north of our house. Galveston Island is also less than an hour away.</td> \n",
       "        <td id=\"T_07044564_e922_11e8_bc54_f01898076315row0_col2\" class=\"data row0 col2\" >Houston</td> \n",
       "        <td id=\"T_07044564_e922_11e8_bc54_f01898076315row0_col3\" class=\"data row0 col3\" >https://www.airbnb.com/rooms/17996995?location=Beach%20City%2C%20TX</td> \n",
       "    </tr></tbody> \n",
       "</table> "
      ],
      "text/plain": [
       "<pandas.io.formats.style.Styler at 0x1a14ae0ba8>"
      ]
     },
     "metadata": {},
     "output_type": "display_data"
    },
    {
     "data": {
      "text/html": [
       "<style  type=\"text/css\" >\n",
       "</style>  \n",
       "<table id=\"T_07050a4c_e922_11e8_9906_f01898076315\" > \n",
       "<thead>    <tr> \n",
       "        <th class=\"blank level0\" ></th> \n",
       "        <th class=\"col_heading level0 col0\" >title</th> \n",
       "        <th class=\"col_heading level0 col1\" >description</th> \n",
       "        <th class=\"col_heading level0 col2\" >city</th> \n",
       "        <th class=\"col_heading level0 col3\" >url</th> \n",
       "    </tr></thead> \n",
       "<tbody>    <tr> \n",
       "        <th id=\"T_07050a4c_e922_11e8_9906_f01898076315level0_row0\" class=\"row_heading level0 row0\" >0</th> \n",
       "        <td id=\"T_07050a4c_e922_11e8_9906_f01898076315row0_col0\" class=\"data row0 col0\" >Home near Galveston Beach and other attractions</td> \n",
       "        <td id=\"T_07050a4c_e922_11e8_9906_f01898076315row0_col1\" class=\"data row0 col1\" >Nice 4 Bedroom 2 Bath home in a great location close to freeways. \\n5 min to Tanger Outlet Mall\\n15 min from Galveston Beach/Schlitterbahn/Moody Gardens / Texas City Dike\\n18 minutes to NASA\\n23 min Kema Boardwalk\\n35 min Houston Hobby Airport\\n50 min to Houston (Minute Maid Park, NRG Stadium, Zoo and Musems\\n60 min to George Bush Intercontinel Airport</td> \n",
       "        <td id=\"T_07050a4c_e922_11e8_9906_f01898076315row0_col2\" class=\"data row0 col2\" >Texas City</td> \n",
       "        <td id=\"T_07050a4c_e922_11e8_9906_f01898076315row0_col3\" class=\"data row0 col3\" >https://www.airbnb.com/rooms/18076465?location=Bayou%20Vista%2C%20TX</td> \n",
       "    </tr></tbody> \n",
       "</table> "
      ],
      "text/plain": [
       "<pandas.io.formats.style.Styler at 0x1a14ae0c88>"
      ]
     },
     "metadata": {},
     "output_type": "display_data"
    },
    {
     "data": {
      "text/html": [
       "<style  type=\"text/css\" >\n",
       "</style>  \n",
       "<table id=\"T_0705e7ca_e922_11e8_9b19_f01898076315\" > \n",
       "<thead>    <tr> \n",
       "        <th class=\"blank level0\" ></th> \n",
       "        <th class=\"col_heading level0 col0\" >title</th> \n",
       "        <th class=\"col_heading level0 col1\" >description</th> \n",
       "        <th class=\"col_heading level0 col2\" >city</th> \n",
       "        <th class=\"col_heading level0 col3\" >url</th> \n",
       "    </tr></thead> \n",
       "<tbody>    <tr> \n",
       "        <th id=\"T_0705e7ca_e922_11e8_9b19_f01898076315level0_row0\" class=\"row_heading level0 row0\" >0</th> \n",
       "        <td id=\"T_0705e7ca_e922_11e8_9b19_f01898076315row0_col0\" class=\"data row0 col0\" >Guest room near SMU/Downtown/DLA AP/Train Station</td> \n",
       "        <td id=\"T_0705e7ca_e922_11e8_9b19_f01898076315row0_col1\" class=\"data row0 col1\" >1 PRIVATE clean comfy bedroom with 1 queen bed. Share bathroom with a host. provide towels n soaps. Free Wi-Fi. 24 Hours Free Parking at Right Side of Bichbrook Dr. The house is near SMU &amp; Train Station LOVERS LANE walking distance is 10 min. Dallas Love Field airport is 15 min by car. DFW Airport can be there by train .Downtown/Uptown Dallas is 10 min by car/ 4 to 5 stops by train. A lot of Restaurants &amp; Bars at the Greenville Ave which one street away. The neighborhood is very quiet and safe.</td> \n",
       "        <td id=\"T_0705e7ca_e922_11e8_9b19_f01898076315row0_col2\" class=\"data row0 col2\" >Dallas</td> \n",
       "        <td id=\"T_0705e7ca_e922_11e8_9b19_f01898076315row0_col3\" class=\"data row0 col3\" >https://www.airbnb.com/rooms/16435144?location=Coppell%2C%20TX</td> \n",
       "    </tr></tbody> \n",
       "</table> "
      ],
      "text/plain": [
       "<pandas.io.formats.style.Styler at 0x1a14a8eac8>"
      ]
     },
     "metadata": {},
     "output_type": "display_data"
    },
    {
     "data": {
      "text/html": [
       "<style  type=\"text/css\" >\n",
       "</style>  \n",
       "<table id=\"T_0706f886_e922_11e8_87cd_f01898076315\" > \n",
       "<thead>    <tr> \n",
       "        <th class=\"blank level0\" ></th> \n",
       "        <th class=\"col_heading level0 col0\" >title</th> \n",
       "        <th class=\"col_heading level0 col1\" >description</th> \n",
       "        <th class=\"col_heading level0 col2\" >city</th> \n",
       "        <th class=\"col_heading level0 col3\" >url</th> \n",
       "    </tr></thead> \n",
       "<tbody>    <tr> \n",
       "        <th id=\"T_0706f886_e922_11e8_87cd_f01898076315level0_row0\" class=\"row_heading level0 row0\" >0</th> \n",
       "        <td id=\"T_0706f886_e922_11e8_87cd_f01898076315row0_col0\" class=\"data row0 col0\" >Authentic Country Setting near Austin TX</td> \n",
       "        <td id=\"T_0706f886_e922_11e8_87cd_f01898076315row0_col1\" class=\"data row0 col1\" >Our place is close to family-friendly activities, the city center, and the airport. A peaceful and comfortable place on a five acres green-land!\\nIf you like to unplug from the world but to be near the full action city of Austin, this is perfect! Relax &amp; Rejuvenate at home, but don't miss cool live music evenings Downtown Austin on 6th street! \\nFive mins drive from Ghost Town, Manor TX! Family-friendly venue featuring Old West storefronts, a maze &amp; games, and ten mins from Elgin Historic city!</td> \n",
       "        <td id=\"T_0706f886_e922_11e8_87cd_f01898076315row0_col2\" class=\"data row0 col2\" >Elgin</td> \n",
       "        <td id=\"T_0706f886_e922_11e8_87cd_f01898076315row0_col3\" class=\"data row0 col3\" >https://www.airbnb.com/rooms/16899052?location=Bastrop%20County%2C%20TX</td> \n",
       "    </tr></tbody> \n",
       "</table> "
      ],
      "text/plain": [
       "<pandas.io.formats.style.Styler at 0x1a14b6c400>"
      ]
     },
     "metadata": {},
     "output_type": "display_data"
    },
    {
     "data": {
      "text/html": [
       "<style  type=\"text/css\" >\n",
       "</style>  \n",
       "<table id=\"T_0707d67a_e922_11e8_8d73_f01898076315\" > \n",
       "<thead>    <tr> \n",
       "        <th class=\"blank level0\" ></th> \n",
       "        <th class=\"col_heading level0 col0\" >title</th> \n",
       "        <th class=\"col_heading level0 col1\" >description</th> \n",
       "        <th class=\"col_heading level0 col2\" >city</th> \n",
       "        <th class=\"col_heading level0 col3\" >url</th> \n",
       "    </tr></thead> \n",
       "<tbody>    <tr> \n",
       "        <th id=\"T_0707d67a_e922_11e8_8d73_f01898076315level0_row0\" class=\"row_heading level0 row0\" >0</th> \n",
       "        <td id=\"T_0707d67a_e922_11e8_8d73_f01898076315row0_col0\" class=\"data row0 col0\" >Vacation Home Away From Home close to Airport</td> \n",
       "        <td id=\"T_0707d67a_e922_11e8_8d73_f01898076315row0_col1\" class=\"data row0 col1\" >Hotel luxury with the comforts of home. Great location, near airport and easy to get to major highways, yet tucked away in a quiet and gated neighborhood. The house is next door to a wooded area of a city park and will likely see many deer. There is also a green belt behind the house where you will see deer also.</td> \n",
       "        <td id=\"T_0707d67a_e922_11e8_8d73_f01898076315row0_col2\" class=\"data row0 col2\" >San Antonio</td> \n",
       "        <td id=\"T_0707d67a_e922_11e8_8d73_f01898076315row0_col3\" class=\"data row0 col3\" >https://www.airbnb.com/rooms/18312783?location=Bulverde%2C%20TX</td> \n",
       "    </tr></tbody> \n",
       "</table> "
      ],
      "text/plain": [
       "<pandas.io.formats.style.Styler at 0x1a14b6c5f8>"
      ]
     },
     "metadata": {},
     "output_type": "display_data"
    },
    {
     "data": {
      "text/html": [
       "<style  type=\"text/css\" >\n",
       "</style>  \n",
       "<table id=\"T_070899ca_e922_11e8_82d2_f01898076315\" > \n",
       "<thead>    <tr> \n",
       "        <th class=\"blank level0\" ></th> \n",
       "        <th class=\"col_heading level0 col0\" >title</th> \n",
       "        <th class=\"col_heading level0 col1\" >description</th> \n",
       "        <th class=\"col_heading level0 col2\" >city</th> \n",
       "        <th class=\"col_heading level0 col3\" >url</th> \n",
       "    </tr></thead> \n",
       "<tbody>    <tr> \n",
       "        <th id=\"T_070899ca_e922_11e8_82d2_f01898076315level0_row0\" class=\"row_heading level0 row0\" >0</th> \n",
       "        <td id=\"T_070899ca_e922_11e8_82d2_f01898076315row0_col0\" class=\"data row0 col0\" >Peaceful & Private space in Quiet Neighborhood</td> \n",
       "        <td id=\"T_070899ca_e922_11e8_82d2_f01898076315row0_col1\" class=\"data row0 col1\" >Our place is in a quiet neighborhood and close to several good restaurants , coffee shops, places to go, and things to do or see. We are located near NASA Space Center, University of Houston, Clear Lake, Kemah Boardwalk, Armand Bayou nature center, Hobby airport and Baybrook Mall. \\nDowntown Houston, NRG Stadium and Minute Maid Park are an easy 20 Ã¢ÂÂ 30 minute drive north of our house. Galveston Island is also less than an hour away.</td> \n",
       "        <td id=\"T_070899ca_e922_11e8_82d2_f01898076315row0_col2\" class=\"data row0 col2\" >Houston</td> \n",
       "        <td id=\"T_070899ca_e922_11e8_82d2_f01898076315row0_col3\" class=\"data row0 col3\" >https://www.airbnb.com/rooms/18772365?location=Alvin%2C%20TX</td> \n",
       "    </tr></tbody> \n",
       "</table> "
      ],
      "text/plain": [
       "<pandas.io.formats.style.Styler at 0x1a14ae0940>"
      ]
     },
     "metadata": {},
     "output_type": "display_data"
    },
    {
     "data": {
      "text/html": [
       "<style  type=\"text/css\" >\n",
       "</style>  \n",
       "<table id=\"T_07097606_e922_11e8_98be_f01898076315\" > \n",
       "<thead>    <tr> \n",
       "        <th class=\"blank level0\" ></th> \n",
       "        <th class=\"col_heading level0 col0\" >title</th> \n",
       "        <th class=\"col_heading level0 col1\" >description</th> \n",
       "        <th class=\"col_heading level0 col2\" >city</th> \n",
       "        <th class=\"col_heading level0 col3\" >url</th> \n",
       "    </tr></thead> \n",
       "<tbody>    <tr> \n",
       "        <th id=\"T_07097606_e922_11e8_98be_f01898076315level0_row0\" class=\"row_heading level0 row0\" >0</th> \n",
       "        <td id=\"T_07097606_e922_11e8_98be_f01898076315row0_col0\" class=\"data row0 col0\" >Newly Renovated Home 7BR, 3BA!</td> \n",
       "        <td id=\"T_07097606_e922_11e8_98be_f01898076315row0_col1\" class=\"data row0 col1\" >Cozy 7 Bedroom, 3 Bath, Sleeps 17 with no bunkbeds, 3 Queen beds, 11 Single beds. Just north of Cowboy and Rangers Stadiums, Six Flags and Hurricane Harbor, 15 minutes to DFW. Shopping, restaurants, and entertainment all nearby.\\n\\nLarge 7 bedroom near entertainment, 15 mins from DFW airport, 2 miles to Dallas Cowboys, Texas Rangers, Six Flags, Hurricane Harbor and much more.\\n\\nThere are no bunk beds. \\n\\nIs a two story house.\\n\\nAll rooms but garage, all aspects of house ATT u-versed and wifi.\\n\\nNear sporting and entertainment venues as well as adjacent to Chester Ditto golf course.\\n\\nUber works best for short trips if you don't have a car.</td> \n",
       "        <td id=\"T_07097606_e922_11e8_98be_f01898076315row0_col2\" class=\"data row0 col2\" >Arlington</td> \n",
       "        <td id=\"T_07097606_e922_11e8_98be_f01898076315row0_col3\" class=\"data row0 col3\" >https://www.airbnb.com/rooms/16993985?location=Arlington%2C%20TX</td> \n",
       "    </tr></tbody> \n",
       "</table> "
      ],
      "text/plain": [
       "<pandas.io.formats.style.Styler at 0x1a14ae0f28>"
      ]
     },
     "metadata": {},
     "output_type": "display_data"
    },
    {
     "data": {
      "text/html": [
       "<style  type=\"text/css\" >\n",
       "</style>  \n",
       "<table id=\"T_070a3ff0_e922_11e8_8c53_f01898076315\" > \n",
       "<thead>    <tr> \n",
       "        <th class=\"blank level0\" ></th> \n",
       "        <th class=\"col_heading level0 col0\" >title</th> \n",
       "        <th class=\"col_heading level0 col1\" >description</th> \n",
       "        <th class=\"col_heading level0 col2\" >city</th> \n",
       "        <th class=\"col_heading level0 col3\" >url</th> \n",
       "    </tr></thead> \n",
       "<tbody>    <tr> \n",
       "        <th id=\"T_070a3ff0_e922_11e8_8c53_f01898076315level0_row0\" class=\"row_heading level0 row0\" >0</th> \n",
       "        <td id=\"T_070a3ff0_e922_11e8_8c53_f01898076315row0_col0\" class=\"data row0 col0\" >Private Room near DFW Airport next to scenic park</td> \n",
       "        <td id=\"T_070a3ff0_e922_11e8_8c53_f01898076315row0_col1\" class=\"data row0 col1\" >You will enjoy a home atmosphere with a private room and a private bath. Pool and hot tub are shared. There is a shared living room equipped with smart TV and Netflix to relax and watch TV or listen to music.</td> \n",
       "        <td id=\"T_070a3ff0_e922_11e8_8c53_f01898076315row0_col2\" class=\"data row0 col2\" >Colleyville</td> \n",
       "        <td id=\"T_070a3ff0_e922_11e8_8c53_f01898076315row0_col3\" class=\"data row0 col3\" >https://www.airbnb.com/rooms/19178212?location=Colleyville%2C%20TX</td> \n",
       "    </tr></tbody> \n",
       "</table> "
      ],
      "text/plain": [
       "<pandas.io.formats.style.Styler at 0x1a14ae0908>"
      ]
     },
     "metadata": {},
     "output_type": "display_data"
    },
    {
     "data": {
      "text/html": [
       "<style  type=\"text/css\" >\n",
       "</style>  \n",
       "<table id=\"T_070b0836_e922_11e8_aac4_f01898076315\" > \n",
       "<thead>    <tr> \n",
       "        <th class=\"blank level0\" ></th> \n",
       "        <th class=\"col_heading level0 col0\" >title</th> \n",
       "        <th class=\"col_heading level0 col1\" >description</th> \n",
       "        <th class=\"col_heading level0 col2\" >city</th> \n",
       "        <th class=\"col_heading level0 col3\" >url</th> \n",
       "    </tr></thead> \n",
       "<tbody>    <tr> \n",
       "        <th id=\"T_070b0836_e922_11e8_aac4_f01898076315level0_row0\" class=\"row_heading level0 row0\" >0</th> \n",
       "        <td id=\"T_070b0836_e922_11e8_aac4_f01898076315row0_col0\" class=\"data row0 col0\" >Brand New Home In Gated Community Near The Lake</td> \n",
       "        <td id=\"T_070b0836_e922_11e8_aac4_f01898076315row0_col1\" class=\"data row0 col1\" >YouÃ¢ÂÂll love our newly built home in a gated community, tucked away and walking distance from Lake Lewisville. It is conveniently located just miles away from Toyota Stadium, The Star, The Shops at Legacy (shopping &amp; dining), and just a 30min drive from both DFW &amp; Love Field Airports.\\n\\nIn addition to being gated; our home has a full security system.\\n\\nThe community pool is also available during the summer season.\\n\\nGreat for couples, solo adventurers, business travelers, and families (with kids).</td> \n",
       "        <td id=\"T_070b0836_e922_11e8_aac4_f01898076315row0_col2\" class=\"data row0 col2\" >Frisco</td> \n",
       "        <td id=\"T_070b0836_e922_11e8_aac4_f01898076315row0_col3\" class=\"data row0 col3\" >https://www.airbnb.com/rooms/17765765?location=Aubrey%2C%20TX</td> \n",
       "    </tr></tbody> \n",
       "</table> "
      ],
      "text/plain": [
       "<pandas.io.formats.style.Styler at 0x1a14b5c1d0>"
      ]
     },
     "metadata": {},
     "output_type": "display_data"
    },
    {
     "data": {
      "text/html": [
       "<style  type=\"text/css\" >\n",
       "</style>  \n",
       "<table id=\"T_070be4c2_e922_11e8_b08a_f01898076315\" > \n",
       "<thead>    <tr> \n",
       "        <th class=\"blank level0\" ></th> \n",
       "        <th class=\"col_heading level0 col0\" >title</th> \n",
       "        <th class=\"col_heading level0 col1\" >description</th> \n",
       "        <th class=\"col_heading level0 col2\" >city</th> \n",
       "        <th class=\"col_heading level0 col3\" >url</th> \n",
       "    </tr></thead> \n",
       "<tbody>    <tr> \n",
       "        <th id=\"T_070be4c2_e922_11e8_b08a_f01898076315level0_row0\" class=\"row_heading level0 row0\" >0</th> \n",
       "        <td id=\"T_070be4c2_e922_11e8_b08a_f01898076315row0_col0\" class=\"data row0 col0\" >Cozy private bedroom near DFW airport/ Las Colinas</td> \n",
       "        <td id=\"T_070be4c2_e922_11e8_b08a_f01898076315row0_col1\" class=\"data row0 col1\" >Our cozy 4 bedroom Home It is located in Las Colinas-Irving, 7 minutes from DFW Airport,and 5 minutes from the Irving Convention center,15 minutes from Lovefield Airport It's also, about 5 minutes from top-notch restaurants and country clubs and other venues. This beautiful 1 bedroom w/ shared bathroom with a comfy full bed and walk in closet, and mini fridge is ready for you with, You will love the location, and our big back yard where you can sit and relax. everything is a close Uber ride away</td> \n",
       "        <td id=\"T_070be4c2_e922_11e8_b08a_f01898076315row0_col2\" class=\"data row0 col2\" >Irving</td> \n",
       "        <td id=\"T_070be4c2_e922_11e8_b08a_f01898076315row0_col3\" class=\"data row0 col3\" >https://www.airbnb.com/rooms/17446786?location=Carrollton%2C%20TX</td> \n",
       "    </tr></tbody> \n",
       "</table> "
      ],
      "text/plain": [
       "<pandas.io.formats.style.Styler at 0x1a14b5c438>"
      ]
     },
     "metadata": {},
     "output_type": "display_data"
    },
    {
     "data": {
      "text/html": [
       "<style  type=\"text/css\" >\n",
       "</style>  \n",
       "<table id=\"T_070cba6e_e922_11e8_8863_f01898076315\" > \n",
       "<thead>    <tr> \n",
       "        <th class=\"blank level0\" ></th> \n",
       "        <th class=\"col_heading level0 col0\" >title</th> \n",
       "        <th class=\"col_heading level0 col1\" >description</th> \n",
       "        <th class=\"col_heading level0 col2\" >city</th> \n",
       "        <th class=\"col_heading level0 col3\" >url</th> \n",
       "    </tr></thead> \n",
       "<tbody>    <tr> \n",
       "        <th id=\"T_070cba6e_e922_11e8_8863_f01898076315level0_row0\" class=\"row_heading level0 row0\" >0</th> \n",
       "        <td id=\"T_070cba6e_e922_11e8_8863_f01898076315row0_col0\" class=\"data row0 col0\" >Clean private room with private bathroom! near IAH</td> \n",
       "        <td id=\"T_070cba6e_e922_11e8_8863_f01898076315row0_col1\" class=\"data row0 col1\" >Hi! We are a gay married couple with a spare bedroom for you. Our place is located close to George Bush Airport (10 minutes), so it is ideal for business people on a layover or leisure travelers for extended stay. Wi-fi /AC included. It has parking space for 1 car. We are located in a quiet neighborhood near to stores, highways and DeerBrook Mall.. We are 35 minutes away from Houston downtown. Supermarkets and restaurants are nearby as well.</td> \n",
       "        <td id=\"T_070cba6e_e922_11e8_8863_f01898076315row0_col2\" class=\"data row0 col2\" >Spring</td> \n",
       "        <td id=\"T_070cba6e_e922_11e8_8863_f01898076315row0_col3\" class=\"data row0 col3\" >https://www.airbnb.com/rooms/13109321?location=Cleveland%2C%20TX</td> \n",
       "    </tr></tbody> \n",
       "</table> "
      ],
      "text/plain": [
       "<pandas.io.formats.style.Styler at 0x1a14b5c978>"
      ]
     },
     "metadata": {},
     "output_type": "display_data"
    },
    {
     "data": {
      "text/html": [
       "<style  type=\"text/css\" >\n",
       "</style>  \n",
       "<table id=\"T_070d875a_e922_11e8_a39b_f01898076315\" > \n",
       "<thead>    <tr> \n",
       "        <th class=\"blank level0\" ></th> \n",
       "        <th class=\"col_heading level0 col0\" >title</th> \n",
       "        <th class=\"col_heading level0 col1\" >description</th> \n",
       "        <th class=\"col_heading level0 col2\" >city</th> \n",
       "        <th class=\"col_heading level0 col3\" >url</th> \n",
       "    </tr></thead> \n",
       "<tbody>    <tr> \n",
       "        <th id=\"T_070d875a_e922_11e8_a39b_f01898076315level0_row0\" class=\"row_heading level0 row0\" >0</th> \n",
       "        <td id=\"T_070d875a_e922_11e8_a39b_f01898076315row0_col0\" class=\"data row0 col0\" >Cozy private bedroom near DFW airport/ Las Colinas</td> \n",
       "        <td id=\"T_070d875a_e922_11e8_a39b_f01898076315row0_col1\" class=\"data row0 col1\" >Our cozy 4 bedroom Home It is located in Las Colinas-Irving, 7 minutes from DFW Airport,and 5 minutes from the Irving Convention center,15 minutes from Lovefield Airport It's also, about 5 minutes from top-notch restaurants and country clubs and other venues. This beautiful 1 bedroom w/ shared bathroom with a comfy full bed and walk in closet, and mini fridge is ready for you with, You will love the location, and our big back yard where you can sit and relax. everything is a close Uber ride away</td> \n",
       "        <td id=\"T_070d875a_e922_11e8_a39b_f01898076315row0_col2\" class=\"data row0 col2\" >Irving</td> \n",
       "        <td id=\"T_070d875a_e922_11e8_a39b_f01898076315row0_col3\" class=\"data row0 col3\" >https://www.airbnb.com/rooms/17446786?location=Colleyville%2C%20TX</td> \n",
       "    </tr></tbody> \n",
       "</table> "
      ],
      "text/plain": [
       "<pandas.io.formats.style.Styler at 0x1a14b5c198>"
      ]
     },
     "metadata": {},
     "output_type": "display_data"
    },
    {
     "data": {
      "text/html": [
       "<style  type=\"text/css\" >\n",
       "</style>  \n",
       "<table id=\"T_070e688c_e922_11e8_90f1_f01898076315\" > \n",
       "<thead>    <tr> \n",
       "        <th class=\"blank level0\" ></th> \n",
       "        <th class=\"col_heading level0 col0\" >title</th> \n",
       "        <th class=\"col_heading level0 col1\" >description</th> \n",
       "        <th class=\"col_heading level0 col2\" >city</th> \n",
       "        <th class=\"col_heading level0 col3\" >url</th> \n",
       "    </tr></thead> \n",
       "<tbody>    <tr> \n",
       "        <th id=\"T_070e688c_e922_11e8_90f1_f01898076315level0_row0\" class=\"row_heading level0 row0\" >0</th> \n",
       "        <td id=\"T_070e688c_e922_11e8_90f1_f01898076315row0_col0\" class=\"data row0 col0\" >The Enchanted Forest Near Austin</td> \n",
       "        <td id=\"T_070e688c_e922_11e8_90f1_f01898076315row0_col1\" class=\"data row0 col1\" >Our fabulous 3 bedroom, 2 bath rustic, home sits on 22 wooded acres with a pond, just minutes to the airport, Austin, South Congress (SoCo), 6th Street, SXSW, Circuit of the Americas (COA), Bastrop and a short drive to the Texas Hill Country!</td> \n",
       "        <td id=\"T_070e688c_e922_11e8_90f1_f01898076315row0_col2\" class=\"data row0 col2\" >Cedar Creek</td> \n",
       "        <td id=\"T_070e688c_e922_11e8_90f1_f01898076315row0_col3\" class=\"data row0 col3\" >https://www.airbnb.com/rooms/5863406?location=Bastrop%20County%2C%20TX</td> \n",
       "    </tr></tbody> \n",
       "</table> "
      ],
      "text/plain": [
       "<pandas.io.formats.style.Styler at 0x1a14b5c630>"
      ]
     },
     "metadata": {},
     "output_type": "display_data"
    },
    {
     "data": {
      "text/html": [
       "<style  type=\"text/css\" >\n",
       "</style>  \n",
       "<table id=\"T_070f4068_e922_11e8_a8c1_f01898076315\" > \n",
       "<thead>    <tr> \n",
       "        <th class=\"blank level0\" ></th> \n",
       "        <th class=\"col_heading level0 col0\" >title</th> \n",
       "        <th class=\"col_heading level0 col1\" >description</th> \n",
       "        <th class=\"col_heading level0 col2\" >city</th> \n",
       "        <th class=\"col_heading level0 col3\" >url</th> \n",
       "    </tr></thead> \n",
       "<tbody>    <tr> \n",
       "        <th id=\"T_070f4068_e922_11e8_a8c1_f01898076315level0_row0\" class=\"row_heading level0 row0\" >0</th> \n",
       "        <td id=\"T_070f4068_e922_11e8_a8c1_f01898076315row0_col0\" class=\"data row0 col0\" >Master room near SMU/Downtown/DLA AP/Train Station</td> \n",
       "        <td id=\"T_070f4068_e922_11e8_a8c1_f01898076315row0_col1\" class=\"data row0 col1\" >1 PRIVATE clean comfy Master bedroom and an en suite bathroom(Room 1) with 2 queen beds and towels and soaps. Free Wi-Fi. 24 hours free parking at right side of the road The house is near SMU &amp; Train Station LOVERS LANE walking distance is 10 min. Dallas Love Field airport is 15 min by car. DFW Airport can be reached by train. Downtown Dallas is 10 min by car &amp; 4 to 5 stops by train. A lot of Restaurants &amp; Bars at the Greenville Ave which one street away. It is classic quiet n safe neighborhood.</td> \n",
       "        <td id=\"T_070f4068_e922_11e8_a8c1_f01898076315row0_col2\" class=\"data row0 col2\" >Dallas</td> \n",
       "        <td id=\"T_070f4068_e922_11e8_a8c1_f01898076315row0_col3\" class=\"data row0 col3\" >https://www.airbnb.com/rooms/12186608?location=Carrollton%2C%20TX</td> \n",
       "    </tr></tbody> \n",
       "</table> "
      ],
      "text/plain": [
       "<pandas.io.formats.style.Styler at 0x1a14b5c1d0>"
      ]
     },
     "metadata": {},
     "output_type": "display_data"
    },
    {
     "data": {
      "text/html": [
       "<style  type=\"text/css\" >\n",
       "</style>  \n",
       "<table id=\"T_070ffa9e_e922_11e8_9d05_f01898076315\" > \n",
       "<thead>    <tr> \n",
       "        <th class=\"blank level0\" ></th> \n",
       "        <th class=\"col_heading level0 col0\" >title</th> \n",
       "        <th class=\"col_heading level0 col1\" >description</th> \n",
       "        <th class=\"col_heading level0 col2\" >city</th> \n",
       "        <th class=\"col_heading level0 col3\" >url</th> \n",
       "    </tr></thead> \n",
       "<tbody>    <tr> \n",
       "        <th id=\"T_070ffa9e_e922_11e8_9d05_f01898076315level0_row0\" class=\"row_heading level0 row0\" >0</th> \n",
       "        <td id=\"T_070ffa9e_e922_11e8_9d05_f01898076315row0_col0\" class=\"data row0 col0\" >Modern and Relaxing Condo Close to DFW Airport</td> \n",
       "        <td id=\"T_070ffa9e_e922_11e8_9d05_f01898076315row0_col1\" class=\"data row0 col1\" >This cozy modern condominium is located in a quiet gated community in Irving, minutes from DFW International Airport and 10 minutes from downtown Dallas. Conveniently located near major highways.</td> \n",
       "        <td id=\"T_070ffa9e_e922_11e8_9d05_f01898076315row0_col2\" class=\"data row0 col2\" >Irving</td> \n",
       "        <td id=\"T_070ffa9e_e922_11e8_9d05_f01898076315row0_col3\" class=\"data row0 col3\" >https://www.airbnb.com/rooms/18735283?location=Colleyville%2C%20TX</td> \n",
       "    </tr></tbody> \n",
       "</table> "
      ],
      "text/plain": [
       "<pandas.io.formats.style.Styler at 0x1a14b5c588>"
      ]
     },
     "metadata": {},
     "output_type": "display_data"
    },
    {
     "data": {
      "text/html": [
       "<style  type=\"text/css\" >\n",
       "</style>  \n",
       "<table id=\"T_0710e61e_e922_11e8_bf88_f01898076315\" > \n",
       "<thead>    <tr> \n",
       "        <th class=\"blank level0\" ></th> \n",
       "        <th class=\"col_heading level0 col0\" >title</th> \n",
       "        <th class=\"col_heading level0 col1\" >description</th> \n",
       "        <th class=\"col_heading level0 col2\" >city</th> \n",
       "        <th class=\"col_heading level0 col3\" >url</th> \n",
       "    </tr></thead> \n",
       "<tbody>    <tr> \n",
       "        <th id=\"T_0710e61e_e922_11e8_bf88_f01898076315level0_row0\" class=\"row_heading level0 row0\" >0</th> \n",
       "        <td id=\"T_0710e61e_e922_11e8_bf88_f01898076315row0_col0\" class=\"data row0 col0\" >COZY CONDO NEAR AIRPORT</td> \n",
       "        <td id=\"T_0710e61e_e922_11e8_bf88_f01898076315row0_col1\" class=\"data row0 col1\" >SWIMMING POOLS AND HOT TUBS, CONVENIENTLY LOCATED, EASY ACCESS TO AIRPORT AND DOWNTOWN, OVER 1000 SQ FT, 2 GUEST SUITES, MODERN KITCHEN, DINING TABLE SEATS 6, WIFI AND CABLE.</td> \n",
       "        <td id=\"T_0710e61e_e922_11e8_bf88_f01898076315row0_col2\" class=\"data row0 col2\" >San Antonio</td> \n",
       "        <td id=\"T_0710e61e_e922_11e8_bf88_f01898076315row0_col3\" class=\"data row0 col3\" >https://www.airbnb.com/rooms/7292240?location=Converse%2C%20TX</td> \n",
       "    </tr></tbody> \n",
       "</table> "
      ],
      "text/plain": [
       "<pandas.io.formats.style.Styler at 0x1a14ae03c8>"
      ]
     },
     "metadata": {},
     "output_type": "display_data"
    },
    {
     "data": {
      "text/html": [
       "<style  type=\"text/css\" >\n",
       "</style>  \n",
       "<table id=\"T_071192d2_e922_11e8_9bd1_f01898076315\" > \n",
       "<thead>    <tr> \n",
       "        <th class=\"blank level0\" ></th> \n",
       "        <th class=\"col_heading level0 col0\" >title</th> \n",
       "        <th class=\"col_heading level0 col1\" >description</th> \n",
       "        <th class=\"col_heading level0 col2\" >city</th> \n",
       "        <th class=\"col_heading level0 col3\" >url</th> \n",
       "    </tr></thead> \n",
       "<tbody>    <tr> \n",
       "        <th id=\"T_071192d2_e922_11e8_9bd1_f01898076315level0_row0\" class=\"row_heading level0 row0\" >0</th> \n",
       "        <td id=\"T_071192d2_e922_11e8_9bd1_f01898076315row0_col0\" class=\"data row0 col0\" >Master room near SMU/Downtown/DLA AP/Train Station</td> \n",
       "        <td id=\"T_071192d2_e922_11e8_9bd1_f01898076315row0_col1\" class=\"data row0 col1\" >1 PRIVATE clean comfy Master bedroom and an en suite bathroom(Room 1) with 2 queen beds and towels and soaps. Free Wi-Fi. 24 hours free parking at right side of the road The house is near SMU &amp; Train Station LOVERS LANE walking distance is 10 min. Dallas Love Field airport is 15 min by car. DFW Airport can be reached by train. Downtown Dallas is 10 min by car &amp; 4 to 5 stops by train. A lot of Restaurants &amp; Bars at the Greenville Ave which one street away. It is classic quiet n safe neighborhood.</td> \n",
       "        <td id=\"T_071192d2_e922_11e8_9bd1_f01898076315row0_col2\" class=\"data row0 col2\" >Dallas</td> \n",
       "        <td id=\"T_071192d2_e922_11e8_9bd1_f01898076315row0_col3\" class=\"data row0 col3\" >https://www.airbnb.com/rooms/12186608?location=Coppell%2C%20TX</td> \n",
       "    </tr></tbody> \n",
       "</table> "
      ],
      "text/plain": [
       "<pandas.io.formats.style.Styler at 0x1a14ae02e8>"
      ]
     },
     "metadata": {},
     "output_type": "display_data"
    },
    {
     "data": {
      "text/html": [
       "<style  type=\"text/css\" >\n",
       "</style>  \n",
       "<table id=\"T_07125962_e922_11e8_a479_f01898076315\" > \n",
       "<thead>    <tr> \n",
       "        <th class=\"blank level0\" ></th> \n",
       "        <th class=\"col_heading level0 col0\" >title</th> \n",
       "        <th class=\"col_heading level0 col1\" >description</th> \n",
       "        <th class=\"col_heading level0 col2\" >city</th> \n",
       "        <th class=\"col_heading level0 col3\" >url</th> \n",
       "    </tr></thead> \n",
       "<tbody>    <tr> \n",
       "        <th id=\"T_07125962_e922_11e8_a479_f01898076315level0_row0\" class=\"row_heading level0 row0\" >0</th> \n",
       "        <td id=\"T_07125962_e922_11e8_a479_f01898076315row0_col0\" class=\"data row0 col0\" >Boutique Style in Hip East Austin </td> \n",
       "        <td id=\"T_07125962_e922_11e8_a479_f01898076315row0_col1\" class=\"data row0 col1\" >Boutique style craftsman in the heart of East Austin. Just a few blocks away from the East 11th and East 6th districts. Very near downtown - a short walk or incredibly short car ride away. One of the best possible locations in Austin - close to the airport, in the middle of SXSW festivities, a short walk to the UT football and baseball stadiums, and just a stone's throw from cafes and nightlife.</td> \n",
       "        <td id=\"T_07125962_e922_11e8_a479_f01898076315row0_col2\" class=\"data row0 col2\" >Austin</td> \n",
       "        <td id=\"T_07125962_e922_11e8_a479_f01898076315row0_col3\" class=\"data row0 col3\" >https://www.airbnb.com/rooms/628034?location=Colorado%20River%2C%20TX</td> \n",
       "    </tr></tbody> \n",
       "</table> "
      ],
      "text/plain": [
       "<pandas.io.formats.style.Styler at 0x1a14ae08d0>"
      ]
     },
     "metadata": {},
     "output_type": "display_data"
    },
    {
     "data": {
      "text/html": [
       "<style  type=\"text/css\" >\n",
       "</style>  \n",
       "<table id=\"T_07132a98_e922_11e8_8867_f01898076315\" > \n",
       "<thead>    <tr> \n",
       "        <th class=\"blank level0\" ></th> \n",
       "        <th class=\"col_heading level0 col0\" >title</th> \n",
       "        <th class=\"col_heading level0 col1\" >description</th> \n",
       "        <th class=\"col_heading level0 col2\" >city</th> \n",
       "        <th class=\"col_heading level0 col3\" >url</th> \n",
       "    </tr></thead> \n",
       "<tbody>    <tr> \n",
       "        <th id=\"T_07132a98_e922_11e8_8867_f01898076315level0_row0\" class=\"row_heading level0 row0\" >0</th> \n",
       "        <td id=\"T_07132a98_e922_11e8_8867_f01898076315row0_col0\" class=\"data row0 col0\" >BREATHE DEEPLY A Cozy Austin Cabin</td> \n",
       "        <td id=\"T_07132a98_e922_11e8_8867_f01898076315row0_col1\" class=\"data row0 col1\" >A stone throw south of the Austin City Limits, this cabin is situated in 2.5 wooded acres. Luxurious and quiet. It is inhabited by deer, raccoon, rabbits, owls, lizards and butterflies. There is an old stone well filled by an aquifer (legend states the well was built by Ben McCullough; the civil war hero). A large back yard is used for walks, bonfires and golfing/batting balls. Lounge in the dappled sun on the patio near a running pond surrounded with gardens. Prepare a leisurely bar-b-que. Talk late into the night by the fire pit. \\n\\nThis 100+ yr old cabin has been revived and furnished with love. Time seems to stop while soaking in the deep old claw tub filled with endless hot spring water . Drifting to sleep, become aware of crackling in the wood burning stove, a train whistle and the trickling pond. Breakfast choices are street tacos or waffles...with pecans? \\n\\nIts possible you'll be tempted to stay all day. However, the center of Austin or San Marcos, with music, swimming, fishing and kayaking are just 15-25 minutes from this retreat. \\nSound like a fit for you? More info:\\nCircuit of the Americas is 18 miles through country roads. It is possible to attend this event and never enter Austin. A toll road will deliver you from the airport to the cabin and the event without the Austin traffic. Also close and south is an after race restaurant popular with race participants. \\n\\nNote for SXSW and other major events: Consider being in the crowds day and night then retreating by the fire at your quiet abode just 15 minutes south from all the ruckus of Central Austin. Invite your friends to hang with you and perhaps make your own music. Guests under 21 welcomed. \\n\\n\\nIncluded in price:\\nheating with wood burner &amp;/or electric heater. Host can prep the fire. Firewood complementary AC for the summer/fall plus ceiling fan\\nNO TV\\nwireless internet - fast\\nwasher/dryer available\\nclaw tub with shower\\nkitchen equipped with small refrigerator, toaster oven, small microwave, coffee maker\\nlarge BBQ pit available\\nof course all towels, quality cotton sheets, feathered quilt, pillows, utensils, dishes, cups, coffee, teas and toiletries are ready for you cleaning when requested. \\nup to 3 parking spaces\\n3 fire pits to lounge by\\nprivate patio\\n\\nExtra charges:\\ntransportation: Round trip transportation to the airport or elsewhere offered by host\\npublic bus stop 3 miles from the cabin, it is easy to grab a ride to the bus stop from the host- no charge.\\nweekend reservations are a minimum of 2 nights. If you can only stay 1 night, please ask about an exception so that I can attempt to make it work.\\n\\nGuest have exclusive access to the patio. You are welcome to wander all the grounds with the exception of course, of the private residence.\\nComing soon: a sauna is being converted into a cedar silo sauna.\\nFormula 1 rate includes stocked local wines and beer. Toll road to F1 is less that 2 miles from the cabin and provides a direct shot to the venue, without having to deal with Austin traffic. \\nWEDDING PACKAGE: Evening before and night of wedding. This facilitates hosting out of town guests the night before and the day of. (note weekends are a two night minimum. this generally is not practical for the newly weds.) However, the events prior to the big event serves as an informal staging area and a place for your guests who need a meet up, changing and rest area prior to the wedding. Before the bride and groom return from the wedding, host will tidy the cabin and light a fire and candles for their special arrival.\\n\\nI interact with guests as much as they want. Usually, an initial orientation to the cabin and grounds, then texting for the morning \\</td> \n",
       "        <td id=\"T_07132a98_e922_11e8_8867_f01898076315row0_col2\" class=\"data row0 col2\" >Manchaca</td> \n",
       "        <td id=\"T_07132a98_e922_11e8_8867_f01898076315row0_col3\" class=\"data row0 col3\" >https://www.airbnb.com/rooms/728502?location=Colorado%20River%2C%20TX</td> \n",
       "    </tr></tbody> \n",
       "</table> "
      ],
      "text/plain": [
       "<pandas.io.formats.style.Styler at 0x1a14a8e278>"
      ]
     },
     "metadata": {},
     "output_type": "display_data"
    },
    {
     "data": {
      "text/html": [
       "<style  type=\"text/css\" >\n",
       "</style>  \n",
       "<table id=\"T_0713f61c_e922_11e8_9603_f01898076315\" > \n",
       "<thead>    <tr> \n",
       "        <th class=\"blank level0\" ></th> \n",
       "        <th class=\"col_heading level0 col0\" >title</th> \n",
       "        <th class=\"col_heading level0 col1\" >description</th> \n",
       "        <th class=\"col_heading level0 col2\" >city</th> \n",
       "        <th class=\"col_heading level0 col3\" >url</th> \n",
       "    </tr></thead> \n",
       "<tbody>    <tr> \n",
       "        <th id=\"T_0713f61c_e922_11e8_9603_f01898076315level0_row0\" class=\"row_heading level0 row0\" >0</th> \n",
       "        <td id=\"T_0713f61c_e922_11e8_9603_f01898076315row0_col0\" class=\"data row0 col0\" >Spacious! Upstairs duplex 5 minutes from downtown!</td> \n",
       "        <td id=\"T_0713f61c_e922_11e8_9603_f01898076315row0_col1\" class=\"data row0 col1\" >1920's home turned duplex, in close proximity to Downtown, parks, museums, Zoo, military bases, Pearl, airport and more. A short walk to several restaurants, breakfast tacos too. This is an older house in a historic neighborhood with over 1,000 square feet. I am out of town a lot but my best friends live below and is the caretaker. There are 3 window units, two TVs with cable and TiVo; in living room and bedroom. Bonus: One covered parking space (more street parking near by).</td> \n",
       "        <td id=\"T_0713f61c_e922_11e8_9603_f01898076315row0_col2\" class=\"data row0 col2\" >San Antonio</td> \n",
       "        <td id=\"T_0713f61c_e922_11e8_9603_f01898076315row0_col3\" class=\"data row0 col3\" >https://www.airbnb.com/rooms/12407501?location=Alamo%20Heights%2C%20TX</td> \n",
       "    </tr></tbody> \n",
       "</table> "
      ],
      "text/plain": [
       "<pandas.io.formats.style.Styler at 0x1a14a8e0b8>"
      ]
     },
     "metadata": {},
     "output_type": "display_data"
    },
    {
     "data": {
      "text/html": [
       "<style  type=\"text/css\" >\n",
       "</style>  \n",
       "<table id=\"T_0714c178_e922_11e8_a9a1_f01898076315\" > \n",
       "<thead>    <tr> \n",
       "        <th class=\"blank level0\" ></th> \n",
       "        <th class=\"col_heading level0 col0\" >title</th> \n",
       "        <th class=\"col_heading level0 col1\" >description</th> \n",
       "        <th class=\"col_heading level0 col2\" >city</th> \n",
       "        <th class=\"col_heading level0 col3\" >url</th> \n",
       "    </tr></thead> \n",
       "<tbody>    <tr> \n",
       "        <th id=\"T_0714c178_e922_11e8_a9a1_f01898076315level0_row0\" class=\"row_heading level0 row0\" >0</th> \n",
       "        <td id=\"T_0714c178_e922_11e8_a9a1_f01898076315row0_col0\" class=\"data row0 col0\" >Premium Room at Home near DFW & LoveField Airport</td> \n",
       "        <td id=\"T_0714c178_e922_11e8_a9a1_f01898076315row0_col1\" class=\"data row0 col1\" >Well maintained room and bathroom. House is situated on corner lot. Extended covered patio with fenced backyard. Kitchen has plenty of counter top space. Neighborhood features includes park area. \\n\\nYou will love staying in my home, it's a 10 minute drive from the DFW airport. Irving is right in the center of Dallas so drive to Downtown or anywhere is a breeze. Neighborhood is safe and quiet.\\n\\nMy place is great for Business Travelers, solo adventures and for couples.</td> \n",
       "        <td id=\"T_0714c178_e922_11e8_a9a1_f01898076315row0_col2\" class=\"data row0 col2\" >Irving</td> \n",
       "        <td id=\"T_0714c178_e922_11e8_a9a1_f01898076315row0_col3\" class=\"data row0 col3\" >https://www.airbnb.com/rooms/18910781?location=Carrollton%2C%20TX</td> \n",
       "    </tr></tbody> \n",
       "</table> "
      ],
      "text/plain": [
       "<pandas.io.formats.style.Styler at 0x1a14a8e7f0>"
      ]
     },
     "metadata": {},
     "output_type": "display_data"
    },
    {
     "data": {
      "text/html": [
       "<style  type=\"text/css\" >\n",
       "</style>  \n",
       "<table id=\"T_07158fae_e922_11e8_9791_f01898076315\" > \n",
       "<thead>    <tr> \n",
       "        <th class=\"blank level0\" ></th> \n",
       "        <th class=\"col_heading level0 col0\" >title</th> \n",
       "        <th class=\"col_heading level0 col1\" >description</th> \n",
       "        <th class=\"col_heading level0 col2\" >city</th> \n",
       "        <th class=\"col_heading level0 col3\" >url</th> \n",
       "    </tr></thead> \n",
       "<tbody>    <tr> \n",
       "        <th id=\"T_07158fae_e922_11e8_9791_f01898076315level0_row0\" class=\"row_heading level0 row0\" >0</th> \n",
       "        <td id=\"T_07158fae_e922_11e8_9791_f01898076315row0_col0\" class=\"data row0 col0\" >Private bed/bath near DFW+DAL airports & Galleria</td> \n",
       "        <td id=\"T_07158fae_e922_11e8_9791_f01898076315row0_col1\" class=\"data row0 col1\" >Room #2 - Private Bed/Bath close to DFW International Airport, Dallas Love Field (DAL) Airport, Irving Convention Center, Galleria Mall, North Park Mall, Downtown Dallas, Uptown Dallas, Las Colinas, Grapevine Mills Outlet Mall. YouÃ¢ÂÂll love the high ceilings, the coziness, the cleanliness, brand new home, quiet, jogging/biking/walking trails nearby, man made lake/river/canals nearby, scenic and peaceful. My place is good for couples, solo adventurers, business travelers, and families (with kids).</td> \n",
       "        <td id=\"T_07158fae_e922_11e8_9791_f01898076315row0_col2\" class=\"data row0 col2\" >Irving</td> \n",
       "        <td id=\"T_07158fae_e922_11e8_9791_f01898076315row0_col3\" class=\"data row0 col3\" >https://www.airbnb.com/rooms/17189405?location=Colleyville%2C%20TX</td> \n",
       "    </tr></tbody> \n",
       "</table> "
      ],
      "text/plain": [
       "<pandas.io.formats.style.Styler at 0x1a14a8e550>"
      ]
     },
     "metadata": {},
     "output_type": "display_data"
    },
    {
     "data": {
      "text/html": [
       "<style  type=\"text/css\" >\n",
       "</style>  \n",
       "<table id=\"T_071639ae_e922_11e8_9172_f01898076315\" > \n",
       "<thead>    <tr> \n",
       "        <th class=\"blank level0\" ></th> \n",
       "        <th class=\"col_heading level0 col0\" >title</th> \n",
       "        <th class=\"col_heading level0 col1\" >description</th> \n",
       "        <th class=\"col_heading level0 col2\" >city</th> \n",
       "        <th class=\"col_heading level0 col3\" >url</th> \n",
       "    </tr></thead> \n",
       "<tbody>    <tr> \n",
       "        <th id=\"T_071639ae_e922_11e8_9172_f01898076315level0_row0\" class=\"row_heading level0 row0\" >0</th> \n",
       "        <td id=\"T_071639ae_e922_11e8_9172_f01898076315row0_col0\" class=\"data row0 col0\" >Spacious 1 Bedroom Apt - Arlington, TX</td> \n",
       "        <td id=\"T_071639ae_e922_11e8_9172_f01898076315row0_col1\" class=\"data row0 col1\" >My apartment complex is very peaceful &amp; quiet, a couple steps from the pool &amp; you can't beat the lush greenery in the surrounding area, it's amazing!\\n\\nGreat places to eat locally! Near grocery stores and scenic parks including River Legacy Park. Other local attractions include the Ranger's Stadium, AT&amp;T/ Cowboys Stadium, 6 Flags over Texas &amp; Hurricane Harbor.\\n\\nAbout 25 minutes to either Downtown Dallas or Downtown Fort Worth and both major airports.</td> \n",
       "        <td id=\"T_071639ae_e922_11e8_9172_f01898076315row0_col2\" class=\"data row0 col2\" >Arlington</td> \n",
       "        <td id=\"T_071639ae_e922_11e8_9172_f01898076315row0_col3\" class=\"data row0 col3\" >https://www.airbnb.com/rooms/14969320?location=Arlington%2C%20TX</td> \n",
       "    </tr></tbody> \n",
       "</table> "
      ],
      "text/plain": [
       "<pandas.io.formats.style.Styler at 0x1a14ae0dd8>"
      ]
     },
     "metadata": {},
     "output_type": "display_data"
    },
    {
     "data": {
      "text/html": [
       "<style  type=\"text/css\" >\n",
       "</style>  \n",
       "<table id=\"T_0717010c_e922_11e8_adc7_f01898076315\" > \n",
       "<thead>    <tr> \n",
       "        <th class=\"blank level0\" ></th> \n",
       "        <th class=\"col_heading level0 col0\" >title</th> \n",
       "        <th class=\"col_heading level0 col1\" >description</th> \n",
       "        <th class=\"col_heading level0 col2\" >city</th> \n",
       "        <th class=\"col_heading level0 col3\" >url</th> \n",
       "    </tr></thead> \n",
       "<tbody>    <tr> \n",
       "        <th id=\"T_0717010c_e922_11e8_adc7_f01898076315level0_row0\" class=\"row_heading level0 row0\" >0</th> \n",
       "        <td id=\"T_0717010c_e922_11e8_adc7_f01898076315row0_col0\" class=\"data row0 col0\" >COZY. BY. DESIGN, City Studio</td> \n",
       "        <td id=\"T_0717010c_e922_11e8_adc7_f01898076315row0_col1\" class=\"data row0 col1\" >Sweet Location! Near fabulous shopping and restaurants. Only 7 miles to Downtown. Trendy Studio Apartment with access to our community pool &amp; gym. Direct access to public transportation. Easy commute to airport. Central location. Don't have the dates you need? Check out: https://www.airbnb.com/rooms/12274983</td> \n",
       "        <td id=\"T_0717010c_e922_11e8_adc7_f01898076315row0_col2\" class=\"data row0 col2\" >Dallas</td> \n",
       "        <td id=\"T_0717010c_e922_11e8_adc7_f01898076315row0_col3\" class=\"data row0 col3\" >https://www.airbnb.com/rooms/13659593?location=Addison%2C%20TX</td> \n",
       "    </tr></tbody> \n",
       "</table> "
      ],
      "text/plain": [
       "<pandas.io.formats.style.Styler at 0x1a14ae0ac8>"
      ]
     },
     "metadata": {},
     "output_type": "display_data"
    },
    {
     "data": {
      "text/html": [
       "<style  type=\"text/css\" >\n",
       "</style>  \n",
       "<table id=\"T_0717d298_e922_11e8_93ae_f01898076315\" > \n",
       "<thead>    <tr> \n",
       "        <th class=\"blank level0\" ></th> \n",
       "        <th class=\"col_heading level0 col0\" >title</th> \n",
       "        <th class=\"col_heading level0 col1\" >description</th> \n",
       "        <th class=\"col_heading level0 col2\" >city</th> \n",
       "        <th class=\"col_heading level0 col3\" >url</th> \n",
       "    </tr></thead> \n",
       "<tbody>    <tr> \n",
       "        <th id=\"T_0717d298_e922_11e8_93ae_f01898076315level0_row0\" class=\"row_heading level0 row0\" >0</th> \n",
       "        <td id=\"T_0717d298_e922_11e8_93ae_f01898076315row0_col0\" class=\"data row0 col0\" >cozy apt near airports</td> \n",
       "        <td id=\"T_0717d298_e922_11e8_93ae_f01898076315row0_col1\" class=\"data row0 col1\" >My place is close to both the DFW and Love Field airports. They're both about a 15 minute drive away (depending on the Dallas traffic, of course.) \\n\\nYouÃ¢ÂÂll love my place because of the ambiance, the outdoor space, the natural light, and the neighborhood. It's located across from the Las Colinas Country Club and the Four Seasons resort. It's nice, quiet, and just a 20 minute drive to downtown Dallas. My place is good for couples, solo adventurers, and business travelers.</td> \n",
       "        <td id=\"T_0717d298_e922_11e8_93ae_f01898076315row0_col2\" class=\"data row0 col2\" >Irving</td> \n",
       "        <td id=\"T_0717d298_e922_11e8_93ae_f01898076315row0_col3\" class=\"data row0 col3\" >https://www.airbnb.com/rooms/13256966?location=Colleyville%2C%20TX</td> \n",
       "    </tr></tbody> \n",
       "</table> "
      ],
      "text/plain": [
       "<pandas.io.formats.style.Styler at 0x1a148b9c50>"
      ]
     },
     "metadata": {},
     "output_type": "display_data"
    },
    {
     "data": {
      "text/html": [
       "<style  type=\"text/css\" >\n",
       "</style>  \n",
       "<table id=\"T_0718a7fa_e922_11e8_93d8_f01898076315\" > \n",
       "<thead>    <tr> \n",
       "        <th class=\"blank level0\" ></th> \n",
       "        <th class=\"col_heading level0 col0\" >title</th> \n",
       "        <th class=\"col_heading level0 col1\" >description</th> \n",
       "        <th class=\"col_heading level0 col2\" >city</th> \n",
       "        <th class=\"col_heading level0 col3\" >url</th> \n",
       "    </tr></thead> \n",
       "<tbody>    <tr> \n",
       "        <th id=\"T_0718a7fa_e922_11e8_93d8_f01898076315level0_row0\" class=\"row_heading level0 row0\" >0</th> \n",
       "        <td id=\"T_0718a7fa_e922_11e8_93d8_f01898076315row0_col0\" class=\"data row0 col0\" >Master room near SMU/Downtown/DLA AP/Train Station</td> \n",
       "        <td id=\"T_0718a7fa_e922_11e8_93d8_f01898076315row0_col1\" class=\"data row0 col1\" >1 PRIVATE clean comfy Master bedroom and an en suite bathroom(Room 1) with 2 queen beds and towels and soaps. Free Wi-Fi. 24 hours free parking at right side of the road The house is near SMU &amp; Train Station LOVERS LANE walking distance is 10 min. Dallas Love Field airport is 15 min by car. DFW Airport can be reached by train. Downtown Dallas is 10 min by car &amp; 4 to 5 stops by train. A lot of Restaurants &amp; Bars at the Greenville Ave which one street away. It is classic quiet n safe neighborhood.</td> \n",
       "        <td id=\"T_0718a7fa_e922_11e8_93d8_f01898076315row0_col2\" class=\"data row0 col2\" >Dallas</td> \n",
       "        <td id=\"T_0718a7fa_e922_11e8_93d8_f01898076315row0_col3\" class=\"data row0 col3\" >https://www.airbnb.com/rooms/12186608?location=Arlington%2C%20TX</td> \n",
       "    </tr></tbody> \n",
       "</table> "
      ],
      "text/plain": [
       "<pandas.io.formats.style.Styler at 0x1a14ae0518>"
      ]
     },
     "metadata": {},
     "output_type": "display_data"
    },
    {
     "data": {
      "text/html": [
       "<style  type=\"text/css\" >\n",
       "</style>  \n",
       "<table id=\"T_071963e2_e922_11e8_b830_f01898076315\" > \n",
       "<thead>    <tr> \n",
       "        <th class=\"blank level0\" ></th> \n",
       "        <th class=\"col_heading level0 col0\" >title</th> \n",
       "        <th class=\"col_heading level0 col1\" >description</th> \n",
       "        <th class=\"col_heading level0 col2\" >city</th> \n",
       "        <th class=\"col_heading level0 col3\" >url</th> \n",
       "    </tr></thead> \n",
       "<tbody>    <tr> \n",
       "        <th id=\"T_071963e2_e922_11e8_b830_f01898076315level0_row0\" class=\"row_heading level0 row0\" >0</th> \n",
       "        <td id=\"T_071963e2_e922_11e8_b830_f01898076315row0_col0\" class=\"data row0 col0\" >Stunning Studio Apartment w/ full size kitchen!</td> \n",
       "        <td id=\"T_071963e2_e922_11e8_b830_f01898076315row0_col1\" class=\"data row0 col1\" >Stunning mother-in-law quarters offers privacy and luxury hotel feel. \\nMy place is close to Hobby Airport, downtown, the medical center, stadiums and convention centers. \\nOffers easy freeway access and HOV entrance near by. \\nParking on the left side of the driveway allows for a single car. \\nPerfect place for couples, individuals and business travelers.</td> \n",
       "        <td id=\"T_071963e2_e922_11e8_b830_f01898076315row0_col2\" class=\"data row0 col2\" >Houston</td> \n",
       "        <td id=\"T_071963e2_e922_11e8_b830_f01898076315row0_col3\" class=\"data row0 col3\" >https://www.airbnb.com/rooms/14936818?location=Baytown%2C%20TX</td> \n",
       "    </tr></tbody> \n",
       "</table> "
      ],
      "text/plain": [
       "<pandas.io.formats.style.Styler at 0x1a14b5c0f0>"
      ]
     },
     "metadata": {},
     "output_type": "display_data"
    },
    {
     "data": {
      "text/html": [
       "<style  type=\"text/css\" >\n",
       "</style>  \n",
       "<table id=\"T_071a2302_e922_11e8_b13d_f01898076315\" > \n",
       "<thead>    <tr> \n",
       "        <th class=\"blank level0\" ></th> \n",
       "        <th class=\"col_heading level0 col0\" >title</th> \n",
       "        <th class=\"col_heading level0 col1\" >description</th> \n",
       "        <th class=\"col_heading level0 col2\" >city</th> \n",
       "        <th class=\"col_heading level0 col3\" >url</th> \n",
       "    </tr></thead> \n",
       "<tbody>    <tr> \n",
       "        <th id=\"T_071a2302_e922_11e8_b13d_f01898076315level0_row0\" class=\"row_heading level0 row0\" >0</th> \n",
       "        <td id=\"T_071a2302_e922_11e8_b13d_f01898076315row0_col0\" class=\"data row0 col0\" >Cozy private room near DFW airport</td> \n",
       "        <td id=\"T_071a2302_e922_11e8_b13d_f01898076315row0_col1\" class=\"data row0 col1\" >We are located about 10- 15 minutes from DFW airport in a lovely, quiet neighborhood. The room is private with a queen size bed. We have two lovable labradors named Newton and Phoebe. We look forward to meeting you!\\nTons to Do CLOSE!!!</td> \n",
       "        <td id=\"T_071a2302_e922_11e8_b13d_f01898076315row0_col2\" class=\"data row0 col2\" >Bedford</td> \n",
       "        <td id=\"T_071a2302_e922_11e8_b13d_f01898076315row0_col3\" class=\"data row0 col3\" >https://www.airbnb.com/rooms/10772812?location=Bedford%2C%20TX</td> \n",
       "    </tr></tbody> \n",
       "</table> "
      ],
      "text/plain": [
       "<pandas.io.formats.style.Styler at 0x1a14b5c470>"
      ]
     },
     "metadata": {},
     "output_type": "display_data"
    },
    {
     "data": {
      "text/html": [
       "<style  type=\"text/css\" >\n",
       "</style>  \n",
       "<table id=\"T_071afeda_e922_11e8_a383_f01898076315\" > \n",
       "<thead>    <tr> \n",
       "        <th class=\"blank level0\" ></th> \n",
       "        <th class=\"col_heading level0 col0\" >title</th> \n",
       "        <th class=\"col_heading level0 col1\" >description</th> \n",
       "        <th class=\"col_heading level0 col2\" >city</th> \n",
       "        <th class=\"col_heading level0 col3\" >url</th> \n",
       "    </tr></thead> \n",
       "<tbody>    <tr> \n",
       "        <th id=\"T_071afeda_e922_11e8_a383_f01898076315level0_row0\" class=\"row_heading level0 row0\" >0</th> \n",
       "        <td id=\"T_071afeda_e922_11e8_a383_f01898076315row0_col0\" class=\"data row0 col0\" >Cozy Queen Bedroom</td> \n",
       "        <td id=\"T_071afeda_e922_11e8_a383_f01898076315row0_col1\" class=\"data row0 col1\" >Clean comfortable bedroom with house privileges conveniently located near Dallas. Arlington and other popular destinations within the Dallas-Fort Worth metroplex are easily accessible from here. DFW and Love Field airports are only minutes away. The room has an adjoining bathroom in this spacious and well appointed home.</td> \n",
       "        <td id=\"T_071afeda_e922_11e8_a383_f01898076315row0_col2\" class=\"data row0 col2\" >Irving</td> \n",
       "        <td id=\"T_071afeda_e922_11e8_a383_f01898076315row0_col3\" class=\"data row0 col3\" >https://www.airbnb.com/rooms/4340603?location=Coppell%2C%20TX</td> \n",
       "    </tr></tbody> \n",
       "</table> "
      ],
      "text/plain": [
       "<pandas.io.formats.style.Styler at 0x1a14b5c9e8>"
      ]
     },
     "metadata": {},
     "output_type": "display_data"
    },
    {
     "data": {
      "text/html": [
       "<style  type=\"text/css\" >\n",
       "</style>  \n",
       "<table id=\"T_071bfe98_e922_11e8_8a7d_f01898076315\" > \n",
       "<thead>    <tr> \n",
       "        <th class=\"blank level0\" ></th> \n",
       "        <th class=\"col_heading level0 col0\" >title</th> \n",
       "        <th class=\"col_heading level0 col1\" >description</th> \n",
       "        <th class=\"col_heading level0 col2\" >city</th> \n",
       "        <th class=\"col_heading level0 col3\" >url</th> \n",
       "    </tr></thead> \n",
       "<tbody>    <tr> \n",
       "        <th id=\"T_071bfe98_e922_11e8_8a7d_f01898076315level0_row0\" class=\"row_heading level0 row0\" >0</th> \n",
       "        <td id=\"T_071bfe98_e922_11e8_8a7d_f01898076315row0_col0\" class=\"data row0 col0\" >Luxury apt, near Galleria</td> \n",
       "        <td id=\"T_071bfe98_e922_11e8_8a7d_f01898076315row0_col1\" class=\"data row0 col1\" >My place is close to the Galleria, Reliant Stadium, NRG, public transport, the airport, City Center and parks. YouÃ¢ÂÂll love my place because of the neighborhood, ambiance, outdoors space, and the people. My place is good for couples, solo adventurers, business travelers, families (with kids), and big groups.</td> \n",
       "        <td id=\"T_071bfe98_e922_11e8_8a7d_f01898076315row0_col2\" class=\"data row0 col2\" >Houston</td> \n",
       "        <td id=\"T_071bfe98_e922_11e8_8a7d_f01898076315row0_col3\" class=\"data row0 col3\" >https://www.airbnb.com/rooms/16262709?location=Bellaire%2C%20TX</td> \n",
       "    </tr></tbody> \n",
       "</table> "
      ],
      "text/plain": [
       "<pandas.io.formats.style.Styler at 0x1a14ae0278>"
      ]
     },
     "metadata": {},
     "output_type": "display_data"
    },
    {
     "data": {
      "text/html": [
       "<style  type=\"text/css\" >\n",
       "</style>  \n",
       "<table id=\"T_071ce928_e922_11e8_8703_f01898076315\" > \n",
       "<thead>    <tr> \n",
       "        <th class=\"blank level0\" ></th> \n",
       "        <th class=\"col_heading level0 col0\" >title</th> \n",
       "        <th class=\"col_heading level0 col1\" >description</th> \n",
       "        <th class=\"col_heading level0 col2\" >city</th> \n",
       "        <th class=\"col_heading level0 col3\" >url</th> \n",
       "    </tr></thead> \n",
       "<tbody>    <tr> \n",
       "        <th id=\"T_071ce928_e922_11e8_8703_f01898076315level0_row0\" class=\"row_heading level0 row0\" >0</th> \n",
       "        <td id=\"T_071ce928_e922_11e8_8703_f01898076315row0_col0\" class=\"data row0 col0\" >Private studio! \"The Ivy\" Queen Bed/Full Bath</td> \n",
       "        <td id=\"T_071ce928_e922_11e8_8703_f01898076315row0_col1\" class=\"data row0 col1\" >Howdy! Welcome to Richmond, Texas! \\nPrivate entrance, small studio. **Ask me where the key is!**\\n-WIFI/Small Flat Screen TV-9572 channels/Small Fridge/Microwave\\n-Full bathroom with shower/no bathtub.\\n-Relax, visit the ponds and green wooded areas, take a walk!\\n\\n-Distances:\\n*55 miles-Airport IAH Bush \\n*30 miles-Hobby Airport\\n*31 miles-Medical Center (Houston) &amp; The Galleria\\n*16 miles- SugarLand \\n*15 miles- Katy Mills Mall near I10 Freeway.</td> \n",
       "        <td id=\"T_071ce928_e922_11e8_8703_f01898076315row0_col2\" class=\"data row0 col2\" >Richmond</td> \n",
       "        <td id=\"T_071ce928_e922_11e8_8703_f01898076315row0_col3\" class=\"data row0 col3\" >https://www.airbnb.com/rooms/8327181?location=Beasley%2C%20TX</td> \n",
       "    </tr></tbody> \n",
       "</table> "
      ],
      "text/plain": [
       "<pandas.io.formats.style.Styler at 0x1a14ae0f60>"
      ]
     },
     "metadata": {},
     "output_type": "display_data"
    },
    {
     "data": {
      "text/html": [
       "<style  type=\"text/css\" >\n",
       "</style>  \n",
       "<table id=\"T_071dd95c_e922_11e8_aea2_f01898076315\" > \n",
       "<thead>    <tr> \n",
       "        <th class=\"blank level0\" ></th> \n",
       "        <th class=\"col_heading level0 col0\" >title</th> \n",
       "        <th class=\"col_heading level0 col1\" >description</th> \n",
       "        <th class=\"col_heading level0 col2\" >city</th> \n",
       "        <th class=\"col_heading level0 col3\" >url</th> \n",
       "    </tr></thead> \n",
       "<tbody>    <tr> \n",
       "        <th id=\"T_071dd95c_e922_11e8_aea2_f01898076315level0_row0\" class=\"row_heading level0 row0\" >0</th> \n",
       "        <td id=\"T_071dd95c_e922_11e8_aea2_f01898076315row0_col0\" class=\"data row0 col0\" >Spacious Room Near Ft. Sam, Randolph and Airport.</td> \n",
       "        <td id=\"T_071dd95c_e922_11e8_aea2_f01898076315row0_col1\" class=\"data row0 col1\" >Just north the busy street of Walzem and where you can find everything to include San Antonio's IN-N-OUT, this house is a brand new 3 bedroom, 2.5 bathroom in the perfect location. The inner 410 loop and I-35 junction is literally a straight shot west with easy access to both and only 5 miles from Randolph and 7 miles from Fort Sam Houston and 8 miles from the San Antonio Airport.</td> \n",
       "        <td id=\"T_071dd95c_e922_11e8_aea2_f01898076315row0_col2\" class=\"data row0 col2\" >San Antonio</td> \n",
       "        <td id=\"T_071dd95c_e922_11e8_aea2_f01898076315row0_col3\" class=\"data row0 col3\" >https://www.airbnb.com/rooms/16568668?location=Converse%2C%20TX</td> \n",
       "    </tr></tbody> \n",
       "</table> "
      ],
      "text/plain": [
       "<pandas.io.formats.style.Styler at 0x1a14ae0860>"
      ]
     },
     "metadata": {},
     "output_type": "display_data"
    },
    {
     "data": {
      "text/html": [
       "<style  type=\"text/css\" >\n",
       "</style>  \n",
       "<table id=\"T_071ec074_e922_11e8_8e54_f01898076315\" > \n",
       "<thead>    <tr> \n",
       "        <th class=\"blank level0\" ></th> \n",
       "        <th class=\"col_heading level0 col0\" >title</th> \n",
       "        <th class=\"col_heading level0 col1\" >description</th> \n",
       "        <th class=\"col_heading level0 col2\" >city</th> \n",
       "        <th class=\"col_heading level0 col3\" >url</th> \n",
       "    </tr></thead> \n",
       "<tbody>    <tr> \n",
       "        <th id=\"T_071ec074_e922_11e8_8e54_f01898076315level0_row0\" class=\"row_heading level0 row0\" >0</th> \n",
       "        <td id=\"T_071ec074_e922_11e8_8e54_f01898076315row0_col0\" class=\"data row0 col0\" >One bedroom near DFW Airport</td> \n",
       "        <td id=\"T_071ec074_e922_11e8_8e54_f01898076315row0_col1\" class=\"data row0 col1\" >Cozy, modern day living. Located near Trinity river park. Uber is easily accessible. This place is sure to feel like home .\\nOne closet will be closed.</td> \n",
       "        <td id=\"T_071ec074_e922_11e8_8e54_f01898076315row0_col2\" class=\"data row0 col2\" >Fort Worth</td> \n",
       "        <td id=\"T_071ec074_e922_11e8_8e54_f01898076315row0_col3\" class=\"data row0 col3\" >https://www.airbnb.com/rooms/17946627?location=Bedford%2C%20TX</td> \n",
       "    </tr></tbody> \n",
       "</table> "
      ],
      "text/plain": [
       "<pandas.io.formats.style.Styler at 0x1a14a8e320>"
      ]
     },
     "metadata": {},
     "output_type": "display_data"
    },
    {
     "data": {
      "text/html": [
       "<style  type=\"text/css\" >\n",
       "</style>  \n",
       "<table id=\"T_071f951c_e922_11e8_b5fa_f01898076315\" > \n",
       "<thead>    <tr> \n",
       "        <th class=\"blank level0\" ></th> \n",
       "        <th class=\"col_heading level0 col0\" >title</th> \n",
       "        <th class=\"col_heading level0 col1\" >description</th> \n",
       "        <th class=\"col_heading level0 col2\" >city</th> \n",
       "        <th class=\"col_heading level0 col3\" >url</th> \n",
       "    </tr></thead> \n",
       "<tbody>    <tr> \n",
       "        <th id=\"T_071f951c_e922_11e8_b5fa_f01898076315level0_row0\" class=\"row_heading level0 row0\" >0</th> \n",
       "        <td id=\"T_071f951c_e922_11e8_b5fa_f01898076315row0_col0\" class=\"data row0 col0\" >GuestNest! w/QueenBed, ALL Essentials Amazon Alexa</td> \n",
       "        <td id=\"T_071f951c_e922_11e8_b5fa_f01898076315row0_col1\" class=\"data row0 col1\" >Guest's Nest is a private bedroom in a two-story home. My guests stay upstairs. The location is very convenient - we are near every major highway in DFW. The home is near restaurants, grocery stores, running trails and minutes to DFW airport.</td> \n",
       "        <td id=\"T_071f951c_e922_11e8_b5fa_f01898076315row0_col2\" class=\"data row0 col2\" >Irving</td> \n",
       "        <td id=\"T_071f951c_e922_11e8_b5fa_f01898076315row0_col3\" class=\"data row0 col3\" >https://www.airbnb.com/rooms/16769188?location=Carrollton%2C%20TX</td> \n",
       "    </tr></tbody> \n",
       "</table> "
      ],
      "text/plain": [
       "<pandas.io.formats.style.Styler at 0x1a14a85d68>"
      ]
     },
     "metadata": {},
     "output_type": "display_data"
    },
    {
     "data": {
      "text/html": [
       "<style  type=\"text/css\" >\n",
       "</style>  \n",
       "<table id=\"T_07206d66_e922_11e8_857a_f01898076315\" > \n",
       "<thead>    <tr> \n",
       "        <th class=\"blank level0\" ></th> \n",
       "        <th class=\"col_heading level0 col0\" >title</th> \n",
       "        <th class=\"col_heading level0 col1\" >description</th> \n",
       "        <th class=\"col_heading level0 col2\" >city</th> \n",
       "        <th class=\"col_heading level0 col3\" >url</th> \n",
       "    </tr></thead> \n",
       "<tbody>    <tr> \n",
       "        <th id=\"T_07206d66_e922_11e8_857a_f01898076315level0_row0\" class=\"row_heading level0 row0\" >0</th> \n",
       "        <td id=\"T_07206d66_e922_11e8_857a_f01898076315row0_col0\" class=\"data row0 col0\" >Modern Craftsman in Hot East Austin</td> \n",
       "        <td id=\"T_07206d66_e922_11e8_857a_f01898076315row0_col1\" class=\"data row0 col1\" >Newly built Craftsman in the heart of East Austin.\\n\\nJust a few blocks away from the East 6th district. One of the best possible locations in Austin - close to the airport, in the middle of SXSW festivities, very near downtown, and just blocks away from bars and nightlife.</td> \n",
       "        <td id=\"T_07206d66_e922_11e8_857a_f01898076315row0_col2\" class=\"data row0 col2\" >Austin</td> \n",
       "        <td id=\"T_07206d66_e922_11e8_857a_f01898076315row0_col3\" class=\"data row0 col3\" >https://www.airbnb.com/rooms/1213690?location=Brazos%20River%2C%20TX</td> \n",
       "    </tr></tbody> \n",
       "</table> "
      ],
      "text/plain": [
       "<pandas.io.formats.style.Styler at 0x1a14a85e80>"
      ]
     },
     "metadata": {},
     "output_type": "display_data"
    },
    {
     "data": {
      "text/html": [
       "<style  type=\"text/css\" >\n",
       "</style>  \n",
       "<table id=\"T_07213ab6_e922_11e8_baf7_f01898076315\" > \n",
       "<thead>    <tr> \n",
       "        <th class=\"blank level0\" ></th> \n",
       "        <th class=\"col_heading level0 col0\" >title</th> \n",
       "        <th class=\"col_heading level0 col1\" >description</th> \n",
       "        <th class=\"col_heading level0 col2\" >city</th> \n",
       "        <th class=\"col_heading level0 col3\" >url</th> \n",
       "    </tr></thead> \n",
       "<tbody>    <tr> \n",
       "        <th id=\"T_07213ab6_e922_11e8_baf7_f01898076315level0_row0\" class=\"row_heading level0 row0\" >0</th> \n",
       "        <td id=\"T_07213ab6_e922_11e8_baf7_f01898076315row0_col0\" class=\"data row0 col0\" >Elmtopia</td> \n",
       "        <td id=\"T_07213ab6_e922_11e8_baf7_f01898076315row0_col1\" class=\"data row0 col1\" >Elmtopia is located minutes from Hobby airport and is only 10 miles away from NRG stadium, which is about a 15 minute drive. It is near the inner loop and right off I-45 which places you 15 minutes to downtown Houston, and midtown. Modern 3 bedroom home with a nice backyard space complete with a patio, BBQ pit, and outdoor seating.</td> \n",
       "        <td id=\"T_07213ab6_e922_11e8_baf7_f01898076315row0_col2\" class=\"data row0 col2\" >Houston</td> \n",
       "        <td id=\"T_07213ab6_e922_11e8_baf7_f01898076315row0_col3\" class=\"data row0 col3\" >https://www.airbnb.com/rooms/15026479?location=Channelview%2C%20TX</td> \n",
       "    </tr></tbody> \n",
       "</table> "
      ],
      "text/plain": [
       "<pandas.io.formats.style.Styler at 0x1a14a8e4e0>"
      ]
     },
     "metadata": {},
     "output_type": "display_data"
    },
    {
     "data": {
      "text/html": [
       "<style  type=\"text/css\" >\n",
       "</style>  \n",
       "<table id=\"T_0721f852_e922_11e8_98e2_f01898076315\" > \n",
       "<thead>    <tr> \n",
       "        <th class=\"blank level0\" ></th> \n",
       "        <th class=\"col_heading level0 col0\" >title</th> \n",
       "        <th class=\"col_heading level0 col1\" >description</th> \n",
       "        <th class=\"col_heading level0 col2\" >city</th> \n",
       "        <th class=\"col_heading level0 col3\" >url</th> \n",
       "    </tr></thead> \n",
       "<tbody>    <tr> \n",
       "        <th id=\"T_0721f852_e922_11e8_98e2_f01898076315level0_row0\" class=\"row_heading level0 row0\" >0</th> \n",
       "        <td id=\"T_0721f852_e922_11e8_98e2_f01898076315row0_col0\" class=\"data row0 col0\" >Comfortable Family Home near IAH</td> \n",
       "        <td id=\"T_0721f852_e922_11e8_98e2_f01898076315row0_col1\" class=\"data row0 col1\" >Hi! Our house is tucked away at the end of a quiet cul-de-sac and is 20 minute easy drive to Houston Intercontinental Airport. We have easy access to Kingwood's great greenbelts for walking and running. We are a busy family with two kids and three wonderful dogs, but our house is your house when you stay with us! You'll have your own private bedroom (upstairs) and a full bath (downstairs). A second private bedroom with an air mattress is available for larger parties.</td> \n",
       "        <td id=\"T_0721f852_e922_11e8_98e2_f01898076315row0_col2\" class=\"data row0 col2\" >Houston</td> \n",
       "        <td id=\"T_0721f852_e922_11e8_98e2_f01898076315row0_col3\" class=\"data row0 col3\" >https://www.airbnb.com/rooms/14555472?location=Cleveland%2C%20TX</td> \n",
       "    </tr></tbody> \n",
       "</table> "
      ],
      "text/plain": [
       "<pandas.io.formats.style.Styler at 0x1a14a8e550>"
      ]
     },
     "metadata": {},
     "output_type": "display_data"
    },
    {
     "data": {
      "text/html": [
       "<style  type=\"text/css\" >\n",
       "</style>  \n",
       "<table id=\"T_0722d198_e922_11e8_96ec_f01898076315\" > \n",
       "<thead>    <tr> \n",
       "        <th class=\"blank level0\" ></th> \n",
       "        <th class=\"col_heading level0 col0\" >title</th> \n",
       "        <th class=\"col_heading level0 col1\" >description</th> \n",
       "        <th class=\"col_heading level0 col2\" >city</th> \n",
       "        <th class=\"col_heading level0 col3\" >url</th> \n",
       "    </tr></thead> \n",
       "<tbody>    <tr> \n",
       "        <th id=\"T_0722d198_e922_11e8_96ec_f01898076315level0_row0\" class=\"row_heading level0 row0\" >0</th> \n",
       "        <td id=\"T_0722d198_e922_11e8_96ec_f01898076315row0_col0\" class=\"data row0 col0\" >Private Apartment Room in DFW-Irving</td> \n",
       "        <td id=\"T_0722d198_e922_11e8_96ec_f01898076315row0_col1\" class=\"data row0 col1\" >Near to DFW Airport just 15 mins away.</td> \n",
       "        <td id=\"T_0722d198_e922_11e8_96ec_f01898076315row0_col2\" class=\"data row0 col2\" >Irving</td> \n",
       "        <td id=\"T_0722d198_e922_11e8_96ec_f01898076315row0_col3\" class=\"data row0 col3\" >https://www.airbnb.com/rooms/18413397?location=Coppell%2C%20TX</td> \n",
       "    </tr></tbody> \n",
       "</table> "
      ],
      "text/plain": [
       "<pandas.io.formats.style.Styler at 0x1a14a8ec18>"
      ]
     },
     "metadata": {},
     "output_type": "display_data"
    },
    {
     "data": {
      "text/html": [
       "<style  type=\"text/css\" >\n",
       "</style>  \n",
       "<table id=\"T_0723991e_e922_11e8_889d_f01898076315\" > \n",
       "<thead>    <tr> \n",
       "        <th class=\"blank level0\" ></th> \n",
       "        <th class=\"col_heading level0 col0\" >title</th> \n",
       "        <th class=\"col_heading level0 col1\" >description</th> \n",
       "        <th class=\"col_heading level0 col2\" >city</th> \n",
       "        <th class=\"col_heading level0 col3\" >url</th> \n",
       "    </tr></thead> \n",
       "<tbody>    <tr> \n",
       "        <th id=\"T_0723991e_e922_11e8_889d_f01898076315level0_row0\" class=\"row_heading level0 row0\" >0</th> \n",
       "        <td id=\"T_0723991e_e922_11e8_889d_f01898076315row0_col0\" class=\"data row0 col0\" >Vacation Home Away From Home close to Airport</td> \n",
       "        <td id=\"T_0723991e_e922_11e8_889d_f01898076315row0_col1\" class=\"data row0 col1\" >Hotel luxury with the comforts of home. Great location, near airport and easy to get to major highways, yet tucked away in a quiet and gated neighborhood. The house is next door to a wooded area of a city park and will likely see many deer. There is also a green belt behind the house where you will see deer also.</td> \n",
       "        <td id=\"T_0723991e_e922_11e8_889d_f01898076315row0_col2\" class=\"data row0 col2\" >San Antonio</td> \n",
       "        <td id=\"T_0723991e_e922_11e8_889d_f01898076315row0_col3\" class=\"data row0 col3\" >https://www.airbnb.com/rooms/18312783?location=Converse%2C%20TX</td> \n",
       "    </tr></tbody> \n",
       "</table> "
      ],
      "text/plain": [
       "<pandas.io.formats.style.Styler at 0x1a14ae0ac8>"
      ]
     },
     "metadata": {},
     "output_type": "display_data"
    },
    {
     "data": {
      "text/html": [
       "<style  type=\"text/css\" >\n",
       "</style>  \n",
       "<table id=\"T_07245e6c_e922_11e8_aa87_f01898076315\" > \n",
       "<thead>    <tr> \n",
       "        <th class=\"blank level0\" ></th> \n",
       "        <th class=\"col_heading level0 col0\" >title</th> \n",
       "        <th class=\"col_heading level0 col1\" >description</th> \n",
       "        <th class=\"col_heading level0 col2\" >city</th> \n",
       "        <th class=\"col_heading level0 col3\" >url</th> \n",
       "    </tr></thead> \n",
       "<tbody>    <tr> \n",
       "        <th id=\"T_07245e6c_e922_11e8_aa87_f01898076315level0_row0\" class=\"row_heading level0 row0\" >0</th> \n",
       "        <td id=\"T_07245e6c_e922_11e8_aa87_f01898076315row0_col0\" class=\"data row0 col0\" >beautiful house near dfw airport</td> \n",
       "        <td id=\"T_07245e6c_e922_11e8_aa87_f01898076315row0_col1\" class=\"data row0 col1\" >ideal location- across the street from the train, 15 mins from the airport, and right between dallas and fort worth so you can get the best of both worlds! \\n\\n7 mins from large shopping mall, tons of restaurants, walmart, etc.</td> \n",
       "        <td id=\"T_07245e6c_e922_11e8_aa87_f01898076315row0_col2\" class=\"data row0 col2\" >Hurst</td> \n",
       "        <td id=\"T_07245e6c_e922_11e8_aa87_f01898076315row0_col3\" class=\"data row0 col3\" >https://www.airbnb.com/rooms/2350635?location=Bedford%2C%20TX</td> \n",
       "    </tr></tbody> \n",
       "</table> "
      ],
      "text/plain": [
       "<pandas.io.formats.style.Styler at 0x1a14ae00b8>"
      ]
     },
     "metadata": {},
     "output_type": "display_data"
    },
    {
     "data": {
      "text/html": [
       "<style  type=\"text/css\" >\n",
       "</style>  \n",
       "<table id=\"T_07254cbe_e922_11e8_b647_f01898076315\" > \n",
       "<thead>    <tr> \n",
       "        <th class=\"blank level0\" ></th> \n",
       "        <th class=\"col_heading level0 col0\" >title</th> \n",
       "        <th class=\"col_heading level0 col1\" >description</th> \n",
       "        <th class=\"col_heading level0 col2\" >city</th> \n",
       "        <th class=\"col_heading level0 col3\" >url</th> \n",
       "    </tr></thead> \n",
       "<tbody>    <tr> \n",
       "        <th id=\"T_07254cbe_e922_11e8_b647_f01898076315level0_row0\" class=\"row_heading level0 row0\" >0</th> \n",
       "        <td id=\"T_07254cbe_e922_11e8_b647_f01898076315row0_col0\" class=\"data row0 col0\" >Peaceful Cul-de-sac near SPID 358</td> \n",
       "        <td id=\"T_07254cbe_e922_11e8_b647_f01898076315row0_col1\" class=\"data row0 col1\" >Simple, clean and convenient! Good vibes throughout the home. Perfect for couples, solo adventurers and business travelers. Only 6 miles to North Padre Island, 10 miles to downtown Corpus Christi, 14 miles to CRP airport, 1.4 miles to NAS CC South Gate, 0.3 miles to S.P.I.D. Hwy 358 for an easy commute. Walking distance to Walmart, Subway, tacos, seafood &amp; chicken fried steak.</td> \n",
       "        <td id=\"T_07254cbe_e922_11e8_b647_f01898076315row0_col2\" class=\"data row0 col2\" >Corpus Christi</td> \n",
       "        <td id=\"T_07254cbe_e922_11e8_b647_f01898076315row0_col3\" class=\"data row0 col3\" >https://www.airbnb.com/rooms/15831994?location=Aransas%20Pass%2C%20TX</td> \n",
       "    </tr></tbody> \n",
       "</table> "
      ],
      "text/plain": [
       "<pandas.io.formats.style.Styler at 0x1a14b5c978>"
      ]
     },
     "metadata": {},
     "output_type": "display_data"
    }
   ],
   "source": [
    "for file in intersection:\n",
    "    file = read(file)\n",
    "    \n",
    "    result = file[[\"title\",\"description\",\"city\",\"url\"]]\n",
    "    display(result.style)\n",
    "    #print(result.to_html())"
   ]
  },
  {
   "cell_type": "markdown",
   "metadata": {},
   "source": [
    "## 3.2 Conjunctive query & Ranking score"
   ]
  },
  {
   "cell_type": "markdown",
   "metadata": {},
   "source": [
    "### TF"
   ]
  },
  {
   "cell_type": "code",
   "execution_count": 36,
   "metadata": {},
   "outputs": [],
   "source": [
    "#new dictionary for_doc where for every doc, I have all the words (of descr and title) in just one list.\n",
    "for_doc = {}\n",
    "for i in range(len(rentals_file)):\n",
    "    \n",
    "    name_d = \"files/doc_\" + str(i) +\".tsv\"\n",
    "    df = read(name_d)\n",
    "    clean_d = all_col(df) #pulisce e restituisce diz: ad ogni colonna, lista di parole\n",
    "    filtered_d = filter_keys(clean_d) #dizionario con 2 chiavi: title e description\n",
    "    k_values = []\n",
    "    for key in filtered_d:\n",
    "        v = filtered_d.get(key)\n",
    "        k_values = k_values + v \n",
    "        \n",
    "    for_doc[name_d] = k_values\n",
    "    \n",
    "    "
   ]
  },
  {
   "cell_type": "code",
   "execution_count": 37,
   "metadata": {},
   "outputs": [],
   "source": [
    "list_words = list(vocabulary.keys())"
   ]
  },
  {
   "cell_type": "code",
   "execution_count": 38,
   "metadata": {},
   "outputs": [],
   "source": [
    "doc_names = []\n",
    "for i in range(len(rentals_file)):\n",
    "    name_doc = \"files/doc_\" + str(i) +\".tsv\"\n",
    "    \n",
    "    doc_names.append(name_doc)"
   ]
  },
  {
   "cell_type": "code",
   "execution_count": 39,
   "metadata": {},
   "outputs": [],
   "source": [
    "N = len(doc_names)"
   ]
  },
  {
   "cell_type": "code",
   "execution_count": 62,
   "metadata": {},
   "outputs": [],
   "source": [
    "#dic TF_dic, where for every doc, I have the list of TF values\n",
    "#I'm consdiering for every doc ALL the words possibile, because then we have to compute the dot product between\n",
    "#IDF vector and TF VECTOR ofr each doc\n",
    "\n",
    "TF_dic = {}\n",
    "for doc in for_doc:\n",
    "    doc_list = for_doc.get(doc)\n",
    "    TF_doc = []\n",
    "    for word in list_words:\n",
    "        freq_word = doc_list.count(word) \n",
    "        TF = freq_word/ float(len(doc_list))\n",
    "        TF_doc.append(TF)\n",
    "    TF_dic[doc] = TF_doc\n",
    "    "
   ]
  },
  {
   "cell_type": "markdown",
   "metadata": {},
   "source": [
    "### inverted index (?)"
   ]
  },
  {
   "cell_type": "code",
   "execution_count": 41,
   "metadata": {},
   "outputs": [
    {
     "ename": "KeyboardInterrupt",
     "evalue": "",
     "output_type": "error",
     "traceback": [
      "\u001b[0;31m---------------------------------------------------------------------------\u001b[0m",
      "\u001b[0;31mKeyboardInterrupt\u001b[0m                         Traceback (most recent call last)",
      "\u001b[0;32m<ipython-input-41-215f5edfc783>\u001b[0m in \u001b[0;36m<module>\u001b[0;34m()\u001b[0m\n\u001b[1;32m     13\u001b[0m         \u001b[0mTFIDF\u001b[0m \u001b[0;34m=\u001b[0m \u001b[0mTF\u001b[0m \u001b[0;34m*\u001b[0m \u001b[0mIDF\u001b[0m\u001b[0;34m\u001b[0m\u001b[0m\n\u001b[1;32m     14\u001b[0m         \u001b[0mindex\u001b[0m \u001b[0;34m=\u001b[0m \u001b[0mindexing\u001b[0m\u001b[0;34m[\u001b[0m\u001b[0mword\u001b[0m\u001b[0;34m]\u001b[0m\u001b[0;34m\u001b[0m\u001b[0m\n\u001b[0;32m---> 15\u001b[0;31m         \u001b[0;32mif\u001b[0m \u001b[0mindex\u001b[0m \u001b[0;32mnot\u001b[0m \u001b[0;32min\u001b[0m \u001b[0minv_index2\u001b[0m\u001b[0;34m.\u001b[0m\u001b[0mkeys\u001b[0m\u001b[0;34m(\u001b[0m\u001b[0;34m)\u001b[0m\u001b[0;34m:\u001b[0m\u001b[0;34m\u001b[0m\u001b[0m\n\u001b[0m\u001b[1;32m     16\u001b[0m             \u001b[0minv_index2\u001b[0m\u001b[0;34m[\u001b[0m\u001b[0mindex\u001b[0m\u001b[0;34m]\u001b[0m \u001b[0;34m=\u001b[0m \u001b[0;34m[\u001b[0m\u001b[0;34m(\u001b[0m\u001b[0mdoc\u001b[0m\u001b[0;34m,\u001b[0m \u001b[0mTFIDF\u001b[0m\u001b[0;34m)\u001b[0m\u001b[0;34m]\u001b[0m\u001b[0;34m\u001b[0m\u001b[0m\n\u001b[1;32m     17\u001b[0m         \u001b[0;32melse\u001b[0m\u001b[0;34m:\u001b[0m\u001b[0;34m\u001b[0m\u001b[0m\n",
      "\u001b[0;31mKeyboardInterrupt\u001b[0m: "
     ]
    }
   ],
   "source": [
    "inv_index2 = {}\n",
    "for doc in for_doc:\n",
    "    doc_list = for_doc.get(doc)\n",
    "    \n",
    "    for word in list_words:\n",
    "        freq_word = doc_list.count(word) \n",
    "        TF = freq_word/ float(len(doc_list))\n",
    "        IDF = math.log((float(N)) / len(vocabulary[word]))\n",
    "        TFIDF = TF * IDF\n",
    "        index = indexing[word]\n",
    "        if index not in inv_index2.keys():\n",
    "            inv_index2[index] = [(doc, TFIDF)]\n",
    "        else:\n",
    "            inv_index2[index].append([(doc, TFIDF)])"
   ]
  },
  {
   "cell_type": "markdown",
   "metadata": {},
   "source": [
    "### IDF"
   ]
  },
  {
   "cell_type": "code",
   "execution_count": 65,
   "metadata": {},
   "outputs": [],
   "source": [
    "doc_names = []\n",
    "for i in range(len(rentals_file)):\n",
    "    name_doc = \"files/doc_\" + str(i) +\".tsv\"\n",
    "    \n",
    "    doc_names.append(name_doc)"
   ]
  },
  {
   "cell_type": "code",
   "execution_count": 66,
   "metadata": {},
   "outputs": [],
   "source": [
    "N = len(doc_names)"
   ]
  },
  {
   "cell_type": "code",
   "execution_count": 67,
   "metadata": {},
   "outputs": [],
   "source": [
    "#for every word, I have the IDF\n",
    "dicIDF = {}\n",
    "for word in vocabulary:\n",
    "    l = vocabulary.get(word)\n",
    "    l = set(l)\n",
    "    n_docs = len(l)\n",
    "    if n_docs > 0:\n",
    "        idf = math.log((float(N)) / n_docs)\n",
    "    else:\n",
    "        idf = 0\n",
    "    dicIDF[word] = idf\n",
    "    "
   ]
  },
  {
   "cell_type": "code",
   "execution_count": 68,
   "metadata": {},
   "outputs": [],
   "source": [
    "IDF_list = list(dicIDF.values())"
   ]
  },
  {
   "cell_type": "code",
   "execution_count": 69,
   "metadata": {},
   "outputs": [],
   "source": [
    "IDF_vec = np.asarray(IDF_list)"
   ]
  },
  {
   "cell_type": "markdown",
   "metadata": {},
   "source": [
    "### TFIDF"
   ]
  },
  {
   "cell_type": "code",
   "execution_count": 70,
   "metadata": {},
   "outputs": [],
   "source": [
    "#now we have a dic where for every doc, we have the array with TFIDF values\n",
    "\n",
    "TFIDF_dic = {}\n",
    "for doc in TF_dic:\n",
    "    TF_vec = np.asarray(TF_dic[doc])\n",
    "    TFIDF_vec = TF_vec * IDF_vec\n",
    "    \n",
    "    TFIDF_dic[doc] = TFIDF_vec"
   ]
  },
  {
   "cell_type": "markdown",
   "metadata": {},
   "source": [
    "### 3.2.2 Execute the query"
   ]
  },
  {
   "cell_type": "code",
   "execution_count": 73,
   "metadata": {},
   "outputs": [
    {
     "name": "stdout",
     "output_type": "stream",
     "text": [
      "near to the airport\n"
     ]
    }
   ],
   "source": [
    "query = user_query()"
   ]
  },
  {
   "cell_type": "code",
   "execution_count": 74,
   "metadata": {},
   "outputs": [
    {
     "data": {
      "text/plain": [
       "['near', 'airport']"
      ]
     },
     "execution_count": 74,
     "metadata": {},
     "output_type": "execute_result"
    }
   ],
   "source": [
    "query"
   ]
  },
  {
   "cell_type": "code",
   "execution_count": 75,
   "metadata": {},
   "outputs": [],
   "source": [
    "TF_query = []\n",
    "for word in list_words:\n",
    "    freq_word = query.count(word) \n",
    "    TF = freq_word/ float(len(query))\n",
    "    TF_query.append(TF)\n"
   ]
  },
  {
   "cell_type": "code",
   "execution_count": 76,
   "metadata": {},
   "outputs": [],
   "source": [
    "TFIDF_query = np.asarray(TF_query) * np.asarray(IDF_list)"
   ]
  },
  {
   "cell_type": "code",
   "execution_count": 77,
   "metadata": {},
   "outputs": [
    {
     "data": {
      "text/plain": [
       "array([0., 0., 0., ..., 0., 0., 0.])"
      ]
     },
     "execution_count": 77,
     "metadata": {},
     "output_type": "execute_result"
    }
   ],
   "source": [
    "TFIDF_query"
   ]
  },
  {
   "cell_type": "code",
   "execution_count": 79,
   "metadata": {},
   "outputs": [],
   "source": [
    "for doc in TF_dic:\n",
    "    TF_arr = np.asarray(TF_dic[doc])"
   ]
  },
  {
   "cell_type": "code",
   "execution_count": 56,
   "metadata": {},
   "outputs": [
    {
     "data": {
      "text/plain": [
       "array([[1.]])"
      ]
     },
     "execution_count": 56,
     "metadata": {},
     "output_type": "execute_result"
    }
   ],
   "source": [
    "sklearn.metrics.pairwise.cosine_similarity(2,3)"
   ]
  },
  {
   "cell_type": "code",
   "execution_count": null,
   "metadata": {},
   "outputs": [],
   "source": []
  }
 ],
 "metadata": {
  "kernelspec": {
   "display_name": "Python 3",
   "language": "python",
   "name": "python3"
  },
  "language_info": {
   "codemirror_mode": {
    "name": "ipython",
    "version": 3
   },
   "file_extension": ".py",
   "mimetype": "text/x-python",
   "name": "python",
   "nbconvert_exporter": "python",
   "pygments_lexer": "ipython3",
   "version": "3.6.5"
  }
 },
 "nbformat": 4,
 "nbformat_minor": 2
}
